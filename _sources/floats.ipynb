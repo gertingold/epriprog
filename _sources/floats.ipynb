{
 "cells": [
  {
   "cell_type": "markdown",
   "id": "a5154d26",
   "metadata": {},
   "source": [
    "(anhang_floats)=\n",
    "# Anhang: 64-Bit-Gleitkommazahlen nach IEEE-Standard 754\n",
    "\n",
    "In diesem Anhang soll kurz die Binärdarstellung von 64-Bit-Gleitkommazahlen\n",
    "nach dem [IEEE Standard for Floating-Point Arithmetic IEEE Std\n",
    "754–2008](http://dx.doi.org/10.1109/IEEESTD.2008.4610935) vorgestellt werden.\n",
    "Dabei handelt es sich nur um einen sehr kleinen Ausschnitt dieses Standards,\n",
    "der noch weitere Gleitkommazahlenformate sowie deren arithmetische Verarbeitung\n",
    "definiert.\n",
    "\n",
    "Wie in der folgenden Abbildung zu sehen ist, besteht eine 64-Bit-Gleitkommazahl aus drei\n",
    "Anteilen: 1 Bit für das Vorzeichen, 11 Bits aus denen der Exponent bestimmt wird, sowie\n",
    "52 Bits aus denen sich die Mantisse ergibt. Im zweiten und dritten Segment steht das \n",
    "höchstwertigste Bit (MSB – `most significant bit`) jeweils links und das niederwertigste \n",
    "Bit (LSB – `least significant bit`) rechts.\n",
    "\n",
    "```{figure} images/ieee754/ieee754_64.png\n",
    "---\n",
    "height: 4cm\n",
    "name: fig:ieee754\n",
    "---\n",
    "64-Bit-Gleitkommazahl nach IEEE-Standard 754.\n",
    "```\n",
    "\n",
    "Die Interpretation der 64 Bits hängt vom Wert des Exponenten E ab, der als Integer zu\n",
    "verstehen ist und damit Werte zwischen $0$ und $2^{11}-1$ annehmen kann. \n",
    "\n",
    "Wir beginnen mit dem häufigsten Fall, dass E ungleich $0$ und ungleich\n",
    "$2^{11}-1$ ist, also einen Wert zwischen $1$ und $2^{11}-2$ besitzt.\n",
    "In diesem Fall liegt eine so genannte normalisierte Zahl vor, für die die 64\n",
    "Bits in folgender Weise zu interpretieren sind. Ist das Vorzeichenbit gleich 0,\n",
    "so handelt es sich um eine positive Zahl, andernfalls um eine negative Zahl. Um\n",
    "den tatsächlichen Exponenten zu erhalten, muss man von E den Wert\n",
    "$2^{10}-1=1023$ abziehen. Damit resultiert im Binärsystem ein Faktor, der\n",
    "zwischen $2^{-1022}$ und $2^{1023}$ liegt. Die Mantisse ist als\n",
    "Nachkommaanteil im Binärsystem zu interpretieren, wobei implizit eine führende\n",
    "$1$ vor dem Komma steht. \n",
    "\n",
    "Ein Beispiel soll diese Kodierung verdeutlichen. Konkret sehen wir uns die Zahl\n",
    "$-25{,}640625$ an, die wir mit Hilfe von Python in die gewünschte Codierung\n",
    "umrechnen lassen können. Anschließend werden wir uns umgekehrt überlegen, dass\n",
    "die Interpretation der Hexadezimaldarstellung tatsächlich die Ausgangszahl ergibt."
   ]
  },
  {
   "cell_type": "code",
   "execution_count": 1,
   "id": "e8830fb2",
   "metadata": {},
   "outputs": [
    {
     "data": {
      "text/plain": [
       "'c039a40000000000'"
      ]
     },
     "execution_count": 1,
     "metadata": {},
     "output_type": "execute_result"
    }
   ],
   "source": [
    "from struct import pack\n",
    "pack('>d', -25.640625).hex()"
   ]
  },
  {
   "cell_type": "markdown",
   "id": "8c0d09c1",
   "metadata": {},
   "source": [
    "{numref}`fig:ieee_example` zeigt die entsprechenden Bits des Vorzeichens, des\n",
    "Exponenten und der Mantisse, die farblich unterschiedlich hinterlegt sind.\n",
    "\n",
    "```{figure} images/ieee754/ieee_example.png\n",
    "---\n",
    "name: fig:ieee_example\n",
    "---\n",
    "Bitweise Darstellung der Zahl $-25{,}640625$ nach dem IEEE-Standard 754. Das Vorzeichenbit,\n",
    "die Bits des Exponenten und die Bits der Mantisse sind farblich orange, grün bzw.\n",
    "violett hinterlegt.\n",
    "```\n",
    "\n",
    "````{margin}\n",
    "```{admonition} Hinweis\n",
    "Die Funktionsweise des Dualsystems ist in {numref}`dualsystem` beschrieben.\n",
    "```\n",
    "````\n",
    "\n",
    "Das erste, orange hinterlegte Bit gibt an, dass es sich um eine negative Zahl handelt.\n",
    "Die folgenden 11 Bit ergeben\n",
    "\n",
    "$$2^{10}+2^1+2^0 = 1027\\,.$$\n",
    "\n",
    "Subtrahiert man $1023$, so ergibt sich für die kodierte Zahl ein Faktor\n",
    "$2^4=16$. Die restlichen Bits ergeben die Mantisse mit dem Wert\n",
    "\n",
    "$$2^{-1}+2^{-4}+2^{-5}+2^{-7}+2^{-10} = 0{,}6025390625\\,.$$\n",
    "\n",
    "Berücksichtigt man die führende implizite Eins bei normalisierten Zahlen, so\n",
    "ergibt sich insgesamt $-16\\times 1{,}6025390625 = -25{,}640625\\,.$\n",
    "\n",
    "Falls der Exponent E seinen Maximalwert, für 64-Bit-Gleitkommazahlen also 2047,\n",
    "annimmt, hängt die Interpretation vom Mantissenfeld ab. Enthält dieses den Wert\n",
    "Null, so ist die Zahl unter Berücksichtigung des Vorzeichenbits als +∞ oder -∞\n",
    "zu interpretieren. Ist das Mantissenfeld dagegen ungleich Null, so ergibt sich\n",
    "der Wert NaN (Not a Number).\n",
    "\n",
    "Hat der Exponent E seinen Minimalwert Null und ist zugleich die Mantisse T\n",
    "gleich Null, so liegt je nach Wert des Vorzeichenbits die Zahl 0 oder -0 vor.\n",
    "Ist dagegen die Mantisse T von Null verschieden, so hat man es mit einer so\n",
    "genannten denormalisierten Zahl zu tun. Denormalisierte Zahlen wurden\n",
    "eingeführt, weil der Minimalwert einer normalisierten 64-Bit-Gleitkommazahl\n",
    "betragsmäßig gleich $2^{-1022}\\approx 2,225\\cdot 10^{-308}$ ist. Zwischen\n",
    "dieser Zahl und Null existiert somit eine Lücke, die man im Rahmen der\n",
    "Möglichkeiten einer 64-Bit-Gleitkommazahl zu füllen versucht. Im Gegensatz zu\n",
    "normalisierten Zahlen, bei denen eine implizite Eins vor den Nachkommaanteil zu\n",
    "setzen war, steht bei denormalisierten Zahlen vor dem Komma eine Null. Da damit\n",
    "der sich aus dem Mantissenfeld ergebende Faktor kleiner als Eins ist, eröffnet\n",
    "sich die Möglichkeit Zahlen darzustellen, die kleiner als die kleinst mögliche\n",
    "normalisierte Zahl sind. Allerdings geht dies auf Kosten der Anzahl\n",
    "signifikanter Ziffern, die bei denormalisierten Zahlen kleiner ist als bei\n",
    "normalisierten Zahlen. Damit die denormalisierten Zahlen nahtlos an die\n",
    "normalisierten Zahlen anschließen, ist der sich normalerweise aus dem\n",
    "Exponentenfeld ergebende Faktor gleich dem kleinsten Faktor für normalisierte\n",
    "Zahlen, also $2^{1-1023} = 2^{-1022}$.\n",
    "\n",
    "Wir charakterisieren abschließend die 64-Bit-Gleitkommazahlen durch einige ihrer\n",
    "Eigenschaften. Die kleinste darstellbare Zahl größer als Null ist \n",
    "$2^{-1022}\\times 2^{-52} = 2^{-1074} \\approx 4,941\\cdot 10^{-324}$.\n",
    "Die größte darstellbare endliche Zahl ist\n",
    "\n",
    "$$2^{1023}\\times\\big(1+(1-2^{-52})\\big) \\approx 1{,}798\\cdot 10^{308}\\,.$$"
   ]
  },
  {
   "cell_type": "code",
   "execution_count": 2,
   "id": "23680d57",
   "metadata": {},
   "outputs": [
    {
     "data": {
      "text/plain": [
       "1.7976931348623157e+308"
      ]
     },
     "execution_count": 2,
     "metadata": {},
     "output_type": "execute_result"
    }
   ],
   "source": [
    "import sys\n",
    "sys.float_info.max"
   ]
  },
  {
   "cell_type": "markdown",
   "id": "6b72e52c",
   "metadata": {},
   "source": [
    "Der Abstand zwischen der Zahl Eins und der nächst größeren\n",
    "darstellbaren Zahl beträgt\n",
    "\n",
    "$$2^{-52} \\approx 2{,}22\\cdot 10^{-16}\\,.$$"
   ]
  },
  {
   "cell_type": "code",
   "execution_count": 3,
   "id": "2b7b07e9",
   "metadata": {},
   "outputs": [
    {
     "data": {
      "text/plain": [
       "2.220446049250313e-16"
      ]
     },
     "execution_count": 3,
     "metadata": {},
     "output_type": "execute_result"
    }
   ],
   "source": [
    "sys.float_info.epsilon"
   ]
  },
  {
   "cell_type": "markdown",
   "id": "907c6340",
   "metadata": {},
   "source": [
    "Mit ``sys.float_info.min`` erhält man nicht die kleinste überhaupt darstellbare Zahl,\n",
    "sondern die kleinste darstellbare normalisierte Zahl {math}`2^{-1022}`."
   ]
  },
  {
   "cell_type": "code",
   "execution_count": 4,
   "id": "c0e21065",
   "metadata": {},
   "outputs": [
    {
     "data": {
      "text/plain": [
       "2.2250738585072014e-308"
      ]
     },
     "execution_count": 4,
     "metadata": {},
     "output_type": "execute_result"
    }
   ],
   "source": [
    "sys.float_info.min"
   ]
  }
 ],
 "metadata": {
  "jupytext": {
   "formats": "md:myst",
   "text_representation": {
    "extension": ".md",
    "format_name": "myst",
    "format_version": "0.8",
    "jupytext_version": "1.4.1+dev"
   }
  },
  "kernelspec": {
   "display_name": "Python 3",
   "language": "python",
   "name": "python3"
  },
  "language_info": {
   "codemirror_mode": {
    "name": "ipython",
    "version": 3
   },
   "file_extension": ".py",
   "mimetype": "text/x-python",
   "name": "python",
   "nbconvert_exporter": "python",
   "pygments_lexer": "ipython3",
   "version": "3.11.6"
  },
  "source_map": [
   13,
   57,
   60,
   125,
   128,
   135,
   137,
   142
  ]
 },
 "nbformat": 4,
 "nbformat_minor": 5
}