{
 "cells": [
  {
   "cell_type": "markdown",
   "id": "27037968",
   "metadata": {},
   "source": [
    "# Kontrollstrukturen\n",
    "\n",
    "Im {numref}`vorschau` hatten wir bereits kurz die Möglichkeit angesprochen, den\n",
    "Ablauf eines Programms zu beeinflussen, sei es dadurch, dass ein Programmteil\n",
    "in einer Schleife mehrfach ausgeführt wird oder dass ein Programmteil nur dann\n",
    "ausgeführt wird, wenn eine gewisse Bedingung erfüllt ist.  Solche\n",
    "Kontrollstrukturen sind essentiell, um die Abarbeitung eines Programms zu\n",
    "steuern. Wir werden in diesem Kapitel zwei Arten von Schleifen betrachten, die\n",
    "`for`-Schleife und die `while`-Schleife, bei denen auf verschiedene Weise die\n",
    "Zahl der Schleifendurchläufe kontrolliert wird. Anschließend werden wir uns mit\n",
    "Verzweigungen der Form `if … else` beschäftigen und auch komplexere\n",
    "Verzweigungen kennenlernen. Diese Programmkonstrukte finden sich in allen für\n",
    "das wissenschaftliche Rechnen relevanten Programmiersprachen, auch wenn die\n",
    "konkrete syntaktische Umsetzung unterschiedlich sein kann.\n",
    "\n",
    "Wir hatten im vorigen Kapitel bereits gesehen, dass im Fehlerfall, zum Beispiel\n",
    "bei der Division durch Null, Ausnahmen oder *exceptions* auftreten. Diese müssen\n",
    "nicht zwingend zum Abbruch des Programms führen, sondern sie können geeignet\n",
    "behandelt werden. Diesen Aspekt der Steuerung des Programmablaufs werden wir im\n",
    "letzten Abschnitt dieses Kapitels kennenlernen.\n",
    "\n",
    "(forloop)=\n",
    "## For-Schleife\n",
    "\n",
    "Sollen bestimmte Anweisungen mehrfach ausgeführt werden, wobei die Anzahl der\n",
    "Wiederholungen zuvor bestimmt werden kann, bietet sich die Verwendung einer\n",
    "`for`-Schleife an. Gegenüber der expliziten Wiederholung von Befehlen ergeben\n",
    "sich eine Reihe von Vorteilen. Zunächst einmal spart man sich Tipparbeit und\n",
    "verbessert erheblich die Lesbarkeit des Programms. Zudem ist eine explizite\n",
    "Wiederholung nur möglich, wenn die Zahl der Wiederholungen bereits beim\n",
    "Schreiben des Programms feststeht und nicht erst beim Ausführen des Programms\n",
    "berechnet wird.\n",
    "\n",
    "Wir verdeutlichen das anhand eines Beispiels, in dem wir einige Quadratzahlen\n",
    "berechnen. In einer `for`-Schleife würde das für die Zahlen von 0 bis 4\n",
    "folgendermaßen gehen."
   ]
  },
  {
   "cell_type": "code",
   "execution_count": 1,
   "id": "fc32de1f",
   "metadata": {},
   "outputs": [
    {
     "name": "stdout",
     "output_type": "stream",
     "text": [
      "   0    0\n",
      "   1    1\n",
      "   2    4\n",
      "   3    9\n",
      "   4   16\n"
     ]
    }
   ],
   "source": [
    "for n in range(5):\n",
    "    print(f\"{n:4} {n**2:4}\")"
   ]
  },
  {
   "cell_type": "markdown",
   "id": "68256789",
   "metadata": {},
   "source": [
    "Verzichtet man auf die Schleife, so wäre der folgende Code erforderlich."
   ]
  },
  {
   "cell_type": "code",
   "execution_count": 2,
   "id": "09788cb6",
   "metadata": {},
   "outputs": [
    {
     "name": "stdout",
     "output_type": "stream",
     "text": [
      "   0    0\n",
      "   1    1\n",
      "   2    4\n",
      "   3    9\n",
      "   4   16\n"
     ]
    }
   ],
   "source": [
    "print(f\"{0:4} {0**2:4}\")\n",
    "print(f\"{1:4} {1**2:4}\")\n",
    "print(f\"{2:4} {2**2:4}\")\n",
    "print(f\"{3:4} {3**2:4}\")\n",
    "print(f\"{4:4} {4**2:4}\")"
   ]
  },
  {
   "cell_type": "markdown",
   "id": "b4ad3efb",
   "metadata": {},
   "source": [
    "Es dürfte offensichtlich sein, dass die erste Variante zu bevorzugen ist.\n",
    "Dies gilt insbesondere, wenn die Zahl der Durchläufe variabel sein soll, wie\n",
    "im folgenden Fall."
   ]
  },
  {
   "cell_type": "code",
   "execution_count": 3,
   "id": "7bfcc0f7",
   "metadata": {},
   "outputs": [
    {
     "name": "stdout",
     "output_type": "stream",
     "text": [
      "   0    0\n",
      "   1    1\n",
      "   2    4\n",
      "   3    9\n",
      "   4   16\n",
      "   5   25\n",
      "   6   36\n"
     ]
    }
   ],
   "source": [
    "nmax = 7\n",
    "for n in range(nmax):\n",
    "    print(f\"{n:4} {n**2:4}\")"
   ]
  },
  {
   "cell_type": "markdown",
   "id": "451b3fc8",
   "metadata": {},
   "source": [
    "Sehen wir uns den Aufbau der `for`-Schleife genauer an. Das Schlüsselwort `for`\n",
    "kennzeichnet den Beginn einer Schleife. Dann folgt der Name der Variable, in\n",
    "unserem Fall also `n`, die bei der Abarbeitung der Schleife vorgegebene Werte\n",
    "annimmt, und im Rahmen der Schleife verwendet werden kann. Im Allgemeinen\n",
    "können hier auch mehrere Variablennamen vorkommen, wie wir später im \n",
    "{numref}`zusgdatentypen` sehen werden. Die Werte, die die Variable `n` in\n",
    "unserem Beispiel annehmen kann, werden durch die `range`-Anweisung bestimmt.\n",
    "Zwar werden die Werte erst bei Bedarf generiert, aber wir können sie uns\n",
    "ansehen, indem wir explizit eine Liste der Werte erzeugen lassen."
   ]
  },
  {
   "cell_type": "code",
   "execution_count": 4,
   "id": "eee7a718",
   "metadata": {},
   "outputs": [
    {
     "data": {
      "text/plain": [
       "[0, 1, 2, 3, 4]"
      ]
     },
     "execution_count": 4,
     "metadata": {},
     "output_type": "execute_result"
    }
   ],
   "source": [
    "list(range(5))"
   ]
  },
  {
   "cell_type": "markdown",
   "id": "0e7949b6",
   "metadata": {},
   "source": [
    "Es wird also eine Liste von aufeinanderfolgenden ganzen Zahlen erzeugt, die\n",
    "hier fünf Elemente enthält. Zu beachten ist, dass die Liste mit Null beginnt\n",
    "und nicht mit Eins. Wir werden uns diesen zusammengesetzten Datentyp im\n",
    "{numref}`listen` noch genauer ansehen. Für den Moment genügt jedoch die\n",
    "intuitive Vorstellung von einer Liste. In der ersten Zeile der\n",
    "`for`-Schleife, die mit einem Doppelpunkt enden muss, wird also festgelegt,\n",
    "welchen Wert die Schleifenvariable `n` bei den aufeinanderfolgenden\n",
    "Schleifendurchläufen jeweils annimmt.\n",
    "\n",
    "```{admonition} Mehr Flexibilität in der range()-Funktion\n",
    ":class: tip\n",
    "Mit nur einem Argument erzeugt die {func}`range`-Funktion wie oben gesehen\n",
    "ganze Zahlen von 0 bis ausschließlich dem angegebenen Wert. Gibt man zwei\n",
    "Argumente an, so entsprechen diese dem Startwert und dem Wert, der gerade\n",
    "nicht mehr angenommen wird. Gibt man ein drittes Argument an, so entspricht\n",
    "dieses der Schrittweite, die übrigens auch negativ sein kann. Alle Argumente\n",
    "müssen aber ganze Zahlen sein. Spielen Sie einfach mal ein bisschen mit\n",
    "der {func}`range`-Funktion herum.\n",
    "```\n",
    "\n",
    "Der Codeteil, der im Rahmen der Schleife im Allgemeinen mehrfach ausgeführt\n",
    "wird und im obigen Beispiel nur aus einer Zeile besteht, ist daran zu erkennen,\n",
    "dass er eingerückt ist. Zur Verdeutlichung vergleichen wir zwei Beispiele,\n",
    "die sich lediglich in der Einrückung der letzten Zeile unterscheiden.\n",
    "Im ersten Beispiel ist die letzte Zeile Bestandteil der Schleife und wird\n",
    "demnach zweimal ausgeführt."
   ]
  },
  {
   "cell_type": "code",
   "execution_count": 5,
   "id": "68f7afe5",
   "metadata": {},
   "outputs": [
    {
     "name": "stdout",
     "output_type": "stream",
     "text": [
      "Schleifendurchlauf 1\n",
      "Das war's.\n",
      "Schleifendurchlauf 2\n",
      "Das war's.\n"
     ]
    }
   ],
   "source": [
    "for n in range(2):\n",
    "    print(f\"Schleifendurchlauf {n+1}\")\n",
    "    print(\"Das war's.\")"
   ]
  },
  {
   "cell_type": "markdown",
   "id": "911a5f6e",
   "metadata": {},
   "source": [
    "Rückt man die letzte Zeile dagegen aus, so wird sie erst ausgeführt nachdem\n",
    "die Schleife zweimal durchlaufen wurde."
   ]
  },
  {
   "cell_type": "code",
   "execution_count": 6,
   "id": "4aeb62cf",
   "metadata": {},
   "outputs": [
    {
     "name": "stdout",
     "output_type": "stream",
     "text": [
      "Schleifendurchlauf 1\n",
      "Schleifendurchlauf 2\n",
      "Das war's.\n"
     ]
    }
   ],
   "source": [
    "for n in range(2):\n",
    "    print(f\"Schleifendurchlauf {n+1}\")\n",
    "print(\"Das war's.\")"
   ]
  },
  {
   "cell_type": "markdown",
   "id": "04a8dd9e",
   "metadata": {},
   "source": [
    "Im vorliegenden Beispiel ist sicher die zweite Variante adäquat.\n",
    "\n",
    "Entscheidend für die Zugehörigkeit zur Schleife ist also die Einrückung, wobei\n",
    "die Zahl der Leerstellen im Prinzip frei gewählt werden kann, aber innerhalb\n",
    "des ganzen Schleifenkörpers konstant sein muss. Ein guter Kompromiss zwischen\n",
    "kaum sichtbaren Einrückungen und zu großen Einrückungen, die bei geschachtelten\n",
    "Schleifen schnell zu Platzproblemen führen, ist eine Einrückung von vier\n",
    "Leerzeichen. So wird dies auch im {pep}`8` empfohlen, dem *Python Enhancement\n",
    "Proposal*, das Empfehlungen zur Formatierung von in Python geschriebenem\n",
    "Programmcode gibt. Diese Empfehlungen sind zwar nicht verpflichtend, aber die\n",
    "wichtigsten Hinweise werden von den meisten Programmierern respektiert.\n",
    "\n",
    "```{admonition} Weiterführender Hinweis\n",
    "Im {pep}`8` wird auch eine maximale Zeilenlänge von 79 Zeichen empfohlen. Sehr\n",
    "lange Zeilen sind unter Umständen schwer zu lesen und führen bei kleineren\n",
    "Bildschirmen zu Problemen mit Zeilenumbrüchen. Da heutzutage oft größere\n",
    "Monitore zum Einsatz kommen, geben manche Projekte eine Maximallänge von 99\n",
    "Zeichen vor.\n",
    "```\n",
    "\n",
    "Da die Verwendung der Einrückung als syntaktisches Merkmal ungewöhnlich ist,\n",
    "wollen wir kurz zwei Beispiele aus anderen Programmiersprachen besprechen. In\n",
    "FORTRAN 90 könnte eine Schleife folgendermaßen aussehen:\n",
    "\n",
    "```{code-block} fortran\n",
    "PROGRAM Quadrat\n",
    "DO n = 0, 4\n",
    "   PRINT '(2I4)', n, n**2\n",
    "END DO\n",
    "END PROGRAM Quadrat\n",
    "```\n",
    "\n",
    "Hier wurde nur aus Gründen der Lesbarkeit eine Einrückung vorgenommen. Relevant\n",
    "für das Ende der Schleife ist lediglich das abschließende `END DO`. Während\n",
    "man sich hier selbst dazu zwingen muss, gut lesbaren Code zu schreiben, zwingt\n",
    "Python den Programmierer durch seine Syntax dazu, übersichtlichen Code zu\n",
    "produzieren.\n",
    "\n",
    "Auch im folgenden C-Code sind die Einrückungen nur der Lesbarkeit wegen\n",
    "vorgenommen worden. Der Inhalt der Schleife wird durch die öffnende\n",
    "geschweifte Klammer in Zeile 6 und die schließende geschweifte Klammer in Zeile\n",
    "9 definiert.\n",
    "```{code-block} c\n",
    "---\n",
    "linenos: true\n",
    "emphasize-lines: 7, 7\n",
    "---\n",
    "#include <stdio.h>\n",
    "\n",
    "void main(){\n",
    "   int i;\n",
    "   int quadrat;\n",
    "   for(i = 0; i < 5; i++){\n",
    "         quadrat = i*i;\n",
    "         printf(\"%4i %4i\\n\", i, quadrat);\n",
    "   }\n",
    "}\n",
    "```\n",
    "Würde man auf die Klammern verzichten, so wäre nur die der `for`-Anweisung folgende\n",
    "Zeile, also Zeile 7, Bestandteil der Schleife. Dagegen befände sich Zeile 8 trotz\n",
    "der Einrückung nicht mehr im Schleifenkörper.\n",
    "\n",
    "Schleifen werden in Python häufig anders organisiert als dies in Sprachen wie\n",
    "Fortran und C der Fall ist. Diesen Unterschied können wir durch zwei\n",
    "Realisierungen der gleichen Problemstellung illustrieren. Im {numref}`vorschau`\n",
    "hatten wir eine Implementation des Schere-Papier-Stein-Spiels in Python\n",
    "besprochen. Darin kam unter anderem eine Liste der drei beteiligten Gegenstände\n",
    "vor. An dieser Stelle ist nur wichtig, dass wir Elemente einer Liste durch\n",
    "einen Index adressieren können, so wie wir das für die Komponenten eines\n",
    "Vektors in der Mathematik gewohnt sind.\n",
    "\n",
    "Stellen wir uns nun vor, dass wir eine Liste der drei Gegenstände ausgeben wollen.\n",
    "Eine erste Variante besteht darin, mit Hilfe der {func}`range`-Funktion eine Schleife\n",
    "über die Indizes zu programmieren, in der dann die Elemente der Liste adressiert und\n",
    "ausgegeben werden."
   ]
  },
  {
   "cell_type": "code",
   "execution_count": 7,
   "id": "d9b7da19",
   "metadata": {},
   "outputs": [
    {
     "name": "stdout",
     "output_type": "stream",
     "text": [
      "Stein\n",
      "Papier\n",
      "Schere\n"
     ]
    }
   ],
   "source": [
    "objekte = ['Stein', 'Papier', 'Schere']\n",
    "for idx in range(3):\n",
    "    print(objekte[idx])"
   ]
  },
  {
   "cell_type": "markdown",
   "id": "1a1abb4d",
   "metadata": {},
   "source": [
    "Eine solche Vorgehensweise ist für Sprachen wie Fortran und C typisch. Da der\n",
    "Index in gleichmäßigen Schritten hochgezählt wird, ist es für den Computer möglich,\n",
    "effizient auf die einzelnen Listenobjekte zuzugreifen. Dies gilt insbesondere, wenn\n",
    "es sich bei den Listenobjekten um Zahlen handelt, die alle gleich viel Speicher\n",
    "in Anspruch nehmen. Diese erste Variante wird in Python eigentlich nur in besonderen\n",
    "Fällen verwendet, in denen die Rechengeschwindigkeit im Vordergrund steht.\n",
    "\n",
    "In Python üblicher ist die zweite Variante, bei der direkt über die Liste iteriert\n",
    "wird."
   ]
  },
  {
   "cell_type": "code",
   "execution_count": 8,
   "id": "bfb82d26",
   "metadata": {},
   "outputs": [
    {
     "name": "stdout",
     "output_type": "stream",
     "text": [
      "Stein\n",
      "Papier\n",
      "Schere\n"
     ]
    }
   ],
   "source": [
    "for objekt in ['Stein', 'Papier', 'Schere']:\n",
    "    print(objekt)"
   ]
  },
  {
   "cell_type": "markdown",
   "id": "bcf23827",
   "metadata": {},
   "source": [
    "Aus der zweiten Zeile wird hier offensichtlich, dass die Schleife über alle Elemente\n",
    "der Liste geht. Der Code ist insgesamt etwas leichter zu lesen und schneller zu\n",
    "schreiben als der Code der ersten Variante und wird daher normalerweise von\n",
    "Python-Programmierern bevorzugt.\n",
    "\n",
    "Wir betrachten noch ein zweites Beispiel, das von seiner Struktur gerade beim\n",
    "numerischen Arbeiten typisch ist. Dabei wollen wir die Kreiszahl π mit Hilfe\n",
    "der Summendarstellung\n",
    "\n",
    "$$\\sum_{n=1}^\\infty\\frac{1}{n^2} = \\frac{\\pi^2}{6}$$\n",
    "\n",
    "bestimmen. Dies geht allein schon deshalb nur näherungsweise, weil wir die Summe\n",
    "bei einem wählbaren maximalen Index abschneiden müssen. Dabei fällt der Fehler\n",
    "invers linear mit diesem maximalen Index. Betrachten wir nun den zugehörigen Python-Code."
   ]
  },
  {
   "cell_type": "code",
   "execution_count": 9,
   "id": "943da533",
   "metadata": {},
   "outputs": [
    {
     "name": "stdout",
     "output_type": "stream",
     "text": [
      "3.141583104326456\n"
     ]
    }
   ],
   "source": [
    "from math import sqrt\n",
    "\n",
    "nmax = 100000\n",
    "summe = 0\n",
    "for n in range(nmax):\n",
    "    summe = summe + 1/(n+1)**2\n",
    "print(sqrt(6*summe))"
   ]
  },
  {
   "cell_type": "markdown",
   "id": "eef80730",
   "metadata": {},
   "source": [
    "Den maximalen Summationsindex hätten wir hier auch direkt in das Argument der\n",
    "{func}`range`-Funktion schreiben können. Wollen wir diesen Wert aber ändern, so\n",
    "ist die betreffende Stelle leichter zu finden, da der Variablenname `nmax` auf\n",
    "die Bedeutung dieses Wert hinweist.\n",
    "\n",
    "Zwei Aspekte wollen wir an diesem Beispiel betonen. Zum einen übersieht man leicht,\n",
    "dass im Nenner nicht einfach `n**2` stehen darf. Dies würde zu einer Division durch\n",
    "Null führen, da der erste Wert, der von der {func}`range`-Funktion geliefert wird,\n",
    "gerade Null ist. Da die Summation bei 1 beginnt, müssen wir also im Nenner `(n+1)**2`\n",
    "schreiben.\n",
    "\n",
    "Ein zweiter Aspekt wird gerne übersehen. Im Schleifenkörper, der hier nur aus der\n",
    "vorletzten Zeile besteht, wird wie bei jeder Zuweisung zunächst die rechte Seite\n",
    "ausgewertet. Dabei erwartet der Pythoninterpreter schon beim ersten Durchlauf, dass\n",
    "die Variable `summe` einen Wert besitzt. Auch wenn wir einen fehlenden Wert intuitiv\n",
    "einfach auf Null setzen würden, ist es für Python ein großer Unterschied, ob eine\n",
    "Variable den Wert Null hat oder überhaupt keinen Wert besitzt. Dies bedeutet, dass\n",
    "unser Beispiel nicht mehr läuft, wenn wir die vierte Zeile weglassen. Aus technischen\n",
    "Gründen entfernen wir die Variable hier explizit, da sie sonst ihren Wert aus der\n",
    "obigen Zelle behält."
   ]
  },
  {
   "cell_type": "code",
   "execution_count": 10,
   "id": "21242d59",
   "metadata": {},
   "outputs": [],
   "source": [
    "del summe"
   ]
  },
  {
   "cell_type": "markdown",
   "id": "0df4705e",
   "metadata": {},
   "source": [
    "Unser neuer Code hat nun die folgende Form."
   ]
  },
  {
   "cell_type": "code",
   "execution_count": 11,
   "id": "e9ed37c3",
   "metadata": {
    "tags": [
     "raises-exception"
    ]
   },
   "outputs": [
    {
     "ename": "NameError",
     "evalue": "name 'summe' is not defined",
     "output_type": "error",
     "traceback": [
      "\u001b[0;31m---------------------------------------------------------------------------\u001b[0m",
      "\u001b[0;31mNameError\u001b[0m                                 Traceback (most recent call last)",
      "Cell \u001b[0;32mIn[11], line 5\u001b[0m\n\u001b[1;32m      3\u001b[0m nmax \u001b[38;5;241m=\u001b[39m \u001b[38;5;241m100000\u001b[39m\n\u001b[1;32m      4\u001b[0m \u001b[38;5;28;01mfor\u001b[39;00m n \u001b[38;5;129;01min\u001b[39;00m \u001b[38;5;28mrange\u001b[39m(nmax):\n\u001b[0;32m----> 5\u001b[0m     summe \u001b[38;5;241m=\u001b[39m \u001b[43msumme\u001b[49m \u001b[38;5;241m+\u001b[39m \u001b[38;5;241m1\u001b[39m\u001b[38;5;241m/\u001b[39m(n\u001b[38;5;241m+\u001b[39m\u001b[38;5;241m1\u001b[39m)\u001b[38;5;241m*\u001b[39m\u001b[38;5;241m*\u001b[39m\u001b[38;5;241m2\u001b[39m\n\u001b[1;32m      6\u001b[0m \u001b[38;5;28mprint\u001b[39m(sqrt(\u001b[38;5;241m6\u001b[39m\u001b[38;5;241m*\u001b[39msumme))\n",
      "\u001b[0;31mNameError\u001b[0m: name 'summe' is not defined"
     ]
    }
   ],
   "source": [
    "from math import sqrt\n",
    "\n",
    "nmax = 100000\n",
    "for n in range(nmax):\n",
    "    summe = summe + 1/(n+1)**2\n",
    "print(sqrt(6*summe))"
   ]
  },
  {
   "cell_type": "markdown",
   "id": "5767c934",
   "metadata": {},
   "source": [
    "Wie erwartet schlägt die Ausführung fehl, weil die Variable `summe` beim allerersten\n",
    "Schleifendurchlauf noch nicht definiert ist. Es ist also unbedingt erforderlich,\n",
    "die Variable vor der Schleife zu definieren. Man spricht hier auch von einer\n",
    "Initialisierung.\n",
    "\n",
    "`for`-Schleifen können auch geschachtelt werden. Wir zeigen dies an einem Beispiel,\n",
    "das die Wahrheitswerttabelle für die logische UND-Verknüpfung (`&`) und die logische\n",
    "ODER-Verknüpfung (`|`) darstellt."
   ]
  },
  {
   "cell_type": "code",
   "execution_count": 12,
   "id": "aabcd378",
   "metadata": {},
   "outputs": [
    {
     "name": "stdout",
     "output_type": "stream",
     "text": [
      "  arg1   arg2   arg1 & arg2   arg1 | arg2 \n",
      "------------------------------------------\n",
      " False  False      False         False   \n",
      " False  True       False         True    \n",
      " True   False      False         True    \n",
      " True   True       True          True    \n"
     ]
    }
   ],
   "source": [
    "print(\"  arg1   arg2   arg1 & arg2   arg1 | arg2 \")\n",
    "print(\"------------------------------------------\")\n",
    "for arg1 in [False, True]:\n",
    "    for arg2 in [False, True]:\n",
    "        print(f\" {arg1!s:5}  {arg2!s:5}   {arg1&arg2!s:^11}   {arg1|arg2!s:^11}\")"
   ]
  },
  {
   "cell_type": "markdown",
   "id": "aab8a100",
   "metadata": {},
   "source": [
    "```{admonition} Weiterführender Hinweis\n",
    "Unter anderem für solche Situationen stellt in Python das\n",
    "[{mod}`itertools`-Modul](https://docs.python.org/3/library/itertools.html) der\n",
    "Standardbibliothek hilfreiche Funktionen zur Verfügung.\n",
    "```\n",
    "Wie man in den ersten beiden Spalten der Ausgabe sieht, wird zunächst in der äußeren\n",
    "Schleife `arg1` auf `False` gesetzt. Anschließend wird die innere Schleife abgearbeitet,\n",
    "in der `arg2` nacheinander die Werte `False` und `True` annimmt. Erst dann wird in der\n",
    "äußeren Schleife `arg1` auf `True` gesetzt und danach wiederum die innere Schleife\n",
    "abgearbeitet.\n",
    "\n",
    "Gerade in einer doppelten Schleife ist die Einrückung wichtig, die darüber bestimmt,\n",
    "in welcher Schleife eine Befehlszeile abgearbeitet wird. Da die `print`-Anweisung\n",
    "relativ zur inneren Schleife eingerückt ist, wird sie in dieser ausgeführt. und\n",
    "entsprechend werden zusätzlich zum Tabellenkopf vier Zeile ausgegeben. Würde man die\n",
    "letzte Zeile nur vier Leerzeichen weit einrücken, würde sie in die äußere Schleife\n",
    "wandern und nur zweimal ausgeführt werden.\n",
    "\n",
    "Versucht man dies, gibt es zunächst allerdings ein Problem."
   ]
  },
  {
   "cell_type": "code",
   "execution_count": 13,
   "id": "676ffa3e",
   "metadata": {
    "tags": [
     "raises-exception"
    ]
   },
   "outputs": [
    {
     "ename": "IndentationError",
     "evalue": "expected an indented block after 'for' statement on line 4 (4072672245.py, line 5)",
     "output_type": "error",
     "traceback": [
      "\u001b[0;36m  Cell \u001b[0;32mIn[13], line 5\u001b[0;36m\u001b[0m\n\u001b[0;31m    print(f\" {arg1!s:5}  {arg2!s:5}   {arg1&arg2!s:^11}   {arg1|arg2!s:^11}\")\u001b[0m\n\u001b[0m    ^\u001b[0m\n\u001b[0;31mIndentationError\u001b[0m\u001b[0;31m:\u001b[0m expected an indented block after 'for' statement on line 4\n"
     ]
    }
   ],
   "source": [
    "print(\"  arg1   arg2   arg1 & arg2   arg1 | arg2 \")\n",
    "print(\"------------------------------------------\")\n",
    "for arg1 in [False, True]:\n",
    "    for arg2 in [False, True]:\n",
    "    print(f\" {arg1!s:5}  {arg2!s:5}   {arg1&arg2!s:^11}   {arg1|arg2!s:^11}\")"
   ]
  },
  {
   "cell_type": "markdown",
   "id": "58737a5e",
   "metadata": {},
   "source": [
    "Jede Schleife erwartet nämlich einen eingerückten Block von mindestens einer Zeile\n",
    "Länge. In unserem Fall ist es eigentlich nicht sinnvoll, die innere Schleife leer\n",
    "zu lassen. Gerade bei der Programmentwicklung kann es aber vorkommen, dass man eine\n",
    "Schleife schon mal anlegen, aber erst später mit Code füllen will. Häufiger kommt\n",
    "dies bei Funktionen vor, in denen sich das gleiche Problem stellt. Dann hilft der\n",
    "Befehl `pass` weiter, der Python signalisiert, dass es hier nichts zu tun gibt."
   ]
  },
  {
   "cell_type": "code",
   "execution_count": 14,
   "id": "cef34f9e",
   "metadata": {},
   "outputs": [
    {
     "name": "stdout",
     "output_type": "stream",
     "text": [
      "  arg1   arg2   arg1 & arg2   arg1 | arg2 \n",
      "------------------------------------------\n",
      " False  True       False         True    \n",
      " True   True       True          True    \n"
     ]
    }
   ],
   "source": [
    "print(\"  arg1   arg2   arg1 & arg2   arg1 | arg2 \")\n",
    "print(\"------------------------------------------\")\n",
    "for arg1 in [False, True]:\n",
    "    for arg2 in [False, True]:\n",
    "        pass\n",
    "    print(f\" {arg1!s:5}  {arg2!s:5}   {arg1&arg2!s:^11}   {arg1|arg2!s:^11}\")"
   ]
  },
  {
   "cell_type": "markdown",
   "id": "e9f42445",
   "metadata": {},
   "source": [
    "Jetzt wird die `print`-Anweisung tatsächlich nur zweimal ausgeführt, nämlich jeweils\n",
    "am Ende der Abarbeitung der äußeren Schleifendurchläufe. Außerdem kann man hier\n",
    "noch feststellen, dass die Laufvariable `arg2` der inneren Schleife auch nach der\n",
    "Abarbeitung der Schleife zur Verfügung steht. Sie hat dabei den Wert, der ihr zuletzt\n",
    "zugewiesen wurde, in unserem Fall also `True`.\n",
    "\n",
    "(whileloop)=\n",
    "## While-Schleife\n",
    "\n",
    "Bei der gerade besprochenen `for`-Schleife kennt man im Vorhinein die Zahl der\n",
    "Durchläufe. Dies ist jedoch nicht immer der Fall. Gelegentlich möchte man eine\n",
    "Schleife ausführen, so lange eine bestimmte Bedingung erfüllt ist. Einen eher\n",
    "untypischen Fall hatten wir in {numref}`vorschau` kennengelernt. Dort war die\n",
    "Bedingung immer wahr, so dass die Schleife, zumindest im Prinzip, unendlich\n",
    "lange laufen konnte. In unserem Beispiel wollen wir dagegen eine Bedingung\n",
    "stellen, die entweder wahr oder falsch sein kann.\n",
    "\n",
    "Konkret wollen wir uns vorstellen, dass wir mit einem Würfel so lange würfeln\n",
    "bis wir eine Sechs erhalten. Wir wollen uns fragen, wie lange es im Mittel\n",
    "dauert, bis wir eine Sechs gewürfelt haben und welche Wurfanzahl die häufigste\n",
    "ist. Diese Fragen lassen sich mathematisch streng beantworten, aber wir wollen\n",
    "nun den Computer heranziehen."
   ]
  },
  {
   "cell_type": "code",
   "execution_count": 15,
   "id": "2a5509b2",
   "metadata": {},
   "outputs": [
    {
     "data": {
      "image/png": "[encoded data removed]",
      "text/plain": [
       "<Figure size 640x480 with 1 Axes>"
      ]
     },
     "metadata": {},
     "output_type": "display_data"
    }
   ],
   "source": [
    "from random import randrange\n",
    "import matplotlib.pyplot as plt\n",
    "\n",
    "def wait_for_six():\n",
    "    result = randrange(1, 7)\n",
    "    ncasts = 1\n",
    "    while result != 6:\n",
    "        result = randrange(1, 7)\n",
    "        ncasts = ncasts + 1\n",
    "    return ncasts\n",
    "\n",
    "waiting_sequence = [wait_for_six() for n in range(100000)]\n",
    "plt.hist(waiting_sequence, bins=30, range=(1, 30), density=True)\n",
    "plt.show()"
   ]
  },
  {
   "cell_type": "markdown",
   "id": "b81049b7",
   "metadata": {},
   "source": [
    "Das Histogramm gibt die Wahrscheinlichkeit an, dass eine 6 zum ersten Mal nach\n",
    "der entsprechenden Anzahl von Versuchen gewürfelt wird.\n",
    "\n",
    "Bei der Besprechung des Codes wollen wir uns auf die Funktion\n",
    "{func}`wait_for_six` konzentrieren, die die `while`-Schleife enthält und für\n",
    "eine zufällige Realisierung von Würfen bestimmt, wie viele Würfe benötigt\n",
    "werden, um zum ersten Mal eine Sechs zu erhalten. Der Code setzt das Vorgehen\n",
    "beim Würfeln in direkter, wenn auch nicht unbedingt optimaler Weise um.\n",
    "Zunächst wird unter Verwendung der Zufallsfunktion `randrange` eine Zahl\n",
    "zwischen 1 und 6 gewürfelt. Gleichzeitig wird der Zähler `ncasts`, der die\n",
    "Anzahl der Würfe angibt, entsprechend auf eins gestellt.  Wurde keine 6\n",
    "gewürfelt, ist also die Bedingung `result != 6` erfüllt, so wird die\n",
    "`while`-Schleife durchlaufen, wobei wieder gewürfelt und der Zähler `ncasts` um\n",
    "eins erhöht wird. Die `while`-Schleife wird erst verlassen, wenn eine 6\n",
    "gewürfelt wurde, da dann die Bedingung `result != 6` nicht erfüllt ist.\n",
    "Abschließend gibt die Funktion `wait_for_six` die Zahl der Würfe zurück.\n",
    "\n",
    "Die grundsätzliche Struktur des Codes entspricht derjenigen, die wir von der\n",
    "`for`-Schleife bereits kennen. Vor der Schleife findet hier eine Initialisierung\n",
    "statt, der wir schon bei dem Summationsbeispiel im vorigen Abschnitt\n",
    "begegnet sind. Die erste Zeile der eigentlichen `while`-Schleife beginnt mit dem \n",
    "Schlüsselwort `while` anstelle des Schlüsselworts `for`. In beiden Fällen\n",
    "endet die Zeile mit einem Doppelpunkt. Bei der `while`-Schleife ist außerdem\n",
    "eine Bedingung, hier `result != 6`, anzugeben. Nur wenn diese Bedingung erfüllt\n",
    "ist, wird der eingerückte Block ausgeführt und anschließend wieder die Bedingung\n",
    "überprüft. Andernfalls wird die Ausführung des Programms nach dem eingerückten\n",
    "Block fortgesetzt.\n",
    "\n",
    "Aufmerksamen Leserinnen und Lesern fällt in diesem Code vielleicht auf, dass der\n",
    "Code für das Würfeln wiederholt wird. Am Ende von {numref}`vorschau` hatten wir\n",
    "darauf angewiesen, dass in solchen Fällen die Gefahr von Programmierfehlern droht.\n",
    "Dies könnte beispielsweise der Fall sein, wenn man statt für einen normalen Würfel\n",
    "das Programm auf einen der in {numref}`fig:wuerfel` gezeigten Würfel mit 12 oder 20\n",
    "Flächen übertragen möchte. Dann kann es passieren, dass man aus Versehen nur einen\n",
    "der beiden Aufrufe der {func}`randrange`-Funktion korrigiert, womit das Programm\n",
    "fehlerhaft wäre.\n",
    "\n",
    "```{figure} images/kontrollstrukturen/wuerfel.png\n",
    "---\n",
    "width: 50%\n",
    "name: fig:wuerfel\n",
    "---\n",
    "Dodekaeder- und Ikosaederwürfel.\n",
    "```\n",
    "\n",
    "Im Prinzip ließe sich unser Problem eleganter lösen, wenn man die Bedingung\n",
    "nicht zu Beginn der `while`-Schleife überprüfen würde, sondern an deren  Ende.\n",
    "Dann würde die Schleife auf jeden Fall einmal durchlaufen werden. Es würde also\n",
    "auf jeden Fall einmal gewürfelt werden und wir würden nur eine Zeile mit einem\n",
    "Aufruf von `randrange` benötigen. In Python ist dies nicht direkt möglich, aber\n",
    "wir werden weiter unten auf alternative Lösungen zu sprechen kommen. In anderen\n",
    "Sprachen gibt es dagegen ein `do … while`, wie zum Beispiel in C, oder ein\n",
    "`repeat … until` wie in Pascal. Dabei wird am Ende getestet.\n",
    "\n",
    "Ein einfaches Beispiel, das im Prinzip eine absteigende Folge von Quadratzahlen \n",
    "ausgibt, ist hier in C realisiert.\n",
    "\n",
    "```{code-block} c\n",
    "---\n",
    "linenos: true\n",
    "---\n",
    "#include <stdio.h>\n",
    "\n",
    "void main(){\n",
    "   int i=-1;\n",
    "   do {printf(\"%4i %4i\\n\", i, i*i);\n",
    "       i = i-1;\n",
    "   } while (i>0);\n",
    "}\n",
    "```\n",
    "Nach der Kompilation des Codes kann man das Programm ausführen und erhält als Ausgabe \n",
    "```\n",
    "  -1    1\n",
    "```\n",
    "In Zeile 4 wird der Wert von `i` auf `-1` gesetzt. Würde die Bedingung `i>0` schon zu\n",
    "Beginn der Schleife ausgewertet werden, würde man keine Ausgabe erhalten. Im vorliegenden\n",
    "Code erfolgt die Überprüfung aber am Ende, so dass die Schleife für den Wert `-1` für `i`\n",
    "durchlaufen wird. Anschließend hat `i` den Wert `-2` und die Schleife wird beendet. Hier\n",
    "sei nochmals angemerkt, dass die Einrückungen in C nicht erforderlich sind, sondern dass\n",
    "stattdessen die geschweiften Klammerpaare relevant sind.\n",
    "\n",
    "Entsprechend funktioniert das `repeat … until`-Konstrukt in Pascal.\n",
    "```{code-block} pascal\n",
    "program Quadrat;\n",
    "var\n",
    "  i: integer;\n",
    "begin\n",
    "  i := -1;\n",
    "\n",
    "  repeat\n",
    "    writeln(i, '   ', i*i);\n",
    "    i := i-1;\n",
    "  until i <= 0;\n",
    "\n",
    "end.\n",
    "```\n",
    "Einen Unterschied gibt es im Verhalten, wenn die angegebene Bedingung erfüllt ist. Im\n",
    "C-Beispiel wird die Schleife dann fortgesetzt, während sie im Pascal-Beispiel beendet\n",
    "wird. Entsprechend sind die beiden Bedingungen verschieden formuliert.\n",
    "\n",
    "Wie können wir nun unsere anfängliche Lösung so verbessern, dass der\n",
    "Aufruf von `randrange` in der Funktion `wait_for_six` nur einmal statt zweimal\n",
    "vorkommt? Eine Möglichkeit besteht darin, den Aufruf in die Bedingung zu verschieben."
   ]
  },
  {
   "cell_type": "code",
   "execution_count": 16,
   "id": "de4c2edc",
   "metadata": {},
   "outputs": [
    {
     "name": "stdout",
     "output_type": "stream",
     "text": [
      "6.02473\n"
     ]
    }
   ],
   "source": [
    "from random import randrange\n",
    "\n",
    "def wait_for_six():\n",
    "    ncasts = 1\n",
    "    while randrange(1, 7) != 6:\n",
    "        ncasts = ncasts + 1\n",
    "    return ncasts\n",
    "\n",
    "waiting_sequence = [wait_for_six() for n in range(100000)]\n",
    "average = sum(waiting_sequence)/len(waiting_sequence)\n",
    "print(average)"
   ]
  },
  {
   "cell_type": "markdown",
   "id": "4b026c63",
   "metadata": {},
   "source": [
    "Hier wird zu Beginn der Anfangswert des Zählers `ncasts` schon im Vorgriff\n",
    "auf das anschließende Würfeln auf eins gesetzt. Auch die letzten beiden\n",
    "Zeilen wurden geändert, was aber nichts mit dem Code in der Funktion\n",
    "`wait_for_six`zu tun hat. Diese Änderung soll lediglich dafür sorgen, dass\n",
    "statt einem Histogramm der Mittelwert der Würfe ausgegeben wird. Da das\n",
    "angezeigte Ergebnis auf einer endlichen Anzahl von Veruschen beruht, weicht\n",
    "es ein wenig vom analytischen Ergebnis, nämlich 6, ab.\n",
    "\n",
    "Ein Nachteil dieser Lösung besteht darin, dass man das Ergebnis des Wurfes\n",
    "nicht ausgeben kann, da es keiner Variable zugewiesen wird. Seit Python 3.8\n",
    "lässt sich dieses Problem mit dem sogenannten Walroß-Operator `:=` lösen,\n",
    "dessen Name sich auf die Augen und Stoßzähne eines Walrosses bezieht. Der\n",
    "Code könnte dann folgendermaßen aussehen."
   ]
  },
  {
   "cell_type": "code",
   "execution_count": 17,
   "id": "cc5c6f73",
   "metadata": {},
   "outputs": [
    {
     "name": "stdout",
     "output_type": "stream",
     "text": [
      "4\n",
      "2\n",
      "2\n",
      "4\n",
      "1\n",
      "3\n",
      "5\n",
      "4\n",
      "6\n"
     ]
    },
    {
     "data": {
      "text/plain": [
       "9"
      ]
     },
     "execution_count": 17,
     "metadata": {},
     "output_type": "execute_result"
    }
   ],
   "source": [
    "from random import randrange\n",
    "\n",
    "def wait_for_six():\n",
    "    ncasts = 1\n",
    "    while (result := randrange(1, 7)) != 6:\n",
    "        print(result)\n",
    "        ncasts = ncasts + 1\n",
    "    print(result)\n",
    "    return ncasts\n",
    "\n",
    "wait_for_six()"
   ]
  },
  {
   "cell_type": "markdown",
   "id": "ac5af2ce",
   "metadata": {},
   "source": [
    "Eine `do … while`- oder `repeat … until`-Konstruktion, bei der Bedingung\n",
    "tatsächlich erst am Ende abgeprüft wird, lässt sich in Python mit einer\n",
    "Endlosschleife realisieren."
   ]
  },
  {
   "cell_type": "code",
   "execution_count": 18,
   "id": "aaad422d",
   "metadata": {},
   "outputs": [
    {
     "name": "stdout",
     "output_type": "stream",
     "text": [
      "5.96433\n"
     ]
    }
   ],
   "source": [
    "from random import randrange\n",
    "\n",
    "def wait_for_six():\n",
    "    ncasts = 0\n",
    "    while 1:\n",
    "        result = randrange(1, 7)\n",
    "        ncasts = ncasts + 1\n",
    "        if result == 6:\n",
    "            break\n",
    "    return ncasts\n",
    "\n",
    "waiting_sequence = [wait_for_six() for n in range(100000)]\n",
    "average = sum(waiting_sequence)/len(waiting_sequence)\n",
    "print(average)"
   ]
  },
  {
   "cell_type": "markdown",
   "id": "2ec59951",
   "metadata": {},
   "source": [
    "Hier macht man sich zunutze, dass eine Schleife mit der `break`-Anweisung\n",
    "verlassen werden kann. Zu beachten ist dabei, dass die Bedingung\n",
    "angepasst werden muss, da das Verlassen erfolgen soll, falls eine\n",
    "6 gewürfelt wurde.\n",
    "\n",
    "Abschließend sei betont, dass der Programmierer bei der Verwendung von\n",
    "`while`-Schleifen und ähnlichen Konstrukten selbst dafür verantwortlich\n",
    "ist sicherzustellen, dass die Schleife irgendwann beendet wird.\n",
    "Andernfalls liegt eine Endlosschleife vor und das Programm muss von außen\n",
    "abgebrochen werden. Eine Endlosschleife hat dabei nicht immer die mehr\n",
    "oder wenige offensichtliche Form wie im obigen Code mit `while 1` oder\n",
    "`while True`. Vergisst man zum Beispiel, eine für die Bedingung relevante\n",
    "Variable zu aktualisieren, so kann es sein, dass die `while`-Schleife nie\n",
    "zu einem Ende kommt. Ein sehr simples Beispiel zeigt das folgende Codestück."
   ]
  },
  {
   "cell_type": "code",
   "execution_count": null,
   "id": "cf5bd7cd",
   "metadata": {
    "tags": [
     "skip-execution"
    ]
   },
   "outputs": [],
   "source": [
    "n = 0\n",
    "while n < 10:\n",
    "    print(n, n**2)"
   ]
  },
  {
   "cell_type": "markdown",
   "id": "f21a8714",
   "metadata": {},
   "source": [
    "Hier wurde vergessen, den Zähler `n` in der Schleife adäquat zu verändern.\n",
    "\n",
    "\n",
    "(ifelse)=\n",
    "## Verzweigungen\n",
    "\n",
    "Eine andere Art von Kontrollstruktur, die nicht die Wiederholung von Programmcode\n",
    "regelt, sondern vielmehr auf der Basis einer gegebenen Bedingung entscheidet,\n",
    "welcher Code ausgeführt wird, sind Verzweigungen.\n",
    "\n",
    "Im einfachsten Fall wird zusätzlicher Code ausgeführt, wenn eine Bedingung erfüllt\n",
    "ist. Diese Kontrollstruktur basiert auf der `if`-Anweisung. Zur Illustration greifen\n",
    "wir auf die näherungsweise Berechnung der Kreiszahl zurück, die wir im {numref}`forloop`\n",
    "betrachtet hatten. Insbesondere wenn die Rechnung insgesamt länger dauert, möchte man\n",
    "vielleicht die Konvergenz der Summation bereits während des Programmlaufs beurteilen.\n",
    "So können wir uns zum Beispiel jeweils das Zwischenergebnis nach zehntausend Iterationen\n",
    "ausgeben lassen."
   ]
  },
  {
   "cell_type": "code",
   "execution_count": 19,
   "id": "ad44e4fa",
   "metadata": {},
   "outputs": [
    {
     "name": "stdout",
     "output_type": "stream",
     "text": [
      "         0  1.0000000000000000\n",
      "     10000  1.6448340818460654\n",
      "     20000  1.6448840705979586\n",
      "     30000  1.6449007351814806\n",
      "     40000  1.6449090677856950\n",
      "     50000  1.6449140674482257\n",
      "     60000  1.6449174005982372\n",
      "     70000  1.6449197814400827\n",
      "     80000  1.6449215670826174\n",
      "     90000  1.6449229559223180\n",
      "3.141583104326456\n"
     ]
    }
   ],
   "source": [
    "from math import sqrt\n",
    "\n",
    "nmax = 100000\n",
    "summe = 0\n",
    "for n in range(nmax):\n",
    "    summe = summe + 1/(n+1)**2\n",
    "    if n % 10000 == 0:\n",
    "        print(f\"{n:10}  {summe:18.16f}\")\n",
    "print(sqrt(6*summe))"
   ]
  },
  {
   "cell_type": "markdown",
   "id": "ff31ed45",
   "metadata": {},
   "source": [
    "Hier wird in der `if`-Anweisung überprüft, ob der Schleifenzähler ohne Rest durch Zehntausend\n",
    "teilbar ist. Dann ist der Wahrheitswert des logischen Ausdrucks gleich `True` und der folgende\n",
    "Code-Block wird ausgeführt. Andernfalls wird dieser Block einfach übersprungen. Wie wir es\n",
    "schon von den `for`- und `while`-Schleifen kennen, ist der Code-Block, der zur `if`-Anweisung\n",
    "gehört, durch die Einrückung kenntlich gemacht. Die `print`-Anweisung in der letzten Zeile ist\n",
    "nicht mehr eingerückt und gehört damit weder zur `if`-Anweisung noch zur `for`-Schleife. Sie\n",
    "wir also erst am Ende des Programmlaufs genau einmal ausgeführt.\n",
    "\n",
    "Besteht der Code-Block einer `if`-Anweisung nur aus einer einzigen Zeile, so kann man den gesamten\n",
    "Code in einer einzigen Zeile schreiben. Dies ist allerdings nur sinnvoll, wenn die Anweisung im\n",
    "Code-Block relativ kurz ist. Statt"
   ]
  },
  {
   "cell_type": "code",
   "execution_count": 20,
   "id": "cb103b97",
   "metadata": {},
   "outputs": [
    {
     "name": "stdout",
     "output_type": "stream",
     "text": [
      "x = 4 ist bestimmt nicht negativ.\n"
     ]
    }
   ],
   "source": [
    "x = -4\n",
    "if x < 0:\n",
    "    x = -x\n",
    "print(f'{x = } ist bestimmt nicht negativ.')"
   ]
  },
  {
   "cell_type": "markdown",
   "id": "c279278c",
   "metadata": {},
   "source": [
    "kann man also auch"
   ]
  },
  {
   "cell_type": "code",
   "execution_count": 21,
   "id": "682cf710",
   "metadata": {},
   "outputs": [
    {
     "name": "stdout",
     "output_type": "stream",
     "text": [
      "x = 4 ist bestimmt nicht negativ.\n"
     ]
    }
   ],
   "source": [
    "x = -4\n",
    "if x < 0: x = -x\n",
    "print(f'{x = } ist bestimmt nicht negativ.')"
   ]
  },
  {
   "cell_type": "markdown",
   "id": "3a12cde9",
   "metadata": {},
   "source": [
    "schreiben. Meistens wird aber die erste Variante übersichtlicher sein.\n",
    "\n",
    "Bei komplizierteren logischen Ausdrücken kann es auch sinnvoll sein, einen Variablennamen \n",
    "einzuführen, um die Bedeutung des Ausdrucks zu verdeutlichen. Wir illustrieren das anhand\n",
    "eines kleinen Programms, das eine Liste von Schaltjahren ausgibt."
   ]
  },
  {
   "cell_type": "code",
   "execution_count": 22,
   "id": "73c27103",
   "metadata": {},
   "outputs": [
    {
     "name": "stdout",
     "output_type": "stream",
     "text": [
      "1860 1864 1868 1872 1876 1880 1884 1888 1892 1896 1904 1908\n",
      "1912 1916 1920 1924 1928 1932 1936 1940 1944 1948 1952 1956\n",
      "1960 1964 1968 1972 1976 1980 1984 1988 1992 1996 2000 2004\n",
      "2008 2012 2016 2020 2024 2028 2032 2036 2040 2044 2048 2052\n",
      "2056 2060 2064 2068 2072 2076 2080 2084 2088 2092 2096 2104\n",
      "2108 2112 2116 2120 2124 2128 2132 2136 2140 2144 2148 2152\n",
      "2156 2160 2164 2168 2172 2176 2180 2184 2188 2192 2196 2204\n",
      "2208 "
     ]
    }
   ],
   "source": [
    "nyear = 0\n",
    "for year in range(1860, 2210):\n",
    "    is_leapyear = ((year % 4 == 0) and (year % 100)) or (year % 400 == 0)\n",
    "    if is_leapyear:\n",
    "        nyear = nyear + 1\n",
    "        if nyear % 12:\n",
    "            print(year, end=' ')\n",
    "        else:\n",
    "            print(year)"
   ]
  },
  {
   "cell_type": "markdown",
   "id": "ca124709",
   "metadata": {},
   "source": [
    "In der dritten Zeile wird der logische Ausdruck, der auswertet, ob es sich beidem vorgegebenen\n",
    "Jahr um ein Schaltjahr handelt, der Variable `is_leapyear` zugewiesen. Nur wenn diese Variable\n",
    "den Wert `True` besitzt, wird das Jahr ausgegeben. Alternativ hätte man natürlich auch eine\n",
    "Funktion definieren können."
   ]
  },
  {
   "cell_type": "code",
   "execution_count": 23,
   "id": "c7f4aac7",
   "metadata": {},
   "outputs": [
    {
     "name": "stdout",
     "output_type": "stream",
     "text": [
      "1860 1864 1868 1872 1876 1880 1884 1888 1892 1896 1904 1908\n",
      "1912 1916 1920 1924 1928 1932 1936 1940 1944 1948 1952 1956\n",
      "1960 1964 1968 1972 1976 1980 1984 1988 1992 1996 2000 2004\n",
      "2008 2012 2016 2020 2024 2028 2032 2036 2040 2044 2048 2052\n",
      "2056 2060 2064 2068 2072 2076 2080 2084 2088 2092 2096 2104\n",
      "2108 2112 2116 2120 2124 2128 2132 2136 2140 2144 2148 2152\n",
      "2156 2160 2164 2168 2172 2176 2180 2184 2188 2192 2196 2204\n",
      "2208 "
     ]
    }
   ],
   "source": [
    "def is_leapyear(year):\n",
    "    return ((year % 4 == 0) and (year % 100)) or (year % 400 == 0)\n",
    "\n",
    "nyear = 0\n",
    "for year in range(1860, 2210):\n",
    "    if is_leapyear(year):\n",
    "        nyear = nyear + 1\n",
    "        if nyear % 12:\n",
    "            print(year, end=' ')\n",
    "        else:\n",
    "            print(year)"
   ]
  },
  {
   "cell_type": "markdown",
   "id": "42bebd8f",
   "metadata": {},
   "source": [
    "Die letzten vier Zeilen dieser beiden Codebeispiele illustrieren zugleich eine Erweiterung der\n",
    "`if`-Anweisung, in der auch eine Alternative im `else`-Zweig vorgesehen ist. Falls `nyear % 12`\n",
    "den Wahrheitswert `True` ergibt, also bei der Division von `nyear` durch 12 ein Rest bleibt, wird\n",
    "der `if`-Zweig ausgeführt. Nach der Jahreszahl wird dann noch ein Leerzeichen ausgegeben, der\n",
    "Zeilenumbruch entfällt aber. Im allen anderen Fällen, also wenn `nyear` ohne Rest durch 12 teilbar\n",
    "ist, wird die Anweisung im `else`-Zweig ausgeführt, so dass nach der Ausgabe der Jahreszahl ein \n",
    "Zeilenumbruch folgt. Auf diese Weise werden zwölf Jahreszahlen je Zeile ausgegeben.\n",
    "\n",
    "Wichtig ist, dass die `else`-Anweisung so weit eingerückt ist, wie die\n",
    "zugehörige `if`-Anweisung.  Wäre sie nur einfach eingerückt, würde sie die\n",
    "Alternative zur ersten `if`-Anweisung bilden. In diesem Fall würde jedes Jahr\n",
    "zwischen 1860 und 2209 mit Ausnahme jedes zwölften Schaltjahres ausgegeben\n",
    "werden. Nach den Schaltjahren würde nur ein Leerzeichen gesetzt werden, aber\n",
    "auf ein Zeilenumbruch verzichtet werden. Dagegen würde nach jedem Jahr, das\n",
    "kein Schaltjahr ist, ein Zeilenumbruch vorgenommen werden. Korrektes Einrücken\n",
    "ist also essentiell dafür, dass der Code wie gewünscht abgearbeitet wird."
   ]
  },
  {
   "cell_type": "code",
   "execution_count": 24,
   "id": "929bd5d5",
   "metadata": {
    "tags": [
     "output_scroll"
    ]
   },
   "outputs": [
    {
     "name": "stdout",
     "output_type": "stream",
     "text": [
      "1860 1861\n",
      "1862\n",
      "1863\n",
      "1864 1865\n",
      "1866\n",
      "1867\n",
      "1868 1869\n",
      "1870\n",
      "1871\n",
      "1872 1873\n",
      "1874\n",
      "1875\n",
      "1876 1877\n",
      "1878\n",
      "1879\n",
      "1880 1881\n",
      "1882\n",
      "1883\n",
      "1884 1885\n",
      "1886\n",
      "1887\n",
      "1888 1889\n",
      "1890\n",
      "1891\n",
      "1892 1893\n",
      "1894\n",
      "1895\n",
      "1896 1897\n",
      "1898\n",
      "1899\n",
      "1900\n",
      "1901\n",
      "1902\n",
      "1903\n",
      "1904 1905\n",
      "1906\n",
      "1907\n",
      "1909\n",
      "1910\n",
      "1911\n",
      "1912 1913\n",
      "1914\n",
      "1915\n",
      "1916 1917\n",
      "1918\n",
      "1919\n",
      "1920 1921\n",
      "1922\n",
      "1923\n",
      "1924 1925\n",
      "1926\n",
      "1927\n",
      "1928 1929\n",
      "1930\n",
      "1931\n",
      "1932 1933\n",
      "1934\n",
      "1935\n",
      "1936 1937\n",
      "1938\n",
      "1939\n",
      "1940 1941\n",
      "1942\n",
      "1943\n",
      "1944 1945\n",
      "1946\n",
      "1947\n",
      "1948 1949\n",
      "1950\n",
      "1951\n",
      "1952 1953\n",
      "1954\n",
      "1955\n",
      "1957\n",
      "1958\n",
      "1959\n",
      "1960 1961\n",
      "1962\n",
      "1963\n",
      "1964 1965\n",
      "1966\n",
      "1967\n",
      "1968 1969\n",
      "1970\n",
      "1971\n",
      "1972 1973\n",
      "1974\n",
      "1975\n",
      "1976 1977\n",
      "1978\n",
      "1979\n",
      "1980 1981\n",
      "1982\n",
      "1983\n",
      "1984 1985\n",
      "1986\n",
      "1987\n",
      "1988 1989\n",
      "1990\n",
      "1991\n",
      "1992 1993\n",
      "1994\n",
      "1995\n",
      "1996 1997\n",
      "1998\n",
      "1999\n",
      "2000 2001\n",
      "2002\n",
      "2003\n",
      "2005\n",
      "2006\n",
      "2007\n",
      "2008 2009\n",
      "2010\n",
      "2011\n",
      "2012 2013\n",
      "2014\n",
      "2015\n",
      "2016 2017\n",
      "2018\n",
      "2019\n",
      "2020 2021\n",
      "2022\n",
      "2023\n",
      "2024 2025\n",
      "2026\n",
      "2027\n",
      "2028 2029\n",
      "2030\n",
      "2031\n",
      "2032 2033\n",
      "2034\n",
      "2035\n",
      "2036 2037\n",
      "2038\n",
      "2039\n",
      "2040 2041\n",
      "2042\n",
      "2043\n",
      "2044 2045\n",
      "2046\n",
      "2047\n",
      "2048 2049\n",
      "2050\n",
      "2051\n",
      "2053\n",
      "2054\n",
      "2055\n",
      "2056 2057\n",
      "2058\n",
      "2059\n",
      "2060 2061\n",
      "2062\n",
      "2063\n",
      "2064 2065\n",
      "2066\n",
      "2067\n",
      "2068 2069\n",
      "2070\n",
      "2071\n",
      "2072 2073\n",
      "2074\n",
      "2075\n",
      "2076 2077\n",
      "2078\n",
      "2079\n",
      "2080 2081\n",
      "2082\n",
      "2083\n",
      "2084 2085\n",
      "2086\n",
      "2087\n",
      "2088 2089\n",
      "2090\n",
      "2091\n",
      "2092 2093\n",
      "2094\n",
      "2095\n",
      "2096 2097\n",
      "2098\n",
      "2099\n",
      "2100\n",
      "2101\n",
      "2102\n",
      "2103\n",
      "2105\n",
      "2106\n",
      "2107\n",
      "2108 2109\n",
      "2110\n",
      "2111\n",
      "2112 2113\n",
      "2114\n",
      "2115\n",
      "2116 2117\n",
      "2118\n",
      "2119\n",
      "2120 2121\n",
      "2122\n",
      "2123\n",
      "2124 2125\n",
      "2126\n",
      "2127\n",
      "2128 2129\n",
      "2130\n",
      "2131\n",
      "2132 2133\n",
      "2134\n",
      "2135\n",
      "2136 2137\n",
      "2138\n",
      "2139\n",
      "2140 2141\n",
      "2142\n",
      "2143\n",
      "2144 2145\n",
      "2146\n",
      "2147\n",
      "2148 2149\n",
      "2150\n",
      "2151\n",
      "2153\n",
      "2154\n",
      "2155\n",
      "2156 2157\n",
      "2158\n",
      "2159\n",
      "2160 2161\n",
      "2162\n",
      "2163\n",
      "2164 2165\n",
      "2166\n",
      "2167\n",
      "2168 2169\n",
      "2170\n",
      "2171\n",
      "2172 2173\n",
      "2174\n",
      "2175\n",
      "2176 2177\n",
      "2178\n",
      "2179\n",
      "2180 2181\n",
      "2182\n",
      "2183\n",
      "2184 2185\n",
      "2186\n",
      "2187\n",
      "2188 2189\n",
      "2190\n",
      "2191\n",
      "2192 2193\n",
      "2194\n",
      "2195\n",
      "2196 2197\n",
      "2198\n",
      "2199\n",
      "2200\n",
      "2201\n",
      "2202\n",
      "2203\n",
      "2205\n",
      "2206\n",
      "2207\n",
      "2208 2209\n"
     ]
    }
   ],
   "source": [
    "nyear = 0\n",
    "for year in range(1860, 2210):\n",
    "    is_leapyear = ((year % 4 == 0) and (year % 100)) or (year % 400 == 0)\n",
    "    if is_leapyear:\n",
    "        nyear = nyear + 1\n",
    "        if nyear % 12:\n",
    "            print(year, end=' ')\n",
    "    else:\n",
    "        print(year)"
   ]
  },
  {
   "cell_type": "markdown",
   "id": "eb0a88d9",
   "metadata": {},
   "source": [
    "Die `if…else`-Konstruktion lässt in der bisher besprochene Weise zwei mögliche Wege abhängig\n",
    "davon zu, ob eine Bedingung erfüllt ist oder nicht. Man kann aber auch mehr als zwei Alternativen\n",
    "vorsehen. Eine erste Möglichkeit, die noch nicht wirklich optimal ist, beruht auf einer Schachtelung\n",
    "von `if…else`-Verzweigungen."
   ]
  },
  {
   "cell_type": "code",
   "execution_count": 25,
   "id": "006e0845",
   "metadata": {},
   "outputs": [
    {
     "name": "stdout",
     "output_type": "stream",
     "text": [
      "-2 ist negativ.\n",
      "-1 ist negativ.\n",
      "0 ist gleich Null.\n",
      "1 ist positiv.\n",
      "2 ist positiv.\n"
     ]
    }
   ],
   "source": [
    "for n in range(-2, 3):\n",
    "    if n > 0:\n",
    "        print(f'{n} ist positiv.')\n",
    "    else:\n",
    "        if n == 0:\n",
    "            print(f'{n} ist gleich Null.')\n",
    "        else:\n",
    "            print(f'{n} ist negativ.')"
   ]
  },
  {
   "cell_type": "markdown",
   "id": "695cca4c",
   "metadata": {},
   "source": [
    "Unter Verwendung der `elif`-Anweisung, die gewissermaßen eine `else`-Anweisung und eine `if`-Anweisung\n",
    "zusammenzieht, kann man die Verzweigungen etwas weniger hierarchisch hinschreiben."
   ]
  },
  {
   "cell_type": "code",
   "execution_count": 26,
   "id": "2f41ea47",
   "metadata": {},
   "outputs": [
    {
     "name": "stdout",
     "output_type": "stream",
     "text": [
      "-2 ist negativ.\n",
      "-1 ist negativ.\n",
      "0 ist gleich Null.\n",
      "1 ist positiv.\n",
      "2 ist positiv.\n"
     ]
    }
   ],
   "source": [
    "for n in range(-2, 3):\n",
    "    if n > 0:\n",
    "        print(f'{n} ist positiv.')\n",
    "    elif n == 0:\n",
    "        print(f'{n} ist gleich Null.')\n",
    "    else:\n",
    "        print(f'{n} ist negativ.')"
   ]
  },
  {
   "cell_type": "markdown",
   "id": "481b8fa4",
   "metadata": {},
   "source": [
    "Hierbei werden nacheinander die Bedingungen `n > 0` und `n == 0` abgeprüft und für den Fall, dass keiner\n",
    "der beiden Ausdrücke gleich `True` ist, die letzte Alternative ausgeführt. Wichtig ist dabei, dass die\n",
    "Verzweigungsstruktur verlassen wird, sobald eine Bedingung erfüllt war und der zugehörige Code ausgeführt\n",
    "wurde. Dieses Verhalten wird im folgenden Beispiel illustriert."
   ]
  },
  {
   "cell_type": "code",
   "execution_count": 27,
   "id": "c915085d",
   "metadata": {},
   "outputs": [
    {
     "name": "stdout",
     "output_type": "stream",
     "text": [
      "-2 ist gerade.\n",
      "-1 ist negativ und nicht gerade.\n",
      "0 ist gerade.\n",
      "1 ist positiv.\n",
      "2 ist positiv.\n"
     ]
    }
   ],
   "source": [
    "for n in range(-2, 3):\n",
    "    if n > 0:\n",
    "        print(f'{n} ist positiv.')\n",
    "    elif n % 2 == 0:\n",
    "        print(f'{n} ist gerade.')\n",
    "    else:\n",
    "        print(f'{n} ist negativ und nicht gerade.')"
   ]
  },
  {
   "cell_type": "markdown",
   "id": "7d79cb96",
   "metadata": {},
   "source": [
    "Nachdem die `2` als positive Zahl erkannt und entsprechend behandelt wurde, wurde wegen des in `elif`\n",
    "enthaltenen `else` nicht mehr überprüft, ob die Zahl auch gerade ist.\n",
    "\n",
    "Im Prinzip kann man mehrere `elif`-Ebenen in einer Verzweigungsstruktur vorsehen. Als erstes muss jedoch\n",
    "immer eine `if`-Verzweigung stehen. Ein abschließendes `else`, das alle nicht behandelten Fälle abfängt,\n",
    "kann, muss aber nicht am Ende der Verzweigungsstruktur stehen. Zu bedenken ist allerdings, dass eine lange\n",
    "Hierarchie von Verzweigungen insbesondere dann nicht günstig ist, wenn erst eine der unteren Bedingung\n",
    "erfüllt ist, da dann zunächst einmal viele Bedingungen erfolglos ausgewertet werden müssen. In einem solchen\n",
    "Fall kann zumindest versuchen, dafür zu sorgen, dass die wahrscheinlichsten Fälle weiter oben stehen. In\n",
    "vielen Fällen kann man aber einen zusammengesetzten Datentyp, das so genannte `dictionary` verwenden, das wir\n",
    "im {numref}`dictionaries` genauer besprechen werden.\n",
    "\n",
    "(exceptions)=\n",
    "## Abfangen von Ausnahmen\n",
    "\n",
    "In {numref}`float` hatten wir festgestellt, dass Python auf den Versuch, durch Null zu teilen, mit einer\n",
    "Ausnahme oder *exception* reagiert, dem `ZeroDivisionError`. Unbehandelt führt eine solche Ausnahme zur\n",
    "Ausgabe einer Fehlermeldung und dem Abbruch der Programmausführung. Man kann solche Ausnahmen aber auch\n",
    "in geeigneter Weise behandeln. Zur Illustration betrachten wir die Funktion \n",
    "\n",
    "$$f(x)=\\frac{\\sin(x)}{x}\\,.$$\n",
    "\n",
    "Eine numerische Auswertung dieser Funktion an der Stelle $x=0$ führt zu einer Division durch Null und\n",
    "damit zu einem `ZeroDivisionError` obwohl der Wert der Funktion im Grenzübergang $x\\to 0$ gleich $1$ ist.\n",
    "\n",
    "Den speziellen Wert bei $x=0$ könnte man nun mit Hilfe einer Verzweigung behandeln."
   ]
  },
  {
   "cell_type": "code",
   "execution_count": 28,
   "id": "1819fccb",
   "metadata": {},
   "outputs": [
    {
     "name": "stdout",
     "output_type": "stream",
     "text": [
      "-0.02  0.999933\n",
      "-0.01  0.999983\n",
      " 0.00  1.000000\n",
      " 0.01  0.999983\n",
      " 0.02  0.999933\n"
     ]
    }
   ],
   "source": [
    "from math import sin\n",
    "\n",
    "def f(x):\n",
    "    if x == 0:\n",
    "        return 1\n",
    "    else:\n",
    "        return sin(x)/x\n",
    "\n",
    "for x in (-0.02, -0.01, 0, 0.01, 0.02):\n",
    "    print(f\"{x:5.2f}  {f(x):8.6f}\")"
   ]
  },
  {
   "cell_type": "markdown",
   "id": "eb54fede",
   "metadata": {},
   "source": [
    "Allerdings muss hier jedes Mal überprüft werden, ob $x=0$ ist, selbst dann, wenn dies in der Anwendung \n",
    "vielleicht nur selten oder überhaupt nicht vorkommt. Dennoch wird man den Spezialfall in vielen\n",
    "Programmiersprachen in dieser Weise behandeln.\n",
    "\n",
    "In Python folgt man stattdessen meistens dem Motto, dass um Verzeihung zu bitten einfacher ist als um\n",
    "Erlaubnis zu fragen. Anstatt also immer erst zu überprüfen, ob $x=0$ ist, dividiert man einfach durch\n",
    "$x$ und kümmert sich dann darum, wenn es Probleme gibt."
   ]
  },
  {
   "cell_type": "code",
   "execution_count": 29,
   "id": "abae5090",
   "metadata": {},
   "outputs": [
    {
     "name": "stdout",
     "output_type": "stream",
     "text": [
      "-0.02  0.999933\n",
      "-0.01  0.999983\n",
      " 0.00  1.000000\n",
      " 0.01  0.999983\n",
      " 0.02  0.999933\n"
     ]
    }
   ],
   "source": [
    "from math import sin\n",
    "\n",
    "def f(x):\n",
    "    try:\n",
    "        return sin(x)/x\n",
    "    except ZeroDivisionError:\n",
    "        return 1\n",
    "\n",
    "for x in (-0.02, -0.01, 0, 0.01, 0.02):\n",
    "    print(f\"{x:5.2f}  {f(x):8.6f}\")"
   ]
  },
  {
   "cell_type": "markdown",
   "id": "59e8f916",
   "metadata": {},
   "source": [
    "Es wird also zunächst versucht, den Code im `try`-Block auszuführen. Wenn dabei eine\n",
    "`ZeroDivisionError`-Ausnahme auftritt, wird der entsprechende Block ausgeführt. \n",
    "\n",
    "Es ist zwar im Prinzip nicht erforderlich, im Zusammenhang mit `except` eine oder mehrere Ausnahmen\n",
    "explizit zu benennen. Es ist aber sinnvoll, in der Nennung der Ausnahmen möglichst restriktiv zu sein,\n",
    "da sonst Fehler eventuell unentdeckt bleiben können, wie in dem folgenden Beispiel gezeigt ist."
   ]
  },
  {
   "cell_type": "code",
   "execution_count": 30,
   "id": "622f28ee",
   "metadata": {},
   "outputs": [
    {
     "name": "stdout",
     "output_type": "stream",
     "text": [
      "  -0.01  0.999983\n",
      "      0  1.000000\n",
      "xxx      1.000000\n"
     ]
    }
   ],
   "source": [
    "from math import sin\n",
    "\n",
    "def f(x):\n",
    "    try:\n",
    "        return sin(x)/x\n",
    "    except:\n",
    "        return 1\n",
    "\n",
    "for x in (-0.01, 0, 'xxx'):\n",
    "    print(f\"{x:7}  {f(x):8.6f}\")"
   ]
  },
  {
   "cell_type": "markdown",
   "id": "155cd76b",
   "metadata": {},
   "source": [
    "Übergibt man als Argument hier eine Zeichenkette, so kommt es bei der Division zu einem `TypeError`, \n",
    "der hier vom `except`-Block mit behandelt wird. Besser wäre es, diesen beispielsweise in einem zweiten\n",
    "`except`-Block separat und adäquat zu behandeln.\n",
    "\n",
    "```{admonition} Weiterführender Hinweis\n",
    "Nach dem `try`- und einem oder mehreren `except`-Blöcken kann noch ein `else`- oder ein `finally`-Block\n",
    "folgen. Der `else`-Block wird nur dann ausgeführt, wenn keine Ausnahme die Abarbeitung eines `except`-Blocks\n",
    "erzwingt. Dadurch ist es leicht möglich, den `try`-Block auf den relevanten Codeteil zu begrenzen. Ein\n",
    "`finally`-Block wird dagegen immer ausgeführt, zum Beispiel um notwendige Aufräumarbeiten auszuführen.\n",
    "```\n",
    "\n",
    "Abschließend wollen wir noch kurz demonstrieren, wie man Ausnahmen selbst gezielt zur Fehlerbehandlung \n",
    "einsetzen kann. Dazu greifen wir auf die Funktion `get_result` des Spiels zurück, das wir in {numref}`vorschau`\n",
    "gesprochen hatten. Dabei mussten die beiden Argumente ganze Zahlen zwischen 0 und 2 einschließlich sein.\n",
    "Für unsere Zwecke nehmen wir an, dass sichergestellt sei, dass die Argumente ganze Zahlen sind. Wir\n",
    "wollen aber den Fehlerfall von Argumenten außerhalb des vorgegebenen Bereichs behandeln."
   ]
  },
  {
   "cell_type": "code",
   "execution_count": 31,
   "id": "d487c601",
   "metadata": {},
   "outputs": [
    {
     "name": "stdout",
     "output_type": "stream",
     "text": [
      "n_self = 0 und n_other = -1 müssen beide zwischen 0 und 2 liegen.\n",
      "Ergebnis für n_self = 1 und n_other = 0: 1\n",
      "Ergebnis für n_self = 0 und n_other = 1: 2\n",
      "n_self = -1 und n_other = 3 müssen beide zwischen 0 und 2 liegen.\n",
      "Ergebnis für n_self = 0 und n_other = 0: 0\n"
     ]
    }
   ],
   "source": [
    "from random import randrange\n",
    "\n",
    "def get_result(n_self, n_other):\n",
    "    if not(0 <= n_self <=2 and 0 <= n_other <= 2):\n",
    "        raise ValueError(\n",
    "            f\"{n_self = } und {n_other = } müssen beide zwischen 0 und 2 liegen.\")\n",
    "    return (n_self-n_other) % 3\n",
    "\n",
    "for _ in range(5):\n",
    "    n_self = randrange(-1, 4)\n",
    "    n_other = randrange(-1, 4)\n",
    "    try:\n",
    "        result = get_result(n_self, n_other)\n",
    "    except ValueError as e:\n",
    "        print(e)\n",
    "    else:\n",
    "        print(f\"Ergebnis für {n_self = } und {n_other = }: {result}\")"
   ]
  },
  {
   "cell_type": "markdown",
   "id": "7e2ccd4b",
   "metadata": {},
   "source": [
    "```{admonition} Hinweis\n",
    "In diesem Codebeispiel wird in der `for`-Schleife ein Unterstrich als Variablenname verwendet. Von dieser Möglichkeit\n",
    "sollte man nur sparsamen Gebrauch machen, da ein Unterstrich im Allgemeinen nicht sehr aussagekräftig ist. Im \n",
    "vorliegenden Fall deutet der Unterstrich an, dass die Laufvariable in der Schleife nicht weiter verwendet\n",
    "wird.\n",
    "```\n",
    "\n",
    "In der Funktion `get_result` wird mit Hilfe der `raise`-Anweisung im Fehlerfall\n",
    "eine `ValueError`-Ausnahme ausgelöst, die zudem eine informative Fehlermeldung\n",
    "enthält. Im aufrufenden Programm wird mit einer `try…except`-Konstruktion der\n",
    "`ValueError` abgefangen und die in der hier `e` genannten Variable enthaltene\n",
    "Fehlermeldung ausgegeben.\n",
    "\n",
    "Einen Überblick über die von Python vordefinierten Ausnahmen findet man in der [Dokumentation der\n",
    "Python-Standardbibliothek](https://docs.python.org/3/library/exceptions.html#exception-hierarchy).\n",
    "Darüber hinaus ist es auch möglich, eigene Ausnahmen zu definieren."
   ]
  }
 ],
 "metadata": {
  "jupytext": {
   "formats": "md:myst",
   "text_representation": {
    "extension": ".md",
    "format_name": "myst",
    "format_version": "0.8",
    "jupytext_version": "1.4.1+dev"
   }
  },
  "kernelspec": {
   "display_name": "Python 3",
   "language": "python",
   "name": "python3"
  },
  "language_info": {
   "codemirror_mode": {
    "name": "ipython",
    "version": 3
   },
   "file_extension": ".py",
   "mimetype": "text/x-python",
   "name": "python",
   "nbconvert_exporter": "python",
   "pygments_lexer": "ipython3",
   "version": "3.11.6"
  },
  "source_map": [
   13,
   51,
   54,
   56,
   62,
   66,
   70,
   81,
   83,
   111,
   115,
   118,
   122,
   198,
   202,
   212,
   215,
   230,
   238,
   259,
   261,
   263,
   273,
   282,
   288,
   308,
   317,
   324,
   331,
   355,
   370,
   474,
   486,
   500,
   512,
   517,
   532,
   547,
   553,
   571,
   581,
   593,
   598,
   600,
   604,
   610,
   620,
   625,
   637,
   655,
   668,
   674,
   683,
   686,
   694,
   699,
   707,
   734,
   745,
   753,
   764,
   771,
   782,
   799,
   817
  ]
 },
 "nbformat": 4,
 "nbformat_minor": 5
}