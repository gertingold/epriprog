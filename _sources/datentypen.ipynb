{
 "cells": [
  {
   "cell_type": "markdown",
   "id": "worst-dryer",
   "metadata": {},
   "source": [
    "(datentypen)=\n",
    "# Einfache Datentypen, Variablen und Zuweisungen\n",
    "\n",
    "In {numref}`vorschau` hatten wir bereits verschiedene Datentypen kennengelernt.\n",
    "Hierzu gehören ganze Zahlen, die zum einen durch die explizite Umwandlung der\n",
    "Benutzereingabe in eine ganze Zahl oder als Ergebnis der\n",
    "{func}`randrange`-Funktion erzeugt wurden. Des Weiteren kamen Wahrheitswerte\n",
    "vor. Ganz explizit war dies bei `True` der Fall, das zur Konstruktion einer\n",
    "Dauerschleife verwendet wurde.\n",
    "\n",
    "Diese beiden Datentypen, ganze Zahlen und Wahrheitswerte gehören zu den\n",
    "einfachen Datentypen. Daneben gibt es auch zusammengesetzte Datentypen, für die\n",
    "wir in {numref}`vorschau` ebenfalls schon Beispiele gesehen hatten. Dazu\n",
    "gehören die Zeichenketten, zum Beispiel in den Zeilen 12 bis 15 des\n",
    "Beispielprogramms, aber auch die durch eckige Klammern\n",
    "gekennzeichnete Liste in Zeile 11.\n",
    "\n",
    "In diesem Kapitel werden wir uns zunächst den einfachen Datentypen zuwenden und\n",
    "die zusammengesetzten Datentypen in einem späteren Kapitel besprechen. Dabei\n",
    "werden wir vor allem neben den ganzen Zahlen noch weitere numerische Datentypen\n",
    "kennenlernen, die für natur- und ingenieurwissenschaftliche Anwendungen große\n",
    "Bedeutung besitzen.\n",
    "\n",
    "(integers)=\n",
    "## Ganze Zahlen\n",
    "\n",
    "Wir beginnen bei der Besprechung der numerischen Datentypen mit den ganzen\n",
    "Zahlen, auf Englisch *integers*. Auf den ersten Blick könnte man denken, dass\n",
    "in den Natur- und Ingenieurwissenschaften ganze Zahlen gegenüber den reellen\n",
    "Zahlen eigentlich unwichtig sind. Auch wenn diese Einschätzung nicht ganz\n",
    "falsch ist, verwenden wir auch in diesen Bereichen relativ oft ganze Zahlen,\n",
    "zum Beispiel als Index für eine Vektor- oder Matrixkomponente. Beim\n",
    "Programmieren spielen ganze Zahlen daher unter anderem eine große Rolle, sobald\n",
    "etwas gezählt oder indiziert werden muss. Eine weitere Anwendung ganzer Zahlen\n",
    "ergibt sich speziell in Python daraus, dass im Prinzip betragsmäßig beliebig\n",
    "große ganze Zahlen dargestellt werden können. Dies ermöglicht es, Rechnungen\n",
    "mit beliebiger Genauigkeit durchzuführen.\n",
    "\n",
    "Die gerade angesprochene Frage, welche Zahlen überhaupt in einer Programmiersprache\n",
    "dargestellt werden können, ist von großer Bedeutung. Es lohnt sich daher, sich\n",
    "etwas genauer damit zu beschäftigen. Zahlen werden, wie andere Objekte auch, im\n",
    "Computer intern immer mit Hilfe von Nullen und Einsen dargestellt. Begrenzt man\n",
    "den Speicherplatz je Zahl, so ist der darstellbare Zahlenbereich eingeschränkt.\n",
    "Daher werden wir im Folgenden statt von »ganzen Zahlen«, die wir für das mathematische\n",
    "Objekt verwenden wollen, lieber von »Integers« sprechen, die sich auf die im\n",
    "Computer realisierbaren Zahlen beziehen.\n",
    "\n",
    "Die Frage nach den im Computer darstellbaren Zahlen ist insofern wichtig, als\n",
    "ein Überschreiten des Zahlenbereichs zu Problemen führt. Bei den\n",
    "Gleitkommazahlen, die wir im nächsten Kapitel besprechen werden, führt eine\n",
    "begrenzte Zahl von Nachkommastellen zusätzlich zu dem Problem von\n",
    "Rundungsfehlern.\n",
    "\n",
    "Doch kommen wir zurück zu den Integers. Wenn Python im Prinzip betragsmäßig\n",
    "beliebig große Zahlen erlaubt, könnte man meinen, dass man sich um die Größe\n",
    "des Zahlenbereichs nicht weiter kümmern muss. Das ist allerdings nicht ganz\n",
    "richtig.  Zum einen ist jeder reale Computerspeicher begrenzt, so dass der\n",
    "Zahlenbereich letztlich doch eingeschränkt ist. In der Praxis spielt diese\n",
    "Einschränkung kaum eine Rolle, sondern eher die Zeit, die eine Rechenoperation\n",
    "mit sehr großen Integers benötigt. In anderen Programmiersprachen dagegen ist\n",
    "der Bereich der möglichen Integers eingeschränkt. Da die für uns wichtigen\n",
    "numerischen Programmbibliotheken NumPy und SciPy zu großen Teilen auf in C oder\n",
    "Fortran geschriebenen Programmen basieren, werden dort auch unter Python die\n",
    "Einschränkungen des Zahlenbereichs wichtig. Zu erwähnen wäre noch, dass die Integers,\n",
    "die als Index zur Adressierung in Listen oder Zeichenketten verwendet werden\n",
    "können, auch in Python beschränkt sind. Allerdings wird diese Beschränkung auf\n",
    "modernen Computern selten ein Problem darstellen.\n",
    "\n",
    "Wie ganze Zahlen im Computer dargestellt werden und was das für die\n",
    "größenmäßige Einschränkung des Zahlenbereichs bedeutet, werden wir in einem\n",
    "Anhang in {numref}`anhang_zahlensysteme` diskutieren.  Dort werden auch die\n",
    "Grundlagen des Dualsystems erklärt, das der Darstellung von Zahlen mit Hilfe\n",
    "von Nullen und Einsen zugrunde liegt. Hier wollen wir uns nun stärker der\n",
    "praktischen Arbeit mit Integers zuwenden.\n",
    "\n",
    "Als erstes wollen wir zeigen, dass Integers in Python tatsächlich sehr groß werden\n",
    "können, indem wir die tausendste Potenz von 2 ausrechnen lassen. Der doppelte Stern\n",
    "`**` steht dabei für den Exponentierungsoperator."
   ]
  },
  {
   "cell_type": "code",
   "execution_count": 1,
   "id": "jewish-rover",
   "metadata": {},
   "outputs": [
    {
     "data": {
      "text/plain": [
       "10715086071862673209484250490600018105614048117055336074437503883703510511249361224931983788156958581275946729175531468251871452856923140435984577574698574803934567774824230985421074605062371141877954182153046474983581941267398767559165543946077062914571196477686542167660429831652624386837205668069376"
      ]
     },
     "execution_count": 1,
     "metadata": {},
     "output_type": "execute_result"
    }
   ],
   "source": [
    "2**1000"
   ]
  },
  {
   "cell_type": "markdown",
   "id": "explicit-domestic",
   "metadata": {},
   "source": [
    "Das Ergebnis hat 302 Stellen. Genauso gut könnte man als Exponenten 100000 wählen\n",
    "und würde dann ein Ergebnis mit 30103 Stellen erhalten.\n",
    "\n",
    "Natürlich gibt es neben positiven Integers auch solche mit negativem Vorzeichen."
   ]
  },
  {
   "cell_type": "code",
   "execution_count": 2,
   "id": "abroad-myanmar",
   "metadata": {},
   "outputs": [
    {
     "data": {
      "text/plain": [
       "-1267650600228229401496703205376"
      ]
     },
     "execution_count": 2,
     "metadata": {},
     "output_type": "execute_result"
    }
   ],
   "source": [
    "2**100 - 2**101"
   ]
  },
  {
   "cell_type": "markdown",
   "id": "spread-elimination",
   "metadata": {},
   "source": [
    "Die Leerzeichen um das Minuszeichen der Eingabe spielen für den Pythoninterpreter\n",
    "keine Rolle, sondern dienen hier der besseren Lesbarkeit.\n",
    "\n",
    "In Python kann man auch mit Dual-, Oktal- und Hexadezimalzahlen arbeiten. Eine\n",
    "Einführung in Zahlensysteme, insbesondere das Dual- und das Hexadezimalsystem\n",
    "wird in {numref}`anhang_zahlensysteme` gegeben. Um zwischen den verschiedenen\n",
    "Zahlensystemen unterscheiden zu können, werden Präfixe verwendet, und zwar\n",
    "`0b` oder `0B` für das Dualsystem, `0o` oder `0O` für das Oktalsystem\n",
    "sowie `0x` oder `0X` für das Hexadezimalsystem. Die folgenden drei Darstellungen\n",
    "sind jeweils äquivalent zur Zahl 25 im gewohnten Dezimalsystem"
   ]
  },
  {
   "cell_type": "code",
   "execution_count": 3,
   "id": "prime-dietary",
   "metadata": {},
   "outputs": [
    {
     "data": {
      "text/plain": [
       "(25, 25, 25)"
      ]
     },
     "execution_count": 3,
     "metadata": {},
     "output_type": "execute_result"
    }
   ],
   "source": [
    "0b11001, 0o31, 0x19"
   ]
  },
  {
   "cell_type": "markdown",
   "id": "latest-intro",
   "metadata": {},
   "source": [
    "Die Umwandlung in das Binär-, Oktal- oder Hexadezimalformat erfolgt mit Hilfe der\n",
    "Funktionen `bin`, `oct` bzw. `hex`:"
   ]
  },
  {
   "cell_type": "code",
   "execution_count": 4,
   "id": "linear-holiday",
   "metadata": {},
   "outputs": [
    {
     "data": {
      "text/plain": [
       "('0b11001', '0o31', '0x19')"
      ]
     },
     "execution_count": 4,
     "metadata": {},
     "output_type": "execute_result"
    }
   ],
   "source": [
    "bin(25), oct(25), hex(25)"
   ]
  },
  {
   "cell_type": "markdown",
   "id": "downtown-romance",
   "metadata": {},
   "source": [
    "Das Ergebnis ist allerdings keine Zahl, sondern eine Zeichenkette, wie an den\n",
    "einschließenden Hochkommas zu erkennen ist.\n",
    "\n",
    "Bei den meisten grundlegenden mathematischen Operationen wie Addition, Subtraktion,\n",
    "Multiplikation und Exponentiation ist gewährleistet, dass bei der Anwendung auf\n",
    "ganze Zahlen das Ergebnis wieder eine ganze Zahl ist. Eine Ausnahme ist die Division,\n",
    "da nicht klar ist, dass sich der Dividend durch den Divisor ohne Rest teilen lässt.\n",
    "\n",
    "Um fehlerhafte Programme zu vermeiden, ist es daher wichtig zu wissen, wie die\n",
    "verwendete Programmiersprache die Division handhabt. Prinzipiell gibt es zwei\n",
    "Möglichkeiten. Eine Möglichkeit besteht darin, bei der Division von zwei ganzen\n",
    "Zahlen wieder eine ganze Zahl zu erzeugen und einen eventuell entstehenden Rest\n",
    "zu ignorieren. Bei der anderen Möglichkeit wird der Quotient als Gleitkommazahl\n",
    "dargestellt. Keine der beiden Varianten ist besser als die andere, so dass es für \n",
    "eine Programmiersprache auch keine natürliche Wahl gibt. Tatsächlich hat sich\n",
    "Python in der Version 2 an dieser Stelle anders verhalten als die Version 3, die\n",
    "wir heute benutzen.\n",
    "\n",
    "Sehen wir uns an, wie Python 3 mit der Division von zwei Integers umgeht."
   ]
  },
  {
   "cell_type": "code",
   "execution_count": 5,
   "id": "heard-retail",
   "metadata": {},
   "outputs": [
    {
     "data": {
      "text/plain": [
       "0.5"
      ]
     },
     "execution_count": 5,
     "metadata": {},
     "output_type": "execute_result"
    }
   ],
   "source": [
    "1/2"
   ]
  },
  {
   "cell_type": "code",
   "execution_count": 6,
   "id": "binding-trance",
   "metadata": {},
   "outputs": [
    {
     "data": {
      "text/plain": [
       "5.0"
      ]
     },
     "execution_count": 6,
     "metadata": {},
     "output_type": "execute_result"
    }
   ],
   "source": [
    "15/3"
   ]
  },
  {
   "cell_type": "markdown",
   "id": "enormous-hacker",
   "metadata": {},
   "source": [
    "Offenbar wird hier immer eine Gleitkommazahl erzeugt, was an dem Dezimalpunkt\n",
    "ersichtlich ist. Dies gilt auch, wenn der Quotient wie im zweiten Fall im\n",
    "Prinzip als ganze Zahl darstellbar wäre.\n",
    "\n",
    "Gelegentlich benötigt man aber eine Ganzzahldivision. In Python 3 erhält man diese\n",
    "mit einem doppelten Schrägstrich."
   ]
  },
  {
   "cell_type": "code",
   "execution_count": 7,
   "id": "local-nickname",
   "metadata": {},
   "outputs": [
    {
     "data": {
      "text/plain": [
       "0"
      ]
     },
     "execution_count": 7,
     "metadata": {},
     "output_type": "execute_result"
    }
   ],
   "source": [
    "1//2"
   ]
  },
  {
   "cell_type": "code",
   "execution_count": 8,
   "id": "current-seafood",
   "metadata": {},
   "outputs": [
    {
     "data": {
      "text/plain": [
       "2"
      ]
     },
     "execution_count": 8,
     "metadata": {},
     "output_type": "execute_result"
    }
   ],
   "source": [
    "15//7"
   ]
  },
  {
   "cell_type": "code",
   "execution_count": 9,
   "id": "analyzed-mustang",
   "metadata": {},
   "outputs": [
    {
     "data": {
      "text/plain": [
       "-3"
      ]
     },
     "execution_count": 9,
     "metadata": {},
     "output_type": "execute_result"
    }
   ],
   "source": [
    "-15//7"
   ]
  },
  {
   "cell_type": "markdown",
   "id": "welsh-feedback",
   "metadata": {},
   "source": [
    "```{admonition} Frage\n",
    "Was macht der `//`-Divisionsoperator in Python 3 tatsächlich, vor allem vor dem\n",
    "Hintergrund des letzten Beispiels? Warum dies so ist, lässt sich in einem\n",
    "[Blog-Artikel](http://python-history.blogspot.de/2010/08/why-pythons-integer-division-floors.html)\n",
    "von Guido van Rossum nachlesen.\n",
    "```\n",
    "\n",
    "Um zu verdeutlichen, dass die in Python 3 getroffene Wahl nicht zwingend ist,\n",
    "sehen wir uns zum Vergleich die Division in der Programmiersprache C an.\n",
    "Hier liefert\n",
    "```{code-block} C\n",
    "#include <stdio.h>\n",
    "\n",
    "int main(void) {\n",
    "  printf(\"%d %d\\n\", 15/7, -15/7);\n",
    "}\n",
    "```\n",
    "als Ergebnis\n",
    "```\n",
    "2 -2\n",
    "```\n",
    "Im Gegensatz zu Python 3 führt in C die Division zweier Integers wieder auf einen\n",
    "Integer. Zudem wird hier zur Null hin abgeschnitten. Im zweiten Fall ergibt sich also\n",
    "nicht -3 wie bei Python 3, sondern -2. Genauso verhält sich auch der entsprechende\n",
    "Fortran-Code\n",
    "```{code-block} fortran\n",
    "program division\n",
    "  write(*, *) 15/7, -15/7\n",
    "  write(*, *) 1/2, 1.0/2\n",
    "end program division\n",
    "```\n",
    "mit dem Ergebnis\n",
    "```\n",
    "           2          -2\n",
    "           0  0.500000000\n",
    "```\n",
    "Die zweite Ausgabezeile illustriert, dass man hier eine Gleitkommadivision\n",
    "erzwingen kann, indem man mindestens eine der beiden Zahlen zu einer Gleitkommazahl\n",
    "macht.\n",
    "\n",
    "Kommen wir nach diesem Ausflug zu anderen Programmiersprachen wieder zurück zu\n",
    "Python. Oft ist man am Rest einer Integerdivision interessiert. Diesen könnte man\n",
    "im Prinzip folgendermaßen erhalten"
   ]
  },
  {
   "cell_type": "code",
   "execution_count": 10,
   "id": "bibliographic-raising",
   "metadata": {},
   "outputs": [
    {
     "name": "stdout",
     "output_type": "stream",
     "text": [
      "3\n"
     ]
    }
   ],
   "source": [
    "zaehler = 15\n",
    "nenner = 4\n",
    "rest = zaehler - (zaehler//nenner)*nenner\n",
    "print(rest)"
   ]
  },
  {
   "cell_type": "markdown",
   "id": "frank-tomorrow",
   "metadata": {},
   "source": [
    "Mit Hilfe des Modulo-Operators `%` von Python geht dies jedoch einfacher."
   ]
  },
  {
   "cell_type": "code",
   "execution_count": 11,
   "id": "circular-understanding",
   "metadata": {},
   "outputs": [
    {
     "name": "stdout",
     "output_type": "stream",
     "text": [
      "3\n"
     ]
    }
   ],
   "source": [
    "zaehler = 15\n",
    "nenner = 4\n",
    "print(zaehler % nenner)"
   ]
  },
  {
   "cell_type": "markdown",
   "id": "sapphire-howard",
   "metadata": {},
   "source": [
    "Eine häufige Anwendung ist der Test auf eine gerade oder ungerade Zahl."
   ]
  },
  {
   "cell_type": "code",
   "execution_count": 12,
   "id": "cutting-jason",
   "metadata": {},
   "outputs": [
    {
     "data": {
      "text/plain": [
       "0"
      ]
     },
     "execution_count": 12,
     "metadata": {},
     "output_type": "execute_result"
    }
   ],
   "source": [
    "16 % 2"
   ]
  },
  {
   "cell_type": "markdown",
   "id": "professional-group",
   "metadata": {},
   "source": [
    "Ist die Zahl ohne Rest durch 2 teilbar, ist sie offenbar gerade, ansonsten ungerade."
   ]
  },
  {
   "cell_type": "code",
   "execution_count": 13,
   "id": "official-silence",
   "metadata": {},
   "outputs": [
    {
     "data": {
      "text/plain": [
       "1"
      ]
     },
     "execution_count": 13,
     "metadata": {},
     "output_type": "execute_result"
    }
   ],
   "source": [
    "17 % 2"
   ]
  },
  {
   "cell_type": "markdown",
   "id": "owned-argument",
   "metadata": {},
   "source": [
    "Benötigt man sowohl den Quotienten als auch den Rest, so kann man in Python beides\n",
    "in einem Schritt mit Hilfe der {func}`divmod`-Funktion erhalten"
   ]
  },
  {
   "cell_type": "code",
   "execution_count": 14,
   "id": "suspected-cosmetic",
   "metadata": {},
   "outputs": [
    {
     "name": "stdout",
     "output_type": "stream",
     "text": [
      "8 2\n"
     ]
    }
   ],
   "source": [
    "quotient, rest = divmod(42, 5)\n",
    "print(quotient, rest)"
   ]
  },
  {
   "cell_type": "markdown",
   "id": "falling-bearing",
   "metadata": {},
   "source": [
    "Ein weiterer wichtiger Punkt, der hier für Integers zum ersten Mal auftritt, aber\n",
    "viel weitreichendere Bedeutung hat, ist die Reihenfolge, in der Operationen \n",
    "ausgeführt werden. In dem folgenden Beispiel sehen wir, dass in Python ebenso wie\n",
    "in C und Fortran die Regel Punkt vor Strich gilt."
   ]
  },
  {
   "cell_type": "code",
   "execution_count": 15,
   "id": "controlled-dodge",
   "metadata": {},
   "outputs": [
    {
     "data": {
      "text/plain": [
       "14"
      ]
     },
     "execution_count": 15,
     "metadata": {},
     "output_type": "execute_result"
    }
   ],
   "source": [
    "2+3*4"
   ]
  },
  {
   "cell_type": "markdown",
   "id": "neutral-maldives",
   "metadata": {},
   "source": [
    "Der Ausdruck wird also nicht von links nach rechts abgearbeitet. Möchte man zuerst\n",
    "die Addition ausführen, so muss man Klammern setzen."
   ]
  },
  {
   "cell_type": "code",
   "execution_count": 16,
   "id": "impressed-liberty",
   "metadata": {},
   "outputs": [
    {
     "data": {
      "text/plain": [
       "20"
      ]
     },
     "execution_count": 16,
     "metadata": {},
     "output_type": "execute_result"
    }
   ],
   "source": [
    "(2+3)*4"
   ]
  },
  {
   "cell_type": "markdown",
   "id": "small-polymer",
   "metadata": {},
   "source": [
    "Die wichtigsten für Python geltenden Vorrangregeln sind in der {numref}`table:precedence`\n",
    "dargestellt. Dabei haben die weiter oben stehenden Operationen Vorrang vor den nachfolgenden\n",
    "Operationen.\n",
    "\n",
    "```{list-table} Die weiter oben in der Liste stehenden Operationen haben Vorrang vor den weiter unten stehenden. Eine vollständige Liste findet man unter dem Punkt [Operator precedence](http://docs.python.org/3/reference/expressions.html#operator-precedence) in der Python-Dokumentation. Beachten Sie, dass die dortige Tabelle umgekehrt geordnet ist, also weiter unten stehende Operatoren Vorrang haben.\n",
    "---\n",
    "header-rows: 1\n",
    "name: table:precedence\n",
    "---\n",
    "* - Operatoren\n",
    "  - Beschreibung\n",
    "* - **\n",
    "  - Exponentiation\n",
    "* - +x, -x\n",
    "  - Positives und negatives Vorzeichen\n",
    "* - *, /, //, %\n",
    "  - Multiplikation, Division, Modulo\n",
    "* - +, -\n",
    "  - Addition, Subtraktion\n",
    "```\n",
    "\n",
    "Wird der Exponentierungsoperator `**` direkt von einem Plus oder Minus\n",
    "gefolgt, bindet das Vorzeichen allerdings stärker, was ja auch die einzig\n",
    "sinnvolle Interpretation dieses Codes ist."
   ]
  },
  {
   "cell_type": "code",
   "execution_count": 17,
   "id": "oriental-agent",
   "metadata": {},
   "outputs": [
    {
     "data": {
      "text/plain": [
       "0.25"
      ]
     },
     "execution_count": 17,
     "metadata": {},
     "output_type": "execute_result"
    }
   ],
   "source": [
    "2**-2"
   ]
  },
  {
   "cell_type": "markdown",
   "id": "local-patent",
   "metadata": {},
   "source": [
    "Dagegen ist das Ergebnis von"
   ]
  },
  {
   "cell_type": "code",
   "execution_count": 18,
   "id": "pending-latex",
   "metadata": {},
   "outputs": [
    {
     "data": {
      "text/plain": [
       "-4"
      ]
     },
     "execution_count": 18,
     "metadata": {},
     "output_type": "execute_result"
    }
   ],
   "source": [
    "-2**2"
   ]
  },
  {
   "cell_type": "markdown",
   "id": "wrong-madonna",
   "metadata": {},
   "source": [
    "negativ.\n",
    "\n",
    "Stehen Operatoren auf der gleichen Stufe, so wird der Ausdruck von links nach\n",
    "rechts ausgewertet. Gegebenenfalls müssen Klammern verwendet werden, um die\n",
    "gewünschte Reihenfolge sicherzustellen. Es spricht auch nichts dagegen, im\n",
    "Zweifelsfall oder zur besseren Lesbarkeit Klammern zu setzen, selbst wenn diese\n",
    "nicht zur korrekten Abarbeitung des Ausdrucks erforderlich sind.\n",
    "\n",
    "```{admonition} Frage\n",
    "Was ergibt `-2*4+3**2`? Was ergibt `6**4//2`?\n",
    "```\n",
    "\n",
    "(float)=\n",
    "## Gleitkommazahlen\n",
    "\n",
    "Eine zentrale Rolle in der wissenschaftlichen Numerik spielen Gleitkommazahlen,\n",
    "die häufig auch mit dem englischen Begriff als *Floats* bezeichnet werden. \n",
    "Wir werden diesen Begriff gelegentlich verwenden, insbesondere um den Unterschied\n",
    "zum mathematischen Begriff der reellen Zahlen deutlich zu machen. Wesentlich ist\n",
    "dabei, dass sowohl der Zahlenbereich der Floats als auch die Zahl der\n",
    "Nachkommastellen begrenzt sind.\n",
    "\n",
    "Während man sich beim normalen Rechnen per Hand üblicherweise keine\n",
    "Rechenschaft darüber ablegen muss, ob eine Zahl eine ganze Zahl oder eine\n",
    "Gleitkommazahl ist, ist dies beim numerischen Arbeiten anders. Im {numref}`integers`\n",
    "hatten wir ja schon gesehen, dass der Datentyp bei der Division durchaus eine Rolle\n",
    "spielen kann.\n",
    "\n",
    "An dieser Stelle müssen wir wieder einmal auf Unterschiede zwischen Programmiersprachen\n",
    "hinweisen. In Sprachen wie C und Fortran muss der Datentyp einer Variable festgelegt\n",
    "werden. Das Fortranprogramm\n",
    "```{code-block} fortran\n",
    "---\n",
    "emphasize-lines: 6, 6\n",
    "---\n",
    "program datentyp\n",
    "  integer :: n\n",
    "  real:: x\n",
    "\n",
    "  n = 2\n",
    "  x = n\n",
    "  write(*, *) n, x\n",
    "end program datentyp\n",
    "```\n",
    "erzeugt die Ausgabe\n",
    "```\n",
    "           2   2.00000000\n",
    "```\n",
    "Gemäß der Deklaration zu Beginn des Programms handelt es sich bei der Variable `n` um\n",
    "einen Integer, während `x` ein Float ist, der in Fortran mit `real` bezeichnet wird. In\n",
    "der hervorgehobenen Zeile findet bei der Zuweisung automatisch die Umwandlung zwischen\n",
    "den beiden Datentypen statt.\n",
    "\n",
    "Im Gegensatz dazu ist eine Festlegung des Datentyps in Python nicht erforderlich.\n",
    "Man spricht in diesem Zusammenhang auch von *duck typing*: »If it looks like a\n",
    "duck and quacks like a duck, it must be a duck.« Kritiker halten dem entgegen, dass\n",
    "sich auch ein Drache scheinbar wie eine Ente verhalten kann.\n",
    "\n",
    "Den Typ einer Variable kann man in Python mit Hilfe der {func}`type`-Funktion herausfinden."
   ]
  },
  {
   "cell_type": "code",
   "execution_count": 19,
   "id": "psychological-helping",
   "metadata": {},
   "outputs": [
    {
     "name": "stdout",
     "output_type": "stream",
     "text": [
      "<class 'int'>\n"
     ]
    }
   ],
   "source": [
    "n = 2\n",
    "print(type(n))"
   ]
  },
  {
   "cell_type": "markdown",
   "id": "ecological-native",
   "metadata": {},
   "source": [
    "Eine Umwandlung von einem Integer zu einem Float lässt sich in Python mit Hilfe der \n",
    "{func}`float`-Funktion vornehmen, wobei wir in diesem Beispiel gleich überprüfen, ob\n",
    "die Umwandlung tatsächlich stattgefunden hat."
   ]
  },
  {
   "cell_type": "code",
   "execution_count": 20,
   "id": "former-transmission",
   "metadata": {},
   "outputs": [
    {
     "name": "stdout",
     "output_type": "stream",
     "text": [
      "<class 'float'>\n"
     ]
    }
   ],
   "source": [
    "x = float(n)\n",
    "print(type(x))"
   ]
  },
  {
   "cell_type": "markdown",
   "id": "urban-scroll",
   "metadata": {},
   "source": [
    "Die umgekehrte Umwandlung von Floats in Integers ist mit der {func}`int`-Funktion \n",
    "möglich, wobei der Nachkommaanteil einfach abgeschnitten wird:"
   ]
  },
  {
   "cell_type": "code",
   "execution_count": 21,
   "id": "nasty-warrior",
   "metadata": {},
   "outputs": [
    {
     "data": {
      "text/plain": [
       "2"
      ]
     },
     "execution_count": 21,
     "metadata": {},
     "output_type": "execute_result"
    }
   ],
   "source": [
    "int(2.7)"
   ]
  },
  {
   "cell_type": "markdown",
   "id": "infrared-pastor",
   "metadata": {},
   "source": [
    "Bereits das Anhängen eines Punktes genügt, damit Python die Zahl als Float\n",
    "interpretiert:"
   ]
  },
  {
   "cell_type": "code",
   "execution_count": 22,
   "id": "eligible-custody",
   "metadata": {},
   "outputs": [
    {
     "name": "stdout",
     "output_type": "stream",
     "text": [
      "<class 'float'>\n"
     ]
    }
   ],
   "source": [
    "print(type(2.))"
   ]
  },
  {
   "cell_type": "markdown",
   "id": "devoted-contamination",
   "metadata": {},
   "source": [
    "Für Floats gibt es zwei mögliche Schreibweisen. Zum einen die kann man die\n",
    "Dezimalbruchschreibweise verwenden, bei der ein Dezimalpunkt erwartet wird.\n",
    "Stehen vor oder nach dem Dezimalpunkt keine Ziffern, so wird der entsprechende\n",
    "Anteil gleich Null gesetzt."
   ]
  },
  {
   "cell_type": "code",
   "execution_count": 23,
   "id": "consolidated-shame",
   "metadata": {},
   "outputs": [
    {
     "data": {
      "text/plain": [
       "5.0"
      ]
     },
     "execution_count": 23,
     "metadata": {},
     "output_type": "execute_result"
    }
   ],
   "source": [
    "5."
   ]
  },
  {
   "cell_type": "code",
   "execution_count": 24,
   "id": "analyzed-console",
   "metadata": {},
   "outputs": [
    {
     "data": {
      "text/plain": [
       "0.25"
      ]
     },
     "execution_count": 24,
     "metadata": {},
     "output_type": "execute_result"
    }
   ],
   "source": [
    ".25"
   ]
  },
  {
   "cell_type": "markdown",
   "id": "advance-paraguay",
   "metadata": {},
   "source": [
    "Es ist aber nicht möglich, im Sinne einer abkürzenden Schreibweise sowohl vor\n",
    "als auch nach dem Dezimalpunkt auf Ziffern zu verzichten."
   ]
  },
  {
   "cell_type": "code",
   "execution_count": 25,
   "id": "worth-slovak",
   "metadata": {
    "tags": [
     "raises-exception"
    ]
   },
   "outputs": [
    {
     "ename": "SyntaxError",
     "evalue": "invalid syntax (<ipython-input-25-a5d5b61aa8a6>, line 1)",
     "output_type": "error",
     "traceback": [
      "\u001b[0;36m  File \u001b[0;32m\"<ipython-input-25-a5d5b61aa8a6>\"\u001b[0;36m, line \u001b[0;32m1\u001b[0m\n\u001b[0;31m    .\u001b[0m\n\u001b[0m    ^\u001b[0m\n\u001b[0;31mSyntaxError\u001b[0m\u001b[0;31m:\u001b[0m invalid syntax\n"
     ]
    }
   ],
   "source": [
    "."
   ]
  },
  {
   "cell_type": "markdown",
   "id": "facial-convention",
   "metadata": {},
   "source": [
    "Für sehr kleine oder sehr große Zahlen ist die Exponentialschreibweise besser\n",
    "geeignet. Die Zahl wird dabei mit Hilfe einer Mantisse, die nicht zwingend\n",
    "einen Dezimalpunkt enthalten muss, und einem ganzzahligen Exponenten, der ein\n",
    "Vorzeichen enthalten darf, dargestellt.  Zwischen Mantisse und Exponenten muss\n",
    "dabei ein `e` oder ein `E` stehen."
   ]
  },
  {
   "cell_type": "code",
   "execution_count": 26,
   "id": "thorough-nation",
   "metadata": {},
   "outputs": [
    {
     "data": {
      "text/plain": [
       "0.01"
      ]
     },
     "execution_count": 26,
     "metadata": {},
     "output_type": "execute_result"
    }
   ],
   "source": [
    "1e-2"
   ]
  },
  {
   "cell_type": "code",
   "execution_count": 27,
   "id": "diagnostic-closing",
   "metadata": {},
   "outputs": [
    {
     "data": {
      "text/plain": [
       "153.0"
      ]
     },
     "execution_count": 27,
     "metadata": {},
     "output_type": "execute_result"
    }
   ],
   "source": [
    "1.53e2"
   ]
  },
  {
   "cell_type": "code",
   "execution_count": 28,
   "id": "distinguished-count",
   "metadata": {},
   "outputs": [
    {
     "data": {
      "text/plain": [
       "1e-05"
      ]
     },
     "execution_count": 28,
     "metadata": {},
     "output_type": "execute_result"
    }
   ],
   "source": [
    "1E-5"
   ]
  },
  {
   "cell_type": "markdown",
   "id": "personal-domestic",
   "metadata": {},
   "source": [
    "Da Dezimalzahlen im Allgemeinen keine endliche Binärdarstellung besitzen, kann\n",
    "es bei der Umwandlung in die Binärdarstellung zu Rundungsfehlern kommen.\n",
    "In {numref}`dualsystem` wurde festgestellt, dass $0{,}1_{10} = 0{,}0\\overline{0011}_2$,\n",
    "so dass diese Zahl im Dualsystem auf jeden Fall abgeschnitten werden muss.\n",
    "Das Problem wird an dem folgenden Beispiel deutlich, das zudem zeigt, dass es\n",
    "auf die Reihenfolge der Operationen ankommen kann."
   ]
  },
  {
   "cell_type": "code",
   "execution_count": 29,
   "id": "instructional-public",
   "metadata": {},
   "outputs": [
    {
     "data": {
      "text/plain": [
       "5.551115123125783e-17"
      ]
     },
     "execution_count": 29,
     "metadata": {},
     "output_type": "execute_result"
    }
   ],
   "source": [
    "0.1+0.1+0.1-0.3"
   ]
  },
  {
   "cell_type": "code",
   "execution_count": 30,
   "id": "cleared-track",
   "metadata": {},
   "outputs": [
    {
     "data": {
      "text/plain": [
       "2.7755575615628914e-17"
      ]
     },
     "execution_count": 30,
     "metadata": {},
     "output_type": "execute_result"
    }
   ],
   "source": [
    "0.1-0.3+0.1+0.1"
   ]
  },
  {
   "cell_type": "markdown",
   "id": "younger-basics",
   "metadata": {},
   "source": [
    "Für die praktische Arbeit ist es wichtig, ein Gefühl dafür zu entwickeln, ob\n",
    "zum Beispiel eine von Null verschiedene Zahl ein wichtiger Effekt ist oder lediglich\n",
    "die Folge eines Rundungsfehlers.\n",
    "\n",
    "Wie bereits gesagt, sind Floats in ihrer Größe begrenzt und sie können auch\n",
    "nicht beliebig dicht liegen. Informationen hierzu lassen sich in Python abfragen.\n",
    "Die größtmögliche Zahl, die sich als Float darstellen lässt lautet"
   ]
  },
  {
   "cell_type": "code",
   "execution_count": 31,
   "id": "cheap-creator",
   "metadata": {},
   "outputs": [
    {
     "data": {
      "text/plain": [
       "1.7976931348623157e+308"
      ]
     },
     "execution_count": 31,
     "metadata": {},
     "output_type": "execute_result"
    }
   ],
   "source": [
    "import sys\n",
    "sys.float_info.max"
   ]
  },
  {
   "cell_type": "markdown",
   "id": "declared-treaty",
   "metadata": {},
   "source": [
    "Die Distanz zwischen der 1 und der nächsten darauf folgenden darstellbaren Zahl ist"
   ]
  },
  {
   "cell_type": "code",
   "execution_count": 32,
   "id": "solar-court",
   "metadata": {},
   "outputs": [
    {
     "data": {
      "text/plain": [
       "2.220446049250313e-16"
      ]
     },
     "execution_count": 32,
     "metadata": {},
     "output_type": "execute_result"
    }
   ],
   "source": [
    "sys.float_info.epsilon"
   ]
  },
  {
   "cell_type": "markdown",
   "id": "billion-labor",
   "metadata": {},
   "source": [
    "Die kleinste normalisierte Zahl ist"
   ]
  },
  {
   "cell_type": "code",
   "execution_count": 33,
   "id": "ahead-marketplace",
   "metadata": {},
   "outputs": [
    {
     "data": {
      "text/plain": [
       "2.2250738585072014e-308"
      ]
     },
     "execution_count": 33,
     "metadata": {},
     "output_type": "execute_result"
    }
   ],
   "source": [
    "sys.float_info.min"
   ]
  },
  {
   "cell_type": "markdown",
   "id": "sealed-occasions",
   "metadata": {},
   "source": [
    "aber tatsächlich ist die kleinste darstellbare Zahl gleich `5e-324`. Es gibt also\n",
    "um die Null herum eine Lücke, die jedoch deutlich kleiner ist als die Lücke zwischen\n",
    "der Eins und der darauf folgenden Zahl.\n",
    "\n",
    "```{admonition} Hinweis\n",
    ":class: tip\n",
    "Seit Python 3.9 lässt sich die kleinste darstellbare Zahl, also `5e-324`\n",
    "mit Hilfe von `math.ulp(0)` erhalten.\n",
    "```\n",
    "Der Zahlenbereich für Floats sowie die Lücken um die Null und die Eins ergeben\n",
    "sich aus dem verwendeten Zahlenformat, das im IEEE-Standard 754 definiert ist.\n",
    "Einige Informationen dazu finden sich in {numref}`anhang_floats`.\n",
    "\n",
    "Im Gegensatz zu Integers können Gleitkommazahlen also nicht beliebig groß\n",
    "werden, sondern sind auf einen allerdings recht großzügig bemessenen Bereich\n",
    "bis etwas über {math}`10^{308}` beschränkt. Sollte dieser Bereich sich als\n",
    "nicht ausreichend herausstellen, ist es empfehlenswert, sich zunächst einmal\n",
    "Gedanken darüber zu machen, ob man das verwendete numerische Verfahren geeignet\n",
    "formuliert hat. Eventuell kann schon eine Skalierung der Variablen das Problem\n",
    "beseitigen. Im schlimmsten Fall kann man in Python zum\n",
    "[{mod}`mpmath`-Modul](http://mpmath.org/doc/current/) greifen, das es erlaubt,\n",
    "mit mehr als den standardmäßigen 15 signifikanten Stellen zu rechnen.\n",
    "\n",
    "Was passiert aber, wenn man den zulässigen Zahlenbereich von Floats überschreitet?\n",
    "In diesem Fall setzt Python die entsprechende Zahl auf Unendlich oder `inf` vom\n",
    "vom englischen *infinity*."
   ]
  },
  {
   "cell_type": "code",
   "execution_count": 34,
   "id": "approved-finger",
   "metadata": {},
   "outputs": [
    {
     "data": {
      "text/plain": [
       "inf"
      ]
     },
     "execution_count": 34,
     "metadata": {},
     "output_type": "execute_result"
    }
   ],
   "source": [
    "sys.float_info.max*1.00000001"
   ]
  },
  {
   "cell_type": "markdown",
   "id": "mysterious-array",
   "metadata": {},
   "source": [
    "Dieses Unendlich ist zudem vorzeichenbehaftet."
   ]
  },
  {
   "cell_type": "code",
   "execution_count": 35,
   "id": "still-finance",
   "metadata": {},
   "outputs": [
    {
     "data": {
      "text/plain": [
       "-inf"
      ]
     },
     "execution_count": 35,
     "metadata": {},
     "output_type": "execute_result"
    }
   ],
   "source": [
    "-sys.float_info.max*1.00000001"
   ]
  },
  {
   "cell_type": "markdown",
   "id": "prescription-writer",
   "metadata": {},
   "source": [
    "In manchen Situation kann man mit dem Ergebnis sogar noch weiterrechnen."
   ]
  },
  {
   "cell_type": "code",
   "execution_count": 36,
   "id": "informed-sector",
   "metadata": {},
   "outputs": [
    {
     "name": "stdout",
     "output_type": "stream",
     "text": [
      "0.0\n"
     ]
    }
   ],
   "source": [
    "x = sys.float_info.max*1.00000001\n",
    "print(1/x)"
   ]
  },
  {
   "cell_type": "markdown",
   "id": "worth-former",
   "metadata": {},
   "source": [
    "Dies ist jedoch nicht der Fall, wenn man zweimal positiv Unendlich voneinander abziehen will."
   ]
  },
  {
   "cell_type": "code",
   "execution_count": 37,
   "id": "automotive-german",
   "metadata": {},
   "outputs": [
    {
     "data": {
      "text/plain": [
       "nan"
      ]
     },
     "execution_count": 37,
     "metadata": {},
     "output_type": "execute_result"
    }
   ],
   "source": [
    "1e400 - 1e401"
   ]
  },
  {
   "cell_type": "markdown",
   "id": "quarterly-conference",
   "metadata": {},
   "source": [
    "Hierbei steht `nan` für »not a number«. \n",
    "\n",
    "Anders als man nach dieser Diskussion vielleicht denke könnte, hat eine Division durch Null\n",
    "nicht das Ergebnis `inf`. Vielmehr gibt es einen `ZeroDivisionError`."
   ]
  },
  {
   "cell_type": "code",
   "execution_count": 38,
   "id": "latter-reading",
   "metadata": {
    "tags": [
     "raises-exception"
    ]
   },
   "outputs": [
    {
     "ename": "ZeroDivisionError",
     "evalue": "float division by zero",
     "output_type": "error",
     "traceback": [
      "\u001b[0;31m---------------------------------------------------------------------------\u001b[0m",
      "\u001b[0;31mZeroDivisionError\u001b[0m                         Traceback (most recent call last)",
      "\u001b[0;32m<ipython-input-38-aab2144c050b>\u001b[0m in \u001b[0;36m<module>\u001b[0;34m\u001b[0m\n\u001b[0;32m----> 1\u001b[0;31m \u001b[0;36m1.5\u001b[0m\u001b[0;34m/\u001b[0m\u001b[0;36m0\u001b[0m\u001b[0;34m\u001b[0m\u001b[0;34m\u001b[0m\u001b[0m\n\u001b[0m",
      "\u001b[0;31mZeroDivisionError\u001b[0m: float division by zero"
     ]
    }
   ],
   "source": [
    "1.5/0"
   ]
  },
  {
   "cell_type": "markdown",
   "id": "mental-batch",
   "metadata": {},
   "source": [
    "Hierbei handelt es sich um eine so genannte Ausnahme oder Englisch *exception*, die man geeignet\n",
    "behandeln kann, wie wir später noch sehen werden.\n",
    "\n",
    "(mathfunc)=\n",
    "## Funktionen für reelle Zahlen\n",
    "\n",
    "In numerischen Anwendungen in den Natur- und Ingenieurwissenschaften wird man häufig\n",
    "mathematische Funktionen auswerten wollen. Der Versuch, beispielsweise eine\n",
    "Exponentialfunktion auszuwerten, führt jedoch nicht unmittelbar zum Erfolg."
   ]
  },
  {
   "cell_type": "code",
   "execution_count": 39,
   "id": "polished-greenhouse",
   "metadata": {
    "tags": [
     "raises-exception"
    ]
   },
   "outputs": [
    {
     "ename": "NameError",
     "evalue": "name 'exp' is not defined",
     "output_type": "error",
     "traceback": [
      "\u001b[0;31m---------------------------------------------------------------------------\u001b[0m",
      "\u001b[0;31mNameError\u001b[0m                                 Traceback (most recent call last)",
      "\u001b[0;32m<ipython-input-39-840a487878a2>\u001b[0m in \u001b[0;36m<module>\u001b[0;34m\u001b[0m\n\u001b[0;32m----> 1\u001b[0;31m \u001b[0mexp\u001b[0m\u001b[0;34m(\u001b[0m\u001b[0;36m2\u001b[0m\u001b[0;34m)\u001b[0m\u001b[0;34m\u001b[0m\u001b[0;34m\u001b[0m\u001b[0m\n\u001b[0m",
      "\u001b[0;31mNameError\u001b[0m: name 'exp' is not defined"
     ]
    }
   ],
   "source": [
    "exp(2)"
   ]
  },
  {
   "cell_type": "markdown",
   "id": "compound-pension",
   "metadata": {},
   "source": [
    "Hierfür kann es im Wesentlichen zwei Gründe geben. Entweder hat die Exponentialfunktion\n",
    "nicht den Namen `exp` oder die Exponentialfunktion ist nicht verfügbar, zumindest nicht\n",
    "so unmittelbar, wie wir das hier annehmen. Tatsächlich muss man in Python, genauso wie\n",
    "in C, ein klein wenig mehr tun, als nur die Exponentialfunktion aufzurufen.\n",
    "\n",
    "Bevor wir uns das gleich genauer ansehen, wollen wir kurz auf zwei für das\n",
    "wissenschaftliche Rechnen relevante Programmiersprachen hinweisen, bei denen\n",
    "die Exponentialfunktion sowie eine ganze Reihe weiterer mathematischer\n",
    "Funktionen direkt aufgerufen werden können. Eine dieser Sprachen ist Fortran,\n",
    "eine relativ alte, aber im wissenschaftlichen Bereich immer noch häufig\n",
    "eingesetzte Sprache, deren Name ursprünglich als Abkürzung für »Formula\n",
    "Translation« stand. Damit kann man schon erwarten, dass sich in Fortran\n",
    "mathematische Funktionen sehr einfach verwenden lassen.\n",
    "\n",
    "Eine moderne Sprache, in der dies ebenfalls der Fall ist, ist Julia.\n",
    "Hierbei handelt es sich wie bei Python um eine interpretierte Sprache, so \n",
    "dass wir die Exponentiation einfach in der Julia-Shell ausprobieren können.\n",
    "```{code-block} julia\n",
    "$ julia\n",
    "               _\n",
    "   _       _ _(_)_     |  Documentation: https://docs.julialang.org\n",
    "  (_)     | (_) (_)    |\n",
    "   _ _   _| |_  __ _   |  Type \"?\" for help, \"]?\" for Pkg help.\n",
    "  | | | | | | |/ _` |  |\n",
    "  | | |_| | | | (_| |  |  Version 1.5.2 (2020-09-23)\n",
    " _/ |\\__'_|_|_|\\__'_|  |  Official https://julialang.org/ release\n",
    "|__/                   |\n",
    "\n",
    "julia> exp(2)\n",
    "7.38905609893065\n",
    "```\n",
    "\n",
    "Wesentlich komplizierter ist das Vorgehen in Python allerdings auch nicht. Man\n",
    "muss nur daran denken, zunächst das Modul {mod}`math`, das Bestandteil der\n",
    "Python-Standardbibliothek ist zu laden."
   ]
  },
  {
   "cell_type": "code",
   "execution_count": 40,
   "id": "satellite-serve",
   "metadata": {},
   "outputs": [
    {
     "data": {
      "text/plain": [
       "7.38905609893065"
      ]
     },
     "execution_count": 40,
     "metadata": {},
     "output_type": "execute_result"
    }
   ],
   "source": [
    "import math\n",
    "math.exp(2)"
   ]
  },
  {
   "cell_type": "markdown",
   "id": "established-compiler",
   "metadata": {},
   "source": [
    "Zum Vergleich mit Python betrachten wir den folgenden Code, der die Verwendung\n",
    "einer mathematischen Funktion in der Programmiersprache C illustriert:\n",
    "```{code-block} c\n",
    "---\n",
    "emphasize-lines: 2, 2\n",
    "---\n",
    "#include <stdio.h>\n",
    "#include <math.h>\n",
    "\n",
    "int main(void) {\n",
    "  double x = 2;\n",
    "  printf(\"Die Exponentialfunktion von %f ist %f\\n\", x, exp(x));\n",
    "}\n",
    "```\n",
    "Hier entspricht die hervorgehobene Zeile dem `import`-Befehl in Python. Zudem muss\n",
    "man beim Kompilieren, also der Übersetzung des Programms in maschinenlesbaren Code\n",
    "mit `-lm` noch die Mathematikbibliothek hinzuzulinken.\n",
    "```{code-block} bash\n",
    "$ cc -o bsp_exp bsp_exp.c -lm\n",
    "$ ./bsp_exp\n",
    "Die Exponentialfunktion von 2.000000 ist 7.389056\n",
    "```\n",
    "In der ersten Zeile wird mit `-o bsp_exp` festgelegt, dass die Ausgabedatei\n",
    "den Namen `bsp_exp` heißen soll. Diese wird in der zweiten Zeile ausgeführt\n",
    "und wir erhalten in der dritten Zeile die erwartete Ausgabe.\n",
    "\n",
    "````{admonition} Weiterführendes (rechts aufklappen)\n",
    ":class: toggle\n",
    "Nach der Kompilierung des obigen C-Programms entsteht als Zwischenprodukt\n",
    "ein so genanntes Assembler-Programm, das schon sehr maschinennah ist und\n",
    "von einem Assembler in den von einem Computer les- und ausführbaren\n",
    "Maschinencode umgewandelt wird.\n",
    "```{code-block}\n",
    "            .file   \"bsp_exp.c\"\n",
    "            .text\n",
    "            .section        .rodata\n",
    "            .align 8\n",
    "    .LC1:\n",
    "            .string \"Die Exponentialfunktion von %f ist %f\\n\"\n",
    "            .text\n",
    "            .globl  main\n",
    "            .type   main, @function\n",
    "    main:\n",
    "    .LFB0:\n",
    "            .cfi_startproc\n",
    "            pushq   %rbp\n",
    "            .cfi_def_cfa_offset 16\n",
    "            .cfi_offset 6, -16\n",
    "            movq    %rsp, %rbp\n",
    "            .cfi_def_cfa_register 6\n",
    "            subq    $32, %rsp\n",
    "            movsd   .LC0(%rip), %xmm0\n",
    "            movsd   %xmm0, -8(%rbp)\n",
    "            movq    -8(%rbp), %rax\n",
    "            movq    %rax, -24(%rbp)\n",
    "            movsd   -24(%rbp), %xmm0\n",
    "            call    exp@PLT\n",
    "            movq    -8(%rbp), %rax\n",
    "            movapd  %xmm0, %xmm1\n",
    "            movq    %rax, -24(%rbp)\n",
    "            movsd   -24(%rbp), %xmm0\n",
    "            leaq    .LC1(%rip), %rdi\n",
    "            movl    $2, %eax\n",
    "            call    printf@PLT\n",
    "            movl    $0, %eax\n",
    "            leave\n",
    "            .cfi_def_cfa 7, 8\n",
    "            ret\n",
    "            .cfi_endproc\n",
    "    .LFE0:\n",
    "            .size   main, .-main\n",
    "            .section        .rodata\n",
    "            .align 8\n",
    "    .LC0:\n",
    "            .long   0\n",
    "            .long   1073741824\n",
    "            .ident  \"GCC: (Ubuntu 7.5.0-3ubuntu1~18.04) 7.5.0\"\n",
    "            .section        .note.GNU-stack,\"\",@progbits\n",
    "```\n",
    "````\n",
    "\n",
    "Kommen wir nach diesem Ausflug in andere Programmiersprachen zurück zum Import von\n",
    "Funktionen aus dem {mod}`math`-Modul der Python-Standardbibliothek. Die obige Form\n",
    "des Imports ist nur eine von mehrere möglichen Varianten, die Vor- und Nachteile haben.\n",
    "\n",
    "In der ersten Variante, die wir weiter oben verwendet haben, wird das Modul, hier `math`\n",
    "dem eigenen Code bekannt gemacht. Dies geschieht in unserem Beispiel mit `import math`.\n",
    "Der Nachteil hiervon ist, dass man jedes Mal, wenn man sich auf ein Objekt aus dem Modul\n",
    "beziehen will, den Modulnamen voranstellen muss. Deswegen mussten wir `math.exp` schreiben.\n",
    "Diese Mehrarbeit lohnt sich aber unter Umständen, um im Code deutlich zu machen, aus\n",
    "welchem Modul zum Beispiel eine Funktion stammt.\n",
    "\n",
    "Alternativ hierzu kann man bestimmte Objekte, also Funktionen oder auch Attribute, \n",
    "importieren. Diese stehen dann wie in dem folgenden Beispiel zur Verfügung, ohne dass\n",
    "der Modulname voranzustellen ist."
   ]
  },
  {
   "cell_type": "code",
   "execution_count": 41,
   "id": "basic-latvia",
   "metadata": {},
   "outputs": [
    {
     "data": {
      "text/plain": [
       "1.0"
      ]
     },
     "execution_count": 41,
     "metadata": {},
     "output_type": "execute_result"
    }
   ],
   "source": [
    "from math import sin, cos\n",
    "sin(0.5)**2+cos(0.5)**2"
   ]
  },
  {
   "cell_type": "markdown",
   "id": "effective-progress",
   "metadata": {},
   "source": [
    "Schließlich gibt es noch die Möglichkeit,  sämtliche Objekte eines Moduls auf einmal\n",
    "einbinden"
   ]
  },
  {
   "cell_type": "code",
   "execution_count": 42,
   "id": "occupied-detector",
   "metadata": {},
   "outputs": [
    {
     "data": {
      "text/plain": [
       "2.302585092994046"
      ]
     },
     "execution_count": 42,
     "metadata": {},
     "output_type": "execute_result"
    }
   ],
   "source": [
    "from math import *\n",
    "log(10)"
   ]
  },
  {
   "cell_type": "markdown",
   "id": "posted-shopping",
   "metadata": {},
   "source": [
    "Dieses Vorgehen ist allerdings nicht ganz unproblematisch, da man auf diese\n",
    "Weise einen unter Umständen großen Namensraum einbindet und damit potentiell\n",
    "unabsichtlich Funktionen definiert oder umdefiniert, wodurch die Funktion\n",
    "des Programms beeinträchtigt werden kann. Einer solchen Situation werden wir im nächsten\n",
    "Abschnitt noch begegnen.\n",
    "\n",
    "Jetzt wollen wir uns aber zunächst einen Überblick über die Funktionalität verschaffen,\n",
    "die uns das {mod}`math`-Modul zur Verfügung stellt. Nachdem wir das Modul schon weiter\n",
    "oben importiert haben, können wir uns eine Hilfetext ausgeben lassen, der alle definierten\n",
    "Funktionen und Konstanten zusammen mit einem erläuternden Text aufführt. Wir werden im Folgenden\n",
    "einige Aspekte diskutieren. Zuvor können Sie sich aber gerne anhand des Hilfetextes einen\n",
    "ersten Überblick über die Möglichkeiten verschaffen, die das {mod}`math`-Modul bietet.\n",
    "Beachten Sie dabei, dass das Modul im Laufe der Zeit weiterentwickelt wird. Es kann also sein,\n",
    "dass einzelne Funktionen in älteren Python-Versionen noch nicht vorhanden sind."
   ]
  },
  {
   "cell_type": "code",
   "execution_count": 43,
   "id": "weighted-climate",
   "metadata": {
    "tags": [
     "output_scroll"
    ]
   },
   "outputs": [
    {
     "name": "stdout",
     "output_type": "stream",
     "text": [
      "Help on module math:\n",
      "\n",
      "NAME\n",
      "    math\n",
      "\n",
      "MODULE REFERENCE\n",
      "    https://docs.python.org/3.9/library/math\n",
      "    \n",
      "    The following documentation is automatically generated from the Python\n",
      "    source files.  It may be incomplete, incorrect or include features that\n",
      "    are considered implementation detail and may vary between Python\n",
      "    implementations.  When in doubt, consult the module reference at the\n",
      "    location listed above.\n",
      "\n",
      "DESCRIPTION\n",
      "    This module provides access to the mathematical functions\n",
      "    defined by the C standard.\n",
      "\n",
      "FUNCTIONS\n",
      "    acos(x, /)\n",
      "        Return the arc cosine (measured in radians) of x.\n",
      "        \n",
      "        The result is between 0 and pi.\n",
      "    \n",
      "    acosh(x, /)\n",
      "        Return the inverse hyperbolic cosine of x.\n",
      "    \n",
      "    asin(x, /)\n",
      "        Return the arc sine (measured in radians) of x.\n",
      "        \n",
      "        The result is between -pi/2 and pi/2.\n",
      "    \n",
      "    asinh(x, /)\n",
      "        Return the inverse hyperbolic sine of x.\n",
      "    \n",
      "    atan(x, /)\n",
      "        Return the arc tangent (measured in radians) of x.\n",
      "        \n",
      "        The result is between -pi/2 and pi/2.\n",
      "    \n",
      "    atan2(y, x, /)\n",
      "        Return the arc tangent (measured in radians) of y/x.\n",
      "        \n",
      "        Unlike atan(y/x), the signs of both x and y are considered.\n",
      "    \n",
      "    atanh(x, /)\n",
      "        Return the inverse hyperbolic tangent of x.\n",
      "    \n",
      "    ceil(x, /)\n",
      "        Return the ceiling of x as an Integral.\n",
      "        \n",
      "        This is the smallest integer >= x.\n",
      "    \n",
      "    comb(n, k, /)\n",
      "        Number of ways to choose k items from n items without repetition and without order.\n",
      "        \n",
      "        Evaluates to n! / (k! * (n - k)!) when k <= n and evaluates\n",
      "        to zero when k > n.\n",
      "        \n",
      "        Also called the binomial coefficient because it is equivalent\n",
      "        to the coefficient of k-th term in polynomial expansion of the\n",
      "        expression (1 + x)**n.\n",
      "        \n",
      "        Raises TypeError if either of the arguments are not integers.\n",
      "        Raises ValueError if either of the arguments are negative.\n",
      "    \n",
      "    copysign(x, y, /)\n",
      "        Return a float with the magnitude (absolute value) of x but the sign of y.\n",
      "        \n",
      "        On platforms that support signed zeros, copysign(1.0, -0.0)\n",
      "        returns -1.0.\n",
      "    \n",
      "    cos(x, /)\n",
      "        Return the cosine of x (measured in radians).\n",
      "    \n",
      "    cosh(x, /)\n",
      "        Return the hyperbolic cosine of x.\n",
      "    \n",
      "    degrees(x, /)\n",
      "        Convert angle x from radians to degrees.\n",
      "    \n",
      "    dist(p, q, /)\n",
      "        Return the Euclidean distance between two points p and q.\n",
      "        \n",
      "        The points should be specified as sequences (or iterables) of\n",
      "        coordinates.  Both inputs must have the same dimension.\n",
      "        \n",
      "        Roughly equivalent to:\n",
      "            sqrt(sum((px - qx) ** 2.0 for px, qx in zip(p, q)))\n",
      "    \n",
      "    erf(x, /)\n",
      "        Error function at x.\n",
      "    \n",
      "    erfc(x, /)\n",
      "        Complementary error function at x.\n",
      "    \n",
      "    exp(x, /)\n",
      "        Return e raised to the power of x.\n",
      "    \n",
      "    expm1(x, /)\n",
      "        Return exp(x)-1.\n",
      "        \n",
      "        This function avoids the loss of precision involved in the direct evaluation of exp(x)-1 for small x.\n",
      "    \n",
      "    fabs(x, /)\n",
      "        Return the absolute value of the float x.\n",
      "    \n",
      "    factorial(x, /)\n",
      "        Find x!.\n",
      "        \n",
      "        Raise a ValueError if x is negative or non-integral.\n",
      "    \n",
      "    floor(x, /)\n",
      "        Return the floor of x as an Integral.\n",
      "        \n",
      "        This is the largest integer <= x.\n",
      "    \n",
      "    fmod(x, y, /)\n",
      "        Return fmod(x, y), according to platform C.\n",
      "        \n",
      "        x % y may differ.\n",
      "    \n",
      "    frexp(x, /)\n",
      "        Return the mantissa and exponent of x, as pair (m, e).\n",
      "        \n",
      "        m is a float and e is an int, such that x = m * 2.**e.\n",
      "        If x is 0, m and e are both 0.  Else 0.5 <= abs(m) < 1.0.\n",
      "    \n",
      "    fsum(seq, /)\n",
      "        Return an accurate floating point sum of values in the iterable seq.\n",
      "        \n",
      "        Assumes IEEE-754 floating point arithmetic.\n",
      "    \n",
      "    gamma(x, /)\n",
      "        Gamma function at x.\n",
      "    \n",
      "    gcd(*integers)\n",
      "        Greatest Common Divisor.\n",
      "    \n",
      "    hypot(...)\n",
      "        hypot(*coordinates) -> value\n",
      "        \n",
      "        Multidimensional Euclidean distance from the origin to a point.\n",
      "        \n",
      "        Roughly equivalent to:\n",
      "            sqrt(sum(x**2 for x in coordinates))\n",
      "        \n",
      "        For a two dimensional point (x, y), gives the hypotenuse\n",
      "        using the Pythagorean theorem:  sqrt(x*x + y*y).\n",
      "        \n",
      "        For example, the hypotenuse of a 3/4/5 right triangle is:\n",
      "        \n",
      "            >>> hypot(3.0, 4.0)\n",
      "            5.0\n",
      "    \n",
      "    isclose(a, b, *, rel_tol=1e-09, abs_tol=0.0)\n",
      "        Determine whether two floating point numbers are close in value.\n",
      "        \n",
      "          rel_tol\n",
      "            maximum difference for being considered \"close\", relative to the\n",
      "            magnitude of the input values\n",
      "          abs_tol\n",
      "            maximum difference for being considered \"close\", regardless of the\n",
      "            magnitude of the input values\n",
      "        \n",
      "        Return True if a is close in value to b, and False otherwise.\n",
      "        \n",
      "        For the values to be considered close, the difference between them\n",
      "        must be smaller than at least one of the tolerances.\n",
      "        \n",
      "        -inf, inf and NaN behave similarly to the IEEE 754 Standard.  That\n",
      "        is, NaN is not close to anything, even itself.  inf and -inf are\n",
      "        only close to themselves.\n",
      "    \n",
      "    isfinite(x, /)\n",
      "        Return True if x is neither an infinity nor a NaN, and False otherwise.\n",
      "    \n",
      "    isinf(x, /)\n",
      "        Return True if x is a positive or negative infinity, and False otherwise.\n",
      "    \n",
      "    isnan(x, /)\n",
      "        Return True if x is a NaN (not a number), and False otherwise.\n",
      "    \n",
      "    isqrt(n, /)\n",
      "        Return the integer part of the square root of the input.\n",
      "    \n",
      "    lcm(*integers)\n",
      "        Least Common Multiple.\n",
      "    \n",
      "    ldexp(x, i, /)\n",
      "        Return x * (2**i).\n",
      "        \n",
      "        This is essentially the inverse of frexp().\n",
      "    \n",
      "    lgamma(x, /)\n",
      "        Natural logarithm of absolute value of Gamma function at x.\n",
      "    \n",
      "    log(...)\n",
      "        log(x, [base=math.e])\n",
      "        Return the logarithm of x to the given base.\n",
      "        \n",
      "        If the base not specified, returns the natural logarithm (base e) of x.\n",
      "    \n",
      "    log10(x, /)\n",
      "        Return the base 10 logarithm of x.\n",
      "    \n",
      "    log1p(x, /)\n",
      "        Return the natural logarithm of 1+x (base e).\n",
      "        \n",
      "        The result is computed in a way which is accurate for x near zero.\n",
      "    \n",
      "    log2(x, /)\n",
      "        Return the base 2 logarithm of x.\n",
      "    \n",
      "    modf(x, /)\n",
      "        Return the fractional and integer parts of x.\n",
      "        \n",
      "        Both results carry the sign of x and are floats.\n",
      "    \n",
      "    nextafter(x, y, /)\n",
      "        Return the next floating-point value after x towards y.\n",
      "    \n",
      "    perm(n, k=None, /)\n",
      "        Number of ways to choose k items from n items without repetition and with order.\n",
      "        \n",
      "        Evaluates to n! / (n - k)! when k <= n and evaluates\n",
      "        to zero when k > n.\n",
      "        \n",
      "        If k is not specified or is None, then k defaults to n\n",
      "        and the function returns n!.\n",
      "        \n",
      "        Raises TypeError if either of the arguments are not integers.\n",
      "        Raises ValueError if either of the arguments are negative.\n",
      "    \n",
      "    pow(x, y, /)\n",
      "        Return x**y (x to the power of y).\n",
      "    \n",
      "    prod(iterable, /, *, start=1)\n",
      "        Calculate the product of all the elements in the input iterable.\n",
      "        \n",
      "        The default start value for the product is 1.\n",
      "        \n",
      "        When the iterable is empty, return the start value.  This function is\n",
      "        intended specifically for use with numeric values and may reject\n",
      "        non-numeric types.\n",
      "    \n",
      "    radians(x, /)\n",
      "        Convert angle x from degrees to radians.\n",
      "    \n",
      "    remainder(x, y, /)\n",
      "        Difference between x and the closest integer multiple of y.\n",
      "        \n",
      "        Return x - n*y where n*y is the closest integer multiple of y.\n",
      "        In the case where x is exactly halfway between two multiples of\n",
      "        y, the nearest even value of n is used. The result is always exact.\n",
      "    \n",
      "    sin(x, /)\n",
      "        Return the sine of x (measured in radians).\n",
      "    \n",
      "    sinh(x, /)\n",
      "        Return the hyperbolic sine of x.\n",
      "    \n",
      "    sqrt(x, /)\n",
      "        Return the square root of x.\n",
      "    \n",
      "    tan(x, /)\n",
      "        Return the tangent of x (measured in radians).\n",
      "    \n",
      "    tanh(x, /)\n",
      "        Return the hyperbolic tangent of x.\n",
      "    \n",
      "    trunc(x, /)\n",
      "        Truncates the Real x to the nearest Integral toward 0.\n",
      "        \n",
      "        Uses the __trunc__ magic method.\n",
      "    \n",
      "    ulp(x, /)\n",
      "        Return the value of the least significant bit of the float x.\n",
      "\n",
      "DATA\n",
      "    e = 2.718281828459045\n",
      "    inf = inf\n",
      "    nan = nan\n",
      "    pi = 3.141592653589793\n",
      "    tau = 6.283185307179586\n",
      "\n",
      "FILE\n",
      "    /opt/hostedtoolcache/Python/3.9.1/x64/lib/python3.9/lib-dynload/math.cpython-39-x86_64-linux-gnu.so\n",
      "\n",
      "\n"
     ]
    }
   ],
   "source": [
    "help(math)"
   ]
  },
  {
   "cell_type": "markdown",
   "id": "expressed-spectrum",
   "metadata": {},
   "source": [
    "Zunächst stellen wir fest, dass die wichtigsten Funktionsklassen wie\n",
    "trigonometrische und hyperbolische Funktionen sowie ihre Inversen, Logarithmen\n",
    "und die Exponentialfunktion vorhanden sind. Hinzu kommt noch eine kleine Zahl\n",
    "speziellere Funktionen wie die Gamma- oder die Fehlerfunktion. Für andere\n",
    "spezielle Funktionen, beispielsweise Besselfunktionen, steht die numerische Bibliothek\n",
    "{program}`SciPy` zur Verfügung.\n",
    "\n",
    "Bei den trigonometrischen Funktionen muss man sich immer die Frage stellen, ob Winkel\n",
    "im Bogenmaß oder in Grad erwartet werden. Die trigonometrischen Funktionen aus dem\n",
    "{mod}`math`-Modul erwarten Argumente im Bogenmaß."
   ]
  },
  {
   "cell_type": "code",
   "execution_count": 44,
   "id": "artistic-cologne",
   "metadata": {},
   "outputs": [
    {
     "data": {
      "text/plain": [
       "(0.8939966636005579, 1.0)"
      ]
     },
     "execution_count": 44,
     "metadata": {},
     "output_type": "execute_result"
    }
   ],
   "source": [
    "from math import sin, pi\n",
    "sin(90), sin(0.5*pi)"
   ]
  },
  {
   "cell_type": "markdown",
   "id": "moderate-jewel",
   "metadata": {},
   "source": [
    "````{margin}\n",
    "```{admonition} Tipp\n",
    ":class: tip\n",
    "Python stellt mit `math.tau` auch die Konstante 2π zur Verfügung, die gelegentlich\n",
    "als [fundamentalere Zahl](https://tauday.com/tau-manifesto) angesehen wird.\n",
    "```\n",
    "````\n",
    "Wie man sieht, liefert das Argument in Grad nicht das vielleicht erwartete\n",
    "Ergebnis `1`.  Anders ist dies, wenn man das Argument im Bogenmaß einsetzt. In\n",
    "diesem Beispiel haben wir übrigens auch ausgenutzt, dass das {mod}`math`-Modul\n",
    "einige konstanten definiert, unter anderem eben die Kreiszahl π und die\n",
    "eulersche Zahl e.\n",
    "\n",
    "Die Umrechnung zwischen Bogenmaß und Grad kann explizit mit einem Faktor `180/π`\n",
    "vornehmen oder die Funktionen {func}`degrees` und {func}`radians` heranziehen.\n",
    "Letzteres kann für die Lesbarkeit hilfreich sein. Damit können wir unser obiges\n",
    "Beispiel für Argumente in Grad anpassen."
   ]
  },
  {
   "cell_type": "code",
   "execution_count": 45,
   "id": "exciting-township",
   "metadata": {},
   "outputs": [
    {
     "data": {
      "text/plain": [
       "1.0"
      ]
     },
     "execution_count": 45,
     "metadata": {},
     "output_type": "execute_result"
    }
   ],
   "source": [
    "from math import radians\n",
    "sin(radians(90))"
   ]
  },
  {
   "cell_type": "markdown",
   "id": "roman-princess",
   "metadata": {},
   "source": [
    "```{admonition} Hinweis\n",
    "Die Funktion {func}`sin` hatten wir bereits weiter oben importiert und brauchen\n",
    "dies daher hier nicht mehr zu tun. In einem größeren Programm würde man\n",
    "normalerweise alle benötigten `import`-Anweisungen an den Anfang des Programms\n",
    "stellen.\n",
    "```\n",
    "\n",
    "Bei der Umrechnung zwischen kartesischen und Polarkoordinaten, deren Beziehung\n",
    "durch\n",
    "\n",
    "$$\\begin{align}\n",
    "x &= r\\cos(\\varphi)\\\\\n",
    "y &= r\\sin(\\varphi)\n",
    "\\end{align}$$\n",
    "\n",
    "gegeben ist, kann man den Arkustangens verwenden, um den zu den kartesischen Koordinaten\n",
    "$(x,y)$ gehörigen Winkel\n",
    "\n",
    "$$\\varphi = \\arctan\\left(\\frac{y}{x}\\right)$$\n",
    "\n",
    "zu berechnen. Dazu muss man zunächst einmal wissen, dass der Arkustangens in Python\n",
    "durch die Funktion {func}`atan` berechnet wird."
   ]
  },
  {
   "cell_type": "code",
   "execution_count": 46,
   "id": "charged-escape",
   "metadata": {},
   "outputs": [
    {
     "data": {
      "text/plain": [
       "59.99999999999999"
      ]
     },
     "execution_count": 46,
     "metadata": {},
     "output_type": "execute_result"
    }
   ],
   "source": [
    "from math import atan, degrees, sqrt\n",
    "x = 1\n",
    "y = sqrt(3)\n",
    "degrees(atan(y/x))"
   ]
  },
  {
   "cell_type": "markdown",
   "id": "inclusive-channels",
   "metadata": {},
   "source": [
    "Wir erhalten also, bis auf einen Rundungsfehler, den erwarteten Winkel von $60^\\circ$.\n",
    "\n",
    "Allerdings gibt es zwei Probleme. Zum einen kann der Punkt auf der $y$-Achse liegen."
   ]
  },
  {
   "cell_type": "code",
   "execution_count": 47,
   "id": "sealed-prototype",
   "metadata": {
    "tags": [
     "raises-exception"
    ]
   },
   "outputs": [
    {
     "ename": "ZeroDivisionError",
     "evalue": "division by zero",
     "output_type": "error",
     "traceback": [
      "\u001b[0;31m---------------------------------------------------------------------------\u001b[0m",
      "\u001b[0;31mZeroDivisionError\u001b[0m                         Traceback (most recent call last)",
      "\u001b[0;32m<ipython-input-47-ff65a2210cca>\u001b[0m in \u001b[0;36m<module>\u001b[0;34m\u001b[0m\n\u001b[1;32m      1\u001b[0m \u001b[0mx\u001b[0m \u001b[0;34m=\u001b[0m \u001b[0;36m0\u001b[0m\u001b[0;34m\u001b[0m\u001b[0;34m\u001b[0m\u001b[0m\n\u001b[1;32m      2\u001b[0m \u001b[0my\u001b[0m \u001b[0;34m=\u001b[0m \u001b[0;36m1\u001b[0m\u001b[0;34m\u001b[0m\u001b[0;34m\u001b[0m\u001b[0m\n\u001b[0;32m----> 3\u001b[0;31m \u001b[0matan\u001b[0m\u001b[0;34m(\u001b[0m\u001b[0my\u001b[0m\u001b[0;34m/\u001b[0m\u001b[0mx\u001b[0m\u001b[0;34m)\u001b[0m\u001b[0;34m\u001b[0m\u001b[0;34m\u001b[0m\u001b[0m\n\u001b[0m",
      "\u001b[0;31mZeroDivisionError\u001b[0m: division by zero"
     ]
    }
   ],
   "source": [
    "x = 0\n",
    "y = 1\n",
    "atan(y/x)"
   ]
  },
  {
   "cell_type": "markdown",
   "id": "durable-appraisal",
   "metadata": {},
   "source": [
    "Hier kommt es überhaupt nicht zur Berechnung des Arkustangens, da schon die Division\n",
    "fehlschlägt. Das andere Probleme besteht darin, dass man nicht zwischen einem Punkt\n",
    "und dem am Ursprung gespiegelten Punkt unterscheiden kann."
   ]
  },
  {
   "cell_type": "code",
   "execution_count": 48,
   "id": "sharing-magazine",
   "metadata": {},
   "outputs": [
    {
     "data": {
      "text/plain": [
       "59.99999999999999"
      ]
     },
     "execution_count": 48,
     "metadata": {},
     "output_type": "execute_result"
    }
   ],
   "source": [
    "x = -1\n",
    "y = -sqrt(3)\n",
    "degrees(atan(y/x))"
   ]
  },
  {
   "cell_type": "markdown",
   "id": "alike-liechtenstein",
   "metadata": {},
   "source": [
    "Obwohl der Punkt im dritten Quadranten liegt, erhalten wir wieder das Ergebnis $60^\\circ$,\n",
    "während das korrekte Ergebnis $240^\\circ$ wäre.\n",
    "\n",
    "Für solche Fälle stellt Python die Funktion {func}`atan2` zur Verfügung."
   ]
  },
  {
   "cell_type": "code",
   "execution_count": 49,
   "id": "genuine-feedback",
   "metadata": {},
   "outputs": [
    {
     "name": "stdout",
     "output_type": "stream",
     "text": [
      "Help on built-in function atan2 in module math:\n",
      "\n",
      "atan2(y, x, /)\n",
      "    Return the arc tangent (measured in radians) of y/x.\n",
      "    \n",
      "    Unlike atan(y/x), the signs of both x and y are considered.\n",
      "\n"
     ]
    }
   ],
   "source": [
    "from math import atan2\n",
    "help(atan2)"
   ]
  },
  {
   "cell_type": "markdown",
   "id": "removable-teddy",
   "metadata": {},
   "source": [
    "Wichtig ist hier, dass das erste Argument der Zahl entspricht, die normalerweise im Zähler\n",
    "des Bruches stehen würde, bei uns also `y`. Unsere Beispiel würde dann folgendermaßen \n",
    "aussehen:"
   ]
  },
  {
   "cell_type": "code",
   "execution_count": 50,
   "id": "powerful-breed",
   "metadata": {},
   "outputs": [
    {
     "data": {
      "text/plain": [
       "90.0"
      ]
     },
     "execution_count": 50,
     "metadata": {},
     "output_type": "execute_result"
    }
   ],
   "source": [
    "x = 0\n",
    "y = 1\n",
    "degrees(atan2(y, x))"
   ]
  },
  {
   "cell_type": "code",
   "execution_count": 51,
   "id": "promising-recipient",
   "metadata": {},
   "outputs": [
    {
     "data": {
      "text/plain": [
       "-120.00000000000001"
      ]
     },
     "execution_count": 51,
     "metadata": {},
     "output_type": "execute_result"
    }
   ],
   "source": [
    "x = -1\n",
    "y = -sqrt(3)\n",
    "degrees(atan2(y, x))"
   ]
  },
  {
   "cell_type": "markdown",
   "id": "offensive-trout",
   "metadata": {},
   "source": [
    "Wir erhalten also die erwarteten Ergebnisse, da $-120^\\circ$ äquivalent zu $240^\\circ$ ist.\n",
    "\n",
    "Im Zusammenhang mit der Umrechnung zwischen kartesischen und Polarkoordinaten hat man\n",
    "bei der Berechnung des Abstands\n",
    "\n",
    "$$r = \\sqrt{x^2+y^2}$$\n",
    "\n",
    "die Wahl, diesen Ausdruck explizit hinzuschreiben oder die in Python vorhandene\n",
    "{func}`hypot`-Funktion zu verwenden. Letzteres kann unter anderem dazu dienen, den\n",
    "Code lesbarer zu machen."
   ]
  },
  {
   "cell_type": "code",
   "execution_count": 52,
   "id": "normal-found",
   "metadata": {},
   "outputs": [
    {
     "data": {
      "text/plain": [
       "(2.23606797749979, 2.23606797749979)"
      ]
     },
     "execution_count": 52,
     "metadata": {},
     "output_type": "execute_result"
    }
   ],
   "source": [
    "x = 1\n",
    "y = 2\n",
    "sqrt(x**2 + y**2), hypot(x, y)"
   ]
  },
  {
   "cell_type": "markdown",
   "id": "entire-israeli",
   "metadata": {},
   "source": [
    "Der Name dieser Funktion erklärt sich daraus, dass hier die Länge der Hypothenuse\n",
    "berechnet wird. Verwandt hiermit ist die {func}`dist`-Funktion, die den Abstand\n",
    "zweier Punkte berechnet. Sowohl {func}`dist` als auch {func}`hypot` funktionieren\n",
    "auch in mehr als zwei Dimensionen."
   ]
  },
  {
   "cell_type": "code",
   "execution_count": 53,
   "id": "alert-witness",
   "metadata": {},
   "outputs": [
    {
     "data": {
      "text/plain": [
       "1.7320508075688772"
      ]
     },
     "execution_count": 53,
     "metadata": {},
     "output_type": "execute_result"
    }
   ],
   "source": [
    "from math import dist\n",
    "dist((1, 2, 3), (2, 1, 4))"
   ]
  },
  {
   "cell_type": "markdown",
   "id": "coral-auckland",
   "metadata": {},
   "source": [
    "In diesem Beispiel ergibt sich wie erwartet die Wurzel aus 3.\n",
    "\n",
    "```{admonition} Hinweis\n",
    "Die Verwendung von {func}`dist` sowie von {func}`hypot` in mehr als zwei Dimensionen\n",
    "erfordert mindestens Python 3.8.\n",
    "```\n",
    "\n",
    "Eine weitere wichtige Klasse von Funktionen, die vom {mod}`math`-Modul zur Verfügung\n",
    "gestellt werden, sind die Logarithmen und die Exponentialfunktion. Hier muss man \n",
    "vor allem zwischen dem natürlichen Logarithmus, der häufig als „ln‟ geschrieben wird,\n",
    "und dem Zehner- oder dekadischen Logarithmus unterscheiden. In Python wird der natürliche\n",
    "Logarithmus mit Hilfe der {func}`log`-Funktion berechnet und für den dekadischen Logarithmus\n",
    "gibt es die {func}`log10`-Funktion. Die gleiche Namensbezeichnungen werden zum Beispiel\n",
    "in C, Fortran und Julia verwendet."
   ]
  },
  {
   "cell_type": "code",
   "execution_count": 54,
   "id": "arctic-vintage",
   "metadata": {},
   "outputs": [
    {
     "data": {
      "text/plain": [
       "(2.0, -3.0)"
      ]
     },
     "execution_count": 54,
     "metadata": {},
     "output_type": "execute_result"
    }
   ],
   "source": [
    "from math import e, log, log10\n",
    "log(e**2), log10(10**-3)"
   ]
  },
  {
   "cell_type": "markdown",
   "id": "green-wagon",
   "metadata": {},
   "source": [
    "```{admonition} Hinweis\n",
    "Die {func}`log`-Funktion akzeptiert noch ein zweites Argument, das dann die Basis\n",
    "angibt. Damit könnte man den dekadischen Logarithmus auch mit `log(x, 10)` berechnen,\n",
    "was aber potentiell ungenauer ist als `log10(x)`.\n",
    "```\n",
    "\n",
    "Neben dem natürlichen Logarithmus {func}`log` und der Exponentialfunktion {func}`exp` stellt\n",
    "Python auch noch die Funktionen {func}`log1p` und {func}`expm1` zur Verfügung. Wozu diese\n",
    "beiden Funktionen erforderlich sind, wollen wir uns nun ansehen.\n",
    "\n",
    "Mathematisch stellen Quotienten zweier Funktionen ein Problem dar, wenn sie auf einen Ausdruck\n",
    "der Form $0/0$ führen. Man muss dann eine geeignete Grenzwertbildung durchführen oder kann zum\n",
    "Beispiel den Satz von l'Hôpital anwenden. Numerisch wird das Problem noch dadurch schwieriger,\n",
    "dass Gleitkommazahlen nach einer gewissen Anzahl von Nachkommastellen abgeschnitten werden.\n",
    "\n",
    "Wenn wir also beispielsweise den Grenzwert\n",
    "\n",
    "$$\\lim_{x\\to 0} \\frac{\\mathrm{e}^x-1}{x}$$\n",
    "\n",
    "numerisch bestimmen wollen, kann es für kleine Werte von $x$ zu Problemen kommen. Wir könnten\n",
    "zwar für hinreichend kleine Werte von $x$ den Zähler mit Hilfe der Taylorreihe für die \n",
    "Exponentialfunktion\n",
    "\n",
    "$$\\mathrm{e}^x = \\sum_{n=0}^\\infty\\frac{x^n}{n!}$$\n",
    "\n",
    "annähern, aber\n",
    "die {func}`expm1`-Funktion nimmt uns diese Arbeit ab."
   ]
  },
  {
   "cell_type": "code",
   "execution_count": 55,
   "id": "characteristic-architect",
   "metadata": {},
   "outputs": [
    {
     "data": {
      "text/plain": [
       "(1.0000050000069649e-05, 1.0000050000166668e-05)"
      ]
     },
     "execution_count": 55,
     "metadata": {},
     "output_type": "execute_result"
    }
   ],
   "source": [
    "from math import expm1\n",
    "x = 0.00001\n",
    "exp(x)-1, expm1(x)"
   ]
  },
  {
   "cell_type": "markdown",
   "id": "unable-membrane",
   "metadata": {},
   "source": [
    "Mit Hilfe der führenden Terme der zugehörigen Taylorreihe wird deutlich, dass das Resultat\n",
    "der {func}`expm1`-Funktion das richtige ist. Die weiteren Terme sind zu klein, um einen\n",
    "Unterschied zu machen, und da sie positiv sind, würden Sie den Abstand zum Resultat der\n",
    "{func}`exp`-Funktion ohnehin nur weiter vergrößern."
   ]
  },
  {
   "cell_type": "code",
   "execution_count": 56,
   "id": "gothic-scroll",
   "metadata": {},
   "outputs": [
    {
     "data": {
      "text/plain": [
       "1.0000050000166668e-05"
      ]
     },
     "execution_count": 56,
     "metadata": {},
     "output_type": "execute_result"
    }
   ],
   "source": [
    "x = 0.00001\n",
    "x + x**2/2 + x**3/6"
   ]
  },
  {
   "cell_type": "markdown",
   "id": "absent-massage",
   "metadata": {},
   "source": [
    "In {numref}`fig:expm1` ist der Unterschied der beiden Berechnungsweisen als Funktion von x\n",
    "zu sehen. Die durchgezogene Linie ist mit der {func}`expm1`-Funktion berechnet. Sie läuft\n",
    "in korrekter Weise gegen den Grenzwerten, was man in dieser Auftragung daran sieht, dass\n",
    "die Abweichung $f(x)-1$ vom Grenzwert gegen Null geht. Die blauen Punkte sind dagegen mit\n",
    "der {func}`exp`-Funktion berechnet. Hier sieht man deutliche Abweichungen unterhalb von\n",
    "$x \\lesssim 10^{-8}$, die in der Praxis das gesuchte Ergebnis unter Umständen entscheidend\n",
    "verfälschen könnten.\n",
    "```{figure} images/datentypen/expm1.png\n",
    "---\n",
    "height: 8cm\n",
    "name: fig:expm1\n",
    "---\n",
    "Vergleich von `exp(x)-1` (Punkte) und `expm1(x)` (durchgezogene Linie) durch Betrachtung des\n",
    "Grenzwerts von $f(x) = (\\mathrm{e}^x-1)/x$.\n",
    "```\n",
    "\n",
    "Der Logarithmus geht für das Argument 1 durch Null, so dass dort Argumente in\n",
    "der Nähe von 1 einer besonderen Behandlung bedürfen. Hierzu steht in Python für den\n",
    "natürlichen Logarithmus die Funktion {func}`log1p` zur Verfügung."
   ]
  },
  {
   "cell_type": "code",
   "execution_count": 57,
   "id": "signal-configuration",
   "metadata": {},
   "outputs": [
    {
     "data": {
      "text/plain": [
       "(9.999950000398841e-06, 9.999950000333332e-06)"
      ]
     },
     "execution_count": 57,
     "metadata": {},
     "output_type": "execute_result"
    }
   ],
   "source": [
    "from math import log1p\n",
    "x = 1e-5\n",
    "log(1+x), log1p(x)"
   ]
  },
  {
   "cell_type": "markdown",
   "id": "occasional-trader",
   "metadata": {},
   "source": [
    "Auch hier kann man sich durch Auswertung der führenden Term der Taylorreihe von\n",
    "\n",
    "$$\\log(1+x) = \\sum_{n=1}^\\infty\\frac{(-1)^{n+1}x^n}{n}$$\n",
    "\n",
    "davon überzeugen, dass {func}`log1p` bis auf Rundungsfehler den korrekten Wert liefert."
   ]
  },
  {
   "cell_type": "code",
   "execution_count": 58,
   "id": "under-ideal",
   "metadata": {},
   "outputs": [
    {
     "data": {
      "text/plain": [
       "9.999950000333334e-06"
      ]
     },
     "execution_count": 58,
     "metadata": {},
     "output_type": "execute_result"
    }
   ],
   "source": [
    "x = 1e-5\n",
    "x - x**2/2 + x**3/3"
   ]
  },
  {
   "cell_type": "markdown",
   "id": "cloudy-green",
   "metadata": {},
   "source": [
    "## Komplexe Zahlen\n",
    "\n",
    "Neben reellen Zahlen benötigt man immer wieder auch komplexe Zahlen. Dabei\n",
    "erzeugt man einen Imaginärteil durch Anhängen des Buchstabens `j` oder `J`, das\n",
    "Ingenieure häufig statt des in der Mathematik und Physik üblichen `i` verwenden."
   ]
  },
  {
   "cell_type": "code",
   "execution_count": 59,
   "id": "sexual-colorado",
   "metadata": {},
   "outputs": [
    {
     "data": {
      "text/plain": [
       "(0.6+0.8j)"
      ]
     },
     "execution_count": 59,
     "metadata": {},
     "output_type": "execute_result"
    }
   ],
   "source": [
    "(1+0.5j)/(1-0.5j)"
   ]
  },
  {
   "cell_type": "markdown",
   "id": "systematic-tanzania",
   "metadata": {},
   "source": [
    "Alternativ kann man die Funktion {func}`complex` verwenden."
   ]
  },
  {
   "cell_type": "code",
   "execution_count": 60,
   "id": "eligible-cradle",
   "metadata": {},
   "outputs": [
    {
     "data": {
      "text/plain": [
       "(0.6+0.8j)"
      ]
     },
     "execution_count": 60,
     "metadata": {},
     "output_type": "execute_result"
    }
   ],
   "source": [
    "z1 = complex(1, 0.5)\n",
    "z2 = complex(1, -0.5)\n",
    "z1/z2"
   ]
  },
  {
   "cell_type": "markdown",
   "id": "saved-record",
   "metadata": {},
   "source": [
    "Möchte man aus den Werten zweier Variablen eine komplexe Zahl\n",
    "konstruieren, geht dies mit der zweiten der gerade genannten Methoden\n",
    "sehr einfach"
   ]
  },
  {
   "cell_type": "code",
   "execution_count": 61,
   "id": "apparent-characteristic",
   "metadata": {},
   "outputs": [
    {
     "data": {
      "text/plain": [
       "(-0.6+0.8j)"
      ]
     },
     "execution_count": 61,
     "metadata": {},
     "output_type": "execute_result"
    }
   ],
   "source": [
    "x = 1\n",
    "y = 2\n",
    "z1 = complex(x, y)\n",
    "z2 = complex(x, -y)\n",
    "z1/z2"
   ]
  },
  {
   "cell_type": "markdown",
   "id": "liable-occurrence",
   "metadata": {},
   "source": [
    "Falls man die Funktion {func}`complex` nicht verwenden möchte, muss man\n",
    "beachten, dass die folgenden beiden Wege nicht zum Ziel führen."
   ]
  },
  {
   "cell_type": "code",
   "execution_count": 62,
   "id": "reasonable-theme",
   "metadata": {
    "tags": [
     "raises-exception"
    ]
   },
   "outputs": [
    {
     "ename": "NameError",
     "evalue": "name 'yj' is not defined",
     "output_type": "error",
     "traceback": [
      "\u001b[0;31m---------------------------------------------------------------------------\u001b[0m",
      "\u001b[0;31mNameError\u001b[0m                                 Traceback (most recent call last)",
      "\u001b[0;32m<ipython-input-62-1710c726c088>\u001b[0m in \u001b[0;36m<module>\u001b[0;34m\u001b[0m\n\u001b[1;32m      1\u001b[0m \u001b[0mx\u001b[0m \u001b[0;34m=\u001b[0m \u001b[0;36m18\u001b[0m\u001b[0;34m\u001b[0m\u001b[0;34m\u001b[0m\u001b[0m\n\u001b[1;32m      2\u001b[0m \u001b[0my\u001b[0m \u001b[0;34m=\u001b[0m \u001b[0;36m9\u001b[0m\u001b[0;34m\u001b[0m\u001b[0;34m\u001b[0m\u001b[0m\n\u001b[0;32m----> 3\u001b[0;31m \u001b[0mz\u001b[0m \u001b[0;34m=\u001b[0m \u001b[0mx\u001b[0m\u001b[0;34m+\u001b[0m\u001b[0myj\u001b[0m\u001b[0;34m\u001b[0m\u001b[0;34m\u001b[0m\u001b[0m\n\u001b[0m",
      "\u001b[0;31mNameError\u001b[0m: name 'yj' is not defined"
     ]
    }
   ],
   "source": [
    "x = 18\n",
    "y = 9\n",
    "z = x+yj"
   ]
  },
  {
   "cell_type": "markdown",
   "id": "after-clark",
   "metadata": {},
   "source": [
    "Hier geht Python davon aus, dass es sich bei `yj` um eine Variable handelt,\n",
    "der aber noch kein Wert zugewiesen wurde, die also noch nicht definiert ist,\n",
    "wie Python in der Fehlermeldung sagt. Dies lässt sich leicht überprüfen, wenn\n",
    "man neben `x`, dem wir schon den Wert 18 zugewiesen haben, noch einen Wert\n",
    "für `yj` setzt."
   ]
  },
  {
   "cell_type": "code",
   "execution_count": 63,
   "id": "parental-course",
   "metadata": {},
   "outputs": [
    {
     "data": {
      "text/plain": [
       "42"
      ]
     },
     "execution_count": 63,
     "metadata": {},
     "output_type": "execute_result"
    }
   ],
   "source": [
    "yj = 24\n",
    "x+yj"
   ]
  },
  {
   "cell_type": "markdown",
   "id": "rough-answer",
   "metadata": {},
   "source": [
    "Genauso verhält es sich, wenn wir versuchen, die Variable `y`, die den Imaginärteil\n",
    "repräsentieren soll, mit `j` zu multiplizieren. `j` würde von Python wieder als noch\n",
    "undefinierte Variable angesehen und so erklärt sich dann auch die Fehlermeldung."
   ]
  },
  {
   "cell_type": "code",
   "execution_count": 64,
   "id": "sixth-monthly",
   "metadata": {
    "tags": [
     "raises-exception"
    ]
   },
   "outputs": [
    {
     "ename": "NameError",
     "evalue": "name 'j' is not defined",
     "output_type": "error",
     "traceback": [
      "\u001b[0;31m---------------------------------------------------------------------------\u001b[0m",
      "\u001b[0;31mNameError\u001b[0m                                 Traceback (most recent call last)",
      "\u001b[0;32m<ipython-input-64-a842156597de>\u001b[0m in \u001b[0;36m<module>\u001b[0;34m\u001b[0m\n\u001b[0;32m----> 1\u001b[0;31m \u001b[0mz\u001b[0m \u001b[0;34m=\u001b[0m \u001b[0mx\u001b[0m\u001b[0;34m+\u001b[0m\u001b[0my\u001b[0m\u001b[0;34m*\u001b[0m\u001b[0mj\u001b[0m\u001b[0;34m\u001b[0m\u001b[0;34m\u001b[0m\u001b[0m\n\u001b[0m",
      "\u001b[0;31mNameError\u001b[0m: name 'j' is not defined"
     ]
    }
   ],
   "source": [
    "z = x+y*j"
   ]
  },
  {
   "cell_type": "markdown",
   "id": "appreciated-backup",
   "metadata": {},
   "source": [
    "Vielmehr muss die imaginäre Einheit explizit als `1j` geschrieben\n",
    "werden. Den Grund hierfür werden wir noch genauer verstehen, wenn wir in\n",
    "{numref}`variablen` besprechen, welche Namen für Variablen zugelassen\n",
    "sind."
   ]
  },
  {
   "cell_type": "code",
   "execution_count": 65,
   "id": "trying-canvas",
   "metadata": {},
   "outputs": [
    {
     "data": {
      "text/plain": [
       "(18+9j)"
      ]
     },
     "execution_count": 65,
     "metadata": {},
     "output_type": "execute_result"
    }
   ],
   "source": [
    "z = x+y*1j\n",
    "z"
   ]
  },
  {
   "cell_type": "markdown",
   "id": "trying-arlington",
   "metadata": {},
   "source": [
    "Das Resultat für `z` ergibt sich aus den weiter oben definierten Werten von `x` und `y`.\n",
    "\n",
    "```{admonition} Aufgabe\n",
    "Zeigen Sie an einem oder mehreren Beispielen, dass das Ergebnis einer Rechnung,\n",
    "die komplexe Zahlen enthält, selbst dann als komplexe Zahl dargestellt wird, wenn\n",
    "das Ergebnis reell ist.\n",
    "```\n",
    "\n",
    "Hat man eine komplexe Zahl einer Variablen zugewiesen, wie wir dies in {numref}`variablen`\n",
    "noch genauer diskutieren werden, so lassen sich aus der Variablen wieder der Real- und\n",
    "der Imaginärteil extrahieren."
   ]
  },
  {
   "cell_type": "code",
   "execution_count": 66,
   "id": "portable-guess",
   "metadata": {},
   "outputs": [
    {
     "data": {
      "text/plain": [
       "(1.0, 0.5)"
      ]
     },
     "execution_count": 66,
     "metadata": {},
     "output_type": "execute_result"
    }
   ],
   "source": [
    "x = 1+0.5j\n",
    "x.real, x.imag"
   ]
  },
  {
   "cell_type": "markdown",
   "id": "marked-chicago",
   "metadata": {},
   "source": [
    "Man kann sich auch die konjugiert komplexe Zahl beschaffen."
   ]
  },
  {
   "cell_type": "code",
   "execution_count": 67,
   "id": "satisfied-homework",
   "metadata": {},
   "outputs": [
    {
     "data": {
      "text/plain": [
       "(1-0.5j)"
      ]
     },
     "execution_count": 67,
     "metadata": {},
     "output_type": "execute_result"
    }
   ],
   "source": [
    "x.conjugate()"
   ]
  },
  {
   "cell_type": "markdown",
   "id": "conditional-livestock",
   "metadata": {},
   "source": [
    "Die Unterschiede in den Aufrufen ergeben sich daraus, dass bei Real- und\n",
    "Imaginärteil auf Attribute, also Eigenschaften, der komplexen Zahl zugegriffen\n",
    "wird, während bei der komplexen Konjugation eine Methode aufgerufen wird, die\n",
    "etwas mit der komplexen Zahl macht. Es mag an dieser Stelle verwirren, dass man\n",
    "nicht alternativ `conjugate(x)` verwenden kann. Die Hintergründe werden im\n",
    "{numref}`oop` klarer werden, wo wir uns mit dem objektorientierten\n",
    "Programmieren beschäftigen werden.\n",
    "\n",
    "Natürlich wollen wir auch für komplexe Zahlen mathematische Funktionen\n",
    "auswerten. Das Modul {mod}`math` hilft hier aber leider nicht weiter,\n",
    "da es nur mit reellen Zahlen umgehen kann und erfolglos versucht, das\n",
    "komplexe Argument in eine reelle Zahl umzuwandeln. Python wäre durchaus in\n",
    "der Lage, eine reelle Zahl in eine komplexe Zahl umzuwandeln, aber für den\n",
    "umgekehrten Weg gibt es keine mathematisch eindeutige Vorschrift, die\n",
    "Python verwenden könnte."
   ]
  },
  {
   "cell_type": "code",
   "execution_count": 68,
   "id": "alpha-hungary",
   "metadata": {
    "tags": [
     "raises-exception"
    ]
   },
   "outputs": [
    {
     "ename": "TypeError",
     "evalue": "can't convert complex to float",
     "output_type": "error",
     "traceback": [
      "\u001b[0;31m---------------------------------------------------------------------------\u001b[0m",
      "\u001b[0;31mTypeError\u001b[0m                                 Traceback (most recent call last)",
      "\u001b[0;32m<ipython-input-68-1af733aa4184>\u001b[0m in \u001b[0;36m<module>\u001b[0;34m\u001b[0m\n\u001b[1;32m      1\u001b[0m \u001b[0;32mfrom\u001b[0m \u001b[0mmath\u001b[0m \u001b[0;32mimport\u001b[0m \u001b[0mexp\u001b[0m\u001b[0;34m,\u001b[0m \u001b[0mpi\u001b[0m\u001b[0;34m\u001b[0m\u001b[0;34m\u001b[0m\u001b[0m\n\u001b[0;32m----> 2\u001b[0;31m \u001b[0mexp\u001b[0m\u001b[0;34m(\u001b[0m\u001b[0;36m0.25j\u001b[0m\u001b[0;34m*\u001b[0m\u001b[0mpi\u001b[0m\u001b[0;34m)\u001b[0m\u001b[0;34m\u001b[0m\u001b[0;34m\u001b[0m\u001b[0m\n\u001b[0m",
      "\u001b[0;31mTypeError\u001b[0m: can't convert complex to float"
     ]
    }
   ],
   "source": [
    "from math import exp, pi\n",
    "exp(0.25j*pi)"
   ]
  },
  {
   "cell_type": "markdown",
   "id": "varying-academy",
   "metadata": {},
   "source": [
    "Es gibt jedoch in der Python-Standardbibliothek ein Modul {mod}`cmath`, das mit komplexen\n",
    "Zahlen umgehen kann."
   ]
  },
  {
   "cell_type": "code",
   "execution_count": 69,
   "id": "serial-bride",
   "metadata": {
    "tags": [
     "output_scroll"
    ]
   },
   "outputs": [
    {
     "name": "stdout",
     "output_type": "stream",
     "text": [
      "Help on module cmath:\n",
      "\n",
      "NAME\n",
      "    cmath\n",
      "\n",
      "MODULE REFERENCE\n",
      "    https://docs.python.org/3.9/library/cmath\n",
      "    \n",
      "    The following documentation is automatically generated from the Python\n",
      "    source files.  It may be incomplete, incorrect or include features that\n",
      "    are considered implementation detail and may vary between Python\n",
      "    implementations.  When in doubt, consult the module reference at the\n",
      "    location listed above.\n",
      "\n",
      "DESCRIPTION\n",
      "    This module provides access to mathematical functions for complex\n",
      "    numbers.\n",
      "\n",
      "FUNCTIONS\n",
      "    acos(z, /)\n",
      "        Return the arc cosine of z.\n",
      "    \n",
      "    acosh(z, /)\n",
      "        Return the inverse hyperbolic cosine of z.\n",
      "    \n",
      "    asin(z, /)\n",
      "        Return the arc sine of z.\n",
      "    \n",
      "    asinh(z, /)\n",
      "        Return the inverse hyperbolic sine of z.\n",
      "    \n",
      "    atan(z, /)\n",
      "        Return the arc tangent of z.\n",
      "    \n",
      "    atanh(z, /)\n",
      "        Return the inverse hyperbolic tangent of z.\n",
      "    \n",
      "    cos(z, /)\n",
      "        Return the cosine of z.\n",
      "    \n",
      "    cosh(z, /)\n",
      "        Return the hyperbolic cosine of z.\n",
      "    \n",
      "    exp(z, /)\n",
      "        Return the exponential value e**z.\n",
      "    \n",
      "    isclose(a, b, *, rel_tol=1e-09, abs_tol=0.0)\n",
      "        Determine whether two complex numbers are close in value.\n",
      "        \n",
      "          rel_tol\n",
      "            maximum difference for being considered \"close\", relative to the\n",
      "            magnitude of the input values\n",
      "          abs_tol\n",
      "            maximum difference for being considered \"close\", regardless of the\n",
      "            magnitude of the input values\n",
      "        \n",
      "        Return True if a is close in value to b, and False otherwise.\n",
      "        \n",
      "        For the values to be considered close, the difference between them must be\n",
      "        smaller than at least one of the tolerances.\n",
      "        \n",
      "        -inf, inf and NaN behave similarly to the IEEE 754 Standard. That is, NaN is\n",
      "        not close to anything, even itself. inf and -inf are only close to themselves.\n",
      "    \n",
      "    isfinite(z, /)\n",
      "        Return True if both the real and imaginary parts of z are finite, else False.\n",
      "    \n",
      "    isinf(z, /)\n",
      "        Checks if the real or imaginary part of z is infinite.\n",
      "    \n",
      "    isnan(z, /)\n",
      "        Checks if the real or imaginary part of z not a number (NaN).\n",
      "    \n",
      "    log(...)\n",
      "        log(z[, base]) -> the logarithm of z to the given base.\n",
      "        \n",
      "        If the base not specified, returns the natural logarithm (base e) of z.\n",
      "    \n",
      "    log10(z, /)\n",
      "        Return the base-10 logarithm of z.\n",
      "    \n",
      "    phase(z, /)\n",
      "        Return argument, also known as the phase angle, of a complex.\n",
      "    \n",
      "    polar(z, /)\n",
      "        Convert a complex from rectangular coordinates to polar coordinates.\n",
      "        \n",
      "        r is the distance from 0 and phi the phase angle.\n",
      "    \n",
      "    rect(r, phi, /)\n",
      "        Convert from polar coordinates to rectangular coordinates.\n",
      "    \n",
      "    sin(z, /)\n",
      "        Return the sine of z.\n",
      "    \n",
      "    sinh(z, /)\n",
      "        Return the hyperbolic sine of z.\n",
      "    \n",
      "    sqrt(z, /)\n",
      "        Return the square root of z.\n",
      "    \n",
      "    tan(z, /)\n",
      "        Return the tangent of z.\n",
      "    \n",
      "    tanh(z, /)\n",
      "        Return the hyperbolic tangent of z.\n",
      "\n",
      "DATA\n",
      "    e = 2.718281828459045\n",
      "    inf = inf\n",
      "    infj = infj\n",
      "    nan = nan\n",
      "    nanj = nanj\n",
      "    pi = 3.141592653589793\n",
      "    tau = 6.283185307179586\n",
      "\n",
      "FILE\n",
      "    /opt/hostedtoolcache/Python/3.9.1/x64/lib/python3.9/lib-dynload/cmath.cpython-39-x86_64-linux-gnu.so\n",
      "\n",
      "\n"
     ]
    }
   ],
   "source": [
    "import cmath\n",
    "help(cmath)"
   ]
  },
  {
   "cell_type": "markdown",
   "id": "efficient-energy",
   "metadata": {},
   "source": [
    "Damit können wir nun die Exponentialfunktion auf eine komplexe Zahl anwenden."
   ]
  },
  {
   "cell_type": "code",
   "execution_count": 70,
   "id": "norman-somerset",
   "metadata": {},
   "outputs": [
    {
     "data": {
      "text/plain": [
       "(0.7071067811865476+0.7071067811865475j)"
      ]
     },
     "execution_count": 70,
     "metadata": {},
     "output_type": "execute_result"
    }
   ],
   "source": [
    "from cmath import exp, pi\n",
    "exp(0.25j*pi)"
   ]
  },
  {
   "cell_type": "markdown",
   "id": "quiet-visiting",
   "metadata": {},
   "source": [
    "Dabei ist das Ergebnis immer eine komplexe Zahl. Daher kann es wünschenswert\n",
    "sein, sowohl das Modul {mod}`math` als auch das Modul {mod}`cmath` zu\n",
    "importieren:"
   ]
  },
  {
   "cell_type": "code",
   "execution_count": 71,
   "id": "olive-mathematics",
   "metadata": {},
   "outputs": [
    {
     "name": "stdout",
     "output_type": "stream",
     "text": [
      "reelle Exponentialfunktion:   7.38905609893065\n",
      "komplexe Exponentialfunktion: (0.7071067811865476+0.7071067811865475j)\n"
     ]
    }
   ],
   "source": [
    "import math, cmath\n",
    "print(f'reelle Exponentialfunktion:   {math.exp(2)}')\n",
    "print(f'komplexe Exponentialfunktion: {cmath.exp(0.25j*math.pi)}')"
   ]
  },
  {
   "cell_type": "markdown",
   "id": "annual-father",
   "metadata": {},
   "source": [
    "Bei dieser Art des Imports ist durch die Notwendigkeit, das Modul anzugeben,\n",
    "immer klar, um welche Funktion es sich handelt.\n",
    "\n",
    "Eine andere Möglichkeit wäre ein Umbenennung von einer der beiden Funktionen,\n",
    "wobei der Name nicht zwingend `cexp` sein müsste.."
   ]
  },
  {
   "cell_type": "code",
   "execution_count": 72,
   "id": "considerable-headline",
   "metadata": {},
   "outputs": [
    {
     "name": "stdout",
     "output_type": "stream",
     "text": [
      "reelle Exponentialfunktion:   7.38905609893065\n",
      "komplexe Exponentialfunktion: (0.7071067811865476+0.7071067811865475j)\n"
     ]
    }
   ],
   "source": [
    "from math import exp, pi\n",
    "from cmath import exp as cexp\n",
    "print(f'reelle Exponentialfunktion:   {exp(2)}')\n",
    "print(f'komplexe Exponentialfunktion: {cexp(0.25j*math.pi)}')"
   ]
  },
  {
   "cell_type": "markdown",
   "id": "dried-cause",
   "metadata": {},
   "source": [
    "```{admonition} Frage\n",
    "Welche Funktion wird verwendet, wenn man nacheinander die Funktion\n",
    "{func}`exp` aus dem Modul {mod}`math` und aus dem Modul {mod}`cmath` importiert\n",
    "ohne wie im vorigen Beispiel eine Umbenennung durchzuführen? Probieren Sie es\n",
    "einfach mal aus.\n",
    "```\n",
    "\n",
    "(variablen)=\n",
    "\n",
    "## Variablen und Zuweisungen\n",
    "\n",
    "Aus der Mathematik kennen wir das Konzept von Variablen, denen man je nach\n",
    "Anwendungsfall bestimmte Werte zuweisen kann. Es ist aber auch möglich, auf die\n",
    "explizite Zuweisung von Werten gänzlich zu verzichten und mit Variablen rein\n",
    "symbolisch zu rechnen. Wir werden im Folgenden immer den ersten Fall im Blick\n",
    "haben, bei dem Variablen ein Wert zugewiesen wird, der sich im Lauf der\n",
    "Programmabarbeitung auch verändern kann. Variablen sind in diesem Sinne Namen\n",
    "für Bereiche im Computerspeicher, die bestimmte Informationen enthalten.\n",
    "\n",
    "Die Beschränkung auf den ersten Fall bedeutet jedoch nicht, dass es auf Computern\n",
    "nicht möglich wäre, auch rein symbolisch zu rechnen, wie Computeralgebrasysteme\n",
    "zeigen. Auch in Python ist mit Hilfe der [`sympy`-Bibliothek](https://www.sympy.org/)\n",
    "symbolisches Rechnen möglich.\n",
    "\n",
    "Eine Variable soll nun den Speicherplatz bezeichnen, in dem ein bestimmtes Objekt,\n",
    "also zum Beispiel eine Zahl, eine Zeichenkette oder ein Objekt eines der anderen\n",
    "Datentypen, die wir noch kennenlernen werden, abgespeichert ist. Bedenkt man, dass\n",
    "der Ort im Speicher auch einfach durch eine Zahl angegeben werden könnte, wird klar,\n",
    "dass Variablen eine wichtige Rolle dabei spielen, ein Programm gut lesbar zu machen.\n",
    "\n",
    "```{admonition} Tipp\n",
    ":class: tip\n",
    "Es lohnt sich, bewusst beschreibende Variablennamen zu wählen, auch wenn es etwas Mühe kostet.\n",
    "In den meisten Fällen sind hierfür Variablennamen, die nur aus einem Buchstaben bestehen,\n",
    "ungeeignet, auch wenn sie bequem erscheinen mögen. Denken Sie daran, dass es für andere\n",
    "nicht offensichtlich sein wird, was die Bedeutung einer Variablen `x` im konkreten Fall\n",
    "ist. Unter Umständen handelt es sich bei dieser anderen Person auch um Sie selbst, wenn\n",
    "Sie nach einem halben Jahr wieder einen Blick auf Ihr Programm werfen. Eine beschreibende\n",
    "Benennung von Variablen ist ein wesentlicher Schritt zu einem gut dokumentierten Programm.\n",
    "```\n",
    "\n",
    "Wie muss ein Variablenname oder allgemein ein Bezeichner aufgebaut sein, damit er als\n",
    "solcher erkannt wird? Die Antwort hängt von der benutzten Programmiersprache ab, so dass\n",
    "wir sie hier konkret für Python beantworten werden. Die wesentlichen Aspekte gelten aber\n",
    "auch für die anderen verbreiteten Programmiersprachen für wissenschaftliche Anwendungen.\n",
    "\n",
    "In Python besteht ein Bezeichner aus einer beliebigen Zahl von Zeichen, wobei\n",
    "Buchstaben, der Unterstrich (`_`) und Ziffern zugelassen sind. Das erste Zeichen\n",
    "darf jedoch keine Ziffer sein. Der Unterstrich zu Beginn und am Ende eines Bezeichners\n",
    "impliziert üblicherweise eine spezielle Bedeutung, auf die wir später noch zurückkommen\n",
    "werden. Daher sollte man es sich zur Regel machen, den Unterstrich höchstens innerhalb\n",
    "eines Bezeichners zu verwenden, sofern man nicht bewusst den Unterstrich in anderer\n",
    "Weise einsetzt.\n",
    "\n",
    "Viel interessanter als Unterstriche sind Buchstaben. Diese umfassen zunächst\n",
    "einmal die Großbuchstaben `A-Z` und Kleinbuchstaben `a-z`. Wie sieht es\n",
    "aber mit Umlauten oder gar mit Buchstaben aus anderen Schriftsystemen,\n",
    "beispielsweise griechischen Buchstaben aus? In diesem Zusammenhang stellt sich\n",
    "die Frage, wie Zeichen im Rechner überhaupt in einer binären Form dargestellt\n",
    "werden. Es gibt hierfür zahlreiche Standards, unter anderem den ASCII-Standard,\n",
    "der noch nicht einmal Umlaute kennt, den ISO-8859-1-Standard, der diesen\n",
    "Mangel behebt, aber dennoch im Umfang sehr beschränkt ist, bis hin zum\n",
    "Unicode-Standard, der mehr als hunderttausend Zeichen umfasst. Für den\n",
    "Unicode-Standard gibt es wiederum verschiedene Codierungen, insbesondere die in\n",
    "der westlichen Welt sinnvolle UTF-8-Kodierung. Etwas mehr Details zu diesem\n",
    "Thema sind im {numref}`appendixunicode` zu finden. \n",
    "\n",
    "````{margin}\n",
    "```{admonition} Weiterführender Hinweis\n",
    "Ein technisch präzise Beschreibung der erlaubten Zeichen findet sich in der\n",
    "[Sprachdokumentation von Python](https://docs.python.org/3/reference/lexical_analysis.html#identifiers).\n",
    "```\n",
    "````\n",
    "\n",
    "Die systematische Unterstützung des Unicode-Standards durch Python impliziert,\n",
    "dass Buchstaben in Bezeichnern alle Zeichen sein können, die im\n",
    "Unicode-Standard als Buchstaben angesehen werden, also neben Umlauten zum\n",
    "Beispiel auch griechische Zeichen. Ob es wirklich sinnvoll ist, Buchstaben von\n",
    "außerhalb des Bereiche `A-Z` und `a-z` zu verwenden, sollte man sich im\n",
    "Einzelfall gut überlegen. Man muss sich nur vor Augen halten, was es für Folgen\n",
    "hätte, wenn man ein Programm analysieren müsste, das unter Verwendung von\n",
    "chinesischen Schriftzeichen geschrieben wurde. Dennoch ist zum Beispiel der\n",
    "folgende Code für Python 3 kein Problem."
   ]
  },
  {
   "cell_type": "code",
   "execution_count": 73,
   "id": "spare-tolerance",
   "metadata": {},
   "outputs": [
    {
     "name": "stdout",
     "output_type": "stream",
     "text": [
      "12.566370614359172\n"
     ]
    }
   ],
   "source": [
    "from math import pi as π\n",
    "Radius = 2\n",
    "Fläche = π*Radius**2\n",
    "print(Fläche)"
   ]
  },
  {
   "cell_type": "markdown",
   "id": "handy-console",
   "metadata": {},
   "source": [
    "Es ist nicht selbstverständlich, dass Variablennamen mit Umlauten, griechischen\n",
    "Buchstaben oder allgemein Zeichen außerhalb der Bereiche `A-Z` und `a-z`\n",
    "in anderen Programmiersprachen ebenfalls zugelassen sind. Will man solche Zeichen\n",
    "überhaupt verwenden, so sollte man sich hierüber informieren.\n",
    "\n",
    "Bei einer Programmiersprache ist auch immer die Frage zu klären, ob zwischen\n",
    "Groß- und Kleinschreibung unterschieden wird. Python tut dies, so dass `var`,\n",
    "`Var` und `VAR` verschiedene Variablen bezeichnen und für Python nichts\n",
    "miteinander zu tun haben. Auch hier stellt sich im Einzelfall die Frage, ob es\n",
    "sinnvoll ist, in einem Programm einen Variablennamen gleichzeitig in Groß- und\n",
    "Kleinschreibung zu verwenden. Es ist jedoch wichtig zu wissen, dass eine\n",
    "Fehlfunktion des Programms ihren Ursprung in einem Tippfehler haben kann, bei\n",
    "dem Groß- und Kleinschreibung nicht beachtet wurden.\n",
    "\n",
    "Für die Verständlichkeit des Programmcodes ist es angebracht, möglichst\n",
    "aussagekräftige Bezeichner zu verwenden, auch wenn diese im Allgemeinen etwas\n",
    "länger ausfallen. Dabei kann es sinnvoll sein, einen Bezeichner aus mehreren\n",
    "Wörtern zusammenzusetzen. Um die einzelnen Bestandteile erkennen zu können,\n",
    "sind verschiedene Varianten üblich. Man kann zur Trennung einen Unterstrich\n",
    "verwenden, z.B. `sortiere_liste`. Alternativ kann man neue Worte mit einem\n",
    "Großbuchstaben beginnen, wobei der erste Buchstabe des Bezeichners groß oder\n",
    "klein geschrieben werden kann, z.B. `sortiereListe` oder `SortiereListe`.\n",
    "Im ersten Fall spricht man von *mixedCase*, im zweiten Fall von *CamelCase*, da\n",
    "die Großbuchstaben an Höcker eines Kamels erinnern. Details zu den in Python\n",
    "empfohlenen Konventionen für Bezeichner finden Sie im Python Enhancement Proposal {pep}`8`\n",
    "mit dem Titel »Style Guide for Python Code« im Abschnitt *Naming Conventions*.\n",
    "\n",
    "In Python existieren eine Reihe von Schlüsselwörtern, die als Sprachelemente reserviert\n",
    "sind und daher nicht für Bezeichner verwendet werden dürfen. Die aktuelle Liste lässt\n",
    "sich mit einem kleinen Python-Programm erzeugen oder einfach in der [Sprachdokumentation von\n",
    "Python](https://docs.python.org/3/reference/lexical_analysis.html#keywords) nachschlagen.\n",
    "Wichtiger als das kurze Programm, das wir an dieser Stelle noch nicht vollständig verstehen\n",
    "können, ist das Ergebnis der reservierten Schlüsselwörter."
   ]
  },
  {
   "cell_type": "code",
   "execution_count": 74,
   "id": "hybrid-medium",
   "metadata": {},
   "outputs": [
    {
     "name": "stdout",
     "output_type": "stream",
     "text": [
      "False           None            True            __peg_parser__  and             \n",
      "as              assert          async           await           break           \n",
      "class           continue        def             del             elif            \n",
      "else            except          finally         for             from            \n",
      "global          if              import          in              is              \n",
      "lambda          nonlocal        not             or              pass            \n",
      "raise           return          try             while           with            \n",
      "yield           "
     ]
    }
   ],
   "source": [
    "from keyword import kwlist\n",
    "\n",
    "for nr, kw in enumerate(kwlist):\n",
    "    print(f'{kw:<16s}', end='')\n",
    "    if nr % 5 == 4:\n",
    "        print()"
   ]
  },
  {
   "cell_type": "markdown",
   "id": "canadian-report",
   "metadata": {},
   "source": [
    "```{admonition} Wichtiger Hinweis\n",
    ":class: warning\n",
    "Da griechische Buchstaben in der Physik relativ häufig sind, ist \n",
    "insbesondere darauf zu achten, dass `lambda` reserviert ist. Der Grund hierfür\n",
    "liegt darin, dass Python so genannte Lambdafunktionen zur Verfügung stellt, die\n",
    "wir im {numref}`lambdafunktionen` diskutieren werden.\n",
    "```\n",
    "\n",
    "Variablen kann nun ein Wert zugewiesen werden. Die Zuweisung wird dabei durch\n",
    "ein Gleichheitszeichen gekennzeichnet."
   ]
  },
  {
   "cell_type": "code",
   "execution_count": 75,
   "id": "pharmaceutical-protection",
   "metadata": {},
   "outputs": [
    {
     "name": "stdout",
     "output_type": "stream",
     "text": [
      "nach der ersten Zuweisung:  x = 1\n",
      "nach der zweiten Zuweisung: x = 2\n"
     ]
    }
   ],
   "source": [
    "x = 1\n",
    "print(f'nach der ersten Zuweisung:  x = {x}')\n",
    "x = x + 1\n",
    "print(f'nach der zweiten Zuweisung: x = {x}')"
   ]
  },
  {
   "cell_type": "markdown",
   "id": "differential-somerset",
   "metadata": {},
   "source": [
    "In der ersten Zeile wird der Variable `x` der Wert 1 zugewiesen. Die dritte\n",
    "Zeile zeigt deutlich, dass das Gleichheitszeichen nicht im Sinne einer\n",
    "mathematischen Gleichung interpretiert werden darf. Mathematisch hätte diese\n",
    "Gleichung nämlich keine Lösung. In einer Zuweisung wird vielmehr der Code auf\n",
    "der rechten Seite des Gleichheitszeichens ausgewertet. Zu diesem Zeitpunkt hat\n",
    "`x` noch den Wert 1, so dass sich nach der Addition der Wert 2 ergibt. Dieser\n",
    "Wert wird anschließend der Variablen `x` zugewiesen, die nun den Wert 2 besitzt.\n",
    "Die Zuweisung ist also eher als `x+1` → `x` zu verstehen.\n",
    "\n",
    "Sich die zeitliche Abfolge von Zuweisungen klar zu machen, ist zum Beispiel wichtig,\n",
    "wenn man zwei Werte vertauschen möchte. Im folgenden Beispiel weisen wir der Variable\n",
    "`x` den Wert 1 zu und der Variable `y` den Wert 2. Wir möchten die beiden Werte nun\n",
    "vertauschen, so dass `x` den Wert 2 bekommt und `y` den Wert 1. Das soll unabhängig\n",
    "davon funktionieren, welchen konkreten Wert die beiden Variablen zunächst haben. Man\n",
    "könnte zunächst versucht sein, das Problem auf die folgende Weise zu lösen."
   ]
  },
  {
   "cell_type": "code",
   "execution_count": 76,
   "id": "reported-baseball",
   "metadata": {},
   "outputs": [
    {
     "name": "stdout",
     "output_type": "stream",
     "text": [
      "2 2\n"
     ]
    }
   ],
   "source": [
    "x = 1\n",
    "y = 2\n",
    "x = y\n",
    "y = x\n",
    "print(x, y)"
   ]
  },
  {
   "cell_type": "markdown",
   "id": "martial-catering",
   "metadata": {},
   "source": [
    "Offenbar haben wir auf diese Weise den ursprünglichen Wert von `x` verloren. Das Problem\n",
    "ist die dritte Zeile, in der wir der Variable `x` den Wert von `y`, also 2, zuweisen. \n",
    "Damit wurde der vorherige Wert 1 überschrieben und dieser kann auch in der vierten Zeile\n",
    "nicht auf magische Weise wieder auftreten.\n",
    "\n",
    "Die Standardlösung für dieses Problem besteht darin, den Wert von `x` in einer Variablen\n",
    "zwischenzuspeichern."
   ]
  },
  {
   "cell_type": "code",
   "execution_count": 77,
   "id": "geographic-maple",
   "metadata": {},
   "outputs": [
    {
     "name": "stdout",
     "output_type": "stream",
     "text": [
      "2 1\n"
     ]
    }
   ],
   "source": [
    "x = 1\n",
    "y = 2\n",
    "tmp = x\n",
    "x = y\n",
    "y = tmp\n",
    "print(x, y)"
   ]
  },
  {
   "cell_type": "markdown",
   "id": "married-transformation",
   "metadata": {},
   "source": [
    "Hier wird in der dritten Zeile der Wert von `x` der Variablen `tmp` zugewiesen, die wir\n",
    "so genannt haben, weil sie nur temporär zur Zwischenspeicherung benötigt wird. Ihren Wert\n",
    "können wir dann in der fünften Zeile verwenden, um `y` den ursprünglichen Wert von `x`\n",
    "zuzuweisen, der in `x` ja bereits überschrieben wurde.\n",
    "\n",
    "In Python lässt sich das Problem noch eleganter in folgender Weise lösen."
   ]
  },
  {
   "cell_type": "code",
   "execution_count": 78,
   "id": "thick-saver",
   "metadata": {},
   "outputs": [
    {
     "name": "stdout",
     "output_type": "stream",
     "text": [
      "2 1\n"
     ]
    }
   ],
   "source": [
    "x = 1\n",
    "y = 2\n",
    "x, y = y, x\n",
    "print(x, y)"
   ]
  },
  {
   "cell_type": "markdown",
   "id": "trying-tissue",
   "metadata": {},
   "source": [
    "Dies Lösung vermeidet die Einführung einer weiteren Variablen und erfordert auch keine\n",
    "drei Zeile Code, deren Funktion man erst analysieren muss. Vielmehr stellt die dritte\n",
    "Zeile sehr kompakt dar, was passiert. Genau genommen wird hier ein aus zwei Variablen\n",
    "bestehendes Tupel einem anderen Tupel zugewiesen. Dies geschieht parallel, so dass es\n",
    "zu keiner unerwünschten Überschreibung wie zuvor kommen kann. Ein Tupel ist ein\n",
    "zusammengesetzter Datentyp, den wir in {numref}`tupel` genauer diskutieren werden.\n",
    "Seine Verwendung trägt in unserem Beispiel erheblich dazu bei, den Code gut lesbar\n",
    "zu machen.\n",
    "\n",
    "In den Zuweisungen haben wir vor und nach dem Gleichheitszeichen jeweils ein\n",
    "Leerzeichen gesetzt. Dies ist nicht zwingend notwendig, verbessert aber die\n",
    "Lesbarkeit des Codes und wird daher auch im bereits weiter oben erwähnten Python\n",
    "Enhancement Proposal {pep}`8` empfohlen. Es ist durchaus sinnvoll, sich zumindest\n",
    "an die wesentlichen der in PEP 8 enthaltenen Empfehlungen zu halten, um anderen\n",
    "Personen das Lesen des Codes zu erleichtern.\n",
    "\n",
    "Eine weitere Empfehlung lautet, eine Zeilenlänge von 79 Zeichen nicht zu\n",
    "überschreiten, auch wenn diese Vorgabe in Zeiten großer Bildschirme nicht mehr\n",
    "ganz so streng gesehen wird Bei überlangen Zeilen kann man mit einem Backslash\n",
    "(``\\``) am Zeilenende eine Fortsetzungszeile erzeugen. In gewissen Fällen erkennt der\n",
    "Python-Interpreter, dass eine Fortsetzungszeile folgen muss, so dass dann der\n",
    "Backslash entfallen kann. Dies ist insbesondere der Fall, wenn in einer Zeile\n",
    "eine Klammer geöffnet wird, die dann erst in einer Folgezeile wieder\n",
    "geschlossen wird.\n",
    "\n",
    "Es wird häufig empfohlen, den Backslash zur Kennzeichnung einer\n",
    "Fortsetzungszeile zu vermeiden. Stattdessen sollte eine Klammerung verwendet\n",
    "werden, selbst wenn diese ausschließlich zur impliziten Markierung von\n",
    "Fortsetzungszeilen dient. Im folgenden Beispiel wird deutlich, wie man die\n",
    "Klammerung einsetzen kann, auch wenn man die Addition kaum über zwei Zeilen\n",
    "verteilen wird. Im ersten Fall erwartet Python nach dem Pluszeichen den zweiten\n",
    "Summanden, der auf dieser Zeile aber nicht zu finden ist."
   ]
  },
  {
   "cell_type": "code",
   "execution_count": 79,
   "id": "graduate-agreement",
   "metadata": {
    "tags": [
     "raises-exception"
    ]
   },
   "outputs": [
    {
     "ename": "SyntaxError",
     "evalue": "invalid syntax (<ipython-input-79-93104a7e2633>, line 1)",
     "output_type": "error",
     "traceback": [
      "\u001b[0;36m  File \u001b[0;32m\"<ipython-input-79-93104a7e2633>\"\u001b[0;36m, line \u001b[0;32m1\u001b[0m\n\u001b[0;31m    4+\u001b[0m\n\u001b[0m      ^\u001b[0m\n\u001b[0;31mSyntaxError\u001b[0m\u001b[0;31m:\u001b[0m invalid syntax\n"
     ]
    }
   ],
   "source": [
    "4+\n",
    "5"
   ]
  },
  {
   "cell_type": "markdown",
   "id": "settled-story",
   "metadata": {},
   "source": [
    "Anders ist dies nach einer öffnenden Klammer, da Python dann den Code bis zur\n",
    "zugehörigen schließenden Klammer liest."
   ]
  },
  {
   "cell_type": "code",
   "execution_count": 80,
   "id": "ceramic-petersburg",
   "metadata": {},
   "outputs": [
    {
     "data": {
      "text/plain": [
       "9"
      ]
     },
     "execution_count": 80,
     "metadata": {},
     "output_type": "execute_result"
    }
   ],
   "source": [
    "(4+\n",
    "5)"
   ]
  },
  {
   "cell_type": "markdown",
   "id": "loose-numbers",
   "metadata": {},
   "source": [
    "## Wahrheitswerte\n",
    "\n",
    "Im {numref}`vorschau` hatten wir schon gesehen, dass man den Ablauf eines\n",
    "Programms in Abhängigkeit davon beeinflussen kann, ob eine bestimmte Bedingung\n",
    "erfüllt ist oder nicht. In diesem Zusammenhang spielen Wahrheitswerte oder so\n",
    "genannte boolesche Variable eine Rolle.\n",
    "\n",
    "Mit einem Wahrheitswert kann die Gültigkeit einer Aussage mit »wahr« oder\n",
    "»falsch« spezifiziert werden.  Mögliche Werte in Python sind entsprechend\n",
    "`True` und `False`, wobei die Großschreibung des ersten Zeichens wichtig\n",
    "ist. Für die bis jetzt behandelten Datentypen (Integer, Float, Complex) gilt,\n",
    "dass eine Null dem Wert `False` entspricht, während alle anderen Zahlenwerte\n",
    "einem `True` entsprechen. Dies lässt sich durch eine explizite Umwandlung mit\n",
    "Hilfe der Funktion {func}`bool` überprüfen:"
   ]
  },
  {
   "cell_type": "code",
   "execution_count": 81,
   "id": "ceramic-russian",
   "metadata": {},
   "outputs": [
    {
     "data": {
      "text/plain": [
       "False"
      ]
     },
     "execution_count": 81,
     "metadata": {},
     "output_type": "execute_result"
    }
   ],
   "source": [
    "bool(0)"
   ]
  },
  {
   "cell_type": "code",
   "execution_count": 82,
   "id": "retired-might",
   "metadata": {},
   "outputs": [
    {
     "data": {
      "text/plain": [
       "True"
      ]
     },
     "execution_count": 82,
     "metadata": {},
     "output_type": "execute_result"
    }
   ],
   "source": [
    "bool(42)"
   ]
  },
  {
   "cell_type": "markdown",
   "id": "framed-dealer",
   "metadata": {},
   "source": [
    "Wichtige logische Operatoren sind `not` (Negation), `and` (logisches Und)\n",
    "und `or` (logisches Oder). Bei der Negation wird aus `True` `False` und umgekehrt."
   ]
  },
  {
   "cell_type": "code",
   "execution_count": 83,
   "id": "hispanic-poverty",
   "metadata": {},
   "outputs": [
    {
     "data": {
      "text/plain": [
       "False"
      ]
     },
     "execution_count": 83,
     "metadata": {},
     "output_type": "execute_result"
    }
   ],
   "source": [
    "x = True\n",
    "not x"
   ]
  },
  {
   "cell_type": "markdown",
   "id": "sensitive-china",
   "metadata": {},
   "source": [
    "Nehmen wir noch einen zweiten Wahrheitswert hinzu, so können wir die `and`-Operation\n",
    "durchführen, die nur dann `True` ergibt, wenn beide beteiligten Ausdrücke den\n",
    "Wahrheitswert `True` haben."
   ]
  },
  {
   "cell_type": "code",
   "execution_count": 84,
   "id": "spectacular-incidence",
   "metadata": {},
   "outputs": [
    {
     "data": {
      "text/plain": [
       "False"
      ]
     },
     "execution_count": 84,
     "metadata": {},
     "output_type": "execute_result"
    }
   ],
   "source": [
    "y = False\n",
    "x and y"
   ]
  },
  {
   "cell_type": "markdown",
   "id": "victorian-soccer",
   "metadata": {},
   "source": [
    "Die `or`-Operation ergibt `True` wenn mindestens einer der beiden beteiligten Ausdrücke\n",
    "den Wahrheitswert `True` hat. Diese Operation muss vom exklusiven Oder unterschieden werden,\n",
    "das nur `True` ergibt, wenn genau einer der beiden Wahrheitswerte gleich `True` ist."
   ]
  },
  {
   "cell_type": "code",
   "execution_count": 85,
   "id": "lesser-shanghai",
   "metadata": {},
   "outputs": [
    {
     "data": {
      "text/plain": [
       "True"
      ]
     },
     "execution_count": 85,
     "metadata": {},
     "output_type": "execute_result"
    }
   ],
   "source": [
    "x or y"
   ]
  },
  {
   "cell_type": "markdown",
   "id": "respective-chemical",
   "metadata": {},
   "source": [
    "Logische Ausdrücke werden in Python von links nach rechts ausgewertet und zwar\n",
    "nur so weit, wie es für die Entscheidung über den Wahrheitswert erforderlich ist.\n",
    "Dies wird in dem folgenden Beispiel illustriert. Im ersten Fall steht das Ergebnis der\n",
    "`or`-Verknüpfung schon dadurch fest, dass `x` gleich `True` ist, so dass die Division\n",
    "durch Null nicht mehr durchgeführt wird."
   ]
  },
  {
   "cell_type": "code",
   "execution_count": 86,
   "id": "yellow-riding",
   "metadata": {},
   "outputs": [
    {
     "data": {
      "text/plain": [
       "True"
      ]
     },
     "execution_count": 86,
     "metadata": {},
     "output_type": "execute_result"
    }
   ],
   "source": [
    "x = True\n",
    "y = 0\n",
    "x or 1/y"
   ]
  },
  {
   "cell_type": "markdown",
   "id": "protecting-botswana",
   "metadata": {},
   "source": [
    "Anders ist dies bei der `and`-Verknüpfung. Hier wird die Division ausgeführt mit den\n",
    "bekannten Folgen einer Division durch Null."
   ]
  },
  {
   "cell_type": "code",
   "execution_count": 87,
   "id": "traditional-intake",
   "metadata": {
    "tags": [
     "raises-exception"
    ]
   },
   "outputs": [
    {
     "ename": "ZeroDivisionError",
     "evalue": "division by zero",
     "output_type": "error",
     "traceback": [
      "\u001b[0;31m---------------------------------------------------------------------------\u001b[0m",
      "\u001b[0;31mZeroDivisionError\u001b[0m                         Traceback (most recent call last)",
      "\u001b[0;32m<ipython-input-87-1caaeadbca49>\u001b[0m in \u001b[0;36m<module>\u001b[0;34m\u001b[0m\n\u001b[0;32m----> 1\u001b[0;31m \u001b[0mx\u001b[0m \u001b[0;32mand\u001b[0m \u001b[0;36m1\u001b[0m\u001b[0;34m/\u001b[0m\u001b[0my\u001b[0m\u001b[0;34m\u001b[0m\u001b[0;34m\u001b[0m\u001b[0m\n\u001b[0m",
      "\u001b[0;31mZeroDivisionError\u001b[0m: division by zero"
     ]
    }
   ],
   "source": [
    "x and 1/y"
   ]
  },
  {
   "cell_type": "markdown",
   "id": "hydraulic-graham",
   "metadata": {},
   "source": [
    "Wahrheitswerte sind häufig das Ergebnis von Vergleichsoperationen, die in der \n",
    "{numref}`table:comparison` zusammengestellt sind.\n",
    "\n",
    "```{list-table} Vergleichsoperationen in Python\n",
    ":header-rows: 1\n",
    ":name: table:comparison\n",
    "\n",
    "* - Operator\n",
    "  - Bedeutung\n",
    "* - `<`\n",
    "  - kleiner\n",
    "* - `<=`\n",
    "  - kleiner oder gleich\n",
    "* - `>`\n",
    "  - größer\n",
    "* - `>=`\n",
    "  - größer oder gleich\n",
    "* - `!=`\n",
    "  - ungleich\n",
    "* - `==`\n",
    "  - gleich\n",
    "```\n",
    "Die folgenden drei Beispiele illustrieren Vergleichsoperationen."
   ]
  },
  {
   "cell_type": "code",
   "execution_count": 88,
   "id": "delayed-right",
   "metadata": {},
   "outputs": [
    {
     "data": {
      "text/plain": [
       "True"
      ]
     },
     "execution_count": 88,
     "metadata": {},
     "output_type": "execute_result"
    }
   ],
   "source": [
    "5 != 2"
   ]
  },
  {
   "cell_type": "code",
   "execution_count": 89,
   "id": "romance-pottery",
   "metadata": {},
   "outputs": [
    {
     "data": {
      "text/plain": [
       "True"
      ]
     },
     "execution_count": 89,
     "metadata": {},
     "output_type": "execute_result"
    }
   ],
   "source": [
    "5 > 2"
   ]
  },
  {
   "cell_type": "code",
   "execution_count": 90,
   "id": "pregnant-intersection",
   "metadata": {},
   "outputs": [
    {
     "data": {
      "text/plain": [
       "False"
      ]
     },
     "execution_count": 90,
     "metadata": {},
     "output_type": "execute_result"
    }
   ],
   "source": [
    "5 == 2"
   ]
  },
  {
   "cell_type": "markdown",
   "id": "possible-lease",
   "metadata": {},
   "source": [
    "```{admonition} Wichtiger Hinweis\n",
    ":class: warning\n",
    "Ein beliebter Fehler besteht darin, beim Test auf Gleichheit nur eines\n",
    "statt zwei Gleichheitszeichen zu verwenden.\n",
    "```\n",
    "\n",
    "In Python kann man Vergleichsoperation auch verketten wie das folgende Beispiel zeigt."
   ]
  },
  {
   "cell_type": "code",
   "execution_count": 91,
   "id": "engaging-teddy",
   "metadata": {},
   "outputs": [
    {
     "name": "stdout",
     "output_type": "stream",
     "text": [
      "0 ✗\n",
      "1 ✗\n",
      "2 ✓\n",
      "3 ✓\n",
      "4 ✓\n",
      "5 ✓\n",
      "6 ✗\n",
      "7 ✗\n",
      "8 ✗\n",
      "9 ✗\n"
     ]
    }
   ],
   "source": [
    "for n in range(10):\n",
    "    if 2 <= n <= 5:\n",
    "        print(f'{n} ✓')\n",
    "    else:\n",
    "        print(f'{n} ✗')"
   ]
  },
  {
   "cell_type": "markdown",
   "id": "quiet-reply",
   "metadata": {},
   "source": [
    "Hat man es mit Gleitkommazahlen zu tun, so ist ein Test auf Gleichheit meistens\n",
    "nicht sinnvoll, da Rundungsfehler dazu führen können, dass das Ergebnis nicht\n",
    "wie erwartet ausfällt."
   ]
  },
  {
   "cell_type": "code",
   "execution_count": 92,
   "id": "victorian-spray",
   "metadata": {},
   "outputs": [
    {
     "data": {
      "text/plain": [
       "False"
      ]
     },
     "execution_count": 92,
     "metadata": {},
     "output_type": "execute_result"
    }
   ],
   "source": [
    "x = 3*0.1\n",
    "y = 0.3\n",
    "x == y"
   ]
  },
  {
   "cell_type": "markdown",
   "id": "efficient-spread",
   "metadata": {},
   "source": [
    "In solchen Fällen ist es besser zu überprüfen, ob die Differenz von zwei\n",
    "Gleitkommazahlen eine vertretbare Schwelle unterschreitet."
   ]
  },
  {
   "cell_type": "code",
   "execution_count": 93,
   "id": "yellow-priest",
   "metadata": {},
   "outputs": [
    {
     "data": {
      "text/plain": [
       "True"
      ]
     },
     "execution_count": 93,
     "metadata": {},
     "output_type": "execute_result"
    }
   ],
   "source": [
    "eps = 1e-12\n",
    "abs(x-y) < eps"
   ]
  },
  {
   "cell_type": "markdown",
   "id": "acknowledged-insert",
   "metadata": {},
   "source": [
    "In diesem Zusammenhang kann auch die Funktion {func}`isclose` aus dem {mod}`math`-Modul\n",
    "hilfreich sein, das sowohl absolute als auch relative Abweichungen berücksichtigen kann."
   ]
  },
  {
   "cell_type": "code",
   "execution_count": 94,
   "id": "conceptual-perth",
   "metadata": {
    "tags": [
     "output_scroll"
    ]
   },
   "outputs": [
    {
     "name": "stdout",
     "output_type": "stream",
     "text": [
      "Help on built-in function isclose in module math:\n",
      "\n",
      "isclose(a, b, *, rel_tol=1e-09, abs_tol=0.0)\n",
      "    Determine whether two floating point numbers are close in value.\n",
      "    \n",
      "      rel_tol\n",
      "        maximum difference for being considered \"close\", relative to the\n",
      "        magnitude of the input values\n",
      "      abs_tol\n",
      "        maximum difference for being considered \"close\", regardless of the\n",
      "        magnitude of the input values\n",
      "    \n",
      "    Return True if a is close in value to b, and False otherwise.\n",
      "    \n",
      "    For the values to be considered close, the difference between them\n",
      "    must be smaller than at least one of the tolerances.\n",
      "    \n",
      "    -inf, inf and NaN behave similarly to the IEEE 754 Standard.  That\n",
      "    is, NaN is not close to anything, even itself.  inf and -inf are\n",
      "    only close to themselves.\n",
      "\n"
     ]
    }
   ],
   "source": [
    "import math\n",
    "help(math.isclose)"
   ]
  },
  {
   "cell_type": "markdown",
   "id": "impressive-gasoline",
   "metadata": {},
   "source": [
    "(formatierung)=\n",
    "## Formatierung von Ausgaben\n",
    "\n",
    "Wenn man ein Programm ausführt, möchte man in den meisten Fällen eine Ausgabe\n",
    "haben, die im einfachsten Fall auf dem Bildschirm erfolgen kann. In den\n",
    "Codezellen eines Jupyter Notebooks, wie wir sie in diesem Manuskript verwenden,\n",
    "kann man am Ende der Zelle einfach eine Variable oder einen Ausdruck\n",
    "hinschreiben. Dieser wird ausgewertet und das Ergebnis ausgegeben. Dabei\n",
    "handelt es sich zwar um eine bequeme Art der Ausgabe, die aber in Python im\n",
    "Allgemeinen und auch in anderen Programmiersprachen so nicht funktionieren\n",
    "wird.\n",
    "\n",
    "Stattdessen muss man die {func}`print`-Funktion verwenden, die in anderen\n",
    "Programmiersprachen auch einen anderen Namen, beispielsweise `write`, haben kann.\n",
    "Die {func}`print`-Funktion ist uns auch schon in einigen Beispielen begegnet.\n",
    "\n",
    "Die Ein- und Ausgabe von Daten werden wir erst später im {numref}`einausgabe`\n",
    "genauer diskutieren. Dennoch wollen wir uns schon jetzt mit der Frage beschäftigen,\n",
    "wie man eine Ausgabe in das gewünschte Format bringen kann. Gerade beim Arbeiten mit\n",
    "numerischen Datentypen, die wir zu Beginn dieses Kapitels eingeführt hatten, möchte\n",
    "man unter Umständen in der Lage sein, die Zahl der Nachkommastellen festzulegen oder\n",
    "eine Exponentialschreibweise zu wählen.\n",
    "\n",
    "Die Möglichkeit, das Format der Ausgabe festzulegen, ist zumindest in allen für\n",
    "das wissenschaftliche Arbeiten relevanten Programmiersprache gegeben. Die\n",
    "Beschreibung des Formats funktioniert typischerweise mit Hilfe eines *format\n",
    "strings*, der in den verschiedenen Programmiersprachen ähnlich aufgebaut ist,\n",
    "auch wenn es im Detail durchaus Unterschiede geben kann. Wie die auszugebenden\n",
    "Objekte und ihre Formatierung dann im Code anzugeben sind, unterscheidet sich\n",
    "von Programmiersprache zu Programmiersprache. Python selbst stellt hierfür schon\n",
    "mehrere Möglichkeiten zur Verfügung. Mit der Version 3.6 wurden die so genannten\n",
    "f-Strings eingeführt, wobei der englische Begriff *string* hier im Sinne einer \n",
    "Zeichenkette zu verstehen ist. Im Folgenden werden wir uns auf die Formatierung mit\n",
    "Hilfe von f-Strings beschränken, da sich diese als bevorzugte Methode etabliert hat.\n",
    "\n",
    "Wir beginnen mit dem einfachsten Fall einer unformatierten Ausgabe."
   ]
  },
  {
   "cell_type": "code",
   "execution_count": 95,
   "id": "square-cleaners",
   "metadata": {},
   "outputs": [
    {
     "name": "stdout",
     "output_type": "stream",
     "text": [
      "2.25\n",
      "1.5 3.14159\n"
     ]
    }
   ],
   "source": [
    "x = 1.5\n",
    "y = 3.14159\n",
    "print(x**2)\n",
    "print(x, y)"
   ]
  },
  {
   "cell_type": "markdown",
   "id": "interested-foster",
   "metadata": {},
   "source": [
    "Die Zeile 3, die zur ersten Ausgabezeile führt, zeigt, dass in er\n",
    "{func}`print`-Funktion nicht nur Variablen angeben kann, sondern auch ganze\n",
    "Ausdrücke, wie hier das Quadrat der Variablen `x`. Daneben ist es möglich,\n",
    "mehrere Variable gleichzeitig auszugeben. Dazu werden diese im Argument der\n",
    "{func}`print`-Funktion durch ein Komma getrennt. Das Leerzeichen nach dem Komma\n",
    "ist für Python nicht relevant, verbessert aber die Lesbarkeit des Codes und ist\n",
    "daher üblich. Auf jeden Fall wird Python in der Ausgabe zwischen den Werten der\n",
    "beiden Variablen immer ein Leerzeichen setzen.\n",
    "\n",
    "Um die Bedeutung der ausgegebenen Wert anzudeuten, möchte man häufig gerne noch\n",
    "einen Text ausgeben. Im einfachsten Fall kann man diesen Text einfach als\n",
    "weiteres Argument der {func}`print`-Funktion in Form einer Zeichenkette\n",
    "angeben. Zeichenketten werden wir erst im {numref}`strings` genauer besprechen.\n",
    "Für den Moment ist nur wichtig, dass Zeichenketten durch Anführungszeichen\n",
    "begrenzt werden müssen. Dabei sind sowohl doppelte Anführungszeichen (`\"`) als\n",
    "auch einfache Anführungszeichen (`'`) zugelassen, sofern am Anfang und Ende der\n",
    "Zeichenkette das gleiche Zeichen verwendet wird."
   ]
  },
  {
   "cell_type": "code",
   "execution_count": 96,
   "id": "classified-wound",
   "metadata": {},
   "outputs": [
    {
     "name": "stdout",
     "output_type": "stream",
     "text": [
      "Näherung für π/3: 1.0471966666666666\n"
     ]
    }
   ],
   "source": [
    "print(\"Näherung für π/3:\", y/3)"
   ]
  },
  {
   "cell_type": "markdown",
   "id": "moderate-astrology",
   "metadata": {},
   "source": [
    "Bis jetzt haben wir noch keinerlei Formatierung vorgenommen. Das vorige Beispiel,\n",
    "bei dem die Kreiszahl nur auf fünf Nachkommastellen einging, illustriert aber,\n",
    "dass man beispielsweise die Zahl der Nachkommastellen kontrollieren will. In unserem\n",
    "Beispiel wäre eine Beschränkung auf fünf Nachkommastellen sinnvoll."
   ]
  },
  {
   "cell_type": "code",
   "execution_count": 97,
   "id": "disturbed-original",
   "metadata": {},
   "outputs": [
    {
     "name": "stdout",
     "output_type": "stream",
     "text": [
      "Näherung für π/3: 1.04720\n"
     ]
    }
   ],
   "source": [
    "print(f\"Näherung für π/3: {y/3:.5f}\")"
   ]
  },
  {
   "cell_type": "markdown",
   "id": "material-given",
   "metadata": {},
   "source": [
    "Bevor wir das Vorgehen bei der Formatierung in Python systematischer\n",
    "diskutieren, sehen wir uns zunächst das Argument der {func}`print`-Funktion in\n",
    "diesem Beispiel genauer an. Durch die Anführungszeichen wird die Zeichenkette\n",
    "begrenzt die ausgegeben wird. Um diese Zeichenkette als f-String zu kennzeichnen,\n",
    "muss ein `f` vorangestellt werden. Die eigentliche Zeichenkette enthält zum einen\n",
    "einfach Text, wobei wir an dem griechischen Buchstaben sehen, dass wir im Prinzip\n",
    "beliebige Unicodezeichen in UTF-8-Kodierung angeben können.\n",
    "\n",
    "Daneben enthält die Zeichenkette noch einen Teil, der durch geschweifte Klammern\n",
    "gekennzeichnet ist, und der eine von Python auszuwertenden Ausdruck sowie eine\n",
    "Formatierungsangabe enthält, die durch einen Doppelpunkt voneinander getrennt sind.\n",
    "Der *format string* lautet hier also `.5f` und gibt mit Hilfe des Buchstabens `f`,\n",
    "der für *float* steht, an, dass eine Gleitkommadarstellung gewünscht wird. Die `5`\n",
    "nach dem Dezimalpunkt legt fest, dass fünf Nachkommastellen auszugeben sind. Wie wir\n",
    "an der Ausgabe im Beispiel sehen, wird die Zahl nicht einfach abgeschnitten, sondern\n",
    "gerundet.\n",
    "\n",
    "In f-Strings ist die Zahl der auszuwertenden Ausdrücke nicht auf einen beschränkt."
   ]
  },
  {
   "cell_type": "code",
   "execution_count": 98,
   "id": "educational-device",
   "metadata": {},
   "outputs": [
    {
     "name": "stdout",
     "output_type": "stream",
     "text": [
      "2**0.5 = 1.4142135623730951\n"
     ]
    }
   ],
   "source": [
    "x = 2\n",
    "power = 0.5\n",
    "print(f\"{x}**{power} = {x**power}\")"
   ]
  },
  {
   "cell_type": "markdown",
   "id": "alleged-footage",
   "metadata": {},
   "source": [
    "Hier ist zwischen den zwei Sternchen außerhalb der geschweiften Klammern, die direkt\n",
    "so ausgegeben werden, und den Sternchen innerhalb der geschweiften Klammern, die als\n",
    "Exponentierungsoperator fungieren, zu unterscheiden.\n",
    "\n",
    "```{admonition} Hinweis\n",
    "Will man im Ausgabetext eine öffnende oder schließende geschweifte Klammer unterbringen,\n",
    "so ist diese zu verdoppeln, also `{{` oder `}}`.\n",
    "```\n",
    "\n",
    "Seit Python 3.8 gibt es eine praktische Möglichkeit, sowohl den Namen als auch den\n",
    "Wert einer Variablen auszugeben."
   ]
  },
  {
   "cell_type": "code",
   "execution_count": 99,
   "id": "discrete-coordination",
   "metadata": {},
   "outputs": [
    {
     "name": "stdout",
     "output_type": "stream",
     "text": [
      "myvar = 1.4142135623730951\n",
      "myvar =1.4142135623730951\n",
      "myvar= 1.4142135623730951\n",
      "myvar=1.4142135623730951\n"
     ]
    }
   ],
   "source": [
    "myvar = 2**0.5\n",
    "print(f\"{myvar = }\")\n",
    "print(f\"{myvar =}\")\n",
    "print(f\"{myvar= }\")\n",
    "print(f\"{myvar=}\")"
   ]
  },
  {
   "cell_type": "markdown",
   "id": "hispanic-basic",
   "metadata": {},
   "source": [
    "In diesem Beispiel wird deutlich, dass man die Ausgabe von Leerzeichen um das\n",
    "Gleichheitszeichen herum leicht beeinflussen kann. Für ältere Pythonversionen\n",
    "müsste man stattdessen den Variablennamen de facto zweimal angeben."
   ]
  },
  {
   "cell_type": "code",
   "execution_count": 100,
   "id": "weighted-compilation",
   "metadata": {},
   "outputs": [
    {
     "name": "stdout",
     "output_type": "stream",
     "text": [
      "myvar = 1.4142135623730951\n"
     ]
    }
   ],
   "source": [
    "print(f\"myvar = {myvar}\")"
   ]
  },
  {
   "cell_type": "markdown",
   "id": "behind-massachusetts",
   "metadata": {},
   "source": [
    "Mit einer Ausnahme haben wir bis jetzt nur Werte von Variablen in einen Text\n",
    "eingebettet, ohne die Form ihrer Ausgabe zu beeinflussen.  Dies ist aber\n",
    "beispielsweise bei Gleitkommazahlen wichtig. Wir wollen uns jetzt etwas\n",
    "systematischer mit den Formatierungsmöglichkeiten beschäftigen.\n",
    "\n",
    "Bei Gleitkommazahlen ist unter anderem die Anzahl der Nachkommastellen von\n",
    "Interesse. Um deutlich zu machen, wie viele Leerzeichen ausgegeben werden,\n",
    "begrenzen wir die Ausgabe mit senkrechten Strichen. In Erweiterung unseres\n",
    "Beispiels weiter oben, in dem wir fünf Nachkommastellen festgelegt hatten, \n",
    "wollen wir nun die ganze Breite der Ausgabe festlegen."
   ]
  },
  {
   "cell_type": "code",
   "execution_count": 101,
   "id": "legal-greenhouse",
   "metadata": {},
   "outputs": [
    {
     "name": "stdout",
     "output_type": "stream",
     "text": [
      "| 1.414|\n"
     ]
    }
   ],
   "source": [
    "x = 2**0.5\n",
    "print(f\"|{x:6.3f}|\")"
   ]
  },
  {
   "cell_type": "markdown",
   "id": "affected-addiction",
   "metadata": {},
   "source": [
    "Von Interesse für uns ist der Bereich zwischen den geschweiften Klammern,\n",
    "der zunächst den Namen der Variable, also `x`, enthält und, durch einen\n",
    "Doppelpunkt abgetrennt, die Formatierungsangabe. Die erste Zahl, die auch\n",
    "aus mehr als einer Ziffer bestehen kann, gibt die gesamte Feldbreite an.\n",
    "Diese enthält sowohl Vor- und Nachkommastellen als auch den Dezimalpunkt.\n",
    "Bleibt dann noch Platz, so wird dieser durch Leerzeichen aufgefüllt. Von\n",
    "der gesamten Feldbreite durch einen Punkt abgetrennt wird die Zahl der\n",
    "Nachkommastellen angegeben. In unserem Fall benötigt der Wert von `x` eine\n",
    "Vorkommastelle und drei Nachkommastellen. Zusammen mit dem Dezimalpunkt macht\n",
    "dies fünf Zeichen, so dass sich noch ein Leerzeichen ergibt. Das abschließend\n",
    "`f` gibt an, dass der Wert von `x` als Gleitkommazahl ausgegeben werden soll,\n",
    "also nicht in Exponentialschreibweise.\n",
    "\n",
    "Wählt man die Feldbreite zu klein, so wird zwar immer noch die gesamte Zahl\n",
    "ausgegeben, aber untereinanderstehende Zahlen werden unter Umständen nicht\n",
    "mehr wie gewünscht zueinander ausgerichtet."
   ]
  },
  {
   "cell_type": "code",
   "execution_count": 102,
   "id": "retained-murray",
   "metadata": {},
   "outputs": [
    {
     "name": "stdout",
     "output_type": "stream",
     "text": [
      "|1.414|\n"
     ]
    }
   ],
   "source": [
    "print(f\"|{x:4.3f}|\")"
   ]
  },
  {
   "cell_type": "markdown",
   "id": "swiss-webmaster",
   "metadata": {},
   "source": [
    "Dies gilt insbesondere, wenn man die Feldbreiten überhaupt nicht spezifiziert,\n",
    "da dann immer die minimal benötigte Breite belegt wird."
   ]
  },
  {
   "cell_type": "code",
   "execution_count": 103,
   "id": "human-supply",
   "metadata": {},
   "outputs": [
    {
     "name": "stdout",
     "output_type": "stream",
     "text": [
      "1.414\n",
      "11.314\n"
     ]
    }
   ],
   "source": [
    "print(f\"{x:.3f}\")\n",
    "print(f\"{x**7:.3f}\")"
   ]
  },
  {
   "cell_type": "markdown",
   "id": "rational-samba",
   "metadata": {},
   "source": [
    "Bei der Ausrichtung von Zahlen ist auch das Vorzeichen relevant. Hierbei kann\n",
    "man angeben, wie bei einer positiven Zahl verfahren wird. Durch Eingabe eines\n",
    "Pluszeichens, eines Leerzeichens oder eines Minuszeichens in der\n",
    "Formatierungsangabe wird für positive Zahlen ein Plus, ein Leerzeichen bzw. gar\n",
    "nichts ausgegeben wie die folgenden Beispiele zeigen."
   ]
  },
  {
   "cell_type": "code",
   "execution_count": 104,
   "id": "bizarre-association",
   "metadata": {},
   "outputs": [
    {
     "name": "stdout",
     "output_type": "stream",
     "text": [
      "|+1.41|\n",
      "|-1.41|\n",
      "| 1.41|\n",
      "|-1.41|\n",
      "|1.41|\n",
      "|-1.41|\n"
     ]
    }
   ],
   "source": [
    "print(f\"|{x:+4.2f}|\")\n",
    "print(f\"|{-x:+4.2f}|\")\n",
    "print(f\"|{x: 4.2f}|\")\n",
    "print(f\"|{-x: 4.2f}|\")\n",
    "print(f\"|{x:-4.2f}|\")\n",
    "print(f\"|{-x:-4.2f}|\")"
   ]
  },
  {
   "cell_type": "markdown",
   "id": "preceding-edgar",
   "metadata": {},
   "source": [
    "Hier haben wir bewusst die Feldbreite nur auf `4` gesetzt, um den Unterschied\n",
    "zwischen der dritten und fünften Eingabe zu verdeutlichen.\n",
    "\n",
    "Bei der Ausgabe von Gleitkommazahlen gibt es nun aber das Problem, dass bei sehr\n",
    "kleinen oder sehr großen Zahlen eine feste Anzahl von Nachkommastellen nicht\n",
    "unbedingt geeignet ist."
   ]
  },
  {
   "cell_type": "code",
   "execution_count": 105,
   "id": "previous-venice",
   "metadata": {},
   "outputs": [
    {
     "name": "stdout",
     "output_type": "stream",
     "text": [
      "1.41421356\n",
      "0.00000014\n",
      "14142135.62373095\n"
     ]
    }
   ],
   "source": [
    "print(f\"{x:10.8f}\")\n",
    "print(f\"{x/10e6:10.8f}\")\n",
    "print(f\"{x*10e6:10.8f}\")"
   ]
  },
  {
   "cell_type": "markdown",
   "id": "moving-probability",
   "metadata": {},
   "source": [
    "Während in der zweiten Zeile die Zahl der ausgegebenen signifikanten Stellen\n",
    "dramatisch reduziert ist, ist sie in der dritten Zeile unter Umständen\n",
    "unerwünscht groß. In solchen Fällen bietet es sich an, eine Ausgabe in\n",
    "Exponentialdarstellung zu verlangen, die man mit Hilfe des Buchstabens `e`\n",
    "an Stelle des bisherigen `f` erhält."
   ]
  },
  {
   "cell_type": "code",
   "execution_count": 106,
   "id": "framed-privacy",
   "metadata": {},
   "outputs": [
    {
     "name": "stdout",
     "output_type": "stream",
     "text": [
      "|1.41421356e+00|\n",
      "|1.4142e+00|\n",
      "|1.41421356e-07|\n",
      "|      1.41421356e+00|\n"
     ]
    }
   ],
   "source": [
    "print(f\"|{x:10.8e}|\")\n",
    "print(f\"|{x:10.4e}|\")\n",
    "print(f\"|{x/10e6:14.8e}|\")\n",
    "print(f\"|{x:20.8e}|\")"
   ]
  },
  {
   "cell_type": "markdown",
   "id": "established-oracle",
   "metadata": {},
   "source": [
    "Die erste Eingabe zeigt, wie man eine Exponentialdarstellung mit 8\n",
    "Nachkommastellen erhält. Der Exponent wird mit ausgegeben, obwohl er nur für\n",
    "{math}`10^0=1` steht.  Die Zahl der Nachkommastellen lässt sich, wie erwartet\n",
    "und wie in der zweiten Eingabe zu sehen ist, bei Bedarf anpassen. In diesem\n",
    "Beispiel wird die Feldbreite von 10 gerade ausgenutzt. Das dritte Beispiel\n",
    "zeigt, dass wir nun auch bei der Ausgabe von kleinen Zahlen keine signifikanten\n",
    "Stellen verlieren. Auch für große Zahlen ändert sich die Zahl der signifikanten\n",
    "Stellen nicht.  Macht man wie in der vierten Zeile die Feldlänge größer, so wird\n",
    "entsprechend viel Leerplatz auf der linken Seite ausgegeben.\n",
    "\n",
    "```{admonition} Weiterführender Hinweis\n",
    "Um etwas über die Möglichkeiten der Positionierung der Ausgabe\n",
    "zu erfahren, können Sie im letzten Beispiel folgende Formatspezifikationen\n",
    "ausprobieren: `{:<20.8e}`, `{:=+20.8e}` und `{:^20.8e}`.\n",
    "```\n",
    "\n",
    "Häufig möchte man die Exponentialschreibweise nur verwenden, wenn die\n",
    "auszugebende Zahl hinreichend groß oder klein ist. Ein solches Verhalten\n",
    "erreicht man durch Angabe des Buchstabens `g`."
   ]
  },
  {
   "cell_type": "code",
   "execution_count": 107,
   "id": "reliable-pension",
   "metadata": {},
   "outputs": [
    {
     "name": "stdout",
     "output_type": "stream",
     "text": [
      "|  1.4142136e-05|\n",
      "|  0.00014142136|\n",
      "|       14142136|\n",
      "|  1.4142136e+08|\n"
     ]
    }
   ],
   "source": [
    "print(f\"|{x/10e4:15.8g}|\")\n",
    "print(f\"|{x/10e3:15.8g}|\")\n",
    "print(f\"|{x*10e6:15.8g}|\")\n",
    "print(f\"|{x*10e7:15.8g}|\")"
   ]
  },
  {
   "cell_type": "markdown",
   "id": "expired-centre",
   "metadata": {},
   "source": [
    "Hier wird durch den Wechsel der Darstellung insbesondere sichergestellt, dass\n",
    "immer die gleiche Anzahl von signifikanten Stellen ausgegeben wird.  Die genaue\n",
    "Regel für die Umstellung der Darstellungsart kann man in der Dokumentation der\n",
    "Python-Standardbibliothek unter dem Thema [Format Specification\n",
    "Mini-Language](http://docs.python.org/3/library/string.html#formatspec)\n",
    "nachlesen, die auch alle weiteren Aspekte der Formatierung detailliert beschreibt.\n",
    "\n",
    "Betrachten wir nun noch die Formatierung von Integers."
   ]
  },
  {
   "cell_type": "code",
   "execution_count": 108,
   "id": "accessible-prompt",
   "metadata": {},
   "outputs": [
    {
     "name": "stdout",
     "output_type": "stream",
     "text": [
      "|42|   42|00042|\n"
     ]
    }
   ],
   "source": [
    "n = 42\n",
    "print(f\"|{n}|{n:5}|{n:05}|\")"
   ]
  },
  {
   "cell_type": "markdown",
   "id": "framed-gasoline",
   "metadata": {},
   "source": [
    "Integers in Dezimaldarstellung benötigen keinen Buchstaben zur\n",
    "Formatspezifikation. Man kann aber ein `d` für Dezimaldarstellung angeben.\n",
    "Ähnlich wie bei den Gleitkommazahlen lässt sich die Feldbreite festlegen. Gibt\n",
    "man vor der Feldbreite eine Null an, so wird das Feld vor der auszugebenden\n",
    "Zahl mit Nullen aufgefüllt. Dies kann zum Beispiel bei der Ausgabe in anderen\n",
    "Zahlensystemen interessant sein. Python unterstützt insbesondere die Ausgabe im\n",
    "Binärformat (`b`), Oktalformat (`o`) und im Hexadezimalformat (`x`)."
   ]
  },
  {
   "cell_type": "code",
   "execution_count": 109,
   "id": "neither-bermuda",
   "metadata": {},
   "outputs": [
    {
     "name": "stdout",
     "output_type": "stream",
     "text": [
      "|42|  101010|      52|      2a|00101010|\n"
     ]
    }
   ],
   "source": [
    "print(f\"|{n:}|{n:8b}|{n:8o}|{n:8x}|{n:08b}|\")"
   ]
  },
  {
   "cell_type": "markdown",
   "id": "recent-attention",
   "metadata": {},
   "source": [
    "```{admonition} Frage\n",
    "Was ändert sich, wenn man `b`, `o` und `x` durch die entsprechenden\n",
    "Großbuchstaben ersetzt? Welche Auswirkungen hat ein `#`, das vor der Feldbreite\n",
    "inklusive einer eventuell vorhandenen Null steht?\n",
    "```\n",
    "\n",
    "Abschließend sei noch angemerkt, dass die {func}`print`-Funktion standardmäßig\n",
    "einen Zeilenumbruch an das Ende des auszugebenden Textes anhängt. Dies ist\n",
    "jedoch nicht immer gewünscht und lässt sich mit Hilfe der Option `end`\n",
    "beeinflussen. Folgendes Beispiel zeigt die Funktionsweise."
   ]
  },
  {
   "cell_type": "code",
   "execution_count": 110,
   "id": "integrated-geometry",
   "metadata": {},
   "outputs": [
    {
     "name": "stdout",
     "output_type": "stream",
     "text": [
      "x..xx\n"
     ]
    }
   ],
   "source": [
    "print(\"x\", end=\"..\")\n",
    "print(\"x\", end=\"\")\n",
    "print(\"x\")"
   ]
  },
  {
   "cell_type": "markdown",
   "id": "laden-geometry",
   "metadata": {},
   "source": [
    "Aufgrund der ersten Zeile werden zwei Punkte an das `x` angehängt, ohne einen\n",
    "Zeilenumbruch zu verursachen. Letzteres wird auch in der zweiten Zeile vermieden.\n",
    "Es werden wegen der leeren Zeichenkette (`\"\"`) aber keine weiteren Zeichen an das zweite\n",
    "`x` angehängt. In der dritten Zeile schließlich wird ein weiteres `x` angehängt.\n",
    "Zusätzlich wird ein Zeilenumbruch erzeugt, da das Argument `end` nicht gesetzt wurde."
   ]
  }
 ],
 "metadata": {
  "jupytext": {
   "formats": "md:myst",
   "text_representation": {
    "extension": ".md",
    "format_name": "myst",
    "format_version": "0.8",
    "jupytext_version": "1.4.1+dev"
   }
  },
  "kernelspec": {
   "display_name": "Python 3",
   "language": "python",
   "name": "python3"
  },
  "language_info": {
   "codemirror_mode": {
    "name": "ipython",
    "version": 3
   },
   "file_extension": ".py",
   "mimetype": "text/x-python",
   "name": "python",
   "nbconvert_exporter": "python",
   "pygments_lexer": "ipython3",
   "version": "3.9.1"
  },
  "source_map": [
   13,
   94,
   96,
   103,
   105,
   117,
   119,
   124,
   126,
   146,
   149,
   151,
   158,
   161,
   164,
   166,
   211,
   216,
   218,
   222,
   224,
   226,
   228,
   230,
   233,
   236,
   243,
   245,
   248,
   250,
   276,
   278,
   280,
   282,
   343,
   346,
   350,
   353,
   357,
   359,
   364,
   366,
   372,
   375,
   377,
   380,
   385,
   393,
   396,
   399,
   401,
   409,
   412,
   414,
   422,
   425,
   427,
   429,
   431,
   433,
   460,
   462,
   464,
   466,
   468,
   471,
   473,
   475,
   480,
   485,
   495,
   500,
   536,
   539,
   636,
   639,
   643,
   646,
   663,
   668,
   680,
   683,
   701,
   704,
   728,
   733,
   737,
   744,
   748,
   752,
   757,
   760,
   764,
   769,
   773,
   784,
   788,
   793,
   796,
   811,
   814,
   843,
   847,
   852,
   855,
   876,
   880,
   886,
   889,
   897,
   899,
   901,
   905,
   909,
   915,
   920,
   927,
   933,
   936,
   942,
   947,
   953,
   956,
   968,
   971,
   973,
   975,
   991,
   997,
   1002,
   1008,
   1010,
   1013,
   1019,
   1023,
   1029,
   1034,
   1120,
   1125,
   1161,
   1168,
   1180,
   1185,
   1202,
   1208,
   1216,
   1223,
   1230,
   1235,
   1269,
   1275,
   1278,
   1281,
   1298,
   1301,
   1303,
   1307,
   1310,
   1314,
   1317,
   1321,
   1323,
   1330,
   1334,
   1337,
   1342,
   1367,
   1370,
   1373,
   1375,
   1384,
   1390,
   1395,
   1399,
   1403,
   1406,
   1409,
   1415,
   1454,
   1459,
   1477,
   1479,
   1485,
   1487,
   1507,
   1511,
   1523,
   1529,
   1533,
   1535,
   1547,
   1550,
   1567,
   1569,
   1572,
   1575,
   1582,
   1589,
   1596,
   1600,
   1607,
   1612,
   1633,
   1638,
   1647,
   1650,
   1660,
   1662,
   1674,
   1678
  ]
 },
 "nbformat": 4,
 "nbformat_minor": 5
}