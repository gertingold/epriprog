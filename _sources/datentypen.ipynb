{
 "cells": [
  {
   "cell_type": "markdown",
   "metadata": {},
   "source": [
    "(datentypen)=\n",
    "# Einfache Datentypen, Variablen und Zuweisungen\n",
    "\n",
    "In {numref}`vorschau` hatten wir bereits verschiedene Datentypen kennengelernt.\n",
    "Hierzu gehören ganze Zahlen, die zum einen durch die explizite Umwandlung der\n",
    "Benutzereingabe in eine ganze Zahl oder als Ergebnis der\n",
    "{func}`randrange`-Funktion erzeugt wurden. Des Weiteren kamen Wahrheitswerte\n",
    "vor. Ganz explizit war dies bei `True` der Fall, das zur Konstruktion einer\n",
    "Dauerschleife verwendet wurde.\n",
    "\n",
    "Diese beiden Datentypen, ganze Zahlen und Wahrheitswerte gehören zu den einfachen\n",
    "Datentypen. Daneben gibt es auch zusammengesetzte Datentypen, für die wir\n",
    "in {numref}`vorschau` ebenfalls schon Beispiele gesehen hatten. Dazu gehören die\n",
    "Zeichenketten, zum Beispiel in den Zeilen 12 bis 15, aber auch die durch eckige\n",
    "Klammern gekennzeichnete Liste in Zeile 11.\n",
    "\n",
    "In diesem Kapitel werden wir uns zunächst den einfachen Datentypen zuwenden und\n",
    "die zusammengesetzten Datentypen in einem späteren Kapitel besprechen. Dabei\n",
    "werden wir vor allem neben den ganzen Zahlen noch weitere numerische Datentypen\n",
    "kennenlernen, die für natur- und ingenieurwissenschaftliche Anwendungen große\n",
    "Bedeutung besitzen.\n",
    "\n",
    "(integers)=\n",
    "## Ganze Zahlen\n",
    "\n",
    "Wir beginnen bei der Besprechung der numerischen Datentypen mit den ganzen\n",
    "Zahlen, auf Englisch *integers*. Auf den ersten Blick könnte man denken, dass\n",
    "in den Natur- und Ingenieurwissenschaften ganze Zahlen gegenüber den reellen\n",
    "Zahlen eigentlich unwichtig sind. Auch wenn diese Einschätzung nicht ganz\n",
    "falsch ist, verwenden wir auch in diesen Bereichen relativ oft ganze Zahlen,\n",
    "zum Beispiel als Index für eine Vektor- oder Matrixkomponente. Beim\n",
    "Programmieren spielen ganze Zahlen daher unter anderem eine große Rolle, sobald\n",
    "etwas gezählt oder indiziert werden muss. Eine weitere Anwendung ganzer Zahlen\n",
    "ergibt sich speziell in Python daraus, dass im Prinzip betragsmäßig beliebig\n",
    "große ganze Zahlen dargestellt werden können. Dies ermöglicht es, Rechnungen\n",
    "mit beliebiger Genauigkeit durchzuführen.\n",
    "\n",
    "Die gerade angesprochene Frage, welche Zahlen überhaupt in einer Programmiersprache\n",
    "dargestellt werden können, ist von großer Bedeutung. Es lohnt sich daher, sich\n",
    "etwas genauer damit zu beschäftigen. Zahlen werden, wie andere Objekte auch, im\n",
    "Computer intern immer mit Hilfe von Nullen und Einsen dargestellt. Begrenzt man\n",
    "den Speicherplatz je Zahl, so ist der darstellbare Zahlenbereich eingeschränkt.\n",
    "Daher werden wir im Folgenden statt von »ganzen Zahlen«, die wir für das mathematische\n",
    "Objekt verwenden wollen, lieber von »Integers« sprechen, die sich auf die im\n",
    "Computer realisierbaren Zahlen beziehen.\n",
    "\n",
    "Die Frage nach den im Computer darstellbaren Zahlen ist insofern wichtig, als\n",
    "ein Überschreiten des Zahlenbereichs zu Problemen führt. Bei den\n",
    "Gleitkommazahlen, die wir im nächsten Kapitel besprechen werden, führt eine\n",
    "begrenzte Zahl von Nachkommastellen zusätzlich zu dem Problem von\n",
    "Rundungsfehlern.\n",
    "\n",
    "Doch kommen wir zurück zu den Integers. Wenn Python im Prinzip betragsmäßig\n",
    "beliebig große Zahlen erlaubt, könnte man meinen, dass man sich um die Größe\n",
    "des Zahlenbereichs nicht weiter kümmern muss. Das ist allerdings nicht ganz\n",
    "richtig.  Zum einen ist jeder reale Computerspeicher begrenzt, so dass der\n",
    "Zahlenbereich letztlich doch eingeschränkt ist. In der Praxis spielt diese\n",
    "Einschränkung kaum eine Rolle, sondern eher die Zeit, die eine Rechenoperation\n",
    "mit sehr großen Integers benötigt. In anderen Programmiersprachen dagegen ist\n",
    "der Bereich der möglichen Integers eingeschränkt. Da die für uns wichtigen\n",
    "numerischen Programmbibliotheken NumPy und SciPy zu großen Teilen auf in C oder\n",
    "Fortran geschriebenen Programmen basieren, werden dort auch unter Python die\n",
    "Einschränkungen des Zahlenbereichs wichtig. Zu erwähnen wäre noch, dass die Integers,\n",
    "die als Index zur Adressierung in Listen oder Zeichenketten verwendet werden\n",
    "können, auch in Python beschränkt sind. Allerdings wird diese Beschränkung auf\n",
    "modernen Computern selten ein Problem darstellen.\n",
    "\n",
    "Wie ganze Zahlen im Computer dargestellt werden und was das für die\n",
    "größenmäßige Einschränkung des Zahlenbereichs bedeutet, werden wir in einem\n",
    "Anhang in {numref}`anhang_zahlensysteme` diskutieren.  Dort werden auch die\n",
    "Grundlagen des Dualsystems erklärt, das der Darstellung von Zahlen mit Hilfe\n",
    "von Nullen und Einsen zugrunde liegt. Hier wollen wir uns nun stärker der\n",
    "praktischen Arbeit mit Integers zuwenden.\n",
    "\n",
    "Als erstes wollen wir zeigen, dass Integers in Python tatsächlich sehr groß werden\n",
    "können, indem wir die tausendste Potenz von 2 ausrechnen lassen. Der doppelte Stern\n",
    "`**` steht dabei für den Exponentiationsoperator."
   ]
  },
  {
   "cell_type": "code",
   "execution_count": 1,
   "metadata": {},
   "outputs": [
    {
     "data": {
      "text/plain": [
       "10715086071862673209484250490600018105614048117055336074437503883703510511249361224931983788156958581275946729175531468251871452856923140435984577574698574803934567774824230985421074605062371141877954182153046474983581941267398767559165543946077062914571196477686542167660429831652624386837205668069376"
      ]
     },
     "execution_count": 1,
     "metadata": {},
     "output_type": "execute_result"
    }
   ],
   "source": [
    "2**1000"
   ]
  },
  {
   "cell_type": "markdown",
   "metadata": {},
   "source": [
    "Das Ergebnis hat 302 Stellen. Genauso gut könnte man als Exponenten 100000 wählen\n",
    "und würde dann ein Ergebnis mit 30103 Stellen erhalten.\n",
    "\n",
    "Natürlich gibt es neben positiven Integers auch solche mit negativem Vorzeichen."
   ]
  },
  {
   "cell_type": "code",
   "execution_count": 2,
   "metadata": {},
   "outputs": [
    {
     "data": {
      "text/plain": [
       "-1267650600228229401496703205376"
      ]
     },
     "execution_count": 2,
     "metadata": {},
     "output_type": "execute_result"
    }
   ],
   "source": [
    "2**100 - 2**101"
   ]
  },
  {
   "cell_type": "markdown",
   "metadata": {},
   "source": [
    "Die Leerzeichen um das Minuszeichen der Eingabe spielen für den Pythoninterpreter\n",
    "keine Rolle, sondern dienen hier der besseren Lesbarkeit.\n",
    "\n",
    "In Python kann man auch mit Dual-, Oktal- und Hexadezimalzahlen arbeiten. Eine\n",
    "Einführung in Zahlensysteme, insbesondere das Dual- und das Hexadezimalsystem\n",
    "wird in {numref}`anhang_zahlensysteme` gegeben. Um zwischen den verschiedenen\n",
    "Zahlensystemen unterscheiden zu können, werden Präfixe verwendet, und zwar\n",
    "``0b`` oder ``0B`` für das Dualsystem, ``0o`` oder ``0O`` für das Oktalsystem\n",
    "sowie ``0x`` oder ``0X`` für das Hexadezimalsystem. Die folgenden drei Darstellungen\n",
    "sind jeweils äquivalent zur Zahl 25 im gewohnten Dezimalsystem"
   ]
  },
  {
   "cell_type": "code",
   "execution_count": 3,
   "metadata": {},
   "outputs": [
    {
     "data": {
      "text/plain": [
       "(25, 25, 25)"
      ]
     },
     "execution_count": 3,
     "metadata": {},
     "output_type": "execute_result"
    }
   ],
   "source": [
    "0b11001, 0o31, 0x19"
   ]
  },
  {
   "cell_type": "markdown",
   "metadata": {},
   "source": [
    "Die Umwandlung in das Binär-, Oktal- oder Hexadezimalformat erfolgt mit Hilfe der\n",
    "Funktionen ``bin``, ``oct`` bzw. ``hex``:"
   ]
  },
  {
   "cell_type": "code",
   "execution_count": 4,
   "metadata": {},
   "outputs": [
    {
     "data": {
      "text/plain": [
       "('0b11001', '0o31', '0x19')"
      ]
     },
     "execution_count": 4,
     "metadata": {},
     "output_type": "execute_result"
    }
   ],
   "source": [
    "bin(25), oct(25), hex(25)"
   ]
  },
  {
   "cell_type": "markdown",
   "metadata": {},
   "source": [
    "Das Ergebnis ist allerdings keine Zahl, sondern eine Zeichenkette, wie an den\n",
    "einschließenden Hochkommas zu erkennen ist.\n",
    "\n",
    "Bei den meisten grundlegenden mathematischen Operationen wie Addition, Subtraktion,\n",
    "Multiplikation und Exponentiation ist gewährleistet, dass bei der Anwendung auf\n",
    "ganze Zahlen das Ergebnis wieder eine ganze Zahl ist. Eine Ausnahme ist die Division,\n",
    "da nicht klar ist, dass sich der Dividend durch den Divisor ohne Rest teilen lässt.\n",
    "\n",
    "Um fehlerhafte Programme zu vermeiden, ist es daher wichtig zu wissen, wie die\n",
    "verwendete Programmiersprache die Division handhabt. Prinzipiell gibt es zwei\n",
    "Möglichkeiten. Eine Möglichkeit besteht darin, bei der Division von zwei ganzen\n",
    "Zahlen wieder eine ganze Zahl zu erzeugen und einen eventuell entstehenden Rest\n",
    "zu ignorieren. Bei der anderen Möglichkeit wird der Quotient als Gleitkommazahl\n",
    "dargestellt. Keine der beiden Varianten ist besser als die andere, so dass es für \n",
    "eine Programmiersprache auch keine natürliche Wahl gibt. Tatsächlich hat sich\n",
    "Python in der Version 2 an dieser Stelle anders verhalten als die Version 3, die\n",
    "wir heute benutzen.\n",
    "\n",
    "Sehen wir uns an, wie Python 3 mit der Division von zwei Integers umgeht."
   ]
  },
  {
   "cell_type": "code",
   "execution_count": 5,
   "metadata": {},
   "outputs": [
    {
     "data": {
      "text/plain": [
       "0.5"
      ]
     },
     "execution_count": 5,
     "metadata": {},
     "output_type": "execute_result"
    }
   ],
   "source": [
    "1/2"
   ]
  },
  {
   "cell_type": "code",
   "execution_count": 6,
   "metadata": {},
   "outputs": [
    {
     "data": {
      "text/plain": [
       "5.0"
      ]
     },
     "execution_count": 6,
     "metadata": {},
     "output_type": "execute_result"
    }
   ],
   "source": [
    "15/3"
   ]
  },
  {
   "cell_type": "markdown",
   "metadata": {},
   "source": [
    "Offenbar wird hier immer eine Gleitkommazahl erzeugt, was an dem Dezimalpunkt\n",
    "ersichtlich ist. Dies gilt auch, wenn der Quotient wie im zweiten Fall im\n",
    "Prinzip als ganze Zahl darstellbar wäre.\n",
    "\n",
    "Gelegentlich benötigt man aber eine Ganzzahldivision. In Python 3 erhält man diese\n",
    "mit einem doppelten Schrägstrich."
   ]
  },
  {
   "cell_type": "code",
   "execution_count": 7,
   "metadata": {},
   "outputs": [
    {
     "data": {
      "text/plain": [
       "0"
      ]
     },
     "execution_count": 7,
     "metadata": {},
     "output_type": "execute_result"
    }
   ],
   "source": [
    "1//2"
   ]
  },
  {
   "cell_type": "code",
   "execution_count": 8,
   "metadata": {},
   "outputs": [
    {
     "data": {
      "text/plain": [
       "2"
      ]
     },
     "execution_count": 8,
     "metadata": {},
     "output_type": "execute_result"
    }
   ],
   "source": [
    "15//7"
   ]
  },
  {
   "cell_type": "code",
   "execution_count": 9,
   "metadata": {},
   "outputs": [
    {
     "data": {
      "text/plain": [
       "-3"
      ]
     },
     "execution_count": 9,
     "metadata": {},
     "output_type": "execute_result"
    }
   ],
   "source": [
    "-15//7"
   ]
  },
  {
   "cell_type": "markdown",
   "metadata": {},
   "source": [
    "```{admonition} Frage\n",
    "Was macht der ``//``-Divisionsoperator in Python 3 tatsächlich, vor allem vor dem\n",
    "Hintergrund des letzten Beispiels? [^gvr_blog]\n",
    "\n",
    "[^gvr_blog]: Die Hintergründe für diese Wahl kann man in einem\n",
    "    [Blog-Artikel](http://python-history.blogspot.de/2010/08/why-pythons-integer-division-floors.html)\n",
    "    von Guido van Rossum nachlesen.\n",
    "```\n",
    "\n",
    "Um zu verdeutlichen, dass die in Python 3 getroffene Wahl nicht zwingend ist,\n",
    "sehen wir uns zum Vergleich die Division in der Programmiersprache C an.\n",
    "Hier liefert\n",
    "```{code-block} C\n",
    "#include <stdio.h>\n",
    "\n",
    "int main(void) {\n",
    "  printf(\"%d %d\\n\", 15/7, -15/7);\n",
    "}\n",
    "```\n",
    "als Ergebnis\n",
    "```\n",
    "2 -2\n",
    "```\n",
    "Im Gegensatz zu Python 3 führt in C die Division zweier Integers wieder auf einen\n",
    "Integer. Zudem wird hier zur Null hin abgeschnitten. Im zweiten Fall ergibt sich also\n",
    "nicht -3 wie bei Python 3, sondern -2. Genauso verhält sich auch der entsprechende\n",
    "Fortran-Code\n",
    "```{code-block} fortran\n",
    "program division\n",
    "  write(*, *) 15/7, -15/7\n",
    "  write(*, *) 1/2, 1.0/2\n",
    "end program division\n",
    "```\n",
    "mit dem Ergebnis\n",
    "```\n",
    "           2          -2\n",
    "           0  0.500000000\n",
    "```\n",
    "Hier illustriert die zweite Ausgabezeile, dass man hier eine Gleitkommadivision\n",
    "erzwingen kann, indem man mindestens eine der beiden Zahlen zu einer Gleitkommazahl\n",
    "macht.\n",
    "\n",
    "Kommen wir nach diesem Ausflug zu anderen Programmiersprachen wieder zurück zu\n",
    "Python. Oft ist man am Rest einer Integerdivision interessiert. Diesen könnte man\n",
    "im Prinzip folgendermaßen erhalten"
   ]
  },
  {
   "cell_type": "code",
   "execution_count": 10,
   "metadata": {},
   "outputs": [
    {
     "name": "stdout",
     "output_type": "stream",
     "text": [
      "3\n"
     ]
    }
   ],
   "source": [
    "zaehler = 15\n",
    "nenner = 4\n",
    "rest = zaehler - (zaehler//nenner)*nenner\n",
    "print(rest)"
   ]
  },
  {
   "cell_type": "markdown",
   "metadata": {},
   "source": [
    "Mit Hilfe des Modulo-Operators `%` von Python geht dies jedoch einfacher."
   ]
  },
  {
   "cell_type": "code",
   "execution_count": 11,
   "metadata": {},
   "outputs": [
    {
     "name": "stdout",
     "output_type": "stream",
     "text": [
      "3\n"
     ]
    }
   ],
   "source": [
    "zaehler = 15\n",
    "nenner = 4\n",
    "print(zaehler % nenner)"
   ]
  },
  {
   "cell_type": "markdown",
   "metadata": {},
   "source": [
    "Eine häufige Anwendung ist der Test auf eine gerade oder ungerade Zahl."
   ]
  },
  {
   "cell_type": "code",
   "execution_count": 12,
   "metadata": {},
   "outputs": [
    {
     "data": {
      "text/plain": [
       "0"
      ]
     },
     "execution_count": 12,
     "metadata": {},
     "output_type": "execute_result"
    }
   ],
   "source": [
    "16 % 2"
   ]
  },
  {
   "cell_type": "markdown",
   "metadata": {},
   "source": [
    "Ist die Zahl ohne Rest durch 2 teilbar, ist sie offenbar gerade, ansonsten ungerade."
   ]
  },
  {
   "cell_type": "code",
   "execution_count": 13,
   "metadata": {},
   "outputs": [
    {
     "data": {
      "text/plain": [
       "1"
      ]
     },
     "execution_count": 13,
     "metadata": {},
     "output_type": "execute_result"
    }
   ],
   "source": [
    "17 % 2"
   ]
  },
  {
   "cell_type": "markdown",
   "metadata": {},
   "source": [
    "Benötigt man sowohl den Quotienten als auch den Rest, so kann man in Python beides\n",
    "in einem Schritt mit Hilfe der {func}`divmod`-Funktion erhalten"
   ]
  },
  {
   "cell_type": "code",
   "execution_count": 14,
   "metadata": {},
   "outputs": [
    {
     "name": "stdout",
     "output_type": "stream",
     "text": [
      "8 2\n"
     ]
    }
   ],
   "source": [
    "quotient, rest = divmod(42, 5)\n",
    "print(quotient, rest)"
   ]
  },
  {
   "cell_type": "markdown",
   "metadata": {},
   "source": [
    "Ein weiterer wichtiger Punkt, der hier für Integers zum ersten Mal auftritt, aber\n",
    "viel weitreichendere Bedeutung hat, ist die Reihenfolge, in der Operationen \n",
    "ausgeführt werden. In dem folgenden Beispiel sehen wir, dass in Python ebenso wie\n",
    "in C und Fortran die Regel Punkt vor Strich gilt."
   ]
  },
  {
   "cell_type": "code",
   "execution_count": 15,
   "metadata": {},
   "outputs": [
    {
     "data": {
      "text/plain": [
       "14"
      ]
     },
     "execution_count": 15,
     "metadata": {},
     "output_type": "execute_result"
    }
   ],
   "source": [
    "2+3*4"
   ]
  },
  {
   "cell_type": "markdown",
   "metadata": {},
   "source": [
    "Der Ausdruck wird also nicht von links nach rechts abgearbeitet. Möchte man zuerst\n",
    "die Addition ausführen, so muss man Klammern setzen."
   ]
  },
  {
   "cell_type": "code",
   "execution_count": 16,
   "metadata": {},
   "outputs": [
    {
     "data": {
      "text/plain": [
       "20"
      ]
     },
     "execution_count": 16,
     "metadata": {},
     "output_type": "execute_result"
    }
   ],
   "source": [
    "(2+3)*4"
   ]
  },
  {
   "cell_type": "markdown",
   "metadata": {},
   "source": [
    "Die wichtigsten für Python geltenden Vorrangregeln sind in der {numref}`table:precedence`\n",
    "dargestellt. Dabei haben die weiter oben stehenden Operationen Vorrang vor den nachfolgenden\n",
    "Operationen [^precedence].\n",
    "\n",
    "```{list-table} Die weiter oben in der Liste stehenden Operationen haben Vorrang vor den weiter unten stehenden.\n",
    ":header-rows: 1\n",
    ":name: table:precedence\n",
    "\n",
    "* - Operatoren\n",
    "  - Beschreibung\n",
    "* - **\n",
    "  - Exponentiation\n",
    "* - +x, -x\n",
    "  - Positives und negatives Vorzeichen\n",
    "* - *, /, //, %\n",
    "  - Multiplikation, Division, Modulo\n",
    "* - +, -\n",
    "  - Addition, Subtraktion\n",
    "```\n",
    "\n",
    "[^precedence]: Eine vollständige Liste, die auch noch nicht besprochene Operatoren umfasst, findet\n",
    "    man unter dem Punkt [Operator precedence](http://docs.python.org/3/reference/expressions.html#operator-precedence)\n",
    "    in der Python-Dokumentation. Beachten Sie, dass die dortige Tabelle umgekehrt geordnet ist, also\n",
    "    weiter unten stehende Operatoren Vorrang haben.\n",
    "\n",
    "Auch wenn das folgende Beispiel Gleitkommazahlen involviert, sei angemerkt,\n",
    "dass falls der Exponentiationsoperator``**`` direkt von einem Plus oder Minus\n",
    "gefolgt, das Vorzeichen stärker bindet.\n",
    "\n",
    "```{code-block} python\n",
    ">>> 2**-0.5\n",
    "0.7071067811865476\n",
    "```\n",
    "\n",
    "Stehen Operatoren auf der gleichen Stufe, so wird der Ausdruck von links nach\n",
    "rechts ausgewertet. Gegebenenfalls müssen Klammern verwendet werden, um die\n",
    "gewünschte Reihenfolge sicherzustellen. Es spricht auch nichts dagegen, im\n",
    "Zweifelsfall oder zur besseren Lesbarkeit Klammern zu setzen, selbst wenn diese\n",
    "nicht zur korrekten Abarbeitung des Ausdrucks erforderlich sind.\n",
    "\n",
    "```{admonition} Frage\n",
    "Was ergibt ``-2*4+3**2``? Was ergibt ``6**4//2``?\n",
    "```\n",
    "\n",
    "(float)=\n",
    "## Gleitkommazahlen\n",
    "\n",
    "Eine zentrale Rolle in der wissenschaftlichen Numerik spielen Gleitkommazahlen,\n",
    "die häufig auch mit dem englischen Begriff als *Floats* bezeichnet werden. \n",
    "Wir werden diesen Begriff gelegentlich verwenden, insbesondere um den Unterschied\n",
    "zum mathematischen Begriff der reellen Zahlen deutlich zu machen. Wesentlich ist\n",
    "dabei, dass sowohl der Zahlenbereich der Floats als auch die Zahl der\n",
    "Nachkommastellen begrenzt sind.\n",
    "\n",
    "Während man sich beim normalen Rechnen per Hand üblicherweise keine\n",
    "Rechenschaft darüber ablegen muss, ob eine Zahl eine ganze Zahl oder eine\n",
    "Gleitkommazahl ist, ist dies beim numerischen Arbeiten anders. Im {numref}`integers`\n",
    "hatten wir ja schon gesehen, dass der Datentyp bei der Division durchaus eine Rolle\n",
    "spielen kann.\n",
    "\n",
    "An dieser Stelle müssen wir wieder einmal auf Unterschiede zwischen Programmiersprachen\n",
    "hinweisen. In Sprachen wie C und Fortran muss der Datentyp einer Variable festgelegt\n",
    "werden. Das Fortranprogramm\n",
    "```{code-block} fortran\n",
    "---\n",
    "emphasize-lines: 6, 6\n",
    "---\n",
    "program datentyp\n",
    "  integer :: n\n",
    "  real:: x\n",
    "\n",
    "  n = 2\n",
    "  x = n\n",
    "  write(*, *) n, x\n",
    "end program datentyp\n",
    "```\n",
    "erzeugt die Ausgabe\n",
    "```\n",
    "           2   2.00000000\n",
    "```\n",
    "Gemäß der Deklaration zu Beginn des Programms handelt es sich bei der Variable `n` um\n",
    "einen Integer, während `x` ein Float ist, der in Fortran mit `real` bezeichnet wird. In\n",
    "der hervorgehobenen Zeile findet bei der Zuweisung automatisch die Umwandlung zwischen\n",
    "den beiden Datentypen statt.\n",
    "\n",
    "Im Gegensatz dazu ist eine Festlegung des Datentyps in Python nicht erforderlich.\n",
    "Man spricht in diesem Zusammenhang auch von *duck typing*: »If it looks like a\n",
    "duck and quacks like a duck, it must be a duck.« [^duck]\n",
    "\n",
    "[^duck]: [docs.python.org/glossary.html#term-duck-typing](http://docs.python.org/glossary.html#term-duck-typing). Kritiker\n",
    "    halten dem entgegen, dass sich auch ein Drache wie eine Ente verhalten kann.\n",
    "\n",
    "Den Typ einer Variable kann man in Python mit Hilfe der {func}`type`-Funktion herausfinden."
   ]
  },
  {
   "cell_type": "code",
   "execution_count": 17,
   "metadata": {},
   "outputs": [
    {
     "name": "stdout",
     "output_type": "stream",
     "text": [
      "<class 'int'>\n"
     ]
    }
   ],
   "source": [
    "n = 2\n",
    "print(type(n))"
   ]
  },
  {
   "cell_type": "markdown",
   "metadata": {},
   "source": [
    "Eine Umwandlung von einem Integer zu einem Float lässt sich in Python mit Hilfe der \n",
    "{func}`float`-Funktion vornehmen, wobei wir in diesem Beispiel gleich überprüfen, ob\n",
    "die Umwandlung tatsächlich stattgefunden hat."
   ]
  },
  {
   "cell_type": "code",
   "execution_count": 18,
   "metadata": {},
   "outputs": [
    {
     "name": "stdout",
     "output_type": "stream",
     "text": [
      "<class 'float'>\n"
     ]
    }
   ],
   "source": [
    "x = float(n)\n",
    "print(type(x))"
   ]
  },
  {
   "cell_type": "markdown",
   "metadata": {},
   "source": [
    "Die umgekehrte Umwandlung von Floats in Integers ist mit der {func}`int`-Funktion \n",
    "möglich, wobei der Nachkommaanteil einfach abgeschnitten wird:"
   ]
  },
  {
   "cell_type": "code",
   "execution_count": 19,
   "metadata": {},
   "outputs": [
    {
     "data": {
      "text/plain": [
       "2"
      ]
     },
     "execution_count": 19,
     "metadata": {},
     "output_type": "execute_result"
    }
   ],
   "source": [
    "int(2.7)"
   ]
  },
  {
   "cell_type": "markdown",
   "metadata": {},
   "source": [
    "Bereits das Anhängen eines Punktes genügt, damit Python die Zahl als Float\n",
    "interpretiert:"
   ]
  },
  {
   "cell_type": "code",
   "execution_count": 20,
   "metadata": {},
   "outputs": [
    {
     "name": "stdout",
     "output_type": "stream",
     "text": [
      "<class 'float'>\n"
     ]
    }
   ],
   "source": [
    "print(type(2.))"
   ]
  },
  {
   "cell_type": "markdown",
   "metadata": {},
   "source": [
    "Für Floats gibt es zwei mögliche Schreibweisen. Zum einen die kann man die\n",
    "Dezimalbruchschreibweise verwenden, bei der ein Dezimalpunkt erwartet wird.\n",
    "Stehen vor oder nach dem Dezimalpunkt keine Ziffern, so wird der entsprechende\n",
    "Anteil gleich Null gesetzt."
   ]
  },
  {
   "cell_type": "code",
   "execution_count": 21,
   "metadata": {},
   "outputs": [
    {
     "data": {
      "text/plain": [
       "5.0"
      ]
     },
     "execution_count": 21,
     "metadata": {},
     "output_type": "execute_result"
    }
   ],
   "source": [
    "5."
   ]
  },
  {
   "cell_type": "code",
   "execution_count": 22,
   "metadata": {},
   "outputs": [
    {
     "data": {
      "text/plain": [
       "0.25"
      ]
     },
     "execution_count": 22,
     "metadata": {},
     "output_type": "execute_result"
    }
   ],
   "source": [
    ".25"
   ]
  },
  {
   "cell_type": "markdown",
   "metadata": {},
   "source": [
    "Es ist aber nicht möglich, im Sinne einer abkürzenden Schreibweise sowohl vor\n",
    "als auch nach dem Dezimalpunkt auf Ziffern zu verzichten."
   ]
  },
  {
   "cell_type": "code",
   "execution_count": 23,
   "metadata": {
    "tags": [
     "raises-exception"
    ]
   },
   "outputs": [
    {
     "ename": "SyntaxError",
     "evalue": "invalid syntax (<ipython-input-23-a5d5b61aa8a6>, line 1)",
     "output_type": "error",
     "traceback": [
      "\u001b[0;36m  File \u001b[0;32m\"<ipython-input-23-a5d5b61aa8a6>\"\u001b[0;36m, line \u001b[0;32m1\u001b[0m\n\u001b[0;31m    .\u001b[0m\n\u001b[0m    ^\u001b[0m\n\u001b[0;31mSyntaxError\u001b[0m\u001b[0;31m:\u001b[0m invalid syntax\n"
     ]
    }
   ],
   "source": [
    "."
   ]
  },
  {
   "cell_type": "markdown",
   "metadata": {},
   "source": [
    "Für sehr kleine oder sehr große Zahlen ist die Exponentialschreibweise besser\n",
    "geeignet. Die Zahl wird dabei mit Hilfe einer Mantisse, die nicht zwingend\n",
    "einen Dezimalpunkt enthalten muss, und einem ganzzahligen Exponenten, der ein\n",
    "Vorzeichen enthalten darf, dargestellt.  Zwischen Mantisse und Exponenten muss\n",
    "dabei ein ``e`` oder ein ``E`` stehen."
   ]
  },
  {
   "cell_type": "code",
   "execution_count": 24,
   "metadata": {},
   "outputs": [
    {
     "data": {
      "text/plain": [
       "0.01"
      ]
     },
     "execution_count": 24,
     "metadata": {},
     "output_type": "execute_result"
    }
   ],
   "source": [
    "1e-2"
   ]
  },
  {
   "cell_type": "code",
   "execution_count": 25,
   "metadata": {},
   "outputs": [
    {
     "data": {
      "text/plain": [
       "153.0"
      ]
     },
     "execution_count": 25,
     "metadata": {},
     "output_type": "execute_result"
    }
   ],
   "source": [
    "1.53e2"
   ]
  },
  {
   "cell_type": "code",
   "execution_count": 26,
   "metadata": {},
   "outputs": [
    {
     "data": {
      "text/plain": [
       "1e-05"
      ]
     },
     "execution_count": 26,
     "metadata": {},
     "output_type": "execute_result"
    }
   ],
   "source": [
    "1E-5"
   ]
  },
  {
   "cell_type": "markdown",
   "metadata": {},
   "source": [
    "Da Dezimalzahlen im Allgemeinen keine endliche Binärdarstellung besitzen, kann\n",
    "es bei der Umwandlung in die Binärdarstellung zu Rundungsfehlern kommen.\n",
    "In {numref}`dualsystem` wurde festgestellt, dass $0{,}1_{10} = 0{,}0\\overline{0011}_2$,\n",
    "so dass diese Zahl im Dualsystem auf jeden Fall abgeschnitten werden muss.\n",
    "Das Problem wird an dem folgenden Beispiel deutlich, das zudem zeigt, dass es\n",
    "auf die Reihenfolge der Operationen ankommen kann."
   ]
  },
  {
   "cell_type": "code",
   "execution_count": 27,
   "metadata": {},
   "outputs": [
    {
     "data": {
      "text/plain": [
       "5.551115123125783e-17"
      ]
     },
     "execution_count": 27,
     "metadata": {},
     "output_type": "execute_result"
    }
   ],
   "source": [
    "0.1+0.1+0.1-0.3"
   ]
  },
  {
   "cell_type": "code",
   "execution_count": 28,
   "metadata": {},
   "outputs": [
    {
     "data": {
      "text/plain": [
       "2.7755575615628914e-17"
      ]
     },
     "execution_count": 28,
     "metadata": {},
     "output_type": "execute_result"
    }
   ],
   "source": [
    "0.1-0.3+0.1+0.1"
   ]
  },
  {
   "cell_type": "markdown",
   "metadata": {},
   "source": [
    "Für die praktische Arbeit ist es wichtig, ein Gefühl dafür zu entwickeln, ob\n",
    "zum Beispiel eine von Null verschiedene Zahl ein wichtiger Effekt ist oder lediglich\n",
    "die Folge eines Rundungsfehlers.\n",
    "\n",
    "Wie bereits gesagt, sind Floats in ihrer Größe begrenzt und sie können auch\n",
    "nicht beliebig dicht liegen. Informationen hierzu lassen sich in Python abfragen.\n",
    "Die größtmögliche Zahl, die sich als Float darstellen lässt lautet"
   ]
  },
  {
   "cell_type": "code",
   "execution_count": 29,
   "metadata": {},
   "outputs": [
    {
     "data": {
      "text/plain": [
       "1.7976931348623157e+308"
      ]
     },
     "execution_count": 29,
     "metadata": {},
     "output_type": "execute_result"
    }
   ],
   "source": [
    "import sys\n",
    "sys.float_info.max"
   ]
  },
  {
   "cell_type": "markdown",
   "metadata": {},
   "source": [
    "Die Distanz zwischen der 1 und der nächsten darauf folgenden darstellbaren Zahl ist"
   ]
  },
  {
   "cell_type": "code",
   "execution_count": 30,
   "metadata": {},
   "outputs": [
    {
     "data": {
      "text/plain": [
       "2.220446049250313e-16"
      ]
     },
     "execution_count": 30,
     "metadata": {},
     "output_type": "execute_result"
    }
   ],
   "source": [
    "sys.float_info.epsilon"
   ]
  },
  {
   "cell_type": "markdown",
   "metadata": {},
   "source": [
    "Die kleinste normalisierte Zahl ist"
   ]
  },
  {
   "cell_type": "code",
   "execution_count": 31,
   "metadata": {},
   "outputs": [
    {
     "data": {
      "text/plain": [
       "2.2250738585072014e-308"
      ]
     },
     "execution_count": 31,
     "metadata": {},
     "output_type": "execute_result"
    }
   ],
   "source": [
    "sys.float_info.min"
   ]
  },
  {
   "cell_type": "markdown",
   "metadata": {},
   "source": [
    "aber tatsächlich ist die kleinste darstellbare Zahl gleich `5e-324`. Es gibt also\n",
    "um die Null herum eine Lücke, die jedoch deutlich kleiner ist als die Lücke zwischen\n",
    "der Eins und der darauf folgenden Zahl.\n",
    "\n",
    "```{admonition} Hinweis\n",
    ":class: tip\n",
    "Ab Python 3.9 lässt sich die kleinste darstellbare Zahl, also `5e-324`\n",
    "mit Hilfe von `math.ulp(0)` erhalten.\n",
    "```\n",
    "Der Zahlenbereich für Floats sowie die Lücken um die Null und die Eins ergeben\n",
    "sich aus dem verwendeten Zahlenformat, das im IEEE-Standard 754 definiert ist.\n",
    "Einige Informationen dazu finden sich in {numref}`anhang_floats`.\n",
    "\n",
    "Im Gegensatz zu Integers können Gleitkommazahlen also nicht beliebig groß\n",
    "werden, sondern sind auf einen allerdings recht großzügig bemessenen Bereich\n",
    "bis etwas über {math}`10^{308}` beschränkt. Sollte dieser Bereich sich als\n",
    "nicht ausreichend herausstellen, ist es empfehlenswert, sich zunächst einmal\n",
    "Gedanken darüber zu machen, ob man das verwendete numerische Verfahren geeignet\n",
    "formuliert hat. Eventuell kann schon eine Skalierung der Variablen das Problem\n",
    "beseitigen. Im schlimmsten Fall kann man in Python zum\n",
    "[{mod}`mpmath`-Modul](http://mpmath.org/doc/current/) greifen, das es erlaubt,\n",
    "mit mehr als den standardmäßigen 15 signifikanten Stellen zu rechnen.\n",
    "\n",
    "Was passiert aber, wenn man den zulässigen Zahlenbereich von Floats überschreitet?\n",
    "In diesem Fall setzt Python die entsprechende Zahl auf Unendlich oder `inf` vom\n",
    "vom englischen *infinity*."
   ]
  },
  {
   "cell_type": "code",
   "execution_count": 32,
   "metadata": {},
   "outputs": [
    {
     "data": {
      "text/plain": [
       "inf"
      ]
     },
     "execution_count": 32,
     "metadata": {},
     "output_type": "execute_result"
    }
   ],
   "source": [
    "sys.float_info.max*1.00000001"
   ]
  },
  {
   "cell_type": "markdown",
   "metadata": {},
   "source": [
    "Dieses Unendlich ist zudem vorzeichenbehaftet."
   ]
  },
  {
   "cell_type": "code",
   "execution_count": 33,
   "metadata": {},
   "outputs": [
    {
     "data": {
      "text/plain": [
       "-inf"
      ]
     },
     "execution_count": 33,
     "metadata": {},
     "output_type": "execute_result"
    }
   ],
   "source": [
    "-sys.float_info.max*1.00000001"
   ]
  },
  {
   "cell_type": "markdown",
   "metadata": {},
   "source": [
    "In manchen Situation kann man mit dem Ergebnis sogar noch weiterrechnen."
   ]
  },
  {
   "cell_type": "code",
   "execution_count": 34,
   "metadata": {},
   "outputs": [
    {
     "name": "stdout",
     "output_type": "stream",
     "text": [
      "0.0\n"
     ]
    }
   ],
   "source": [
    "x = sys.float_info.max*1.00000001\n",
    "print(1/x)"
   ]
  },
  {
   "cell_type": "markdown",
   "metadata": {},
   "source": [
    "Dies ist jedoch nicht der Fall, wenn man zweimal positiv Unendlich voneinander abziehen will."
   ]
  },
  {
   "cell_type": "code",
   "execution_count": 35,
   "metadata": {},
   "outputs": [
    {
     "data": {
      "text/plain": [
       "nan"
      ]
     },
     "execution_count": 35,
     "metadata": {},
     "output_type": "execute_result"
    }
   ],
   "source": [
    "1e400 - 1e401"
   ]
  },
  {
   "cell_type": "markdown",
   "metadata": {},
   "source": [
    "Hierbei steht `nan` für »not a number«. \n",
    "\n",
    "Anders als man nach dieser Diskussion vielleicht denke könnte, hat eine Division durch Null\n",
    "nicht das Ergebnis `inf`. Vielmehr gibt es einen `ZeroDivisionError`."
   ]
  },
  {
   "cell_type": "code",
   "execution_count": 36,
   "metadata": {
    "tags": [
     "raises-exception"
    ]
   },
   "outputs": [
    {
     "ename": "ZeroDivisionError",
     "evalue": "float division by zero",
     "output_type": "error",
     "traceback": [
      "\u001b[0;31m---------------------------------------------------------------------------\u001b[0m",
      "\u001b[0;31mZeroDivisionError\u001b[0m                         Traceback (most recent call last)",
      "\u001b[0;32m<ipython-input-36-aab2144c050b>\u001b[0m in \u001b[0;36m<module>\u001b[0;34m\u001b[0m\n\u001b[0;32m----> 1\u001b[0;31m \u001b[0;36m1.5\u001b[0m\u001b[0;34m/\u001b[0m\u001b[0;36m0\u001b[0m\u001b[0;34m\u001b[0m\u001b[0;34m\u001b[0m\u001b[0m\n\u001b[0m",
      "\u001b[0;31mZeroDivisionError\u001b[0m: float division by zero"
     ]
    }
   ],
   "source": [
    "1.5/0"
   ]
  },
  {
   "cell_type": "markdown",
   "metadata": {},
   "source": [
    "Hierbei handelt es sich um eine so genannte Ausnahme oder Englisch *exception*, die man geeignet\n",
    "behandeln kann, wie wir später noch sehen werden.\n",
    "\n",
    "(mathfunc)=\n",
    "## Funktionen für reelle Zahlen\n",
    "\n",
    "In numerischen Anwendungen in den Natur- und Ingenieurwissenschaften wird man häufig\n",
    "mathematische Funktionen auswerten wollen. Der Versuch, beispielsweise eine\n",
    "Exponentialfunktion auszuwerten, führt jedoch nicht unmittelbar zum Erfolg."
   ]
  },
  {
   "cell_type": "code",
   "execution_count": 37,
   "metadata": {
    "tags": [
     "raises-exception"
    ]
   },
   "outputs": [
    {
     "ename": "NameError",
     "evalue": "name 'exp' is not defined",
     "output_type": "error",
     "traceback": [
      "\u001b[0;31m---------------------------------------------------------------------------\u001b[0m",
      "\u001b[0;31mNameError\u001b[0m                                 Traceback (most recent call last)",
      "\u001b[0;32m<ipython-input-37-840a487878a2>\u001b[0m in \u001b[0;36m<module>\u001b[0;34m\u001b[0m\n\u001b[0;32m----> 1\u001b[0;31m \u001b[0mexp\u001b[0m\u001b[0;34m(\u001b[0m\u001b[0;36m2\u001b[0m\u001b[0;34m)\u001b[0m\u001b[0;34m\u001b[0m\u001b[0;34m\u001b[0m\u001b[0m\n\u001b[0m",
      "\u001b[0;31mNameError\u001b[0m: name 'exp' is not defined"
     ]
    }
   ],
   "source": [
    "exp(2)"
   ]
  },
  {
   "cell_type": "markdown",
   "metadata": {},
   "source": [
    "Hierfür kann es im Wesentlichen zwei Gründe geben. Entweder hat die Exponentialfunktion\n",
    "nicht den Namen `exp` oder die Exponentialfunktion ist nicht verfügbar, zumindest nicht\n",
    "so unmittelbar, wie wir das hier annehmen. Tatsächlich muss man in Python, genauso wie\n",
    "in C, ein klein wenig mehr tun, als nur die Exponentialfunktion aufzurufen.\n",
    "\n",
    "Bevor wir uns das gleich genauer ansehen, wollen wir kurz auf zwei für das\n",
    "wissenschaftliche Rechnen relevante Programmiersprachen hinweisen, bei denen\n",
    "die Exponentialfunktion sowie eine ganze Reihe weiterer mathematischer\n",
    "Funktionen direkt aufgerufen werden können. Eine dieser Sprachen ist Fortran,\n",
    "eine relativ alte, aber im wissenschaftlichen Bereich immer noch häufig\n",
    "eingesetzte Sprache, deren Name ursprünglich als Abkürzung für »Formula\n",
    "Translation« stand. Damit kann man schon erwarten, dass sich iin Fortran\n",
    "mathematische Funktionen sehr einfach verwenden lassen.\n",
    "\n",
    "Eine moderne Sprache, in der dies ebenfalls der Fall ist, ist Julia.\n",
    "Hierbei handelt es sich wie bei Python um eine interpretierte Sprache, so \n",
    "dass wir die Exponentiation einfach in der Julia-Shell ausprobieren können.\n",
    "```{code-block} julia\n",
    "$ julia\n",
    "               _\n",
    "   _       _ _(_)_     |  Documentation: https://docs.julialang.org\n",
    "  (_)     | (_) (_)    |\n",
    "   _ _   _| |_  __ _   |  Type \"?\" for help, \"]?\" for Pkg help.\n",
    "  | | | | | | |/ _` |  |\n",
    "  | | |_| | | | (_| |  |  Version 1.5.2 (2020-09-23)\n",
    " _/ |\\__'_|_|_|\\__'_|  |  Official https://julialang.org/ release\n",
    "|__/                   |\n",
    "\n",
    "julia> exp(2)\n",
    "7.38905609893065\n",
    "```\n",
    "\n",
    "Wesentlich komplizierter ist das Vorgehen in Python allerdings auch nicht. Man\n",
    "muss nur daran denken, zunächst das Modul {mod}`math`, das Bestandteil der\n",
    "Python-Standardbibliothek ist zu laden."
   ]
  },
  {
   "cell_type": "code",
   "execution_count": 38,
   "metadata": {},
   "outputs": [
    {
     "data": {
      "text/plain": [
       "7.38905609893065"
      ]
     },
     "execution_count": 38,
     "metadata": {},
     "output_type": "execute_result"
    }
   ],
   "source": [
    "import math\n",
    "math.exp(2)"
   ]
  },
  {
   "cell_type": "markdown",
   "metadata": {},
   "source": [
    "Zum Vergleich mit Python betrachten wir den folgenden Code, der die Verwendung\n",
    "einer mathematischen Funktion in der Programmiersprache C illustriert:\n",
    "```{code-block} c\n",
    "---\n",
    "emphasize-lines: 2, 2\n",
    "---\n",
    "#include <stdio.h>\n",
    "#include <math.h>\n",
    "\n",
    "int main(void) {\n",
    "  double x = 2;\n",
    "  printf(\"Die Exponentialfunktion von %f ist %f\\n\", x, exp(x));\n",
    "}\n",
    "```\n",
    "Hier entspricht die hervorgehobene Zeile dem `import`-Befehl in Python. Zudem muss\n",
    "man beim Kompilieren, also der Übersetzung des Programms in maschinenlesbaren Code\n",
    "mit `-lm` noch die Mathematikbibliothek hinzulinken.\n",
    "```{code-block} bash\n",
    "$ cc -o bsp_exp bsp_exp.c -lm\n",
    "$ ./bsp_exp\n",
    "Die Exponentialfunktion von 2.000000 ist 7.389056\n",
    "```\n",
    "In der ersten Zeile wird mit `-o bsp_exp` festgelegt, dass die Ausgabedatei\n",
    "den Namen `bsp_exp` heißen soll. Diese wird in der zweiten Zeile ausgeführt\n",
    "und wir erhalten in der dritten Zeile die erwartete Ausgabe.\n",
    "\n",
    "````{admonition} Weiterführendes (rechts aufklappen)\n",
    ":class: toggle\n",
    "Nach der Kompilierung des obigen C-Programms entsteht als Zwischenprodukt\n",
    "ein so genanntes Assembler-Programm, das schon sehr maschinennah ist und\n",
    "von einem Assembler in den von einem Computer les- und ausführbaren\n",
    "Maschinencode umgewandelt wird.\n",
    "```{code-block}\n",
    "            .file   \"bsp_exp.c\"\n",
    "            .text\n",
    "            .section        .rodata\n",
    "            .align 8\n",
    "    .LC1:\n",
    "            .string \"Die Exponentialfunktion von %f ist %f\\n\"\n",
    "            .text\n",
    "            .globl  main\n",
    "            .type   main, @function\n",
    "    main:\n",
    "    .LFB0:\n",
    "            .cfi_startproc\n",
    "            pushq   %rbp\n",
    "            .cfi_def_cfa_offset 16\n",
    "            .cfi_offset 6, -16\n",
    "            movq    %rsp, %rbp\n",
    "            .cfi_def_cfa_register 6\n",
    "            subq    $32, %rsp\n",
    "            movsd   .LC0(%rip), %xmm0\n",
    "            movsd   %xmm0, -8(%rbp)\n",
    "            movq    -8(%rbp), %rax\n",
    "            movq    %rax, -24(%rbp)\n",
    "            movsd   -24(%rbp), %xmm0\n",
    "            call    exp@PLT\n",
    "            movq    -8(%rbp), %rax\n",
    "            movapd  %xmm0, %xmm1\n",
    "            movq    %rax, -24(%rbp)\n",
    "            movsd   -24(%rbp), %xmm0\n",
    "            leaq    .LC1(%rip), %rdi\n",
    "            movl    $2, %eax\n",
    "            call    printf@PLT\n",
    "            movl    $0, %eax\n",
    "            leave\n",
    "            .cfi_def_cfa 7, 8\n",
    "            ret\n",
    "            .cfi_endproc\n",
    "    .LFE0:\n",
    "            .size   main, .-main\n",
    "            .section        .rodata\n",
    "            .align 8\n",
    "    .LC0:\n",
    "            .long   0\n",
    "            .long   1073741824\n",
    "            .ident  \"GCC: (Ubuntu 7.5.0-3ubuntu1~18.04) 7.5.0\"\n",
    "            .section        .note.GNU-stack,\"\",@progbits\n",
    "```\n",
    "````\n",
    "\n",
    "Kommen wir nach diesem Ausflug in andere Programmiersprachen zurück zum Import von\n",
    "Funktionen aus dem {mod}`math`-Modul der Python-Standardbibliothek. Die obige Form\n",
    "des Imports ist nur eine von mehrere möglichen Varianten, die Vor- und Nachteile haben.\n",
    "\n",
    "In der ersten Variante, die wir weiter oben verwendet haben, wird das Modul, hier `math`\n",
    "dem eigenen Code bekannt gemacht. Dies geschieht in unserem Beispiel mit `import math`.\n",
    "Der Nachteil hiervon ist, dass man jedes Mal, wenn man sich auf ein Objekt aus dem Modul\n",
    "beziehen will, den Modulnamen voranstellen muss. Deswegen mussten wir `math.exp` schreiben.\n",
    "Diese Mehrarbeit lohnt sich aber unter Umständen, um im Code deutlich zu machen, aus\n",
    "welchem Modul zum Beispiel eine Funktion stammt.\n",
    "\n",
    "Alternativ hierzu kann man bestimmte Objekte, also Funktionen oder auch Attribute, \n",
    "importieren. Diese stehen dann wie in dem folgenden Beispiel zur Verfügung, ohne dass\n",
    "der Modulname voranzustellen ist."
   ]
  },
  {
   "cell_type": "code",
   "execution_count": 39,
   "metadata": {},
   "outputs": [
    {
     "data": {
      "text/plain": [
       "1.0"
      ]
     },
     "execution_count": 39,
     "metadata": {},
     "output_type": "execute_result"
    }
   ],
   "source": [
    "from math import sin, cos\n",
    "sin(0.5)**2+cos(0.5)**2"
   ]
  },
  {
   "cell_type": "markdown",
   "metadata": {},
   "source": [
    "Schließlich gibt es noch die Möglichkeit,  sämtliche Objekte eines Moduls auf einmal\n",
    "einbinden"
   ]
  },
  {
   "cell_type": "code",
   "execution_count": 40,
   "metadata": {},
   "outputs": [
    {
     "data": {
      "text/plain": [
       "2.302585092994046"
      ]
     },
     "execution_count": 40,
     "metadata": {},
     "output_type": "execute_result"
    }
   ],
   "source": [
    "from math import *\n",
    "log(10)"
   ]
  },
  {
   "cell_type": "markdown",
   "metadata": {},
   "source": [
    "Dieses Vorgehen ist allerdings nicht ganz unproblematisch, da man auf diese\n",
    "Weise einen unter Umständen großen Namensraum einbindet und damit potentiell\n",
    "unabsichtlich Funktionen definiert oder umdefiniert, wodurch die Funktionsweise\n",
    "des Programms fehlerhaft sein kann. Einer solchen Situation werden wir im nächsten\n",
    "Abschnitt noch begegnen."
   ]
  },
  {
   "cell_type": "code",
   "execution_count": 41,
   "metadata": {
    "tags": [
     "output_scroll"
    ]
   },
   "outputs": [
    {
     "name": "stdout",
     "output_type": "stream",
     "text": [
      "Help on module math:\n",
      "\n",
      "NAME\n",
      "    math\n",
      "\n",
      "MODULE REFERENCE\n",
      "    https://docs.python.org/3.8/library/math\n",
      "    \n",
      "    The following documentation is automatically generated from the Python\n",
      "    source files.  It may be incomplete, incorrect or include features that\n",
      "    are considered implementation detail and may vary between Python\n",
      "    implementations.  When in doubt, consult the module reference at the\n",
      "    location listed above.\n",
      "\n",
      "DESCRIPTION\n",
      "    This module provides access to the mathematical functions\n",
      "    defined by the C standard.\n",
      "\n",
      "FUNCTIONS\n",
      "    acos(x, /)\n",
      "        Return the arc cosine (measured in radians) of x.\n",
      "    \n",
      "    acosh(x, /)\n",
      "        Return the inverse hyperbolic cosine of x.\n",
      "    \n",
      "    asin(x, /)\n",
      "        Return the arc sine (measured in radians) of x.\n",
      "    \n",
      "    asinh(x, /)\n",
      "        Return the inverse hyperbolic sine of x.\n",
      "    \n",
      "    atan(x, /)\n",
      "        Return the arc tangent (measured in radians) of x.\n",
      "    \n",
      "    atan2(y, x, /)\n",
      "        Return the arc tangent (measured in radians) of y/x.\n",
      "        \n",
      "        Unlike atan(y/x), the signs of both x and y are considered.\n",
      "    \n",
      "    atanh(x, /)\n",
      "        Return the inverse hyperbolic tangent of x.\n",
      "    \n",
      "    ceil(x, /)\n",
      "        Return the ceiling of x as an Integral.\n",
      "        \n",
      "        This is the smallest integer >= x.\n",
      "    \n",
      "    comb(n, k, /)\n",
      "        Number of ways to choose k items from n items without repetition and without order.\n",
      "        \n",
      "        Evaluates to n! / (k! * (n - k)!) when k <= n and evaluates\n",
      "        to zero when k > n.\n",
      "        \n",
      "        Also called the binomial coefficient because it is equivalent\n",
      "        to the coefficient of k-th term in polynomial expansion of the\n",
      "        expression (1 + x)**n.\n",
      "        \n",
      "        Raises TypeError if either of the arguments are not integers.\n",
      "        Raises ValueError if either of the arguments are negative.\n",
      "    \n",
      "    copysign(x, y, /)\n",
      "        Return a float with the magnitude (absolute value) of x but the sign of y.\n",
      "        \n",
      "        On platforms that support signed zeros, copysign(1.0, -0.0)\n",
      "        returns -1.0.\n",
      "    \n",
      "    cos(x, /)\n",
      "        Return the cosine of x (measured in radians).\n",
      "    \n",
      "    cosh(x, /)\n",
      "        Return the hyperbolic cosine of x.\n",
      "    \n",
      "    degrees(x, /)\n",
      "        Convert angle x from radians to degrees.\n",
      "    \n",
      "    dist(p, q, /)\n",
      "        Return the Euclidean distance between two points p and q.\n",
      "        \n",
      "        The points should be specified as sequences (or iterables) of\n",
      "        coordinates.  Both inputs must have the same dimension.\n",
      "        \n",
      "        Roughly equivalent to:\n",
      "            sqrt(sum((px - qx) ** 2.0 for px, qx in zip(p, q)))\n",
      "    \n",
      "    erf(x, /)\n",
      "        Error function at x.\n",
      "    \n",
      "    erfc(x, /)\n",
      "        Complementary error function at x.\n",
      "    \n",
      "    exp(x, /)\n",
      "        Return e raised to the power of x.\n",
      "    \n",
      "    expm1(x, /)\n",
      "        Return exp(x)-1.\n",
      "        \n",
      "        This function avoids the loss of precision involved in the direct evaluation of exp(x)-1 for small x.\n",
      "    \n",
      "    fabs(x, /)\n",
      "        Return the absolute value of the float x.\n",
      "    \n",
      "    factorial(x, /)\n",
      "        Find x!.\n",
      "        \n",
      "        Raise a ValueError if x is negative or non-integral.\n",
      "    \n",
      "    floor(x, /)\n",
      "        Return the floor of x as an Integral.\n",
      "        \n",
      "        This is the largest integer <= x.\n",
      "    \n",
      "    fmod(x, y, /)\n",
      "        Return fmod(x, y), according to platform C.\n",
      "        \n",
      "        x % y may differ.\n",
      "    \n",
      "    frexp(x, /)\n",
      "        Return the mantissa and exponent of x, as pair (m, e).\n",
      "        \n",
      "        m is a float and e is an int, such that x = m * 2.**e.\n",
      "        If x is 0, m and e are both 0.  Else 0.5 <= abs(m) < 1.0.\n",
      "    \n",
      "    fsum(seq, /)\n",
      "        Return an accurate floating point sum of values in the iterable seq.\n",
      "        \n",
      "        Assumes IEEE-754 floating point arithmetic.\n",
      "    \n",
      "    gamma(x, /)\n",
      "        Gamma function at x.\n",
      "    \n",
      "    gcd(x, y, /)\n",
      "        greatest common divisor of x and y\n",
      "    \n",
      "    hypot(...)\n",
      "        hypot(*coordinates) -> value\n",
      "        \n",
      "        Multidimensional Euclidean distance from the origin to a point.\n",
      "        \n",
      "        Roughly equivalent to:\n",
      "            sqrt(sum(x**2 for x in coordinates))\n",
      "        \n",
      "        For a two dimensional point (x, y), gives the hypotenuse\n",
      "        using the Pythagorean theorem:  sqrt(x*x + y*y).\n",
      "        \n",
      "        For example, the hypotenuse of a 3/4/5 right triangle is:\n",
      "        \n",
      "            >>> hypot(3.0, 4.0)\n",
      "            5.0\n",
      "    \n",
      "    isclose(a, b, *, rel_tol=1e-09, abs_tol=0.0)\n",
      "        Determine whether two floating point numbers are close in value.\n",
      "        \n",
      "          rel_tol\n",
      "            maximum difference for being considered \"close\", relative to the\n",
      "            magnitude of the input values\n",
      "          abs_tol\n",
      "            maximum difference for being considered \"close\", regardless of the\n",
      "            magnitude of the input values\n",
      "        \n",
      "        Return True if a is close in value to b, and False otherwise.\n",
      "        \n",
      "        For the values to be considered close, the difference between them\n",
      "        must be smaller than at least one of the tolerances.\n",
      "        \n",
      "        -inf, inf and NaN behave similarly to the IEEE 754 Standard.  That\n",
      "        is, NaN is not close to anything, even itself.  inf and -inf are\n",
      "        only close to themselves.\n",
      "    \n",
      "    isfinite(x, /)\n",
      "        Return True if x is neither an infinity nor a NaN, and False otherwise.\n",
      "    \n",
      "    isinf(x, /)\n",
      "        Return True if x is a positive or negative infinity, and False otherwise.\n",
      "    \n",
      "    isnan(x, /)\n",
      "        Return True if x is a NaN (not a number), and False otherwise.\n",
      "    \n",
      "    isqrt(n, /)\n",
      "        Return the integer part of the square root of the input.\n",
      "    \n",
      "    ldexp(x, i, /)\n",
      "        Return x * (2**i).\n",
      "        \n",
      "        This is essentially the inverse of frexp().\n",
      "    \n",
      "    lgamma(x, /)\n",
      "        Natural logarithm of absolute value of Gamma function at x.\n",
      "    \n",
      "    log(...)\n",
      "        log(x, [base=math.e])\n",
      "        Return the logarithm of x to the given base.\n",
      "        \n",
      "        If the base not specified, returns the natural logarithm (base e) of x.\n",
      "    \n",
      "    log10(x, /)\n",
      "        Return the base 10 logarithm of x.\n",
      "    \n",
      "    log1p(x, /)\n",
      "        Return the natural logarithm of 1+x (base e).\n",
      "        \n",
      "        The result is computed in a way which is accurate for x near zero.\n",
      "    \n",
      "    log2(x, /)\n",
      "        Return the base 2 logarithm of x.\n",
      "    \n",
      "    modf(x, /)\n",
      "        Return the fractional and integer parts of x.\n",
      "        \n",
      "        Both results carry the sign of x and are floats.\n",
      "    \n",
      "    perm(n, k=None, /)\n",
      "        Number of ways to choose k items from n items without repetition and with order.\n",
      "        \n",
      "        Evaluates to n! / (n - k)! when k <= n and evaluates\n",
      "        to zero when k > n.\n",
      "        \n",
      "        If k is not specified or is None, then k defaults to n\n",
      "        and the function returns n!.\n",
      "        \n",
      "        Raises TypeError if either of the arguments are not integers.\n",
      "        Raises ValueError if either of the arguments are negative.\n",
      "    \n",
      "    pow(x, y, /)\n",
      "        Return x**y (x to the power of y).\n",
      "    \n",
      "    prod(iterable, /, *, start=1)\n",
      "        Calculate the product of all the elements in the input iterable.\n",
      "        \n",
      "        The default start value for the product is 1.\n",
      "        \n",
      "        When the iterable is empty, return the start value.  This function is\n",
      "        intended specifically for use with numeric values and may reject\n",
      "        non-numeric types.\n",
      "    \n",
      "    radians(x, /)\n",
      "        Convert angle x from degrees to radians.\n",
      "    \n",
      "    remainder(x, y, /)\n",
      "        Difference between x and the closest integer multiple of y.\n",
      "        \n",
      "        Return x - n*y where n*y is the closest integer multiple of y.\n",
      "        In the case where x is exactly halfway between two multiples of\n",
      "        y, the nearest even value of n is used. The result is always exact.\n",
      "    \n",
      "    sin(x, /)\n",
      "        Return the sine of x (measured in radians).\n",
      "    \n",
      "    sinh(x, /)\n",
      "        Return the hyperbolic sine of x.\n",
      "    \n",
      "    sqrt(x, /)\n",
      "        Return the square root of x.\n",
      "    \n",
      "    tan(x, /)\n",
      "        Return the tangent of x (measured in radians).\n",
      "    \n",
      "    tanh(x, /)\n",
      "        Return the hyperbolic tangent of x.\n",
      "    \n",
      "    trunc(x, /)\n",
      "        Truncates the Real x to the nearest Integral toward 0.\n",
      "        \n",
      "        Uses the __trunc__ magic method.\n",
      "\n",
      "DATA\n",
      "    e = 2.718281828459045\n",
      "    inf = inf\n",
      "    nan = nan\n",
      "    pi = 3.141592653589793\n",
      "    tau = 6.283185307179586\n",
      "\n",
      "FILE\n",
      "    /opt/hostedtoolcache/Python/3.8.6/x64/lib/python3.8/lib-dynload/math.cpython-38-x86_64-linux-gnu.so\n",
      "\n",
      "\n"
     ]
    }
   ],
   "source": [
    "import math\n",
    "help(math)"
   ]
  },
  {
   "cell_type": "markdown",
   "metadata": {},
   "source": [
    "Die nachfolgende Tabelle gibt die Funktionen des Moduls {mod}`math` an.\n",
    "\n",
    "| Name              | Funktion                                                                     |\n",
    "|-------------------|------------------------------------------------------------------------------|\n",
    "|``ceil(x)``        | kleinste ganze Zahl größer oder gleich ``x``                                 |\n",
    "|``copysign(x, y)`` | ergibt ``x`` mit dem Vorzeichen von ``y``                                    |\n",
    "|``fabs(x)``        | Absolutwert von ``x``                                                        |   \n",
    "|``factorial(x)``   | Fakultät, nur für positive ganze Argumente                                   |\n",
    "|``floor(x)``       | größte ganze Zahl kleiner oder gleich ``x``                                  |   \n",
    "|``fmod(x, y)``     | Modulofunktion für Gleitkommazahlen                                          |\n",
    "|``frexp(x)``       | ergibt Mantisse ``m`` und Exponent ``e`` für Basis 2                         |\n",
    "|``fsum(z)``        | Summe über ``z``, ``z`` ist iterierbarer Datentyp                            |\n",
    "|``gcd(a, b)``      | größter gemeinsamer Teiler der ganzen Zahlen ``a`` und ``b``                 |\n",
    "|``isclose(a, b)``  | überprüft ob ``a`` und ``b`` nahezu gleich sind [^isclosedoc]                |\n",
    "|``isfinite(x)``    | überprüft ob ``x`` weder unendlich noch ``nan`` (not a number) ist           |\n",
    "|``isinf(x)``       | überprüft ob ``x`` unendlich ist                                             |\n",
    "|``isnan(x)``       | überprüft ob ``x`` ``nan`` (not a number) ist                                |\n",
    "|``ldexp(x, i)``    | inverse Funktion zu ``frexp``, gibt ``x*(2**i)`` zurück                      |\n",
    "|``modf(x)``        | gibt Vor- und Nachkommaanteil als Gleitkommazahl zurück                      |\n",
    "|``remainder(x, y)``| Rest bei Division von x durch y nach IEEE 754 (ab Python 3.7)                |\n",
    "|``trunc(x)``       | schneidet Nachkommaanteil ab                                                 |\n",
    "|``exp(x)``         | Exponentialfunktion                                                          |\n",
    "|``expm1(x)``       | Exponentialfunktion minus 1                                                  |\n",
    "|``log(x[, base])`` | Logarithmus, ohne Angabe der Basis: natürlicher Logarithmus                  |\n",
    "|``log1p(x)``       | natürlicher Logarithmus von ``x+1``                                          |\n",
    "|``log2(x)``        | binärer Logarithmus                                                          |\n",
    "|``log10(x)``       | dekadischer Logarithmus                                                      |\n",
    "|``pow(x, y)``      | {math}`x^y`                                                                  |\n",
    "|``sqrt(x)``        | Quadratwurzel                                                                |\n",
    "|``acos(x)``        | Arkuskosinus (im Bogenmaß)                                                   |\n",
    "|``asin(x)``        | Arkussinus (im Bogenmaß)                                                     |\n",
    "|``atan(x)``        | Arkustangens (im Bogenmaß)                                                   |\n",
    "|``atan2(y, x)``    | Arkustangens von ``y/x`` (im Bogenmaß)                                       |\n",
    "|``cos(x)``         | Kosinus (``x`` im Bogenmaß)                                                  |\n",
    "|``hypot(x, y)``    | Wurzel aus der Summe der Quadrate von ``x`` und ``y``                        |\n",
    "|``sin(x)``         | Sinus (``x`` im Bogenmaß)                                                    |\n",
    "|``tan(x)``         | Tangens (``x`` im Bogenmaß)                                                  |\n",
    "|``degrees(x)``     | Umwandlung von Bogenmaß nach Grad                                            |\n",
    "|``radians(x)``     | Umwandlung von Grad nach Bogenmaß                                            |\n",
    "|``acosh(x)``       | Areakosinus Hyperbolicus                                                     |\n",
    "|``asinh(x)``       | Areasinus Hyperbolicus                                                       |\n",
    "|``atanh(x)``       | Areatangens Hyperbolicus                                                     |\n",
    "|``cosh(x)``        | Kosinus Hyperbolicus                                                         |\n",
    "|``sinh(x)``        | Sinus Hyperbolicus                                                           |\n",
    "|``tanh(x)``        | Tangens Hyperbolicus                                                         |\n",
    "|``erf(x)``         | Fehlerfunktion [^fehlerfunktion]                                             |\n",
    "|``erfc(x)``        | Komplement der Fehlerfunktion [^fehlerfunktion]                              |\n",
    "|``gamma(x)``       | Gammafunktion [^gammafunktion]                                               |\n",
    "|``lgamma(x)``      | natürlicher Logarithmus des Betrags der Gammafunktion [^gammafunktion]       |\n",
    "\n",
    "[^isclosedoc]: Standardmäßig wird ein relativer Fehler von {math}`10^{-9}` zugelassen. Die\n",
    "    [Dokumentation von isclose](https://docs.python.org/3/library/math.html#math.isclose)\n",
    "    beschreibt, wie man den relativen und absoluten Fehler selbst setzen kann.\n",
    "[^fehlerfunktion]: Die Fehlerfunktion ist das normierte Integral über die Gaußfunktion\n",
    "    von Null bis zu dem durch das Argument gegebenen Wert. Das Komplement der Fehlerfunktion\n",
    "    ist die Differenz zwischen 1 und dem Wert der Fehlerfunktion.\n",
    "[^gammafunktion]: Für positive ganze Zahlen entspricht die Gammafunktion der Fakultät des\n",
    "     um Eins verminderten Arguments.\n",
    "\n",
    "Außerdem werden die Kreiszahl π=3.14159… und die eulersche Zahl e=2.71828… definiert:\n",
    "\n",
    "```{code-block} python\n",
    ">>> from math import sin, pi, degrees\n",
    ">>> sin(0.5*pi)\n",
    "1.0\n",
    ">>> degrees(pi)\n",
    "180.0\n",
    ">>> from math import log, e\n",
    ">>> log(e)\n",
    "1.0\n",
    "```\n",
    "\n",
    "Falls ``e`` bereits als Bezeichner für andere Zwecke benötigt wird, können Sie auch einen\n",
    "anderen Namen vergeben:\n",
    "\n",
    "```{code-block} python\n",
    ">>> from math import e as euler_zahl\n",
    ">>> euler_zahl\n",
    "2.718281828459045\n",
    "```\n",
    "\n",
    "Ab Python 3.6 ist das Doppelte der Kreiszahl als ``math.tau`` verfügbar.\n",
    "Außerdem sind noch ``math.inf`` für positiv Unendlich und ``math.nan`` für\n",
    "»not a number« definiert.\n",
    "\n",
    "## Komplexe Zahlen\n",
    "\n",
    "Neben reellen Zahlen benötigt man immer wieder auch komplexe Zahlen. Dabei\n",
    "erzeugt man einen Imaginärteil durch Anhängen des Zeichens ``j`` oder ``J``, das\n",
    "Ingenieure häufig statt des in der Physik üblichen ``i`` verwenden.\n",
    "Alternativ kann man die Funktion {func}`complex` verwenden:\n",
    "\n",
    "```{code-block} python\n",
    ">>> (1+0.5j)/(1-0.5j)\n",
    "(0.6+0.8j)\n",
    ">>> complex(1, 0.5)\n",
    "(1+0.5j)\n",
    "```\n",
    "\n",
    "Möchte man aus den Werten zweier Variablen eine komplexe Zahl\n",
    "konstruieren, geht dies mit der zweiten der gerade genannten Methoden\n",
    "sehr einfach\n",
    "\n",
    "```{code-block} python\n",
    ">>> x = 1\n",
    ">>> y = 2\n",
    ">>> z = complex(x, y)\n",
    ">>> z\n",
    "(1+2j)\n",
    "```\n",
    "\n",
    "Falls man die Funktion ``complex()`` nicht verwenden möchte, muss man\n",
    "beachten, dass die folgenden beiden Wege nicht zum Ziel führen:\n",
    "\n",
    "```{code-block} python\n",
    ">>> z = x+yj\n",
    "Traceback (most recent call last):\n",
    "  File \"<stdin>\", line 1, in <module>\n",
    "NameError: name 'yj' is not defined\n",
    ">>> z = x+y*j\n",
    "Traceback (most recent call last):\n",
    "  File \"<stdin>\", line 1, in <module>\n",
    "NameError: name 'j' is not defined\n",
    "```\n",
    "\n",
    "In diesem Fall geht Python davon aus, dass es sich bei ``yj`` bzw. ``j``\n",
    "um eine Variable handelt, die jedoch bis jetzt noch nicht definiert wurde.\n",
    "Vielmehr muss die imaginäre Einheit explizit als ``1j`` geschrieben\n",
    "werden:\n",
    "\n",
    "```{code-block} python\n",
    ">>> z = x+y*1j\n",
    ">>> z\n",
    "(1+2j)\n",
    "```\n",
    "\n",
    "```{admonition} Frage\n",
    "Zeigen Sie, dass das Ergebnis einer Rechnung, die komplexe Zahlen\n",
    "enthält, selbst dann als komplexe Zahl dargestellt wird, wenn das Ergebnis\n",
    "reell ist.\n",
    "```\n",
    "\n",
    "Hat man eine komplexe Zahl einer Variablen zugewiesen (dies wird im Kapitel {ref}`variablen`\n",
    "genauer diskutiert), so lassen sich Real- und Imaginärteil wie folgt bestimmen:\n",
    "\n",
    "```{code-block} python\n",
    ">>> x = 1+0.5j\n",
    ">>> x.real\n",
    "1.0\n",
    ">>> x.imag\n",
    "0.5\n",
    ">>> x.conjugate()\n",
    "(1-0.5j)\n",
    "```\n",
    "\n",
    "Die Unterschiede in den Aufrufen ergeben sich daraus, dass in den ersten beiden\n",
    "Fällen auf Attribute der komplexen Zahl zugegriffen wird, während im letzten\n",
    "Fall eine Methode aufgerufen wird. Diese Zusammenhänge werden im Kapitel\n",
    "{ref}`oop` klarer werden.\n",
    "\n",
    "Natürlich wollen wir auch für komplexe Zahlen mathematische Funktionen\n",
    "auswerten. Das Modul {mod}`math` hilft hier aber nicht weiter:\n",
    "\n",
    "```{code-block} python\n",
    ">>> from math import exp, pi\n",
    ">>> exp(0.25j*pi)\n",
    "Traceback (most recent call last):\n",
    "  File \"<stdin>\", line 1, in <module>\n",
    "TypeError: can't convert complex to float\n",
    "```\n",
    "\n",
    "Als Argument wird hier nur eine reelle Zahl akzeptiert. Stattdessen muss man\n",
    "das Modul {mod}`cmath` laden:\n",
    "\n",
    "```{code-block} python\n",
    ">>> from cmath import exp, pi\n",
    ">>> exp(0.25j*pi)\n",
    "(0.7071067811865476+0.7071067811865475j)\n",
    "```\n",
    "\n",
    "Dabei ist das Ergebnis immer eine komplexe Zahl. Daher kann es wünschenswert\n",
    "sein, sowohl das Modul {mod}`math` als auch das Modul {mod}`cmath` zu\n",
    "importieren:\n",
    "\n",
    "```{code-block} python\n",
    ">>> import math, cmath\n",
    ">>> math.exp(2)\n",
    "7.38905609893065\n",
    ">>> cmath.exp(0.25j*math.pi)\n",
    "(0.7071067811865476+0.7071067811865475j)\n",
    "```\n",
    "\n",
    "Eine andere Möglichkeit wäre\n",
    "\n",
    "```{code-block} python\n",
    ">>> from math import exp, pi\n",
    ">>> from cmath import exp as cexp\n",
    ">>> exp(2)\n",
    "7.38905609893065\n",
    ">>> cexp(0.25j*pi)\n",
    "(0.7071067811865476+0.7071067811865475j)\n",
    "```\n",
    "\n",
    "```{admonition} Frage\n",
    "Welche Funktion wird verwendet, wenn man nacheinander die Funktion\n",
    ":func:`exp` aus dem Modul {mod}`math` und aus dem Modul {mod}`cmath` importiert?\n",
    "```\n",
    "\n",
    "(variablen)=\n",
    "\n",
    "## Variablen und Zuweisungen\n",
    "\n",
    "In einem Beispiel des letzten Abschnitts haben wir bereits eine Zahl einer\n",
    "Variablen zugewiesen. Da dies in einem Programm der Normalfall ist, müssen wir\n",
    "wissen, welche Namen für Variablen zugelassen sind. Ein Variablenname oder\n",
    "allgemein ein Bezeichner besteht aus einer beliebigen Zahl von Zeichen, wobei\n",
    "Buchstaben, der Unterstrich (`_`) und Ziffern zugelassen sind. Das erste Zeichen\n",
    "darf jedoch keine Ziffer sein. Der Unterstrich zu Beginn und am Ende eines Bezeichners\n",
    "impliziert üblicherweise eine spezielle Bedeutung, auf die wir später noch zurückkommen\n",
    "werden. Daher sollte man es sich zur Regel machen, den Unterstrich höchstens innerhalb\n",
    "eines Bezeichners zu verwenden, sofern man nicht bewusst den Unterstrich in anderer\n",
    "Weise einsetzt.\n",
    "\n",
    "Viel interessanter als Unterstriche sind Buchstaben. Diese umfassen zunächst\n",
    "einmal die Großbuchstaben ``A-Z`` und Kleinbuchstaben ``a-z``. Wie sieht es\n",
    "aber mit Umlauten oder gar mit Buchstaben aus anderen Schriftsystemen,\n",
    "beispielsweise griechischen Buchstaben aus? In diesem Zusammenhang stellt sich\n",
    "die Frage, wie Zeichen im Rechner überhaupt in einer binären Form dargestellt\n",
    "werden. Es gibt hierfür zahlreiche Standards, unter anderem den ASCII-Standard,\n",
    "der noch nicht einmal Umlaute kennt, den ISO-8859-1-Standard, der diesen\n",
    "Mangel behebt, aber dennoch im Umfang sehr beschränkt ist, bis hin zum\n",
    "Unicode-Standard, der mehr als hunderttausend Zeichen umfasst. Für den\n",
    "Unicode-Standard gibt es wiederum verschiedene Codierungen, insbesondere die in\n",
    "der westlichen Welt sinnvolle UTF-8-Kodierung. Etwas mehr Details zu diesem\n",
    "Thema sind im Anhang {ref}`appendixunicode` zu finden. \n",
    "\n",
    "Aus dem vorigen Abschnitt ergibt sich vielleicht der Eindruck, dass die Kodierung\n",
    "von Zeichen ein komplexeres Thema ist, und dieser Eindruck trügt nicht. Die gute\n",
    "Nachricht ist allerdings, dass zum einen immer mehr Computerbetriebssysteme \n",
    "die UTF-8-Kodierung verwenden und für Python-3-Skripte standardmäßig die \n",
    "UTF-8-Kodierung angenommen wird. In Python 3 muss man sich, im Gegensatz zu\n",
    "Python 2, über die Codierung in vielen Fällen keine großen Gedanken mehr machen,\n",
    "sofern man nicht zum Beispiel eine Ausgabe in einer anderen Codierung haben möchte.\n",
    "\n",
    "Die Verwendung der UTF-8-Kodierung impliziert, dass Buchstaben in Bezeichnern\n",
    "alle Zeichen sein können, die im Unicode-Standard als Buchstaben angesehen\n",
    "werden, also neben Umlauten zum Beispiel auch griechische Zeichen. Ob es\n",
    "wirklich sinnvoll ist, Buchstaben von außerhalb des Bereichs ``A-Z`` und\n",
    "``a-z`` zu verwenden, sollte man sich im Einzelfall gut überlegen. Man muss\n",
    "sich nur vor Augen halten, was es für Folgen hätte, wenn man ein Programm\n",
    "analysieren müsste, das unter Verwendung von chinesischen Schriftzeichen\n",
    "geschrieben wurde. Dennoch ist zum Beispiel der folgende Code für Python 3 kein\n",
    "Problem:\n",
    "\n",
    "```{code-block} python\n",
    ">>> from math import pi as π\n",
    ">>> Radius = 2\n",
    ">>> Fläche = π*Radius**2\n",
    ">>> print(Fläche)\n",
    "12.566370614359172\n",
    "```\n",
    "\n",
    "Es ist nicht selbstverständlich, dass solche Variablennamen in anderen\n",
    "Programmiersprachen ebenfalls zugelassen sind.\n",
    "\n",
    "Bei einer Programmiersprache ist immer die Frage zu klären, ob zwischen Groß-\n",
    "und Kleinschreibung unterschieden wird. Python tut dies, so dass ``var``,\n",
    "``Var`` und ``VAR`` verschiedene Variablen bezeichnen und für Python nichts\n",
    "miteinander zu tun haben. Auch hier stellt sich im Einzelfall die Frage,\n",
    "ob es sinnvoll ist, in einem Programm Variablennamen gleichzeitig in Groß-\n",
    "und Kleinschreibung zu verwenden. Es ist jedoch wichtig zu wissen, dass eine\n",
    "Fehlfunktion des Programms ihren Ursprung in einem Tippfehler haben kann,\n",
    "bei dem Groß- und Kleinschreibung nicht beachtet wurden.\n",
    "\n",
    "Es ist für die Verständlichkeit des Programmcodes angebracht, möglichst\n",
    "aussagekräftige Bezeichner zu verwenden, auch wenn diese im Allgemeinen etwas\n",
    "länger ausfallen. Dabei ist es häufig sinnvoll, einen Bezeichner aus mehreren\n",
    "Wörtern zusammenzusetzen. Um die einzelnen Bestandteile erkennen zu können,\n",
    "sind verschiedene Varianten üblich. Man kann zur Trennung einen Unterstrich\n",
    "verwenden, z.B. ``sortiere_liste``. Alternativ kann man neue Worte mit einem\n",
    "Großbuchstaben beginnen, wobei der erste Buchstabe des Bezeichners groß oder\n",
    "klein geschrieben werden kann, z.B. ``sortiereListe`` oder ``SortiereListe``.\n",
    "Im ersten Fall spricht man von *mixedCase*, im zweiten Fall von *CamelCase*, da\n",
    "die Großbuchstaben an Höcker eines Kamels erinnern. Details zu den in Python\n",
    "empfohlenen Konventionen für Bezeichner finden Sie im Python Enhancement Proposal {pep}`8`\n",
    "mit dem Titel »Style Guide for Python Code« im Abschnitt *Naming Conventions*.\n",
    "\n",
    "Die folgenden Schlüsselwörter sind in Python als Sprachelemente reserviert und dürfen\n",
    "nicht für Bezeichner verwendet werden [^keywords]::\n",
    "\n",
    "```{code-block} python\n",
    "False     assert      continue   except    if        nonlocal  return\n",
    "None      async       def        finally   import    not       try  \n",
    "True      await       del        for       in        or        while \n",
    "and       break       elif       from      is        pass      with\n",
    "as        class       else       global    lambda    raise     yield \n",
    "```\n",
    "\n",
    "[^keywords]: Bei Bedarf kann die Liste der Schlüsselwörter mit Hilfe des ``keyword``-Moduls\n",
    "    und Verwendung der Anweisung ``keyword.kwlist`` erhalten werden.\n",
    "\n",
    "```{admonition} Wichtiger Hinweis\n",
    ":class: warning\n",
    "Da griechische Buchstaben in der Physik relativ häufig sind, ist \n",
    "insbesondere darauf zu achten, dass ``lambda`` reserviert ist. Den Grund hierfür\n",
    "werden wir im Kapitel {ref}`lambdafunktionen` diskutieren.\n",
    "```\n",
    "\n",
    "Variablen kann nun ein Wert zugeordnet werden, wie folgende Beispiele zeigen:\n",
    "\n",
    "```{code-block} python\n",
    ">>> x = 1\n",
    ">>> x = x + 1\n",
    ">>> print(x)\n",
    "2\n",
    "```\n",
    "\n",
    "Aus der zweiten Zeile wird klar, dass es sich hier trotz des\n",
    "Gleichheitszeichens nicht um eine Gleichung handelt. Vielmehr wird die rechte\n",
    "Seite ausgewertet und der auf der linken Seite stehenden Variablen zugewiesen.\n",
    "Die zweite Zeile müsste also eigentlich als ``x`` → ``x+1`` gelesen werden.\n",
    "\n",
    "```{code-block} python\n",
    "---\n",
    "linenos: true\n",
    "---\n",
    ">>> x = y = 1\n",
    ">>> x, y\n",
    "(1, 1)\n",
    ">>> x, y = 2, 3\n",
    ">>> x, y\n",
    "(2, 3)\n",
    ">>> x, y = y, x\n",
    ">>> x, y\n",
    "(3, 2)\n",
    "```\n",
    "\n",
    "In Python ist es möglich, mehreren Variablen gleichzeitig einen Wert zuzuordnen\n",
    "(Zeile 1) oder mehreren Variablen in einer Anweisung verschiedene Werte\n",
    "zuzuordnen (Zeile 4). Statt des Tupels auf der rechten Seite von Zeile 4 könnte\n",
    "auch eine Liste mit zwei Elementen stehen.  Tupel und Liste sind Datentypen,\n",
    "die mehrere Elemente enthalten und die wir im Kapitel {ref}`zusgdatentypen`\n",
    "noch genauer ansehen werden.  Zeile 7 zeigt, wie man elegant die Werte zweier\n",
    "Variablen vertauschen kann. Dieses Verfahren ist so nicht in jeder\n",
    "Programmiersprache möglich. Dann muss man darauf achten, nicht einen der beiden\n",
    "Werte zu verlieren:\n",
    "\n",
    "```{code-block} python\n",
    "---\n",
    "linenos: true\n",
    "---\n",
    ">>> x, y = 1, 2\n",
    ">>> x = y\n",
    ">>> y = x\n",
    ">>> x, y\n",
    "(2, 2)\n",
    ">>> x, y = 1, 2\n",
    ">>> tmp = x\n",
    ">>> x = y\n",
    ">>> y = tmp\n",
    ">>> x, y\n",
    "(2, 1)\n",
    "```\n",
    "\n",
    "In Zeile 2 wird der Wert von ``x`` überschrieben und geht somit verloren. In\n",
    "Zeile 7 wird dieser Wert dagegen in der Variablen ``tmp`` zwischengespeichert und\n",
    "kann somit in Zeile 9 der Variablen ``y`` zugewiesen werden.\n",
    "\n",
    "In den Codebeispielen haben wir vor und nach dem Gleichheitszeichen ein\n",
    "Leerzeichen gesetzt. Dies ist nicht zwingend notwendig, verbessert aber die\n",
    "Lesbarkeit des Codes und wird daher auch im bereits weiter oben erwähnten Python\n",
    "Enhancement Proposal {pep}`8` empfohlen. Eine weitere Empfehlung lautet, eine\n",
    "Zeilenlänge von 79 Zeichen nicht zu überschreiten. Bei überlangen Zeilen kann\n",
    "man mit einem Backslash (``\\``) am Zeilenende eine Fortsetzungszeile erzeugen.\n",
    "In gewissen Fällen erkennt der Python-Interpreter, dass eine Fortsetzungszeile\n",
    "folgen muss, so dass dann der Backslash entfallen kann. Dies ist insbesondere\n",
    "der Fall, wenn in einer Zeile eine Klammer geöffnet wird, die dann erst in\n",
    "einer Folgezeile wieder geschlossen wird. Es wird häufig empfohlen, den Backslash\n",
    "zur Kennzeichnung einer Fortsetzungszeile zu vermeiden. Stattdessen sollte\n",
    "eine Klammerung verwendet werden, selbst wenn diese ausschließlich zur impliziten\n",
    "Markierung von Fortsetzungszeilen dient. Im folgenden Beispiel wird deutlich,\n",
    "wie man die Klammerung einsetzen kann, auch wenn man die Addition kaum über zwei\n",
    "Zeilen verteilen wird:\n",
    "\n",
    "```{code-block} python\n",
    ">>> 4+ # doctest: +SKIP\n",
    "  File \"<stdin>\", line 1\n",
    "    4+\n",
    "     ^\n",
    "SyntaxError: invalid syntax\n",
    ">>> (4+\n",
    "... 5)\n",
    "9\n",
    "```\n",
    "\n",
    "Beim ersten Versuch kann Python nicht erkennen, dass eine Fortsetzungszeile\n",
    "folgen soll, und beschwert sich entsprechend über die unvollständige Addition.\n",
    "Im zweiten Versuch behebt die Klammerung das Problem.\n",
    "\n",
    "## Wahrheitswerte\n",
    "\n",
    "Im Kapitel {ref}`vorschau` hatten wir schon gesehen, dass man den Ablauf eines\n",
    "Programms in Abhängigkeit davon beeinflussen kann, dass eine bestimmte Bedingung\n",
    "erfüllt ist oder nicht. In diesem Zusammenhang spielen Wahrheitswerte oder so\n",
    "genannte boolesche Variable eine Rolle.\n",
    "\n",
    "Mit einem Wahrheitswert kann die Gültigkeit einer Aussage mit »wahr« oder\n",
    "»falsch« spezifiziert werden.  Mögliche Werte in Python sind entsprechend\n",
    "``True`` und ``False``, wobei die Großschreibung des ersten Zeichens wichtig\n",
    "ist. Für die bis jetzt behandelten Datentypen (Integer, Float, Complex) gilt,\n",
    "dass eine Null dem Wert ``False`` entspricht, während alle anderen Zahlenwerte\n",
    "einem ``True`` entsprechen. Dies lässt sich durch eine explizite Umwandlung mit\n",
    "Hilfe der Funktion {func}`bool` überprüfen:\n",
    "\n",
    "```{code-block} python\n",
    ">>> bool(0)\n",
    "False\n",
    ">>> bool(42)\n",
    "True\n",
    "```\n",
    "\n",
    "Wichtige logische Operatoren sind ``not`` (Negation), ``and`` (logisches Und)\n",
    "und ``or`` (logisches Oder):\n",
    "\n",
    "```{code-block} python\n",
    ">>> x = True\n",
    ">>> y = False\n",
    ">>> not x\n",
    "False\n",
    ">>> x and y\n",
    "False\n",
    ">>> x or y\n",
    "True\n",
    "```\n",
    "\n",
    "Logische Ausdrücke werden in Python von links nach rechts ausgewertet und zwar\n",
    "nur so weit, wie es für die Entscheidung über den Wahrheitswert erforderlich ist.\n",
    "Dies wird in dem folgenden Beispiel illustriert:\n",
    "\n",
    "```{code-block} python\n",
    ">>> x = True\n",
    ">>> y = 0\n",
    ">>> x or 1/y\n",
    "True\n",
    ">>> x and 1/y\n",
    "Traceback (most recent call last):\n",
    "  File \"<stdin>\", line 1, in <module>\n",
    "ZeroDivisionError: division by zero\n",
    "```\n",
    "\n",
    "Bei der ``or``-Verknüpfung ist schon aufgrund der Tatsache, dass ``x`` den Wert\n",
    "``True`` hat, klar, dass der gesamte Ausdruck diesen Wert besitzt. Die Division\n",
    "wird daher nicht mehr ausgewertet. Bei der ``and``-Verknüpfung reicht die\n",
    "Information über ``x`` dagegen nicht aus. Zusätzlich wird die Division ausgeführt,\n",
    "die hier zu einer ``ZeroDivisionError``-Ausnahme führt.\n",
    "\n",
    "Wahrheitswerte sind häufig das Ergebnis von Vergleichsoperationen, die in der \n",
    "folgenden Tabelle zusammengestellt sind.\n",
    "\n",
    "|Operator |  Bedeutung             |\n",
    "|---------|------------------------|\n",
    "|``<``    |  kleiner               |\n",
    "|``<=``   |  kleiner oder gleich   |\n",
    "|``>``    |  größer                |\n",
    "|``>=``   |  größer oder gleich    |\n",
    "|``!=``   |  ungleich              |\n",
    "|``==``   |  gleich                |\n",
    "\n",
    "```{code-block} python\n",
    ">>> 5 != 2\n",
    "True\n",
    ">>> 5 > 2\n",
    "True\n",
    ">>> 5 == 2\n",
    "False\n",
    "```\n",
    "\n",
    "```{admonition} Wichtiger Hinweis\n",
    ":class: warning\n",
    "Ein beliebter Fehler besteht darin, beim Test auf Gleichheit nur eines\n",
    "statt zwei Gleichheitszeichen zu verwenden.\n",
    "```\n",
    "\n",
    "Bei Gleitkommazahlen ist es normalerweise nicht sinnvoll, auf Gleichheit zu\n",
    "prüfen, da Rundungsfehler leicht dazu führen können, dass das Ergebnis nicht\n",
    "wie erwartet ausfällt.\n",
    "\n",
    "```{code-block} python\n",
    ">>> x = 3*0.1\n",
    ">>> y = 0.3\n",
    ">>> x == y\n",
    "False\n",
    "```\n",
    "\n",
    "In solchen Fällen ist es besser zu überprüfen, ob die Differenz von zwei\n",
    "Gleitkommazahlen eine vertretbare Schwelle unterschreitet.\n",
    "\n",
    "```{code-block} python\n",
    ">>> eps = 1e-12\n",
    ">>> abs(x-y) < eps\n",
    "True\n",
    "```\n",
    "\n",
    "\n",
    "(formatierung)=\n",
    "## Formatierung von Ausgaben\n",
    "\n",
    "Wenn man ein Programm ausführt, möchte man in den meisten Fällen eine Ausgabe haben,\n",
    "die im einfachsten Fall auf dem Bildschirm erfolgen kann. Im Folgenden soll auf die\n",
    "Formatierung, insbesondere von Zahlen, eingegangen werden. In Python 3 erfolgt die\n",
    "Ausgabe auf dem Bildschirm mit Hilfe der ``print``-Funktion, die wir schon im Kapitel\n",
    "{ref}`vorschau` erwähnt hatten.\n",
    "\n",
    "```{code-block} python\n",
    ">>> x = 1.5\n",
    ">>> y = 3.14159\n",
    ">>> print(x)\n",
    "1.5\n",
    ">>> print(x, y)\n",
    "1.5 3.14159\n",
    ">>> print(\"Dies ist eine Näherung für die Kreiszahl:\", y)\n",
    "Dies ist eine Näherung für die Kreiszahl: 3.14159\n",
    "```\n",
    "\n",
    "Wie diese Beispiele zeigen, kann man in einer Zeile mehrere Variablenwerte\n",
    "ausgeben, unter denen auch Zeichenketten sein können. Im Moment genügt es zu\n",
    "wissen, dass man Zeichenketten zum Beispiel durch umschließende\n",
    "Anführungszeichen kennzeichnen kann.  Zeichenketten werden wir detaillierter im\n",
    "Kapitel {ref}`strings` besprechen. Die letzten beiden ``print``-Aufrufe zeigen,\n",
    "dass beim Ausdruck mehrerer Variablen automatisch ein Leerzeichen eingefügt\n",
    "wird. Wenn man zwischen Zeichenketten das Komma weglässt, kann man dieses\n",
    "Leerzeichen unterdrücken:\n",
    "\n",
    "```{code-block} python\n",
    ">>> print(\"Dies ist eine Näher\" \"ung für die Kreiszahl:\", y)\n",
    "Dies ist eine Näherung für die Kreiszahl: 3.14159\n",
    "```\n",
    "\n",
    "Dies ist besonders bei langen Zeichenketten nützlich, da diese damit problemlos\n",
    "über mehrere Zeilen geschrieben werden können. Zu beachten ist, dass das Weglassen\n",
    "des Kommas nur zwischen Zeichenketten erlaubt ist. Das noch vorhandene Komma ist\n",
    "also erforderlich.\n",
    "\n",
    "In Python ist es, wie in vielen anderen Programmiersprachen, möglich, die\n",
    "Darstellung der Variablenwerte genauer festzulegen. Auch wenn die Details von\n",
    "der Programmiersprache abhängig sind, gibt man typischerweise eine Zeichenkette\n",
    "an, die neben Text auch Platzhalter für die auszugebenden Variablen beinhaltet.\n",
    "Mit Hilfe dieser Platzhalter kann man auch genauer spezifizieren, wie die\n",
    "Ausgabe aussehen soll. Beim Übergang von Python 2 zu Python 3 wurde hierzu eine\n",
    "``format``-Methode eingeführt, die eine sehr flexible Formatierung erlaubt. Wir\n",
    "beschränken uns daher im Folgenden auf diese Art der Formatierung. Einige der\n",
    "damit verbundenen Möglichkeiten werden wir im weiteren Verlauf noch kennenlernen.\n",
    "\n",
    "Bevor wir uns mit den Formatierungsmöglichkeiten von Integers und Gleitkommazahlen\n",
    "beschäftigen, müssen wir uns zunächst die grundsätzliche Funktionsweise der\n",
    "``format``-Methode ansehen.\n",
    "\n",
    "Im einfachsten Fall hat man eine gewisse Anzahl von Variablen, die man ausgeben\n",
    "möchte und die im Formatierungsausdruck durch in geschweifte Klammern eingeschlossene\n",
    "Nummern angegeben werden.\n",
    "\n",
    "```{code-block} python\n",
    ">>> x = 2\n",
    ">>> power = 3\n",
    "2**3 = 8\n",
    ">>> print(\"{0}**{1} = {2}. Ja, das Ergebnis ist {2}!\".format(x, power, x**power))\n",
    "2**3 = 8. Ja, das Ergebnis ist 8!\n",
    "```\n",
    "\n",
    "Wie die letzte Eingabe zeigt, können Platzhalter auch wiederholt werden. Ist eine\n",
    "Wiederholung nicht gewünscht und gibt man die Variablen in der richtigen Reihenfolge\n",
    "an, so kann auf die Nummerierung verzichtet werden.\n",
    "\n",
    "```{code-block} python\n",
    ">>> print(\"{}**{} = {}\".format(x, power, x**power))\n",
    "2**3 = 8\n",
    "```\n",
    "\n",
    "In unübersichtlichen Situationen oder wenn man die Reihenfolge später noch auf\n",
    "einfache Weise ändern möchte kann man auch Namen vergeben.\n",
    "\n",
    "```{code-block} python\n",
    ">>> print(\"{basis}**{exponent} = {ergebnis}\".format(basis=x,\n",
    "...                                                 exponent=power,\n",
    "...                                                 ergebnis=x**power))\n",
    "2**3 = 8\n",
    "```\n",
    "\n",
    "Die drei Argumente stehen hier nur in eigenen Zeilen um den langen Ausdruck\n",
    "geeignet umzubrechen. Wir erinnern uns daran, dass nach einer geöffneten Klammer,\n",
    "also der Klammer vor ``basis``, bis zur schließenden Klammer weitergelesen wird.\n",
    "\n",
    "Will man eine geschweifte Klammer im Ausgabetext unterbringen, so muss man diese\n",
    "wie im folgenden Beispiel gezeigt verdoppeln.\n",
    "\n",
    "```{code-block} python\n",
    ">>> print(\"{}**{} = {}. Und das ist eine geschweifte Klammer: {{\".format(\n",
    "...                                                      x, power, x**power))\n",
    "2**3 = 8. Und das ist eine geschweifte Klammer: {\n",
    "```\n",
    "\n",
    "Bis jetzt haben wir nur die Ausgabe von Variablen in einen Text eingebettet,\n",
    "ohne die Ausgabe jeder Variable selbst beeinflussen zu können. Dies ist aber\n",
    "beispielsweise bei Gleitkommazahlen wichtig. \n",
    "\n",
    "```{code-block} python\n",
    ">>> from math import sqrt\n",
    ">>> print(sqrt(2))\n",
    "1.4142135623730951\n",
    "```\n",
    "\n",
    "Vielleicht wollen wir jedoch gar nicht so viele Nachkommastellen ausgeben. Dies können\n",
    "wir mit Hilfe einer Formatspezifikation festlegen.\n",
    "\n",
    "```{code-block} python\n",
    ">>> print(\"|{0:5.2f}|\".format(sqrt(2)))\n",
    "| 1.41|\n",
    "```\n",
    "\n",
    "Nach der Argumentnummer, die man hier auch weglassen könnte, folgt durch einen\n",
    "Doppelpunkt abgetrennt die Formatierungsangabe. Die Zahl vor dem Punkt gibt\n",
    "die minimale Feldbreite an, während die Zahl nach dem Punkt die Anzahl der\n",
    "Nachkommastellen angibt. Das abschließende ``f`` verlangt die Ausgabe in\n",
    "einem Format mit fester Kommastelle. Die beiden senkrechten Striche sollen\n",
    "nur dazu dienen, den Leerplatz vor der Zahl sichtbar zu machen, der dadurch\n",
    "entsteht, dass die gesamte Feldbreite gleich ``5`` sein soll.\n",
    "\n",
    "```{code-block} python\n",
    ">>> print(\"|{0:.2f}|\".format(sqrt(2)))\n",
    "|1.41|\n",
    "```\n",
    "\n",
    "Lässt man die Spezifikation der Feldbreite weg, so wird die minimal benötigte\n",
    "Breite belegt. Bei der mehrzeiligen Ausgabe von Zahlen ist dann jedoch keine\n",
    "Ausrichtung nach dem Dezimalpunkt möglich. Bei der Ausrichtung ist auch das\n",
    "Vorzeichen relevant. Hierbei kann man angeben, wie bei einer positiven Zahl\n",
    "verfahren wird. Durch Eingabe eines Pluszeichens, eines Leerzeichens oder\n",
    "eines Minuszeichens in der Formatierungsangabe wird ein Plus, ein Leerzeichen\n",
    "bzw. gar nichts ausgegeben wie die folgenden Beispiele zeigen:\n",
    "\n",
    "```{code-block} python\n",
    ">>> print(\"|{:+4.2f}|\".format(sqrt(2)))\n",
    "|+1.41|\n",
    ">>> print(\"|{:+4.2f}|\".format(-sqrt(2)))\n",
    "|-1.41|\n",
    ">>> print(\"|{: 4.2f}|\".format(sqrt(2)))\n",
    "| 1.41|\n",
    ">>> print(\"|{: 4.2f}|\".format(-sqrt(2)))\n",
    "|-1.41|\n",
    ">>> print(\"|{:-4.2f}|\".format(sqrt(2)))\n",
    "|1.41|\n",
    ">>> print(\"|{:-4.2f}|\".format(-sqrt(2)))\n",
    "|-1.41|\n",
    "```\n",
    "\n",
    "Hier haben wir bewusst die Feldbreite nur auf ``4`` gesetzt, um den Unterschied\n",
    "zwischen der dritten und fünften Eingabe zu verdeutlichen.\n",
    "\n",
    "Bei der Ausgabe von Gleitkommazahlen gibt es nun aber das Problem, dass bei sehr\n",
    "kleinen oder sehr großen Zahlen eine feste Anzahl von Nachkommastellen nicht\n",
    "unbedingt geeignet ist.\n",
    "\n",
    "```{code-block} python\n",
    ">>> print(\"{:10.8f}\".format(sqrt(2)))\n",
    "1.41421356\n",
    ">>> print(\"{:10.8f}\".format(sqrt(2)/10000000))\n",
    "0.00000014\n",
    "```\n",
    "\n",
    "In der zweiten Eingabe sieht man, dass die Zahl der ausgegebenen signifikanten\n",
    "Stellen dramatisch reduziert ist. In solchen Fällen bietet es sich an, eine\n",
    "Ausgabe in Exponentialdarstellung zu verlangen, die man mit Hilfe des Buchstabens\n",
    "``e`` statt ``f`` erhält.\n",
    "\n",
    "```{code-block} python\n",
    ">>> print(\"|{:10.8e}|\".format(sqrt(2)))\n",
    "|1.41421356e+00|\n",
    ">>> print(\"|{:10.4e}|\".format(sqrt(2)))\n",
    "|1.4142e+00|\n",
    ">>> print(\"|{:14.8e}|\".format(sqrt(2)/10000000))\n",
    "|1.41421356e-07|\n",
    ">>> print(\"|{:20.8e}|\".format(sqrt(2)))\n",
    "|      1.41421356e+00|\n",
    "```\n",
    "\n",
    "Die erste Eingabe zeigt, wie man eine Exponentialdarstellung mit 8 Nachkommastellen\n",
    "erhält. Der Exponent wird mit ausgegeben, obwohl er nur für {math}`10^0=1` steht.\n",
    "Die Zahl der Nachkommastellen lässt sich, wie erwartet und wie in der zweiten\n",
    "Eingabe zu sehen ist, bei Bedarf anpassen. In diesem Beispiel wird die Feldbreite\n",
    "von 10 gerade ausgenutzt. Das dritte Beispiel zeigt, dass wir nun auch bei der\n",
    "Ausgabe von kleinen Zahlen keine signifikanten Stellen verlieren. Entsprechendes\n",
    "wäre bei großen Zahlen der Fall. Macht man wie in Eingabe 3 die Feldlänge größer, so\n",
    "wird entsprechend viel Leerplatz auf der linken Seite ausgegeben.\n",
    "\n",
    "```{admonition} Weiterführender Hinweis\n",
    "Um etwas über die Möglichkeiten der Positionierung der Ausgabe\n",
    "zu erfahren, können Sie im letzten Beispiel folgende Formatierungsspezifikationen\n",
    "ausprobieren: ``{:<20.8e}``, ``{:=+20.8e}`` und ``{:^20.8e}``.\n",
    "```\n",
    "\n",
    "Häufig möchte man die Exponentialschreibweise nur verwenden, wenn die\n",
    "auszugebende Zahl hinreichend groß oder klein ist. Ein solches Verhalten\n",
    "erreicht man durch Angabe des Buchstabens ``g``.\n",
    "\n",
    "```{code-block} python\n",
    ">>> print(\"|{:15.8g}|\".format(sqrt(2)/100000))\n",
    "|  1.4142136e-05|\n",
    ">>> print(\"|{:15.8g}|\".format(sqrt(2)/10000))\n",
    "|  0.00014142136|\n",
    ">>> print(\"|{:15.8g}|\".format(sqrt(2)*10000000))\n",
    "|       14142136|\n",
    ">>> print(\"|{:15.8g}|\".format(sqrt(2)*100000000))\n",
    "|  1.4142136e+08|\n",
    "```\n",
    "\n",
    "Hier wird durch den Wechsel der Darstellung insbesondere sichergestellt, dass \n",
    "immer die gleiche Anzahl von signifikanten Stellen ausgegeben wird. [^gformat]\n",
    "\n",
    "[^gformat]: Die genaue Regel für die Umstellung der Darstellungsart kann man in der\n",
    "     Dokumentation der Python-Standardbibliothek unter [6.1.3.1. Format Specification Mini-Language]\n",
    "     (http://docs.python.org/3/library/string.html#formatspec)\n",
    "     nachlesen.\n",
    "\n",
    "Betrachten wir nun noch die Formatierung von Integers.\n",
    "\n",
    "```{code-block} python\n",
    ">>> n = 42\n",
    ">>> print(\"|{0}|{0:5}|{0:05}|\".format(n))\n",
    "|42|   42|00042|\n",
    "```\n",
    "\n",
    "```{admonition} Frage\n",
    "Warum kann man die ``0`` zur Kennzeichnung der einzusetzenden Variable\n",
    "nicht weglassen?\n",
    "```\n",
    "\n",
    "Integers in Dezimaldarstellung benötigen keinen Buchstaben zur\n",
    "Formatspezifikation. [^dezimal]  Man kann hier aber ähnlich wie bei den Gleitkommazahlen\n",
    "die Feldbreite festlegen.  Gibt man vor der Feldbreite eine Null an, so wird\n",
    "das Feld vor der auszugebenden Zahl mit Nullen aufgefüllt. Dies kann zum\n",
    "Beispiel bei der Ausgabe in anderen Zahlensystemen interessant sein. Python\n",
    "unterstützt insbesondere die Ausgabe im Binärformat (``b``), Oktalformat\n",
    "(``o``) und im Hexadezimalformat (``x``).\n",
    "\n",
    "[^dezimal]: Wenn man unbedingt möchte, kann man ``d`` für Dezimaldarstellung angeben.\n",
    "\n",
    "```{code-block} python\n",
    ">>> print(\"|{0:}|{0:8b}|{0:8o}|{0:8x}|{0:08b}|\".format(n))\n",
    "|42|  101010|      52|      2a|00101010|\n",
    "```\n",
    "\n",
    "```{admonition} Frage\n",
    "Was ändert sich, wenn man ``b``, ``o`` und ``x`` durch die entsprechenden\n",
    "Großbuchstaben ersetzt? Welche Auswirkungen hat ein ``#``, das vor der Feldbreite\n",
    "inklusive einer eventuell vorhandenen Null steht?\n",
    "```\n",
    "\n",
    "Die hier besprochenen Formatierungsanweisungen decken bereits viele\n",
    "Anwendungsfälle ab. Dennoch sind die von Python 3 zur Verfügung gestellten\n",
    "Formatierungsmöglichkeiten noch vielfältiger. Für eine systematische und\n",
    "vollständige Darstellung der möglichen Formatierungen verweisen wir auf den\n",
    "[Abschnitt 6.1.3.1. Format Specification Mini-Language](http://docs.python.org/3/library/string.html#formatspec)\n",
    "in der Dokumentation der Python-Standardbibliothek.\n",
    "\n",
    "Abschließend sei noch angemerkt, dass die ``print``-Funktion standardmäßig\n",
    "einen Zeilenumbruch an das Ende des auszugebenden Textes anhängt. Dies ist\n",
    "jedoch nicht immer gewünscht und lässt sich mit Hilfe der Option ``end``\n",
    "beeinflussen. Folgendes Beispiel zeigt die Funktionsweise. Die Befehle\n",
    "\n",
    "```{code-block} python\n",
    "print(\"x\", end=\"..\")\n",
    "print(\"x\", end=\"\")\n",
    "print(\"x\")\n",
    "```\n",
    "\n",
    "erzeugen die Ausgabe ``x..xx`` sowie einen anschließenden Zeilenumbruch."
   ]
  }
 ],
 "metadata": {
  "jupytext": {
   "formats": "md:myst",
   "text_representation": {
    "extension": ".md",
    "format_name": "myst",
    "format_version": "0.8",
    "jupytext_version": "1.4.1+dev"
   }
  },
  "kernelspec": {
   "display_name": "Python 3",
   "language": "python",
   "name": "python3"
  },
  "language_info": {
   "codemirror_mode": {
    "name": "ipython",
    "version": 3
   },
   "file_extension": ".py",
   "mimetype": "text/x-python",
   "name": "python",
   "nbconvert_exporter": "python",
   "pygments_lexer": "ipython3",
   "version": "3.8.6"
  },
  "source_map": [
   13,
   93,
   95,
   102,
   104,
   116,
   118,
   123,
   125,
   145,
   148,
   150,
   157,
   160,
   163,
   165,
   212,
   217,
   219,
   223,
   225,
   227,
   229,
   231,
   234,
   237,
   244,
   246,
   249,
   251,
   347,
   350,
   354,
   357,
   361,
   363,
   368,
   370,
   376,
   379,
   381,
   384,
   389,
   397,
   400,
   403,
   405,
   413,
   416,
   418,
   426,
   429,
   431,
   433,
   435,
   437,
   464,
   466,
   468,
   470,
   472,
   475,
   477,
   479,
   484,
   489,
   499,
   504,
   540,
   543,
   640,
   643,
   647,
   650,
   658,
   664
  ]
 },
 "nbformat": 4,
 "nbformat_minor": 4
}