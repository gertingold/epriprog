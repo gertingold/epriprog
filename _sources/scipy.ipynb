{
 "cells": [
  {
   "cell_type": "markdown",
   "id": "eligible-saturday",
   "metadata": {},
   "source": [
    "(scipy)=\n",
    "# Numerische Programmbibliotheken am Beispiel von NumPy/SciPy\n",
    "\n",
    "```{admonition} Hinweis\n",
    ":class: warning\n",
    "Dieses Kapitel befindet sich noch in Bearbeitung.\n",
    "```\n",
    "\n",
    "In den bisherigen Kapiteln hatten wir immer wieder Gelegenheit, auf\n",
    "Möglichkeiten hinzuweisen, die die Python-Standardbibliothek bietet. Wenn man\n",
    "die dort zur Verfügung gestellten Module verwendet, kann man sich Einiges an\n",
    "Arbeit sparen und dabei auch den Code effizienter und übersichtlicher\n",
    "gestalten.  Neben der Python-Standardbibliothek gibt es aber auch noch viele\n",
    "interessante Programmpakete, die häufig über den [Python Package\n",
    "Index](https://pypi.org/) zur Verfügung gestellt werden.\n",
    "\n",
    "Gerade für Problemstellungen in den Natur- und Ingenieurwissenschaften gibt es\n",
    "eine oft als *scientific ecosystem of Python* oder *scientific stack*\n",
    "bezeichnete Sammlung von zentralen Paketen. Hierzu gehört als Basispaket\n",
    "zunächst [NumPy](http://numpy.org/), das den Datentyp `ndarray` sowie Methoden\n",
    "zur Verfügung stellt, um mit `ndarray`-Objekten zu arbeiten. Damit wird das\n",
    "Rechnen mit Vektoren und Matrizen ermöglicht, das wir bei der Besprechung von\n",
    "Listen in {numref}`listen` vermisst hatten.\n",
    "\n",
    "Ein weiteres wichtiges Paket ist [SciPy](https://docs.scipy.org/doc/scipy/reference/), das vielfältige numerische Werkzeuge zur Verfügung stellt, beispielsweise\n",
    "zur numerischen Integration oder der Lösung von Differentialgleichungssystemen,\n",
    "zur Lösung von Optimierungsproblemen oder zur Berechnung von speziellen \n",
    "Funktion sowie vielem Anderem mehr. In diesem Kapitel werden wir einen\n",
    "ersten Eindruck von den Möglichkeiten geben, die NumPy und SciPy bereitstellen.\n",
    "\n",
    "Weitere zentrale Pakete, die in diesem Zusammenhang zu nennen sind, wären\n",
    "[Matplotlib](http://matplotlib.org/) zur graphischen Darstellung von Daten,\n",
    "[IPython](http://ipython.org/), eine interaktive Python-Konsole, die für das\n",
    "[Projekt Jupyter](https://jupyter.org/), das unter anderem die Jupyter\n",
    "Notebooks zur Verfügung stellt, von zentraler Bedeutung war und ist,\n",
    "[SymPy](http://sympy.org/) für das symbolische Rechnen sowie das im\n",
    "{numref}`readfile` bereits erwähnte [pandas](http://pandas.pydata.org/),\n",
    "das fortgeschrittene Datenstrukturen und vielfältige Methoden zu einer\n",
    "effizienten Datenanalyse bereithält.\n",
    "\n",
    "Auf der Basis dieser Pakete haben einzelne wissenschaftliche Disziplinen\n",
    "umfangreiche, auf ihre speziellen Bedürfnisse zugeschnittene Programmpakete\n",
    "entwickelt. So kann [Astropy](https://www.astropy.org/) als Standard in der\n",
    "Astronomie angesehen werden. [QuTiP](http://qutip.org/), die *Quantum Toolbox\n",
    "in Python* erlaubt die Simulation von Qauntensystemen. Für Problemstellungen,\n",
    "die sich mit finite-Elemente-Methoden lösen lassen, steht\n",
    "[FEniCS](https://fenicsproject.org/) zur Verfügung. Diese Aufzählung könnte\n",
    "fast beliebig fortgesetzt werden und soll nur dazu dienen, einen allerersten\n",
    "Eindruck von der Vielfalt der zur Verfügung stehenden\n",
    "Python-Programmbibliotheken zu geben.\n",
    "\n",
    "````{margin}\n",
    "```{seealso} \n",
    "Quellen für hier besprochene Programmpakete:\n",
    "[NumPy auf Github](https://github.com/numpy/numpy),\n",
    "[SciPy auf Github](https://github.com/scipy/scipy)\n",
    "```\n",
    "````\n",
    "\n",
    "Nachdem die Benutzung professioneller Programmpakete gelegentlich mit hohen\n",
    "Kosten verbunden sein kann, ist es erwähnenswert, dass die hier aufgeführten\n",
    "Pakete frei verfügbar, aber dennoch von sehr hoher Qualität sind. Zwei Beispiele\n",
    "prominenter Forschungsprojekte, deren Arbeit wesentlich auf einigen der hier\n",
    "genannten Pakete, sind in {numref}`warumpython` genannt. Darüber hinaus ist\n",
    "der Quellcode der Pakete verfügbar, so dass man sich bei Bedarf auch die\n",
    "konkrete Implementierung ansehen sowie zur Weiterentwicklung beitragen kann.\n",
    "\n",
    "## Installation\n",
    "\n",
    "Da NumPy und SciPy nicht in der Python-Standardbibliothek enthalten sind, stehen\n",
    "diese Programmpakete auch bei einer vorhandenen Python-Installation nicht\n",
    "automatisch zur Verfügung. Dies lässt sich leicht überprüfen, indem man versucht,\n",
    "die beiden Pakete zu importieren. Schlägt dies fehl, so erhält man einen\n",
    "`ImportError`, der impliziert, dass Python die Pakete nicht finden kann.\n",
    "Außerdem lässt sich die installierte Version anzeigen, was deswegen interessant\n",
    "sein kann, weil gelegentlich neue Funktionalität zu den Paketen hinzugefügt\n",
    "wird. Beachten Sie, dass vor und nach `version` jeweils zwei Unterstriche\n",
    "stehen müssen."
   ]
  },
  {
   "cell_type": "code",
   "execution_count": 1,
   "id": "understood-wilson",
   "metadata": {},
   "outputs": [
    {
     "name": "stdout",
     "output_type": "stream",
     "text": [
      "numpy.__version__ = '1.19.2'\n",
      "scipy.__version__ = '1.5.2'\n"
     ]
    }
   ],
   "source": [
    "import numpy\n",
    "import scipy\n",
    "\n",
    "print(f'{numpy.__version__ = }')\n",
    "print(f'{scipy.__version__ = }')"
   ]
  },
  {
   "cell_type": "markdown",
   "id": "nonprofit-annex",
   "metadata": {},
   "source": [
    "Eine einfache und empfehlenswerte Möglichkeit, NumPy und SciPy unter Windows,\n",
    "MacOS oder Linuxvarianten wie Ubuntu verfügbar zu machen, besteht darin, die\n",
    "[Anaconda-Distribution](https://www.anaconda.com/products/individual) zu\n",
    "installieren. Dabei werden allerdings gleichzeitig zahlreiche andere, für\n",
    "wissenschaftliche Zwecke interessante Programmpakete installiert.  Ist dies\n",
    "nicht erwünscht, zum Beispiel wegen des relativ großen Bedarfs an\n",
    "Speicherplatz, kann man NumPy und SciPy auch gezielt auf einem der Wege\n",
    "installieren, die in der [Installationsanleitung für\n",
    "NumPy](https://numpy.org/install/) und der [Installationsanleitung für\n",
    "SciPy](https://www.scipy.org/install.html) beschrieben sind.\n",
    "\n",
    "## Arrays und Anwendungen\n",
    "\n",
    "## Numerische Integration\n",
    "\n",
    "## Integration gewöhnlicher Differentialgleichungen"
   ]
  }
 ],
 "metadata": {
  "jupytext": {
   "formats": "md:myst",
   "text_representation": {
    "extension": ".md",
    "format_name": "myst",
    "format_version": "0.8",
    "jupytext_version": "1.4.1+dev"
   }
  },
  "kernelspec": {
   "display_name": "Python 3",
   "language": "python",
   "name": "python3"
  },
  "language_info": {
   "codemirror_mode": {
    "name": "ipython",
    "version": 3
   },
   "file_extension": ".py",
   "mimetype": "text/x-python",
   "name": "python",
   "nbconvert_exporter": "python",
   "pygments_lexer": "ipython3",
   "version": "3.9.1"
  },
  "source_map": [
   13,
   93,
   99
  ]
 },
 "nbformat": 4,
 "nbformat_minor": 5
}