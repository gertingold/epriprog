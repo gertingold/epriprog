{
 "cells": [
  {
   "cell_type": "markdown",
   "id": "5d70a4c5",
   "metadata": {},
   "source": [
    "(scipy)=\n",
    "# Numerische Programmbibliotheken am Beispiel von NumPy/SciPy\n",
    "\n",
    "In den bisherigen Kapiteln hatten wir immer wieder Gelegenheit, auf\n",
    "Möglichkeiten hinzuweisen, die die Python-Standardbibliothek bietet. Wenn man\n",
    "die dort zur Verfügung gestellten Module verwendet, kann man sich Einiges an\n",
    "Arbeit sparen und dabei auch den Code effizienter und übersichtlicher\n",
    "gestalten.  Neben der Python-Standardbibliothek gibt es aber auch noch viele\n",
    "interessante Programmpakete, die häufig über den [Python Package\n",
    "Index](https://pypi.org/) zur Verfügung gestellt werden.\n",
    "\n",
    "Gerade für Problemstellungen in den Natur- und Ingenieurwissenschaften gibt es\n",
    "eine oft als *scientific ecosystem of Python* oder *scientific stack*\n",
    "bezeichnete Sammlung von zentralen Paketen. Hierzu gehört als Basispaket\n",
    "zunächst [NumPy](http://numpy.org/), das den Datentyp `ndarray` sowie Methoden\n",
    "zur Verfügung stellt, um mit `ndarray`-Objekten zu arbeiten. Damit wird das\n",
    "Rechnen mit Vektoren und Matrizen ermöglicht, das wir bei der Besprechung von\n",
    "Listen in {numref}`listen` vermisst hatten.\n",
    "\n",
    "Ein weiteres wichtiges Paket ist [SciPy](https://docs.scipy.org/doc/scipy/reference/), das vielfältige numerische Werkzeuge zur Verfügung stellt, beispielsweise\n",
    "zur numerischen Integration oder der Lösung von Differentialgleichungssystemen,\n",
    "zur Lösung von Optimierungsproblemen oder zur Berechnung von speziellen \n",
    "Funktion sowie vielem Anderem mehr. In diesem Kapitel werden wir einen\n",
    "ersten Eindruck von den Möglichkeiten geben, die NumPy und SciPy bereitstellen.\n",
    "\n",
    "Weitere zentrale Pakete, die in diesem Zusammenhang zu nennen sind, wären\n",
    "[Matplotlib](http://matplotlib.org/) zur graphischen Darstellung von Daten,\n",
    "[IPython](http://ipython.org/), eine interaktive Python-Konsole, die für das\n",
    "[Projekt Jupyter](https://jupyter.org/), das unter anderem die Jupyter\n",
    "Notebooks zur Verfügung stellt, von zentraler Bedeutung war und ist,\n",
    "[SymPy](http://sympy.org/) für das symbolische Rechnen sowie das im\n",
    "{numref}`readfile` bereits erwähnte [pandas](http://pandas.pydata.org/),\n",
    "das fortgeschrittene Datenstrukturen und vielfältige Methoden zu einer\n",
    "effizienten Datenanalyse bereithält.\n",
    "\n",
    "Auf der Basis dieser Pakete haben einzelne wissenschaftliche Disziplinen\n",
    "umfangreiche, auf ihre speziellen Bedürfnisse zugeschnittene Programmpakete\n",
    "entwickelt. So kann [Astropy](https://www.astropy.org/) als Standard in der\n",
    "Astronomie angesehen werden. [QuTiP](http://qutip.org/), die *Quantum Toolbox\n",
    "in Python* erlaubt die Simulation von Quantensystemen. Für Problemstellungen,\n",
    "die sich mit finite-Elemente-Methoden lösen lassen, steht\n",
    "[FEniCS](https://fenicsproject.org/) zur Verfügung. Diese Aufzählung könnte\n",
    "fast beliebig fortgesetzt werden und soll nur dazu dienen, einen allerersten\n",
    "Eindruck von der Vielfalt der zur Verfügung stehenden\n",
    "Python-Programmbibliotheken zu geben.\n",
    "\n",
    "````{margin}\n",
    "```{seealso} \n",
    "Quellen für hier besprochene Programmpakete:\n",
    "[NumPy auf Github](https://github.com/numpy/numpy),\n",
    "[SciPy auf Github](https://github.com/scipy/scipy)\n",
    "```\n",
    "````\n",
    "\n",
    "Nachdem die Benutzung professioneller Programmpakete gelegentlich mit hohen\n",
    "Kosten verbunden sein kann, ist es erwähnenswert, dass die hier aufgeführten\n",
    "Pakete frei verfügbar, aber dennoch von sehr hoher Qualität sind. Zwei Beispiele\n",
    "prominenter Forschungsprojekte, deren Arbeit wesentlich auf einigen der hier\n",
    "genannten Pakete, sind in {numref}`warumpython` genannt. Darüber hinaus ist\n",
    "der Quellcode der Pakete verfügbar, so dass man sich bei Bedarf auch die\n",
    "konkrete Implementierung ansehen sowie zur Weiterentwicklung beitragen kann.\n",
    "\n",
    "## Installation\n",
    "\n",
    "Da NumPy und SciPy nicht in der Python-Standardbibliothek enthalten sind, stehen\n",
    "diese Programmpakete auch bei einer vorhandenen Python-Installation nicht\n",
    "automatisch zur Verfügung. Dies lässt sich leicht überprüfen, indem man versucht,\n",
    "die beiden Pakete zu importieren. Schlägt dies fehl, so erhält man einen\n",
    "`ImportError`, der impliziert, dass Python die Pakete nicht finden kann.\n",
    "Außerdem lässt sich die installierte Version anzeigen, was deswegen interessant\n",
    "sein kann, weil gelegentlich neue Funktionalität zu den Paketen hinzugefügt\n",
    "wird. Beachten Sie, dass vor und nach `version` jeweils zwei Unterstriche\n",
    "stehen müssen."
   ]
  },
  {
   "cell_type": "code",
   "execution_count": 1,
   "id": "65f44b9d",
   "metadata": {},
   "outputs": [
    {
     "name": "stdout",
     "output_type": "stream",
     "text": [
      "numpy.__version__ = '2.3.3'\n",
      "scipy.__version__ = '1.16.2'\n"
     ]
    }
   ],
   "source": [
    "import numpy\n",
    "import scipy\n",
    "\n",
    "print(f'{numpy.__version__ = }')\n",
    "print(f'{scipy.__version__ = }')"
   ]
  },
  {
   "cell_type": "markdown",
   "id": "2793313c",
   "metadata": {},
   "source": [
    "Eine einfache und empfehlenswerte Möglichkeit, NumPy und SciPy unter Windows,\n",
    "MacOS oder Linuxvarianten wie Ubuntu verfügbar zu machen, besteht darin, die\n",
    "[Anaconda-Distribution](https://www.anaconda.com/products/individual) zu\n",
    "installieren. Dabei werden allerdings gleichzeitig zahlreiche andere, für\n",
    "wissenschaftliche Zwecke interessante Programmpakete installiert.  Ist dies\n",
    "nicht erwünscht, zum Beispiel wegen des relativ großen Bedarfs an\n",
    "Speicherplatz, kann man NumPy und SciPy auch gezielt auf einem der Wege\n",
    "installieren, die in der [Installationsanleitung für\n",
    "NumPy](https://numpy.org/install/) und der [Installationsanleitung für\n",
    "SciPy](https://www.scipy.org/install.html) beschrieben sind.\n",
    "\n",
    "## Arrays und Anwendungen\n",
    "\n",
    "Für die Arbeit mit dem NumPy-Paket ist es üblich, für `numpy` die Abkürzung\n",
    "`np` einzuführen."
   ]
  },
  {
   "cell_type": "code",
   "execution_count": 2,
   "id": "584d6e35",
   "metadata": {},
   "outputs": [],
   "source": [
    "import numpy as np"
   ]
  },
  {
   "cell_type": "markdown",
   "id": "6c0d9af3",
   "metadata": {},
   "source": [
    "Dies bedeutet, dass man bei der Verwendung von NumPy vor die entsprechenden\n",
    "Funktionen jeweils `np.` setzen muss. Diese Abkürzung verringert den Tippaufwand\n",
    "und macht zum anderen sofort erkenntlich, wenn es sich um eine Funktion aus dem\n",
    "NumPy-Paket handelt. Dies ist unter anderem deswegen wichtig, weil NumPy unter\n",
    "anderem auch Funktionen wie die Exponentialfunktion {func}`exp` zur Verfügung\n",
    "stellt, die von der Exponentialfunktion aus dem `math`-Modul unterschieden werden\n",
    "muss.\n",
    "\n",
    "Das zentrale Objekt, das durch das NumPy-Paket zur Verfügung gestellt wird, ist\n",
    "das `ndarray`, wobei die Abkürzung für N-dimensionales Array steht. Hiermit lassen\n",
    "sich also Vektoren und Matrizen von im Prinzip beliebiger Dimension darstellen,\n",
    "wobei alle Einträge vom gleichen Datentyp sind.\n",
    "\n",
    "Es gibt eine ganze Reihe von Möglichkeiten, solche Arrays zu konstruieren. Wir\n",
    "beginnen damit eine Matrix aus einer Liste oder im Allgemeinen Listen von Listen\n",
    "zu erzeugen."
   ]
  },
  {
   "cell_type": "code",
   "execution_count": 3,
   "id": "75214a4d",
   "metadata": {},
   "outputs": [
    {
     "name": "stdout",
     "output_type": "stream",
     "text": [
      "<class 'numpy.ndarray'>\n",
      "[[ 1.3  2.5]\n",
      " [-1.7  3.9]]\n"
     ]
    }
   ],
   "source": [
    "matrixA = np.array([[1.3, 2.5], [-1.7, 3.9]])\n",
    "print(type(matrixA))\n",
    "print(matrixA)"
   ]
  },
  {
   "cell_type": "markdown",
   "id": "79d7f6df",
   "metadata": {},
   "source": [
    "Für `ndarray`s ist eine Matrixmultiplikation definiert. Um dies zu demonstrieren,\n",
    "definieren wir ein zweites Array und führen die Matrixmultiplikation aus. Dafür\n",
    "können wir die Funktion `np.dot` verwenden oder den `@`-Operator, der in moderneren\n",
    "Versionen des NumPy-Pakets definiert ist. Anschließend überprüfen wir das Ergebnis\n",
    "am 00-Element."
   ]
  },
  {
   "cell_type": "code",
   "execution_count": 4,
   "id": "7921d8a9",
   "metadata": {},
   "outputs": [
    {
     "name": "stdout",
     "output_type": "stream",
     "text": [
      "[[ 1.3  2.5]\n",
      " [-1.7  3.9]]\n",
      "\n",
      "[[ 2.1 -4.5]\n",
      " [ 0.9 -2.1]]\n",
      "\n",
      "[[  4.98 -11.1 ]\n",
      " [ -0.06  -0.54]]\n",
      "\n",
      "1.3*2.1 + 2.5*0.9 = 4.98\n"
     ]
    }
   ],
   "source": [
    "matrixB = np.array([[2.1, -4.5], [0.9, -2.1]])\n",
    "print(matrixA)\n",
    "print()\n",
    "print(matrixB)\n",
    "print()\n",
    "print(matrixA @ matrixB)\n",
    "print()\n",
    "print(f'{matrixA[0, 0]}*{matrixB[0, 0]} + {matrixA[0, 1]}*{matrixB[1, 0]} = '\n",
    "      f'{matrixA[0, 0]*matrixB[0, 0] + matrixA[0, 1]*matrixB[1, 0]}')"
   ]
  },
  {
   "cell_type": "markdown",
   "id": "76f15156",
   "metadata": {},
   "source": [
    "Dabei zeigen die letzten beiden Zeilen, wie man Elemente des Arrays adressieren\n",
    "kann, nämlich indem die Indizes für die einzelnen Dimensionen durch Komma getrennt\n",
    "in eckigen Klammern angegeben werden.\n",
    "\n",
    "```{admonition} Multiplikationsoperatoren @ und *\n",
    ":class: warning\n",
    "Beachten Sie, dass der normale Multiplikationsoperator `*` die beiden Matrizen\n",
    "elementweise multipliziert und somit keine Matrixmultiplikation ausführt, wie\n",
    "es `@` verlangt. Probieren Sie es an einem Beispiel selbst aus!\n",
    "```\n",
    "\n",
    "Wie bei Listen kann die Adressierung auch mit Hilfe von Slices erfolgen, so dass\n",
    "man bequem Untermatrizen extrahieren kann. Wichtig dabei ist, dass hier kein neues\n",
    "Array erzeugt wird, sondern nur eine andere Sicht auf das bereits existierende Array\n",
    "bereitgestellt wird. Dadurch ist ein solcher Zugriff sehr effizient. In diesem\n",
    "Beispiel verwenden wird zur schnellen Erzeugung eines etwas größeren Arrays die\n",
    "{func}`arange`-Funktion, die mit mit {func}`range` vergleichbar ist, aber eben ein\n",
    "zunächst eindimensionales Array erzeugt. Dieses können wir dann mit der\n",
    "{func}`reshape`-Methode beispielsweise in ein zweidimensionales Array umwandeln."
   ]
  },
  {
   "cell_type": "code",
   "execution_count": 5,
   "id": "20757bba",
   "metadata": {},
   "outputs": [
    {
     "name": "stdout",
     "output_type": "stream",
     "text": [
      "[[ 0  1  2  3  4  5]\n",
      " [ 6  7  8  9 10 11]\n",
      " [12 13 14 15 16 17]\n",
      " [18 19 20 21 22 23]\n",
      " [24 25 26 27 28 29]\n",
      " [30 31 32 33 34 35]]\n",
      "\n",
      "[[ 9 10]\n",
      " [15 16]]\n"
     ]
    }
   ],
   "source": [
    "matrixC = np.arange(36).reshape(6, 6)\n",
    "print(matrixC)\n",
    "print()\n",
    "print(matrixC[1:3, 3:5])"
   ]
  },
  {
   "cell_type": "markdown",
   "id": "55fb14a9",
   "metadata": {},
   "source": [
    "In der letzten Zeile extrahieren wir eine Untermatrix. Dabei bezieht sich das erste\n",
    "Slice auf die Zeilen und das zweite Slice auf die Spalten. So können wir auch eine\n",
    "Zerlegung in Blockmatrizen vornehmen."
   ]
  },
  {
   "cell_type": "code",
   "execution_count": 6,
   "id": "1bfcfb9b",
   "metadata": {},
   "outputs": [
    {
     "name": "stdout",
     "output_type": "stream",
     "text": [
      "[[ 0  1  2]\n",
      " [ 6  7  8]\n",
      " [12 13 14]]\n",
      "\n",
      "[[ 3  4  5]\n",
      " [ 9 10 11]\n",
      " [15 16 17]]\n",
      "\n",
      "[[18 19 20]\n",
      " [24 25 26]\n",
      " [30 31 32]]\n",
      "\n",
      "[[21 22 23]\n",
      " [27 28 29]\n",
      " [33 34 35]]\n"
     ]
    }
   ],
   "source": [
    "print(matrixC[:3, :3])\n",
    "print()\n",
    "print(matrixC[:3, 3:])\n",
    "print()\n",
    "print(matrixC[3:, :3])\n",
    "print()\n",
    "print(matrixC[3:, 3:])"
   ]
  },
  {
   "cell_type": "markdown",
   "id": "3c8e9b02",
   "metadata": {},
   "source": [
    "Zudem kann die Möglichkeit eines Slices, die Schrittweite anzugeben, verwenden."
   ]
  },
  {
   "cell_type": "code",
   "execution_count": 7,
   "id": "eb6d7337",
   "metadata": {},
   "outputs": [
    {
     "name": "stdout",
     "output_type": "stream",
     "text": [
      "[[ 0  3]\n",
      " [12 15]\n",
      " [24 27]]\n"
     ]
    }
   ],
   "source": [
    "print(matrixC[::2, ::3])"
   ]
  },
  {
   "cell_type": "markdown",
   "id": "9d93f082",
   "metadata": {},
   "source": [
    "Während wir bei Listen gewohnt sind, diese mit der {func}`append`-Methode um weitere\n",
    "Elemente zu erweitern, sollte man ein solches Vorgehen bei Arrays vermeiden. Da dabei\n",
    "jeweils ein neues Array erzeugt wird, wäre ein solches Vorgehen äußerst ineffizient.\n",
    "Stattdessen legt man das Array zunächst in der benötigten Größe an, zum Beispiel mit\n",
    "Hilfe von {func}`np.zeros` oder {func}`np.ones`. Das folgende Beispiel illustriert,\n",
    "wie man die Dimension des Arrays sowie den Datentyp festlegen kann und was die\n",
    "Multiplikation des Arrays mit einer Zahl bedeutet."
   ]
  },
  {
   "cell_type": "code",
   "execution_count": 8,
   "id": "6c83a157",
   "metadata": {},
   "outputs": [
    {
     "data": {
      "text/plain": [
       "array([[[5, 5, 5, 5],\n",
       "        [5, 5, 5, 5],\n",
       "        [5, 5, 5, 5]],\n",
       "\n",
       "       [[5, 5, 5, 5],\n",
       "        [5, 5, 5, 5],\n",
       "        [5, 5, 5, 5]]])"
      ]
     },
     "execution_count": 8,
     "metadata": {},
     "output_type": "execute_result"
    }
   ],
   "source": [
    "5*np.ones(shape=(2, 3, 4), dtype=np.int64)"
   ]
  },
  {
   "cell_type": "markdown",
   "id": "a2be378e",
   "metadata": {},
   "source": [
    "```{admonition} Integer-Arrays\n",
    ":class: warning\n",
    "Bei Python sind wir gewohnt, dass Integer im Prinzip beliebig groß werden können.\n",
    "Bei `ndarray`s mit Datentyp Integer ist dies nicht der Fall. Der mögliche\n",
    "Zahlenbereich ist je nach dem gewählten Integertyp eingeschränkt. Genaueres hierzu\n",
    "findet man in der [NumPy-Dokumentation zu Datentypen](https://numpy.org/doc/stable/user/basics.types.html).\n",
    "```\n",
    "\n",
    "Statt NumPy-Arrays im Detail zu diskutieren, wollen wir im Folgenden einen Eindruck von\n",
    "einigen Möglichkeiten geben, die dieser Datentyp bietet. Für die Arbeit mit `ndarray`s\n",
    "sollten man sich aber auf jeden Fall genauer mit diesen vertraut machen. Wir verweisen\n",
    "hierzu zum Beispiel auf die [NumPy-Dokumentation](https://numpy.org/doc/stable/), aber auch\n",
    "auf [Teil 1](https://youtu.be/R2rCYf3pv-M) und [Teil 2](https://youtu.be/sunNXIxIGV8) eines\n",
    "Videotutorials.\n",
    "\n",
    "Zu Beginn des Kapitels hatten wir gesehen, wie man Matrizen miteinander multiplizieren kann.\n",
    "Für Vektoren erhält man auf diese Weise unmittelbar das Skalarprodukt. Darüber hinaus kann man\n",
    "auch das Kreuzprodukt und das dyadische Produkt mit Hilfe von NumPy berechnen."
   ]
  },
  {
   "cell_type": "code",
   "execution_count": 9,
   "id": "b2b22d58",
   "metadata": {},
   "outputs": [
    {
     "name": "stdout",
     "output_type": "stream",
     "text": [
      "-2\n",
      "\n",
      "[ 0  0 23]\n",
      "\n",
      "[[ 10   8   0]\n",
      " [-15 -12   0]\n",
      " [  0   0   0]]\n"
     ]
    }
   ],
   "source": [
    "vecA = np.array([2, -3, 0])\n",
    "vecB = np.array([5, 4, 0])\n",
    "print(np.dot(vecA, vecB))\n",
    "print()\n",
    "print(np.cross(vecA, vecB))\n",
    "print()\n",
    "print(np.outer(vecA, vecB))"
   ]
  },
  {
   "cell_type": "markdown",
   "id": "81e320ae",
   "metadata": {},
   "source": [
    "Statt {func}`np.dot` hätten wir natürlich auch wieder den `@`-Operator verwenden können.\n",
    "\n",
    "Interessant sind die von NumPy zur Verfügung gestellten *universal functions* oder *ufuncs*,\n",
    "die als Argumente NumPy-Arrays akzeptieren und damit effizient Funktionen in einem Schritt\n",
    "für eine größere Anzahl von Argumenten auswerten können. In dem folgenden Beispiel demonstrieren\n",
    "wir zugleich die Verwendung der {func}`linspace`-Funktion, um eine Liste äquidistanter Werte\n",
    "zu erzeugen."
   ]
  },
  {
   "cell_type": "code",
   "execution_count": 10,
   "id": "971e6e49",
   "metadata": {},
   "outputs": [
    {
     "name": "stdout",
     "output_type": "stream",
     "text": [
      "[0.  0.2 0.4 0.6 0.8 1.  1.2 1.4 1.6 1.8 2. ]\n",
      "[1.         1.22140276 1.4918247  1.8221188  2.22554093 2.71828183\n",
      " 3.32011692 4.05519997 4.95303242 6.04964746 7.3890561 ]\n"
     ]
    }
   ],
   "source": [
    "x = np.linspace(0, 2, 11)\n",
    "print(x)\n",
    "y = np.exp(x)\n",
    "print(y)"
   ]
  },
  {
   "cell_type": "markdown",
   "id": "60d636e8",
   "metadata": {},
   "source": [
    "Die Exponentialfunktion aus dem `math`-Modul ist dagegen nicht in der Lage, NumPy-Arrays als\n",
    "Argument zu akzeptieren."
   ]
  },
  {
   "cell_type": "code",
   "execution_count": 11,
   "id": "84fdde95",
   "metadata": {
    "tags": [
     "raises-exception"
    ]
   },
   "outputs": [
    {
     "ename": "TypeError",
     "evalue": "only length-1 arrays can be converted to Python scalars",
     "output_type": "error",
     "traceback": [
      "\u001b[31m---------------------------------------------------------------------------\u001b[39m",
      "\u001b[31mTypeError\u001b[39m                                 Traceback (most recent call last)",
      "\u001b[36mCell\u001b[39m\u001b[36m \u001b[39m\u001b[32mIn[11]\u001b[39m\u001b[32m, line 2\u001b[39m\n\u001b[32m      1\u001b[39m \u001b[38;5;28;01mimport\u001b[39;00m\u001b[38;5;250m \u001b[39m\u001b[34;01mmath\u001b[39;00m\n\u001b[32m----> \u001b[39m\u001b[32m2\u001b[39m y = \u001b[43mmath\u001b[49m\u001b[43m.\u001b[49m\u001b[43mexp\u001b[49m\u001b[43m(\u001b[49m\u001b[43mx\u001b[49m\u001b[43m)\u001b[49m\n",
      "\u001b[31mTypeError\u001b[39m: only length-1 arrays can be converted to Python scalars"
     ]
    }
   ],
   "source": [
    "import math\n",
    "y = math.exp(x)"
   ]
  },
  {
   "cell_type": "markdown",
   "id": "e6ec026a",
   "metadata": {},
   "source": [
    "An dieser Stelle wird deutlich, wie nützlich es sein kann, aus dem Code direkt ersehen zu\n",
    "können, aus welchem Modul die Exponentialfunktion verwendet wird. Das NumPy-Paket stellt\n",
    "*ufuncs* für die üblichen Standardfunktionen zur Verfügung. Für viele spezielle Funktionen\n",
    "wird man im SciPy-Paket fündig.\n",
    "\n",
    "Zum Abschluss dieses kurzen Einblicks in das NumPy-Paket wollen wir noch einen Blick auf\n",
    "häufig benötigte Funktionen aus der linearen Algebra werfen. Diese befinden sich im `linalg`-Modul\n",
    "von NumPy, das üblicherweise unter dem Namen `LA` importiert wird."
   ]
  },
  {
   "cell_type": "code",
   "execution_count": 12,
   "id": "c63d14e1",
   "metadata": {},
   "outputs": [],
   "source": [
    "from numpy import linalg as LA"
   ]
  },
  {
   "cell_type": "markdown",
   "id": "cdd8c896",
   "metadata": {},
   "source": [
    "Für die Beispiele verwenden wir der Übersichtlichkeit halber nur 2×2-Matrizen, für die wir\n",
    "alle Rechnungen natürlich auch leicht analytisch durchführen könnten. Selbstverständlich kann\n",
    "NumPy auch mit viel größeren Matrizen umgehen. Wir definieren also eine 2×2-Matrix und berechnen\n",
    "zunächst ihre Determinante."
   ]
  },
  {
   "cell_type": "code",
   "execution_count": 13,
   "id": "7870d4d6",
   "metadata": {},
   "outputs": [
    {
     "name": "stdout",
     "output_type": "stream",
     "text": [
      "-1.0\n"
     ]
    }
   ],
   "source": [
    "a = np.array([[1, 3], [2, 5]])\n",
    "print(LA.det(a))"
   ]
  },
  {
   "cell_type": "markdown",
   "id": "a26029d8",
   "metadata": {},
   "source": [
    "Als nächstes berechnen wir die Inverse und obwohl bei diesem Wert der Determinante die Korrektheit\n",
    "des Ergebnisses mehr oder weniger offensichtlich ist, berechnen wir gleich noch das Produkt\n",
    "aus der Matrix und ihrer Inversen, das erwartungsgemäß die Einheitsmatrix ergibt."
   ]
  },
  {
   "cell_type": "code",
   "execution_count": 14,
   "id": "23f97ce9",
   "metadata": {},
   "outputs": [
    {
     "name": "stdout",
     "output_type": "stream",
     "text": [
      "[[-5.  3.]\n",
      " [ 2. -1.]]\n",
      "[[1. 0.]\n",
      " [0. 1.]]\n"
     ]
    }
   ],
   "source": [
    "a_inv = LA.inv(a)\n",
    "print(a_inv)\n",
    "print(a @ a_inv)"
   ]
  },
  {
   "cell_type": "markdown",
   "id": "dcd2c2af",
   "metadata": {},
   "source": [
    "Für Anwendungen sehr wichtig ist die Möglichkeit, Eigenwertprobleme zu lösen. Berechnen wir also\n",
    "die Eigenwerte und Eigenvektoren der Matrix."
   ]
  },
  {
   "cell_type": "code",
   "execution_count": 15,
   "id": "5dbc15fe",
   "metadata": {},
   "outputs": [
    {
     "name": "stdout",
     "output_type": "stream",
     "text": [
      "[-0.16227766  6.16227766]\n",
      "-0.9999999999999984\n",
      "[[-0.93246475 -0.50245469]\n",
      " [ 0.36126098 -0.86460354]]\n"
     ]
    }
   ],
   "source": [
    "eigenwerte, eigenvektoren = LA.eig(a)\n",
    "print(eigenwerte)\n",
    "print(eigenwerte[0]*eigenwerte[1])\n",
    "print(eigenvektoren)"
   ]
  },
  {
   "cell_type": "markdown",
   "id": "027c79b2",
   "metadata": {},
   "source": [
    "der zweiten Ausgabezeile entnehmen als ersten Test, dass das Produkt der Eigenwerte, bis auf\n",
    "Rundungsfehler, gleich der oben erhaltenen Determinanten ist. Überprüfen wir zum Abschluss noch\n",
    "die Korrektheit der Eigenvektoren."
   ]
  },
  {
   "cell_type": "code",
   "execution_count": 16,
   "id": "1c134d4d",
   "metadata": {},
   "outputs": [
    {
     "name": "stdout",
     "output_type": "stream",
     "text": [
      "[ 0.1513182  -0.05862459] [ 0.1513182  -0.05862459]\n",
      "[-3.09626531 -5.32792709] [-3.09626531 -5.32792709]\n"
     ]
    }
   ],
   "source": [
    "for idx in range(2):\n",
    "    print(a @ eigenvektoren[:, idx],\n",
    "          eigenwerte[idx] * eigenvektoren[:, idx])"
   ]
  },
  {
   "cell_type": "markdown",
   "id": "c357385a",
   "metadata": {},
   "source": [
    "Da der erste Index des Array `eigenvektoren` der Zeilenindex ist, während der zweite Index der\n",
    "Spaltenindex ist, sehen wir, dass die Eigenvektoren in diesem Array in den Spalten stehen.\n",
    "\n",
    "## Numerische Integration\n",
    "\n",
    "SciPy ist eine umfangreiche numerische Bibliothek, die wesentlich auf dem gerade besprochenen\n",
    "NumPy-Paket basiert. Sie deckt vielfältige Problemstellungen ab wie zum Beispiel numerische\n",
    "Integration und Lösung von gewöhnlichen Differentialgleichungen, Interpolation, Fouriertransformation,\n",
    "Lösung von Optimierungsproblemen und Nullstellensuche, Signalverarbeitung oder spezielle\n",
    "mathematische Funktionen. Hier wird es uns nur möglich sein, einen ersten Eindruck davon zu geben,\n",
    "wie man mit Hilfe von SciPy numerische Problemstellungen lösen kann. Wir wollen dies anhand der\n",
    "numerischen Auswertung von Integralen sowie der Lösung einer gewöhnlichen Differentialgleichung tun.\n",
    "\n",
    "In diesem Kapitel wollen wir an zwei Beispielen die Auswertung von Integralen und zeigen und betrachten\n",
    "zunächst das Integral\n",
    "\n",
    "$$J_0(1) = \\frac{1}{\\pi}\\int_0^\\pi\\cos\\!\\big(\\!\\cos(x)\\big)\\text{d}x\\,.$$\n",
    "\n",
    "Das Ergebnis lässt sich durch eine spezielle Funktion, nämlich die Besselfunktion erster Gattung und\n",
    "nullter Ordnung $J_0$, an der Stelle angeben. Mit Hilfe des SciPy-Pakets können wir sowohl das\n",
    "Integral auf der rechten Seite als auch die Besselfunktion auf der linken Seite unabhängig voneinander\n",
    "auswerten lassen und die beiden Ergebnisse miteinander vergleichen. Betrachten wir zunächst die\n",
    "numerische Integration. Hierfür steht im `integrate`-Modul die Funktion {func}`quad` zur Verfügung,\n",
    "die als wesentliche Argumente den Integranden und die Integrationsgrenzen erwartet. Darüber hinaus\n",
    "gibt es noch weitere Argumente, die wir hier einfach auf ihren Defaultwerten belassen. Den Integranden\n",
    "stellen wir mit Hilfe einer Lambdafunktion zur Verfügung."
   ]
  },
  {
   "cell_type": "code",
   "execution_count": 17,
   "id": "dcd4362a",
   "metadata": {},
   "outputs": [
    {
     "name": "stdout",
     "output_type": "stream",
     "text": [
      "0.7651976865579665 7.610963315273956e-11\n"
     ]
    }
   ],
   "source": [
    "from math import cos, pi\n",
    "from scipy.integrate import quad\n",
    "\n",
    "resultat, fehler = quad(lambda x: cos(cos(x))/pi, 0, pi)\n",
    "print(resultat, fehler)"
   ]
  },
  {
   "cell_type": "markdown",
   "id": "a4f8594d",
   "metadata": {},
   "source": [
    "Wir erhalten sowohl das Resultat des numerischen Fehlers als auch eine Abschätzung für den absoluten\n",
    "Integrationsfehler.\n",
    "\n",
    "Zum Vergleich werten wir die Besselfunktion $J_0$ nun direkt an der Stelle 1 aus. Dazu importieren\n",
    "wir die entsprechende Funktion aus dem `special`-Modul von SciPy."
   ]
  },
  {
   "cell_type": "code",
   "execution_count": 18,
   "id": "c680623e",
   "metadata": {},
   "outputs": [
    {
     "name": "stdout",
     "output_type": "stream",
     "text": [
      "0.7651976865579665\n"
     ]
    }
   ],
   "source": [
    "from scipy.special import j0\n",
    "\n",
    "print(j0(1))"
   ]
  },
  {
   "cell_type": "markdown",
   "id": "b648cedd",
   "metadata": {},
   "source": [
    "In diesem Fall stimmen die beiden Ergebnisse perfekt überein, was aber im Allgemeinen nicht erwartet\n",
    "werden kann. Problematisch sind insbesondere Integranden, die Singularitäten enthalten oder sehr\n",
    "schnell oszillieren.\n",
    "\n",
    "Um zu demonstrieren, dass SciPy auch mit uneigentlichen Integralen umgehen kann, betrachten wir noch\n",
    "das Integral\n",
    "\n",
    "$$\\int_{-\\infty}^\\infty\\frac{1}{x^2+1}\\text{d}x = \\pi\\,,$$\n",
    "\n",
    "dessen Wert man ebenfalls analytisch kennt. Dies erlaubt uns wiederum, einen Eindruck davon zu gewinnen,\n",
    "wie gut das Integrationsergebnis ist. Um mit den Integrationsgrenzen umzugehen, verwenden wir die\n",
    "Konstante `inf` aus NumPy."
   ]
  },
  {
   "cell_type": "code",
   "execution_count": 19,
   "id": "5d59dc92",
   "metadata": {},
   "outputs": [
    {
     "name": "stdout",
     "output_type": "stream",
     "text": [
      "3.141592653589793 5.155583041103855e-10\n",
      "3.141592653589793\n"
     ]
    }
   ],
   "source": [
    "import numpy as np\n",
    "\n",
    "resultat, fehler = quad(lambda x: 1/(x*x+1), -np.inf, np.inf)\n",
    "print(resultat, fehler)\n",
    "print(pi)"
   ]
  },
  {
   "cell_type": "markdown",
   "id": "f62adb8a",
   "metadata": {},
   "source": [
    "Auch in diesem Fall ist die Übereinstimmung perfekt, so dass wir nochmals betonen wollen, dass dies\n",
    "im Allgemeinen keineswegs zu erwarten ist.\n",
    "\n",
    "Neben der Funktion {func}`quad` stellt noch weitere Funktionen zur Verfügung, in denen zum Beispiel\n",
    "andere Integrationsverfahren verwendet werden oder mit denen auch mehrdimensionale Integrale \n",
    "berechnet werden können. Weitere Informationen findet man in der [Dokumentation des\n",
    "`scipy.integrate`-Moduls](https://docs.scipy.org/doc/scipy/reference/integrate.html#integrating-functions-given-function-object).\n",
    "\n",
    "## Integration gewöhnlicher Differentialgleichungen\n",
    "\n",
    "In Natur- und Ingenieurwissenschaften steht man häufig vor der Aufgabe, Differentialgleichungen numerisch\n",
    "zu lösen, wobei zwischen gewöhnlichen und partiellen Differentialgleichungen sowie zwischen Anfangs- und\n",
    "Randwertproblemen unterschieden werden muss. In diesem Kapitel wollen wir anhand von zwei Beispielen zeigen,\n",
    "wie mit Hilfe von SciPy gewöhnliche Differentialgleichungen mit Anfangsbedingungen gelöst werden können. \n",
    "Dazu werden wir die Funktion {func}`solve_ivp` aus dem `integrate`-Modul verwenden, wobei `ivp` als Abkürzung\n",
    "für *initial value problem* zu lesen ist.\n",
    "\n",
    "Zunächst ist es sinnvoll, sich darüber zu informieren, wie diese Funktion aufzurufen ist."
   ]
  },
  {
   "cell_type": "code",
   "execution_count": 20,
   "id": "1df3aa65",
   "metadata": {
    "tags": [
     "output_scroll"
    ]
   },
   "outputs": [
    {
     "name": "stdout",
     "output_type": "stream",
     "text": [
      "Help on function solve_ivp in module scipy.integrate._ivp.ivp:\n",
      "\n",
      "solve_ivp(fun, t_span, y0, method='RK45', t_eval=None, dense_output=False, events=None, vectorized=False, args=None, **options)\n",
      "    Solve an initial value problem for a system of ODEs.\n",
      "    \n",
      "    This function numerically integrates a system of ordinary differential\n",
      "    equations given an initial value::\n",
      "    \n",
      "        dy / dt = f(t, y)\n",
      "        y(t0) = y0\n",
      "    \n",
      "    Here t is a 1-D independent variable (time), y(t) is an\n",
      "    N-D vector-valued function (state), and an N-D\n",
      "    vector-valued function f(t, y) determines the differential equations.\n",
      "    The goal is to find y(t) approximately satisfying the differential\n",
      "    equations, given an initial value y(t0)=y0.\n",
      "    \n",
      "    Some of the solvers support integration in the complex domain, but note\n",
      "    that for stiff ODE solvers, the right-hand side must be\n",
      "    complex-differentiable (satisfy Cauchy-Riemann equations [11]_).\n",
      "    To solve a problem in the complex domain, pass y0 with a complex data type.\n",
      "    Another option always available is to rewrite your problem for real and\n",
      "    imaginary parts separately.\n",
      "    \n",
      "    Parameters\n",
      "    ----------\n",
      "    fun : callable\n",
      "        Right-hand side of the system: the time derivative of the state ``y``\n",
      "        at time ``t``. The calling signature is ``fun(t, y)``, where ``t`` is a\n",
      "        scalar and ``y`` is an ndarray with ``len(y) = len(y0)``. Additional\n",
      "        arguments need to be passed if ``args`` is used (see documentation of\n",
      "        ``args`` argument). ``fun`` must return an array of the same shape as\n",
      "        ``y``. See `vectorized` for more information.\n",
      "    t_span : 2-member sequence\n",
      "        Interval of integration (t0, tf). The solver starts with t=t0 and\n",
      "        integrates until it reaches t=tf. Both t0 and tf must be floats\n",
      "        or values interpretable by the float conversion function.\n",
      "    y0 : array_like, shape (n,)\n",
      "        Initial state. For problems in the complex domain, pass `y0` with a\n",
      "        complex data type (even if the initial value is purely real).\n",
      "    method : string or `OdeSolver`, optional\n",
      "        Integration method to use:\n",
      "    \n",
      "            * 'RK45' (default): Explicit Runge-Kutta method of order 5(4) [1]_.\n",
      "              The error is controlled assuming accuracy of the fourth-order\n",
      "              method, but steps are taken using the fifth-order accurate\n",
      "              formula (local extrapolation is done). A quartic interpolation\n",
      "              polynomial is used for the dense output [2]_. Can be applied in\n",
      "              the complex domain.\n",
      "            * 'RK23': Explicit Runge-Kutta method of order 3(2) [3]_. The error\n",
      "              is controlled assuming accuracy of the second-order method, but\n",
      "              steps are taken using the third-order accurate formula (local\n",
      "              extrapolation is done). A cubic Hermite polynomial is used for the\n",
      "              dense output. Can be applied in the complex domain.\n",
      "            * 'DOP853': Explicit Runge-Kutta method of order 8 [13]_.\n",
      "              Python implementation of the \"DOP853\" algorithm originally\n",
      "              written in Fortran [14]_. A 7-th order interpolation polynomial\n",
      "              accurate to 7-th order is used for the dense output.\n",
      "              Can be applied in the complex domain.\n",
      "            * 'Radau': Implicit Runge-Kutta method of the Radau IIA family of\n",
      "              order 5 [4]_. The error is controlled with a third-order accurate\n",
      "              embedded formula. A cubic polynomial which satisfies the\n",
      "              collocation conditions is used for the dense output.\n",
      "            * 'BDF': Implicit multi-step variable-order (1 to 5) method based\n",
      "              on a backward differentiation formula for the derivative\n",
      "              approximation [5]_. The implementation follows the one described\n",
      "              in [6]_. A quasi-constant step scheme is used and accuracy is\n",
      "              enhanced using the NDF modification. Can be applied in the\n",
      "              complex domain.\n",
      "            * 'LSODA': Adams/BDF method with automatic stiffness detection and\n",
      "              switching [7]_, [8]_. This is a wrapper of the Fortran solver\n",
      "              from ODEPACK.\n",
      "    \n",
      "        Explicit Runge-Kutta methods ('RK23', 'RK45', 'DOP853') should be used\n",
      "        for non-stiff problems and implicit methods ('Radau', 'BDF') for\n",
      "        stiff problems [9]_. Among Runge-Kutta methods, 'DOP853' is recommended\n",
      "        for solving with high precision (low values of `rtol` and `atol`).\n",
      "    \n",
      "        If not sure, first try to run 'RK45'. If it makes unusually many\n",
      "        iterations, diverges, or fails, your problem is likely to be stiff and\n",
      "        you should use 'Radau' or 'BDF'. 'LSODA' can also be a good universal\n",
      "        choice, but it might be somewhat less convenient to work with as it\n",
      "        wraps old Fortran code.\n",
      "    \n",
      "        You can also pass an arbitrary class derived from `OdeSolver` which\n",
      "        implements the solver.\n",
      "    t_eval : array_like or None, optional\n",
      "        Times at which to store the computed solution, must be sorted and lie\n",
      "        within `t_span`. If None (default), use points selected by the solver.\n",
      "    dense_output : bool, optional\n",
      "        Whether to compute a continuous solution. Default is False.\n",
      "    events : callable, or list of callables, optional\n",
      "        Events to track. If None (default), no events will be tracked.\n",
      "        Each event occurs at the zeros of a continuous function of time and\n",
      "        state. Each function must have the signature ``event(t, y)`` where\n",
      "        additional argument have to be passed if ``args`` is used (see\n",
      "        documentation of ``args`` argument). Each function must return a\n",
      "        float. The solver will find an accurate value of `t` at which\n",
      "        ``event(t, y(t)) = 0`` using a root-finding algorithm. By default,\n",
      "        all zeros will be found. The solver looks for a sign change over\n",
      "        each step, so if multiple zero crossings occur within one step,\n",
      "        events may be missed. Additionally each `event` function might\n",
      "        have the following attributes:\n",
      "    \n",
      "            terminal: bool or int, optional\n",
      "                When boolean, whether to terminate integration if this event occurs.\n",
      "                When integral, termination occurs after the specified the number of\n",
      "                occurrences of this event.\n",
      "                Implicitly False if not assigned.\n",
      "            direction: float, optional\n",
      "                Direction of a zero crossing. If `direction` is positive,\n",
      "                `event` will only trigger when going from negative to positive,\n",
      "                and vice versa if `direction` is negative. If 0, then either\n",
      "                direction will trigger event. Implicitly 0 if not assigned.\n",
      "    \n",
      "        You can assign attributes like ``event.terminal = True`` to any\n",
      "        function in Python.\n",
      "    vectorized : bool, optional\n",
      "        Whether `fun` can be called in a vectorized fashion. Default is False.\n",
      "    \n",
      "        If ``vectorized`` is False, `fun` will always be called with ``y`` of\n",
      "        shape ``(n,)``, where ``n = len(y0)``.\n",
      "    \n",
      "        If ``vectorized`` is True, `fun` may be called with ``y`` of shape\n",
      "        ``(n, k)``, where ``k`` is an integer. In this case, `fun` must behave\n",
      "        such that ``fun(t, y)[:, i] == fun(t, y[:, i])`` (i.e. each column of\n",
      "        the returned array is the time derivative of the state corresponding\n",
      "        with a column of ``y``).\n",
      "    \n",
      "        Setting ``vectorized=True`` allows for faster finite difference\n",
      "        approximation of the Jacobian by methods 'Radau' and 'BDF', but\n",
      "        will result in slower execution for other methods and for 'Radau' and\n",
      "        'BDF' in some circumstances (e.g. small ``len(y0)``).\n",
      "    args : tuple, optional\n",
      "        Additional arguments to pass to the user-defined functions.  If given,\n",
      "        the additional arguments are passed to all user-defined functions.\n",
      "        So if, for example, `fun` has the signature ``fun(t, y, a, b, c)``,\n",
      "        then `jac` (if given) and any event functions must have the same\n",
      "        signature, and `args` must be a tuple of length 3.\n",
      "    **options\n",
      "        Options passed to a chosen solver. All options available for already\n",
      "        implemented solvers are listed below.\n",
      "    first_step : float or None, optional\n",
      "        Initial step size. Default is `None` which means that the algorithm\n",
      "        should choose.\n",
      "    max_step : float, optional\n",
      "        Maximum allowed step size. Default is np.inf, i.e., the step size is not\n",
      "        bounded and determined solely by the solver.\n",
      "    rtol, atol : float or array_like, optional\n",
      "        Relative and absolute tolerances. The solver keeps the local error\n",
      "        estimates less than ``atol + rtol * abs(y)``. Here `rtol` controls a\n",
      "        relative accuracy (number of correct digits), while `atol` controls\n",
      "        absolute accuracy (number of correct decimal places). To achieve the\n",
      "        desired `rtol`, set `atol` to be smaller than the smallest value that\n",
      "        can be expected from ``rtol * abs(y)`` so that `rtol` dominates the\n",
      "        allowable error. If `atol` is larger than ``rtol * abs(y)`` the\n",
      "        number of correct digits is not guaranteed. Conversely, to achieve the\n",
      "        desired `atol` set `rtol` such that ``rtol * abs(y)`` is always smaller\n",
      "        than `atol`. If components of y have different scales, it might be\n",
      "        beneficial to set different `atol` values for different components by\n",
      "        passing array_like with shape (n,) for `atol`. Default values are\n",
      "        1e-3 for `rtol` and 1e-6 for `atol`.\n",
      "    jac : array_like, sparse_matrix, callable or None, optional\n",
      "        Jacobian matrix of the right-hand side of the system with respect\n",
      "        to y, required by the 'Radau', 'BDF' and 'LSODA' method. The\n",
      "        Jacobian matrix has shape (n, n) and its element (i, j) is equal to\n",
      "        ``d f_i / d y_j``.  There are three ways to define the Jacobian:\n",
      "    \n",
      "            * If array_like or sparse_matrix, the Jacobian is assumed to\n",
      "              be constant. Not supported by 'LSODA'.\n",
      "            * If callable, the Jacobian is assumed to depend on both\n",
      "              t and y; it will be called as ``jac(t, y)``, as necessary.\n",
      "              Additional arguments have to be passed if ``args`` is\n",
      "              used (see documentation of ``args`` argument).\n",
      "              For 'Radau' and 'BDF' methods, the return value might be a\n",
      "              sparse matrix.\n",
      "            * If None (default), the Jacobian will be approximated by\n",
      "              finite differences.\n",
      "    \n",
      "        It is generally recommended to provide the Jacobian rather than\n",
      "        relying on a finite-difference approximation.\n",
      "    jac_sparsity : array_like, sparse matrix or None, optional\n",
      "        Defines a sparsity structure of the Jacobian matrix for a finite-\n",
      "        difference approximation. Its shape must be (n, n). This argument\n",
      "        is ignored if `jac` is not `None`. If the Jacobian has only few\n",
      "        non-zero elements in *each* row, providing the sparsity structure\n",
      "        will greatly speed up the computations [10]_. A zero entry means that\n",
      "        a corresponding element in the Jacobian is always zero. If None\n",
      "        (default), the Jacobian is assumed to be dense.\n",
      "        Not supported by 'LSODA', see `lband` and `uband` instead.\n",
      "    lband, uband : int or None, optional\n",
      "        Parameters defining the bandwidth of the Jacobian for the 'LSODA'\n",
      "        method, i.e., ``jac[i, j] != 0 only for i - lband <= j <= i + uband``.\n",
      "        Default is None. Setting these requires your jac routine to return the\n",
      "        Jacobian in the packed format: the returned array must have ``n``\n",
      "        columns and ``uband + lband + 1`` rows in which Jacobian diagonals are\n",
      "        written. Specifically ``jac_packed[uband + i - j , j] = jac[i, j]``.\n",
      "        The same format is used in `scipy.linalg.solve_banded` (check for an\n",
      "        illustration).  These parameters can be also used with ``jac=None`` to\n",
      "        reduce the number of Jacobian elements estimated by finite differences.\n",
      "    min_step : float, optional\n",
      "        The minimum allowed step size for 'LSODA' method.\n",
      "        By default `min_step` is zero.\n",
      "    \n",
      "    Returns\n",
      "    -------\n",
      "    Bunch object with the following fields defined:\n",
      "    t : ndarray, shape (n_points,)\n",
      "        Time points.\n",
      "    y : ndarray, shape (n, n_points)\n",
      "        Values of the solution at `t`.\n",
      "    sol : `OdeSolution` or None\n",
      "        Found solution as `OdeSolution` instance; None if `dense_output` was\n",
      "        set to False.\n",
      "    t_events : list of ndarray or None\n",
      "        Contains for each event type a list of arrays at which an event of\n",
      "        that type event was detected. None if `events` was None.\n",
      "    y_events : list of ndarray or None\n",
      "        For each value of `t_events`, the corresponding value of the solution.\n",
      "        None if `events` was None.\n",
      "    nfev : int\n",
      "        Number of evaluations of the right-hand side.\n",
      "    njev : int\n",
      "        Number of evaluations of the Jacobian.\n",
      "    nlu : int\n",
      "        Number of LU decompositions.\n",
      "    status : int\n",
      "        Reason for algorithm termination:\n",
      "    \n",
      "            * -1: Integration step failed.\n",
      "            *  0: The solver successfully reached the end of `tspan`.\n",
      "            *  1: A termination event occurred.\n",
      "    \n",
      "    message : string\n",
      "        Human-readable description of the termination reason.\n",
      "    success : bool\n",
      "        True if the solver reached the interval end or a termination event\n",
      "        occurred (``status >= 0``).\n",
      "    \n",
      "    References\n",
      "    ----------\n",
      "    .. [1] J. R. Dormand, P. J. Prince, \"A family of embedded Runge-Kutta\n",
      "           formulae\", Journal of Computational and Applied Mathematics, Vol. 6,\n",
      "           No. 1, pp. 19-26, 1980.\n",
      "    .. [2] L. W. Shampine, \"Some Practical Runge-Kutta Formulas\", Mathematics\n",
      "           of Computation,, Vol. 46, No. 173, pp. 135-150, 1986.\n",
      "    .. [3] P. Bogacki, L.F. Shampine, \"A 3(2) Pair of Runge-Kutta Formulas\",\n",
      "           Appl. Math. Lett. Vol. 2, No. 4. pp. 321-325, 1989.\n",
      "    .. [4] E. Hairer, G. Wanner, \"Solving Ordinary Differential Equations II:\n",
      "           Stiff and Differential-Algebraic Problems\", Sec. IV.8.\n",
      "    .. [5] `Backward Differentiation Formula\n",
      "            <https://en.wikipedia.org/wiki/Backward_differentiation_formula>`_\n",
      "            on Wikipedia.\n",
      "    .. [6] L. F. Shampine, M. W. Reichelt, \"THE MATLAB ODE SUITE\", SIAM J. SCI.\n",
      "           COMPUTE., Vol. 18, No. 1, pp. 1-22, January 1997.\n",
      "    .. [7] A. C. Hindmarsh, \"ODEPACK, A Systematized Collection of ODE\n",
      "           Solvers,\" IMACS Transactions on Scientific Computation, Vol 1.,\n",
      "           pp. 55-64, 1983.\n",
      "    .. [8] L. Petzold, \"Automatic selection of methods for solving stiff and\n",
      "           nonstiff systems of ordinary differential equations\", SIAM Journal\n",
      "           on Scientific and Statistical Computing, Vol. 4, No. 1, pp. 136-148,\n",
      "           1983.\n",
      "    .. [9] `Stiff equation <https://en.wikipedia.org/wiki/Stiff_equation>`_ on\n",
      "           Wikipedia.\n",
      "    .. [10] A. Curtis, M. J. D. Powell, and J. Reid, \"On the estimation of\n",
      "            sparse Jacobian matrices\", Journal of the Institute of Mathematics\n",
      "            and its Applications, 13, pp. 117-120, 1974.\n",
      "    .. [11] `Cauchy-Riemann equations\n",
      "             <https://en.wikipedia.org/wiki/Cauchy-Riemann_equations>`_ on\n",
      "             Wikipedia.\n",
      "    .. [12] `Lotka-Volterra equations\n",
      "            <https://en.wikipedia.org/wiki/Lotka%E2%80%93Volterra_equations>`_\n",
      "            on Wikipedia.\n",
      "    .. [13] E. Hairer, S. P. Norsett G. Wanner, \"Solving Ordinary Differential\n",
      "            Equations I: Nonstiff Problems\", Sec. II.\n",
      "    .. [14] `Page with original Fortran code of DOP853\n",
      "            <http://www.unige.ch/~hairer/software.html>`_.\n",
      "    \n",
      "    Examples\n",
      "    --------\n",
      "    Basic exponential decay showing automatically chosen time points.\n",
      "    \n",
      "    >>> import numpy as np\n",
      "    >>> from scipy.integrate import solve_ivp\n",
      "    >>> def exponential_decay(t, y): return -0.5 * y\n",
      "    >>> sol = solve_ivp(exponential_decay, [0, 10], [2, 4, 8])\n",
      "    >>> print(sol.t)\n",
      "    [ 0.          0.11487653  1.26364188  3.06061781  4.81611105  6.57445806\n",
      "      8.33328988 10.        ]\n",
      "    >>> print(sol.y)\n",
      "    [[2.         1.88836035 1.06327177 0.43319312 0.18017253 0.07483045\n",
      "      0.03107158 0.01350781]\n",
      "     [4.         3.7767207  2.12654355 0.86638624 0.36034507 0.14966091\n",
      "      0.06214316 0.02701561]\n",
      "     [8.         7.5534414  4.25308709 1.73277247 0.72069014 0.29932181\n",
      "      0.12428631 0.05403123]]\n",
      "    \n",
      "    Specifying points where the solution is desired.\n",
      "    \n",
      "    >>> sol = solve_ivp(exponential_decay, [0, 10], [2, 4, 8],\n",
      "    ...                 t_eval=[0, 1, 2, 4, 10])\n",
      "    >>> print(sol.t)\n",
      "    [ 0  1  2  4 10]\n",
      "    >>> print(sol.y)\n",
      "    [[2.         1.21305369 0.73534021 0.27066736 0.01350938]\n",
      "     [4.         2.42610739 1.47068043 0.54133472 0.02701876]\n",
      "     [8.         4.85221478 2.94136085 1.08266944 0.05403753]]\n",
      "    \n",
      "    Cannon fired upward with terminal event upon impact. The ``terminal`` and\n",
      "    ``direction`` fields of an event are applied by monkey patching a function.\n",
      "    Here ``y[0]`` is position and ``y[1]`` is velocity. The projectile starts\n",
      "    at position 0 with velocity +10. Note that the integration never reaches\n",
      "    t=100 because the event is terminal.\n",
      "    \n",
      "    >>> def upward_cannon(t, y): return [y[1], -0.5]\n",
      "    >>> def hit_ground(t, y): return y[0]\n",
      "    >>> hit_ground.terminal = True\n",
      "    >>> hit_ground.direction = -1\n",
      "    >>> sol = solve_ivp(upward_cannon, [0, 100], [0, 10], events=hit_ground)\n",
      "    >>> print(sol.t_events)\n",
      "    [array([40.])]\n",
      "    >>> print(sol.t)\n",
      "    [0.00000000e+00 9.99900010e-05 1.09989001e-03 1.10988901e-02\n",
      "     1.11088891e-01 1.11098890e+00 1.11099890e+01 4.00000000e+01]\n",
      "    \n",
      "    Use `dense_output` and `events` to find position, which is 100, at the apex\n",
      "    of the cannonball's trajectory. Apex is not defined as terminal, so both\n",
      "    apex and hit_ground are found. There is no information at t=20, so the sol\n",
      "    attribute is used to evaluate the solution. The sol attribute is returned\n",
      "    by setting ``dense_output=True``. Alternatively, the `y_events` attribute\n",
      "    can be used to access the solution at the time of the event.\n",
      "    \n",
      "    >>> def apex(t, y): return y[1]\n",
      "    >>> sol = solve_ivp(upward_cannon, [0, 100], [0, 10],\n",
      "    ...                 events=(hit_ground, apex), dense_output=True)\n",
      "    >>> print(sol.t_events)\n",
      "    [array([40.]), array([20.])]\n",
      "    >>> print(sol.t)\n",
      "    [0.00000000e+00 9.99900010e-05 1.09989001e-03 1.10988901e-02\n",
      "     1.11088891e-01 1.11098890e+00 1.11099890e+01 4.00000000e+01]\n",
      "    >>> print(sol.sol(sol.t_events[1][0]))\n",
      "    [100.   0.]\n",
      "    >>> print(sol.y_events)\n",
      "    [array([[-5.68434189e-14, -1.00000000e+01]]),\n",
      "     array([[1.00000000e+02, 1.77635684e-15]])]\n",
      "    \n",
      "    As an example of a system with additional parameters, we'll implement\n",
      "    the Lotka-Volterra equations [12]_.\n",
      "    \n",
      "    >>> def lotkavolterra(t, z, a, b, c, d):\n",
      "    ...     x, y = z\n",
      "    ...     return [a*x - b*x*y, -c*y + d*x*y]\n",
      "    ...\n",
      "    \n",
      "    We pass in the parameter values a=1.5, b=1, c=3 and d=1 with the `args`\n",
      "    argument.\n",
      "    \n",
      "    >>> sol = solve_ivp(lotkavolterra, [0, 15], [10, 5], args=(1.5, 1, 3, 1),\n",
      "    ...                 dense_output=True)\n",
      "    \n",
      "    Compute a dense solution and plot it.\n",
      "    \n",
      "    >>> t = np.linspace(0, 15, 300)\n",
      "    >>> z = sol.sol(t)\n",
      "    >>> import matplotlib.pyplot as plt\n",
      "    >>> plt.plot(t, z.T)\n",
      "    >>> plt.xlabel('t')\n",
      "    >>> plt.legend(['x', 'y'], shadow=True)\n",
      "    >>> plt.title('Lotka-Volterra System')\n",
      "    >>> plt.show()\n",
      "    \n",
      "    A couple examples of using solve_ivp to solve the differential\n",
      "    equation ``y' = Ay`` with complex matrix ``A``.\n",
      "    \n",
      "    >>> A = np.array([[-0.25 + 0.14j, 0, 0.33 + 0.44j],\n",
      "    ...               [0.25 + 0.58j, -0.2 + 0.14j, 0],\n",
      "    ...               [0, 0.2 + 0.4j, -0.1 + 0.97j]])\n",
      "    \n",
      "    Solving an IVP with ``A`` from above and ``y`` as 3x1 vector:\n",
      "    \n",
      "    >>> def deriv_vec(t, y):\n",
      "    ...     return A @ y\n",
      "    >>> result = solve_ivp(deriv_vec, [0, 25],\n",
      "    ...                    np.array([10 + 0j, 20 + 0j, 30 + 0j]),\n",
      "    ...                    t_eval=np.linspace(0, 25, 101))\n",
      "    >>> print(result.y[:, 0])\n",
      "    [10.+0.j 20.+0.j 30.+0.j]\n",
      "    >>> print(result.y[:, -1])\n",
      "    [18.46291039+45.25653651j 10.01569306+36.23293216j\n",
      "     -4.98662741+80.07360388j]\n",
      "    \n",
      "    Solving an IVP with ``A`` from above with ``y`` as 3x3 matrix :\n",
      "    \n",
      "    >>> def deriv_mat(t, y):\n",
      "    ...     return (A @ y.reshape(3, 3)).flatten()\n",
      "    >>> y0 = np.array([[2 + 0j, 3 + 0j, 4 + 0j],\n",
      "    ...                [5 + 0j, 6 + 0j, 7 + 0j],\n",
      "    ...                [9 + 0j, 34 + 0j, 78 + 0j]])\n",
      "    \n",
      "    >>> result = solve_ivp(deriv_mat, [0, 25], y0.flatten(),\n",
      "    ...                    t_eval=np.linspace(0, 25, 101))\n",
      "    >>> print(result.y[:, 0].reshape(3, 3))\n",
      "    [[ 2.+0.j  3.+0.j  4.+0.j]\n",
      "     [ 5.+0.j  6.+0.j  7.+0.j]\n",
      "     [ 9.+0.j 34.+0.j 78.+0.j]]\n",
      "    >>> print(result.y[:, -1].reshape(3, 3))\n",
      "    [[  5.67451179 +12.07938445j  17.2888073  +31.03278837j\n",
      "        37.83405768 +63.25138759j]\n",
      "     [  3.39949503 +11.82123994j  21.32530996 +44.88668871j\n",
      "        53.17531184+103.80400411j]\n",
      "     [ -2.26105874 +22.19277664j -15.1255713  +70.19616341j\n",
      "       -38.34616845+153.29039931j]]\n",
      "\n"
     ]
    }
   ],
   "source": [
    "from scipy.integrate import solve_ivp\n",
    "\n",
    "help(solve_ivp)"
   ]
  },
  {
   "cell_type": "markdown",
   "id": "adb8d27d",
   "metadata": {},
   "source": [
    "Wichtig für uns ist insbesondere die Beschreibung zu Beginn des Hilfetexts sowie die ersten Argumente.\n",
    "Für die weiter hinten stehenden Argumente ist es zunächst sinnvoll, die Defaultwerte zu belassen.\n",
    "Interessant ist aber auch das Ende des Hilfetexts, wo einige konkrete Beispiele aufgeführt werden.\n",
    "\n",
    "Wie wir der Beschreibung entnehmen können, ist {func}`solve_ivp` in der Lage, Systeme gewöhnlicher\n",
    "Differentialgleichungen zu lösen. Wir wollen mit dem einfachsten Fall, nämlich einer einzigen \n",
    "Differentialgleichung erster Ordnung, beginnen. Konkret wollen wir die Differentialgleichung\n",
    "\n",
    "$$\\dot x = -x^2$$\n",
    "\n",
    "mit der Anfangsbedingung $x(0)=1$ lösen. Hierbei handelt es sich um eine nichtlineare Differentialgleichung,\n",
    "die sich mittels des Verfahrens der Trennung der Variablen analytisch lösen lässt. Die zugehörige Lösung\n",
    "\n",
    "$$x(t) = \\frac{1}{1+t}$$\n",
    "\n",
    "erlaubt es uns, die Qualität der numerischen Lösung einzuschätzen. Wie wir dem Hilfetext entnehmen \n",
    "können, besitzen die ersten drei Argumente keinen Defaultwert, so dass wir diese Argumente auf jeden\n",
    "Fall spezifizieren müssen. Dabei handelt es sich um die Funktion auf der rechten Seite der Differentialgleichung\n",
    "\n",
    "$$\\frac{\\text{d}y}{\\text{d}t} = f(t, y)\\,,$$\n",
    "\n",
    "um ein Tupel, das die Anfangszeit $t_\\text{i}$ und die Endzeit $t_\\text{f}$ enthält, sowie den oder\n",
    "die Anfangswerte $y(0)$. Zu beachten ist, dass $t$ eine allgemeine unabhängige Variable ist, also keineswegs\n",
    "die Bedeutung einer Zeit haben muss. $y$ ist in unserem Fall eine skalare Funktion, für Systeme von\n",
    "Differentialgleichungen dagegen eine vektorwertige Funktion. Entsprechend ist $y(0)$ entweder ein Skalar\n",
    "oder ein Vektor.\n",
    "\n",
    "Damit sind wir nun in der Lage, {func}`solve_ivp` zur Lösung unserer Differentialgleichung einzusetzen.\n",
    "Um hinreichend viele Datenpunkte für eine graphische Darstellung zu erhalten, wollen wir außerdem die\n",
    "gewünschten Zeitpunkte festlegen, zu denen die Lösung ausgegeben wird."
   ]
  },
  {
   "cell_type": "code",
   "execution_count": 21,
   "id": "db7e4144",
   "metadata": {},
   "outputs": [],
   "source": [
    "import numpy as np\n",
    "\n",
    "t_span = (0, 5)\n",
    "y0 = [1]\n",
    "t_eval = np.linspace(*t_span, 100)\n",
    "sol = solve_ivp(lambda t, y: -y*y, t_span, y0, t_eval=t_eval)"
   ]
  },
  {
   "cell_type": "markdown",
   "id": "44aba075",
   "metadata": {},
   "source": [
    "An dieser Stelle sind noch ein paar Anmerkungen sinnvoll. Der Anfangswert `y0` muss laut Hilfetext immer\n",
    "Array-artig sein, und wir verwenden daher hier einfach eine Liste mit einem Element. `t_eval` enthält die\n",
    "uns interessierenden Zeitpunkte, wobei im ersten Argument der {func}`linspace` der Stern bedeutet, dass\n",
    "das Tupel `t_span` ausgepackt wird. Dies erspart es uns, explizit `t_span[0]` und `t_span[1]` anzugeben.\n",
    "Das Argument `t_eval` können wir hier nicht über die Position übergeben, da sonst als viertes Argument\n",
    "zunächst die Lösungsmethode angegeben werden müssen. Wir belassen es hier bei der defaultmäßig vorgesehenen\n",
    "Runge-Kutta-Methode. Schließlich entnehmen wir dem Hilfetext, dass `sol` eine ganze Reihe von Informationen\n",
    "über die Lösung enthält. Uns interessiert natürlich besonders die Lösung, die in `sol.y` enthalten ist.\n",
    "Damit können wir nun die numerische Lösung graphisch darstellen und mit der analytischen Lösung vergleichen."
   ]
  },
  {
   "cell_type": "code",
   "execution_count": 22,
   "id": "15efe9bb",
   "metadata": {},
   "outputs": [
    {
     "data": {
      "image/png": "[encoded data removed]",
      "text/plain": [
       "<Figure size 640x480 with 1 Axes>"
      ]
     },
     "metadata": {},
     "output_type": "display_data"
    }
   ],
   "source": [
    "import matplotlib.pyplot as plt\n",
    "\n",
    "y_analytisch = 1/(1+t_eval)\n",
    "plt.plot(t_eval, sol.y[0], 'o')\n",
    "plt.plot(t_eval, y_analytisch)\n",
    "plt.show()"
   ]
  },
  {
   "cell_type": "markdown",
   "id": "a0511b45",
   "metadata": {},
   "source": [
    "Da es schwierig ist, den Fehler der durch die blauen Punkte dargestellten numerischen Lösung im Vergleich\n",
    "zur als orangefarbige Linie dargestellten analytischen Lösung mit bloßem Auge zu beurteilen, stellen wir\n",
    "auch noch den relativen Fehler dar."
   ]
  },
  {
   "cell_type": "code",
   "execution_count": 23,
   "id": "8be1c494",
   "metadata": {},
   "outputs": [
    {
     "data": {
      "image/png": "[encoded data removed]",
      "text/plain": [
       "<Figure size 640x480 with 1 Axes>"
      ]
     },
     "metadata": {},
     "output_type": "display_data"
    }
   ],
   "source": [
    "plt.plot(t_eval, 1-sol.y[0]/y_analytisch)\n",
    "plt.show()"
   ]
  },
  {
   "cell_type": "markdown",
   "id": "541fe95d",
   "metadata": {},
   "source": [
    "Aus der Abbildung lässt sich entnehmen, dass der relative Fehler hier immerhin bis zu 3‰ beträgt. \n",
    "\n",
    "Auf den ersten Blick könnte man meinen, dass {func}`solve_ivp` nur zur Lösung von Differentialgleichungen\n",
    "erster Ordnung geeignet ist. Wie sieht es also zum Beispiel mit der Lösung der Bewegungsgleichung eines\n",
    "gedämpften harmonischen Oszillators\n",
    "\n",
    "$$\\ddot x + \\alpha\\dot x + x = 0$$\n",
    "\n",
    "aus? Der Trick besteht darin, diese Differentialgleichung zweiter Ordnung durch Einführung der Geschwindigkeit\n",
    "als Hilfsvariable in zwei Differentialgleichungen erster Ordnung umzuschreiben, womit wir ein System \n",
    "gewöhnlicher Differentialgleichungen erster Ordnung\n",
    "\n",
    "$$\\begin{align}\n",
    "\\dot v &= -x-\\alpha v\\\\\n",
    "\\dot x &= v\n",
    "\\end{align}$$\n",
    "\n",
    "erhalten. Dieses können wir mit Hilfe von {func}`solve_ivp` lösen. Als Anfangsbedingungen wollen wir \n",
    "$x(0) = 0, v(0) = 1$ wählen, das gedämpfte Pendel also in der Ruhelage anstoßen. Natürlich hätten wir\n",
    "eine kompliziertere Differentialgleichung wählen können, für die keine analytische Lösung zur Verfügung\n",
    "steht. Wir wollen aber auch hier am Ende die numerische mit der analytischen Lösung vergleichen."
   ]
  },
  {
   "cell_type": "code",
   "execution_count": 24,
   "id": "9d4469c8",
   "metadata": {},
   "outputs": [
    {
     "data": {
      "image/png": "[encoded data removed]",
      "text/plain": [
       "<Figure size 640x480 with 1 Axes>"
      ]
     },
     "metadata": {},
     "output_type": "display_data"
    }
   ],
   "source": [
    "def ableitung(t, y, alpha):\n",
    "    x, v = y\n",
    "    return [v, -x-alpha*v]\n",
    "\n",
    "t_span = (0, 20)\n",
    "t_eval = np.linspace(*t_span, 300)\n",
    "anfangsbedingungen = [0, 1]\n",
    "alpha = 0.3\n",
    "sol = solve_ivp(ableitung, t_span, anfangsbedingungen, t_eval=t_eval, args=(alpha,))\n",
    "plt.plot(t_eval, sol.y[0])\n",
    "plt.plot(t_eval, sol.y[1])\n",
    "plt.show()"
   ]
  },
  {
   "cell_type": "markdown",
   "id": "63950e81",
   "metadata": {},
   "source": [
    "Im Gegensatz zum ersten Beispiel verlangt die Funktion, die wir hier `ableitung` genannt haben, neben\n",
    "den Argumenten `t` und `y` noch den Parameter `alpha`. Dieser wird in einem Tupel an das Argument `args`\n",
    "von {func}`solve_ivp` übergeben. Die Lösung in `sol.y` ist ein Vektor, so dass wir bereits im ersten\n",
    "Beispiel explizit `sol.y[0]` angeben mussten, um die Lösungsfunktion zu erhalten. Hier können wir nun\n",
    "sowohl den Ort (blau dargestellt) als auch die Geschwindigkeit (orange dargestellt) als Komponenten\n",
    "extrahieren.\n",
    "\n",
    "Sehen wir uns abschließend noch die Differenz zur analytischen Lösung an."
   ]
  },
  {
   "cell_type": "code",
   "execution_count": 25,
   "id": "99a00230",
   "metadata": {},
   "outputs": [
    {
     "data": {
      "image/png": "[encoded data removed]",
      "text/plain": [
       "<Figure size 640x480 with 1 Axes>"
      ]
     },
     "metadata": {},
     "output_type": "display_data"
    }
   ],
   "source": [
    "def y_analytisch(t, alpha):\n",
    "    omega = np.sqrt(1-0.25*alpha**2)\n",
    "    return np.exp(-0.5*alpha*t)*np.sin(omega*t)/omega\n",
    "\n",
    "plt.plot(t_eval, sol.y[0]-y_analytisch(t_eval, alpha))\n",
    "plt.show()"
   ]
  },
  {
   "cell_type": "markdown",
   "id": "df6ef74d",
   "metadata": {},
   "source": [
    "Auch in diesem Fall erhalten wir einen Fehler von einigen Promille. Benötigt man eine genauere Lösung,\n",
    "so kann die Parameter `atol` für den absoluten Fehler und `rtol` für den relativen Fehler entsprechend\n",
    "anpassen. Weitere Informationen hierzu finden sich in obigem Hilfetext zu {func}`solve_ivp`.\n",
    "\n",
    "Zum Abschluss dieses Kapitels betonen wir noch einmal, dass wir hier nur einen\n",
    "winzigen Eindruck von den vielfältigen Möglichkeiten geben konnten, die NumPy\n",
    "und SciPy bieten. Es lohnt sich daher, einen Blick in die [Dokumentation von\n",
    "NumPy](https://numpy.org/doc/stable/) und die [Dokumentation von\n",
    "SciPy](https://docs.scipy.org/doc/scipy/reference/) oder zumindest die\n",
    "Überschriften der [API-Dokumentation von\n",
    "SciPy](https://docs.scipy.org/doc/scipy/reference/#api-reference) zu werfen."
   ]
  }
 ],
 "metadata": {
  "file_format": "mystnb",
  "kernelspec": {
   "display_name": "python3",
   "name": "python3"
  },
  "language_info": {
   "codemirror_mode": {
    "name": "ipython",
    "version": 3
   },
   "file_extension": ".py",
   "mimetype": "text/x-python",
   "name": "python",
   "nbconvert_exporter": "python",
   "pygments_lexer": "ipython3",
   "version": "3.11.0"
  },
  "source_map": [
   5,
   80,
   86,
   102,
   104,
   121,
   125,
   131,
   141,
   161,
   166,
   170,
   178,
   180,
   182,
   190,
   192,
   211,
   219,
   227,
   232,
   235,
   241,
   250,
   252,
   257,
   260,
   264,
   268,
   272,
   277,
   281,
   285,
   312,
   318,
   324,
   328,
   341,
   347,
   366,
   373,
   404,
   411,
   421,
   428,
   432,
   435,
   457,
   470,
   479,
   486
  ]
 },
 "nbformat": 4,
 "nbformat_minor": 5
}