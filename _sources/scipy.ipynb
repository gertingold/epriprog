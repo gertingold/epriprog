{
 "cells": [
  {
   "cell_type": "markdown",
   "id": "outside-passion",
   "metadata": {},
   "source": [
    "(scipy)=\n",
    "# Numerische Programmbibliotheken am Beispiel von NumPy/SciPy\n",
    "\n",
    "```{admonition} Hinweis\n",
    ":class: warning\n",
    "Dieses Kapitel befindet sich noch in Bearbeitung.\n",
    "```\n",
    "\n",
    "In den bisherigen Kapiteln hatten wir immer wieder Gelegenheit, auf\n",
    "Möglichkeiten hinzuweisen, die die Python-Standardbibliothek bietet. Wenn man\n",
    "die dort zur Verfügung gestellten Module verwendet, kann man sich Einiges an\n",
    "Arbeit sparen und dabei auch den Code effizienter und übersichtlicher\n",
    "gestalten.  Neben der Python-Standardbibliothek gibt es aber auch noch viele\n",
    "interessante Programmpakete, die häufig über den [Python Package\n",
    "Index](https://pypi.org/) zur Verfügung gestellt werden.\n",
    "\n",
    "Gerade für Problemstellungen in den Natur- und Ingenieurwissenschaften gibt es\n",
    "eine oft als *scientific ecosystem of Python* oder *scientific stack*\n",
    "bezeichnete Sammlung von zentralen Paketen. Hierzu gehört als Basispaket\n",
    "zunächst [NumPy](http://numpy.org/), das den Datentyp `ndarray` sowie Methoden\n",
    "zur Verfügung stellt, um mit `ndarray`-Objekten zu arbeiten. Damit wird das\n",
    "Rechnen mit Vektoren und Matrizen ermöglicht, das wir bei der Besprechung von\n",
    "Listen in {numref}`listen` vermisst hatten.\n",
    "\n",
    "Ein weiteres wichtiges Paket ist [SciPy](https://docs.scipy.org/doc/scipy/reference/), das vielfältige numerische Werkzeuge zur Verfügung stellt, beispielsweise\n",
    "zur numerischen Integration oder der Lösung von Differentialgleichungssystemen,\n",
    "zur Lösung von Optimierungsproblemen oder zur Berechnung von speziellen \n",
    "Funktion sowie vielem Anderem mehr. In diesem Kapitel werden wir einen\n",
    "ersten Eindruck von den Möglichkeiten geben, die NumPy und SciPy bereitstellen.\n",
    "\n",
    "Weitere zentrale Pakete, die in diesem Zusammenhang zu nennen sind, wären\n",
    "[Matplotlib](http://matplotlib.org/) zur graphischen Darstellung von Daten,\n",
    "[IPython](http://ipython.org/), eine interaktive Python-Konsole, die für das\n",
    "[Projekt Jupyter](https://jupyter.org/), das unter anderem die Jupyter\n",
    "Notebooks zur Verfügung stellt, von zentraler Bedeutung war und ist,\n",
    "[SymPy](http://sympy.org/) für das symbolische Rechnen sowie das im\n",
    "{numref}`readfile` bereits erwähnte [pandas](http://pandas.pydata.org/),\n",
    "das fortgeschrittene Datenstrukturen und vielfältige Methoden zu einer\n",
    "effizienten Datenanalyse bereithält.\n",
    "\n",
    "Auf der Basis dieser Pakete haben einzelne wissenschaftliche Disziplinen\n",
    "umfangreiche, auf ihre speziellen Bedürfnisse zugeschnittene Programmpakete\n",
    "entwickelt. So kann [Astropy](https://www.astropy.org/) als Standard in der\n",
    "Astronomie angesehen werden. [QuTiP](http://qutip.org/), die *Quantum Toolbox\n",
    "in Python* erlaubt die Simulation von Quantensystemen. Für Problemstellungen,\n",
    "die sich mit finite-Elemente-Methoden lösen lassen, steht\n",
    "[FEniCS](https://fenicsproject.org/) zur Verfügung. Diese Aufzählung könnte\n",
    "fast beliebig fortgesetzt werden und soll nur dazu dienen, einen allerersten\n",
    "Eindruck von der Vielfalt der zur Verfügung stehenden\n",
    "Python-Programmbibliotheken zu geben.\n",
    "\n",
    "````{margin}\n",
    "```{seealso} \n",
    "Quellen für hier besprochene Programmpakete:\n",
    "[NumPy auf Github](https://github.com/numpy/numpy),\n",
    "[SciPy auf Github](https://github.com/scipy/scipy)\n",
    "```\n",
    "````\n",
    "\n",
    "Nachdem die Benutzung professioneller Programmpakete gelegentlich mit hohen\n",
    "Kosten verbunden sein kann, ist es erwähnenswert, dass die hier aufgeführten\n",
    "Pakete frei verfügbar, aber dennoch von sehr hoher Qualität sind. Zwei Beispiele\n",
    "prominenter Forschungsprojekte, deren Arbeit wesentlich auf einigen der hier\n",
    "genannten Pakete, sind in {numref}`warumpython` genannt. Darüber hinaus ist\n",
    "der Quellcode der Pakete verfügbar, so dass man sich bei Bedarf auch die\n",
    "konkrete Implementierung ansehen sowie zur Weiterentwicklung beitragen kann.\n",
    "\n",
    "## Installation\n",
    "\n",
    "Da NumPy und SciPy nicht in der Python-Standardbibliothek enthalten sind, stehen\n",
    "diese Programmpakete auch bei einer vorhandenen Python-Installation nicht\n",
    "automatisch zur Verfügung. Dies lässt sich leicht überprüfen, indem man versucht,\n",
    "die beiden Pakete zu importieren. Schlägt dies fehl, so erhält man einen\n",
    "`ImportError`, der impliziert, dass Python die Pakete nicht finden kann.\n",
    "Außerdem lässt sich die installierte Version anzeigen, was deswegen interessant\n",
    "sein kann, weil gelegentlich neue Funktionalität zu den Paketen hinzugefügt\n",
    "wird. Beachten Sie, dass vor und nach `version` jeweils zwei Unterstriche\n",
    "stehen müssen."
   ]
  },
  {
   "cell_type": "code",
   "execution_count": 1,
   "id": "mounted-taiwan",
   "metadata": {},
   "outputs": [
    {
     "name": "stdout",
     "output_type": "stream",
     "text": [
      "numpy.__version__ = '1.19.2'\n",
      "scipy.__version__ = '1.5.2'\n"
     ]
    }
   ],
   "source": [
    "import numpy\n",
    "import scipy\n",
    "\n",
    "print(f'{numpy.__version__ = }')\n",
    "print(f'{scipy.__version__ = }')"
   ]
  },
  {
   "cell_type": "markdown",
   "id": "pointed-northeast",
   "metadata": {},
   "source": [
    "Eine einfache und empfehlenswerte Möglichkeit, NumPy und SciPy unter Windows,\n",
    "MacOS oder Linuxvarianten wie Ubuntu verfügbar zu machen, besteht darin, die\n",
    "[Anaconda-Distribution](https://www.anaconda.com/products/individual) zu\n",
    "installieren. Dabei werden allerdings gleichzeitig zahlreiche andere, für\n",
    "wissenschaftliche Zwecke interessante Programmpakete installiert.  Ist dies\n",
    "nicht erwünscht, zum Beispiel wegen des relativ großen Bedarfs an\n",
    "Speicherplatz, kann man NumPy und SciPy auch gezielt auf einem der Wege\n",
    "installieren, die in der [Installationsanleitung für\n",
    "NumPy](https://numpy.org/install/) und der [Installationsanleitung für\n",
    "SciPy](https://www.scipy.org/install.html) beschrieben sind.\n",
    "\n",
    "## Arrays und Anwendungen\n",
    "\n",
    "Für die Arbeit mit dem NumPy-Paket ist es üblich, für `numpy` die Abkürzung\n",
    "`np` einzuführen."
   ]
  },
  {
   "cell_type": "code",
   "execution_count": 2,
   "id": "fantastic-priest",
   "metadata": {},
   "outputs": [],
   "source": [
    "import numpy as np"
   ]
  },
  {
   "cell_type": "markdown",
   "id": "worse-checkout",
   "metadata": {},
   "source": [
    "Dies bedeutet, dass man bei der Verwendung von NumPy vor die entsprechenden\n",
    "Funktionen jeweils `np.` setzen muss. Diese Abkürzung verringert den Tippaufwand\n",
    "und macht zum anderen sofort erkenntlich, wenn es sich um eine Funktion aus dem\n",
    "NumPy-Paket handelt. Dies ist unter anderem deswegen wichtig, weil NumPy unter\n",
    "anderem auch Funktionen wie die Exponentialfunktion {func}`exp` zur Verfügung\n",
    "stellt, die von der Exponentialfunktion aus dem `math`-Modul unterschieden werden\n",
    "muss.\n",
    "\n",
    "Das zentrale Objekt, das durch das NumPy-Paket zur Verfügung gestellt wird, ist\n",
    "das `ndarray`, wobei die Abkürzung für N-dimensionales Array steht. Hiermit lassen\n",
    "sich also Vektoren und Matrizen von im Prinzip beliebiger Dimension darstellen,\n",
    "wobei alle Einträge vom gleichen Datentyp sind.\n",
    "\n",
    "Es gibt eine ganze Reihe von Möglichkeiten, solche Arrays zu konstruieren. Wir\n",
    "beginnen damit eine Matrix aus einer Liste oder im Allgemeinen Listen von Listen\n",
    "zu erzeugen."
   ]
  },
  {
   "cell_type": "code",
   "execution_count": 3,
   "id": "relative-plymouth",
   "metadata": {},
   "outputs": [
    {
     "name": "stdout",
     "output_type": "stream",
     "text": [
      "<class 'numpy.ndarray'>\n",
      "[[ 1.3  2.5]\n",
      " [-1.7  3.9]]\n"
     ]
    }
   ],
   "source": [
    "matrixA = np.array([[1.3, 2.5], [-1.7, 3.9]])\n",
    "print(type(matrixA))\n",
    "print(matrixA)"
   ]
  },
  {
   "cell_type": "markdown",
   "id": "round-auckland",
   "metadata": {},
   "source": [
    "Für `ndarray`s ist eine Matrixmultiplikation definiert. Um dies zu demonstrieren,\n",
    "definieren wir ein zweites Array und führen die Matrixmultiplikation aus. Dafür\n",
    "können wir die Funktion `np.dot` verwenden oder den `@`-Operator, der in moderneren\n",
    "Versionen des NumPy-Pakets definiert ist. Anschließend überprüfen wir das Ergebnis\n",
    "am 00-Element."
   ]
  },
  {
   "cell_type": "code",
   "execution_count": 4,
   "id": "successful-tablet",
   "metadata": {},
   "outputs": [
    {
     "name": "stdout",
     "output_type": "stream",
     "text": [
      "[[ 1.3  2.5]\n",
      " [-1.7  3.9]]\n",
      "\n",
      "[[ 2.1 -4.5]\n",
      " [ 0.9 -2.1]]\n",
      "\n",
      "[[  4.98 -11.1 ]\n",
      " [ -0.06  -0.54]]\n",
      "\n",
      "1.3*2.1 + 2.5*0.9 = 4.98\n"
     ]
    }
   ],
   "source": [
    "matrixB = np.array([[2.1, -4.5], [0.9, -2.1]])\n",
    "print(matrixA)\n",
    "print()\n",
    "print(matrixB)\n",
    "print()\n",
    "print(matrixA @ matrixB)\n",
    "print()\n",
    "print(f'{matrixA[0, 0]}*{matrixB[0, 0]} + {matrixA[0, 1]}*{matrixB[1, 0]} = '\n",
    "      f'{matrixA[0, 0]*matrixB[0, 0] + matrixA[0, 1]*matrixB[1, 0]}')"
   ]
  },
  {
   "cell_type": "markdown",
   "id": "medieval-measure",
   "metadata": {},
   "source": [
    "Dabei zeigen die letzten beiden Zeilen, wie man Elemente des Arrays adressieren\n",
    "kann, nämlich indem die Indizes für die einzelnen Dimensionen durch Komma getrennt\n",
    "in eckigen Klammern angegeben werden.\n",
    "\n",
    "```{admonition} Multiplikationsoperatoren @ und *\n",
    ":class: warning\n",
    "Beachten Sie, dass der normale Multiplikationsoperator `*` die beiden Matrizen\n",
    "elementweise multipliziert und somit keine Matrixmultiplikation ausführt, wie\n",
    "es `@` verlangt. Probieren Sie es an einem Beispiel selbst aus!\n",
    "```\n",
    "\n",
    "Wie bei Listen kann die Adressierung auch mit Hilfe von Slices erfolgen, so dass\n",
    "man bequem Untermatrizen extrahieren kann. Wichtig dabei ist, dass hier kein neues\n",
    "Array erzeugt wird, sondern nur eine andere Sicht auf das bereits existierende Array\n",
    "bereitgestellt wird. Dadurch ist ein solcher Zugriff sehr effizient. In diesem\n",
    "Beispiel verwenden wird zur schnellen Erzeugung eines etwas größeren Arrays die\n",
    "{func}`arange`-Funktion, die mit mit {func}`range` vergleichbar ist, aber eben ein\n",
    "zunächst eindimensionales Array erzeugt. Dieses können wir dann mit der\n",
    "{func}`reshape`-Methode beispielsweise in ein zweidimensionales Array umwandeln."
   ]
  },
  {
   "cell_type": "code",
   "execution_count": 5,
   "id": "ranking-cooking",
   "metadata": {},
   "outputs": [
    {
     "name": "stdout",
     "output_type": "stream",
     "text": [
      "[[ 0  1  2  3  4  5]\n",
      " [ 6  7  8  9 10 11]\n",
      " [12 13 14 15 16 17]\n",
      " [18 19 20 21 22 23]\n",
      " [24 25 26 27 28 29]\n",
      " [30 31 32 33 34 35]]\n",
      "\n",
      "[[ 9 10]\n",
      " [15 16]]\n"
     ]
    }
   ],
   "source": [
    "matrixC = np.arange(36).reshape(6, 6)\n",
    "print(matrixC)\n",
    "print()\n",
    "print(matrixC[1:3, 3:5])"
   ]
  },
  {
   "cell_type": "markdown",
   "id": "reserved-thought",
   "metadata": {},
   "source": [
    "In der letzten Zeile extrahieren wir eine Untermatrix. Dabei bezieht sich das erste\n",
    "Slice auf die Zeilen und das zweite Slice auf die Spalten. So können wir auch eine\n",
    "Zerlegung in Blockmatrizen vornehmen."
   ]
  },
  {
   "cell_type": "code",
   "execution_count": 6,
   "id": "funny-spencer",
   "metadata": {},
   "outputs": [
    {
     "name": "stdout",
     "output_type": "stream",
     "text": [
      "[[ 0  1  2]\n",
      " [ 6  7  8]\n",
      " [12 13 14]]\n",
      "\n",
      "[[ 3  4  5]\n",
      " [ 9 10 11]\n",
      " [15 16 17]]\n",
      "\n",
      "[[18 19 20]\n",
      " [24 25 26]\n",
      " [30 31 32]]\n",
      "\n",
      "[[21 22 23]\n",
      " [27 28 29]\n",
      " [33 34 35]]\n"
     ]
    }
   ],
   "source": [
    "print(matrixC[:3, :3])\n",
    "print()\n",
    "print(matrixC[:3, 3:])\n",
    "print()\n",
    "print(matrixC[3:, :3])\n",
    "print()\n",
    "print(matrixC[3:, 3:])"
   ]
  },
  {
   "cell_type": "markdown",
   "id": "extraordinary-princess",
   "metadata": {},
   "source": [
    "Zudem kann die Möglichkeit eines Slices, die Schrittweite anzugeben, verwenden."
   ]
  },
  {
   "cell_type": "code",
   "execution_count": 7,
   "id": "checked-bottom",
   "metadata": {},
   "outputs": [
    {
     "name": "stdout",
     "output_type": "stream",
     "text": [
      "[[ 0  3]\n",
      " [12 15]\n",
      " [24 27]]\n"
     ]
    }
   ],
   "source": [
    "print(matrixC[::2, ::3])"
   ]
  },
  {
   "cell_type": "markdown",
   "id": "herbal-beatles",
   "metadata": {},
   "source": [
    "Während wir bei Listen gewohnt sind, diese mit der {func}`append`-Methode um weitere\n",
    "Elemente zu erweitern, sollte man ein solches Vorgehen bei Arrays vermeiden. Da dabei\n",
    "jeweils ein neues Array erzeugt wird, wäre ein solches Vorgehen äußerst ineffizient.\n",
    "Stattdessen legt man das Array zunächst in der benötigten Größe an, zum Beispiel mit\n",
    "Hilfe von {func}`np.zeros` oder {func}`np.ones`. Das folgende Beispiel illustriert,\n",
    "wie man die Dimension des Arrays sowie den Datentyp festlegen kann und was die\n",
    "Multiplikation des Arrays mit einer Zahl bedeutet."
   ]
  },
  {
   "cell_type": "code",
   "execution_count": 8,
   "id": "tight-magic",
   "metadata": {},
   "outputs": [
    {
     "data": {
      "text/plain": [
       "array([[[5, 5, 5, 5],\n",
       "        [5, 5, 5, 5],\n",
       "        [5, 5, 5, 5]],\n",
       "\n",
       "       [[5, 5, 5, 5],\n",
       "        [5, 5, 5, 5],\n",
       "        [5, 5, 5, 5]]])"
      ]
     },
     "execution_count": 8,
     "metadata": {},
     "output_type": "execute_result"
    }
   ],
   "source": [
    "5*np.ones(shape=(2, 3, 4), dtype=np.int)"
   ]
  },
  {
   "cell_type": "markdown",
   "id": "christian-stability",
   "metadata": {},
   "source": [
    "```{admonition} Integer-Arrays\n",
    ":class: warning\n",
    "Bei Python sind wir gewohnt, dass Integer im Prinzip beliebig groß werden können.\n",
    "Bei `ndarray`s mit Datentyp Integer ist dies nicht der Fall. Der mögliche\n",
    "Zahlenbereich ist je nach dem gewählten Integertyp eingeschränkt. Genaueres hierzu\n",
    "findet man in der [NumPy-Dokumentation zu Datentypen](https://numpy.org/doc/stable/user/basics.types.html).\n",
    "```\n",
    "\n",
    "Statt NumPy-Arrays im Detail zu diskutieren, wollen wir im Folgenden einen Eindruck von\n",
    "einigen Möglichkeiten geben, die dieser Datentyp bietet. Für die Arbeit mit `ndarray`s\n",
    "sollten man sich aber auf jeden Fall genauer mit diesen vertraut machen. Wir verweisen\n",
    "hierzu zum Beispiel auf die [NumPy-Dokumentation](https://numpy.org/doc/stable/), aber auch\n",
    "auf [Teil 1](https://youtu.be/R2rCYf3pv-M) und [Teil 2](https://youtu.be/sunNXIxIGV8) eines\n",
    "Videotutorials.\n",
    "\n",
    "Zu Beginn des Kapitels hatten wir gesehen, wie man Matrizen miteinander multiplizieren kann.\n",
    "Für Vektoren erhält man auf diese Weise unmittelbar das Skalarprodukt. Darüber hinaus kann man\n",
    "auch das Kreuzprodukt und das dyadische Produkt mit Hilfe von NumPy berechnen."
   ]
  },
  {
   "cell_type": "code",
   "execution_count": 9,
   "id": "consecutive-contribution",
   "metadata": {},
   "outputs": [
    {
     "name": "stdout",
     "output_type": "stream",
     "text": [
      "-2\n",
      "\n",
      "[ 0  0 23]\n",
      "\n",
      "[[ 10   8   0]\n",
      " [-15 -12   0]\n",
      " [  0   0   0]]\n"
     ]
    }
   ],
   "source": [
    "vecA = np.array([2, -3, 0])\n",
    "vecB = np.array([5, 4, 0])\n",
    "print(np.dot(vecA, vecB))\n",
    "print()\n",
    "print(np.cross(vecA, vecB))\n",
    "print()\n",
    "print(np.outer(vecA, vecB))"
   ]
  },
  {
   "cell_type": "markdown",
   "id": "working-counter",
   "metadata": {},
   "source": [
    "Statt {func}`np.dot` hätten wir natürlich auch wieder den `@`-Operator verwenden können.\n",
    "\n",
    "Interessant sind die von NumPy zur Verfügung gestellten *universal functions* oder *ufuncs*,\n",
    "die als Argumente NumPy-Arrays akzeptieren und damit effizient Funktionen in einem Schritt\n",
    "für eine größere Anzahl von Argumenten auswerten können. In dem folgenden Beispiel demonstrieren\n",
    "wir zugleich die Verwendung der {func}`linspace`-Funktion, um eine Liste äquidistanter Werte\n",
    "zu erzeugen."
   ]
  },
  {
   "cell_type": "code",
   "execution_count": 10,
   "id": "absolute-transcript",
   "metadata": {},
   "outputs": [
    {
     "name": "stdout",
     "output_type": "stream",
     "text": [
      "[0.  0.2 0.4 0.6 0.8 1.  1.2 1.4 1.6 1.8 2. ]\n",
      "[1.         1.22140276 1.4918247  1.8221188  2.22554093 2.71828183\n",
      " 3.32011692 4.05519997 4.95303242 6.04964746 7.3890561 ]\n"
     ]
    }
   ],
   "source": [
    "x = np.linspace(0, 2, 11)\n",
    "print(x)\n",
    "y = np.exp(x)\n",
    "print(y)"
   ]
  },
  {
   "cell_type": "markdown",
   "id": "local-identity",
   "metadata": {},
   "source": [
    "Die Exponentialfunktion aus dem `math`-Modul ist dagegen nicht in der Lage, NumPy-Arrays als\n",
    "Argument zu akzeptieren."
   ]
  },
  {
   "cell_type": "code",
   "execution_count": 11,
   "id": "irish-result",
   "metadata": {
    "tags": [
     "raises-exception"
    ]
   },
   "outputs": [
    {
     "ename": "TypeError",
     "evalue": "only size-1 arrays can be converted to Python scalars",
     "output_type": "error",
     "traceback": [
      "\u001b[0;31m---------------------------------------------------------------------------\u001b[0m",
      "\u001b[0;31mTypeError\u001b[0m                                 Traceback (most recent call last)",
      "\u001b[0;32m<ipython-input-11-6294dfbcf095>\u001b[0m in \u001b[0;36m<module>\u001b[0;34m\u001b[0m\n\u001b[1;32m      1\u001b[0m \u001b[0;32mimport\u001b[0m \u001b[0mmath\u001b[0m\u001b[0;34m\u001b[0m\u001b[0;34m\u001b[0m\u001b[0m\n\u001b[0;32m----> 2\u001b[0;31m \u001b[0my\u001b[0m \u001b[0;34m=\u001b[0m \u001b[0mmath\u001b[0m\u001b[0;34m.\u001b[0m\u001b[0mexp\u001b[0m\u001b[0;34m(\u001b[0m\u001b[0mx\u001b[0m\u001b[0;34m)\u001b[0m\u001b[0;34m\u001b[0m\u001b[0;34m\u001b[0m\u001b[0m\n\u001b[0m",
      "\u001b[0;31mTypeError\u001b[0m: only size-1 arrays can be converted to Python scalars"
     ]
    }
   ],
   "source": [
    "import math\n",
    "y = math.exp(x)"
   ]
  },
  {
   "cell_type": "markdown",
   "id": "infrared-choir",
   "metadata": {},
   "source": [
    "An dieser Stelle wird deutlich, wie nützlich es sein kann, aus dem Code direkt ersehen zu\n",
    "können, aus welchem Modul die Exponentialfunktion verwendet wird. Das NumPy-Paket stellt\n",
    "*ufuncs* für die üblichen Standardfunktionen zur Verfügung. Für viele spezielle Funktionen\n",
    "wird man im SciPy-Paket fündig.\n",
    "\n",
    "Zum Abschluss dieses kurzen Einblicks in das NumPy-Paket wollen wir noch einen Blick auf\n",
    "häufig benötigte Funktionen aus der linearen Algebra werfen. Diese befinden sich im `linalg`-Modul\n",
    "von NumPy, das üblicherweise unter dem Namen `LA` importiert wird."
   ]
  },
  {
   "cell_type": "code",
   "execution_count": 12,
   "id": "continent-store",
   "metadata": {},
   "outputs": [],
   "source": [
    "from numpy import linalg as LA"
   ]
  },
  {
   "cell_type": "markdown",
   "id": "developmental-fellow",
   "metadata": {},
   "source": [
    "Für die Beispiele verwenden wir der Übersichtlichkeit halber nur 2×2-Matrizen, für die wir\n",
    "alle Rechnungen natürlich auch leicht analytisch durchführen könnten. Selbstverständlich kann\n",
    "NumPy auch mit viel größeren Matrizen umgehen. Wir definieren also eine 2×2-Matrix und berechnen\n",
    "zunächst ihre Determinante."
   ]
  },
  {
   "cell_type": "code",
   "execution_count": 13,
   "id": "pressed-consultation",
   "metadata": {},
   "outputs": [
    {
     "name": "stdout",
     "output_type": "stream",
     "text": [
      "-1.0\n"
     ]
    }
   ],
   "source": [
    "a = np.array([[1, 3], [2, 5]])\n",
    "print(LA.det(a))"
   ]
  },
  {
   "cell_type": "markdown",
   "id": "egyptian-business",
   "metadata": {},
   "source": [
    "Als nächstes berechnen wir die Inverse und obwohl bei diesem Wert der Determinante die Korrektheit\n",
    "des Ergebnisses mehr oder weniger offensichtlich ist, berechnen wir gleich noch das Produkt\n",
    "aus der Matrix und ihrer Inversen, das erwartungsgemäß die Einheitsmatrix ergibt."
   ]
  },
  {
   "cell_type": "code",
   "execution_count": 14,
   "id": "contrary-issue",
   "metadata": {},
   "outputs": [
    {
     "name": "stdout",
     "output_type": "stream",
     "text": [
      "[[-5.  3.]\n",
      " [ 2. -1.]]\n",
      "[[1. 0.]\n",
      " [0. 1.]]\n"
     ]
    }
   ],
   "source": [
    "a_inv = LA.inv(a)\n",
    "print(a_inv)\n",
    "print(a @ a_inv)"
   ]
  },
  {
   "cell_type": "markdown",
   "id": "induced-family",
   "metadata": {},
   "source": [
    "Für Anwendungen sehr wichtig ist die Möglichkeit, Eigenwertprobleme zu lösen. Berechnen wir also\n",
    "die Eigenwerte und Eigenvektoren der Matrix."
   ]
  },
  {
   "cell_type": "code",
   "execution_count": 15,
   "id": "animated-target",
   "metadata": {},
   "outputs": [
    {
     "name": "stdout",
     "output_type": "stream",
     "text": [
      "[-0.16227766  6.16227766]\n",
      "-0.9999999999999984\n",
      "[[-0.93246475 -0.50245469]\n",
      " [ 0.36126098 -0.86460354]]\n"
     ]
    }
   ],
   "source": [
    "eigenwerte, eigenvektoren = LA.eig(a)\n",
    "print(eigenwerte)\n",
    "print(eigenwerte[0]*eigenwerte[1])\n",
    "print(eigenvektoren)"
   ]
  },
  {
   "cell_type": "markdown",
   "id": "simplified-going",
   "metadata": {},
   "source": [
    "der zweiten Ausgabezeile entnehmen als ersten Test, dass das Produkt der Eigenwerte, bis auf\n",
    "Rundungsfehler, gleich der oben erhaltenen Determinanten ist. Überprüfen wir zum Abschluss noch\n",
    "die Korrektheit der Eigenvektoren."
   ]
  },
  {
   "cell_type": "code",
   "execution_count": 16,
   "id": "clear-circular",
   "metadata": {},
   "outputs": [
    {
     "name": "stdout",
     "output_type": "stream",
     "text": [
      "[ 0.1513182  -0.05862459] [ 0.1513182  -0.05862459]\n",
      "[-3.09626531 -5.32792709] [-3.09626531 -5.32792709]\n"
     ]
    }
   ],
   "source": [
    "for idx in range(2):\n",
    "    print(a @ eigenvektoren[:, idx],\n",
    "          eigenwerte[idx] * eigenvektoren[:, idx])"
   ]
  },
  {
   "cell_type": "markdown",
   "id": "revolutionary-intention",
   "metadata": {},
   "source": [
    "Da der erste Index des Array `eigenvektoren` der Zeilenindex ist, während der zweite Index der\n",
    "Spaltenindex ist, sehen wir, dass die Eigenvektoren in diesem Array in den Spalten stehen.\n",
    "\n",
    "## Numerische Integration\n",
    "\n",
    "SciPy ist eine umfangreiche numerische Bibliothek, die wesentlich auf dem gerade besprochenen\n",
    "NumPy-Paket basiert. Sie deckt vielfältige Problemstellungen ab wie zum Beispiel numerische\n",
    "Integration und Lösung von gewöhnlichen Differentialgleichungen, Interpolation, Fouriertransformation,\n",
    "Lösung von Optimierungsproblemen und Nullstellensuche, Signalverarbeitung oder spezielle\n",
    "mathematische Funktionen. Hier wird es uns nur möglich sein, einen ersten Eindruck davon zu geben,\n",
    "wie man mit Hilfe von SciPy numerische Problemstellungen lösen kann. Wir wollen dies anhand der\n",
    "numerischen Auswertung von Integralen sowie der Lösung einer gewöhnlichen Differentialgleichung tun.\n",
    "\n",
    "In diesem Kapitel wollen wir an zwei Beispielen die Auswertung von Integralen und zeigen und betrachten\n",
    "zunächst das Integral\n",
    "\n",
    "$$J_0(1) = \\frac{1}{\\pi}\\int_0^\\pi\\cos\\!\\big(\\!\\cos(x)\\big)\\text{d}x\\,.$$\n",
    "\n",
    "Das Ergebnis lässt sich durch eine spezielle Funktion, nämlich die Besselfunktion erster Gattung und\n",
    "nullter Ordnung $J_0$, an der Stelle angeben. Mit Hilfe des SciPy-Pakets können wir sowohl das\n",
    "Integral auf der rechten Seite als auch die Besselfunktion auf der linken Seite unabhängig voneinander\n",
    "auswerten lassen und die beiden Ergebnisse miteinander vergleichen. Betrachten wir zunächst die\n",
    "numerische Integration. Hierfür steht im `integrate`-Modul die Funktion {func}`quad` zur Verfügung,\n",
    "die als wesentliche Argumente den Integranden und die Integrationsgrenzen erwartet. Darüber hinaus\n",
    "gibt es noch weitere Argumente, die wir hier einfach auf ihren Defaultwerten belassen. Den Integranden\n",
    "stellen wir mit Hilfe einer Lambdafunktion zur Verfügung."
   ]
  },
  {
   "cell_type": "code",
   "execution_count": 17,
   "id": "opposed-drinking",
   "metadata": {},
   "outputs": [
    {
     "name": "stdout",
     "output_type": "stream",
     "text": [
      "0.7651976865579665 7.610963315273956e-11\n"
     ]
    }
   ],
   "source": [
    "from math import cos, pi\n",
    "from scipy.integrate import quad\n",
    "\n",
    "resultat, fehler = quad(lambda x: cos(cos(x))/pi, 0, pi)\n",
    "print(resultat, fehler)"
   ]
  },
  {
   "cell_type": "markdown",
   "id": "accepting-reserve",
   "metadata": {},
   "source": [
    "Wir erhalten sowohl das Resultat des numerischen Fehlers als auch eine Abschätzung für den absoluten\n",
    "Integrationsfehler.\n",
    "\n",
    "Zum Vergleich werten wir die Besselfunktion $J_0$ nun direkt an der Stelle 1 aus. Dazu importieren\n",
    "wir die entsprechende Funktion aus dem `special`-Modul von SciPy."
   ]
  },
  {
   "cell_type": "code",
   "execution_count": 18,
   "id": "helpful-italian",
   "metadata": {},
   "outputs": [
    {
     "name": "stdout",
     "output_type": "stream",
     "text": [
      "0.7651976865579665\n"
     ]
    }
   ],
   "source": [
    "from scipy.special import j0\n",
    "\n",
    "print(j0(1))"
   ]
  },
  {
   "cell_type": "markdown",
   "id": "adequate-syndication",
   "metadata": {},
   "source": [
    "In diesem Fall stimmen die beiden Ergebnisse perfekt überein, was aber im Allgemeinen nicht erwartet\n",
    "werden kann. Problematisch sind insbesondere Integranden, die Singularitäten enthalten oder sehr\n",
    "schnell oszillieren.\n",
    "\n",
    "Um zu demonstrieren, dass SciPy auch mit uneigentlichen Integralen umgehen kann, betrachten wir noch\n",
    "das Integral\n",
    "\n",
    "$$\\int_{-\\infty}^\\infty\\frac{1}{x^2+1}\\text{d}x = \\pi\\,,$$\n",
    "\n",
    "dessen Wert man ebenfalls analytisch kennt. Dies erlaubt uns wiederum, einen Eindruck davon zu gewinnen,\n",
    "wie gut das Integrationsergebnis ist. Um mit den Integrationsgrenzen umzugehen, verwenden wir die\n",
    "Konstante `inf` aus NumPy."
   ]
  },
  {
   "cell_type": "code",
   "execution_count": 19,
   "id": "oriented-confusion",
   "metadata": {},
   "outputs": [
    {
     "name": "stdout",
     "output_type": "stream",
     "text": [
      "3.141592653589793 5.155583041103855e-10\n",
      "3.141592653589793\n"
     ]
    }
   ],
   "source": [
    "import numpy as np\n",
    "\n",
    "resultat, fehler = quad(lambda x: 1/(x*x+1), -np.inf, np.inf)\n",
    "print(resultat, fehler)\n",
    "print(pi)"
   ]
  },
  {
   "cell_type": "markdown",
   "id": "heated-indicator",
   "metadata": {},
   "source": [
    "Auch in diesem Fall ist die Übereinstimmung perfekt, so dass wir nochmals betonen wollen, dass dies\n",
    "im Allgemeinen keineswegs zu erwarten ist.\n",
    "\n",
    "Neben der Funktion {func}`quad` stellt noch weitere Funktionen zur Verfügung, in denen zum Beispiel\n",
    "andere Integrationsverfahren verwendet werden oder mit denen auch mehrdimensionale Integrale \n",
    "berechnet werden können. Weitere Informationen findet man in der [Dokumentation des\n",
    "`scipy.integrate`-Moduls](https://docs.scipy.org/doc/scipy/reference/integrate.html#integrating-functions-given-function-object).\n",
    "\n",
    "## Integration gewöhnlicher Differentialgleichungen"
   ]
  }
 ],
 "metadata": {
  "jupytext": {
   "formats": "md:myst",
   "text_representation": {
    "extension": ".md",
    "format_name": "myst",
    "format_version": "0.8",
    "jupytext_version": "1.4.1+dev"
   }
  },
  "kernelspec": {
   "display_name": "Python 3",
   "language": "python",
   "name": "python3"
  },
  "language_info": {
   "codemirror_mode": {
    "name": "ipython",
    "version": 3
   },
   "file_extension": ".py",
   "mimetype": "text/x-python",
   "name": "python",
   "nbconvert_exporter": "python",
   "pygments_lexer": "ipython3",
   "version": "3.9.1"
  },
  "source_map": [
   13,
   93,
   99,
   115,
   117,
   134,
   138,
   144,
   154,
   174,
   179,
   183,
   191,
   193,
   195,
   203,
   205,
   224,
   232,
   240,
   245,
   248,
   254,
   263,
   265,
   270,
   273,
   277,
   281,
   285,
   290,
   294,
   298,
   325,
   331,
   337,
   341,
   354,
   360
  ]
 },
 "nbformat": 4,
 "nbformat_minor": 5
}