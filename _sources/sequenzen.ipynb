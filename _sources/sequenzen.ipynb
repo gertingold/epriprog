{
 "cells": [
  {
   "cell_type": "markdown",
   "metadata": {},
   "source": [
    "(zusgdatentypen)=\n",
    "# Zusammengesetzte Datentypen\n",
    "\n",
    "```{admonition} Hinweis\n",
    ":class: warning\n",
    "Dieses Kapitel befindet sich noch in Bearbeitung.\n",
    "```\n",
    "\n",
    "(listen)=\n",
    "## Listen\n",
    "\n",
    "Bei der Lösung numerischer Probleme spielen die Zahlentypen, die wir im {numref}`datentypen`\n",
    "kennengelernt haben, also Integers, Gleitkommazahlen oder Floats sowie komplexe Zahlen eine\n",
    "zentrale Rolle. Insbesondere in den Natur- und Ingenieurwissenschaften sind diese Daten aber\n",
    "Bestandteile von komplexeren Datentypen wie Vektoren oder Matrizen. Man spricht in diesem\n",
    "Zusammenhang von zusammengesetzten Datentypen, die wir im Folgenden behandeln wollen. Dabei\n",
    "müssen die Bestandteile nicht unbedingt numerischer Natur sein. Ein Beispiel hierfür wären\n",
    "Zeichenketten.\n",
    "\n",
    "Bei den zusammengesetzten Datentypen ist es sinnvoll, eine Unterscheidung vorzunehmen, die\n",
    "die Art der einzelnen Bestandteile betrifft. In Programmiersprachen wie Fortran oder C\n",
    "kennt man den Datentyp des Arrays, das eine ein- oder mehrdimensionale Ansammlung von\n",
    "Zahlen des gleichen Datentyps umfasst. Jedes Element nimmt im Speicher gleich viel Platz\n",
    "in Anspruch und die aufeinanderfolgende Elemente schließen im Speicher nahtlos aneinander\n",
    "an. Da die Anordnung der Elemente im Speicher immer eindimensional ist, gibt es für die\n",
    "Speicherung mehrdimensionaler Array unterschiedliche Zugänge und tatsächlich unterscheiden\n",
    "sich Fortran und C in dieser Hinsicht. Die homogene Struktur von Arrays hat zur Folge,\n",
    "dass der Ort eines durch einen Index oder auch mehrere Indizes adressierten Elements im\n",
    "Speicher ausgehend von der Startadresse unmittelbar berechnet werden kann. Dadurch kann\n",
    "man sehr effizient auf Elemente des Arrays zugreifen.\n",
    "\n",
    "In Python dagegen stehen solche homogenen Datenansammlungen in Form von Arrays nicht im\n",
    "Standardsprachumfang zur Verfügung. Sie werden aber durch die Programmbibliothek NumPy,\n",
    "die die Basis für wissenschaftliche Numerik in Python bildet und die wir im\n",
    "{numref}`scipy` besprechen werden, bereitgestellt. Python stellt stattdessen standardmäßig\n",
    "den Datentyp einer Liste zur Verfügung, die Objekte verschiedener Datentypen enthalten\n",
    "kann, aber nicht muss. Die größere Flexibilität der Liste gegenüber den Arrays bezahlt man\n",
    "mit einem höheren Aufwand beim Zugriff auf einzelne Elemente. Wir werden im Folgenden\n",
    "Listen als Datentyp in Python besprechen. Viele Aspekte werden wir später auf die von\n",
    "NumPy zur Verfügung gestellten Arrays übertragen können.\n",
    "\n",
    "Listen sind uns beispielsweise bereits in {numref}`forloop` begegnet, wo wir die\n",
    "{func}`range`-Funktion verwendet hatten, um einen Schleifenzähler mit Werten zu versorgen.\n",
    "Dabei werden die benötigten Werte nur bei Bedarf erzeugt. Um alle Werte auf einmal zu\n",
    "sehen, hatten wir die {func}`list`-Funktion verwendet und dabei eine Liste erzeugt."
   ]
  },
  {
   "cell_type": "code",
   "execution_count": 1,
   "metadata": {},
   "outputs": [
    {
     "name": "stdout",
     "output_type": "stream",
     "text": [
      "[0, 1, 2, 3, 4, 5, 6, 7, 8, 9, 10, 11, 12, 13, 14, 15, 16, 17, 18, 19]\n",
      "<class 'list'>\n"
     ]
    }
   ],
   "source": [
    "meine_liste = list(range(20))\n",
    "print(meine_liste)\n",
    "print(type(meine_liste))"
   ]
  },
  {
   "cell_type": "markdown",
   "metadata": {},
   "source": [
    "Mit der zweiten Ausgabezeile wird hier nachgewiesen, dass der Datentyp des Objekts\n",
    "`meine_liste` tatsächlich eine Liste ist.\n",
    "\n",
    "Wenn man die Länge einer Liste nicht kennt, kann man diese mit Hilfe der {func}`len`-Funktion\n",
    "bestimmen."
   ]
  },
  {
   "cell_type": "code",
   "execution_count": 2,
   "metadata": {},
   "outputs": [
    {
     "name": "stdout",
     "output_type": "stream",
     "text": [
      "Länge der ersten Liste:  6 Elemente\n",
      "Länge der zweiten Liste: 3 Elemente\n"
     ]
    }
   ],
   "source": [
    "liste1 = list(range(1, 17, 3))\n",
    "print(f'Länge der ersten Liste:  {len(liste1)} Elemente')\n",
    "liste2 = ['Stein', 'Papier', 'Schere']\n",
    "print(f'Länge der zweiten Liste: {len(liste2)} Elemente')"
   ]
  },
  {
   "cell_type": "markdown",
   "metadata": {},
   "source": [
    "Eine wichtige Eigenschaft von Listen besteht darin, dass man einzelne Listenelement oder auch\n",
    "Ausschnitte aus der Liste adressieren kann und diese auch verändern kann. Wir demonstrieren\n",
    "dies zunächst an einem einzelnen Listenelement."
   ]
  },
  {
   "cell_type": "code",
   "execution_count": 3,
   "metadata": {},
   "outputs": [
    {
     "name": "stdout",
     "output_type": "stream",
     "text": [
      "17\n"
     ]
    }
   ],
   "source": [
    "meine_liste = [1, 17, 3]\n",
    "print(meine_liste[1])"
   ]
  },
  {
   "cell_type": "markdown",
   "metadata": {},
   "source": [
    "Zu beachten ist hier, dass der Index immer in eckigen Klammern stehen muss.\n",
    "\n",
    "Das Ergebnis zeigt, dass die Zählung in Python bei 0 beginnt, wie es beispielsweise auch in\n",
    "der Programmiersprache C der Fall ist. Diese Wahl lässt sich dadurch motivieren, dass die Position\n",
    "des ersten Elements einer Liste relativ zum Beginn der Liste im Speicherplatz durch einen Offset\n",
    "von 0 gegeben ist. Man könnte aber auch argumentieren, dass das erste Element durch den Index 1\n",
    "adressiert werden sollte. Diese Wahl wurde in der Programmiersprache Fortran getroffen. Man muss\n",
    "sich also diesbezüglich informieren, welche Konvention in der verwendeten Programmiersprache gilt.\n",
    "\n",
    "Eine Veränderung eines Listenelements ist durch eine Zuweisung für das betreffende Listenelement\n",
    "möglich."
   ]
  },
  {
   "cell_type": "code",
   "execution_count": 4,
   "metadata": {},
   "outputs": [
    {
     "name": "stdout",
     "output_type": "stream",
     "text": [
      "[1, 2, 3]\n"
     ]
    }
   ],
   "source": [
    "meine_liste[1] = 2\n",
    "print(meine_liste)"
   ]
  },
  {
   "cell_type": "markdown",
   "metadata": {},
   "source": [
    "Neben der Möglichkeit, einzelne Listenelemente anzusprechen, ist es auch möglich, mehrere Listenelemente\n",
    "auf einmal zu adressieren. Dabei kann es sich entweder um eine gegebene Anzahl direkt aufeinanderfolgender\n",
    "Listenelemente oder mehrere Listenelemente mit einem festen Abstand handeln. In der folgenden\n",
    "Liste von Primzahlen werden alle Elemente ab Index 1, also ab dem zweiten Element, bis ausschließlich\n",
    "dem Index 5 ausgewählt."
   ]
  },
  {
   "cell_type": "code",
   "execution_count": 5,
   "metadata": {},
   "outputs": [
    {
     "name": "stdout",
     "output_type": "stream",
     "text": [
      "[3, 5, 7, 11]\n"
     ]
    }
   ],
   "source": [
    "primzahlen = [2, 3, 5, 7, 11, 13, 17, 19, 23]\n",
    "print(primzahlen[1:5])"
   ]
  },
  {
   "cell_type": "markdown",
   "metadata": {},
   "source": [
    "Gerade zu Beginn ist es oft ungewohnt, dass das Element zum zweiten Index nicht Teil der Auswahl ist,\n",
    "auch wenn wir dies von der {func}`range`-Funktion schon gewohnt sind. Man kann sich dieses Verhalten \n",
    "dadurch veranschaulichen, dass man sich den Index nicht als Nummerierung eines Elements vorstellt, sondern\n",
    "als Markierung »zwischen« den Listeneinträgen, wie es in {numref}`fig:slices` gezeigt ist.\n",
    "\n",
    "```{figure} images/sequenzen/listnumbering1.png\n",
    "---\n",
    "width: 50%\n",
    "name: fig:slices\n",
    "---\n",
    "Die Indizierung von Listen lässt sich besser verstehen, wenn man den Index als Markierung »zwischen« den\n",
    "Listeneinträgen versteht.\n",
    "```\n",
    "\n",
    "Da man in diesem Bild die Liste praktisch wie einen Brotlaib in Scheiben schneidet,\n",
    "spricht man bei der Adressierung von *slices*. Wie {numref}`fig:slices` mit den *slices*\n",
    "`[0:5]` und `[5:8]` zeigt, ist die von Python benutzte Indizierungskonvention auch\n",
    "insofern praktisch als aufeinanderfolgende *slices* den gleichen End -bzw. Anfangsindex\n",
    "haben.\n",
    "\n",
    "Wie bei der {func}`range`-Funktion gibt es auch bei den *slices* die Möglichkeit, die\n",
    "Schrittweite zu wählen. Die Bedeutung der Argumente ist in beiden Fällen gleich, nur dass\n",
    "in der *slice*-Notation die Argumente jeweils durch einen Doppelpunkt getrennt sind."
   ]
  },
  {
   "cell_type": "code",
   "execution_count": 6,
   "metadata": {},
   "outputs": [
    {
     "name": "stdout",
     "output_type": "stream",
     "text": [
      "[3, 7, 13, 19]\n"
     ]
    }
   ],
   "source": [
    "print(primzahlen[1:8:2])"
   ]
  },
  {
   "cell_type": "markdown",
   "metadata": {},
   "source": [
    "Hierbei wird aus der obigen Primzahlliste ausgehend vom zweiten Eintrag bis zum achten\n",
    "Eintrag jedes zweite Element ausgewählt.\n",
    "\n",
    "Wie würde man vorgehen, wenn man ausgehend vom ersten Element jedes dritte Element der\n",
    "Primzahlliste ausgeben möchte. Für die vollständige Indexangabe wird man zunächst einmal\n",
    "die Länge der Liste bestimmen müssen, wenn man diese nicht schon kennt."
   ]
  },
  {
   "cell_type": "code",
   "execution_count": 7,
   "metadata": {},
   "outputs": [
    {
     "name": "stdout",
     "output_type": "stream",
     "text": [
      "[2, 7, 17]\n"
     ]
    }
   ],
   "source": [
    "print(primzahlen[0:len(primzahlen):3])"
   ]
  },
  {
   "cell_type": "markdown",
   "metadata": {},
   "source": [
    "Alternativ kann man aber das Ende der Liste dadurch spezifizieren, dass man den\n",
    "entsprechenden Eintrag leer lässt. Das Fehlen des Index ist dabei anhand der Doppelpunkte\n",
    "erkenntlich."
   ]
  },
  {
   "cell_type": "code",
   "execution_count": 8,
   "metadata": {},
   "outputs": [
    {
     "name": "stdout",
     "output_type": "stream",
     "text": [
      "[2, 7, 17]\n"
     ]
    }
   ],
   "source": [
    "print(primzahlen[0::3])"
   ]
  },
  {
   "cell_type": "markdown",
   "metadata": {},
   "source": [
    "Entsprechend könnten man den ersten Index weglassen."
   ]
  },
  {
   "cell_type": "code",
   "execution_count": 9,
   "metadata": {},
   "outputs": [
    {
     "name": "stdout",
     "output_type": "stream",
     "text": [
      "[2, 7, 17]\n"
     ]
    }
   ],
   "source": [
    "print(primzahlen[::3])"
   ]
  },
  {
   "cell_type": "markdown",
   "metadata": {},
   "source": [
    "Lässt man auch den dritten Index weg, so wird die Schrittweite automatisch auf 1 gesetzt.\n",
    "Statt zwei Doppelpunkten ist es dann aber einfacher, nur einen Doppelpunkt zu setzen. Auf\n",
    "diese Weise erhält man alle Elemente der Liste. Es ist allerdings nicht möglich, alle\n",
    "Doppelpunkte wegzulassen."
   ]
  },
  {
   "cell_type": "code",
   "execution_count": 10,
   "metadata": {},
   "outputs": [
    {
     "name": "stdout",
     "output_type": "stream",
     "text": [
      "[2, 3, 5, 7, 11, 13, 17, 19, 23]\n",
      "[2, 3, 5, 7, 11, 13, 17, 19, 23]\n"
     ]
    }
   ],
   "source": [
    "print(primzahlen[::])\n",
    "print(primzahlen[:])"
   ]
  },
  {
   "cell_type": "markdown",
   "metadata": {},
   "source": [
    "Alle Listenelemente kann man zwar auch einfach durch die Angabe des Listennamens ausgeben.\n",
    "Allerdings werden wir später noch sehen, dass es einen Unterschied macht, ob man nur den\n",
    "Listennamen verwendet oder ein *slice* `[:]`."
   ]
  },
  {
   "cell_type": "code",
   "execution_count": 11,
   "metadata": {},
   "outputs": [
    {
     "name": "stdout",
     "output_type": "stream",
     "text": [
      "[2, 3, 5, 7, 11, 13, 17, 19, 23]\n"
     ]
    }
   ],
   "source": [
    "print(primzahlen)"
   ]
  },
  {
   "cell_type": "markdown",
   "metadata": {},
   "source": [
    "Insbesondere wenn die Indizes in einem *slice* durch Programmcode erzeugt werden, kann es \n",
    "passieren, dass ein Index irrtümlich außerhalb des erlaubten Bereichs liegt. In einer solchen\n",
    "Situation können verschiedene Dinge passieren. Manche Programmiersprachen berechnen, zumindest\n",
    "unter bestimmten Bedingungen, einfach den entsprechenden Ort im Speicher und verwenden die dort\n",
    "vorhandenen Daten, sofern das Programm auf diesen Speicherbereich Zugriffsrechte besitzt. Solche\n",
    "Situationen führen zu Fehlern, die unter Umständen schwer zu identifizieren sind, unter anderem\n",
    "weil das Verhalten in solchen Situationen nicht reproduzierbar sein muss. Normalerweise kann\n",
    "man die betreffenden Programmiersprachen aber dazu zwingen, die Gültigkeit des angegebenen Index\n",
    "zu überprüfen.\n",
    "\n",
    "Python macht dies immer und so führt ein Zugriff jenseits der oberen Grenze der Liste zu einer\n",
    "Exception."
   ]
  },
  {
   "cell_type": "code",
   "execution_count": 12,
   "metadata": {
    "tags": [
     "raises-exception"
    ]
   },
   "outputs": [
    {
     "ename": "IndexError",
     "evalue": "list index out of range",
     "output_type": "error",
     "traceback": [
      "\u001b[0;31m---------------------------------------------------------------------------\u001b[0m",
      "\u001b[0;31mIndexError\u001b[0m                                Traceback (most recent call last)",
      "\u001b[0;32m<ipython-input-12-0d1687bbc767>\u001b[0m in \u001b[0;36m<module>\u001b[0;34m\u001b[0m\n\u001b[0;32m----> 1\u001b[0;31m \u001b[0mprint\u001b[0m\u001b[0;34m(\u001b[0m\u001b[0mprimzahlen\u001b[0m\u001b[0;34m[\u001b[0m\u001b[0;36m20\u001b[0m\u001b[0;34m]\u001b[0m\u001b[0;34m)\u001b[0m\u001b[0;34m\u001b[0m\u001b[0;34m\u001b[0m\u001b[0m\n\u001b[0m",
      "\u001b[0;31mIndexError\u001b[0m: list index out of range"
     ]
    }
   ],
   "source": [
    "print(primzahlen[20])"
   ]
  },
  {
   "cell_type": "markdown",
   "metadata": {},
   "source": [
    "Dagegen sind negative Indizes in einem gewissen Rahmen erlaubt, nämlich von `-1` bis `-N`,\n",
    "wobei `N` die Zahl der Listenelemente ist. Die Zuordnung der Listenindizes ist in\n",
    "{numref}`fig:negativeindices` dargestellt. Mit negativen Indizes ist es also möglich,\n",
    "Listenelemente vom Ende her zu adressieren ohne die Länge der Liste kennen zu müssen.\n",
    "\n",
    "```{figure} images/sequenzen/listnumbering2.png\n",
    "---\n",
    "width: 50%\n",
    "name: fig:negativeindices\n",
    "---\n",
    "Mit negativen Indizes lassen sich Listenelemente vom Ende der Liste her adressieren.\n",
    "```\n",
    "\n",
    "So lässt sich beispielsweise sehr leicht das letzte Element einer Liste extrahieren."
   ]
  },
  {
   "cell_type": "code",
   "execution_count": 13,
   "metadata": {},
   "outputs": [
    {
     "name": "stdout",
     "output_type": "stream",
     "text": [
      "[2, 3, 5, 7, 11, 13, 17, 19, 23]\n",
      "23\n"
     ]
    }
   ],
   "source": [
    "print(primzahlen)\n",
    "print(primzahlen[-1])"
   ]
  },
  {
   "cell_type": "markdown",
   "metadata": {},
   "source": [
    "Auch die letzten drei Elemente lassen sich auf entsprechende Weise leicht erhalten."
   ]
  },
  {
   "cell_type": "code",
   "execution_count": 14,
   "metadata": {},
   "outputs": [
    {
     "name": "stdout",
     "output_type": "stream",
     "text": [
      "[17, 19, 23]\n"
     ]
    }
   ],
   "source": [
    "print(primzahlen[-3:])"
   ]
  },
  {
   "cell_type": "markdown",
   "metadata": {},
   "source": [
    "Mit einer negativen Schrittweite kann man die Listen in umgekehrter Reihenfolge anordnen."
   ]
  },
  {
   "cell_type": "code",
   "execution_count": 15,
   "metadata": {},
   "outputs": [
    {
     "name": "stdout",
     "output_type": "stream",
     "text": [
      "[23, 19, 17, 13, 11, 7, 5, 3, 2]\n"
     ]
    }
   ],
   "source": [
    "print(primzahlen[::-1])"
   ]
  },
  {
   "cell_type": "markdown",
   "metadata": {},
   "source": [
    "Bei der Arbeit mit Listen in Python ist zu beachten, dass sich diese nicht immer so\n",
    "verhalten, wie man es vielleicht erwarten würde. So erzeugt die Zuweisung einer Liste zu\n",
    "einer anderen Liste nicht zu einer unabhängigen Liste, sondern nur zu einem zweiten Namen,\n",
    "unter dem die ursprüngliche Liste angesprochen werden kann. Man spricht hier auch von\n",
    "einem *Alias*."
   ]
  },
  {
   "cell_type": "code",
   "execution_count": 16,
   "metadata": {},
   "outputs": [
    {
     "name": "stdout",
     "output_type": "stream",
     "text": [
      "[1, 2, 3]\n",
      "[1, 2, 3]\n"
     ]
    }
   ],
   "source": [
    "a = [1, 17, 3]\n",
    "b = a\n",
    "a[1] = 2\n",
    "print(a)\n",
    "print(b)"
   ]
  },
  {
   "cell_type": "markdown",
   "metadata": {},
   "source": [
    "Offenbar wurde hier nicht nur die Liste `a` verändert. Tatsächlich zeigen die beiden Namen\n",
    "`a` und `b` auf das gleiche Pythonobjekt."
   ]
  },
  {
   "cell_type": "code",
   "execution_count": 17,
   "metadata": {},
   "outputs": [
    {
     "name": "stdout",
     "output_type": "stream",
     "text": [
      "140488111685184 140488111685184\n"
     ]
    }
   ],
   "source": [
    "print(id(a), id(b))"
   ]
  },
  {
   "cell_type": "markdown",
   "metadata": {},
   "source": [
    "Anders sieht es aus, wenn man die Listenelemente zuweist."
   ]
  },
  {
   "cell_type": "code",
   "execution_count": 18,
   "metadata": {},
   "outputs": [
    {
     "name": "stdout",
     "output_type": "stream",
     "text": [
      "[1, 2, 3]\n",
      "[1, 17, 3]\n"
     ]
    }
   ],
   "source": [
    "a = [1, 17, 3]\n",
    "b = a[:]\n",
    "a[1] = 2\n",
    "print(a)\n",
    "print(b)"
   ]
  },
  {
   "cell_type": "markdown",
   "metadata": {},
   "source": [
    "Nun handelt es sich bei den beiden Listen in der Tat auch um verschiedene Pythonobjekte."
   ]
  },
  {
   "cell_type": "code",
   "execution_count": 19,
   "metadata": {},
   "outputs": [
    {
     "name": "stdout",
     "output_type": "stream",
     "text": [
      "140488111504448 140488111690176\n"
     ]
    }
   ],
   "source": [
    "print(id(a), id(b))"
   ]
  },
  {
   "cell_type": "markdown",
   "metadata": {},
   "source": [
    "Dieses Verhalten wirkt sich auch aus, wenn man Listen an Funktionen übergibt und innerhalb\n",
    "der Funktion verändert."
   ]
  },
  {
   "cell_type": "code",
   "execution_count": 20,
   "metadata": {},
   "outputs": [
    {
     "name": "stdout",
     "output_type": "stream",
     "text": [
      "[2, 2, 3]\n"
     ]
    }
   ],
   "source": [
    "def modify_list(x):\n",
    "    x[0] = 2\n",
    "\n",
    "meine_liste = [1, 2, 3]\n",
    "modify_list(meine_liste)\n",
    "print(meine_liste)"
   ]
  },
  {
   "cell_type": "markdown",
   "metadata": {},
   "source": [
    "Die vorgenommene Änderung ist also nicht lokal auf die Funktion beschränkt, sondern wirkt\n",
    "sich auf die Liste im Hauptteil aus. Daher sollte man bei der Übergabe von Listen an\n",
    "Funktionen besondere Sorgfalt walten lassen und diese in der Funktion entweder nicht\n",
    "verändern oder zunächst eine Kopie anfertigen.\n",
    "\n",
    "Wie wir eingangs dieses Kapitels schon besprochen hatten, lassen Listen in Python im\n",
    "Gegensatz zu den homogenen Arrays anderer Programmiersprachen auch unterschiedliche\n",
    "Datentypen als Elemente einer Liste zu. Dies wollen wir an einer Liste demonstrieren, die\n",
    "eine mathematische Aufgabe in einer Liste spezifiziert, indem das erste Element ein\n",
    "Funktionsobjekt enthält während das zweite Element das zugehörige Argument enthält."
   ]
  },
  {
   "cell_type": "code",
   "execution_count": 21,
   "metadata": {},
   "outputs": [
    {
     "name": "stdout",
     "output_type": "stream",
     "text": [
      "0.49999999999999994\n"
     ]
    }
   ],
   "source": [
    "from math import sin, pi\n",
    "aufgabe = [sin, pi/6]\n",
    "ergebnis = aufgabe[0](aufgabe[1])\n",
    "print(ergebnis)"
   ]
  },
  {
   "cell_type": "markdown",
   "metadata": {},
   "source": [
    "Dabei ist die Abweichung vom erwarteten Ergebnis `0.5` durch Rundungsfehler bedingt.\n",
    "\n",
    "Es ist auch möglich, Listen als Listenelemente zu verwenden."
   ]
  },
  {
   "cell_type": "code",
   "execution_count": 22,
   "metadata": {},
   "outputs": [
    {
     "name": "stdout",
     "output_type": "stream",
     "text": [
      "[1, 2]\n",
      "[3, 4]\n",
      "2\n"
     ]
    }
   ],
   "source": [
    "a = [[1, 2], [3, 4]]\n",
    "print(a[0])\n",
    "print(a[1])\n",
    "print(a[0][1])"
   ]
  },
  {
   "cell_type": "markdown",
   "metadata": {},
   "source": [
    "Hier wird beispielsweise mit `a[0]` das erste Element der Liste `a` adressiert, also die\n",
    "Liste `[1, 2]`. Aus dieser Liste kann wiederum ein Element ausgewählt werden, zum Beispiel\n",
    "`a[0][1]`.\n",
    "\n",
    "Auch wenn diese Liste von Listen den Anschein erwecken mag, als Matrix verwendet werden zu\n",
    "können, ist dies nicht wirklich der Fall. Zum einen ist es zwar leicht möglich, einen\n",
    "Zeilenvektor aus der Matrix zu extrahieren, wie wir an unserem Beispiel gesehen haben.\n",
    "Es ist aber nicht möglich, in entsprechender Weise einen Spaltenvektor zu erhalten. Zudem\n",
    "sind keine Matrixoperationen wie zum Beispiel eine Matrixmultiplikation für Listen von \n",
    "Listen definiert. Stattdessen verwendet man für diese Zwecke die Numpy-Arrays, die wir in\n",
    "{numref}`scipy` besprechen werden.\n",
    "\n",
    "Andererseits können Listen in `for`-Schleifen nützlich sein. So kann man über die\n",
    "einzelnen Listenelemente der Matrix `a` iterieren."
   ]
  },
  {
   "cell_type": "code",
   "execution_count": 23,
   "metadata": {},
   "outputs": [
    {
     "name": "stdout",
     "output_type": "stream",
     "text": [
      "[1, 2]\n",
      "[3, 4]\n"
     ]
    }
   ],
   "source": [
    "for liste in a:\n",
    "    print(liste)"
   ]
  },
  {
   "cell_type": "markdown",
   "metadata": {},
   "source": [
    "Häufig ist es in solchen Fälle sinnvoll, die einzelnen Listenelemente gleich zu entpacken."
   ]
  },
  {
   "cell_type": "code",
   "execution_count": 24,
   "metadata": {},
   "outputs": [
    {
     "name": "stdout",
     "output_type": "stream",
     "text": [
      "1 * 2 = 2\n",
      "3 * 4 = 12\n"
     ]
    }
   ],
   "source": [
    "for x, y in a:\n",
    "    print(f\"{x} * {y} = {x*y}\")"
   ]
  },
  {
   "cell_type": "markdown",
   "metadata": {},
   "source": [
    "Wie wir bereits gesehen hatten, können wir Listenelemente verändern. Es ist uns allerdings\n",
    "nicht möglich, auf die gleiche Weise Listenelemente hinzufügen. Das folgende Beispiel kann\n",
    "nicht funktionieren, da versucht wird, auf ein nicht existierendes Listenelement\n",
    "zuzugreifen."
   ]
  },
  {
   "cell_type": "code",
   "execution_count": 25,
   "metadata": {
    "tags": [
     "raises-exception"
    ]
   },
   "outputs": [
    {
     "ename": "IndexError",
     "evalue": "list assignment index out of range",
     "output_type": "error",
     "traceback": [
      "\u001b[0;31m---------------------------------------------------------------------------\u001b[0m",
      "\u001b[0;31mIndexError\u001b[0m                                Traceback (most recent call last)",
      "\u001b[0;32m<ipython-input-25-52a94bd9e362>\u001b[0m in \u001b[0;36m<module>\u001b[0;34m\u001b[0m\n\u001b[1;32m      1\u001b[0m \u001b[0ma\u001b[0m \u001b[0;34m=\u001b[0m \u001b[0;34m[\u001b[0m\u001b[0;36m1\u001b[0m\u001b[0;34m,\u001b[0m \u001b[0;36m2\u001b[0m\u001b[0;34m,\u001b[0m \u001b[0;36m3\u001b[0m\u001b[0;34m]\u001b[0m\u001b[0;34m\u001b[0m\u001b[0;34m\u001b[0m\u001b[0m\n\u001b[0;32m----> 2\u001b[0;31m \u001b[0ma\u001b[0m\u001b[0;34m[\u001b[0m\u001b[0;36m3\u001b[0m\u001b[0;34m]\u001b[0m \u001b[0;34m=\u001b[0m \u001b[0;36m4\u001b[0m\u001b[0;34m\u001b[0m\u001b[0;34m\u001b[0m\u001b[0m\n\u001b[0m",
      "\u001b[0;31mIndexError\u001b[0m: list assignment index out of range"
     ]
    }
   ],
   "source": [
    "a = [1, 2, 3]\n",
    "a[3] = 4"
   ]
  },
  {
   "cell_type": "markdown",
   "metadata": {},
   "source": [
    "Es ist jedoch möglich, mit Hilfe der {func}`append`-Methode Elemente an eine Liste\n",
    "anzuhängen."
   ]
  },
  {
   "cell_type": "code",
   "execution_count": 26,
   "metadata": {},
   "outputs": [
    {
     "name": "stdout",
     "output_type": "stream",
     "text": [
      "[1, 2, 3, 4]\n"
     ]
    }
   ],
   "source": [
    "a = [1, 2, 3]\n",
    "a.append(4)\n",
    "print(a)"
   ]
  },
  {
   "cell_type": "markdown",
   "metadata": {},
   "source": [
    "Zu beachten ist hier, dass die Liste verändert wird ohne dass eine Zuweisung notwendig\n",
    "wäre. Würde man das Ergebnis der {func}`append`-Methode der Variable `a` zuweisen, so\n",
    "würde die Liste mit dem Wert `None` überschrieben werden."
   ]
  },
  {
   "cell_type": "code",
   "execution_count": 27,
   "metadata": {},
   "outputs": [
    {
     "name": "stdout",
     "output_type": "stream",
     "text": [
      "None\n"
     ]
    }
   ],
   "source": [
    "a = [1, 2, 3]\n",
    "a = a.append(4)\n",
    "print(a)"
   ]
  },
  {
   "cell_type": "markdown",
   "metadata": {},
   "source": [
    "Häufig werden im Rahmen einer Schleife mehrere Listenelemente zu einer Liste hinzugefügt."
   ]
  },
  {
   "cell_type": "code",
   "execution_count": 28,
   "metadata": {},
   "outputs": [
    {
     "name": "stdout",
     "output_type": "stream",
     "text": [
      "[0, 1, 4, 9, 16, 25, 36, 49, 64, 81]\n"
     ]
    }
   ],
   "source": [
    "a = []\n",
    "for n in range(10):\n",
    "    a.append(n**2)\n",
    "print(a)"
   ]
  },
  {
   "cell_type": "markdown",
   "metadata": {},
   "source": [
    "In einfacheren Fällen kann eine sogenannte *list comprehension* eine kompaktere Lösung\n",
    "darstellen."
   ]
  },
  {
   "cell_type": "code",
   "execution_count": 29,
   "metadata": {},
   "outputs": [
    {
     "name": "stdout",
     "output_type": "stream",
     "text": [
      "[0, 1, 4, 9, 16, 25, 36, 49, 64, 81]\n"
     ]
    }
   ],
   "source": [
    "a = [n**2 for n in range(10)]\n",
    "print(a)"
   ]
  },
  {
   "cell_type": "markdown",
   "metadata": {},
   "source": [
    "In einer *list comprehension* lassen sich auch noch Bedingungen stellen, aber man sollte\n",
    "sich davor hüten, solche Konstruktionen zu komplex werden zu lassen."
   ]
  },
  {
   "cell_type": "code",
   "execution_count": 30,
   "metadata": {},
   "outputs": [
    {
     "name": "stdout",
     "output_type": "stream",
     "text": [
      "[1, 4, 16, 25, 49, 64]\n"
     ]
    }
   ],
   "source": [
    "a = [n**2 for n in range(10) if n % 3]\n",
    "print(a)"
   ]
  },
  {
   "cell_type": "markdown",
   "metadata": {},
   "source": [
    "Die {func}`append`-Methode muss von der {func}`extend`-Methode unterschieden werden,\n",
    "mit der eine Liste an eine andere Liste angehängt werden kann. Mit der `append`-Methode\n",
    "würde die Liste dagegen ein Element der ersten Liste werden."
   ]
  },
  {
   "cell_type": "code",
   "execution_count": 31,
   "metadata": {},
   "outputs": [
    {
     "name": "stdout",
     "output_type": "stream",
     "text": [
      "[1, 2, 3, 4]\n",
      "[1, 2, [3, 4]]\n"
     ]
    }
   ],
   "source": [
    "a = [1, 2]\n",
    "b = [3, 4]\n",
    "a.extend(b)\n",
    "print(a)\n",
    "a = [1, 2]\n",
    "a.append(b)\n",
    "print(a)"
   ]
  },
  {
   "cell_type": "markdown",
   "metadata": {},
   "source": [
    "Das Verketten von zwei Listen ist auch mit einem Additionsoperator `+` möglich. Dagegen\n",
    "ist es nicht möglich, auf diese Weise ein einzelnes Listenelement hinzuzufügen."
   ]
  },
  {
   "cell_type": "code",
   "execution_count": 32,
   "metadata": {
    "tags": [
     "raises-exception"
    ]
   },
   "outputs": [
    {
     "name": "stdout",
     "output_type": "stream",
     "text": [
      "[1, 2, 3, 4]\n"
     ]
    },
    {
     "ename": "TypeError",
     "evalue": "can only concatenate list (not \"int\") to list",
     "output_type": "error",
     "traceback": [
      "\u001b[0;31m---------------------------------------------------------------------------\u001b[0m",
      "\u001b[0;31mTypeError\u001b[0m                                 Traceback (most recent call last)",
      "\u001b[0;32m<ipython-input-32-5ccbd21555b8>\u001b[0m in \u001b[0;36m<module>\u001b[0;34m\u001b[0m\n\u001b[1;32m      2\u001b[0m \u001b[0mb\u001b[0m \u001b[0;34m=\u001b[0m \u001b[0;34m[\u001b[0m\u001b[0;36m3\u001b[0m\u001b[0;34m,\u001b[0m \u001b[0;36m4\u001b[0m\u001b[0;34m]\u001b[0m\u001b[0;34m\u001b[0m\u001b[0;34m\u001b[0m\u001b[0m\n\u001b[1;32m      3\u001b[0m \u001b[0mprint\u001b[0m\u001b[0;34m(\u001b[0m\u001b[0ma\u001b[0m \u001b[0;34m+\u001b[0m \u001b[0mb\u001b[0m\u001b[0;34m)\u001b[0m\u001b[0;34m\u001b[0m\u001b[0;34m\u001b[0m\u001b[0m\n\u001b[0;32m----> 4\u001b[0;31m \u001b[0mprint\u001b[0m\u001b[0;34m(\u001b[0m\u001b[0ma\u001b[0m \u001b[0;34m+\u001b[0m \u001b[0;36m4\u001b[0m\u001b[0;34m)\u001b[0m\u001b[0;34m\u001b[0m\u001b[0;34m\u001b[0m\u001b[0m\n\u001b[0m",
      "\u001b[0;31mTypeError\u001b[0m: can only concatenate list (not \"int\") to list"
     ]
    }
   ],
   "source": [
    "a = [1, 2]\n",
    "b = [3, 4]\n",
    "print(a + b)\n",
    "print(a + 4)"
   ]
  },
  {
   "cell_type": "markdown",
   "metadata": {},
   "source": [
    "Neben der Addition von Listen ist auch die Multiplikation einer Liste mit einer nichtnegativen\n",
    "ganzen Zahl möglich."
   ]
  },
  {
   "cell_type": "code",
   "execution_count": 33,
   "metadata": {},
   "outputs": [
    {
     "name": "stdout",
     "output_type": "stream",
     "text": [
      "[1, 2, 1, 2, 1, 2, 1, 2, 1, 2]\n"
     ]
    }
   ],
   "source": [
    "a = [1, 2]\n",
    "print(a*5)"
   ]
  },
  {
   "cell_type": "code",
   "execution_count": 34,
   "metadata": {},
   "outputs": [
    {
     "name": "stdout",
     "output_type": "stream",
     "text": [
      "[]\n"
     ]
    }
   ],
   "source": [
    "print(a*0)"
   ]
  },
  {
   "cell_type": "code",
   "execution_count": 35,
   "metadata": {},
   "outputs": [
    {
     "name": "stdout",
     "output_type": "stream",
     "text": [
      "[0, 0, 0, 0, 0, 0, 0, 0, 0, 0]\n"
     ]
    }
   ],
   "source": [
    "b = [0]\n",
    "print(b*10)"
   ]
  },
  {
   "cell_type": "markdown",
   "metadata": {},
   "source": [
    "Neben `append` und `extend` gibt es noch weitere Methoden, um mit Listen zu arbeiten. Wir\n",
    "wollen hier nur ein paar Beispiele aufführen und verweisen ansonsten auf die\n",
    "[Python-Dokumentation](https://docs.python.org/3/tutorial/datastructures.html#more-on-lists).\n",
    "\n",
    "Bei der Suche nach einem bestimmten Wert in einer Liste kann die {func}`index`-Methode hilfreich\n",
    "sein, die den Index des Elements angibt, in dem der gesuchte Wert zum ersten Mal auftritt."
   ]
  },
  {
   "cell_type": "code",
   "execution_count": 36,
   "metadata": {},
   "outputs": [
    {
     "name": "stdout",
     "output_type": "stream",
     "text": [
      "Index: 1  Wert: 2\n"
     ]
    }
   ],
   "source": [
    "meine_liste = [1, 2, 3, 4, 3, 2, 1]\n",
    "idx1 = meine_liste.index(2)\n",
    "print(f\"Index: {idx1}  Wert: {meine_liste[idx1]}\")"
   ]
  },
  {
   "cell_type": "markdown",
   "metadata": {},
   "source": [
    "Möchte man die Suche fortsetzen, so muss man darauf achten, sich auf den Teil der Liste nach dem\n",
    "bereits gefundenen Listenelement zu beschränken."
   ]
  },
  {
   "cell_type": "code",
   "execution_count": 37,
   "metadata": {},
   "outputs": [
    {
     "name": "stdout",
     "output_type": "stream",
     "text": [
      "Index: 5  Wert: 2\n"
     ]
    }
   ],
   "source": [
    "offset = idx1+1\n",
    "idx2 = meine_liste[offset:].index(2)\n",
    "print(f\"Index: {offset+idx2}  Wert: {meine_liste[offset+idx2]}\")"
   ]
  },
  {
   "cell_type": "markdown",
   "metadata": {},
   "source": [
    "Kommt das gesuchte Element nicht in der Liste vor, so erhält man einen `ValueError`."
   ]
  },
  {
   "cell_type": "code",
   "execution_count": 38,
   "metadata": {
    "tags": [
     "raises-exception"
    ]
   },
   "outputs": [
    {
     "ename": "ValueError",
     "evalue": "5 is not in list",
     "output_type": "error",
     "traceback": [
      "\u001b[0;31m---------------------------------------------------------------------------\u001b[0m",
      "\u001b[0;31mValueError\u001b[0m                                Traceback (most recent call last)",
      "\u001b[0;32m<ipython-input-38-4c28165d4a81>\u001b[0m in \u001b[0;36m<module>\u001b[0;34m\u001b[0m\n\u001b[0;32m----> 1\u001b[0;31m \u001b[0mmeine_liste\u001b[0m\u001b[0;34m.\u001b[0m\u001b[0mindex\u001b[0m\u001b[0;34m(\u001b[0m\u001b[0;36m5\u001b[0m\u001b[0;34m)\u001b[0m\u001b[0;34m\u001b[0m\u001b[0;34m\u001b[0m\u001b[0m\n\u001b[0m",
      "\u001b[0;31mValueError\u001b[0m: 5 is not in list"
     ]
    }
   ],
   "source": [
    "meine_liste.index(5)"
   ]
  },
  {
   "cell_type": "markdown",
   "metadata": {},
   "source": [
    "Um solche Fälle vernünftig zu behandeln, sollte man die Ausnahme abfangen."
   ]
  },
  {
   "cell_type": "code",
   "execution_count": 39,
   "metadata": {},
   "outputs": [
    {
     "name": "stdout",
     "output_type": "stream",
     "text": [
      "0 wurde nicht gefunden.\n",
      "Erstes Auftreten von 1: 0\n",
      "Erstes Auftreten von 2: 1\n",
      "Erstes Auftreten von 3: 2\n",
      "Erstes Auftreten von 4: 3\n",
      "5 wurde nicht gefunden.\n",
      "6 wurde nicht gefunden.\n"
     ]
    }
   ],
   "source": [
    "for n in range(7):\n",
    "    try:\n",
    "        print(f\"Erstes Auftreten von {n}: {meine_liste.index(n)}\")\n",
    "    except ValueError:\n",
    "        print(f\"{n} wurde nicht gefunden.\")"
   ]
  },
  {
   "cell_type": "markdown",
   "metadata": {},
   "source": [
    "Ist man ausschließlich daran interessiert, ob ein Wert in der Liste vorhanden ist, aber\n",
    "nicht daran, wo sich dieser Wert befindet, so kann man den `in`-Operator verwenden."
   ]
  },
  {
   "cell_type": "code",
   "execution_count": 40,
   "metadata": {},
   "outputs": [
    {
     "name": "stdout",
     "output_type": "stream",
     "text": [
      "0 ist nicht vorhanden\n",
      "1 ist vorhanden\n",
      "2 ist vorhanden\n",
      "3 ist vorhanden\n",
      "4 ist vorhanden\n",
      "5 ist nicht vorhanden\n",
      "6 ist nicht vorhanden\n"
     ]
    }
   ],
   "source": [
    "for n in range(7):\n",
    "    if n in meine_liste:\n",
    "        print(f\"{n} ist vorhanden\")\n",
    "    else:\n",
    "        print(f\"{n} ist nicht vorhanden\")"
   ]
  },
  {
   "cell_type": "markdown",
   "metadata": {},
   "source": [
    "Benötigt man jedoch auch die Position des Eintrags, so sollte man direkt die vorige\n",
    "Variante wählen.\n",
    "\n",
    "Abschließend sei noch erwähnt, dass man Listen mit Hilfe der {func}`sort`-Methode\n",
    "sortieren kann. Auch dies geschieht *in place*, es wird also keine neue Liste erzeugt."
   ]
  },
  {
   "cell_type": "code",
   "execution_count": 41,
   "metadata": {},
   "outputs": [
    {
     "name": "stdout",
     "output_type": "stream",
     "text": [
      "[96, 27, 20, 39, 86, 83, 96, 57, 35, 10, 32, 36, 88, 67, 33, 26, 52, 100, 37, 7]\n",
      "[7, 10, 20, 26, 27, 32, 33, 35, 36, 37, 39, 52, 57, 67, 83, 86, 88, 96, 96, 100]\n"
     ]
    }
   ],
   "source": [
    "from random import randint\n",
    "zufallsliste = [randint(1, 100) for _ in range(20)]\n",
    "print(zufallsliste)\n",
    "zufallsliste.sort()\n",
    "print(zufallsliste)"
   ]
  },
  {
   "cell_type": "markdown",
   "metadata": {},
   "source": [
    "Bei Bedarf ist es auch möglich, einen Sortierschlüssel anzugeben. Möchte man zum Beispiel\n",
    "nach der letzten Ziffer sortieren, so kann man diese mit einer geeigneten Lambda-Funktion\n",
    "bewerkstelligen."
   ]
  },
  {
   "cell_type": "code",
   "execution_count": 42,
   "metadata": {},
   "outputs": [
    {
     "name": "stdout",
     "output_type": "stream",
     "text": [
      "[97, 32, 94, 74, 67, 22, 26, 22, 87, 72, 11, 21, 28, 61, 34, 34, 78, 2, 100, 38]\n",
      "[100, 11, 21, 61, 32, 22, 22, 72, 2, 94, 74, 34, 34, 26, 97, 67, 87, 28, 78, 38]\n"
     ]
    }
   ],
   "source": [
    "zufallsliste = [randint(1, 100) for _ in range(20)]\n",
    "print(zufallsliste)\n",
    "zufallsliste.sort(key=lambda x: x % 10)\n",
    "print(zufallsliste)"
   ]
  },
  {
   "cell_type": "markdown",
   "metadata": {},
   "source": [
    "(tupel)=\n",
    "## Tupel\n",
    "\n",
    "Tupel sind Listen insofern ähnlich als sie als Elemente Objekte beliebigen Typs enthalten\n",
    "können.  Andererseits sind sie nicht veränderlich. Man sagt auch, dass Listen veränderlich\n",
    "(*mutable*) seien, während Tupel unveränderlich (*immutable*) sind. Dies bedeutet, dass\n",
    "man auf Elemente von Tupeln mit *slices* wie bei Listen zugreifen kann. Es ist jedoch\n",
    "nicht möglich, diese Elemente zu verändern, und es existiert beispielsweise auch keine\n",
    "{func}`append`-Methode, mit der man Elemente an ein Tupel anhängen könnte. Man kann zwar\n",
    "Tupel mit Hilfe des Additionsoperators aneinanderhängen, was von der Funktionalität an die\n",
    "{func}`extend`-Methode von Listen erinnert."
   ]
  },
  {
   "cell_type": "code",
   "execution_count": 43,
   "metadata": {},
   "outputs": [
    {
     "name": "stdout",
     "output_type": "stream",
     "text": [
      "id(mytuple1) = 140488111631744\n",
      "id(mytuple2) = 140488506994944\n",
      "mytuple1 = (1, 2, 3, 4)\n",
      "id(mytuple1) = 140488111729776\n"
     ]
    }
   ],
   "source": [
    "mytuple1 = (1, 2)\n",
    "mytuple2 = (3, 4)\n",
    "print(f'{id(mytuple1) = }')\n",
    "print(f'{id(mytuple2) = }')\n",
    "\n",
    "mytuple1 = mytuple1 + mytuple2\n",
    "print(f'{mytuple1 = }')\n",
    "print(f'{id(mytuple1) = }')"
   ]
  },
  {
   "cell_type": "markdown",
   "metadata": {},
   "source": [
    "Offensichtlich wird hier ein neues Tupel erzeugt, genauso wie die Verknüpfung zweier\n",
    "Listen mit Hilfe des Additionsoperators eine neue Liste erzeugen würde. Bei der\n",
    "{func}`extend`-Methode für Listen ist dies dagegen nicht der Fall.\n",
    "\n",
    "```{admonition} Tipp\n",
    ":class: tip\n",
    "Das Zusammenfügen von Tupeln mit Hilfe des Additionsoperators ist ineffizient,\n",
    "insbesondere wenn es oft geschieht. Je nach Problemstellung ist es daher sinnvoll,\n",
    "zunächst eine Liste zu erstellen oder die benötigten Elemente mit einem Generatorausdruck\n",
    "zu erzeugen und anschließend mit Hilfe der {func}`tuple`-Funktion ein Tupel zu erzeugen.\n",
    "```\n",
    "\n",
    "Wozu sind Tupel nützlich, wenn sie im Wesentlichen Listen mit eingeschränkter\n",
    "Funktionalität sind? Die Unveränderbarkeit von Tupeln kann in der Praxis nützlich sein.\n",
    "Bei der Besprechung von Listen hatten wir zum Beispiel gesehen, dass besondere Vorsicht bei der\n",
    "Übergabe von Listen an Funktionen geboten ist, wenn innerhalb der Funktion Listenelemente verändert\n",
    "werden, da sich diese Änderungen auch außerhalb der Funktion auswirken. Bei Tupeln ist dies nicht der\n",
    "Fall, so dass sich diese besser für die Übergabe von Daten an eine Funktion eignen. In {numref}`dictionaries`\n",
    "werden wir später noch sehen, dass Tupel, im Gegensatz zu Listen, auch als Schlüssel in sogenannten\n",
    "*dictionaries* Verwendung finden können. Es gibt also gute Gründe, warum es neben den veränderlichen\n",
    "Listen auch noch die unveränderlichen Tupel gibt.\n",
    "\n",
    "Während Listen durch eckige Klammern eingeschlossen werden, verwendet man für Tupel runde Klammern. Dies\n",
    "ändert jedoch nichts daran, dass bei der Indizierung mit *slices* eckige Klammern zu verwenden sind."
   ]
  },
  {
   "cell_type": "code",
   "execution_count": 44,
   "metadata": {},
   "outputs": [
    {
     "name": "stdout",
     "output_type": "stream",
     "text": [
      "11\n",
      "(3, 11, 19)\n",
      "(31, 29, 23, 19, 17, 13, 11, 7, 5, 3, 2)\n"
     ]
    }
   ],
   "source": [
    "primzahlen = (2, 3, 5, 7, 11, 13, 17, 19, 23, 29, 31)\n",
    "print(primzahlen[4])\n",
    "print(primzahlen[1:8:3])\n",
    "print(primzahlen[::-1])"
   ]
  },
  {
   "cell_type": "markdown",
   "metadata": {},
   "source": [
    "Wie schon erwähnt ist es nicht möglich, Einträge in Tupeln zu verändern."
   ]
  },
  {
   "cell_type": "code",
   "execution_count": 45,
   "metadata": {
    "tags": [
     "raises-exception"
    ]
   },
   "outputs": [
    {
     "ename": "TypeError",
     "evalue": "'tuple' object does not support item assignment",
     "output_type": "error",
     "traceback": [
      "\u001b[0;31m---------------------------------------------------------------------------\u001b[0m",
      "\u001b[0;31mTypeError\u001b[0m                                 Traceback (most recent call last)",
      "\u001b[0;32m<ipython-input-45-7cc2ea0c184e>\u001b[0m in \u001b[0;36m<module>\u001b[0;34m\u001b[0m\n\u001b[1;32m      1\u001b[0m \u001b[0mmein_tupel\u001b[0m \u001b[0;34m=\u001b[0m \u001b[0;34m(\u001b[0m\u001b[0;36m1\u001b[0m\u001b[0;34m,\u001b[0m \u001b[0;36m17\u001b[0m\u001b[0;34m,\u001b[0m \u001b[0;36m3\u001b[0m\u001b[0;34m)\u001b[0m\u001b[0;34m\u001b[0m\u001b[0;34m\u001b[0m\u001b[0m\n\u001b[0;32m----> 2\u001b[0;31m \u001b[0mmein_tupel\u001b[0m\u001b[0;34m[\u001b[0m\u001b[0;36m1\u001b[0m\u001b[0;34m]\u001b[0m \u001b[0;34m=\u001b[0m \u001b[0;36m2\u001b[0m\u001b[0;34m\u001b[0m\u001b[0;34m\u001b[0m\u001b[0m\n\u001b[0m",
      "\u001b[0;31mTypeError\u001b[0m: 'tuple' object does not support item assignment"
     ]
    }
   ],
   "source": [
    "mein_tupel = (1, 17, 3)\n",
    "mein_tupel[1] = 2"
   ]
  },
  {
   "cell_type": "markdown",
   "metadata": {},
   "source": [
    "Möchte man ein Tupel mit nur einem einzigen Element erzeugen, so muss nach dem ersten Element ein\n",
    "Komma angegeben werden obwohl kein zweites Element folgt. Dies ist erforderlich, da sonst das Objekt\n",
    "den Datentyp des eingeklammerten Elements besitzen würde."
   ]
  },
  {
   "cell_type": "code",
   "execution_count": 46,
   "metadata": {},
   "outputs": [
    {
     "name": "stdout",
     "output_type": "stream",
     "text": [
      "<class 'int'>\n",
      "<class 'tuple'>\n"
     ]
    }
   ],
   "source": [
    "kein_tupel = (1)\n",
    "print(type(kein_tupel))\n",
    "ein_tupel = (1,)\n",
    "print(type(ein_tupel))"
   ]
  },
  {
   "cell_type": "markdown",
   "metadata": {},
   "source": [
    "Im ersten Fall erhält man also einen Integer und nur im zweiten Fall ein Tupel.\n",
    "\n",
    "Abschließend wollen wir nur kurz darauf hinweisen, dass einige Möglichkeiten, die wir von Listen her\n",
    "kennen und die nicht zu einer Modifikation der Liste führen, auch für Tupel existieren. So können wir\n",
    "beispielsweise die Länge eines Tupels wie gewohnt bestimmen."
   ]
  },
  {
   "cell_type": "code",
   "execution_count": 47,
   "metadata": {},
   "outputs": [
    {
     "name": "stdout",
     "output_type": "stream",
     "text": [
      "11\n"
     ]
    }
   ],
   "source": [
    "print(len(primzahlen))"
   ]
  },
  {
   "cell_type": "markdown",
   "metadata": {},
   "source": [
    "Auch lässt sich das Vorhandensein eines Elements in einem Tupel wie schon bei Listen diskutiert\n",
    "überprüfen."
   ]
  },
  {
   "cell_type": "code",
   "execution_count": 48,
   "metadata": {},
   "outputs": [
    {
     "name": "stdout",
     "output_type": "stream",
     "text": [
      "1 ist keine Primzahl.\n",
      "2 ist eine Primzahl.\n",
      "3 ist eine Primzahl.\n",
      "4 ist keine Primzahl.\n",
      "5 ist eine Primzahl.\n",
      "6 ist keine Primzahl.\n",
      "7 ist eine Primzahl.\n",
      "8 ist keine Primzahl.\n",
      "9 ist keine Primzahl.\n"
     ]
    }
   ],
   "source": [
    "for n in range(1, 10):\n",
    "    if n in primzahlen:\n",
    "        print(f'{n} ist eine Primzahl.')\n",
    "    else:\n",
    "        print(f'{n} ist keine Primzahl.')"
   ]
  },
  {
   "cell_type": "markdown",
   "metadata": {},
   "source": [
    "(strings)=\n",
    "## Zeichenketten\n",
    "\n",
    "````{margin}\n",
    "```{admonition} Unicode\n",
    "Mehr Information zu Unicodezeichen findet sich in {numref}`appendixunicode`.\n",
    "```\n",
    "````\n",
    "In vielen Beispielen sind wir bereits der Notwendigkeit begegnet, einen Text auszugeben,\n",
    "der aus einem oder mehreren Zeichen besteht. In einigen Programmiersprachen wird zwischen\n",
    "einzelnen Zeichen (*characters*) und Zeichenketten (*strings*) unterschieden. Dies ist zum\n",
    "Beispiel in Fortran und C der Fall, wo eine Zeichenkette eine Liste von `char` darstellt.\n",
    "In Python gibt es dagegen nur Zeichenketten. Diese bestehen aus einem oder mehreren\n",
    "Unicodezeichen und sind wie die Tupel, die wir gerade kennengelernt haben, *immutable*,\n",
    "also unveränderlich.\n",
    "\n",
    "Zeichenketten werden in Python wahlweise von Hochkommas (`'`) oder Anführungszeichen (`\"`,\n",
    "aber keine typographischen Anführungszeichen wie “”„‟), wobei am Anfang und am Ende das\n",
    "gleiche Zeichen verwendet werden muss. Während Python die Art der Begrenzer egal ist, kann\n",
    "diese Wahl beim Programmieren praktisch sein, wenn das andere Zeichen im Text selbst\n",
    "vorkommt."
   ]
  },
  {
   "cell_type": "code",
   "execution_count": 49,
   "metadata": {},
   "outputs": [
    {
     "data": {
      "text/plain": [
       "True"
      ]
     },
     "execution_count": 49,
     "metadata": {},
     "output_type": "execute_result"
    }
   ],
   "source": [
    "s1 = 'Hallo'\n",
    "s2 = \"Hallo\"\n",
    "s1 == s2"
   ]
  },
  {
   "cell_type": "markdown",
   "metadata": {},
   "source": [
    "Sollte der Begrenzer in der Zeichenkette selbst auch vorkommen, muss ihm mit einem\n",
    "vorgestellten Backslash (`\\`) die Sonderbedeutung an der betreffenden Stelle genommen\n",
    "werden."
   ]
  },
  {
   "cell_type": "code",
   "execution_count": 50,
   "metadata": {},
   "outputs": [
    {
     "name": "stdout",
     "output_type": "stream",
     "text": [
      "\"God said, 'Let Newton be!' and all was light\" (Alexander Pope)\n"
     ]
    }
   ],
   "source": [
    "s = '\"God said, \\'Let Newton be!\\' and all was light\" (Alexander Pope)'\n",
    "print(s)"
   ]
  },
  {
   "cell_type": "markdown",
   "metadata": {},
   "source": [
    "Umgekehrt kann der Backslash auch dazu verwendet werden, um bestimmten Zeichen eine\n",
    "besondere Bedeutung als Steuerzeichen zu geben. Verwendet man `\\n`, so kann man in der\n",
    "Ausgabe einen Zeilenumbruch erzeugen."
   ]
  },
  {
   "cell_type": "code",
   "execution_count": 51,
   "metadata": {},
   "outputs": [
    {
     "name": "stdout",
     "output_type": "stream",
     "text": [
      "Eine Zeile\n",
      "und noch eine Zeile\n"
     ]
    }
   ],
   "source": [
    "s = \"Eine Zeile\\nund noch eine Zeile\"\n",
    "print(s)"
   ]
  },
  {
   "cell_type": "markdown",
   "metadata": {},
   "source": [
    "Einige weitere Steuerzeichen findet man in {numref}`table:steuerzeichen`.\n",
    "\n",
    "Soll der Backslash nicht dazu dienen, ein Steuerzeichen anzudeuten, muss man seine\n",
    "Spezialfunktion entweder mit einem weiteren Backshlash außer Kraft setzen oder die\n",
    "Zeichenkette durch Voranstellen des Zeichens `r` als *raw string* kennzeichnen."
   ]
  },
  {
   "cell_type": "code",
   "execution_count": 52,
   "metadata": {},
   "outputs": [
    {
     "data": {
      "text/plain": [
       "('Eine Zeile\\\\nund noch eine Zeile', 'Eine Zeile\\\\nund noch eine Zeile')"
      ]
     },
     "execution_count": 52,
     "metadata": {},
     "output_type": "execute_result"
    }
   ],
   "source": [
    "s1 = \"Eine Zeile\\\\nund noch eine Zeile\"\n",
    "s2 = r\"Eine Zeile\\nund noch eine Zeile\"\n",
    "s1, s2"
   ]
  },
  {
   "cell_type": "markdown",
   "metadata": {},
   "source": [
    "Aus der Ausgabe kann man entnehmen, dass beide Varianten für Python vollkommen äquivalent\n",
    "sind.\n",
    "\n",
    "Wir wir in {numref}`dokumentation` gesehen haben, ist es in Python auch möglich,\n",
    "mehrzeilige Zeichenketten direkt als solche zu definieren. Dazu muss man am Anfang und\n",
    "am Ende der Zeichenkette statt nur einem Begrenzer, also `'` oder `\"`, jeweils drei\n",
    "dieser Begrenzer setzen."
   ]
  },
  {
   "cell_type": "code",
   "execution_count": 53,
   "metadata": {},
   "outputs": [
    {
     "name": "stdout",
     "output_type": "stream",
     "text": [
      "Eine Zeile\n",
      "und noch eine Zeile\n"
     ]
    }
   ],
   "source": [
    "s = '''Eine Zeile\n",
    "und noch eine Zeile'''\n",
    "print(s)"
   ]
  },
  {
   "cell_type": "markdown",
   "metadata": {},
   "source": [
    "Bei längeren Zeichenketten ist es manchmal auch praktisch, dass Python direkt\n",
    "aufeinanderfolgende Zeichenketten, auch wenn sie über mehrere Zeilen verteilt sind,\n",
    "automatisch zu einer Zeichenkette zusammenfügt, so dass man das nicht selbst explizit tun\n",
    "muss."
   ]
  },
  {
   "cell_type": "code",
   "execution_count": 54,
   "metadata": {},
   "outputs": [
    {
     "name": "stdout",
     "output_type": "stream",
     "text": [
      "Dies ist eine etwas längere Zeile, die noch weiter geht und noch weiter und noch weiter ...\n"
     ]
    }
   ],
   "source": [
    "s = ('Dies ist eine etwas längere Zeile, '\n",
    "     'die noch weiter geht '\n",
    "     'und noch weiter und noch weiter ...')\n",
    "print(s)"
   ]
  },
  {
   "cell_type": "markdown",
   "metadata": {},
   "source": [
    "Möchte man Zeichen verwenden, die sich nicht ohne Weiteres über die Tastatur eingeben\n",
    "lassen, so kann man mit dem Steuerzeichen `\\u` den entsprechenden Unicode-Codepoint\n",
    "angeben oder mit dem Steuerzeichen `\\N` die entsprechende Unicode-Beschreibung."
   ]
  },
  {
   "cell_type": "code",
   "execution_count": 55,
   "metadata": {},
   "outputs": [
    {
     "name": "stdout",
     "output_type": "stream",
     "text": [
      "☺ ☺\n",
      "ℏ ℏ\n"
     ]
    }
   ],
   "source": [
    "print('\\u263a \\N{WHITE SMILING FACE}')\n",
    "print('\\u210f \\N{PLANCK CONSTANT OVER TWO PI}')"
   ]
  },
  {
   "cell_type": "markdown",
   "metadata": {},
   "source": [
    "```{admonition} Weiterführender Hinweis\n",
    "Zur Darstellung einer Zeichenkette verwendet Python standardmäßig die UTF8-Kodierung,\n",
    "was in vielen Fällen die richtige Wahl sein wird. Benötigt man eine andere Kodierung,\n",
    "so muss je nach Anwendungfall die Kodierung spezifiziert werden oder die\n",
    "Unicode-Zeichenkette unter Angabe des `encoding`-Arguments in die entsprechende\n",
    "Byte-Darstellung umgewandelt werden.\n",
    "```\n",
    "\n",
    "Wie schon eingangs erwähnt, sind Zeichenketten genauso wie Tupel unveränderlich.\n",
    "Man kann Zeichenketten zwar mittels des Additionsoperators verketten, wie wir dies\n",
    "bei Tupeln schon gesehen hatten. Allerdings wird dabei immer eine neue Zeichenkette\n",
    "erzeugt, und dieses Vorgehen ist nicht sonderlich effizient."
   ]
  },
  {
   "cell_type": "code",
   "execution_count": 56,
   "metadata": {},
   "outputs": [
    {
     "name": "stdout",
     "output_type": "stream",
     "text": [
      "id(s1) = 140488456038384 | id(s2) = 140488456038896\n",
      "id(s1) = 140488111199776\n"
     ]
    }
   ],
   "source": [
    "s1 = 'Dies ist ein '\n",
    "s2 = 'Test'\n",
    "print(f'{id(s1) = } | {id(s2) = }')\n",
    "s1 = s1 + s2\n",
    "print(f'{id(s1) = }')"
   ]
  },
  {
   "cell_type": "markdown",
   "metadata": {},
   "source": [
    "Ein besseres Verfahren besteht darin, die zusammenzusetzenden Zeichenketten in einer\n",
    "Liste zu sammeln, und sie anschließend mit der {func}`join`-Methode zusammenzufügen.\n",
    "Dabei handelt es sich um die Methode einer Zeichenkette, die zwischen die in der Liste\n",
    "aufgeführten Zeichenketten gesetzt wird. Es kann sich dabei um eine leere Zeichenkette\n",
    "handeln, wenn man die einzelnen Zeichenketten nahtlos aneinander fügen möchte. Im\n",
    "folgenden Beispiel ist dagegen eine Zeichenkette sinnvoll, die aus einem Leerzeichen\n",
    "besteht, aber im Prinzip könnte die Zeichenkette auch mehrere Zeichen umfassen."
   ]
  },
  {
   "cell_type": "code",
   "execution_count": 57,
   "metadata": {},
   "outputs": [
    {
     "name": "stdout",
     "output_type": "stream",
     "text": [
      "EinführunginPrinzipienderProgrammierung\n",
      "Einführung in Prinzipien der Programmierung\n",
      "Einführung--in--Prinzipien--der--Programmierung\n"
     ]
    }
   ],
   "source": [
    "stringlist = ['Einführung', 'in', 'Prinzipien', 'der', 'Programmierung']\n",
    "print(''.join(stringlist))\n",
    "print(' '.join(stringlist))\n",
    "print('--'.join(stringlist))"
   ]
  },
  {
   "cell_type": "markdown",
   "metadata": {},
   "source": [
    "Neben dem Additionsoperator ist auch der Multiplikationsoperator zwischen einer\n",
    "Zeichenkette und einem Integer definiert ähnlich wie wir das bereits bei Listen\n",
    "gesehen hatten. Die ist beispielsweise praktisch, wenn man in einer Ausgabe\n",
    "einen Trennstrich einer bestimmten Länge setzen möchte."
   ]
  },
  {
   "cell_type": "code",
   "execution_count": 58,
   "metadata": {},
   "outputs": [
    {
     "name": "stdout",
     "output_type": "stream",
     "text": [
      "----------------------------------------\n"
     ]
    }
   ],
   "source": [
    "print('-'*40)"
   ]
  },
  {
   "cell_type": "markdown",
   "metadata": {},
   "source": [
    "Für Zeichenketten gibt es die gleichen Möglichkeiten des *slicing*, die wir auch von den\n",
    "Tupeln her kennen. Eine Veränderung einzelner oder mehrere Zeichen analog zu den Listen\n",
    "ist dagegen nicht möglich."
   ]
  },
  {
   "cell_type": "code",
   "execution_count": 59,
   "metadata": {},
   "outputs": [
    {
     "name": "stdout",
     "output_type": "stream",
     "text": [
      "s[14:24] = 'Prinzipien'\n",
      "s[-14:] = 'Programmierung'\n",
      "s[1::2] = 'ifhugi rniindrPormirn'\n",
      "s[::-1] = 'gnureimmargorP red neipiznirP ni gnurhüfniE'\n"
     ]
    }
   ],
   "source": [
    "s = 'Einführung in Prinzipien der Programmierung'\n",
    "print(f'{s[14:24] = }')\n",
    "print(f'{s[-14:] = }')\n",
    "print(f'{s[1::2] = }')\n",
    "print(f'{s[::-1] = }')"
   ]
  },
  {
   "cell_type": "markdown",
   "metadata": {},
   "source": [
    "Wie bei Listen und Tupeln lässt sich auch überprüfen, ob oder wo eine Zeichenkette in einer\n",
    "anderen Zeichenkette vorhanden ist. Ist die gesuchte Zeichenkette nicht vorhanden, so\n",
    "erhält man einen `ValueError`, den man mit einer `try…except`-Konstruktion behandeln kann,\n",
    "wie wir in {numref}`exceptions` gesehen hatten."
   ]
  },
  {
   "cell_type": "code",
   "execution_count": 60,
   "metadata": {
    "tags": [
     "raises-exception"
    ]
   },
   "outputs": [
    {
     "name": "stdout",
     "output_type": "stream",
     "text": [
      "True\n",
      "1\n"
     ]
    },
    {
     "ename": "ValueError",
     "evalue": "substring not found",
     "output_type": "error",
     "traceback": [
      "\u001b[0;31m---------------------------------------------------------------------------\u001b[0m",
      "\u001b[0;31mValueError\u001b[0m                                Traceback (most recent call last)",
      "\u001b[0;32m<ipython-input-60-95762d69d746>\u001b[0m in \u001b[0;36m<module>\u001b[0;34m\u001b[0m\n\u001b[1;32m      2\u001b[0m \u001b[0mprint\u001b[0m\u001b[0;34m(\u001b[0m\u001b[0;34m'in'\u001b[0m \u001b[0;32min\u001b[0m \u001b[0ms\u001b[0m\u001b[0;34m)\u001b[0m\u001b[0;34m\u001b[0m\u001b[0;34m\u001b[0m\u001b[0m\n\u001b[1;32m      3\u001b[0m \u001b[0mprint\u001b[0m\u001b[0;34m(\u001b[0m\u001b[0ms\u001b[0m\u001b[0;34m.\u001b[0m\u001b[0mindex\u001b[0m\u001b[0;34m(\u001b[0m\u001b[0;34m'in'\u001b[0m\u001b[0;34m)\u001b[0m\u001b[0;34m)\u001b[0m\u001b[0;34m\u001b[0m\u001b[0;34m\u001b[0m\u001b[0m\n\u001b[0;32m----> 4\u001b[0;31m \u001b[0mprint\u001b[0m\u001b[0;34m(\u001b[0m\u001b[0ms\u001b[0m\u001b[0;34m.\u001b[0m\u001b[0mindex\u001b[0m\u001b[0;34m(\u001b[0m\u001b[0;34m'x'\u001b[0m\u001b[0;34m)\u001b[0m\u001b[0;34m)\u001b[0m\u001b[0;34m\u001b[0m\u001b[0;34m\u001b[0m\u001b[0m\n\u001b[0m",
      "\u001b[0;31mValueError\u001b[0m: substring not found"
     ]
    }
   ],
   "source": [
    "s = 'Einführung in Prinzipien der Programmierung'\n",
    "print('in' in s)\n",
    "print(s.index('in'))\n",
    "print(s.index('x'))"
   ]
  },
  {
   "cell_type": "markdown",
   "metadata": {},
   "source": [
    "Wie über Listen oder Tupel kann man auch über Zeichenketten iterieren. Man \n",
    "erhält dann nacheinander die einzelnen Zeichen der Zeichenkette."
   ]
  },
  {
   "cell_type": "code",
   "execution_count": 61,
   "metadata": {},
   "outputs": [
    {
     "name": "stdout",
     "output_type": "stream",
     "text": [
      "A\n",
      "B\n",
      "C\n"
     ]
    }
   ],
   "source": [
    "for c in 'ABC':\n",
    "    print(c)"
   ]
  },
  {
   "cell_type": "markdown",
   "metadata": {},
   "source": [
    "Python stellt auch eine Reihe von Methoden spezifisch für Zeichenketten zur Verfügung, aus denen\n",
    "wir hier nur eine kleine Auswahl ansprechen wollen. Einen vollständigen Überblick bietet die\n",
    "Dokumentation unter dem Stichwort\n",
    "[String Methods](https://docs.python.org/3/library/stdtypes.html#string-methods).\n",
    "\n",
    "Häufig steht man vor der Aufgabe, überschüssige Leerzeichen um eine Zeichenkette herum oder \n",
    "einen Zeilenumbruch am Ende einer Zeichenkette zu entfernen. Die geht mit den Methoden {func}`strip`\n",
    "für beide Seiten, {func}`lstrip` für die linke und {func}`rstrip` für die rechte Seite der\n",
    "Zeichenkette. Ohne Argumente werden dabei Leerzeichen entfernt. Alternativ kann man eine Zeichenkette\n",
    "angeben, die die zu entfernenden Zeichen enthält."
   ]
  },
  {
   "cell_type": "code",
   "execution_count": 62,
   "metadata": {},
   "outputs": [
    {
     "name": "stdout",
     "output_type": "stream",
     "text": [
      "|Hallo |\n",
      "|   Hallo|\n",
      "|Hallo|\n"
     ]
    }
   ],
   "source": [
    "s = '   Hallo '\n",
    "print(f'|{s.lstrip()}|')\n",
    "print(f'|{s.rstrip()}|')\n",
    "print(f'|{s.strip()}|')"
   ]
  },
  {
   "cell_type": "code",
   "execution_count": 63,
   "metadata": {},
   "outputs": [
    {
     "name": "stdout",
     "output_type": "stream",
     "text": [
      "Hallo\n",
      "\n",
      "----------\n",
      "Hallo\n",
      "----------\n"
     ]
    }
   ],
   "source": [
    "s = 'Hallo\\n'\n",
    "print(s)\n",
    "print('-'*10)\n",
    "print(s.rstrip('\\n'))\n",
    "print('-'*10)"
   ]
  },
  {
   "cell_type": "markdown",
   "metadata": {},
   "source": [
    "Im letzten Beispiel erkennt man den ursprünglich vorhandenen Zeilenumbruch an der Leerzeile in\n",
    "der Ausgabe.\n",
    "\n",
    "Beim Vergleichen von Zeichenketten kann es nützlich sein, unabhängig von der Groß- und\n",
    "Kleinschreibung zu sein. Dann helfen die Methoden {func}`upper` und {func}`lower` weiter."
   ]
  },
  {
   "cell_type": "code",
   "execution_count": 64,
   "metadata": {},
   "outputs": [
    {
     "name": "stdout",
     "output_type": "stream",
     "text": [
      "HALLO hallo\n"
     ]
    }
   ],
   "source": [
    "s = 'Hallo'\n",
    "print(s.upper(), s.lower())"
   ]
  },
  {
   "cell_type": "markdown",
   "metadata": {},
   "source": [
    "Das abschließende Beispiel demonstriert, wie man einen Bruch formatiert darstellen kann. Die perfekte\n",
    "Ausrichtung funktioniert natürlich nur, wenn beide Zahlen eine gerade oder eine beide eine\n",
    "ungerade Anzahl von Stellen haben."
   ]
  },
  {
   "cell_type": "code",
   "execution_count": 65,
   "metadata": {},
   "outputs": [
    {
     "name": "stdout",
     "output_type": "stream",
     "text": [
      "12345678\n",
      "--------\n",
      "  2468  \n"
     ]
    }
   ],
   "source": [
    "zaehler = 12345678\n",
    "nenner = 2468\n",
    "s_zaehler = str(zaehler)\n",
    "s_nenner = str(nenner)\n",
    "maxlaenge = max(len(s_zaehler), len(s_nenner))\n",
    "print(s_zaehler.center(maxlaenge))\n",
    "print('-'*maxlaenge)\n",
    "print(s_nenner.center(maxlaenge))"
   ]
  },
  {
   "cell_type": "markdown",
   "metadata": {},
   "source": [
    "(dictionaries)=\n",
    "## Dictionaries"
   ]
  }
 ],
 "metadata": {
  "jupytext": {
   "formats": "md:myst",
   "text_representation": {
    "extension": ".md",
    "format_name": "myst",
    "format_version": "0.8",
    "jupytext_version": "1.4.1+dev"
   }
  },
  "kernelspec": {
   "display_name": "Python 3",
   "language": "python",
   "name": "python3"
  },
  "language_info": {
   "codemirror_mode": {
    "name": "ipython",
    "version": 3
   },
   "file_extension": ".py",
   "mimetype": "text/x-python",
   "name": "python",
   "nbconvert_exporter": "python",
   "pygments_lexer": "ipython3",
   "version": "3.9.1"
  },
  "source_map": [
   13,
   60,
   64,
   70,
   75,
   80,
   83,
   95,
   98,
   105,
   108,
   132,
   134,
   141,
   143,
   147,
   149,
   151,
   153,
   158,
   161,
   165,
   167,
   181,
   186,
   201,
   204,
   206,
   208,
   210,
   212,
   219,
   225,
   228,
   230,
   232,
   238,
   240,
   242,
   246,
   253,
   264,
   269,
   273,
   278,
   293,
   296,
   298,
   301,
   307,
   313,
   316,
   320,
   324,
   328,
   330,
   335,
   338,
   341,
   344,
   347,
   352,
   360,
   363,
   371,
   375,
   379,
   382,
   385,
   393,
   397,
   400,
   404,
   406,
   411,
   413,
   419,
   422,
   428,
   434,
   440,
   444,
   449,
   462,
   471,
   496,
   501,
   503,
   509,
   513,
   518,
   524,
   526,
   529,
   535,
   558,
   562,
   566,
   569,
   573,
   576,
   582,
   586,
   594,
   598,
   603,
   608,
   613,
   616,
   630,
   636,
   644,
   649,
   655,
   657,
   662,
   668,
   673,
   681,
   685,
   688,
   700,
   706,
   712,
   718,
   721,
   726,
   735
  ]
 },
 "nbformat": 4,
 "nbformat_minor": 4
}