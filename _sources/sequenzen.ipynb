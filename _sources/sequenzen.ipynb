{
 "cells": [
  {
   "cell_type": "markdown",
   "metadata": {},
   "source": [
    "(zusgdatentypen)=\n",
    "# Zusammengesetzte Datentypen\n",
    "\n",
    "```{admonition} Hinweis\n",
    ":class: warning\n",
    "Dieses Kapitel befindet sich noch in Bearbeitung.\n",
    "```\n",
    "\n",
    "(listen)=\n",
    "## Listen\n",
    "\n",
    "Bei der Lösung numerischer Probleme spielen die Zahlentypen, die wir im {numref}`datentypen`\n",
    "kennengelernt haben, also Integers, Gleitkommazahlen oder Floats sowie komplexe Zahlen eine\n",
    "zentrale Rolle. Insbesondere in den Natur- und Ingenieurwissenschaften sind diese Daten aber\n",
    "Bestandteile von komplexeren Datentypen wie Vektoren oder Matrizen. Man spricht in diesem\n",
    "Zusammenhang von zusammengesetzten Datentypen, die wir im Folgenden behandeln wollen. Dabei\n",
    "müssen die Bestandteile nicht unbedingt numerischer Natur sein. Ein Beispiel hierfür wären\n",
    "Zeichenketten.\n",
    "\n",
    "Bei den zusammengesetzten Datentypen ist es sinnvoll, eine Unterscheidung vorzunehmen, die\n",
    "die Art der einzelnen Bestandteile betrifft. In Programmiersprachen wie Fortran oder C\n",
    "kennt man den Datentyp des Arrays, das eine ein- oder mehrdimensionale Ansammlung von\n",
    "Zahlen des gleichen Datentyps umfasst. Jedes Element nimmt im Speicher gleich viel Platz\n",
    "in Anspruch und die aufeinanderfolgende Elemente schließen im Speicher nahtlos aneinander\n",
    "an. Da die Anordnung der Elemente im Speicher immer eindimensional ist, gibt es für die\n",
    "Speicherung mehrdimensionaler Array unterschiedliche Zugänge und tatsächlich unterscheiden\n",
    "sich Fortran und C in dieser Hinsicht. Die homogene Struktur von Arrays hat zur Folge,\n",
    "dass der Ort eines durch einen Index oder auch mehrere Indizes addressierten Elements im\n",
    "Speicher ausgehend von der Startadresse unmittelbar berechnet werden kann. Dadurch kann\n",
    "man sehr effizient auf Elemente des Arrays zugreifen.\n",
    "\n",
    "In Python dagegen stehen solche homogenen Datenansammlungen in Form von Arrays nicht im\n",
    "Standardsprachumfang zur Verfügung. Sie werden aber durch die Programmbibliothek NumPy,\n",
    "die die Basis für wissenschaftliche Numerik in Python bildet und die wir im\n",
    "{numref}`scipy` besprechen werden, bereitgestellt. Python stellt stattdessen standardmäßig\n",
    "den Datentyp einer Liste zur Verfügung, die Objekte verschiedener Datentypen enthalten\n",
    "kann, aber nicht muss. Die größere Flexibilität der Liste gegenüber den Arrays bezahlt man\n",
    "mit einem höheren Aufwand beim Zugriff auf einzelne Elemente. Wir werden im Folgenden\n",
    "Listen als Datentyp in Python besprechen. Viele Aspekte werden wir später auf die von\n",
    "NumPy zur Verfügung gestellten Arrays übertragen können.\n",
    "\n",
    "Listen sind uns beispielsweise bereits in {numref}`forloop` begegnet, wo wir die\n",
    "{func}`range`-Funktion verwendet hatten, um einen Schleifenzähler mit Werten zu versorgen.\n",
    "Dabei werden die benötigten Werte nur bei Bedarf erzeugt. Um alle Werte auf einmal zu\n",
    "sehen, hatten wir die {func}`list`-Funktion verwendet und dabei eine Liste erzeugt."
   ]
  },
  {
   "cell_type": "code",
   "execution_count": 1,
   "metadata": {},
   "outputs": [
    {
     "name": "stdout",
     "output_type": "stream",
     "text": [
      "[0, 1, 2, 3, 4, 5, 6, 7, 8, 9, 10, 11, 12, 13, 14, 15, 16, 17, 18, 19]\n",
      "<class 'list'>\n"
     ]
    }
   ],
   "source": [
    "meine_liste = list(range(20))\n",
    "print(meine_liste)\n",
    "print(type(meine_liste))"
   ]
  },
  {
   "cell_type": "markdown",
   "metadata": {},
   "source": [
    "Mit der zweiten Ausgabezeile wird hier nachgewiesen, dass der Datentyp des Objekts\n",
    "`meine_liste` tatsächlich eine Liste ist.\n",
    "\n",
    "Wenn man die Länge einer Liste nicht kennt, kann man diese mit Hilfe der {func}`len`-Funktion\n",
    "bestimmen."
   ]
  },
  {
   "cell_type": "code",
   "execution_count": 2,
   "metadata": {},
   "outputs": [
    {
     "name": "stdout",
     "output_type": "stream",
     "text": [
      "Länge der ersten Liste:  6 Elemente\n",
      "Länge der zweiten Liste: 3 Elemente\n"
     ]
    }
   ],
   "source": [
    "liste1 = list(range(1, 17, 3))\n",
    "print(f'Länge der ersten Liste:  {len(liste1)} Elemente')\n",
    "liste2 = ['Stein', 'Papier', 'Schere']\n",
    "print(f'Länge der zweiten Liste: {len(liste2)} Elemente')"
   ]
  },
  {
   "cell_type": "markdown",
   "metadata": {},
   "source": [
    "Eine wichtige Eigenschaft von Listen besteht darin, dass man einzelne Listenelement oder auch\n",
    "Ausschnitte aus der Liste adressieren kann und diese auch verändern kann. Wir demonstrieren\n",
    "dies zunächst an einem einzelnen Listenelement."
   ]
  },
  {
   "cell_type": "code",
   "execution_count": 3,
   "metadata": {},
   "outputs": [
    {
     "name": "stdout",
     "output_type": "stream",
     "text": [
      "17\n"
     ]
    }
   ],
   "source": [
    "meine_liste = [1, 17, 3]\n",
    "print(meine_liste[1])"
   ]
  },
  {
   "cell_type": "markdown",
   "metadata": {},
   "source": [
    "Das Ergebnis zeigt, dass die Zählung in Python bei 0 beginnt, wie es beispielsweise auch in\n",
    "der Programmiersprache C der Fall ist. Diese Wahl lässt sich dadurch motivieren, dass die Position\n",
    "des ersten Elements einer Liste relativ zum Beginn der Liste im Speicherplatz durch einen Offset\n",
    "von 0 gegeben ist. Man könnte aber auch argumentieren, dass das erste Element durch den Index 1\n",
    "addressiert werden sollte. Diese Wahl wurde in der Programmiersprache Fortran getroffen. Man muss\n",
    "sich also diesbezüglich informieren, welche Konvention in der verwendeten Programmiersprache gilt.\n",
    "\n",
    "Eine Veränderung eines Listenelements ist durch eine Zuweisung für das betreffende Listenelement\n",
    "möglich."
   ]
  },
  {
   "cell_type": "code",
   "execution_count": 4,
   "metadata": {},
   "outputs": [
    {
     "name": "stdout",
     "output_type": "stream",
     "text": [
      "[1, 2, 3]\n"
     ]
    }
   ],
   "source": [
    "meine_liste[1] = 2\n",
    "print(meine_liste)"
   ]
  },
  {
   "cell_type": "markdown",
   "metadata": {},
   "source": [
    "(tupel)=\n",
    "## Tupel\n",
    "\n",
    "(strings)=\n",
    "## Zeichenketten\n",
    "\n",
    "(dictionaries)=\n",
    "## Dictionaries"
   ]
  }
 ],
 "metadata": {
  "jupytext": {
   "formats": "md:myst",
   "text_representation": {
    "extension": ".md",
    "format_name": "myst",
    "format_version": "0.8",
    "jupytext_version": "1.4.1+dev"
   }
  },
  "kernelspec": {
   "display_name": "Python 3",
   "language": "python",
   "name": "python3"
  },
  "language_info": {
   "codemirror_mode": {
    "name": "ipython",
    "version": 3
   },
   "file_extension": ".py",
   "mimetype": "text/x-python",
   "name": "python",
   "nbconvert_exporter": "python",
   "pygments_lexer": "ipython3",
   "version": "3.9.1"
  },
  "source_map": [
   13,
   60,
   64,
   70,
   75,
   80,
   83,
   93,
   96
  ]
 },
 "nbformat": 4,
 "nbformat_minor": 4
}