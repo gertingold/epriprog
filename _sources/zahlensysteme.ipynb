{
 "cells": [
  {
   "cell_type": "markdown",
   "metadata": {},
   "source": [
    "(anhang_zahlensysteme)=\n",
    "# Anhang: Zahlensysteme\n",
    "\n",
    "Im Alltag sind wir es gewohnt, Zahlen im Dezimalsystems anzugeben, das zehn\n",
    "Ziffern benötigt. Da ein Computer Information nur in Form von Bits, die die\n",
    "Werte Null oder Eins annehmen können, speichern kann, stehen zunächst nur zwei\n",
    "Ziffern zur Verfügung. Dann ist es besser, im Dualsystem zu arbeiten, das wir\n",
    "im {numref}`dualsystem` besprechen werden.\n",
    "\n",
    "In der Praxis ist es häufig praktisch, einige Bits zusammenzufassen. In der\n",
    "Praxis hat sich das Hexadezimalsystem bewährt, bei dem vier aufeinanderfolgende\n",
    "Bits durch eine von insgesamt sechzehn Ziffern dargestellt werden. Dem\n",
    "Hexadezimalsystem werden wir uns im {numref}`hexadezimalsystem` zuwenden. \n",
    "\n",
    "Häufig beschränken Programmiersprachen die Zahl der Bits, die verwendet werden,\n",
    "um ein Integer darzustellen. Dadurch wird der darstellbare Zahlenbereich mehr\n",
    "oder weniger eingeschränkt, und es kann durch eine Überschreitung des zulässigen\n",
    "Zahlenbereichs zu Problemen durch einen so genannten *overflow* kommen. Obwohl\n",
    "dies in Python diese Problematik bei Integers im Prinzip nicht kennt, muss man\n",
    "sich ihrer bewusst sein, wenn man in Python Programmpakete wie NumPy oder SciPy\n",
    "verwendet, die auch auf in C oder Fortran geschriebenen Programmen basieren.\n",
    "Daher werden wir uns in {numref}`integertypes` verschiedene Arten von Integers\n",
    "und die zugehörigen Zahlenbereiche ansehen.\n",
    "\n",
    "(dualsystem)=\n",
    "## Dualsystem\n",
    "\n",
    "Bevor wir uns mit dem Dualsystem beschäftigen, ist es sinnvoll, sich noch einmal\n",
    "die Funktionsweise des gewohnten Dezimalsystems zu vergegenwärtigen. Die durch\n",
    "Ziffern markierten Stellen entsprechen von hinten nach vorne gelesen den Einern,\n",
    "Zehnern, Hundertern usw. Ein Beispiel soll das verdeutlichen:\n",
    "\n",
    "$$1234 = 1\\cdot10^3+2\\cdot10^2+3\\cdot10^1+4\\cdot10^0\n",
    "       = 1\\cdot1000+2\\cdot100+3\\cdot10+4\\cdot1$$\n",
    "\n",
    "Im Dualsystem werden die Zehnerpotenzen durch Zweierpotenzen ersetzt. Im folgenden\n",
    "Beispiel geben die Indizes 2 und 10 das jeweilige Zahlensystem an.\n",
    "\n",
    "$$\\begin{align}\n",
    "123_{10} &= 1\\cdot10^2+2\\cdot10^1+3\\cdot10^0\\\\\n",
    " &= 1\\cdot2^6+1\\cdot2^5+1\\cdot2^4+1\\cdot2^3+0\\cdot2^2+1\\cdot2^1+1\\cdot2^0\\\\\n",
    " &= 1\\cdot64+1\\cdot32+1\\cdot16+1\\cdot8+0\\cdot4+1\\cdot2+1\\cdot1\\\\\n",
    " &= 1111011_2\n",
    "\\end{align}$$\n",
    "\n",
    "Um diese Zerlegung zu erhalten, sucht man zunächst die höchste Zweierpotenz, die kleiner\n",
    "gleich der vorgegebenen Zahl ist. Im Beispiel ist dies $64 = 2^6$. Nachdem man diese\n",
    "Zahl abgezogen hat, geht man sukzessive zu kleineren Potenzen und erhält als Ziffer eine\n",
    "0 oder 1 je nachdem ob die jeweilige Zweierpotenz größer als die betreffende Zahl ist oder\n",
    "nicht. Man kann diese Aufgabe aber auch einfach Python überlassen. Die Umrechnung einer\n",
    "Dezimalzahl in eine Dualzahl erfolgt mit Hilfe der {func}`bin`-Funktion. Unser Beispiel\n",
    "würde man dann folgendermaßen umrechnen:"
   ]
  },
  {
   "cell_type": "code",
   "execution_count": 1,
   "metadata": {},
   "outputs": [
    {
     "data": {
      "text/plain": [
       "'0b1111011'"
      ]
     },
     "execution_count": 1,
     "metadata": {},
     "output_type": "execute_result"
    }
   ],
   "source": [
    "bin(123)"
   ]
  },
  {
   "cell_type": "markdown",
   "metadata": {},
   "source": [
    "Im Ergebnis deutet die führenden Null an, dass es sich um eine Zahl handelt, während das\n",
    "`b` darauf hinweist, dass die Zahl im Dual- oder Binärsystem zu interpretieren ist. Gibt\n",
    "man eine Binärzahl in die Codezelle eines Jupyter-Notebooks ein, so wird als Ausgabe die\n",
    "entsprechende Dezimaldarstellung erzeugt."
   ]
  },
  {
   "cell_type": "code",
   "execution_count": 2,
   "metadata": {},
   "outputs": [
    {
     "data": {
      "text/plain": [
       "123"
      ]
     },
     "execution_count": 2,
     "metadata": {},
     "output_type": "execute_result"
    }
   ],
   "source": [
    "0b1111011"
   ]
  },
  {
   "cell_type": "markdown",
   "metadata": {},
   "source": [
    "Bis jetzt haben wir nur ganze Zahlen betrachtet. Genauso wie im Dezimalsystem kann man\n",
    "aber auch im Dualsystem reelle Zahlen darstellen. Im Dezimalsystem werden nach dem Komma\n",
    "die Zehnerpotenzen mit negativen Potenzen fortgesetzt. Es ist also beispielsweise\n",
    "\n",
    "$$3{,}14 = 3\\cdot10^0+1\\cdot10^{-1}+4\\cdot10^{-2} = 3\\cdot1+1\\cdot0{,}1+4\\cdot0{,}01$$\n",
    "\n",
    "Entsprechend haben wir im Dualsystem\n",
    "\n",
    "$$0{,}11_2 = 1\\cdot2^{-1}+1\\cdot2^{-2} = 1\\cdot 0{,}5+1\\cdot0{,}25 = 0.75_{10}$$\n",
    "\n",
    "Zu beachten ist, dass eine endliche Zahl von Nachkommastellen im Dezimalsystem im Allgemeinen\n",
    "nicht bedeutet, dass auch im Dualsystem die Zahl der Nachkommastellen endlich ist, wie dieses\n",
    "Beispiel verdeutlicht:\n",
    "\n",
    "$$0{,}1_{10} = 0{,}0\\overline{0011}_2$$\n",
    "\n",
    "Hier deutet der Überstrich eine periodische Wiederholung der letzten vier Ziffern an. Da der\n",
    "Computer nicht beliebig viele Stellen berücksichtigen kann, führt das Abschneiden von\n",
    "Nachkommastellen zu Fehlern, den so genannten Rundungsfehlern, wie wir an anderer Stelle\n",
    "noch sehen werden.\n",
    "\n",
    "```{admonition} Aufgabe\n",
    "Zeigen Sie, dass die angegebene Dualdarstellung der Dezimalzahl $0{,}1$ korrekt ist. \n",
    "Dabei kann es nützlich sein, an geometrische Reihen zu denken.\n",
    "```\n",
    "\n",
    "(hexadezimalsystem)=\n",
    "## Hexadezimalsystem\n",
    "\n",
    "(integertypes)=\n",
    "## Verschiedene Arten von Integers"
   ]
  }
 ],
 "metadata": {
  "jupytext": {
   "formats": "md:myst",
   "text_representation": {
    "extension": ".md",
    "format_name": "myst",
    "format_version": "0.8",
    "jupytext_version": "1.4.1+dev"
   }
  },
  "kernelspec": {
   "display_name": "Python 3",
   "language": "python",
   "name": "python3"
  },
  "language_info": {
   "codemirror_mode": {
    "name": "ipython",
    "version": 3
   },
   "file_extension": ".py",
   "mimetype": "text/x-python",
   "name": "python",
   "nbconvert_exporter": "python",
   "pygments_lexer": "ipython3",
   "version": "3.8.5"
  },
  "source_map": [
   13,
   68,
   70,
   76,
   78
  ]
 },
 "nbformat": 4,
 "nbformat_minor": 4
}