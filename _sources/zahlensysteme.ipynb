{
 "cells": [
  {
   "cell_type": "markdown",
   "id": "eadc9c3d",
   "metadata": {},
   "source": [
    "(anhang_zahlensysteme)=\n",
    "# Anhang: Zahlensysteme\n",
    "\n",
    "Im Alltag sind wir es gewohnt, Zahlen im Dezimalsystems anzugeben, das zehn\n",
    "Ziffern benötigt. Da ein Computer Information nur in Form von Bits, die die\n",
    "Werte Null oder Eins annehmen können, speichern kann, stehen zunächst nur zwei\n",
    "Ziffern zur Verfügung. Dann ist es besser, im Dualsystem zu arbeiten, das wir\n",
    "im {numref}`dualsystem` besprechen werden.\n",
    "\n",
    "In der Praxis ist es häufig praktisch, einige Bits zusammenzufassen. In der\n",
    "Praxis hat sich das Hexadezimalsystem bewährt, bei dem vier aufeinanderfolgende\n",
    "Bits durch eine von insgesamt sechzehn Ziffern dargestellt werden. Dem\n",
    "Hexadezimalsystem werden wir uns im {numref}`hexadezimalsystem` zuwenden. \n",
    "\n",
    "Häufig beschränken Programmiersprachen die Zahl der Bits, die verwendet werden,\n",
    "um ein Integer darzustellen. Dadurch wird der darstellbare Zahlenbereich mehr\n",
    "oder weniger eingeschränkt, und es kann durch eine Überschreitung des zulässigen\n",
    "Zahlenbereichs zu Problemen durch einen so genannten *overflow* kommen. Obwohl\n",
    "Python diese Problematik bei Integers im Prinzip nicht kennt, muss man\n",
    "sich ihrer bewusst sein, wenn man in Python Programmpakete wie NumPy oder SciPy\n",
    "verwendet, die auch auf in C oder Fortran geschriebenen Programmen basieren.\n",
    "Daher werden wir uns in {numref}`integertypes` verschiedene Arten von Integers\n",
    "und die zugehörigen Zahlenbereiche ansehen.\n",
    "\n",
    "(dualsystem)=\n",
    "## Dualsystem\n",
    "\n",
    "Bevor wir uns mit dem Dualsystem beschäftigen, ist es sinnvoll, sich noch einmal\n",
    "die Funktionsweise des gewohnten Dezimalsystems zu vergegenwärtigen. Die durch\n",
    "Ziffern markierten Stellen entsprechen von hinten nach vorne gelesen den Einern,\n",
    "Zehnern, Hundertern usw. Ein Beispiel soll das verdeutlichen:\n",
    "\n",
    "$$1234 = 1\\cdot10^3+2\\cdot10^2+3\\cdot10^1+4\\cdot10^0\n",
    "       = 1\\cdot1000+2\\cdot100+3\\cdot10+4\\cdot1$$\n",
    "\n",
    "Im Dualsystem werden die Zehnerpotenzen durch Zweierpotenzen ersetzt. Im folgenden\n",
    "Beispiel geben die Indizes 2 und 10 das jeweilige Zahlensystem an.\n",
    "\n",
    "$$\\begin{align}\n",
    "123_{10} &= 1\\cdot10^2+2\\cdot10^1+3\\cdot10^0\\\\\n",
    " &= 1\\cdot2^6+1\\cdot2^5+1\\cdot2^4+1\\cdot2^3+0\\cdot2^2+1\\cdot2^1+1\\cdot2^0\\\\\n",
    " &= 1\\cdot64+1\\cdot32+1\\cdot16+1\\cdot8+0\\cdot4+1\\cdot2+1\\cdot1\\\\\n",
    " &= 1111011_2\n",
    "\\end{align}$$\n",
    "\n",
    "Um diese Zerlegung zu erhalten, sucht man zunächst die höchste Zweierpotenz, die kleiner\n",
    "gleich der vorgegebenen Zahl ist. Im Beispiel ist dies $64 = 2^6$. Nachdem man diese\n",
    "Zahl abgezogen hat, geht man sukzessive zu kleineren Potenzen und erhält als Ziffer eine\n",
    "0 oder 1 je nachdem ob die jeweilige Zweierpotenz größer als die betreffende Zahl ist oder\n",
    "nicht. Man kann diese Aufgabe aber auch einfach Python überlassen. Die Umrechnung einer\n",
    "Dezimalzahl in eine Dualzahl erfolgt mit Hilfe der {func}`bin`-Funktion. Unser Beispiel\n",
    "würde man dann folgendermaßen umrechnen:"
   ]
  },
  {
   "cell_type": "code",
   "execution_count": 1,
   "id": "647f5d39",
   "metadata": {},
   "outputs": [
    {
     "data": {
      "text/plain": [
       "'0b1111011'"
      ]
     },
     "execution_count": 1,
     "metadata": {},
     "output_type": "execute_result"
    }
   ],
   "source": [
    "bin(123)"
   ]
  },
  {
   "cell_type": "markdown",
   "id": "9a6d3ccd",
   "metadata": {},
   "source": [
    "Im Ergebnis deutet die führenden Null an, dass es sich um eine Zahl handelt, während das\n",
    "`b` darauf hinweist, dass die Zahl im Dual- oder Binärsystem zu interpretieren ist. Gibt\n",
    "man eine Binärzahl in die Codezelle eines Jupyter-Notebooks ein, so wird als Ausgabe die\n",
    "entsprechende Dezimaldarstellung erzeugt."
   ]
  },
  {
   "cell_type": "code",
   "execution_count": 2,
   "id": "7bcd6ce2",
   "metadata": {},
   "outputs": [
    {
     "data": {
      "text/plain": [
       "123"
      ]
     },
     "execution_count": 2,
     "metadata": {},
     "output_type": "execute_result"
    }
   ],
   "source": [
    "0b1111011"
   ]
  },
  {
   "cell_type": "markdown",
   "id": "4e5645cb",
   "metadata": {},
   "source": [
    "Bis jetzt haben wir nur ganze Zahlen betrachtet. Genauso wie im Dezimalsystem kann man\n",
    "aber auch im Dualsystem reelle Zahlen darstellen. Im Dezimalsystem werden nach dem Komma\n",
    "die Zehnerpotenzen mit negativen Potenzen fortgesetzt. Es ist also beispielsweise\n",
    "\n",
    "$$3{,}14 = 3\\cdot10^0+1\\cdot10^{-1}+4\\cdot10^{-2} = 3\\cdot1+1\\cdot0{,}1+4\\cdot0{,}01$$\n",
    "\n",
    "Entsprechend haben wir im Dualsystem\n",
    "\n",
    "$$0{,}11_2 = 1\\cdot2^{-1}+1\\cdot2^{-2} = 1\\cdot 0{,}5+1\\cdot0{,}25 = 0.75_{10}$$\n",
    "\n",
    "Zu beachten ist, dass eine endliche Zahl von Nachkommastellen im Dezimalsystem im Allgemeinen\n",
    "nicht bedeutet, dass auch im Dualsystem die Zahl der Nachkommastellen endlich ist, wie dieses\n",
    "Beispiel verdeutlicht:\n",
    "\n",
    "$$0{,}1_{10} = 0{,}0\\overline{0011}_2$$\n",
    "\n",
    "Hier deutet der Überstrich eine periodische Wiederholung der letzten vier Ziffern an. Da der\n",
    "Computer nicht beliebig viele Stellen berücksichtigen kann, führt das Abschneiden von\n",
    "Nachkommastellen zu Fehlern, den so genannten Rundungsfehlern, wie wir an anderer Stelle\n",
    "noch sehen werden.\n",
    "\n",
    "```{admonition} Aufgabe\n",
    "Zeigen Sie, dass die angegebene Dualdarstellung der Dezimalzahl $0{,}1$ korrekt ist. \n",
    "Dabei kann es nützlich sein, an geometrische Reihen zu denken.\n",
    "```\n",
    "\n",
    "(hexadezimalsystem)=\n",
    "## Hexadezimalsystem\n",
    "\n",
    "In der Praxis hat das Dualsystem den Nachteil, dass die Zahlen relativ schwer lesbar sind.\n",
    "Zum einen enthalten Binärzahlen lediglich die Ziffern 0 und 1 und zudem sind sie etwa\n",
    "3,3-mal so lang wie die entsprechende Dezimaldarstellung. Daher fasst man häufig vier Bits\n",
    "zusammen, die dann die Ziffern von 0 bis 15 darstellen können. Auf diese Weise erhält man\n",
    "das Hexadezimalsystem, das die Basis 16 benutzt. In diesem System benutzt man wie gewohnt\n",
    "die Ziffern 0 bis 9 und fährt dann mit den Buchstaben A bis F fort. Dabei spielt es \n",
    "keine Rolle, ob diese Buchstaben klein- oder großgeschrieben sind. \n",
    "\n",
    "| Dualsystem | Dezimalsystem | Hexadezimalsystem |\n",
    "|:----------:| :-----------: |:-----------------:|\n",
    "|   0000     |       0       |         0         |\n",
    "|   0001     |       1       |         1         |\n",
    "|   0010     |       2       |         2         |\n",
    "|   0011     |       3       |         3         |\n",
    "|   0100     |       4       |         4         |\n",
    "|   0101     |       5       |         5         |\n",
    "|   0110     |       6       |         6         |\n",
    "|   0111     |       7       |         7         |\n",
    "|   1000     |       8       |         8         |\n",
    "|   1001     |       9       |         9         |\n",
    "|   1010     |       10      |         A         |\n",
    "|   1011     |       11      |         B         |\n",
    "|   1100     |       12      |         C         |\n",
    "|   1101     |       13      |         D         |\n",
    "|   1110     |       14      |         E         |\n",
    "|   1111     |       15      |         F         |\n",
    "\n",
    "Im vorigen Abschnitt hatten wir gesehen, dass die kleinste Informationseinheit in einem Computer\n",
    "ein Bit ist, das die Werte 0 oder 1 annehmen kann. Häufig fasst man mehrere Bits zu einem Byte\n",
    "zusammen, das normalerweise acht Bits umfasst. Da eine Ziffer im Hexadezimalsystem vier Bits entspricht,\n",
    "lässt sich also ein Byte kompakt durch zwei Ziffern im Hexadezimalsystem darstellen. So ist zum\n",
    "Beispiel\n",
    "\n",
    "$$11110011_2 = \\mathrm{F}3_{16} = 15\\cdot16^1 + 3\\cdot16^0 = 243_{10}$$\n",
    "\n",
    "Die Umwandlung von einer Dezimal- in eine Hexadezimalzahl kann man in Python mit Hilfe der \n",
    "{func}`hex`-Funktion vorgenommen werden."
   ]
  },
  {
   "cell_type": "code",
   "execution_count": 3,
   "id": "efeedb87",
   "metadata": {},
   "outputs": [
    {
     "data": {
      "text/plain": [
       "'0xf3'"
      ]
     },
     "execution_count": 3,
     "metadata": {},
     "output_type": "execute_result"
    }
   ],
   "source": [
    "hex(243)"
   ]
  },
  {
   "cell_type": "markdown",
   "id": "a81a02ea",
   "metadata": {},
   "source": [
    "Dabei zeigt das `x` nach der führenden Null das Hexadezimalformat an.\n",
    "\n",
    "Genauso wie man eine Binärzahl in eine Dezimalzahl umwandeln kann,"
   ]
  },
  {
   "cell_type": "code",
   "execution_count": 4,
   "id": "d21009e2",
   "metadata": {},
   "outputs": [
    {
     "data": {
      "text/plain": [
       "243"
      ]
     },
     "execution_count": 4,
     "metadata": {},
     "output_type": "execute_result"
    }
   ],
   "source": [
    "int(0b11110011)"
   ]
  },
  {
   "cell_type": "markdown",
   "id": "c99a4a0e",
   "metadata": {},
   "source": [
    "geht dies auch für eine Hexadezimalzahl"
   ]
  },
  {
   "cell_type": "code",
   "execution_count": 5,
   "id": "fba49970",
   "metadata": {},
   "outputs": [
    {
     "data": {
      "text/plain": [
       "243"
      ]
     },
     "execution_count": 5,
     "metadata": {},
     "output_type": "execute_result"
    }
   ],
   "source": [
    "int(0xf3)"
   ]
  },
  {
   "cell_type": "markdown",
   "id": "82f8fe26",
   "metadata": {},
   "source": [
    "Die Art der Zahl wird an dem `b` bzw. `x` erkannt. Dabei ist es irrelevant,\n",
    "ob das `x` klein oder groß geschrieben ist. Gleiches gilt, wie schon gesagt,\n",
    "auch für die Hexadezimalziffern."
   ]
  },
  {
   "cell_type": "code",
   "execution_count": 6,
   "id": "5502b53c",
   "metadata": {},
   "outputs": [
    {
     "data": {
      "text/plain": [
       "(243, 243, 243)"
      ]
     },
     "execution_count": 6,
     "metadata": {},
     "output_type": "execute_result"
    }
   ],
   "source": [
    "int(0xF3), int(0Xf3), int(0XF3)"
   ]
  },
  {
   "cell_type": "markdown",
   "id": "f54a58d6",
   "metadata": {},
   "source": [
    "Der Vollständigkeit halber sei erwähnt, dass Python auch mit Zahlen im Oktalsystem mit \n",
    "der Basis 8 arbeiten kann, in dem die Ziffern zwischen 0 und 7 liegen. Allerdings ist\n",
    "das Hexadezimalsystem zur Angabe von Bytes am geeignetsten.\n",
    "\n",
    "(integertypes)=\n",
    "## Verschiedene Arten von Integers\n",
    "\n",
    "Nachdem wir nun mit dem Dual- und dem Hexadezimalsystem vertraut sind, können wir uns\n",
    "verschiedenen Arten von Integers und den von ihnen abgedeckten Zahlenbereichen zuwenden.\n",
    "\n",
    "Zunächst kann man sich fragen, warum nicht alle Programmiersprachen zumindest\n",
    "im Prinzip beliebig große Integers zulassen. Hierfür gibt es zwei wesentliche\n",
    "Gründe. Ältere Programmiersprachen wurden zu einer Zeit entwickelt als Speicher\n",
    "in Computern eine knappe Ressource war. Man hat damals also versucht, mit so wenig\n",
    "Speicher auszukommen wie es von der entsprechenden Anwendung erfordert wurde.\n",
    "\n",
    "Ein weiterer Grund wird vor allem dann relevant, wenn man eine ganze Reihe von Objekten\n",
    "verarbeiten will. Gerade bei numerischen Problemen hat man es ja oft mit Vektoren oder\n",
    "Matrizen zu tun. Wenn alle Einträge in einem Vektor oder einer Matrix die gleiche\n",
    "Speichergröße erfordern, kann man sehr leicht ausrechnen, wo sich ein bestimmter Eintrag\n",
    "im Speicher befindet, und damit schnell darauf zugreifen. Gerade in Sprachen wie Fortran\n",
    "und C, die nicht wie Python den Code zeilenweise interpretieren, sondern den gesamten\n",
    "Code mehr oder weniger genau analysieren, ist es mit der Kenntnis über die Größe von\n",
    "Objekten im Speicher möglich, die Ausführungsgeschwindigkeit eines Programms zu optimieren.\n",
    "\n",
    "Um das Prinzip zu verstehen, beginnen wir mit den kleinsten Integers und verzichten zunächst\n",
    "auf negative Zahlen. Man spricht dann von »unsigned char«, die aus einem einzigen Byte bestehen.\n",
    "Python erlaubt es uns, die interne Darstellung leicht zu bestimmen, wobei uns hier nur das\n",
    "Ergebnis interessieren soll."
   ]
  },
  {
   "cell_type": "code",
   "execution_count": 7,
   "id": "355898b5",
   "metadata": {},
   "outputs": [
    {
     "data": {
      "text/plain": [
       "'7b'"
      ]
     },
     "execution_count": 7,
     "metadata": {},
     "output_type": "execute_result"
    }
   ],
   "source": [
    "from struct import pack\n",
    "pack('>B', 123).hex()"
   ]
  },
  {
   "cell_type": "markdown",
   "id": "ab8fc2d0",
   "metadata": {},
   "source": [
    "Dieses Ergebnis lässt sich leicht nachvollziehen\n",
    "\n",
    "$$\\begin{align}\n",
    "7\\mathrm{b}_{16} &= 7\\cdot16^1+11\\cdot16^0\\\\\n",
    "                 &= 112+11\\\\\n",
    "                 &= 123\n",
    "\\end{align}$$\n",
    "\n",
    "Die größte Zahl, die man mit einem Byte darstellen kann, ist $2^{8}-1=255$."
   ]
  },
  {
   "cell_type": "code",
   "execution_count": 8,
   "id": "e0fccfbc",
   "metadata": {},
   "outputs": [
    {
     "data": {
      "text/plain": [
       "'ff'"
      ]
     },
     "execution_count": 8,
     "metadata": {},
     "output_type": "execute_result"
    }
   ],
   "source": [
    "pack('>B', 2**8-1).hex()"
   ]
  },
  {
   "cell_type": "markdown",
   "id": "46a08496",
   "metadata": {},
   "source": [
    "Was passiert, wenn man versucht, $2^{8}$ als »unsigned char« darzustellen?"
   ]
  },
  {
   "cell_type": "code",
   "execution_count": 9,
   "id": "0b5ddfc0",
   "metadata": {
    "tags": [
     "raises-exception"
    ]
   },
   "outputs": [
    {
     "ename": "error",
     "evalue": "ubyte format requires 0 <= number <= 255",
     "output_type": "error",
     "traceback": [
      "\u001b[0;31m---------------------------------------------------------------------------\u001b[0m",
      "\u001b[0;31merror\u001b[0m                                     Traceback (most recent call last)",
      "Cell \u001b[0;32mIn[9], line 1\u001b[0m\n\u001b[0;32m----> 1\u001b[0m \u001b[43mpack\u001b[49m\u001b[43m(\u001b[49m\u001b[38;5;124;43m'\u001b[39;49m\u001b[38;5;124;43m>B\u001b[39;49m\u001b[38;5;124;43m'\u001b[39;49m\u001b[43m,\u001b[49m\u001b[43m \u001b[49m\u001b[38;5;241;43m2\u001b[39;49m\u001b[38;5;241;43m*\u001b[39;49m\u001b[38;5;241;43m*\u001b[39;49m\u001b[38;5;241;43m8\u001b[39;49m\u001b[43m)\u001b[49m\u001b[38;5;241m.\u001b[39mhex()\n",
      "\u001b[0;31merror\u001b[0m: ubyte format requires 0 <= number <= 255"
     ]
    }
   ],
   "source": [
    "pack('>B', 2**8).hex()"
   ]
  },
  {
   "cell_type": "markdown",
   "id": "5ef1e337",
   "metadata": {},
   "source": [
    "Diese Zahl ist nicht mehr in einem Byte darstellbar, sondern erfordert zwei\n",
    "Bytes: `0x0100`.  Python bricht daher mit einer Fehlermeldung ab. Dieses\n",
    "Verhalten ist jedoch nicht selbstverständlich.  In manchen Programmiersprachen\n",
    "wird einfach die 1 im führenden Byte ignoriert, was zur Folge hat, dass $2^8$\n",
    "stillschweigend auf $0$ abgebildet wird. Man spricht hier von einem Überlauf.\n",
    "Diesen sollte man tunlichst vermeiden, da die Numerik sonst fehlerhafte\n",
    "Ergebnisse liefert.\n",
    "\n",
    "Neben dem gerade besprochenen Integerformat »unsigned char« gibt es auch\n",
    "»signed char«, das auch negative Zahlen zulässt. Dabei wird das Vorzeichen im\n",
    "höchsten Bit, in unserer Darstellung also ganz links, gespeichert.\n",
    "Dementsprechend sind positive Zahlen von $0$ mit $2^{7}-1$ darstellbar."
   ]
  },
  {
   "cell_type": "code",
   "execution_count": 10,
   "id": "b9c274d2",
   "metadata": {},
   "outputs": [
    {
     "data": {
      "text/plain": [
       "'7f'"
      ]
     },
     "execution_count": 10,
     "metadata": {},
     "output_type": "execute_result"
    }
   ],
   "source": [
    "pack('>b', 2**7-1).hex()"
   ]
  },
  {
   "cell_type": "markdown",
   "id": "9f5de79a",
   "metadata": {},
   "source": [
    "Hier ist das vordere Bit gleich $0$, während alle anderen Bits gleich $1$ sind.\n",
    "$2^7$ würde dazu führen, dass das erste Bit gleich $1$ wird, was aber eine\n",
    "negative Zahl anzeigen würde.\n",
    "\n",
    "Um die Darstellung negativer Zahlen besser zu verstehen, vergleichen wir die Art wie $1$ und $-1$\n",
    "abgespeichert werden."
   ]
  },
  {
   "cell_type": "code",
   "execution_count": 11,
   "id": "f7c3f5fd",
   "metadata": {},
   "outputs": [
    {
     "data": {
      "text/plain": [
       "('01', 'ff')"
      ]
     },
     "execution_count": 11,
     "metadata": {},
     "output_type": "execute_result"
    }
   ],
   "source": [
    "pack('>b', 1).hex(), pack('>b', -1).hex()"
   ]
  },
  {
   "cell_type": "markdown",
   "id": "d0d724a2",
   "metadata": {},
   "source": [
    "Anders als man erwarten könnte, unterscheiden sich die beiden Darstellungen nicht einfach im führenden\n",
    "Bit. Vielmehr ist die Darstellung so gewählt, dass sich beim Zusammenzählen tatsächlich Null ergibt.\n",
    "\n",
    "      0000 0001\n",
    "      1111 1111\n",
    "    -----------\n",
    "    1 0000 0000 \n",
    "\n",
    "Hier muss man bei der Addition berücksichtigen, dass im Dualsystem $1+1 = 10_2$\n",
    "gibt, also $0$ mit einem Übertrag von $1$. Die letzte Übertrag wird durch die\n",
    "Beschränkung auf ein Byte einfach ignoriert, und wir erhalten somit als Ergebnis\n",
    "Null, wie es auch sein muss.\n",
    "\n",
    "Wie erhält man nun aus einer positiven Zahl die zugehörige negative Zahl? Die\n",
    "Antwort ist das so genannte Zweierkomplement. Hierbei werden zunächst alle\n",
    "Nullen durch Einsen ersetzt und umgekehrt. Dieses Zwischenergebnis wird\n",
    "Einserkomplement genannt. Anschließend wird zu dem Ergebnis noch $1$ addiert.\n",
    "Sehen wir uns das an einem Beispiel an. Betrachten wir als Beispiel die Zahl\n",
    "mit der Hexadezimaldarstellung 7b, die, wie wir schon wissen, im Dezimalsystem\n",
    "gleich 123 ist. Zunächst erhalten wir für das Einserkomplement\n",
    "\n",
    "    0111 1011 → 1000 0100\n",
    "\n",
    "und dann durch Addition von Eins\n",
    "\n",
    "    1000 0100 → 1000 0101\n",
    "\n",
    "Die Addition der beiden Zahlen ergibt erwartungsgemäß Null\n",
    "\n",
    "      0111 1011\n",
    "      1000 0101\n",
    "    -----------\n",
    "    1 0000 0000\n",
    "\n",
    "Dass wir das Zweierkomplement richtig bestimmt haben, sieht man mit Hilfe von Python\n",
    "wenn man in der folgenden Ausgabe entsprechend unserer vorigen Beschränkung auf\n",
    "ein einziges Byte das vordere Byte ignoriert."
   ]
  },
  {
   "cell_type": "code",
   "execution_count": 12,
   "id": "5968a8ff",
   "metadata": {},
   "outputs": [
    {
     "data": {
      "text/plain": [
       "('7b', '85')"
      ]
     },
     "execution_count": 12,
     "metadata": {},
     "output_type": "execute_result"
    }
   ],
   "source": [
    "pack('>b', 123).hex(), pack('>b', -123).hex()"
   ]
  },
  {
   "cell_type": "markdown",
   "id": "8aee7c68",
   "metadata": {},
   "source": [
    "```{admonition} Aufgabe\n",
    "\n",
    "Zeigen Sie, dass die Addition einer Zahl und ihres Zweierkomplements immer Null\n",
    "ergibt, wenn man den Übertrag, der zum Überlauf führt, ignoriert.\n",
    "```\n",
    "\n",
    "Da das erste Bit für das Vorzeichen benötigt wird, ist die größte positive Zahl,\n",
    "die sich mit einem »signed char« Integer darstellen lässt, gleich $2^7-1$. Die Zahl\n",
    "$2^7$ kann dagegen nicht mehr dargestellt werden."
   ]
  },
  {
   "cell_type": "code",
   "execution_count": 13,
   "id": "3807caf7",
   "metadata": {
    "tags": [
     "raises-exception"
    ]
   },
   "outputs": [
    {
     "ename": "error",
     "evalue": "byte format requires -128 <= number <= 127",
     "output_type": "error",
     "traceback": [
      "\u001b[0;31m---------------------------------------------------------------------------\u001b[0m",
      "\u001b[0;31merror\u001b[0m                                     Traceback (most recent call last)",
      "Cell \u001b[0;32mIn[13], line 1\u001b[0m\n\u001b[0;32m----> 1\u001b[0m \u001b[43mpack\u001b[49m\u001b[43m(\u001b[49m\u001b[38;5;124;43m'\u001b[39;49m\u001b[38;5;124;43m>b\u001b[39;49m\u001b[38;5;124;43m'\u001b[39;49m\u001b[43m,\u001b[49m\u001b[43m \u001b[49m\u001b[38;5;241;43m2\u001b[39;49m\u001b[38;5;241;43m*\u001b[39;49m\u001b[38;5;241;43m*\u001b[39;49m\u001b[38;5;241;43m7\u001b[39;49m\u001b[43m)\u001b[49m\u001b[38;5;241m.\u001b[39mhex()\n",
      "\u001b[0;31merror\u001b[0m: byte format requires -128 <= number <= 127"
     ]
    }
   ],
   "source": [
    "pack('>b', 2**7).hex()"
   ]
  },
  {
   "cell_type": "markdown",
   "id": "197c5ef2",
   "metadata": {},
   "source": [
    "Andererseits kann $-2^7$ gerade noch dargestellt werden:"
   ]
  },
  {
   "cell_type": "code",
   "execution_count": 14,
   "id": "8438588c",
   "metadata": {},
   "outputs": [
    {
     "data": {
      "text/plain": [
       "'80'"
      ]
     },
     "execution_count": 14,
     "metadata": {},
     "output_type": "execute_result"
    }
   ],
   "source": [
    "pack('>b', -2**7).hex()"
   ]
  },
  {
   "cell_type": "markdown",
   "id": "73729e5d",
   "metadata": {},
   "source": [
    "Wenn man das Zweierkomplement bildet, stellt man fest, dass diese Zahl gleich\n",
    "ihrem Negativen ist. Dabei handelt es sich um ein Artefakt des\n",
    "Zweierkomplements. Im Einserkomplement hätte man dagegen unterschiedliche\n",
    "Darstellungen für die Null und ihr Negatives. \n",
    "\n",
    "Durch den kleinen Zahlenbereich $-128\\ldots127$ ist ein Byte selten für\n",
    "numerische Arbeiten ausreichend. Typischerweise wird man dann zwei, vier oder\n",
    "gar acht Bytes investieren, um Integers darzustellen. Damit wird der\n",
    "darstellbare Zahlenbereich erheblich größer, wie die {numref}`table:ints`\n",
    "zeigt. Die dort gezeigten Bezeichnungen werden so im\n",
    "[struct-Modul](https://docs.python.org/3/library/struct.html) von Python\n",
    "verwendet. Die einzelnen Bezeichnungen können in anderen Programmiersprachen\n",
    "unter Umständen abweichend definiert sein.\n",
    "\n",
    "```{list-table} Integerformate wie sie von Pythons [struct-Modul](https://docs.python.org/3/library/struct.html) verwendet werden\n",
    ":header-rows: 1\n",
    ":name: table:ints\n",
    "\n",
    "* - Name\n",
    "  - Format\n",
    "  - Bytes\n",
    "  - Minimalwert\n",
    "  - Maximalwert\n",
    "* - unsigned char\n",
    "  - B\n",
    "  - 1\n",
    "  - 0\n",
    "  - 255\n",
    "* - signed char\n",
    "  - b\n",
    "  - 1\n",
    "  - -128\n",
    "  - 127\n",
    "* - unsigned short\n",
    "  - H\n",
    "  - 2\n",
    "  - 0\n",
    "  - 65535\n",
    "* - short\n",
    "  - h\n",
    "  - 2\n",
    "  - -32768\n",
    "  - 32767\n",
    "* - unsigned int\n",
    "  - I\n",
    "  - 4\n",
    "  - 0\n",
    "  - 4294967295\n",
    "* - int\n",
    "  - i\n",
    "  - 4\n",
    "  - -2147483648\n",
    "  - 2147483647\n",
    "* - unsigned long\n",
    "  - L\n",
    "  - 4\n",
    "  - 0\n",
    "  - 4294967295\n",
    "* - long\n",
    "  - l\n",
    "  - 4\n",
    "  - -2147483648\n",
    "  - 2147483647\n",
    "* - unsigned long long\n",
    "  - Q\n",
    "  - 8\n",
    "  - 0\n",
    "  - 18446744073709551615\n",
    "* - long long\n",
    "  - q\n",
    "  - 8\n",
    "  - -9223372036854775808\n",
    "  - 9223372036854775807\n",
    "```\n",
    "\n",
    "\n",
    "````{admonition} Weiterführender Hinweis\n",
    "Das Größerzeichen `>` im ersten Argument der {func}`pack`-Funktion verlangt, dass die niedrigeren\n",
    "Stellen des Ergebnisses wie gewohnt weiter rechts stehen. Tatsächlich ist dies auf den üblichen\n",
    "Intelarchitekturen nicht der Fall. Davon kann man sich überzeugen, wenn man das `>` durch `@`\n",
    "ersetzt. Dadurch dreht sich die Reihenfolge der Bytes, nicht der Bits, gegebenenfalls um.\n",
    "````"
   ]
  }
 ],
 "metadata": {
  "jupytext": {
   "formats": "md:myst",
   "text_representation": {
    "extension": ".md",
    "format_name": "myst",
    "format_version": "0.8",
    "jupytext_version": "1.4.1+dev"
   }
  },
  "kernelspec": {
   "display_name": "Python 3",
   "language": "python",
   "name": "python3"
  },
  "language_info": {
   "codemirror_mode": {
    "name": "ipython",
    "version": 3
   },
   "file_extension": ".py",
   "mimetype": "text/x-python",
   "name": "python",
   "nbconvert_exporter": "python",
   "pygments_lexer": "ipython3",
   "version": "3.11.4"
  },
  "source_map": [
   13,
   68,
   70,
   76,
   78,
   147,
   149,
   155,
   157,
   161,
   163,
   169,
   171,
   203,
   206,
   216,
   218,
   220,
   225,
   238,
   240,
   247,
   249,
   287,
   289,
   300,
   305,
   307,
   309
  ]
 },
 "nbformat": 4,
 "nbformat_minor": 5
}