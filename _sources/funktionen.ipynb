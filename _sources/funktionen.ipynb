{
 "cells": [
  {
   "cell_type": "markdown",
   "metadata": {},
   "source": [
    "# Funktionen\n",
    "\n",
    "```{admonition} Hinweis\n",
    ":class: warning\n",
    "Dieses Kapitel befindet sich noch in Bearbeitung.\n",
    "```\n",
    "\n",
    "Funktionen im mathematischen Sinne sind uns in den Natur- und Ingenieurwissenschaften\n",
    "wohlbekannt. Dass solche Funktionen auch von Programmiersprachen zur Verfügung gestellt\n",
    "werden, hatten wir unter anderem im {numref}`mathfunc` gesehen. Allerdings ist der \n",
    "Begriff der Funktionen in Programmiersprachen wesentlich weiter gefasst. So muss eine\n",
    "Funktion nicht unbedingt ein Argument besitzen, und sie muss auch nicht unbedingt ein\n",
    "Ergebnis zurückgeben. In manchen Programmiersprachen wird nach diesem letzten Kriterium\n",
    "unterschieden. So kennt Fortran *functions*, die ein Resultat zurückgeben, und *subroutines*,\n",
    "bei denen dies nicht der Fall ist.\n",
    "\n",
    "Wozu sind Funktionen gut, wenn man davon absieht, dass sie uns aus der Mathematik vertraut\n",
    "sind? Zunächst einmal können Funktionen wesentlich dabei helfen, ein Programm zu strukturieren.\n",
    "Lagert man eine bestimmte Funktionalität in eine Funktion mit einem gut gewählten Namen aus,\n",
    "so kann man die Komplexität im Innern der Funktion verstecken. Bei der Suche nach Fehlern\n",
    "kann dies ein entscheidender Vorteil sein, da man sich entweder nur mit dem Innern der Funktion\n",
    "beschäftigt und untersucht, ob diese korrekt implementiert ist, oder aber sich auf deren\n",
    "Korrektheit verlässt und die Details bei der Untersuchung des restlichen Programms nicht im\n",
    "Blick haben muss.\n",
    "\n",
    "Funktionen eignen sich auch sehr gut dazu, Programmcode, der an mehreren Stellen im Programm\n",
    "auftreten würde, an einer einzigen Stelle unterzubringen. Auch dieser Aspekt trägt, zusammen\n",
    "mit einem gut gewählten Funktionsnamen, dazu bei, ein Programm lesbarer zu machen. Zum \n",
    "anderen verbessert sich die Wartbarkeit des Codes erheblich, da Korrekturen nur an einer \n",
    "Stelle vorgenommen werden müssen. Ohne die Verwendung von Funktionen müssten man darauf achten,\n",
    "Korrekturen zum Code an verschiedenen Stellen der Programms in konsistenter Weise vorzunehmen.\n",
    "\n",
    "Stellt man beim Programmieren fest, dass sich Code wiederholt, so sollte man sich also überlegen,\n",
    "ob es nicht sinnvoll wäre, für die betreffende Aufgabe eine Funktion zu definieren. Auch dann\n",
    "wenn Code nicht identisch wiederholt wird, sondern nur in ähnlicher Weise, ist eine Auslagerung\n",
    "in eine Funktion denkbar, wenn man geeignete Funktionsargumente einführt. Grundsätzlich sollte\n",
    "man beim Programmieren daran denken, sich nicht unnötig zu wiederholen und stattdessen entweder\n",
    "eine der in {numref}`forloop` und {numref}`whileloop` besprochenen Schleifenvarianten zu verwenden\n",
    "oder aber eine Funktion zu implementieren.\n",
    "\n",
    "Schließlich ist die Verwendung von Funktionen auch dann angebracht, wenn man die gleiche\n",
    "Funktionalität in verschiedenen Programmen benötigt. Man kann solche Funktionen in einem \n",
    "Modul sammeln und dann bei Bedarf importieren, wie wir es schon mit dem {mod}`math`-Modul\n",
    "und den darin enthaltenen Funktionen getan haben. \n",
    "\n",
    "## Funktionsdefinitionen\n",
    "\n",
    "Betrachten wir zunächst eine Funktion, die keine Argumente besitzt. Was die Funktion tut, ist\n",
    "also festgelegt und kann nicht durch Parameter verändert werden."
   ]
  },
  {
   "cell_type": "code",
   "execution_count": 1,
   "metadata": {},
   "outputs": [
    {
     "name": "stdout",
     "output_type": "stream",
     "text": [
      "** Anfang\n",
      "Hallo!\n",
      "** Ende\n"
     ]
    }
   ],
   "source": [
    "def f():\n",
    "    print(\"Hallo!\")\n",
    "\n",
    "print(\"** Anfang\")\n",
    "f()\n",
    "print(\"** Ende\")"
   ]
  },
  {
   "cell_type": "markdown",
   "metadata": {},
   "source": [
    "In diesem einfachen Beispiel ist die Funktion durch die ersten beiden Zeilen definiert. Dabei \n",
    "besitzt die erste Zeile eine Struktur wie wir sie ähnlich von Schleifen und Verzweigungen kennen.\n",
    "Die Zeile beginnt nämlich ebenfalls mit einem Schlüsselwort, das hier `def` heißt und andeutet,\n",
    "dass hier eine Funktion definiert wird. Des Weiteren wird die erste Zeile mit einem Doppelpunkt\n",
    "beendet. Der Funktionsname ist hier `f`, wobei hier im Allgemeinen eine Name gewählt werden sollte,\n",
    "der besser beschreibt, was die Funktion tut. Wichtig ist das Klammerpaar, das auch dann nicht\n",
    "weggelassen werden darf, wenn die Funktion überhaupt keine Argumente besitzt.\n",
    "\n",
    "Der Funktionscode ist wie üblich in Python durch eine Einrückung kenntlich zu machen. Die dritte,\n",
    "leere Zeile dient hier nur zur optischen Absetzung und ist für den Python-Interpreter völlig\n",
    "irrelevant. Durch die Beendung der Einrückung sind die letzten drei Zeilen nicht mehr Bestandteil\n",
    "der Funktion. Funktionsdefinitionen benötigen genauso wie Schleifen und Verzweigungen zwingend\n",
    "einen eingerückten Codeblock. Wie schon bei den `for`-Schleifen in {numref}`forloop` kann auch hier\n",
    "bei Bedarf der Befehl `pass` eingerückt verwendet werden.\n",
    "\n",
    "Wenn der Python-Interpreter den Code des obigen Beispiels verarbeitet, wird zunächst die Funktion\n",
    "`f` definiert. Sie wird zu diesem Zeitpunkt jedoch nicht ausgeführt. Es erfolgt als inbesondere\n",
    "zu diesem Zeitpunkt nicht die Ausgabe des Textes `Hallo!`. Die Anweisung in Zeile 4 führt nun dazu,\n",
    "dass der Text `** Anfang` ausgegeben wird. Anschließend wird die Funktion `f` ohne Argumente aufgerufen.\n",
    "An dieser Stelle ein Argument anzugeben, das in der Funktionsdefinition nicht vorgesehen ist, würde\n",
    "zu einem Fehler führen."
   ]
  },
  {
   "cell_type": "code",
   "execution_count": 2,
   "metadata": {
    "tags": [
     "raises-exception"
    ]
   },
   "outputs": [
    {
     "name": "stdout",
     "output_type": "stream",
     "text": [
      "** Anfang\n"
     ]
    },
    {
     "ename": "TypeError",
     "evalue": "f() takes 0 positional arguments but 1 was given",
     "output_type": "error",
     "traceback": [
      "\u001b[0;31m---------------------------------------------------------------------------\u001b[0m",
      "\u001b[0;31mTypeError\u001b[0m                                 Traceback (most recent call last)",
      "\u001b[0;32m<ipython-input-2-756b26a1c931>\u001b[0m in \u001b[0;36m<module>\u001b[0;34m\u001b[0m\n\u001b[1;32m      3\u001b[0m \u001b[0;34m\u001b[0m\u001b[0m\n\u001b[1;32m      4\u001b[0m \u001b[0mprint\u001b[0m\u001b[0;34m(\u001b[0m\u001b[0;34m\"** Anfang\"\u001b[0m\u001b[0;34m)\u001b[0m\u001b[0;34m\u001b[0m\u001b[0;34m\u001b[0m\u001b[0m\n\u001b[0;32m----> 5\u001b[0;31m \u001b[0mf\u001b[0m\u001b[0;34m(\u001b[0m\u001b[0;36m1\u001b[0m\u001b[0;34m)\u001b[0m\u001b[0;34m\u001b[0m\u001b[0;34m\u001b[0m\u001b[0m\n\u001b[0m\u001b[1;32m      6\u001b[0m \u001b[0mprint\u001b[0m\u001b[0;34m(\u001b[0m\u001b[0;34m\"** Ende\"\u001b[0m\u001b[0;34m)\u001b[0m\u001b[0;34m\u001b[0m\u001b[0;34m\u001b[0m\u001b[0m\n",
      "\u001b[0;31mTypeError\u001b[0m: f() takes 0 positional arguments but 1 was given"
     ]
    }
   ],
   "source": [
    "def f():\n",
    "    print(\"Hallo!\")\n",
    "\n",
    "print(\"** Anfang\")\n",
    "f(1)\n",
    "print(\"** Ende\")"
   ]
  },
  {
   "cell_type": "markdown",
   "metadata": {},
   "source": [
    "Rufen wir dagegen unsere Funktion `f` korrekt ohne ein Argument auf, so wird diese ausgeführt und\n",
    "in diesem Fall `Hallo!` ausgegeben. Nachdem die Funktion ausgeführt wurde, wird die Programmausführung\n",
    "direkt nach dem Funktionsaufruf fortgesetzt. Im Beispiel wird somit abschließend der Text `** Ende`\n",
    "ausgegeben.\n",
    "\n",
    "In den meisten Fällen wird man die Funktion flexibler gestalten wollen und zu diesem Zweck ein oder\n",
    "mehrere Argument übergeben wollen. Um den ursprünglichen Autor von Python,\n",
    "[Guido von Rossum](https://de.wikipedia.org/wiki/Guido_van_Rossum), zu grüßen, können wir den Namen der\n",
    "zu grüßenden Person als Argument übergeben."
   ]
  },
  {
   "cell_type": "code",
   "execution_count": 3,
   "metadata": {},
   "outputs": [
    {
     "name": "stdout",
     "output_type": "stream",
     "text": [
      "Hallo, Guido!\n"
     ]
    }
   ],
   "source": [
    "def f(name):\n",
    "    print(f\"Hallo, {name}!\")\n",
    "\n",
    "f(\"Guido\")"
   ]
  },
  {
   "cell_type": "markdown",
   "metadata": {},
   "source": [
    "Will man zusätzlich die Sprache zwischen Deutsch (de) und Englisch (en) wählen, so könnte man ein\n",
    "weiteres Argument vorsehen."
   ]
  },
  {
   "cell_type": "code",
   "execution_count": 4,
   "metadata": {},
   "outputs": [
    {
     "name": "stdout",
     "output_type": "stream",
     "text": [
      "Hello, Guido!\n"
     ]
    }
   ],
   "source": [
    "def f(name, lang):\n",
    "    if lang == \"en\":\n",
    "        print(f\"Hello, {name}!\")\n",
    "    elif lang == \"de\":\n",
    "        print(f\"Hallo, {name}!\")\n",
    "    else:\n",
    "        print(f\"{name}!\")\n",
    "\n",
    "f(\"Guido\", \"en\")"
   ]
  },
  {
   "cell_type": "markdown",
   "metadata": {},
   "source": [
    "Das gewählte Beispiel ist insofern untypisch als die Funktion anscheinend keinen Rückgabewert zurückliefert.\n",
    "Normalerweise würde man die sich ergebende Zeichenkette an den aufrufenden Programmteil übergeben, wo dann\n",
    "entschieden werden kann, was mit dem Ergebnis zu tun ist. Eine alternative Variante unserer Funktion mit\n",
    "einem Argument würde dann folgendermaßen aussehen."
   ]
  },
  {
   "cell_type": "code",
   "execution_count": 5,
   "metadata": {},
   "outputs": [
    {
     "name": "stdout",
     "output_type": "stream",
     "text": [
      "Hallo, Guido!\n"
     ]
    }
   ],
   "source": [
    "def f(name):\n",
    "    s = f\"Hallo, {name}!\"\n",
    "    return s\n",
    "\n",
    "print(f(\"Guido\"))"
   ]
  },
  {
   "cell_type": "markdown",
   "metadata": {},
   "source": [
    "Das Ergebnis wird mit Hilfe der `return`-Anweisung zurückgegeben, wobei hier keine Klammern zu setzen sind.\n",
    "Alternativ wäre es möglich, auf die Variable `s` zu verzichten und die sich ergebene Zeichenkette direkt\n",
    "in die `return`-Anweisung zu schreiben.\n",
    "\n",
    "Auch wenn man den Eindruck haben könnte, dass das Fehlen einer `return`-Anweisung dazu führt, dass überhaupt\n",
    "kein Ergebnis zurückgibt, ist dies nicht ganz richtig."
   ]
  },
  {
   "cell_type": "code",
   "execution_count": 6,
   "metadata": {},
   "outputs": [
    {
     "name": "stdout",
     "output_type": "stream",
     "text": [
      "Hallo, Guido!\n",
      "Rückgabewert: None\n"
     ]
    }
   ],
   "source": [
    "def f(name):\n",
    "    print(f\"Hallo, {name}!\")\n",
    "\n",
    "x = f(\"Guido\")\n",
    "print(f\"Rückgabewert: {x}\")"
   ]
  },
  {
   "cell_type": "markdown",
   "metadata": {},
   "source": [
    "Die erste Ausgabezeile ergibt sich aus der `print`-Anweisung in der Funktion `f`. Der Rückgabewert aufgrund\n",
    "des Funktionsaufrufs wird in der Variable `x` gespeichert, die anschließend ausgegeben wird. Wie wir sehen,\n",
    "wird in diesem Fall als Ergebnis `None` zurückgegeben. Das gleiche Result hätten wir erhalten, wenn wir als\n",
    "letzte Zeile explizit `return None` geschrieben hätten."
   ]
  },
  {
   "cell_type": "code",
   "execution_count": 7,
   "metadata": {},
   "outputs": [
    {
     "name": "stdout",
     "output_type": "stream",
     "text": [
      "Hallo, Guido!\n",
      "Rückgabewert: None\n"
     ]
    }
   ],
   "source": [
    "def f(name):\n",
    "    print(f\"Hallo, {name}!\")\n",
    "    return None\n",
    "\n",
    "x = f(\"Guido\")\n",
    "print(f\"Rückgabewert: {x}\")"
   ]
  },
  {
   "cell_type": "markdown",
   "metadata": {},
   "source": [
    "```{admonition} Tipp\n",
    ":class: tip\n",
    "Eine vergessene `return`-Anweisung und der sich daraus ergebende Rückgabewert `None` können gelegentlich\n",
    "zu überraschenden Fehlermeldung führen. Es lohnt sich daher bei Fehlern in Zusammenhang mit Funktionen zu\n",
    "überprüfen, ob die `return`-Anweisung vorhanden ist.\n",
    "```\n",
    "\n",
    "Eine Funktion kann auch mehrere `return`-Anweisungen enthalten, wobei die Ausführung der Funktion beendet\n",
    "wird, sobald sie bei einer `return`-Anweisung ankommt. Das folgende Beispiel illustriert dies an einem\n",
    "sehr simplen Primzahltest."
   ]
  },
  {
   "cell_type": "code",
   "execution_count": 8,
   "metadata": {},
   "outputs": [
    {
     "name": "stdout",
     "output_type": "stream",
     "text": [
      "2 3 5 7 11 13 17 19 23 29 31 37 41 43 47 53 59 61 67 71 73 79 83 89 97 "
     ]
    }
   ],
   "source": [
    "def is_prime(n):\n",
    "    for divisor in range(2, n):\n",
    "        if n % divisor == 0:\n",
    "            return False\n",
    "    return True\n",
    "\n",
    "for n in range(2, 100):\n",
    "    if is_prime(n):\n",
    "        print(n, end=' ')"
   ]
  },
  {
   "cell_type": "markdown",
   "metadata": {},
   "source": [
    "````{margin}\n",
    "```{admonition} Weiterführende Frage\n",
    "Dieser Primzahltest ist alles andere als effizient. Wie könnte man ihn verbessern?\n",
    "```\n",
    "````\n",
    "Sobald `n` ohne Rest durch `divisor` teilbar ist, wird die Funktion mit der `return`-Anweisung beendet und\n",
    "der Wert `False` zurückgegeben. Wird kein Teiler gefunden, so wird de Wert `True` zurückgegeben. Abhängig\n",
    "vom Ergebnis der Funktion `is_prime` wird die betreffende Zahl ausgegeben oder nicht und auf diese Weise\n",
    "eine Liste von Primzahlen erzeugt.\n",
    "\n",
    "Eine Funktion kann auch mehr als einen Wert zurückgeben. Dazu werden die einzelnen Variablen durch Kommas\n",
    "getrennt in der `return`-Anweisung aufgelistet."
   ]
  },
  {
   "cell_type": "code",
   "execution_count": 9,
   "metadata": {},
   "outputs": [
    {
     "name": "stdout",
     "output_type": "stream",
     "text": [
      "(6.124, 3.536, 7.071)\n"
     ]
    }
   ],
   "source": [
    "from math import cos, radians, sin\n",
    "\n",
    "def spherical2cartesian(r, theta, phi):\n",
    "    theta = radians(theta)\n",
    "    phi = radians(phi)\n",
    "    x = r*sin(theta)*cos(phi)\n",
    "    y = r*sin(theta)*sin(phi)\n",
    "    z = r*cos(theta)\n",
    "    return x, y, z\n",
    "\n",
    "pt1_r = 10\n",
    "pt1_theta = 45\n",
    "pt1_phi = 30\n",
    "pt1_x, pt1_y, pt1_z = spherical2cartesian(pt1_r, pt1_theta, pt1_phi)\n",
    "print(f\"({pt1_x:5.3f}, {pt1_y:5.3f}, {pt1_z:5.3f})\")"
   ]
  },
  {
   "cell_type": "markdown",
   "metadata": {},
   "source": [
    "Vergleicht man in diesem Beispiel die Namen sowohl der Argumente als auch der\n",
    "Rückgabewerte in der Funktionsdefinition mit den Namen, die im Funktionsaufruf\n",
    "in der vorletzten Zeile verwendet werden, so stellt man fest, dass diese nicht\n",
    "identisch sein müssen. Dies ist schon deswegen nicht der Fall, weil man statt der drei\n",
    "Variablen im Funktionsaufruf auch direkt numerische Werte angeben könnte. Zudem\n",
    "wäre es sonst erforderlich, die Variablennamen in Funktionen zu kennen, die man\n",
    "aus einem Modul importiert. In unserem Beispiel erfolgt die Zuordnung der Argumente\n",
    "und der Rückgabewerte einfach nach der Position. Die Möglichkeit, mit Hilfe von\n",
    "Schlüsselworten eine Zuordnung der Funktionsargumente vorzunehmen, werden wir in\n",
    "{numref}`kwargs` besprechen.\n",
    "\n",
    "## Dokumentation von Funktionen\n",
    "\n",
    "Wie generell beim Programmieren ist es auch in Funktionen sinnvoll, an eine\n",
    "ausreichende Dokumentation zu denken. Dies könnte mit Hilfe von Kommentaren\n",
    "erfolgen, die in Python mit einem `#` eingeleitet werden. Andere\n",
    "Programmiersprachen verwenden hierfür häufig auch andere Markierungen. In\n",
    "Python gibt es für Funktionen jedoch eine geeignetere Art der Dokumentation,\n",
    "nämlich einen Dokumentationstext, den so genannten *docstring*, der direkt auf\n",
    "die erste Zeile der Funktionsdefinition folgt."
   ]
  },
  {
   "cell_type": "code",
   "execution_count": 10,
   "metadata": {},
   "outputs": [],
   "source": [
    "from math import sqrt\n",
    "\n",
    "def mitternacht(a, b, c):\n",
    "    \"\"\"Berechne die beiden Lösungen einer quadratischen Gleichung ax²+bx+c=0\n",
    "\n",
    "    Es wird die Mitternachtsformel verwendet.\n",
    "    Achtung: Es wird stillschweigend vorausgesetzt, dass b^2-4ac>0.\n",
    "\n",
    "    \"\"\"\n",
    "    diskriminante = sqrt(b**2-4*a*c)\n",
    "    root1 = (-b+diskriminante)/(2*a)\n",
    "    root2 = (-b-diskriminante)/(2*a)\n",
    "    return root1, root2"
   ]
  },
  {
   "cell_type": "markdown",
   "metadata": {},
   "source": [
    "Der *docstring* wird hier nicht nur mit einem, sondern mit drei Anführungszeichen begrenzt,\n",
    "da auf diese Weise ein mehrzeiliger Text möglich ist. Der Vorteil dieser Dokumentationsweise\n",
    "im Vergleich zu einfachen Kommentaren besteht bei Python darin, dass der *docstring* mit Hilfe\n",
    "der {func}`help`-Funktion ausgegeben werden kann, ähnlich wie wir dies im {numref}`mathfunc`\n",
    "kennengelernt hatten, wo `help(math)` die Dokumentation für das {mod}`math`-Modul ausgabe."
   ]
  },
  {
   "cell_type": "code",
   "execution_count": 11,
   "metadata": {},
   "outputs": [
    {
     "name": "stdout",
     "output_type": "stream",
     "text": [
      "Help on function mitternacht in module __main__:\n",
      "\n",
      "mitternacht(a, b, c)\n",
      "    Berechne die beiden Lösungen einer quadratischen Gleichung ax²+bx+c=0\n",
      "    \n",
      "    Es wird die Mitternachtsformel verwendet.\n",
      "    Achtung: Es wird stillschweigend vorausgesetzt, dass b^2-4ac>0.\n",
      "\n"
     ]
    }
   ],
   "source": [
    "help(mitternacht)"
   ]
  },
  {
   "cell_type": "markdown",
   "metadata": {},
   "source": [
    "Hier wird man also in Python belohnt, wenn man sich einer guten Dokumentationspraxis bedient.\n",
    "\n",
    "Weitere Hinweis zu *docstrings* sind in {pep}`257` zu finden.\n",
    "\n",
    "## Lokale und globale Variable"
   ]
  },
  {
   "cell_type": "code",
   "execution_count": 12,
   "metadata": {},
   "outputs": [
    {
     "name": "stdout",
     "output_type": "stream",
     "text": [
      "lokal:  x = 4\n",
      "global: x = 5\n",
      "global: y = 2\n",
      "f(3) = 8\n",
      "x = 5\n"
     ]
    }
   ],
   "source": [
    "def f(x):\n",
    "    x = x+1\n",
    "    print(f\"lokal:  x = {locals()['x']}\")\n",
    "    print(f\"global: x = {globals()['x']}\")\n",
    "    print(f\"global: y = {globals()['y']}\")\n",
    "    return x*y\n",
    "\n",
    "x = 5\n",
    "y = 2\n",
    "print(\"f(3) =\", f(3))\n",
    "print(\"x =\", x)"
   ]
  },
  {
   "cell_type": "code",
   "execution_count": 13,
   "metadata": {
    "tags": [
     "raises-exception"
    ]
   },
   "outputs": [
    {
     "ename": "UnboundLocalError",
     "evalue": "local variable 'y' referenced before assignment",
     "output_type": "error",
     "traceback": [
      "\u001b[0;31m---------------------------------------------------------------------------\u001b[0m",
      "\u001b[0;31mUnboundLocalError\u001b[0m                         Traceback (most recent call last)",
      "\u001b[0;32m<ipython-input-13-77b24d99da16>\u001b[0m in \u001b[0;36m<module>\u001b[0;34m\u001b[0m\n\u001b[1;32m      6\u001b[0m \u001b[0mx\u001b[0m \u001b[0;34m=\u001b[0m \u001b[0;36m5\u001b[0m\u001b[0;34m\u001b[0m\u001b[0;34m\u001b[0m\u001b[0m\n\u001b[1;32m      7\u001b[0m \u001b[0my\u001b[0m \u001b[0;34m=\u001b[0m \u001b[0;36m2\u001b[0m\u001b[0;34m\u001b[0m\u001b[0;34m\u001b[0m\u001b[0m\n\u001b[0;32m----> 8\u001b[0;31m \u001b[0mprint\u001b[0m\u001b[0;34m(\u001b[0m\u001b[0;34m\"f(3) =\"\u001b[0m\u001b[0;34m,\u001b[0m \u001b[0mf\u001b[0m\u001b[0;34m(\u001b[0m\u001b[0;36m3\u001b[0m\u001b[0;34m)\u001b[0m\u001b[0;34m)\u001b[0m\u001b[0;34m\u001b[0m\u001b[0;34m\u001b[0m\u001b[0m\n\u001b[0m",
      "\u001b[0;32m<ipython-input-13-77b24d99da16>\u001b[0m in \u001b[0;36mf\u001b[0;34m(x)\u001b[0m\n\u001b[1;32m      1\u001b[0m \u001b[0;32mdef\u001b[0m \u001b[0mf\u001b[0m\u001b[0;34m(\u001b[0m\u001b[0mx\u001b[0m\u001b[0;34m)\u001b[0m\u001b[0;34m:\u001b[0m\u001b[0;34m\u001b[0m\u001b[0;34m\u001b[0m\u001b[0m\n\u001b[1;32m      2\u001b[0m     \u001b[0mx\u001b[0m \u001b[0;34m=\u001b[0m \u001b[0mx\u001b[0m\u001b[0;34m+\u001b[0m\u001b[0;36m1\u001b[0m\u001b[0;34m\u001b[0m\u001b[0;34m\u001b[0m\u001b[0m\n\u001b[0;32m----> 3\u001b[0;31m     \u001b[0my\u001b[0m \u001b[0;34m=\u001b[0m \u001b[0my\u001b[0m\u001b[0;34m+\u001b[0m\u001b[0;36m1\u001b[0m\u001b[0;34m\u001b[0m\u001b[0;34m\u001b[0m\u001b[0m\n\u001b[0m\u001b[1;32m      4\u001b[0m     \u001b[0;32mreturn\u001b[0m \u001b[0mx\u001b[0m\u001b[0;34m*\u001b[0m\u001b[0my\u001b[0m\u001b[0;34m\u001b[0m\u001b[0;34m\u001b[0m\u001b[0m\n\u001b[1;32m      5\u001b[0m \u001b[0;34m\u001b[0m\u001b[0m\n",
      "\u001b[0;31mUnboundLocalError\u001b[0m: local variable 'y' referenced before assignment"
     ]
    }
   ],
   "source": [
    "def f(x):\n",
    "    x = x+1\n",
    "    y = y+1\n",
    "    return x*y\n",
    "\n",
    "x = 5\n",
    "y = 2\n",
    "print(\"f(3) =\", f(3))"
   ]
  },
  {
   "cell_type": "markdown",
   "metadata": {},
   "source": [
    "## Rekursive Funktionen\n",
    "\n",
    "## Funktionen als Argumente von Funktionen\n",
    "\n",
    "(lambdafunktionen)=\n",
    "## Lambda-Funktionen\n",
    "\n",
    "(kwargs)=\n",
    "## Schlüsselworte und Defaultwerte"
   ]
  }
 ],
 "metadata": {
  "jupytext": {
   "formats": "md:myst",
   "text_representation": {
    "extension": ".md",
    "format_name": "myst",
    "format_version": "0.8",
    "jupytext_version": "1.4.1+dev"
   }
  },
  "kernelspec": {
   "display_name": "Python 3",
   "language": "python",
   "name": "python3"
  },
  "language_info": {
   "codemirror_mode": {
    "name": "ipython",
    "version": 3
   },
   "file_extension": ".py",
   "mimetype": "text/x-python",
   "name": "python",
   "nbconvert_exporter": "python",
   "pygments_lexer": "ipython3",
   "version": "3.9.0"
  },
  "source_map": [
   13,
   64,
   71,
   93,
   103,
   113,
   118,
   121,
   131,
   137,
   143,
   150,
   156,
   161,
   168,
   179,
   189,
   202,
   218,
   239,
   253,
   259,
   261,
   268,
   282,
   294
  ]
 },
 "nbformat": 4,
 "nbformat_minor": 4
}