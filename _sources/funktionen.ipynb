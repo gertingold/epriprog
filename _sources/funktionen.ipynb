{
 "cells": [
  {
   "cell_type": "markdown",
   "metadata": {},
   "source": [
    "# Funktionen\n",
    "\n",
    "Funktionen im mathematischen Sinne sind uns in den Natur- und Ingenieurwissenschaften\n",
    "wohlbekannt. Dass solche Funktionen auch von Programmiersprachen zur Verfügung gestellt\n",
    "werden, hatten wir unter anderem im {numref}`mathfunc` gesehen. Allerdings ist der \n",
    "Begriff der Funktionen in Programmiersprachen wesentlich weiter gefasst. So muss eine\n",
    "Funktion nicht unbedingt ein Argument besitzen, und sie muss auch nicht unbedingt ein\n",
    "Ergebnis zurückgeben. In manchen Programmiersprachen wird nach diesem letzten Kriterium\n",
    "unterschieden. So kennt Fortran *functions*, die ein Resultat zurückgeben, und *subroutines*,\n",
    "bei denen dies nicht der Fall ist.\n",
    "\n",
    "Wozu sind Funktionen gut, wenn man davon absieht, dass sie uns aus der Mathematik vertraut\n",
    "sind? Zunächst einmal können Funktionen wesentlich dabei helfen, ein Programm zu strukturieren.\n",
    "Lagert man eine bestimmte Funktionalität in eine Funktion mit einem gut gewählten Namen aus,\n",
    "so kann man die Komplexität im Innern der Funktion verstecken. Bei der Suche nach Fehlern\n",
    "kann dies ein entscheidender Vorteil sein, da man sich entweder nur mit dem Innern der Funktion\n",
    "beschäftigt und untersucht, ob diese korrekt implementiert ist, oder aber sich auf deren\n",
    "Korrektheit verlässt und die Details bei der Untersuchung des restlichen Programms nicht im\n",
    "Blick haben muss.\n",
    "\n",
    "Funktionen eignen sich auch sehr gut dazu, Programmcode, der an mehreren Stellen im Programm\n",
    "auftreten würde, an einer einzigen Stelle unterzubringen. Auch dieser Aspekt trägt, zusammen\n",
    "mit einem gut gewählten Funktionsnamen, dazu bei, ein Programm lesbarer zu machen. Zum \n",
    "anderen verbessert sich die Wartbarkeit des Codes erheblich, da Korrekturen nur an einer \n",
    "Stelle vorgenommen werden müssen. Ohne die Verwendung von Funktionen müssten man darauf achten,\n",
    "Korrekturen zum Code an verschiedenen Stellen der Programms in konsistenter Weise vorzunehmen.\n",
    "\n",
    "Stellt man beim Programmieren fest, dass sich Code wiederholt, so sollte man sich also überlegen,\n",
    "ob es nicht sinnvoll wäre, für die betreffende Aufgabe eine Funktion zu definieren. Auch dann\n",
    "wenn Code nicht identisch wiederholt wird, sondern nur in ähnlicher Weise, ist eine Auslagerung\n",
    "in eine Funktion denkbar, wenn man geeignete Funktionsargumente einführt. Grundsätzlich sollte\n",
    "man beim Programmieren daran denken, sich nicht unnötig zu wiederholen und stattdessen entweder\n",
    "eine der in {numref}`forloop` und {numref}`whileloop` besprochenen Schleifenvarianten zu verwenden\n",
    "oder aber eine Funktion zu implementieren.\n",
    "\n",
    "Schließlich ist die Verwendung von Funktionen auch dann angebracht, wenn man die gleiche\n",
    "Funktionalität in verschiedenen Programmen benötigt. Man kann solche Funktionen in einem \n",
    "Modul sammeln und dann bei Bedarf importieren, wie wir es schon mit dem {mod}`math`-Modul\n",
    "und den darin enthaltenen Funktionen getan haben. \n",
    "\n",
    "(fdef)=\n",
    "## Funktionsdefinitionen\n",
    "\n",
    "Betrachten wir zunächst eine Funktion, die keine Argumente besitzt. Was die Funktion tut, ist\n",
    "also festgelegt und kann nicht durch Parameter verändert werden."
   ]
  },
  {
   "cell_type": "code",
   "execution_count": 1,
   "metadata": {},
   "outputs": [
    {
     "name": "stdout",
     "output_type": "stream",
     "text": [
      "** Anfang\n",
      "Hallo!\n",
      "** Ende\n"
     ]
    }
   ],
   "source": [
    "def f():\n",
    "    print(\"Hallo!\")\n",
    "\n",
    "print(\"** Anfang\")\n",
    "f()\n",
    "print(\"** Ende\")"
   ]
  },
  {
   "cell_type": "markdown",
   "metadata": {},
   "source": [
    "In diesem einfachen Beispiel ist die Funktion durch die ersten beiden Zeilen definiert. Dabei \n",
    "besitzt die erste Zeile eine Struktur wie wir sie ähnlich von Schleifen und Verzweigungen kennen.\n",
    "Die Zeile beginnt nämlich ebenfalls mit einem Schlüsselwort, das in diesem Fall `def` heißt und andeutet,\n",
    "dass hier eine Funktion definiert wird. Des Weiteren wird die erste Zeile mit einem Doppelpunkt\n",
    "beendet. Der Funktionsname ist hier `f`, wobei hier im Allgemeinen eine Name gewählt werden sollte,\n",
    "der besser beschreibt, was die Funktion tut. Wichtig ist das Klammerpaar, das auch dann nicht\n",
    "weggelassen werden darf, wenn die Funktion überhaupt keine Argumente besitzt.\n",
    "\n",
    "Der Funktionscode ist wie üblich in Python durch eine Einrückung kenntlich zu machen. Die dritte,\n",
    "leere Zeile dient hier nur zur optischen Absetzung und ist für den Python-Interpreter völlig\n",
    "irrelevant. Durch die Beendung der Einrückung sind die letzten drei Zeilen nicht mehr Bestandteil\n",
    "der Funktion. Funktionsdefinitionen benötigen genauso wie Schleifen und Verzweigungen zwingend\n",
    "einen eingerückten Codeblock. Wie schon bei den `for`-Schleifen in {numref}`forloop` kann auch hier\n",
    "bei Bedarf der Befehl `pass` eingerückt verwendet werden.\n",
    "\n",
    "Wenn der Python-Interpreter den Code des obigen Beispiels verarbeitet, wird zunächst die Funktion\n",
    "`f` definiert. Sie wird zu diesem Zeitpunkt jedoch nicht ausgeführt. Es erfolgt als insbesondere\n",
    "zu diesem Zeitpunkt nicht die Ausgabe des Textes `Hallo!`. Die Anweisung in Zeile 4 führt nun dazu,\n",
    "dass der Text `** Anfang` ausgegeben wird. Anschließend wird die Funktion `f` ohne Argumente aufgerufen.\n",
    "An dieser Stelle ein Argument anzugeben, das in der Funktionsdefinition nicht vorgesehen ist, würde\n",
    "zu einem Fehler führen."
   ]
  },
  {
   "cell_type": "code",
   "execution_count": 2,
   "metadata": {
    "tags": [
     "raises-exception"
    ]
   },
   "outputs": [
    {
     "name": "stdout",
     "output_type": "stream",
     "text": [
      "** Anfang\n"
     ]
    },
    {
     "ename": "TypeError",
     "evalue": "f() takes 0 positional arguments but 1 was given",
     "output_type": "error",
     "traceback": [
      "\u001b[0;31m---------------------------------------------------------------------------\u001b[0m",
      "\u001b[0;31mTypeError\u001b[0m                                 Traceback (most recent call last)",
      "\u001b[0;32m<ipython-input-2-756b26a1c931>\u001b[0m in \u001b[0;36m<module>\u001b[0;34m\u001b[0m\n\u001b[1;32m      3\u001b[0m \u001b[0;34m\u001b[0m\u001b[0m\n\u001b[1;32m      4\u001b[0m \u001b[0mprint\u001b[0m\u001b[0;34m(\u001b[0m\u001b[0;34m\"** Anfang\"\u001b[0m\u001b[0;34m)\u001b[0m\u001b[0;34m\u001b[0m\u001b[0;34m\u001b[0m\u001b[0m\n\u001b[0;32m----> 5\u001b[0;31m \u001b[0mf\u001b[0m\u001b[0;34m(\u001b[0m\u001b[0;36m1\u001b[0m\u001b[0;34m)\u001b[0m\u001b[0;34m\u001b[0m\u001b[0;34m\u001b[0m\u001b[0m\n\u001b[0m\u001b[1;32m      6\u001b[0m \u001b[0mprint\u001b[0m\u001b[0;34m(\u001b[0m\u001b[0;34m\"** Ende\"\u001b[0m\u001b[0;34m)\u001b[0m\u001b[0;34m\u001b[0m\u001b[0;34m\u001b[0m\u001b[0m\n",
      "\u001b[0;31mTypeError\u001b[0m: f() takes 0 positional arguments but 1 was given"
     ]
    }
   ],
   "source": [
    "def f():\n",
    "    print(\"Hallo!\")\n",
    "\n",
    "print(\"** Anfang\")\n",
    "f(1)\n",
    "print(\"** Ende\")"
   ]
  },
  {
   "cell_type": "markdown",
   "metadata": {},
   "source": [
    "Rufen wir dagegen unsere Funktion `f` korrekt ohne ein Argument auf, so wird diese ausgeführt und\n",
    "in diesem Fall `Hallo!` ausgegeben. Nachdem die Funktion ausgeführt wurde, wird die Programmausführung\n",
    "direkt nach dem Funktionsaufruf fortgesetzt. Im Beispiel wird somit abschließend der Text `** Ende`\n",
    "ausgegeben.\n",
    "\n",
    "In den meisten Fällen wird man die Funktion flexibler gestalten wollen und zu diesem Zweck ein oder\n",
    "mehrere Argument übergeben wollen. Um den ursprünglichen Autor von Python,\n",
    "[Guido von Rossum](https://de.wikipedia.org/wiki/Guido_van_Rossum), zu grüßen, können wir den Namen der\n",
    "zu grüßenden Person als Argument übergeben."
   ]
  },
  {
   "cell_type": "code",
   "execution_count": 3,
   "metadata": {},
   "outputs": [
    {
     "name": "stdout",
     "output_type": "stream",
     "text": [
      "Hallo, Guido!\n"
     ]
    }
   ],
   "source": [
    "def f(name):\n",
    "    print(f\"Hallo, {name}!\")\n",
    "\n",
    "f(\"Guido\")"
   ]
  },
  {
   "cell_type": "markdown",
   "metadata": {},
   "source": [
    "Will man zusätzlich die Sprache zwischen Deutsch (de) und Englisch (en) wählen, so könnte man ein\n",
    "weiteres Argument vorsehen."
   ]
  },
  {
   "cell_type": "code",
   "execution_count": 4,
   "metadata": {},
   "outputs": [
    {
     "name": "stdout",
     "output_type": "stream",
     "text": [
      "Hello, Guido!\n"
     ]
    }
   ],
   "source": [
    "def f(name, lang):\n",
    "    if lang == \"en\":\n",
    "        print(f\"Hello, {name}!\")\n",
    "    elif lang == \"de\":\n",
    "        print(f\"Hallo, {name}!\")\n",
    "    else:\n",
    "        print(f\"{name}!\")\n",
    "\n",
    "f(\"Guido\", \"en\")"
   ]
  },
  {
   "cell_type": "markdown",
   "metadata": {},
   "source": [
    "Das gewählte Beispiel ist insofern untypisch als die Funktion anscheinend keinen Rückgabewert zurückliefert.\n",
    "Normalerweise würde man die sich ergebende Zeichenkette an den aufrufenden Programmteil übergeben, wo dann\n",
    "entschieden werden kann, was mit dem Ergebnis zu tun ist. Eine alternative Variante unserer Funktion mit\n",
    "einem Argument würde dann folgendermaßen aussehen."
   ]
  },
  {
   "cell_type": "code",
   "execution_count": 5,
   "metadata": {},
   "outputs": [
    {
     "name": "stdout",
     "output_type": "stream",
     "text": [
      "Hallo, Guido!\n"
     ]
    }
   ],
   "source": [
    "def f(name):\n",
    "    s = f\"Hallo, {name}!\"\n",
    "    return s\n",
    "\n",
    "print(f(\"Guido\"))"
   ]
  },
  {
   "cell_type": "markdown",
   "metadata": {},
   "source": [
    "Das Ergebnis wird mit Hilfe der `return`-Anweisung zurückgegeben, wobei hier keine Klammern zu setzen sind.\n",
    "Alternativ wäre es möglich, auf die Variable `s` zu verzichten und die sich ergebene Zeichenkette direkt\n",
    "in die `return`-Anweisung zu schreiben.\n",
    "\n",
    "Auch wenn man den Eindruck haben könnte, dass das Fehlen einer `return`-Anweisung dazu führt, dass überhaupt\n",
    "kein Ergebnis zurückgibt, ist dies nicht ganz richtig."
   ]
  },
  {
   "cell_type": "code",
   "execution_count": 6,
   "metadata": {},
   "outputs": [
    {
     "name": "stdout",
     "output_type": "stream",
     "text": [
      "Hallo, Guido!\n",
      "Rückgabewert: None\n"
     ]
    }
   ],
   "source": [
    "def f(name):\n",
    "    print(f\"Hallo, {name}!\")\n",
    "\n",
    "x = f(\"Guido\")\n",
    "print(f\"Rückgabewert: {x}\")"
   ]
  },
  {
   "cell_type": "markdown",
   "metadata": {},
   "source": [
    "Die erste Ausgabezeile ergibt sich aus der `print`-Anweisung in der Funktion `f`. Der Rückgabewert aufgrund\n",
    "des Funktionsaufrufs wird in der Variable `x` gespeichert, die anschließend ausgegeben wird. Wie wir sehen,\n",
    "wird in diesem Fall als Ergebnis `None` zurückgegeben. Das gleiche Result hätten wir erhalten, wenn wir als\n",
    "letzte Zeile explizit `return None` geschrieben hätten."
   ]
  },
  {
   "cell_type": "code",
   "execution_count": 7,
   "metadata": {},
   "outputs": [
    {
     "name": "stdout",
     "output_type": "stream",
     "text": [
      "Hallo, Guido!\n",
      "Rückgabewert: None\n"
     ]
    }
   ],
   "source": [
    "def f(name):\n",
    "    print(f\"Hallo, {name}!\")\n",
    "    return None\n",
    "\n",
    "x = f(\"Guido\")\n",
    "print(f\"Rückgabewert: {x}\")"
   ]
  },
  {
   "cell_type": "markdown",
   "metadata": {},
   "source": [
    "```{admonition} Tipp\n",
    ":class: tip\n",
    "Eine vergessene `return`-Anweisung und der sich daraus ergebende Rückgabewert `None` können gelegentlich\n",
    "zu überraschenden Fehlermeldung führen. Es lohnt sich daher bei Fehlern in Zusammenhang mit Funktionen zu\n",
    "überprüfen, ob die `return`-Anweisung vorhanden ist.\n",
    "```\n",
    "\n",
    "Eine Funktion kann auch mehrere `return`-Anweisungen enthalten, wobei die Ausführung der Funktion beendet\n",
    "wird, sobald sie bei einer `return`-Anweisung ankommt. Das folgende Beispiel illustriert dies an einem\n",
    "sehr simplen Primzahltest."
   ]
  },
  {
   "cell_type": "code",
   "execution_count": 8,
   "metadata": {},
   "outputs": [
    {
     "name": "stdout",
     "output_type": "stream",
     "text": [
      "2 3 5 7"
     ]
    },
    {
     "name": "stdout",
     "output_type": "stream",
     "text": [
      " 11 13 17 19 23 29 31 37 41 43 47 53 59 61 67 71 73 79 83 89 97 "
     ]
    }
   ],
   "source": [
    "def is_prime(n):\n",
    "    for divisor in range(2, n):\n",
    "        if n % divisor == 0:\n",
    "            return False\n",
    "    return True\n",
    "\n",
    "for n in range(2, 100):\n",
    "    if is_prime(n):\n",
    "        print(n, end=' ')"
   ]
  },
  {
   "cell_type": "markdown",
   "metadata": {},
   "source": [
    "````{margin}\n",
    "```{admonition} Weiterführende Frage\n",
    "Dieser Primzahltest ist alles andere als effizient. Wie könnte man ihn verbessern?\n",
    "```\n",
    "````\n",
    "Sobald `n` ohne Rest durch `divisor` teilbar ist, wird die Funktion mit der `return`-Anweisung beendet und\n",
    "der Wert `False` zurückgegeben. Wird kein Teiler gefunden, so wird de Wert `True` zurückgegeben. Abhängig\n",
    "vom Ergebnis der Funktion `is_prime` wird die betreffende Zahl ausgegeben oder nicht und auf diese Weise\n",
    "eine Liste von Primzahlen erzeugt.\n",
    "\n",
    "Eine Funktion kann auch mehr als einen Wert zurückgeben. Dazu werden die einzelnen Variablen durch Kommas\n",
    "getrennt in der `return`-Anweisung aufgelistet."
   ]
  },
  {
   "cell_type": "code",
   "execution_count": 9,
   "metadata": {},
   "outputs": [
    {
     "name": "stdout",
     "output_type": "stream",
     "text": [
      "(6.124, 3.536, 7.071)\n"
     ]
    }
   ],
   "source": [
    "from math import cos, radians, sin\n",
    "\n",
    "def spherical2cartesian(r, theta, phi):\n",
    "    theta = radians(theta)\n",
    "    phi = radians(phi)\n",
    "    x = r*sin(theta)*cos(phi)\n",
    "    y = r*sin(theta)*sin(phi)\n",
    "    z = r*cos(theta)\n",
    "    return x, y, z\n",
    "\n",
    "pt1_r = 10\n",
    "pt1_theta = 45\n",
    "pt1_phi = 30\n",
    "pt1_x, pt1_y, pt1_z = spherical2cartesian(pt1_r, pt1_theta, pt1_phi)\n",
    "print(f\"({pt1_x:5.3f}, {pt1_y:5.3f}, {pt1_z:5.3f})\")"
   ]
  },
  {
   "cell_type": "markdown",
   "metadata": {},
   "source": [
    "Vergleicht man in diesem Beispiel die Namen sowohl der Argumente als auch der\n",
    "Rückgabewerte in der Funktionsdefinition mit den Namen, die im Funktionsaufruf\n",
    "in der vorletzten Zeile verwendet werden, so stellt man fest, dass diese nicht\n",
    "identisch sein müssen. Dies ist schon deswegen nicht der Fall, weil man statt der drei\n",
    "Variablen im Funktionsaufruf auch direkt numerische Werte angeben könnte. Zudem\n",
    "wäre es sonst erforderlich, die Variablennamen in Funktionen zu kennen, die man\n",
    "aus einem Modul importiert. In unserem Beispiel erfolgt die Zuordnung der Argumente\n",
    "und der Rückgabewerte einfach nach der Position. Die Möglichkeit, mit Hilfe von\n",
    "Schlüsselworten eine Zuordnung der Funktionsargumente vorzunehmen, werden wir in\n",
    "{numref}`kwargs` besprechen.\n",
    "\n",
    "(dokumentation)=\n",
    "## Dokumentation von Funktionen\n",
    "\n",
    "Wie generell beim Programmieren ist es auch in Funktionen sinnvoll, an eine\n",
    "ausreichende Dokumentation zu denken. Dies könnte mit Hilfe von Kommentaren\n",
    "erfolgen, die in Python mit einem `#` eingeleitet werden. Andere\n",
    "Programmiersprachen verwenden hierfür häufig auch andere Markierungen. In\n",
    "Python gibt es für Funktionen jedoch eine geeignetere Art der Dokumentation,\n",
    "nämlich einen Dokumentationstext, den so genannten *docstring*, der direkt auf\n",
    "die erste Zeile der Funktionsdefinition folgt."
   ]
  },
  {
   "cell_type": "code",
   "execution_count": 10,
   "metadata": {},
   "outputs": [],
   "source": [
    "from math import sqrt\n",
    "\n",
    "def mitternacht(a, b, c):\n",
    "    \"\"\"Berechne die beiden Lösungen einer quadratischen Gleichung ax²+bx+c=0\n",
    "\n",
    "    Es wird die Mitternachtsformel verwendet.\n",
    "    Achtung: Es wird stillschweigend vorausgesetzt, dass b^2-4ac>0.\n",
    "\n",
    "    \"\"\"\n",
    "    diskriminante = sqrt(b**2-4*a*c)\n",
    "    root1 = (-b+diskriminante)/(2*a)\n",
    "    root2 = (-b-diskriminante)/(2*a)\n",
    "    return root1, root2"
   ]
  },
  {
   "cell_type": "markdown",
   "metadata": {},
   "source": [
    "Der *docstring* wird hier nicht nur mit einem, sondern mit drei Anführungszeichen begrenzt,\n",
    "da auf diese Weise ein mehrzeiliger Text möglich ist. Der Vorteil dieser Dokumentationsweise\n",
    "im Vergleich zu einfachen Kommentaren besteht bei Python darin, dass der *docstring* mit Hilfe\n",
    "der {func}`help`-Funktion ausgegeben werden kann, ähnlich wie wir dies im {numref}`mathfunc`\n",
    "kennengelernt hatten, wo `help(math)` die Dokumentation für das {mod}`math`-Modul ausgab."
   ]
  },
  {
   "cell_type": "code",
   "execution_count": 11,
   "metadata": {},
   "outputs": [
    {
     "name": "stdout",
     "output_type": "stream",
     "text": [
      "Help on function mitternacht in module __main__:\n",
      "\n",
      "mitternacht(a, b, c)\n",
      "    Berechne die beiden Lösungen einer quadratischen Gleichung ax²+bx+c=0\n",
      "    \n",
      "    Es wird die Mitternachtsformel verwendet.\n",
      "    Achtung: Es wird stillschweigend vorausgesetzt, dass b^2-4ac>0.\n",
      "\n"
     ]
    }
   ],
   "source": [
    "help(mitternacht)"
   ]
  },
  {
   "cell_type": "markdown",
   "metadata": {},
   "source": [
    "Hier wird man also in Python belohnt, wenn man sich einer guten Dokumentationspraxis bedient.\n",
    "\n",
    "Weitere Hinweis zu *docstrings* sind in {pep}`257` zu finden.\n",
    "\n",
    "## Lokale und globale Variable\n",
    "\n",
    "Nicht selten kommt es vor, dass Variablen inner- und außerhalb einer Funktion den gleichen\n",
    "Namen haben. Insbesondere bei Funktionen, die aus fremden Modulen, zum Beispiel aus der \n",
    "Python-Standardbibliothek, importiert werden, lassen sich solche Namensdoppelungen auch kaum\n",
    "vermeiden. Daher stellt sich die Frage, auf welche Variable sich unter welchen Umständen\n",
    "ein mehrfach verwendeter Variablenname bezieht.\n",
    "\n",
    "In dem folgenden Beispiel sind außerhalb der Funktion {func}`f` die Variablen\n",
    "`x` und `y` definiert. Innerhalb der Funktion {func}`f` gibt es eine Variable\n",
    "`x`, die innerhalb der Funktion verändert wird. Außerdem geht der Wert der\n",
    "Variable `y` in die Rechnung ein. Aus der Sicht der Funktion {func}`f` muss man\n",
    "nun zwischen lokalen und globalen Variablen unterscheiden. Lokale Variablen sind\n",
    "nur innerhalb der Funktion sichtbar, jedoch nicht von außerhalb der Funktion. Gibt\n",
    "es keine lokale Variable mit dem vorgegebenen Namen, dafür aber eine passende globale\n",
    "Variable, so wird deren Wert verwendet. Sollte es auch keine passende globale Variable\n",
    "geben, so sucht Python schließlich auch noch in den eingebauten Python-Funktionen.\n",
    "\n",
    "```{admonition} Tipp\n",
    ":class: warning\n",
    "Grundsätzlich sollte man den Bezug auf globale Variablen nach Möglichkeit vermeiden, da\n",
    "hier eine große Gefahr für Fehler lauert. Meistens ist es besser, den Wert der globalen\n",
    "Variable explizit über ein Funktionsargument zu übergeben. Unter Umständen kann auch \n",
    "objektorientiertes Programmieren nützlich sein, auf das wir in {numref}`oop` eingehen\n",
    "werden.\n",
    "```\n",
    "\n",
    "Betrachten wir die Unterscheidung zwischen lokalen und globalen Variablen in einem\n",
    "konkreten Beispiel."
   ]
  },
  {
   "cell_type": "code",
   "execution_count": 12,
   "metadata": {},
   "outputs": [
    {
     "name": "stdout",
     "output_type": "stream",
     "text": [
      "lokal:  x = 4\n",
      "global: x = 5\n",
      "global: y = 2\n",
      "f(3) = 8\n",
      "x = 5\n"
     ]
    }
   ],
   "source": [
    "def f(x):\n",
    "    x = x+1\n",
    "    print(f\"lokal:  x = {locals()['x']}\")\n",
    "    print(f\"global: x = {globals()['x']}\")\n",
    "    print(f\"global: y = {globals()['y']}\")\n",
    "    return x*y\n",
    "\n",
    "x = 5\n",
    "y = 2\n",
    "print(f\"{f(3) = }\")\n",
    "print(f\"{x = }\")"
   ]
  },
  {
   "cell_type": "markdown",
   "metadata": {},
   "source": [
    "Außerhalb der Funktion {func}`f` sind die globalen Variablen `x` und `y` mit ihren Werten\n",
    "5 und 2 definiert. In der vorletzten Zeile wird dann die Funktion {func}`f` mit dem Argument\n",
    "3 aufgerufen. Damit hat die lokale Variable `x` im Innern der Funktion diesen Wert. In der\n",
    "ersten Zeile des Funktionskörpers wird `x` dann auf den Wert 4 inkrementiert. Dabei nehmen\n",
    "sowohl die linke als auch die rechte Seite Bezug auf die lokale Variable `x`, deren Wert\n",
    "über das Funktionsargument gesetzt wurde. Die globale Variable `x` mit ihrem Wert 5 spielt\n",
    "für die Rechnung keine Rolle, da die lokale Variable Vorrang hat.\n",
    "\n",
    "Nach der Inkrementierung der Variablen `x` sehen wir uns die innerhalb der Funktion bekannten\n",
    "lokalen und globalen Variablen an. Die lokale Variable `x` hat den Wert 4 und ein Bezug auf eine\n",
    "Variable mit dem Namen `x` wird innerhalb der Funktion diesen Wert liefern, sofern nicht im\n",
    "weiteren Verlauf ein anderer Wert zugewiesen wird. Ferner ist eine globale Variable `x` mit\n",
    "dem Wert 5 bekannt, auf die aber nicht unter dem Namen `x` direkt zugegriffen werden kann.\n",
    "Schließlich gibt es noch die globale Variable `y`, die den Wert 2 besitzt.\n",
    "\n",
    "```{admonition} Hinweis\n",
    "Die meisten globale Objekte können innerhalb einer Funktion nicht verändert werden. Eine \n",
    "Ausnahme sind Listen, so dass bei deren Modifikation innerhalb einer Funktion besondere\n",
    "Vorsicht geboten ist. Auf die Besonderheiten von Listen werden in {numref}`zusgdatentypen`\n",
    "genauer eingehen.\n",
    "```\n",
    "\n",
    "Der Rückgabewert der Funktion ergibt sich nun aus dem Produkt der lokalen Variable `x` und\n",
    "der globalen Variable `y` zu 4 mal 2, also 8. Außerhalb der Funktion hat die Variable `x`\n",
    "weiterhin den Wert 5. Dieser wurde durch die Inkrementierung der lokalen Variable `x` innerhalb\n",
    "der Funktion also nicht berührt.\n",
    "\n",
    "Betrachten wir abschließend noch eine abgewandelte Form des vorigen Beispiels, in der neben der\n",
    "Variablen `x` auch die Variable `y` inkrementiert wird. Durch diesen Umstand wird `y` zu einer\n",
    "lokalen Variablen, und zwar in der gesamten Funktion. Dies hat insbesondere zur Folge, dass\n",
    "auf der rechten Seite der zweiten Zeile des Funktionskörpers der Wert der lokalen Variablen `y`\n",
    "benötigt wird. Da diese aber nicht existiert, kommt es hierzu zu einem `UnboundLocalError`."
   ]
  },
  {
   "cell_type": "code",
   "execution_count": 13,
   "metadata": {
    "tags": [
     "raises-exception"
    ]
   },
   "outputs": [
    {
     "ename": "UnboundLocalError",
     "evalue": "local variable 'y' referenced before assignment",
     "output_type": "error",
     "traceback": [
      "\u001b[0;31m---------------------------------------------------------------------------\u001b[0m",
      "\u001b[0;31mUnboundLocalError\u001b[0m                         Traceback (most recent call last)",
      "\u001b[0;32m<ipython-input-13-d50cf0ed9a63>\u001b[0m in \u001b[0;36m<module>\u001b[0;34m\u001b[0m\n\u001b[1;32m      6\u001b[0m \u001b[0mx\u001b[0m \u001b[0;34m=\u001b[0m \u001b[0;36m5\u001b[0m\u001b[0;34m\u001b[0m\u001b[0;34m\u001b[0m\u001b[0m\n\u001b[1;32m      7\u001b[0m \u001b[0my\u001b[0m \u001b[0;34m=\u001b[0m \u001b[0;36m2\u001b[0m\u001b[0;34m\u001b[0m\u001b[0;34m\u001b[0m\u001b[0m\n\u001b[0;32m----> 8\u001b[0;31m \u001b[0mprint\u001b[0m\u001b[0;34m(\u001b[0m\u001b[0;34mf\"{f(3) = }\"\u001b[0m\u001b[0;34m)\u001b[0m\u001b[0;34m\u001b[0m\u001b[0;34m\u001b[0m\u001b[0m\n\u001b[0m",
      "\u001b[0;32m<ipython-input-13-d50cf0ed9a63>\u001b[0m in \u001b[0;36mf\u001b[0;34m(x)\u001b[0m\n\u001b[1;32m      1\u001b[0m \u001b[0;32mdef\u001b[0m \u001b[0mf\u001b[0m\u001b[0;34m(\u001b[0m\u001b[0mx\u001b[0m\u001b[0;34m)\u001b[0m\u001b[0;34m:\u001b[0m\u001b[0;34m\u001b[0m\u001b[0;34m\u001b[0m\u001b[0m\n\u001b[1;32m      2\u001b[0m     \u001b[0mx\u001b[0m \u001b[0;34m=\u001b[0m \u001b[0mx\u001b[0m\u001b[0;34m+\u001b[0m\u001b[0;36m1\u001b[0m\u001b[0;34m\u001b[0m\u001b[0;34m\u001b[0m\u001b[0m\n\u001b[0;32m----> 3\u001b[0;31m     \u001b[0my\u001b[0m \u001b[0;34m=\u001b[0m \u001b[0my\u001b[0m\u001b[0;34m+\u001b[0m\u001b[0;36m1\u001b[0m\u001b[0;34m\u001b[0m\u001b[0;34m\u001b[0m\u001b[0m\n\u001b[0m\u001b[1;32m      4\u001b[0m     \u001b[0;32mreturn\u001b[0m \u001b[0mx\u001b[0m\u001b[0;34m*\u001b[0m\u001b[0my\u001b[0m\u001b[0;34m\u001b[0m\u001b[0;34m\u001b[0m\u001b[0m\n\u001b[1;32m      5\u001b[0m \u001b[0;34m\u001b[0m\u001b[0m\n",
      "\u001b[0;31mUnboundLocalError\u001b[0m: local variable 'y' referenced before assignment"
     ]
    }
   ],
   "source": [
    "def f(x):\n",
    "    x = x+1\n",
    "    y = y+1\n",
    "    return x*y\n",
    "\n",
    "x = 5\n",
    "y = 2\n",
    "print(f\"{f(3) = }\")"
   ]
  },
  {
   "cell_type": "markdown",
   "metadata": {},
   "source": [
    "## Rekursive Funktionen\n",
    "\n",
    "Darf man in einer Funktion die Funktion selbst wieder aufrufen? In Sprachen wie Python, C und\n",
    "modernen Versionen von Fortran ist dies möglich. In Fortran 77 musste man dafür noch in die\n",
    "Trickkiste greifen. Eine Funktion, die in sich selbst wieder aufgerufen wird, wenn auch mit \n",
    "anderen Werten für die Argumente, nennt man eine rekursive Funktion. Zur Erläuterung betrachten\n",
    "wir zunächst ein mathematisches Beispiel.\n",
    "\n",
    "Die Fakultät $n!$ einer ganzen Zahl $n$ ist definiert als das Produkt der ganzen Zahlen von $1$ bis\n",
    "$n$, also\n",
    "\n",
    "$$n! = \\prod_{k=1}^n k = 1\\cdot 2\\cdot\\ldots\\cdot(n-1)\\cdot n\\,.$$\n",
    "\n",
    "Alternativ kann man die Fakultät auch rekursiv definieren als\n",
    "\n",
    "$$n! = n\\cdot(n-1)!\\,,\\ 1!=1\\,.$$\n",
    "\n",
    "Hierbei wird die Auswertung der Fakultät auf die Auswertung der Fakultät für eine um Eins kleinere\n",
    "Zahl reduziert. So lässt sich sukzessive das Argument der auszuwertenden Fakultät reduzieren, was\n",
    "natürlich nur etwas nützt, wenn diese Folge irgendwann abbricht. In unserem Fall geschieht dies\n",
    "dadurch, dass die Fakultät von $1$ zu $1$ definiert wird.\n",
    "\n",
    "Wir setzen diese mathematischen Formeln nun in Programmcode um und beginnen mit der expliziten\n",
    "Produktdarstellung."
   ]
  },
  {
   "cell_type": "code",
   "execution_count": 14,
   "metadata": {},
   "outputs": [
    {
     "name": "stdout",
     "output_type": "stream",
     "text": [
      "1 1\n",
      "2 2\n",
      "3 6\n",
      "4 24\n",
      "5 120\n",
      "6 720\n",
      "7 5040\n",
      "8 40320\n",
      "9 362880\n"
     ]
    }
   ],
   "source": [
    "def fakultaet(n):\n",
    "    produkt = 1\n",
    "    for k in range(2, n+1):\n",
    "        produkt = produkt*k\n",
    "    return produkt\n",
    "\n",
    "for n in range(1, 10):\n",
    "    print(n, fakultaet(n))"
   ]
  },
  {
   "cell_type": "markdown",
   "metadata": {},
   "source": [
    "Alternativ kann man die Fakultät rekursiv implementieren."
   ]
  },
  {
   "cell_type": "code",
   "execution_count": 15,
   "metadata": {},
   "outputs": [
    {
     "name": "stdout",
     "output_type": "stream",
     "text": [
      "1 1\n",
      "2 2\n",
      "3 6\n",
      "4 24\n",
      "5 120\n",
      "6 720\n",
      "7 5040\n",
      "8 40320\n",
      "9 362880\n"
     ]
    }
   ],
   "source": [
    "def fakultaet_rekursiv(n):\n",
    "    if n > 1:\n",
    "        return n*fakultaet_rekursiv(n-1)\n",
    "    elif n == 1:\n",
    "        return 1\n",
    "    else:\n",
    "        raise ValueError(\"Das Argument muss größer als Null sein.\")\n",
    "\n",
    "for n in range(1, 10):\n",
    "    print(n, fakultaet_rekursiv(n))"
   ]
  },
  {
   "cell_type": "markdown",
   "metadata": {},
   "source": [
    "Sehen wir uns diese Implementierung etwas genauer an. So lange das Argument `n` größer als Eins ist,\n",
    "wird einfach die Rekursionsformel implementiert. Es wird als Ergebnis also einfach `n` mal die Fakultät\n",
    "von `n-1` zurückgegeben. Dabei muss aber zunächst diese Fakultät berechnet werden. Auf diese Weise\n",
    "arbeitet man sich sukzessive zu immer kleineren Argumenten bis `n` den Wert `1` erreicht. In diesem Fall\n",
    "bricht die Rekursion ab, und es wird direkt das Resultat `1` zurückgegeben. Nachdem dieser Wert erhalten\n",
    "wurde, können sukzessive die Resultate der einzelnen Funktionsaufrufe bestimmt werden bis am Ende das\n",
    "gewünschte Ergebnis erhalten wird. Diesen Vorgang werden wir gleich noch etwas genauer veranschaulichen.\n",
    "\n",
    "Zuvor wollen wir aber noch darauf hinweisen, dass unsere Funktion noch eine Fehlerbehandlung\n",
    "durchführt, die verhindert, dass die Rekursion nie zu Ende kommt. Sollte das Argument `n` nämlich\n",
    "kleiner gleich Null sein oder keine ganze Zahl sein, würde man nie die Abbruchbedingung erreichen,\n",
    "bei der `n` gleich Eins ist.  Damit wären wir in einer Endlosschleife gefangen. Bei rekursiven\n",
    "Funktionen ist es also immer essentiell wichtig, darauf zu achten, dass die Abbruchbedingung korrekt\n",
    "implementiert ist. \n",
    "\n",
    "```{admonition} Maximale Rekursionstiefe in Python\n",
    "In Python ist die Rekursionstiefe standardmäßig auf 1000 begrenzt, wie sich mit Hilfe von \n",
    "{func}`sys.getrecursionlimit` verifizieren lässt. Damit ist einerseits die Gefahr von Endlosschleifen\n",
    "etwas entschärft. In unserem Beispiel wäre aber die Größe des Arguments `n` dadurch begrenzt. Bei\n",
    "Bedarf lässt sich die maximale Rekursionstiefe mit {func}`sys.setrecursionlimit` anpassen. Zuvor\n",
    "sollte man aber sicherstellen, dass die Abbruchbedingung für die Rekursion tatsächlich korrekt\n",
    "funktioniert.\n",
    "```\n",
    "\n",
    "Um den Ablauf der Rekursion zu veranschaulichen, modifizieren wir unser Programm noch ein klein\n",
    "wenig."
   ]
  },
  {
   "cell_type": "code",
   "execution_count": 16,
   "metadata": {},
   "outputs": [
    {
     "name": "stdout",
     "output_type": "stream",
     "text": [
      "** Aufruf mit Argument n = 5\n",
      "** Aufruf mit Argument n = 4\n",
      "** Aufruf mit Argument n = 3\n",
      "** Aufruf mit Argument n = 2\n",
      "** Aufruf mit Argument n = 1\n"
     ]
    },
    {
     "name": "stdout",
     "output_type": "stream",
     "text": [
      "-> 1! = 1\n",
      "-> 2! = 2\n",
      "-> 3! = 6\n",
      "-> 4! = 24\n",
      "-> 5! = 120\n"
     ]
    },
    {
     "data": {
      "text/plain": [
       "120"
      ]
     },
     "execution_count": 16,
     "metadata": {},
     "output_type": "execute_result"
    }
   ],
   "source": [
    "def fakultaet_rekursiv(n):\n",
    "    print(f\"** Aufruf mit Argument {n = }\")\n",
    "    if n > 1:\n",
    "        ergebnis = n*fakultaet_rekursiv(n-1)\n",
    "        print(f\"-> {n}! = {ergebnis}\")\n",
    "        return ergebnis\n",
    "    elif n == 1:\n",
    "        ergebnis = 1\n",
    "        print(f\"-> {n}! = {ergebnis}\")\n",
    "        return ergebnis\n",
    "    else:\n",
    "        raise ValueError(\"Das Argument muss größer gleich Eins sein.\")\n",
    "\n",
    "fakultaet_rekursiv(5)"
   ]
  },
  {
   "cell_type": "markdown",
   "metadata": {},
   "source": [
    "Hier wird deutlich, wie zunächst nacheinander die Funktion mit fallenden Argumenten aufgerufen\n",
    "wird und dann sukzessive die Resultate aufgebaut werden, nachdem das Ende der Rekursion\n",
    "erreicht wurde.\n",
    "\n",
    "(fccfunc)=\n",
    "## Funktionen als Bürger erster Klasse\n",
    "\n",
    "````{margin}\n",
    "```{admonition} Literaturverweis\n",
    "Das Konzept von Objekten oder Bürgern erster Klasse wurde im Zusammenhang mit Programmiersprachen\n",
    "1967 von Christopher Strachey eingeführt: C. Strachey, [Higher-order Symb. Comput. *13*, 11\n",
    "(2000)](https://doi.org/10.1023/A:1010000313106)\n",
    "```\n",
    "````\n",
    "In diesem Kapitel haben wir bis jetzt Funktionen definiert und diese aufgerufen. Die Funktion\n",
    "wurde dann ausgeführt, und wir haben ein Ergebnis erhalten. Diese Möglichkeiten, mit Funktionen\n",
    "zu arbeiten, kann man für alle Programmiersprachen erwarten. Es gibt jedoch Programmiersprachen,\n",
    "zu denen auch Python gehört, in denen mit Funktionen genauso wie mit anderen Objekten, also zum\n",
    "Beispiel Variablen umgegangen werden kann. Man spricht dann davon, dass Funktionen *first class\n",
    "citizens*, also Bürger erster Klasse, sind, die im Vergleich zu anderen Objekten nicht in ihren\n",
    "Möglichkeiten eingeschränkt sind.\n",
    "\n",
    "Was sind also die zusätzlichen Möglichkeiten, die sich daraus ergeben, dass Funktionen *first class\n",
    "objects* oder *first class citizens* sind? Funktionen können dann Variablen zugewiesen werden,\n",
    "sie können als Argumente an Funktionen übergeben werden oder beispielsweise auch als Elemente in\n",
    "Listen auftreten. Wir wollen dies an Beispielen illustrieren."
   ]
  },
  {
   "cell_type": "code",
   "execution_count": 17,
   "metadata": {},
   "outputs": [
    {
     "name": "stdout",
     "output_type": "stream",
     "text": [
      "0.8414709848078965 0.8414709848078965\n",
      "<built-in function sin>\n",
      "<built-in function sin>\n"
     ]
    }
   ],
   "source": [
    "from math import sin\n",
    "\n",
    "funktion = sin\n",
    "print(funktion(1), sin(1))\n",
    "print(funktion)\n",
    "print(sin)"
   ]
  },
  {
   "cell_type": "markdown",
   "metadata": {},
   "source": [
    "Hier wird der Variablen `funktion` die Sinusfunktion `sin` aus dem {mod}`math`-Modul zugewiesen.\n",
    "Wichtig ist an dieser Stelle, dass keine Klammer gesetzt werden, wie man es bei einem\n",
    "Funktionsaufruf tun müsste. Nur dann bezieht man sich auf das Funktionsobjekt. Die Variable\n",
    "`funktion` kann nun mit Argumenten genauso aufgerufen werden, wie das für `sin` möglich ist, und\n",
    "wir stellen fest, dass sich erwartungsgemäß auch das gleiche Ergebnis ergibt. Übergibt man das\n",
    "Funktionsobjekt, also nicht das Ergebnis einer Funktionsauswertung, an die {func}`print`-Funktion,\n",
    "so wird ein beschreibender Text ausgegeben, der zeigt, dass `funktion` tatsächlich auf die\n",
    "eingebaute Funktion `sin` verweist.\n",
    "\n",
    "Wie schon erwähnt, können Funktionsobjekte auch als Elemente einer Liste auftreten. Dabei spielt\n",
    "es keine Rolle, ob die betreffenden Funktionen importiert oder selbst definiert wurden."
   ]
  },
  {
   "cell_type": "code",
   "execution_count": 18,
   "metadata": {},
   "outputs": [
    {
     "name": "stdout",
     "output_type": "stream",
     "text": [
      "cos   : 0.540302\n",
      "sin   : 0.841471\n",
      "myfunc: 1.000000\n"
     ]
    }
   ],
   "source": [
    "from math import cos, sin\n",
    "\n",
    "def myfunc(x):\n",
    "    return x**2 - 4*x + 4\n",
    "\n",
    "for f in [cos, sin, myfunc]:\n",
    "    print(f\"{f.__name__:6s}: {f(1):8.6f}\")"
   ]
  },
  {
   "cell_type": "markdown",
   "metadata": {},
   "source": [
    "Für die Ausgabe des Funktionsnamens haben wir uns dabei des Attributs `__name__` bedient, wobei hier\n",
    "vor und nach dem Text `name` jeweils zwei Unterstriche stehen.\n",
    "\n",
    "Funktionen als Argumente an andere Funktionen übergeben zu können, eröffnet interessante\n",
    "Möglichkeiten. Wir wollen dies an einem Beispiel demonstrieren, das numerisch näherungsweise die\n",
    "Ableitung einer Funktion an einer vorgegebenen Stelle bestimmen soll."
   ]
  },
  {
   "cell_type": "code",
   "execution_count": 19,
   "metadata": {},
   "outputs": [
    {
     "name": "stdout",
     "output_type": "stream",
     "text": [
      "ableitung(sin, 0) = 0.9999999999999983\n",
      "ableitung(cos, 0) = 0.0\n"
     ]
    }
   ],
   "source": [
    "from math import cos, sin\n",
    "\n",
    "def ableitung(f, x):\n",
    "    h = 1e-7\n",
    "    df = (f(x+h)-f(x-h))/(2*h)\n",
    "    return df\n",
    "\n",
    "print(f\"{ableitung(sin, 0) = }\")\n",
    "print(f\"{ableitung(cos, 0) = }\")"
   ]
  },
  {
   "cell_type": "markdown",
   "metadata": {},
   "source": [
    "Hier wird der Differenzenquotient für eine kleine, aber fest vorgegebene Schrittweite ausgewertet.\n",
    "Als Argumente werden sowohl die Funktion, hier Sinus und Kosinus, sowie die Stelle, an der die\n",
    "Ableitung auszuwerten ist, übergeben. Es sei noch einmal betont, dass bei der Übergabe des\n",
    "Funktionsobjekts keine Klammern gesetzt werden dürfen.\n",
    "\n",
    "Natürlich kann der Code für die Ableitung noch verbessert werden, zum Beispiel weil die Wahl einer\n",
    "festen Schrittweite nicht unbedingt ideal ist. Immerhin kommen alle Verbesserung des Codes der\n",
    "Auswertung der Ableitung von im Prinzip beliebigen Funktionen zugute. Im {numref}`kwargs` werden\n",
    "wir dieses Beispiel noch weiter entwickeln.\n",
    "\n",
    "(lambdafunktionen)=\n",
    "## Lambda-Funktionen\n",
    "\n",
    "Im {numref}`fdef` hatten wir Beispiele für Funktionen kennengelernt, bei denen die Bestimmung der\n",
    "Ergebnisses in einer einzelnen Codezeile erfolgte. Bei machen Gelegenheiten erscheint dann die\n",
    "vollständige Definition einer Funktion als unnötig aufwändig. Tatsächlich erlauben es die\n",
    "sogenannten Lambda-Funktionen, eine Funktion in einer einzigen Zeile zu definieren. Der Name dieser\n",
    "Funktionen stammt aus dem Lambda-Kalkül, in dem die Lambda-Funktionen einen wichtige Rolle spielen.\n",
    "Dies erklärt auch, warum `lambda` zu den reservierten Schlüsselwörtern in Python gehört und nicht\n",
    "als Variablenname verwendet werden kann. Ein Beispiel soll die Definition einer Lambda-Funktion \n",
    "illustrieren."
   ]
  },
  {
   "cell_type": "code",
   "execution_count": 20,
   "metadata": {},
   "outputs": [
    {
     "name": "stdout",
     "output_type": "stream",
     "text": [
      "81 81\n"
     ]
    }
   ],
   "source": [
    "quadrat = lambda x: x**2\n",
    "potenz = lambda x, y: x**y\n",
    "print(quadrat(9), potenz(3, 4))"
   ]
  },
  {
   "cell_type": "markdown",
   "metadata": {},
   "source": [
    "Nach dem Schlüsselwort `lambda` folgt ein oder mehrere Argumente gefolgt von einem Doppelpunkt.\n",
    "Der letzte Ausdruck gibt an, wie der Rückgabewert zu bestimmen ist. \n",
    "\n",
    "Lambda-Funktionen werden auch als anonyme Funktionen bezeichnet, da sie nicht unbedingt einen\n",
    "Namen tragen müssen. Dies kann zum Beispiel dann nützlich sein, wenn das Ergebnis einer Funktion\n",
    "wiederum eine Funktion sein soll. Die Funktion {func}`potenz` gibt in Abhängigkeit von dem\n",
    "übergebenen Argument eine Funktion zurück, die die entsprechende Potenz eines Arguments berechnet.\n",
    "So werden hier das Quadrat (`square`) und die dritte Potenz (`cubic`) mit Hilfe der einen Funktion\n",
    "`potenz` definiert."
   ]
  },
  {
   "cell_type": "code",
   "execution_count": 21,
   "metadata": {},
   "outputs": [
    {
     "name": "stdout",
     "output_type": "stream",
     "text": [
      "25 125\n"
     ]
    }
   ],
   "source": [
    "def potenz(exponent):\n",
    "    return lambda x: x**exponent\n",
    "\n",
    "square = potenz(2)\n",
    "cubic = potenz(3)\n",
    "print(square(5), cubic(5))"
   ]
  },
  {
   "cell_type": "markdown",
   "metadata": {},
   "source": [
    "Auch bei Anwendungen der im {numref}`fccfunc` definierten Ableitungsfunktion können anonyme\n",
    "Funktionen nützlich sein, wenn man die Ableitung einer selbst definierten Funktion numerisch\n",
    "berechnen möchte. In dem folgenden Beispiel soll die Ableitung von $f(x)=x^3$ berechnet werden."
   ]
  },
  {
   "cell_type": "code",
   "execution_count": 22,
   "metadata": {},
   "outputs": [
    {
     "name": "stdout",
     "output_type": "stream",
     "text": [
      "3.000000000086267\n"
     ]
    }
   ],
   "source": [
    "def ableitung(f, x):\n",
    "    h = 1e-7\n",
    "    df = (f(x+h)-f(x-h))/(2*h)\n",
    "    return df\n",
    "\n",
    "print(ableitung(lambda x: x**3, 1))"
   ]
  },
  {
   "cell_type": "markdown",
   "metadata": {},
   "source": [
    "Die ersten vier Zeilen enthalten die bereits zuvor verwendete Ableitungsfunktion. Beim Aufruf dieser\n",
    "Funktion kann das erste Argument einfach in Form einer anonymen Funktion oder Lambda-Funktion\n",
    "angegeben werden, ohne dass eine separate Funktion in der üblichen Weise definiert werden müsste.\n",
    "Auf diese Weise erhalten wir hier eine numerische Näherung für die Ableitung der dritten Potenz an\n",
    "der Stelle $1$.\n",
    "\n",
    "(kwargs)=\n",
    "## Schlüsselworte und Defaultwerte\n",
    "\n",
    "Am Ende von {numref}`fdef` hatten wir gezeigt, dass bei Funktionsaufrufen mit mehreren Argumenten\n",
    "die Zuordnung nicht nach dem Namen erfolgt, sondern zunächst einmal nach der Position der jeweiligen\n",
    "Argumente.  Dies ist jedoch insbesondere in Fällen, in denen die Argumentliste sehr lange wird,\n",
    "nicht praktisch und daher gibt es auch andere Möglichkeiten, Argumente zu übergeben.  Zur\n",
    "Illustration dieser Problematik stellen wir uns eine Funktion vor, die es ermöglicht, vorgegebene\n",
    "Daten graphisch darzustellen. Eine solche Funktion wird typischerweise relativ viele Argumente\n",
    "haben, da man beispielsweise die Strichfarbe, die Strichdicke und die Strichart festlegen möchte.\n",
    "Andererseits möchte man nicht unbedingt alle Argumente explizit angeben müssen, wenn man nur eine\n",
    "schwarze durchgezogene Linie mittlerer Dicke darstellen möchte. Es sollte auch nicht so sein, dass\n",
    "man, nur weil man die Stichart anpassen möchte, alle anderen Argumente, die vor dem betreffenden\n",
    "Argument stehen, zwingend angeben muss.\n",
    "\n",
    "In einem solchen Fall ist es sinnvoll, Argumente per Schlüsselwort zu übergeben. Um das Vorgehen\n",
    "zu verdeutlichen, greifen wir auf die Funktion zurück, die wir am Ende des letzten Abschnitts zur\n",
    "numerischen Berechnung von Ableitungen eingeführt hatten."
   ]
  },
  {
   "cell_type": "code",
   "execution_count": 23,
   "metadata": {},
   "outputs": [],
   "source": [
    "def ableitung(f, x):\n",
    "    h = 1e-7\n",
    "    df = (f(x+h)-f(x-h))/(2*h)\n",
    "    return df"
   ]
  },
  {
   "cell_type": "markdown",
   "metadata": {},
   "source": [
    "In dem zuvor beschriebenen Funktionsaufruf"
   ]
  },
  {
   "cell_type": "code",
   "execution_count": 24,
   "metadata": {},
   "outputs": [
    {
     "data": {
      "text/plain": [
       "3.000000000086267"
      ]
     },
     "execution_count": 24,
     "metadata": {},
     "output_type": "execute_result"
    }
   ],
   "source": [
    "ableitung(lambda x: x**3, 1)"
   ]
  },
  {
   "cell_type": "markdown",
   "metadata": {},
   "source": [
    "wird das erste Argument der Variable `f` und das zweite Argument der Variable `x` in der Funktion \n",
    "zugeordnet. Alternativ kann man die Argumente mit den in der Funktion verwendeten Namen bezeichnen.\n",
    "Ein mögliche Form des Funktionsaufrufs wäre dann"
   ]
  },
  {
   "cell_type": "code",
   "execution_count": 25,
   "metadata": {},
   "outputs": [
    {
     "data": {
      "text/plain": [
       "3.000000000086267"
      ]
     },
     "execution_count": 25,
     "metadata": {},
     "output_type": "execute_result"
    }
   ],
   "source": [
    "ableitung(f=lambda x: x**3, x=1)"
   ]
  },
  {
   "cell_type": "markdown",
   "metadata": {},
   "source": [
    "Hier stehen die Argumente zwar immer noch in der gleichen Reihenfolge, aber die Zuordnung erfolgt\n",
    "nun über die angegebenen Bezeichner. Daher könnte man genauso gut die Reihenfolge der beiden\n",
    "Argumente vertauschen."
   ]
  },
  {
   "cell_type": "code",
   "execution_count": 26,
   "metadata": {},
   "outputs": [
    {
     "data": {
      "text/plain": [
       "3.000000000086267"
      ]
     },
     "execution_count": 26,
     "metadata": {},
     "output_type": "execute_result"
    }
   ],
   "source": [
    "ableitung(x=1, f=lambda x: x**3)"
   ]
  },
  {
   "cell_type": "markdown",
   "metadata": {},
   "source": [
    "```{admonition} Hinweis zur Formatierung\n",
    "{pep}`8` empfiehlt, um Gleichheitszeichen in Zuweisungen Leerzeichen zu setzen. Anders\n",
    "ist dies bei Schlüsselwortargumenten. Hier sollen um das Gleichheitszeichen keine Leerzeichen\n",
    "gesetzt.\n",
    "```\n",
    "Beim den letzten beiden Funktionsaufrufen ist es wichtig, die verschiedenen `x` voneinander zu\n",
    "unterscheiden. Die beiden `x` in der Lambdafunktion haben dabei nichts mit dem Schlüsselwort `x`\n",
    "zu tun. Noch sorgfältiger muss man in dem folgenden Funktionsaufruf die verschiedenen `x`\n",
    "unterscheiden."
   ]
  },
  {
   "cell_type": "code",
   "execution_count": 27,
   "metadata": {},
   "outputs": [
    {
     "data": {
      "text/plain": [
       "3.000000000086267"
      ]
     },
     "execution_count": 27,
     "metadata": {},
     "output_type": "execute_result"
    }
   ],
   "source": [
    "x = 1\n",
    "ableitung(x=x, f=lambda x: x**3)"
   ]
  },
  {
   "cell_type": "markdown",
   "metadata": {},
   "source": [
    "Im Funktionsaufruf bezeichnet das erste `x` ein Schlüsselwort, das mit einem Argumentbezeichner in \n",
    "der Funktionsdefinition übereinstimmen muss. Das zweite `x` verweist auf die Variable `x`, die nach\n",
    "der Zuweisung in der ersten Zeile den Wert 1 besitzt. Die `x` im zweiten Argument bezeichnen eine\n",
    "lokale Variable in der Lambdafunktion und haben nichts mit dem beiden `x` im ersten Argument zu tun.\n",
    "\n",
    "Gerade bei längeren Argumentlisten kann es sinnvoll sein, einen Teil der Argumente über ihre\n",
    "Position in der Liste zuzuordnen und andere Argumente über das zugehörige Schlüsselwort. In einem\n",
    "solchen Fall müssen die Argumente mit Schlüsselwort zwingend hinter den Argumenten kommen, die über\n",
    "ihre Position zugeordnet werden. Andernfalls könnten die Argumente im Allgemeinen nicht\n",
    "zweifelsfrei zugeordnet werden.\n",
    "\n",
    "Ein Nachteil unserer Ableitungsfunktion, wie sie momentan implementiert ist, besteht darin, dass die\n",
    "Schrittweite `h` in der Funktion fest vorgegeben ist. Der Wert von $10^{-7}$ mag zwar vernünftig \n",
    "gewählt sein, aber es wäre sinnvoll, wenn man diesen Wert bei Bedarf anpassen könnte. In einem\n",
    "solchen Fall ist es möglich, einen so genannten Defaultwert zu definieren, der dann zum Tragen\n",
    "kommt, wenn nichts anderes gesagt wird. Ein verbesserte Variante der Ableitungsfunktion könnte also\n",
    "wie folgt aussehen."
   ]
  },
  {
   "cell_type": "code",
   "execution_count": 28,
   "metadata": {},
   "outputs": [],
   "source": [
    "def ableitung(f, x, h=1e-7):\n",
    "    df = (f(x+h)-f(x-h))/(2*h)\n",
    "    return df"
   ]
  },
  {
   "cell_type": "markdown",
   "metadata": {},
   "source": [
    "Diese Funktion kann nun in verschiedener Weise aufgerufen werden. Zum einen können wir die früheren\n",
    "Aufrufe übernehmen, wobei dann der Wert für `h` gleich dem angegebenen Defaultwert ist. Python wird\n",
    "sich also nicht darüber beschweren, dass `h` nicht definiert sei."
   ]
  },
  {
   "cell_type": "code",
   "execution_count": 29,
   "metadata": {},
   "outputs": [
    {
     "data": {
      "text/plain": [
       "3.000000000086267"
      ]
     },
     "execution_count": 29,
     "metadata": {},
     "output_type": "execute_result"
    }
   ],
   "source": [
    "ableitung(lambda x: x**3, 1)"
   ]
  },
  {
   "cell_type": "markdown",
   "metadata": {},
   "source": [
    "Man kann aber auch den Wert von `h` vorgeben."
   ]
  },
  {
   "cell_type": "code",
   "execution_count": 30,
   "metadata": {},
   "outputs": [
    {
     "name": "stdout",
     "output_type": "stream",
     "text": [
      "3.0100000000000016\n",
      "3.0001000000000055\n",
      "3.0000009999998634\n",
      "3.0000000099994484\n",
      "3.000000000097369\n",
      "2.9999999999197335\n",
      "3.000000000086267\n"
     ]
    }
   ],
   "source": [
    "for n in range(1, 8):\n",
    "    print(ableitung(lambda x: x**3, 1, 10**-n))"
   ]
  },
  {
   "cell_type": "markdown",
   "metadata": {},
   "source": [
    "In diesem Fall werden die Argumente über ihre Position übergeben. Natürlich könnte man stattdessen\n",
    "auch Schlüsselwortargumente verwenden, zum Beispiel in der Form"
   ]
  },
  {
   "cell_type": "code",
   "execution_count": 31,
   "metadata": {},
   "outputs": [
    {
     "name": "stdout",
     "output_type": "stream",
     "text": [
      "3.0100000000000016\n",
      "3.0001000000000055\n",
      "3.0000009999998634\n",
      "3.0000000099994484\n",
      "3.000000000097369\n",
      "2.9999999999197335\n",
      "3.000000000086267\n"
     ]
    }
   ],
   "source": [
    "for n in range(1, 8):\n",
    "    print(ableitung(lambda x: x**3, h=10**-n, x=1))"
   ]
  },
  {
   "cell_type": "markdown",
   "metadata": {},
   "source": [
    "Es sei noch einmal betont, dass in diesem Fall das Schlüsselwort `x` im letzten Argument nicht\n",
    "entfallen kann, da sonst die Zuordnung nicht eindeutig ist."
   ]
  },
  {
   "cell_type": "code",
   "execution_count": 32,
   "metadata": {
    "tags": [
     "raises-exception"
    ]
   },
   "outputs": [
    {
     "ename": "SyntaxError",
     "evalue": "positional argument follows keyword argument (<ipython-input-32-623220036647>, line 1)",
     "output_type": "error",
     "traceback": [
      "\u001b[0;36m  File \u001b[0;32m\"<ipython-input-32-623220036647>\"\u001b[0;36m, line \u001b[0;32m1\u001b[0m\n\u001b[0;31m    ableitung(lambda x: x**3, h=10**-n, 1)\u001b[0m\n\u001b[0m                                         ^\u001b[0m\n\u001b[0;31mSyntaxError\u001b[0m\u001b[0;31m:\u001b[0m positional argument follows keyword argument\n"
     ]
    }
   ],
   "source": [
    "ableitung(lambda x: x**3, h=10**-n, 1)"
   ]
  },
  {
   "cell_type": "markdown",
   "metadata": {},
   "source": [
    "Abschließend sehen wir uns zur Illustration noch ein Beispiel aus der\n",
    "Scipy-Bibliothek an, auf die wir im {numref}`scipy` einen Blick werfen\n",
    "werden. Diese Bibliothek stellt neben vielem anderem eine Funktion zur\n",
    "numerischen Integration zur Verfügung, die 14 Argumente besitzt. Die ersten\n",
    "drei Argumente werden typischerweise über ihre Position übergeben, was sich\n",
    "unter anderem daraus ergibt, dass es sich hierbei um essentielle Argumente wie\n",
    "den Integranden und die Integrationsgrenzen handelt. Für diese Argumente gibt\n",
    "es keine sinnvollen Defaultwerte. Anders ist dies bei den restlichen elf\n",
    "Argumenten, für die Defaultwerte definiert sind, die bei Bedarf abgeändert\n",
    "werden können. Da diese Argumente mit Hilfe der Namen übergeben werden können,\n",
    "ist es problemlos möglich, nur eines der Argumente zu modifizieren ohne \n",
    "die in der Argumentliste davor stehenden Argumente angeben zu müssen."
   ]
  },
  {
   "cell_type": "code",
   "execution_count": 33,
   "metadata": {
    "tags": [
     "output_scroll"
    ]
   },
   "outputs": [
    {
     "name": "stdout",
     "output_type": "stream",
     "text": [
      "Help on function quad in module scipy.integrate.quadpack:\n",
      "\n",
      "quad(func, a, b, args=(), full_output=0, epsabs=1.49e-08, epsrel=1.49e-08, limit=50, points=None, weight=None, wvar=None, wopts=None, maxp1=50, limlst=50)\n",
      "    Compute a definite integral.\n",
      "    \n",
      "    Integrate func from `a` to `b` (possibly infinite interval) using a\n",
      "    technique from the Fortran library QUADPACK.\n",
      "    \n",
      "    Parameters\n",
      "    ----------\n",
      "    func : {function, scipy.LowLevelCallable}\n",
      "        A Python function or method to integrate. If `func` takes many\n",
      "        arguments, it is integrated along the axis corresponding to the\n",
      "        first argument.\n",
      "    \n",
      "        If the user desires improved integration performance, then `f` may\n",
      "        be a `scipy.LowLevelCallable` with one of the signatures::\n",
      "    \n",
      "            double func(double x)\n",
      "            double func(double x, void *user_data)\n",
      "            double func(int n, double *xx)\n",
      "            double func(int n, double *xx, void *user_data)\n",
      "    \n",
      "        The ``user_data`` is the data contained in the `scipy.LowLevelCallable`.\n",
      "        In the call forms with ``xx``,  ``n`` is the length of the ``xx``\n",
      "        array which contains ``xx[0] == x`` and the rest of the items are\n",
      "        numbers contained in the ``args`` argument of quad.\n",
      "    \n",
      "        In addition, certain ctypes call signatures are supported for\n",
      "        backward compatibility, but those should not be used in new code.\n",
      "    a : float\n",
      "        Lower limit of integration (use -numpy.inf for -infinity).\n",
      "    b : float\n",
      "        Upper limit of integration (use numpy.inf for +infinity).\n",
      "    args : tuple, optional\n",
      "        Extra arguments to pass to `func`.\n",
      "    full_output : int, optional\n",
      "        Non-zero to return a dictionary of integration information.\n",
      "        If non-zero, warning messages are also suppressed and the\n",
      "        message is appended to the output tuple.\n",
      "    \n",
      "    Returns\n",
      "    -------\n",
      "    y : float\n",
      "        The integral of func from `a` to `b`.\n",
      "    abserr : float\n",
      "        An estimate of the absolute error in the result.\n",
      "    infodict : dict\n",
      "        A dictionary containing additional information.\n",
      "        Run scipy.integrate.quad_explain() for more information.\n",
      "    message\n",
      "        A convergence message.\n",
      "    explain\n",
      "        Appended only with 'cos' or 'sin' weighting and infinite\n",
      "        integration limits, it contains an explanation of the codes in\n",
      "        infodict['ierlst']\n",
      "    \n",
      "    Other Parameters\n",
      "    ----------------\n",
      "    epsabs : float or int, optional\n",
      "        Absolute error tolerance. Default is 1.49e-8. `quad` tries to obtain\n",
      "        an accuracy of ``abs(i-result) <= max(epsabs, epsrel*abs(i))``\n",
      "        where ``i`` = integral of `func` from `a` to `b`, and ``result`` is the\n",
      "        numerical approximation. See `epsrel` below.\n",
      "    epsrel : float or int, optional\n",
      "        Relative error tolerance. Default is 1.49e-8.\n",
      "        If ``epsabs <= 0``, `epsrel` must be greater than both 5e-29\n",
      "        and ``50 * (machine epsilon)``. See `epsabs` above.\n",
      "    limit : float or int, optional\n",
      "        An upper bound on the number of subintervals used in the adaptive\n",
      "        algorithm.\n",
      "    points : (sequence of floats,ints), optional\n",
      "        A sequence of break points in the bounded integration interval\n",
      "        where local difficulties of the integrand may occur (e.g.,\n",
      "        singularities, discontinuities). The sequence does not have\n",
      "        to be sorted. Note that this option cannot be used in conjunction\n",
      "        with ``weight``.\n",
      "    weight : float or int, optional\n",
      "        String indicating weighting function. Full explanation for this\n",
      "        and the remaining arguments can be found below.\n",
      "    wvar : optional\n",
      "        Variables for use with weighting functions.\n",
      "    wopts : optional\n",
      "        Optional input for reusing Chebyshev moments.\n",
      "    maxp1 : float or int, optional\n",
      "        An upper bound on the number of Chebyshev moments.\n",
      "    limlst : int, optional\n",
      "        Upper bound on the number of cycles (>=3) for use with a sinusoidal\n",
      "        weighting and an infinite end-point.\n",
      "    \n",
      "    See Also\n",
      "    --------\n",
      "    dblquad : double integral\n",
      "    tplquad : triple integral\n",
      "    nquad : n-dimensional integrals (uses `quad` recursively)\n",
      "    fixed_quad : fixed-order Gaussian quadrature\n",
      "    quadrature : adaptive Gaussian quadrature\n",
      "    odeint : ODE integrator\n",
      "    ode : ODE integrator\n",
      "    simps : integrator for sampled data\n",
      "    romb : integrator for sampled data\n",
      "    scipy.special : for coefficients and roots of orthogonal polynomials\n",
      "    \n",
      "    Notes\n",
      "    -----\n",
      "    \n",
      "    **Extra information for quad() inputs and outputs**\n",
      "    \n",
      "    If full_output is non-zero, then the third output argument\n",
      "    (infodict) is a dictionary with entries as tabulated below. For\n",
      "    infinite limits, the range is transformed to (0,1) and the\n",
      "    optional outputs are given with respect to this transformed range.\n",
      "    Let M be the input argument limit and let K be infodict['last'].\n",
      "    The entries are:\n",
      "    \n",
      "    'neval'\n",
      "        The number of function evaluations.\n",
      "    'last'\n",
      "        The number, K, of subintervals produced in the subdivision process.\n",
      "    'alist'\n",
      "        A rank-1 array of length M, the first K elements of which are the\n",
      "        left end points of the subintervals in the partition of the\n",
      "        integration range.\n",
      "    'blist'\n",
      "        A rank-1 array of length M, the first K elements of which are the\n",
      "        right end points of the subintervals.\n",
      "    'rlist'\n",
      "        A rank-1 array of length M, the first K elements of which are the\n",
      "        integral approximations on the subintervals.\n",
      "    'elist'\n",
      "        A rank-1 array of length M, the first K elements of which are the\n",
      "        moduli of the absolute error estimates on the subintervals.\n",
      "    'iord'\n",
      "        A rank-1 integer array of length M, the first L elements of\n",
      "        which are pointers to the error estimates over the subintervals\n",
      "        with ``L=K`` if ``K<=M/2+2`` or ``L=M+1-K`` otherwise. Let I be the\n",
      "        sequence ``infodict['iord']`` and let E be the sequence\n",
      "        ``infodict['elist']``.  Then ``E[I[1]], ..., E[I[L]]`` forms a\n",
      "        decreasing sequence.\n",
      "    \n",
      "    If the input argument points is provided (i.e., it is not None),\n",
      "    the following additional outputs are placed in the output\n",
      "    dictionary. Assume the points sequence is of length P.\n",
      "    \n",
      "    'pts'\n",
      "        A rank-1 array of length P+2 containing the integration limits\n",
      "        and the break points of the intervals in ascending order.\n",
      "        This is an array giving the subintervals over which integration\n",
      "        will occur.\n",
      "    'level'\n",
      "        A rank-1 integer array of length M (=limit), containing the\n",
      "        subdivision levels of the subintervals, i.e., if (aa,bb) is a\n",
      "        subinterval of ``(pts[1], pts[2])`` where ``pts[0]`` and ``pts[2]``\n",
      "        are adjacent elements of ``infodict['pts']``, then (aa,bb) has level l\n",
      "        if ``|bb-aa| = |pts[2]-pts[1]| * 2**(-l)``.\n",
      "    'ndin'\n",
      "        A rank-1 integer array of length P+2. After the first integration\n",
      "        over the intervals (pts[1], pts[2]), the error estimates over some\n",
      "        of the intervals may have been increased artificially in order to\n",
      "        put their subdivision forward. This array has ones in slots\n",
      "        corresponding to the subintervals for which this happens.\n",
      "    \n",
      "    **Weighting the integrand**\n",
      "    \n",
      "    The input variables, *weight* and *wvar*, are used to weight the\n",
      "    integrand by a select list of functions. Different integration\n",
      "    methods are used to compute the integral with these weighting\n",
      "    functions, and these do not support specifying break points. The\n",
      "    possible values of weight and the corresponding weighting functions are.\n",
      "    \n",
      "    ==========  ===================================   =====================\n",
      "    ``weight``  Weight function used                  ``wvar``\n",
      "    ==========  ===================================   =====================\n",
      "    'cos'       cos(w*x)                              wvar = w\n",
      "    'sin'       sin(w*x)                              wvar = w\n",
      "    'alg'       g(x) = ((x-a)**alpha)*((b-x)**beta)   wvar = (alpha, beta)\n",
      "    'alg-loga'  g(x)*log(x-a)                         wvar = (alpha, beta)\n",
      "    'alg-logb'  g(x)*log(b-x)                         wvar = (alpha, beta)\n",
      "    'alg-log'   g(x)*log(x-a)*log(b-x)                wvar = (alpha, beta)\n",
      "    'cauchy'    1/(x-c)                               wvar = c\n",
      "    ==========  ===================================   =====================\n",
      "    \n",
      "    wvar holds the parameter w, (alpha, beta), or c depending on the weight\n",
      "    selected. In these expressions, a and b are the integration limits.\n",
      "    \n",
      "    For the 'cos' and 'sin' weighting, additional inputs and outputs are\n",
      "    available.\n",
      "    \n",
      "    For finite integration limits, the integration is performed using a\n",
      "    Clenshaw-Curtis method which uses Chebyshev moments. For repeated\n",
      "    calculations, these moments are saved in the output dictionary:\n",
      "    \n",
      "    'momcom'\n",
      "        The maximum level of Chebyshev moments that have been computed,\n",
      "        i.e., if ``M_c`` is ``infodict['momcom']`` then the moments have been\n",
      "        computed for intervals of length ``|b-a| * 2**(-l)``,\n",
      "        ``l=0,1,...,M_c``.\n",
      "    'nnlog'\n",
      "        A rank-1 integer array of length M(=limit), containing the\n",
      "        subdivision levels of the subintervals, i.e., an element of this\n",
      "        array is equal to l if the corresponding subinterval is\n",
      "        ``|b-a|* 2**(-l)``.\n",
      "    'chebmo'\n",
      "        A rank-2 array of shape (25, maxp1) containing the computed\n",
      "        Chebyshev moments. These can be passed on to an integration\n",
      "        over the same interval by passing this array as the second\n",
      "        element of the sequence wopts and passing infodict['momcom'] as\n",
      "        the first element.\n",
      "    \n",
      "    If one of the integration limits is infinite, then a Fourier integral is\n",
      "    computed (assuming w neq 0). If full_output is 1 and a numerical error\n",
      "    is encountered, besides the error message attached to the output tuple,\n",
      "    a dictionary is also appended to the output tuple which translates the\n",
      "    error codes in the array ``info['ierlst']`` to English messages. The\n",
      "    output information dictionary contains the following entries instead of\n",
      "    'last', 'alist', 'blist', 'rlist', and 'elist':\n",
      "    \n",
      "    'lst'\n",
      "        The number of subintervals needed for the integration (call it ``K_f``).\n",
      "    'rslst'\n",
      "        A rank-1 array of length M_f=limlst, whose first ``K_f`` elements\n",
      "        contain the integral contribution over the interval\n",
      "        ``(a+(k-1)c, a+kc)`` where ``c = (2*floor(|w|) + 1) * pi / |w|``\n",
      "        and ``k=1,2,...,K_f``.\n",
      "    'erlst'\n",
      "        A rank-1 array of length ``M_f`` containing the error estimate\n",
      "        corresponding to the interval in the same position in\n",
      "        ``infodict['rslist']``.\n",
      "    'ierlst'\n",
      "        A rank-1 integer array of length ``M_f`` containing an error flag\n",
      "        corresponding to the interval in the same position in\n",
      "        ``infodict['rslist']``.  See the explanation dictionary (last entry\n",
      "        in the output tuple) for the meaning of the codes.\n",
      "    \n",
      "    Examples\n",
      "    --------\n",
      "    Calculate :math:`\\int^4_0 x^2 dx` and compare with an analytic result\n",
      "    \n",
      "    >>> from scipy import integrate\n",
      "    >>> x2 = lambda x: x**2\n",
      "    >>> integrate.quad(x2, 0, 4)\n",
      "    (21.333333333333332, 2.3684757858670003e-13)\n",
      "    >>> print(4**3 / 3.)  # analytical result\n",
      "    21.3333333333\n",
      "    \n",
      "    Calculate :math:`\\int^\\infty_0 e^{-x} dx`\n",
      "    \n",
      "    >>> invexp = lambda x: np.exp(-x)\n",
      "    >>> integrate.quad(invexp, 0, np.inf)\n",
      "    (1.0, 5.842605999138044e-11)\n",
      "    \n",
      "    >>> f = lambda x,a : a*x\n",
      "    >>> y, err = integrate.quad(f, 0, 1, args=(1,))\n",
      "    >>> y\n",
      "    0.5\n",
      "    >>> y, err = integrate.quad(f, 0, 1, args=(3,))\n",
      "    >>> y\n",
      "    1.5\n",
      "    \n",
      "    Calculate :math:`\\int^1_0 x^2 + y^2 dx` with ctypes, holding\n",
      "    y parameter as 1::\n",
      "    \n",
      "        testlib.c =>\n",
      "            double func(int n, double args[n]){\n",
      "                return args[0]*args[0] + args[1]*args[1];}\n",
      "        compile to library testlib.*\n",
      "    \n",
      "    ::\n",
      "    \n",
      "       from scipy import integrate\n",
      "       import ctypes\n",
      "       lib = ctypes.CDLL('/home/.../testlib.*') #use absolute path\n",
      "       lib.func.restype = ctypes.c_double\n",
      "       lib.func.argtypes = (ctypes.c_int,ctypes.c_double)\n",
      "       integrate.quad(lib.func,0,1,(1))\n",
      "       #(1.3333333333333333, 1.4802973661668752e-14)\n",
      "       print((1.0**3/3.0 + 1.0) - (0.0**3/3.0 + 0.0)) #Analytic result\n",
      "       # 1.3333333333333333\n",
      "    \n",
      "    Be aware that pulse shapes and other sharp features as compared to the\n",
      "    size of the integration interval may not be integrated correctly using\n",
      "    this method. A simplified example of this limitation is integrating a\n",
      "    y-axis reflected step function with many zero values within the integrals\n",
      "    bounds.\n",
      "    \n",
      "    >>> y = lambda x: 1 if x<=0 else 0\n",
      "    >>> integrate.quad(y, -1, 1)\n",
      "    (1.0, 1.1102230246251565e-14)\n",
      "    >>> integrate.quad(y, -1, 100)\n",
      "    (1.0000000002199108, 1.0189464580163188e-08)\n",
      "    >>> integrate.quad(y, -1, 10000)\n",
      "    (0.0, 0.0)\n",
      "\n"
     ]
    }
   ],
   "source": [
    "from scipy import integrate\n",
    "help(integrate.quad)"
   ]
  }
 ],
 "metadata": {
  "jupytext": {
   "formats": "md:myst",
   "text_representation": {
    "extension": ".md",
    "format_name": "myst",
    "format_version": "0.8",
    "jupytext_version": "1.4.1+dev"
   }
  },
  "kernelspec": {
   "display_name": "Python 3",
   "language": "python",
   "name": "python3"
  },
  "language_info": {
   "codemirror_mode": {
    "name": "ipython",
    "version": 3
   },
   "file_extension": ".py",
   "mimetype": "text/x-python",
   "name": "python",
   "nbconvert_exporter": "python",
   "pygments_lexer": "ipython3",
   "version": "3.9.1"
  },
  "source_map": [
   13,
   60,
   67,
   89,
   99,
   109,
   114,
   117,
   127,
   133,
   139,
   146,
   152,
   157,
   164,
   175,
   185,
   198,
   214,
   236,
   250,
   256,
   258,
   292,
   304,
   338,
   350,
   377,
   386,
   389,
   400,
   427,
   442,
   469,
   476,
   488,
   496,
   503,
   513,
   535,
   539,
   549,
   556,
   560,
   567,
   592,
   597,
   599,
   601,
   605,
   607,
   611,
   613,
   623,
   626,
   644,
   648,
   652,
   654,
   656,
   659,
   662,
   665,
   668,
   673,
   687
  ]
 },
 "nbformat": 4,
 "nbformat_minor": 4
}