{
 "cells": [
  {
   "cell_type": "markdown",
   "id": "difficult-tunisia",
   "metadata": {},
   "source": [
    "(oop)=\n",
    "# Objektorientiertes Programmieren\n",
    "\n",
    "```{admonition} Hinweis\n",
    ":class: warning\n",
    "Dieses Kapitel befindet sich noch in Bearbeitung.\n",
    "```\n",
    "\n",
    "Beim objektorientierten Programmieren handelt es sich um ein Paradigma, das man nutzen\n",
    "kann, aber nicht muss. So war objektorientiertes Programmieren in älteren Versionen\n",
    "von FORTRAN überhaupt nicht möglich und andererseits gibt es Programmiersprachen wie\n",
    "zum Beispiel Java, in denen man nur objektorientiert programmieren kann. Python ermöglicht\n",
    "zwar objektorientiertes Programmieren, erzwingt es aber nicht. Daher sollte man zumindest\n",
    "eine Vorstellung davon haben, was die Grundideen des objektorientierten Programmierens\n",
    "sind, um bei konkreten Problemstellungen erkennen zu können, ob und in welchem Maße es\n",
    "sich lohnt, diesem Programmierparadigma zu folgen.\n",
    "\n",
    "## Klassen, Attribute und Methoden\n",
    "\n",
    "Tatsächlich ist Python objektorientiert konzipiert, so dass wir in den bisherigen Kapiteln\n",
    "bereits Spuren von objektorientiertem Programmieren gesehen haben, ohne dass dies groß\n",
    "thematisiert wurde. Für einen allerersten Einblick wollen wir das nun an ein paar Beispielen\n",
    "nachholen. Als Einstieg dienen uns dabei der Datentyp der komplexen Zahlen. Aus Pythonsicht\n",
    "gibt es die Klassendefinition der Klasse `complex`, die gewissermaßen den allgemeinen\n",
    "Bauplan für komplexe Zahlen enthält. Eine konkrete komplexe Zahl ist dann eine Instanz dieser\n",
    "Klasse."
   ]
  },
  {
   "cell_type": "code",
   "execution_count": 1,
   "id": "homeless-month",
   "metadata": {},
   "outputs": [
    {
     "data": {
      "text/plain": [
       "'complex'"
      ]
     },
     "execution_count": 1,
     "metadata": {},
     "output_type": "execute_result"
    }
   ],
   "source": [
    "x = 2+1j\n",
    "x.__class__.__name__"
   ]
  },
  {
   "cell_type": "markdown",
   "id": "educated-istanbul",
   "metadata": {},
   "source": [
    "Objekte können Attribute haben, also Eigenschaften besitzen. Bei komplexen Zahlen sind dies\n",
    "Real- und Imaginärteil, die, wie wir aus {numref}`complex` wissen, auf die folgende Weise\n",
    "erhalten können."
   ]
  },
  {
   "cell_type": "code",
   "execution_count": 2,
   "id": "differential-effort",
   "metadata": {},
   "outputs": [
    {
     "data": {
      "text/plain": [
       "(2.0, 1.0)"
      ]
     },
     "execution_count": 2,
     "metadata": {},
     "output_type": "execute_result"
    }
   ],
   "source": [
    "x.real, x.imag"
   ]
  },
  {
   "cell_type": "markdown",
   "id": "appreciated-newsletter",
   "metadata": {},
   "source": [
    "Nach dem Namen der Instanz folgt also der durch einen Punkt abgetrennte Attributname.\n",
    "\n",
    "Darüber hinaus kann es Methoden geben, also im Grunde genommen Funktionen, die mit den entsprechenden\n",
    "Objekten verknüpft sind. So erfolgt die Umwandlung einer komplexen Zahl mit Hilfe der Methode\n",
    "{func}`conjugate`."
   ]
  },
  {
   "cell_type": "code",
   "execution_count": 3,
   "id": "organizational-wallace",
   "metadata": {},
   "outputs": [
    {
     "data": {
      "text/plain": [
       "(2-1j)"
      ]
     },
     "execution_count": 3,
     "metadata": {},
     "output_type": "execute_result"
    }
   ],
   "source": [
    "x.conjugate()"
   ]
  },
  {
   "cell_type": "markdown",
   "id": "binding-montreal",
   "metadata": {},
   "source": [
    "Auch hier folgt dem Namen der Instanz der durch einen Punkt abgetrennte Methodenname. Natürlich\n",
    "können Methoden auch Argumente besitzen. Als Beispiel nennen wir die {func}`index`-Methode von\n",
    "Listen."
   ]
  },
  {
   "cell_type": "code",
   "execution_count": 4,
   "id": "preliminary-envelope",
   "metadata": {},
   "outputs": [
    {
     "data": {
      "text/plain": [
       "2"
      ]
     },
     "execution_count": 4,
     "metadata": {},
     "output_type": "execute_result"
    }
   ],
   "source": [
    "mylist = [1, 4, 7, 21]\n",
    "mylist.index(7)"
   ]
  },
  {
   "cell_type": "markdown",
   "id": "gorgeous-lending",
   "metadata": {},
   "source": [
    "Das Beispiel der komplexen Zahlen verdeutlicht einen der wesentlichen Vorteile des objektorientierten\n",
    "Programmierens. Die komplexe Zahl, in unserem Beispiel `x`, wird als ein Objekt verstanden und nicht\n",
    "separat als Real- und Imaginärteil der betreffenden Zahl. Dies ermöglicht es uns, zum Beispiel die\n",
    "komplexe Konjugation direkt auf die komplexe Zahl operieren zu lassen und nicht Real- und Imaginärteil\n",
    "zu betrachten. Trotzdem kann man bei Bedarf jederzeit auf den Real- und den Imaginärteil zugreifen.\n",
    "Weil man nun in diesen Objekten denkt, kann ein Programm, das diese Objekte verwendet, konzeptionell\n",
    "deutlich übersichtlicher und leichter verständlich werden, was bei der Fehlersuche helfen kann.\n",
    "Außerdem werden die Attribute gekapselt, so dass man sich nicht ständig um diese kümmern muss.\n",
    "\n",
    "Nach diesen Vorbemerkungen müssen wir uns nun ansehen, wie sich eine Klasse mit ihren Attributen\n",
    "und Methoden definieren lässt. Dies wollen wir anhand eines Beispiels tun, in dem eine Klasse\n",
    "für Vektoren in zwei Dimensionen definiert wird. Am Ende können wir mit solchen Vektoren als\n",
    "eigenständigen Objekten arbeiten. Eigenschaften wie die Vektorkomponenten können dabei, wie gerade\n",
    "schon für die komplexen Zahlen besprochen, häufig im Hintergrund bleiben, wie wir gleich noch\n",
    "sehen werden.\n",
    "\n",
    "Wir werden die Klassendefinition für zweidimensionale Vektoren schrittweise aufbauen und dabei\n",
    "verschiedene Aspekte besprechen. Unsere erste Version ist durch den folgenden Code gegeben."
   ]
  },
  {
   "cell_type": "code",
   "execution_count": 5,
   "id": "enhanced-april",
   "metadata": {},
   "outputs": [],
   "source": [
    "from math import cos, sin\n",
    "\n",
    "class Vector2d:\n",
    "    def __init__(self, x, y):\n",
    "        self.x = x\n",
    "        self.y = y\n",
    "\n",
    "    def __str__(self):\n",
    "        return f'({self.x}, {self.y})'\n",
    "\n",
    "    def rotate(self, phi):\n",
    "        x = cos(phi)*self.x - sin(phi)*self.y\n",
    "        y = sin(phi)*self.x + cos(phi)*self.y\n",
    "        return Vector2d(x, y)"
   ]
  },
  {
   "cell_type": "markdown",
   "id": "waiting-undergraduate",
   "metadata": {},
   "source": [
    "Hier werden zunächst zwei trigonometrische Funktionen importiert, die wir benötigen werden,\n",
    "um Vektoren in der Ebene zu drehen. Die eigentliche Klassendefinition beginnt dann in der\n",
    "dritten Zeile mit dem Schlüsselwort. Der Name der Klasse, hier `Vector2d`, beginnt üblicherweise\n",
    "mit einem Großbuchstaben und die Zeile wird ähnlich wie in einer Funktionsdefinition mit einem\n",
    "Doppelpunkt abgeschlossen.\n",
    "\n",
    "Es folgen drei Methoden, wobei die ersten beiden Namen tragen, die mit einem doppelten Unterstrich\n",
    "beginnen und enden. Dadurch wird angedeutet, dass diese Methoden für Python eine besondere Bedeutung\n",
    "haben. Die {func}`__init__`-Methode wird ausgeführt, wenn eine Instanz der Klasse erzeugt wird."
   ]
  },
  {
   "cell_type": "code",
   "execution_count": 6,
   "id": "viral-registration",
   "metadata": {},
   "outputs": [
    {
     "data": {
      "text/plain": [
       "<__main__.Vector2d at 0x7f4450235eb0>"
      ]
     },
     "execution_count": 6,
     "metadata": {},
     "output_type": "execute_result"
    }
   ],
   "source": [
    "v1 = Vector2d(2, 1)\n",
    "v1"
   ]
  },
  {
   "cell_type": "markdown",
   "id": "extreme-motel",
   "metadata": {},
   "source": [
    "Wie wir sehen, hat die {func}`__init__`-Methode drei Argumente. Bei der Instantiierung ist aber ein\n",
    "Argument weniger anzugeben, da das erste Argument der {func}`__init__`-Methode, das üblicherweise\n",
    "`self` genannt wird, eine besondere Funktion erfüllt. Es steht gewissermaßen für die spezifische\n",
    "Instanz und erlaubt es, diese Instanz den verschiedenen Methoden zugänglich zu machen, wie wir\n",
    "noch genauer sehen werden. In der {func}`__init__`-Methode werden die übergebenen Parameter je\n",
    "nach Bedarf verarbeitet und in Attributen gespeichert sowie weitere zu Beginn erforderlich\n",
    "Operationen durchgeführt. In unserem speziellen Fall müssen wir nur dafür sorgen, dass die in\n",
    "den Parametern `x` und `y` vorliegenden Vektorkomponenten anschließend über entsprechende Attribute\n",
    "zugänglich sind. Dazu weisen wir sie `self.x` beziehungsweise `self.y` zu. Damit können\n",
    "wir auch nach der erfolgten Instantiierung auf die Attribute zugreifen."
   ]
  },
  {
   "cell_type": "code",
   "execution_count": 7,
   "id": "identified-geometry",
   "metadata": {},
   "outputs": [
    {
     "name": "stdout",
     "output_type": "stream",
     "text": [
      "2 1\n"
     ]
    }
   ],
   "source": [
    "print(v1.x, v1.y)"
   ]
  },
  {
   "cell_type": "markdown",
   "id": "tutorial-bottle",
   "metadata": {},
   "source": [
    "Die Verwandtschaft mit der Bestimmung des Real- und Imaginärteils komplexer Zahlen, die wir eingangs\n",
    "betrachtet hatten, ist offensichtlich.\n",
    "\n",
    "Eine nützliche Methode, die wir oben bereits definiert haben, ist die {func}`__str__`-Methode, die\n",
    "von Python dann aufgerufen wird, wenn das Objekt in eine Zeichenkette umgewandelt werden muss, wie dies\n",
    "beispielsweise durch die {func}`print`-Funktion geschieht. Wir lassen die Vektorkomponenten ausgeben,\n",
    "um später leicht die Auswirkungen von weiteren Methoden unserer Klasse {class}`Vector2d` zu überprüfen. Da die\n",
    "{func}`__str__`-Methode das Argument `self` besitzt, haben wir in dieser Methode Zugriff auf die\n",
    "Attribute des Objekts, also in unserem Fall auf die Vektorkomponenten."
   ]
  },
  {
   "cell_type": "code",
   "execution_count": 8,
   "id": "express-grammar",
   "metadata": {},
   "outputs": [
    {
     "name": "stdout",
     "output_type": "stream",
     "text": [
      "(2, 1)\n"
     ]
    }
   ],
   "source": [
    "print(v1)"
   ]
  },
  {
   "cell_type": "markdown",
   "id": "deadly-association",
   "metadata": {},
   "source": [
    "Die dritte, oben definierte Methode {func}`rotate` soll es erlauben, den Vektor um einen Winkel `phi` in\n",
    "der $x$--$y$-Ebene zu drehen."
   ]
  },
  {
   "cell_type": "code",
   "execution_count": 9,
   "id": "relative-cartridge",
   "metadata": {},
   "outputs": [
    {
     "name": "stdout",
     "output_type": "stream",
     "text": [
      "(-0.9999999999999999, 2.0)\n"
     ]
    }
   ],
   "source": [
    "from math import pi\n",
    "\n",
    "print(v1.rotate(pi/2))"
   ]
  },
  {
   "cell_type": "markdown",
   "id": "hollow-flash",
   "metadata": {},
   "source": [
    "Wie wir dem Code der {func}`rotate`-Methode entnehmen können, wird als Ergebnis eine neue Instanz der\n",
    "{class}`Vector2d` erzeugt. Alternativ hätten wir die Vektorkomponenten nach der Drehung `self.x` und `self.y`\n",
    "zuweisen können. Dann hätten wir lediglich die Attribute des Vektors geändert ohne einen neuen Vektor\n",
    "zu erzeugen.\n",
    "\n",
    "Der Wert von Attributen kann auch explizit durch Zuweisung geändert werden."
   ]
  },
  {
   "cell_type": "code",
   "execution_count": 10,
   "id": "coordinate-microwave",
   "metadata": {},
   "outputs": [
    {
     "name": "stdout",
     "output_type": "stream",
     "text": [
      "(2, 1)\n",
      "(4, 1)\n"
     ]
    }
   ],
   "source": [
    "print(v1)\n",
    "v1.x = 4\n",
    "print(v1)"
   ]
  },
  {
   "cell_type": "markdown",
   "id": "associate-chile",
   "metadata": {},
   "source": [
    "Oft werden hierfür spezielle Methoden zur Verfügung gestellt, um überprüfen zu können, ob der neue Wert\n",
    "gültig ist.\n",
    "\n",
    "Für Vektoren wird man sicherlich auch eine Methode erwarten, die die Länge des Vektors bestimmt. Eine solche\n",
    "Methode, die wir {func}`norm` nennen, lässt sich leicht mit Hilfe der {func}`hypot`-Funktion aus dem \n",
    "`math`-Modul implementieren. Die erweiterte Klassendefinition geben wir nachfolgend vollständig wieder."
   ]
  },
  {
   "cell_type": "code",
   "execution_count": 11,
   "id": "authentic-office",
   "metadata": {},
   "outputs": [],
   "source": [
    "from math import cos, sin, hypot\n",
    "\n",
    "class Vector2d:\n",
    "    def __init__(self, x, y):\n",
    "        self.x = x\n",
    "        self.y = y\n",
    "\n",
    "    def __str__(self):\n",
    "        return f'({self.x}, {self.y})'\n",
    "\n",
    "    @property\n",
    "    def norm(self):\n",
    "        return hypot(self.x, self.y)\n",
    "\n",
    "    def rotate(self, phi):\n",
    "        x = cos(phi)*self.x - sin(phi)*self.y\n",
    "        y = sin(phi)*self.x + cos(phi)*self.y\n",
    "        return Vector2d(x, y)"
   ]
  },
  {
   "cell_type": "markdown",
   "id": "cognitive-edinburgh",
   "metadata": {},
   "source": [
    "Würden wir die mit `@` beginnende Zeile, einen sogenannten Dekorator, weglassen, so würde es sich bei\n",
    "{func}`norm` einfach um eine Methode handeln, wie wir sie von der {func}`rotate`-Methode her kennen. Der\n",
    "Dekorator `@property` wandelt diese Methode jedoch in eine Eigenschaft um, auf deren Wert wir wie bei\n",
    "einem Attribut zugreifen können."
   ]
  },
  {
   "cell_type": "code",
   "execution_count": 12,
   "id": "painted-touch",
   "metadata": {},
   "outputs": [
    {
     "name": "stdout",
     "output_type": "stream",
     "text": [
      "2.23606797749979\n"
     ]
    }
   ],
   "source": [
    "v1 = Vector2d(2, 1)\n",
    "print(v1.norm)"
   ]
  },
  {
   "cell_type": "markdown",
   "id": "annoying-devil",
   "metadata": {},
   "source": [
    "Es ist jedoch nicht möglich, den Wert dieses Attributs zu setzen."
   ]
  },
  {
   "cell_type": "code",
   "execution_count": 13,
   "id": "tutorial-handy",
   "metadata": {
    "tags": [
     "raises-exception"
    ]
   },
   "outputs": [
    {
     "ename": "AttributeError",
     "evalue": "can't set attribute",
     "output_type": "error",
     "traceback": [
      "\u001b[0;31m---------------------------------------------------------------------------\u001b[0m",
      "\u001b[0;31mAttributeError\u001b[0m                            Traceback (most recent call last)",
      "\u001b[0;32m<ipython-input-13-294b3f5c13e8>\u001b[0m in \u001b[0;36m<module>\u001b[0;34m\u001b[0m\n\u001b[0;32m----> 1\u001b[0;31m \u001b[0mv1\u001b[0m\u001b[0;34m.\u001b[0m\u001b[0mnorm\u001b[0m \u001b[0;34m=\u001b[0m \u001b[0;36m10\u001b[0m\u001b[0;34m\u001b[0m\u001b[0;34m\u001b[0m\u001b[0m\n\u001b[0m",
      "\u001b[0;31mAttributeError\u001b[0m: can't set attribute"
     ]
    }
   ],
   "source": [
    "v1.norm = 10"
   ]
  },
  {
   "cell_type": "markdown",
   "id": "skilled-florist",
   "metadata": {},
   "source": [
    "Im Zusammenhang mit dem Setzen von Attributen ist noch wichtig zu wissen, dass man auch den Wert\n",
    "von nicht in der Klassendefinition vorkommenden Attributen im Prinzip setzen kann. Das kann bei\n",
    "Tippfehlern zu unerwartetem Verhalten führen. Dieser Umstand zeigt nochmals, dass es sinnvoll sein\n",
    "kann, explizite Methoden zum Setzen und auch zum Auslesen von Attributen zu implementieren."
   ]
  },
  {
   "cell_type": "code",
   "execution_count": 14,
   "id": "partial-spring",
   "metadata": {},
   "outputs": [
    {
     "name": "stdout",
     "output_type": "stream",
     "text": [
      "(2, 1)\n",
      "-4\n"
     ]
    }
   ],
   "source": [
    "v1.z = -4\n",
    "print(v1)\n",
    "print(v1.z)"
   ]
  },
  {
   "cell_type": "markdown",
   "id": "anticipated-transmission",
   "metadata": {},
   "source": [
    "Um noch etwas deutlicher zu sehen, wie es das objektorientiertes Programmieren erlaubt, mit den Objekten\n",
    "als eigene Einheit zu arbeiten, wollen wir unsere Beispielklasse ein letztes Mal erweitern.\n",
    "Unser letztliches Ziel soll dabei sein, eine Methode zum Spiegeln eines Vektors an einem Normalenvektor,\n",
    "der einen bestimmten Winkel mit der $x$-Achse einschließt, zu implementieren.\n",
    "\n",
    "Dazu überlegen wir uns zunächst, wie wir diese allgemeine Spiegelung mathematisch bewerkstelligen\n",
    "können. Dazu bezeichnen wir den ursprünglichen Vektor als $\\vec v$, den gespiegelten Vektor als \n",
    "${\\vec v}'$, und die Spiegelachse werde durch den Normalenvektor $\\vec n$ spezifiziert. Dann können\n",
    "wir $\\vec v$ in den Anteil in Richtung von $\\vec n$ sowie den dazu senkrechten Anteil zerlegen.\n",
    "Es ist also\n",
    "\n",
    "$$\\begin{align}\n",
    "   \\vec v_\\parallel &= \\left(\\vec v\\cdot\\vec n\\right)\\vec n\\\\\n",
    "   \\vec v_\\perp &= \\vec v-\\vec v_\\parallel\\,.\n",
    "\\end{align}$$\n",
    "\n",
    "Der gespiegelte Vektor ergibt sich dann zu\n",
    "\n",
    "$${\\vec v}' = \\vec v_\\parallel-\\vec v_\\perp = 2\\left(\\vec v\\cdot\\vec n\\right)\\vec n - \\vec v\\,.$$\n",
    "\n",
    "Hieraus folgt, dass wir die Spiegelung alleine mit Hilfe der beteiligten Vektoren vornehmen\n",
    "können, ohne die einzelnen Komponenten der Vektoren explizit ins Spiel bringen zu müssen. Dazu\n",
    "müssen wir aber in der Lage sein Vektoren zu subtrahieren, mit reellen Zahlen zu multiplizieren\n",
    "und ein Skalarprodukt auszuwerten.\n",
    "\n",
    "Wir geben zunächst die vollständige, um einige Methoden ergänzte Klassendefinition von {class}`Vector2d`\n",
    "an und besprechen anschließend die neu hinzugefügten Methoden."
   ]
  },
  {
   "cell_type": "code",
   "execution_count": 15,
   "id": "applicable-pride",
   "metadata": {},
   "outputs": [],
   "source": [
    "from math import cos, sin, hypot\n",
    "\n",
    "class Vector2d:\n",
    "    def __init__(self, x, y):\n",
    "        self.x = x\n",
    "        self.y = y\n",
    "\n",
    "    def __str__(self):\n",
    "        return f'({self.x}, {self.y})'\n",
    "\n",
    "    def __add__(self, other):\n",
    "        return Vector2d(self.x+other.x, self.y+other.y)\n",
    "\n",
    "    def __sub__(self, other):\n",
    "        return Vector2d(self.x-other.x, self.y-other.y)\n",
    "\n",
    "    def __mul__(self, other):\n",
    "        if isinstance(other, Vector2d):\n",
    "             return self.x*other.x + self.y*other.y\n",
    "        elif isinstance(other, float) or isinstance(other, int):\n",
    "             return Vector2d(other*self.x, other*self.y)\n",
    "        raise TypeError(f'Vector2d kann nicht mit {type(other)} multipliziert werden.')\n",
    "\n",
    "    __rmul__ = __mul__\n",
    "\n",
    "    @property\n",
    "    def norm(self):\n",
    "        return hypot(self.x, self.y)\n",
    "\n",
    "    def rotate(self, phi):\n",
    "        x = cos(phi)*self.x - sin(phi)*self.y\n",
    "        y = sin(phi)*self.x + cos(phi)*self.y\n",
    "        return Vector2d(x, y)\n",
    "\n",
    "    def mirror(self, phi):\n",
    "        n = Vector2d(cos(phi), sin(phi))\n",
    "        parallel = (self*n)*n\n",
    "        return 2*parallel - self"
   ]
  },
  {
   "cell_type": "markdown",
   "id": "upper-birth",
   "metadata": {},
   "source": [
    "Zunächst sehen wir uns die Methoden {func}`__add__` und {func}`__sub__` an, die\n",
    "von Python unter anderem dann aufgerufen werden, wenn zwei Objekte mit einem Plus- \n",
    "beziehungsweise Minuszeichen verknüpft werden. Der erste Vektor entspricht dem Argument\n",
    "`self` und das zweite Argument `other` entspricht dem zweiten Vektor. Die entsprechenden\n",
    "Operationen haben wir entsprechend komponentenweise implementiert."
   ]
  },
  {
   "cell_type": "code",
   "execution_count": 16,
   "id": "racial-simple",
   "metadata": {},
   "outputs": [
    {
     "name": "stdout",
     "output_type": "stream",
     "text": [
      "(-1, 5)   (3, -1)\n"
     ]
    }
   ],
   "source": [
    "v1 = Vector2d(1, 2)\n",
    "v2 = Vector2d(-2, 3)\n",
    "print(f'{v1+v2}   {v1-v2}')"
   ]
  },
  {
   "cell_type": "markdown",
   "id": "revised-bristol",
   "metadata": {},
   "source": [
    "Für eine bessere Implementation sollte man natürlich noch überprüfen, ob `other` wirklich eine\n",
    "Instanz von {class}`Vector2d` ist. Dies werden wir in der nächsten Methode besser machen.\n",
    "\n",
    "Die {func}`__mul__`-Methode wird von Python unter anderem dann aufgerufen, wenn zwei Objekte\n",
    "mit dem Multiplikationsstern verknüpft werden. Für die Spiegelung eines Vektors müssen wir\n",
    "dabei zwei Fälle unterscheiden, Während sichergestellt ist, dass `self` immer eine Instanz von\n",
    "{class}`Vector2d` ist, soll das Verhalten der {func}`__mul__`-Methode davon abhängen, ob `other`\n",
    "ebenfalls eine Instanz dieser Klasse ist oder aber eine Gleitkommazahl (`float`) oder ein \n",
    "Integer (`int`). Im ersten Fall haben wir ein Skalarprodukt implementiert und im zweiten Fall\n",
    "multiplizieren wir die beiden Komponenten mit der betreffenden Zahl. Trifft keiner der beiden\n",
    "Fälle zu, geben wir eine entsprechende Fehlermeldung aus."
   ]
  },
  {
   "cell_type": "code",
   "execution_count": 17,
   "id": "academic-valve",
   "metadata": {},
   "outputs": [
    {
     "name": "stdout",
     "output_type": "stream",
     "text": [
      "(1, 2)*(-2, 3) = 4\n"
     ]
    },
    {
     "name": "stdout",
     "output_type": "stream",
     "text": [
      "(1, 2)*5 = (5, 10)\n"
     ]
    }
   ],
   "source": [
    "print(f'{v1}*{v2} = {v1*v2}')\n",
    "print(f'{v1}*5 = {v1*5}')"
   ]
  },
  {
   "cell_type": "markdown",
   "id": "resident-theme",
   "metadata": {},
   "source": [
    "Leider funktioniert die umgekehrte Reihenfolge noch nicht, was sich aber dadurch beheben lässt,\n",
    "dass man eine Methode {func}`__rmul__` definiert, die von Python aufgerufen wird, wenn {func}`__mul__`\n",
    "fehlschlägt, und das die beiden Argumente `self` und `other` vertauscht."
   ]
  },
  {
   "cell_type": "code",
   "execution_count": 18,
   "id": "stretch-mercy",
   "metadata": {},
   "outputs": [
    {
     "name": "stdout",
     "output_type": "stream",
     "text": [
      "5*(1, 2) = (5, 10)\n"
     ]
    }
   ],
   "source": [
    "print(f'5*{v1} = {5*v1}')"
   ]
  },
  {
   "cell_type": "markdown",
   "id": "forward-winning",
   "metadata": {},
   "source": [
    "Nun ist es ein Leichtes, die Spiegelung entsprechend der zuvor hergeleiteten Formeln zu implementieren.\n",
    "Wir überprüfen, ob die Spiegelungen an der $x$- und der $y$-Achse sowie an der ersten Winkelhalbierenden\n",
    "die erwarteten Ergebnisse liefern."
   ]
  },
  {
   "cell_type": "code",
   "execution_count": 19,
   "id": "comfortable-prince",
   "metadata": {},
   "outputs": [
    {
     "name": "stdout",
     "output_type": "stream",
     "text": [
      "(1, 2)\n",
      "(1.0, -2.0)\n"
     ]
    },
    {
     "name": "stdout",
     "output_type": "stream",
     "text": [
      "(-0.9999999999999998, 2.0)\n",
      "(2.0, 0.9999999999999996)\n"
     ]
    }
   ],
   "source": [
    "print(v1)\n",
    "for phi in (0, pi/2, pi/4):\n",
    "    print(v1.mirror(phi))"
   ]
  },
  {
   "cell_type": "markdown",
   "id": "aging-optimization",
   "metadata": {},
   "source": [
    "## Vererbung"
   ]
  }
 ],
 "metadata": {
  "jupytext": {
   "formats": "md:myst",
   "text_representation": {
    "extension": ".md",
    "format_name": "myst",
    "format_version": "0.8",
    "jupytext_version": "1.4.1+dev"
   }
  },
  "kernelspec": {
   "display_name": "Python 3",
   "language": "python",
   "name": "python3"
  },
  "language_info": {
   "codemirror_mode": {
    "name": "ipython",
    "version": 3
   },
   "file_extension": ".py",
   "mimetype": "text/x-python",
   "name": "python",
   "nbconvert_exporter": "python",
   "pygments_lexer": "ipython3",
   "version": "3.9.1"
  },
  "source_map": [
   13,
   41,
   44,
   48,
   50,
   56,
   58,
   62,
   65,
   86,
   101,
   111,
   114,
   125,
   127,
   137,
   139,
   143,
   147,
   154,
   158,
   165,
   184,
   189,
   192,
   194,
   199,
   205,
   209,
   238,
   277,
   284,
   288,
   300,
   303,
   307,
   309,
   313,
   317
  ]
 },
 "nbformat": 4,
 "nbformat_minor": 5
}