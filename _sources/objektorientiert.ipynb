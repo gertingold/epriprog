{
 "cells": [
  {
   "cell_type": "markdown",
   "id": "b96f33a1",
   "metadata": {},
   "source": [
    "(oop)=\n",
    "# Objektorientiertes Programmieren\n",
    "\n",
    "Beim objektorientierten Programmieren handelt es sich um ein Paradigma, das man nutzen\n",
    "kann, aber nicht muss. So war objektorientiertes Programmieren in älteren Versionen\n",
    "von FORTRAN überhaupt nicht möglich und andererseits gibt es Programmiersprachen wie\n",
    "zum Beispiel Java, in denen man nur objektorientiert programmieren kann. Python ermöglicht\n",
    "zwar objektorientiertes Programmieren, erzwingt es aber nicht. Daher sollte man zumindest\n",
    "eine Vorstellung davon haben, was die Grundideen des objektorientierten Programmierens\n",
    "sind, um bei konkreten Problemstellungen erkennen zu können, ob und in welchem Maße es\n",
    "sich lohnt, diesem Programmierparadigma zu folgen.\n",
    "\n",
    "## Klassen, Attribute und Methoden\n",
    "\n",
    "Tatsächlich ist Python objektorientiert konzipiert, so dass wir in den bisherigen Kapiteln\n",
    "bereits Spuren von objektorientiertem Programmieren gesehen haben, ohne dass dies groß\n",
    "thematisiert wurde. Für einen allerersten Einblick wollen wir das nun an ein paar Beispielen\n",
    "nachholen. Als Einstieg dienen uns dabei der Datentyp der komplexen Zahlen. Aus Pythonsicht\n",
    "gibt es die Klassendefinition der Klasse `complex`, die gewissermaßen den allgemeinen\n",
    "Bauplan für komplexe Zahlen enthält. Eine konkrete komplexe Zahl ist dann eine Instanz dieser\n",
    "Klasse."
   ]
  },
  {
   "cell_type": "code",
   "execution_count": 1,
   "id": "8e9426ef",
   "metadata": {},
   "outputs": [
    {
     "data": {
      "text/plain": [
       "'complex'"
      ]
     },
     "execution_count": 1,
     "metadata": {},
     "output_type": "execute_result"
    }
   ],
   "source": [
    "x = 2+1j\n",
    "x.__class__.__name__"
   ]
  },
  {
   "cell_type": "markdown",
   "id": "2ec72774",
   "metadata": {},
   "source": [
    "Objekte können Attribute haben, also Eigenschaften besitzen. Bei komplexen Zahlen sind dies\n",
    "Real- und Imaginärteil, die, wie wir aus {numref}`complex` wissen, auf die folgende Weise\n",
    "erhalten können."
   ]
  },
  {
   "cell_type": "code",
   "execution_count": 2,
   "id": "7de9a62b",
   "metadata": {},
   "outputs": [
    {
     "data": {
      "text/plain": [
       "(2.0, 1.0)"
      ]
     },
     "execution_count": 2,
     "metadata": {},
     "output_type": "execute_result"
    }
   ],
   "source": [
    "x.real, x.imag"
   ]
  },
  {
   "cell_type": "markdown",
   "id": "44d9c57f",
   "metadata": {},
   "source": [
    "Nach dem Namen der Instanz folgt also der durch einen Punkt abgetrennte Attributname.\n",
    "\n",
    "Darüber hinaus kann es Methoden geben, also im Grunde genommen Funktionen, die mit den entsprechenden\n",
    "Objekten verknüpft sind. So erfolgt die Umwandlung einer komplexen Zahl mit Hilfe der Methode\n",
    "{func}`conjugate`."
   ]
  },
  {
   "cell_type": "code",
   "execution_count": 3,
   "id": "e06cd44e",
   "metadata": {},
   "outputs": [
    {
     "data": {
      "text/plain": [
       "(2-1j)"
      ]
     },
     "execution_count": 3,
     "metadata": {},
     "output_type": "execute_result"
    }
   ],
   "source": [
    "x.conjugate()"
   ]
  },
  {
   "cell_type": "markdown",
   "id": "050fb1d3",
   "metadata": {},
   "source": [
    "Auch hier folgt dem Namen der Instanz der durch einen Punkt abgetrennte Methodenname. Natürlich\n",
    "können Methoden auch Argumente besitzen. Als Beispiel nennen wir die {func}`index`-Methode von\n",
    "Listen."
   ]
  },
  {
   "cell_type": "code",
   "execution_count": 4,
   "id": "e2cc352b",
   "metadata": {},
   "outputs": [
    {
     "data": {
      "text/plain": [
       "2"
      ]
     },
     "execution_count": 4,
     "metadata": {},
     "output_type": "execute_result"
    }
   ],
   "source": [
    "mylist = [1, 4, 7, 21]\n",
    "mylist.index(7)"
   ]
  },
  {
   "cell_type": "markdown",
   "id": "83558882",
   "metadata": {},
   "source": [
    "Das Beispiel der komplexen Zahlen verdeutlicht einen der wesentlichen Vorteile des objektorientierten\n",
    "Programmierens. Die komplexe Zahl, in unserem Beispiel `x`, wird als ein Objekt verstanden und nicht\n",
    "separat als Real- und Imaginärteil der betreffenden Zahl. Dies ermöglicht es uns, zum Beispiel die\n",
    "komplexe Konjugation direkt auf die komplexe Zahl operieren zu lassen und nicht Real- und Imaginärteil\n",
    "zu betrachten. Trotzdem kann man bei Bedarf jederzeit auf den Real- und den Imaginärteil zugreifen.\n",
    "Weil man nun in diesen Objekten denkt, kann ein Programm, das diese Objekte verwendet, konzeptionell\n",
    "deutlich übersichtlicher und leichter verständlich werden, was bei der Fehlersuche helfen kann.\n",
    "Außerdem werden die Attribute gekapselt, so dass man sich nicht ständig um diese kümmern muss.\n",
    "\n",
    "Nach diesen Vorbemerkungen müssen wir uns nun ansehen, wie sich eine Klasse mit ihren Attributen\n",
    "und Methoden definieren lässt. Dies wollen wir anhand eines Beispiels tun, in dem eine Klasse\n",
    "für Vektoren in zwei Dimensionen definiert wird. Am Ende können wir mit solchen Vektoren als\n",
    "eigenständigen Objekten arbeiten. Eigenschaften wie die Vektorkomponenten können dabei, wie gerade\n",
    "schon für die komplexen Zahlen besprochen, häufig im Hintergrund bleiben, wie wir gleich noch\n",
    "sehen werden.\n",
    "\n",
    "Wir werden die Klassendefinition für zweidimensionale Vektoren schrittweise aufbauen und dabei\n",
    "verschiedene Aspekte besprechen. Unsere erste Version ist durch den folgenden Code gegeben."
   ]
  },
  {
   "cell_type": "code",
   "execution_count": 5,
   "id": "3a6d6c51",
   "metadata": {},
   "outputs": [],
   "source": [
    "from math import cos, sin\n",
    "\n",
    "class Vector2d:\n",
    "    def __init__(self, x, y):\n",
    "        self.x = x\n",
    "        self.y = y\n",
    "\n",
    "    def __str__(self):\n",
    "        return f'({self.x}, {self.y})'\n",
    "\n",
    "    def rotate(self, phi):\n",
    "        x = cos(phi)*self.x - sin(phi)*self.y\n",
    "        y = sin(phi)*self.x + cos(phi)*self.y\n",
    "        return Vector2d(x, y)"
   ]
  },
  {
   "cell_type": "markdown",
   "id": "23fbbc8f",
   "metadata": {},
   "source": [
    "Hier werden zunächst zwei trigonometrische Funktionen importiert, die wir benötigen werden,\n",
    "um Vektoren in der Ebene zu drehen. Die eigentliche Klassendefinition beginnt dann in der\n",
    "dritten Zeile mit dem Schlüsselwort. Der Name der Klasse, hier `Vector2d`, beginnt üblicherweise\n",
    "mit einem Großbuchstaben und die Zeile wird ähnlich wie in einer Funktionsdefinition mit einem\n",
    "Doppelpunkt abgeschlossen.\n",
    "\n",
    "Es folgen drei Methoden, wobei die ersten beiden Namen tragen, die mit einem doppelten Unterstrich\n",
    "beginnen und enden. Dadurch wird angedeutet, dass diese Methoden für Python eine besondere Bedeutung\n",
    "haben. Die {func}`__init__`-Methode wird ausgeführt, wenn eine Instanz der Klasse erzeugt wird."
   ]
  },
  {
   "cell_type": "code",
   "execution_count": 6,
   "id": "8afbf058",
   "metadata": {},
   "outputs": [
    {
     "data": {
      "text/plain": [
       "<__main__.Vector2d at 0x7f6004f00150>"
      ]
     },
     "execution_count": 6,
     "metadata": {},
     "output_type": "execute_result"
    }
   ],
   "source": [
    "v1 = Vector2d(2, 1)\n",
    "v1"
   ]
  },
  {
   "cell_type": "markdown",
   "id": "a42893bd",
   "metadata": {},
   "source": [
    "Wie wir sehen, hat die {func}`__init__`-Methode drei Argumente. Bei der Instantiierung ist aber ein\n",
    "Argument weniger anzugeben, da das erste Argument der {func}`__init__`-Methode, das üblicherweise\n",
    "`self` genannt wird, eine besondere Funktion erfüllt. Es steht gewissermaßen für die spezifische\n",
    "Instanz und erlaubt es, diese Instanz den verschiedenen Methoden zugänglich zu machen, wie wir\n",
    "noch genauer sehen werden. In der {func}`__init__`-Methode werden die übergebenen Parameter je\n",
    "nach Bedarf verarbeitet und in Attributen gespeichert sowie weitere zu Beginn erforderlich\n",
    "Operationen durchgeführt. In unserem speziellen Fall müssen wir nur dafür sorgen, dass die in\n",
    "den Parametern `x` und `y` vorliegenden Vektorkomponenten anschließend über entsprechende Attribute\n",
    "zugänglich sind. Dazu weisen wir sie `self.x` beziehungsweise `self.y` zu. Damit können\n",
    "wir auch nach der erfolgten Instantiierung auf die Attribute zugreifen."
   ]
  },
  {
   "cell_type": "code",
   "execution_count": 7,
   "id": "555eeed4",
   "metadata": {},
   "outputs": [
    {
     "name": "stdout",
     "output_type": "stream",
     "text": [
      "2 1\n"
     ]
    }
   ],
   "source": [
    "print(v1.x, v1.y)"
   ]
  },
  {
   "cell_type": "markdown",
   "id": "19e7b290",
   "metadata": {},
   "source": [
    "Die Verwandtschaft mit der Bestimmung des Real- und Imaginärteils komplexer Zahlen, die wir eingangs\n",
    "betrachtet hatten, ist offensichtlich.\n",
    "\n",
    "Eine nützliche Methode, die wir oben bereits definiert haben, ist die {func}`__str__`-Methode, die\n",
    "von Python dann aufgerufen wird, wenn das Objekt in eine Zeichenkette umgewandelt werden muss, wie dies\n",
    "beispielsweise durch die {func}`print`-Funktion geschieht. Wir lassen die Vektorkomponenten ausgeben,\n",
    "um später leicht die Auswirkungen von weiteren Methoden unserer Klasse {class}`Vector2d` zu überprüfen. Da die\n",
    "{func}`__str__`-Methode das Argument `self` besitzt, haben wir in dieser Methode Zugriff auf die\n",
    "Attribute des Objekts, also in unserem Fall auf die Vektorkomponenten."
   ]
  },
  {
   "cell_type": "code",
   "execution_count": 8,
   "id": "b9fd6839",
   "metadata": {},
   "outputs": [
    {
     "name": "stdout",
     "output_type": "stream",
     "text": [
      "(2, 1)\n"
     ]
    }
   ],
   "source": [
    "print(v1)"
   ]
  },
  {
   "cell_type": "markdown",
   "id": "03427429",
   "metadata": {},
   "source": [
    "Die dritte, oben definierte Methode {func}`rotate` soll es erlauben, den Vektor um einen Winkel `phi` in\n",
    "der $x$--$y$-Ebene zu drehen."
   ]
  },
  {
   "cell_type": "code",
   "execution_count": 9,
   "id": "d3b71e8e",
   "metadata": {},
   "outputs": [
    {
     "name": "stdout",
     "output_type": "stream",
     "text": [
      "(-0.9999999999999999, 2.0)\n"
     ]
    }
   ],
   "source": [
    "from math import pi\n",
    "\n",
    "print(v1.rotate(pi/2))"
   ]
  },
  {
   "cell_type": "markdown",
   "id": "0eadbcad",
   "metadata": {},
   "source": [
    "Wie wir dem Code der {func}`rotate`-Methode entnehmen können, wird als Ergebnis eine neue Instanz der\n",
    "{class}`Vector2d` erzeugt. Alternativ hätten wir die Vektorkomponenten nach der Drehung `self.x` und `self.y`\n",
    "zuweisen können. Dann hätten wir lediglich die Attribute des Vektors geändert ohne einen neuen Vektor\n",
    "zu erzeugen.\n",
    "\n",
    "Der Wert von Attributen kann auch explizit durch Zuweisung geändert werden."
   ]
  },
  {
   "cell_type": "code",
   "execution_count": 10,
   "id": "e320509c",
   "metadata": {},
   "outputs": [
    {
     "name": "stdout",
     "output_type": "stream",
     "text": [
      "(2, 1)\n",
      "(4, 1)\n"
     ]
    }
   ],
   "source": [
    "print(v1)\n",
    "v1.x = 4\n",
    "print(v1)"
   ]
  },
  {
   "cell_type": "markdown",
   "id": "0513f752",
   "metadata": {},
   "source": [
    "Oft werden hierfür spezielle Methoden zur Verfügung gestellt, um überprüfen zu können, ob der neue Wert\n",
    "gültig ist.\n",
    "\n",
    "Für Vektoren wird man sicherlich auch eine Methode erwarten, die die Länge des Vektors bestimmt. Eine solche\n",
    "Methode, die wir {func}`norm` nennen, lässt sich leicht mit Hilfe der {func}`hypot`-Funktion aus dem \n",
    "`math`-Modul implementieren. Die erweiterte Klassendefinition geben wir nachfolgend vollständig wieder."
   ]
  },
  {
   "cell_type": "code",
   "execution_count": 11,
   "id": "1b13b570",
   "metadata": {},
   "outputs": [],
   "source": [
    "from math import cos, sin, hypot\n",
    "\n",
    "class Vector2d:\n",
    "    def __init__(self, x, y):\n",
    "        self.x = x\n",
    "        self.y = y\n",
    "\n",
    "    def __str__(self):\n",
    "        return f'({self.x}, {self.y})'\n",
    "\n",
    "    @property\n",
    "    def norm(self):\n",
    "        return hypot(self.x, self.y)\n",
    "\n",
    "    def rotate(self, phi):\n",
    "        x = cos(phi)*self.x - sin(phi)*self.y\n",
    "        y = sin(phi)*self.x + cos(phi)*self.y\n",
    "        return Vector2d(x, y)"
   ]
  },
  {
   "cell_type": "markdown",
   "id": "99052cf6",
   "metadata": {},
   "source": [
    "Würden wir die mit `@` beginnende Zeile, einen sogenannten Dekorator, weglassen, so würde es sich bei\n",
    "{func}`norm` einfach um eine Methode handeln, wie wir sie von der {func}`rotate`-Methode her kennen. Der\n",
    "Dekorator `@property` wandelt diese Methode jedoch in eine Eigenschaft um, auf deren Wert wir wie bei\n",
    "einem Attribut zugreifen können."
   ]
  },
  {
   "cell_type": "code",
   "execution_count": 12,
   "id": "9ded5f72",
   "metadata": {},
   "outputs": [
    {
     "name": "stdout",
     "output_type": "stream",
     "text": [
      "2.23606797749979\n"
     ]
    }
   ],
   "source": [
    "v1 = Vector2d(2, 1)\n",
    "print(v1.norm)"
   ]
  },
  {
   "cell_type": "markdown",
   "id": "13f38001",
   "metadata": {},
   "source": [
    "Es ist jedoch nicht möglich, den Wert dieses Attributs zu setzen."
   ]
  },
  {
   "cell_type": "code",
   "execution_count": 13,
   "id": "d601b462",
   "metadata": {
    "tags": [
     "raises-exception"
    ]
   },
   "outputs": [
    {
     "ename": "AttributeError",
     "evalue": "property 'norm' of 'Vector2d' object has no setter",
     "output_type": "error",
     "traceback": [
      "\u001b[0;31m---------------------------------------------------------------------------\u001b[0m",
      "\u001b[0;31mAttributeError\u001b[0m                            Traceback (most recent call last)",
      "Cell \u001b[0;32mIn[13], line 1\u001b[0m\n\u001b[0;32m----> 1\u001b[0m \u001b[43mv1\u001b[49m\u001b[38;5;241;43m.\u001b[39;49m\u001b[43mnorm\u001b[49m \u001b[38;5;241m=\u001b[39m \u001b[38;5;241m10\u001b[39m\n",
      "\u001b[0;31mAttributeError\u001b[0m: property 'norm' of 'Vector2d' object has no setter"
     ]
    }
   ],
   "source": [
    "v1.norm = 10"
   ]
  },
  {
   "cell_type": "markdown",
   "id": "1c1c2e63",
   "metadata": {},
   "source": [
    "Im Zusammenhang mit dem Setzen von Attributen ist noch wichtig zu wissen, dass man auch den Wert\n",
    "von nicht in der Klassendefinition vorkommenden Attributen im Prinzip setzen kann. Das kann bei\n",
    "Tippfehlern zu unerwartetem Verhalten führen. Dieser Umstand zeigt nochmals, dass es sinnvoll sein\n",
    "kann, explizite Methoden zum Setzen und auch zum Auslesen von Attributen zu implementieren."
   ]
  },
  {
   "cell_type": "code",
   "execution_count": 14,
   "id": "c1ed8bc4",
   "metadata": {},
   "outputs": [
    {
     "name": "stdout",
     "output_type": "stream",
     "text": [
      "(2, 1)\n",
      "-4\n"
     ]
    }
   ],
   "source": [
    "v1.z = -4\n",
    "print(v1)\n",
    "print(v1.z)"
   ]
  },
  {
   "cell_type": "markdown",
   "id": "c55eea24",
   "metadata": {},
   "source": [
    "Um noch etwas deutlicher zu sehen, wie es das objektorientiertes Programmieren erlaubt, mit den Objekten\n",
    "als eigene Einheit zu arbeiten, wollen wir unsere Beispielklasse ein letztes Mal erweitern.\n",
    "Unser letztliches Ziel soll dabei sein, eine Methode zum Spiegeln eines Vektors an einer Achse,\n",
    "die einen bestimmten Winkel mit der $x$-Achse einschließt, zu implementieren.\n",
    "\n",
    "Dazu überlegen wir uns zunächst, wie wir diese allgemeine Spiegelung mathematisch bewerkstelligen\n",
    "können. Dazu bezeichnen wir den ursprünglichen Vektor als $\\vec v$, den gespiegelten Vektor als \n",
    "${\\vec v}'$, und die Spiegelachse werde durch den normierten Vektor $\\vec n$ spezifiziert. Dann können\n",
    "wir $\\vec v$ in den Anteil in Richtung von $\\vec n$ sowie den dazu senkrechten Anteil zerlegen.\n",
    "Es ist also\n",
    "\n",
    "$$\\begin{align}\n",
    "   \\vec v_\\parallel &= \\left(\\vec v\\cdot\\vec n\\right)\\vec n\\\\\n",
    "   \\vec v_\\perp &= \\vec v-\\vec v_\\parallel\\,.\n",
    "\\end{align}$$\n",
    "\n",
    "Der gespiegelte Vektor ergibt sich dann zu\n",
    "\n",
    "$${\\vec v}' = \\vec v_\\parallel-\\vec v_\\perp = 2\\left(\\vec v\\cdot\\vec n\\right)\\vec n - \\vec v\\,.$$\n",
    "\n",
    "Hieraus folgt, dass wir die Spiegelung alleine mit Hilfe der beteiligten Vektoren vornehmen\n",
    "können, ohne die einzelnen Komponenten der Vektoren explizit ins Spiel bringen zu müssen. Dazu\n",
    "müssen wir aber in der Lage sein Vektoren zu subtrahieren, mit reellen Zahlen zu multiplizieren\n",
    "und ein Skalarprodukt auszuwerten.\n",
    "\n",
    "Wir geben zunächst die vollständige, um einige Methoden ergänzte Klassendefinition von {class}`Vector2d`\n",
    "an und besprechen anschließend die neu hinzugefügten Methoden."
   ]
  },
  {
   "cell_type": "code",
   "execution_count": 15,
   "id": "de977856",
   "metadata": {},
   "outputs": [],
   "source": [
    "from math import cos, hypot, sin, pi\n",
    "\n",
    "class Vector2d:\n",
    "    def __init__(self, x, y):\n",
    "        self.x = x\n",
    "        self.y = y\n",
    "\n",
    "    def __str__(self):\n",
    "        return f'({self.x}, {self.y})'\n",
    "\n",
    "    def __add__(self, other):\n",
    "        return Vector2d(self.x+other.x, self.y+other.y)\n",
    "\n",
    "    def __sub__(self, other):\n",
    "        return Vector2d(self.x-other.x, self.y-other.y)\n",
    "\n",
    "    def __mul__(self, other):\n",
    "        if isinstance(other, Vector2d):\n",
    "             return self.x*other.x + self.y*other.y\n",
    "        elif isinstance(other, float) or isinstance(other, int):\n",
    "             return Vector2d(other*self.x, other*self.y)\n",
    "        raise TypeError(f'Vector2d kann nicht mit {type(other)} multipliziert werden.')\n",
    "\n",
    "    __rmul__ = __mul__\n",
    "\n",
    "    @property\n",
    "    def norm(self):\n",
    "        return hypot(self.x, self.y)\n",
    "\n",
    "    def rotate(self, phi):\n",
    "        x = cos(phi)*self.x - sin(phi)*self.y\n",
    "        y = sin(phi)*self.x + cos(phi)*self.y\n",
    "        return Vector2d(x, y)\n",
    "\n",
    "    def mirror(self, phi):\n",
    "        n = Vector2d(cos(phi), sin(phi))\n",
    "        parallel = (self*n)*n\n",
    "        return 2*parallel - self\n",
    "\n",
    "    def orthogonal(self):\n",
    "        return self.rotate(0.5*pi)"
   ]
  },
  {
   "cell_type": "markdown",
   "id": "4c377d35",
   "metadata": {},
   "source": [
    "Zunächst sehen wir uns die Methoden {func}`__add__` und {func}`__sub__` an, die\n",
    "von Python unter anderem dann aufgerufen werden, wenn zwei Objekte mit einem Plus- \n",
    "beziehungsweise Minuszeichen verknüpft werden. Der erste Vektor entspricht dem Argument\n",
    "`self` und das zweite Argument `other` entspricht dem zweiten Vektor. Die entsprechenden\n",
    "Operationen haben wir entsprechend komponentenweise implementiert."
   ]
  },
  {
   "cell_type": "code",
   "execution_count": 16,
   "id": "0fe7d7f5",
   "metadata": {},
   "outputs": [
    {
     "name": "stdout",
     "output_type": "stream",
     "text": [
      "(-1, 5)   (3, -1)\n"
     ]
    }
   ],
   "source": [
    "v1 = Vector2d(1, 2)\n",
    "v2 = Vector2d(-2, 3)\n",
    "print(f'{v1+v2}   {v1-v2}')"
   ]
  },
  {
   "cell_type": "markdown",
   "id": "78be674a",
   "metadata": {},
   "source": [
    "Für eine bessere Implementation sollte man natürlich noch überprüfen, ob `other` wirklich eine\n",
    "Instanz von {class}`Vector2d` ist. Dies werden wir in der nächsten Methode besser machen.\n",
    "\n",
    "Die {func}`__mul__`-Methode wird von Python unter anderem dann aufgerufen, wenn zwei Objekte\n",
    "mit dem Multiplikationsstern verknüpft werden. Für die Spiegelung eines Vektors müssen wir\n",
    "dabei zwei Fälle unterscheiden, Während sichergestellt ist, dass `self` immer eine Instanz von\n",
    "{class}`Vector2d` ist, soll das Verhalten der {func}`__mul__`-Methode davon abhängen, ob `other`\n",
    "ebenfalls eine Instanz dieser Klasse ist oder aber eine Gleitkommazahl (`float`) oder ein \n",
    "Integer (`int`). Im ersten Fall haben wir ein Skalarprodukt implementiert und im zweiten Fall\n",
    "multiplizieren wir die beiden Komponenten mit der betreffenden Zahl. Trifft keiner der beiden\n",
    "Fälle zu, geben wir eine entsprechende Fehlermeldung aus."
   ]
  },
  {
   "cell_type": "code",
   "execution_count": 17,
   "id": "4a1be904",
   "metadata": {},
   "outputs": [
    {
     "name": "stdout",
     "output_type": "stream",
     "text": [
      "(1, 2)*(-2, 3) = 4\n",
      "(1, 2)*5 = (5, 10)\n"
     ]
    }
   ],
   "source": [
    "print(f'{v1}*{v2} = {v1*v2}')\n",
    "print(f'{v1}*5 = {v1*5}')"
   ]
  },
  {
   "cell_type": "markdown",
   "id": "fb9882eb",
   "metadata": {},
   "source": [
    "Leider funktioniert die umgekehrte Reihenfolge noch nicht, was sich aber dadurch beheben lässt,\n",
    "dass man eine Methode {func}`__rmul__` definiert, die von Python aufgerufen wird, wenn {func}`__mul__`\n",
    "fehlschlägt, und das die beiden Argumente `self` und `other` vertauscht."
   ]
  },
  {
   "cell_type": "code",
   "execution_count": 18,
   "id": "575e1be6",
   "metadata": {},
   "outputs": [
    {
     "name": "stdout",
     "output_type": "stream",
     "text": [
      "5*(1, 2) = (5, 10)\n"
     ]
    }
   ],
   "source": [
    "print(f'5*{v1} = {5*v1}')"
   ]
  },
  {
   "cell_type": "markdown",
   "id": "d1509bde",
   "metadata": {},
   "source": [
    "Nun ist es ein Leichtes, die Spiegelung entsprechend der zuvor hergeleiteten Formeln zu implementieren.\n",
    "Wir überprüfen, ob die Spiegelungen an der $x$- und der $y$-Achse sowie an der ersten Winkelhalbierenden\n",
    "die erwarteten Ergebnisse liefern."
   ]
  },
  {
   "cell_type": "code",
   "execution_count": 19,
   "id": "62f0ce5a",
   "metadata": {},
   "outputs": [
    {
     "name": "stdout",
     "output_type": "stream",
     "text": [
      "(1, 2)\n",
      "(1.0, -2.0)\n",
      "(-0.9999999999999998, 2.0)\n",
      "(2.0, 0.9999999999999996)\n"
     ]
    }
   ],
   "source": [
    "print(v1)\n",
    "for phi in (0, pi/2, pi/4):\n",
    "    print(v1.mirror(phi))"
   ]
  },
  {
   "cell_type": "markdown",
   "id": "1b67b634",
   "metadata": {},
   "source": [
    "Ganz am Ende der Klassendefinition haben wir noch eine Methode hinzugefügt, die\n",
    "mit der Spiegelung nichts zu tun hat, sondern demonstriert, wie man Methoden\n",
    "innerhalb der Klassendefinition aufruft.  Die Methode {func}`orthogonal`\n",
    "bestimmt einen zum gegebenen Vektor senkrechten Vektor. Auch wenn es nicht die\n",
    "optimale Lösung darstellt, rotieren wir den Vektor dazu mit Hilfe der Methode\n",
    "{func}`rotate` um $\\pi/2$. Wir sehen hier, dass man beim Aufruf `self.` voranstellen\n",
    "muss. Unterlässt man das, sucht Python nach einer Funktion mit entsprechendem Namen\n",
    "außerhalb der Klassendefinition. Nachdem `self` bereits dem Methodennamen vorangestellt\n",
    "wurde, muss es in der Liste der Argumente entfallen. Diese scheinbar unterschiedliche\n",
    "Anzahl von Argumenten kann gerade am Anfang zu Verwirrung führen.\n",
    "\n",
    "## Vererbung\n",
    "\n",
    "Es kommt immer wieder vor, dass man man mehrere Klassen implementieren möchte, die\n",
    "in einem hierarchischen Verhältnis zueinander stehen. Eine oberste Klasse hat dann\n",
    "typischerweise nur wenige Attribute und Methoden definiert, die aber an eine\n",
    "darunter stehende Klasse vererbt werden können. Diese zweite Klasse kann dann noch\n",
    "eigene Attribute oder Methoden definieren oder auch Methoden der ersten Klasse \n",
    "überschreiben.\n",
    "\n",
    "Als Beispiel betrachten wir einen Massenpunkt und eine ausgedehnte Masse, wobei wir\n",
    "uns der Einfachheit halber auf den zweidimensionalen Fall beschränken wollen. Die\n",
    "Lage des Massenpunktes ist dann durch zwei Koordinaten definiert und man kann eine\n",
    "Methode definieren, die dazu dient den Massenpunkt zu verschieben. In der Realität\n",
    "würde man vielleicht auch die Masse und die Geschwindigkeit des Massenpunkts\n",
    "berücksichtigen, aber darauf wollen wir der Einfachheit halber hier verzichten.\n",
    "\n",
    "Einer ausgedehnten Masse kann man im Gegensatz zum Massenpunkt noch eine Orientierung\n",
    "zuordnen und genauso wie man den Massenpunkt oder die Masse verschieben kann, kann\n",
    "man die Masse auch um einen Winkel drehen. \n",
    "\n",
    "In diesem Fall ist es also sinnvoll, zunächst eine Klasse für den Massenpunkt zu\n",
    "definieren, die dann ihre Attribute und Methoden an die Klasse vererbt, die die\n",
    "ausgedehnte Masse beschreibt.\n",
    "\n",
    "Wir beginnen also mit einem Massenpunkt und definieren die Klasse {class}`Massenpunkt`.\n",
    "Wenn nichts anderes angegeben ist, liege der Massenpunkt anfänglich im Ursprung. \n",
    "Zudem erlaubt es die {func}`shift`-Methode, den Massenpunkt zu verschieben. Die\n",
    "{func}`__str__`-Methode sorgt dafür, dass wir leicht die Position des Massenpunktes\n",
    "ausgeben lassen können."
   ]
  },
  {
   "cell_type": "code",
   "execution_count": 20,
   "id": "41b367e2",
   "metadata": {},
   "outputs": [],
   "source": [
    "class Massenpunkt:\n",
    "    def __init__(self, x=0, y=0):\n",
    "        self.x = x\n",
    "        self.y = y\n",
    "\n",
    "    def __str__(self):\n",
    "        return f'Massenpunkt am Ort ({self.x}, {self.y})'\n",
    "\n",
    "    def shift(self, x, y):\n",
    "        self.x = self.x + x\n",
    "        self.y = self.y + y"
   ]
  },
  {
   "cell_type": "markdown",
   "id": "0f9fc48a",
   "metadata": {},
   "source": [
    "Der folgende Code zeigt, wie man mit der gerade definierten Klasse arbeiten kann."
   ]
  },
  {
   "cell_type": "code",
   "execution_count": 21,
   "id": "cea555ef",
   "metadata": {},
   "outputs": [
    {
     "name": "stdout",
     "output_type": "stream",
     "text": [
      "Massenpunkt am Ort (0, 0)\n",
      "Massenpunkt am Ort (1, 2)\n",
      "Massenpunkt am Ort (-1.5, 5)\n"
     ]
    }
   ],
   "source": [
    "m1 = Massenpunkt()\n",
    "print(m1)\n",
    "m1.shift(1, 2)\n",
    "print(m1)\n",
    "m1.shift(-2.5, 3)\n",
    "print(m1)"
   ]
  },
  {
   "cell_type": "markdown",
   "id": "ae9e5468",
   "metadata": {},
   "source": [
    "Nun gehen wir zu einer ausgedehnten Masse über und definieren die Klasse\n",
    "{class}`AusgedehnteMasse`, die von der Klasse {class}`Massenpunkt` abgeleitet\n",
    "wird, also Attribute und Methoden erbt.  Entsprechend wird die Klasse\n",
    "{class}`Massenpunkt`, die sogenannte Elternklasse, in Klammern angegeben. Es\n",
    "ist zwar auch möglich, von mehreren Klassen zu erben, worauf wir an dieser\n",
    "Stelle jedoch nicht eingehen können. In einem solchen Fall muss man sich dann\n",
    "um Fragen kümmern wie von welcher Klasse eine bestimmte Methode geerbt wird.\n",
    "Dies wird zum Beispiel dann relevant, wenn mehrere der Elternklassen eine\n",
    "Methode mit gleichem Namen implementieren.\n",
    "\n",
    "Die {func}`__init__`-Methode der Klasse {class}`AusgedehnteMasse` besitzt\n",
    "nun drei statt nur zwei Argumente. Hinzugekommen ist ein Winkel in Grad,\n",
    "der die Ausrichtung der Masse charakterisiert, und wiederum einen Defaultwert\n",
    "besitzt. Der Wert des Winkels wird in einem Attribut gespeichert und dann\n",
    "eine Methode {func}`normalise` aufgerufen, die sicherstellt, dass der Winkel\n",
    "zwischen 0° und 360° liegt. Da der Winkel kein Integer sein muss, genügt\n",
    "hier nicht eine einfache Modulooperation. Bei dieser Gelegenheit betonen\n",
    "wir noch einmal, dass beim Aufruf einer in der Klasse definierten Methode\n",
    "ein `self.` vor den Methodennamen gestellt werden muss und dafür das\n",
    "Argument `self` in der Argumentliste entfällt. Die Verarbeitung der beiden\n",
    "Argumente `x` und `y` überlassen wir der {func}`__init__`-Methode der\n",
    "Elternklasse, die wir mit Hilfe der {func}`super`-Methode erhalten.\n",
    "\n",
    "Die {func}`__str__`-Methode, die nützliche Information über eine Instanz\n",
    "ausgeben soll, wird nicht aus der Elternklasse übernommen, sondern \n",
    "überschrieben, da zusätzlich die Ausrichtung der Masse ausgeben wollen.\n",
    "Ein Methode, die diese Klasse neu definiert, ist {func}`rotate`, die die\n",
    "Masse um einen gewissen Winkel um die durch den aktuellen Ort verlaufende\n",
    "Achse senkrecht zur $x-y$-Ebene dreht."
   ]
  },
  {
   "cell_type": "code",
   "execution_count": 22,
   "id": "2e4f623d",
   "metadata": {},
   "outputs": [],
   "source": [
    "class AusgedehnteMasse(Massenpunkt):\n",
    "    def __init__(self, x=0, y=0, phi_deg=0):\n",
    "        self.phi_deg = phi_deg\n",
    "        self.normalise()\n",
    "        super().__init__(x, y)\n",
    "\n",
    "    def normalise(self):\n",
    "        self.phi_deg = self.phi_deg - (self.phi_deg // 360)*360\n",
    "\n",
    "    def __str__(self):\n",
    "        return f'Masse am Ort ({self.x}, {self.y}) mit Ausrichtung {self.phi_deg}°'\n",
    "\n",
    "    def rotate(self, phi_deg):\n",
    "        self.phi_deg = self.phi_deg + phi_deg\n",
    "        self.normalise()"
   ]
  },
  {
   "cell_type": "markdown",
   "id": "5db55282",
   "metadata": {},
   "source": [
    "Die folgende Sequenz aus Verschiebungen und Drehungen zeigt, dass obwohl\n",
    "die Klasse `AusgedehnteMasse` nicht selbst eine {func}`shift` implementiert,\n",
    "diese aus der Elternklasse `Massenpunkt` geerbt wurde."
   ]
  },
  {
   "cell_type": "code",
   "execution_count": 23,
   "id": "db3d3ab3",
   "metadata": {},
   "outputs": [
    {
     "name": "stdout",
     "output_type": "stream",
     "text": [
      "Masse am Ort (0, 0) mit Ausrichtung 0°\n",
      "Masse am Ort (1, 2) mit Ausrichtung 0°\n",
      "Masse am Ort (1, 2) mit Ausrichtung 270°\n",
      "Masse am Ort (-2, 4.5) mit Ausrichtung 10.5°\n"
     ]
    }
   ],
   "source": [
    "m2 = AusgedehnteMasse()\n",
    "print(m2)\n",
    "m2.shift(1, 2)\n",
    "print(m2)\n",
    "m2.rotate(270)\n",
    "print(m2)\n",
    "m2.shift(-3, 2.5)\n",
    "m2.rotate(100.5)\n",
    "print(m2)"
   ]
  },
  {
   "cell_type": "markdown",
   "id": "685e5b77",
   "metadata": {},
   "source": [
    "Außerdem zeigt die letzte Ausgabe, dass die Reduktion des Winkels auf das\n",
    "Intervall von 0° bis 360° in der {func}`rotate`-Methode funktioniert. Wir\n",
    "erwähnen nochmals, dass es wichtig ist, Methoden innerhalb der Klassendefinition\n",
    "mit einem vorangestellten `self.` aufzurufen und dafür beim Aufruf das Argument\n",
    "`self` wegzulassen."
   ]
  }
 ],
 "metadata": {
  "jupytext": {
   "formats": "md:myst",
   "text_representation": {
    "extension": ".md",
    "format_name": "myst",
    "format_version": "0.8",
    "jupytext_version": "1.4.1+dev"
   }
  },
  "kernelspec": {
   "display_name": "Python 3",
   "language": "python",
   "name": "python3"
  },
  "language_info": {
   "codemirror_mode": {
    "name": "ipython",
    "version": 3
   },
   "file_extension": ".py",
   "mimetype": "text/x-python",
   "name": "python",
   "nbconvert_exporter": "python",
   "pygments_lexer": "ipython3",
   "version": "3.11.4"
  },
  "source_map": [
   13,
   36,
   39,
   43,
   45,
   51,
   53,
   57,
   60,
   81,
   96,
   106,
   109,
   120,
   122,
   132,
   134,
   138,
   142,
   149,
   153,
   160,
   179,
   184,
   187,
   189,
   194,
   200,
   204,
   233,
   275,
   282,
   286,
   298,
   301,
   305,
   307,
   311,
   315,
   358,
   370,
   372,
   379,
   411,
   427,
   431,
   441
  ]
 },
 "nbformat": 4,
 "nbformat_minor": 5
}