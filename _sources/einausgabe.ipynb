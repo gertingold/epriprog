{
 "cells": [
  {
   "cell_type": "markdown",
   "id": "f2c31ade",
   "metadata": {},
   "source": [
    "(einausgabe)=\n",
    "# Ein- und Ausgabe\n",
    "\n",
    "Ein Programm, das eine sinnvolle Aufgabe bearbeitet, wird immer in irgendeiner Weise\n",
    "kommunizieren, also Informationen entgegennehmen und insbesondere die Resultate\n",
    "ausgeben. Für beiden Prozesse sind verschiedene Szenarien denkbar.\n",
    "\n",
    "Im {numref}`vorschau` hatten wir bereits die {func}`input`-Funktion\n",
    "kennengelernt, die es erlaubt, aus dem Programm heraus den Benutzer um eine\n",
    "Eingabe zu bitten. Eine Alternative wäre die Angabe von Parametern direkt beim\n",
    "Aufruf des Programms von der Kommandozeile. Auch die Verwendung eines\n",
    "graphischen Benutzerinterfaces ist denkbar.\n",
    "\n",
    "Bei komplexeren Problemstellungen ist es aber häufig nicht sinnvoll, alle\n",
    "Parameter per Hand einzugeben, und vor allem diesen Prozess beim Programmstart\n",
    "jedes Mal durchlaufen zu müssen. Dann ist es sinnvoller, vom Programm benötigte\n",
    "Informationen in einer Datei zu hinterlegen und dann vom Programm einlesen zu\n",
    "lassen. In manchen Fällen kann es auch sinnvoll oder erforderlich sein, Daten\n",
    "aus dem Internet in das Programm zu laden.\n",
    "\n",
    "Auch die Ausgabe von Ergebnissen kann auf verschiedene Weise erfolgen. In unseren\n",
    "Beispielen haben wir bisher die Möglichkeit genutzt, Daten auf dem Bildschirm\n",
    "auszugeben. Benutzt man ein graphisches Benutzerinterface, könnte man auch dort\n",
    "Informationen ausgeben. Größere Datenmengen wird man dagegen in den meisten Fällen\n",
    "in einer Datei abspeichern. Natürlich ist es auch möglich, die Ausgabe ins Internet\n",
    "zu senden, eine Aufgabe, die jeder Webserver erledigt.\n",
    "\n",
    "Gerade im natur- und ingenieurwissenschaftlichen Bereich, aber auch in anderen\n",
    "Bereichen, die mit großen Datenmengen umgehen müssen, wird man die Daten oft\n",
    "grafisch geeignet darstellen. Hier stellt sich häufig die Frage, ob man für die\n",
    "Grafik benötigte Daten zunächst abspeichert oder aber direkt weiterverarbeitet.\n",
    "Ein wesentlicher Faktor wird dabei der Aufwand für die Erzeugung der Daten sein.\n",
    "Es ist sehr ärgerlich, die Ergebnisse einer mehrtägigen Rechnung nur deswegen\n",
    "zu verlieren, weil man in der Auswertung oder der Erzeugung der Grafik einen Fehler\n",
    "eingebaut hat. Können die Daten dagegen sehr schnell erzeugt werden, kann der\n",
    "Weg über eine Zwischenspeicherung der Daten lästig sein, beispielsweise wenn\n",
    "man schnell die Auswirkung von Parameteränderungen im Ergebnis ansehen möchte.\n",
    "\n",
    "Wie schon aus diesen einleitenden Bemerkungen deutlich wird, kann die Ein- und Ausgabe\n",
    "von Daten ein im Detail komplexes Thema sein. Wir wollen im Folgenden zunächst relativ\n",
    "knapp auf die Eingabe über die Kommandozeile und die Tastatur eingehen und auch\n",
    "noch einmal einen kurzen Blick auf die {func}`print`-Funktion werfen. Danach werden\n",
    "wir uns vor allem mit dem Lesen und Schreiben von Dateien beschäftigen. Für speziellere\n",
    "Aspekte werden wir in weiterführenden Hinweisen zeigen, dass Python für viele der\n",
    "potentiell anfallenden Aufgaben nützliche Module in der Standardbibliothek bereit hält.\n",
    "\n",
    "(commandline)=\n",
    "## Eingabe über die Kommandozeile und die Tastatur\n",
    "\n",
    "Wenn man Programme von der Kommandozeile aufruft, ist es nicht unüblich, dabei Parameter\n",
    "zu übergeben. Programmiersprachen wie Fortran, C und Python bieten die Möglichkeit,\n",
    "auf diese Parameter innerhalb des Programms zuzugreifen. Die Alternative, solche Parameter\n",
    "im Programmcode selbst zu definieren, hat den Nachteil, dass man zur Änderung eines\n",
    "Parameters den Code verändern muss, was im Allgemeinen keine gute Idee ist, unter anderem\n",
    "weil man dabei vielleicht andere unbeabsichtigte Änderungen am Programm vornehmen könnte.\n",
    "\n",
    "Wir demonstrieren das Vorgehen mit einem kleinen Beispielprogramme namens\n",
    "`beispiel_1.py`, das einen vom Benutzer vorgegebenen Text mehrfach ausgeben kann. Das\n",
    "erste Argument beim Aufruf soll der Text sein, das zweite Argument gibt dann die\n",
    "Zahl der Wiederholungen an.\n",
    "```{code-block}\n",
    "---\n",
    "linenos: true\n",
    "---\n",
    "# beispiel_1.py\n",
    "import sys\n",
    "\n",
    "print(sys.argv)\n",
    "str = sys.argv[1]\n",
    "nmax = int(sys.argv[2])\n",
    "for n in range(nmax):\n",
    "    print(str)\n",
    "```\n",
    "Wir verwenden hier das `argv`-Attribute aus dem `sys`-Modul der Python-Standardbibliothek.\n",
    "Hierbei steht `argv` für *argument vector*. In Zeile 4 geben wir dieses Attribut zunächst\n",
    "aus, um zu sehen, was es alles enthält. Anschließend bestimmen wir aus zwei Einträgen in\n",
    "diesem Attribut in den Zeilen 5 und 6 den auszugebenden Text und die Zahl der Wiederholungen.\n",
    "\n",
    "Führen wir das Programm `beispiel_1.py` mit den Parametern `hallo` und `3` aus, so erhalten wir die\n",
    "folgende Ausgabe.\n",
    "```{code-block}\n",
    "---\n",
    "linenos: true\n",
    "---\n",
    "$ python beispiel_1.py Hallo 3\n",
    "['beispiel_1.py', 'Hallo', '3']\n",
    "Hallo\n",
    "Hallo\n",
    "Hallo\n",
    "```\n",
    "Zeile 1 gibt nach dem $-Prompt nochmals die Eingabe an, und dann folgt in den Zeilen 2 bis 5\n",
    "die erzeugte Ausgabe. In Zeile 2 sehen wir, dass `sys.argv` eine Liste enthält, deren erster\n",
    "Eintrag dem Namen des Python-Skripts entspricht, dem sich in den folgenden Einträgen die\n",
    "angegebenen Parameter anschließen. Wie wir sehen, sind die alle Einträge Zeichenketten. Damit\n",
    "erklärt sich, warum wir in Zeile 6 unseres Beispielskripts eine Umwandlung in einen Integer\n",
    "vornehmen mussten. Die obigen Zeilen 3 bis 5 enthalten dann die erwartete Ausgabe, nämlich\n",
    "dreimal den Text `Hallo`.\n",
    "\n",
    "```{admonition} Weiterführender Hinweis\n",
    "Es kann vorkommen, dass die Zahl der Parameter deutlich größer ist als in unserem kleinen Beispiel\n",
    "und dass für eine Reihe von Parametern Defaultwerte definiert sind. Man wird dann meistens nur\n",
    "eine reduzierte Zahl von Parametern angeben, die entsprechend gekennzeichnet werden müssen, um\n",
    "eine eindeutige Zuordnung zu erlauben. Diese Situation ähnelt dem was wir im {numref}`kwargs`\n",
    "für Funktionsaufrufe mit Schlüsselworten und Defaultwerten kennengelernt hatten. In solchen\n",
    "Fällen ist es ratsam, sich das [`argparse`-Modul](https://docs.python.org/3/library/argparse.html)\n",
    "der Python-Standardbibliothek anzusehen. Da dieses Modul relativ komplexe Möglichkeiten bietet, steht\n",
    "auch ein spezielles [Tutorial](https://docs.python.org/3/howto/argparse.html) zur Verfügung.\n",
    "```\n",
    "\n",
    "Alternativ zur Angabe von Parametern beim Programmaufruf kann man die Parameter auch durch\n",
    "das Programm abrufen lassen. Hierzu dient die {func}`input`-Funktion, die wir bereits in\n",
    "{numref}`vorschau` kennengelernt haben. Auch hier ist wieder zu beachten, dass die Eingaben\n",
    "im Programm als Zeichenketten vorliegen und je nach Bedarf umgewandelt werden müssen.\n",
    "\n",
    "```{admonition} Warnhinweis\n",
    ":class: warning\n",
    "Man kann die über die {func}`input`-Funktion erhaltene Eingabe mit Hilfe der {func}`eval`-Funktion\n",
    "auch als Python-Ausdruck auswerten lassen. Was auf den ersten Blick vielleicht vor allem\n",
    "interessante Möglichkeiten verspricht, kann unter Umständen ein Sicherheitsrisiko sein.\n",
    "Die unbesehene Ausführung von Code kann potentiell erheblichen Schaden anrichten, da es\n",
    "aus einem Python-Programm heraus durchaus möglich ist, zum Beispiel Dateien zu löschen.\n",
    "```\n",
    "\n",
    "Sehen wir uns an, wie die {func}`input`-Funktion für eine alternative Implementierung unseres\n",
    "Beispielprogramms genutzt werden kann.\n",
    "```{code-block}\n",
    "---\n",
    "linenos: true\n",
    "---\n",
    "# beispiel_2.py\n",
    "str = input('auszugebender Text: ')\n",
    "nmax = int(input('Anzahl der Wiederholungen: '))\n",
    "for n in range(nmax):\n",
    "    print(str)\n",
    "```\n",
    "Nach dem Aufruf des Programms werden nun die Parameter abgefragt, wobei die Anzahl der\n",
    "Wiederholungen wiederum in einen Integer umgewandelt werden muss. Anschließend erfolgt\n",
    "die mehrfache Ausgabe des eingegebenen Textes.\n",
    "```{code-block}\n",
    "$ python beispiel_2.py\n",
    "auszugebender Text: Hallo\n",
    "Anzahl der Wiederholungen: 3\n",
    "Hallo\n",
    "Hallo\n",
    "Hallo\n",
    "```\n",
    "Wir haben uns hier darauf beschränkt, das grundsätzliche Vorgehen zu demonstrieren. In der\n",
    "Praxis wäre es natürlich in beiden Beispielen sinnvoll, Fehler abzufangen, zum Beispiel\n",
    "für den Fall, dass sich die eingegebene Anzahl der Wiederholungen nicht in einen Integer\n",
    "umwandeln lässt.\n",
    "\n",
    "```{admonition} Weiterführender Hinweis\n",
    "Möchte man Parameter nicht auf der Kommandozeile oder allgemein in einem Terminalfenster\n",
    "eingeben, sondern über eine graphische Benutzeroberfläche, so kann man sich in Python\n",
    "Unterstützung in der Standardbibliothek in Form des\n",
    "[`tkinter`-Moduls](https://docs.python.org/3/library/tkinter.html) holen.\n",
    "```\n",
    "\n",
    "Nachdem wir uns bis jetzt auf die Eingabe konzentriert haben, wollen wir uns abschließend\n",
    "noch kurz der Ausgabe mit Hilfe der {func}`print`-Funktion zuwenden. Diese Funktion \n",
    "haben wir schon bei verschiedensten Gelegenheiten verwendet. Im {numref}`formatierung`\n",
    "hatten wir unter anderem auch gesehen, dass der standardmäßige Zeilenumbruch am Ende\n",
    "der Ausgabe, durch den Parameter `end` durch eine andere Ausgabe ersetzt werden kann.\n",
    "\n",
    "Wir wollen die print-Funktion nun nutzen, um einen allgemeinen Aspekt der\n",
    "Ausgabe von Daten zu besprechen, der in der Praxis gelegentlich wichtig sein\n",
    "kann.  Ein- und Ausgabeoperationen sind typischerweise sehr langsam im\n",
    "Vergleich zu Rechenoperationen im Prozessor. Jede einzelne Ein- oder\n",
    "Ausgabeoperation sofort auszuführen, würde daher die Abarbeitung des Programms\n",
    "unnötig verzögern. Besser ist es zum Beispiel bei der Ausgabe von Daten, eine\n",
    "gewisse Datenmenge in einem Puffer anzusammeln und dann den gesamten Datenblock\n",
    "auszugeben. Praktisch bedeutet dies, dass man sich nicht darauf verlassen kann,\n",
    "dass die von einer `print`-Anweisung angestoßene Ausgabeoperation sofort\n",
    "vollständig ausgeführt wird. Für die `print`-Anweisung kann man eine sofortige\n",
    "Ausführung jedoch erzwingen, indem man das Argument `flush` auf `True` setzt.\n",
    "\n",
    "Da wir es hier mit zeitlichen Abläufen zu tun haben, illustrieren wir die Auswirkung\n",
    "des Pufferns in einem Film. Wir verwenden dazu die `print`-Anweisung, aber\n",
    "die Pufferung von Daten wird auch im nächsten Abschnitt noch einmal eine Rolle\n",
    "spielen, wenn wir die Ausgabe von Daten in eine Datei besprechen.\n",
    "\n",
    "<video width=\"640\" height=\"360\" controls>\n",
    "  <source src=\"https://gertingold.github.io/resources/flush.webm\" type=\"video/webm\">\n",
    "Ihr Browser unterstützt nicht das video-Tag.\n",
    "</video> \n",
    "\n",
    "(readfile)=\n",
    "## Lesen von Dateien\n",
    "\n",
    "Für einfache wissenschaftliche Problemstellungen mag es ausreichen, Parameter über\n",
    "die Kommandozeile oder auf Anfrage des Programms einzugeben und die resultierenden\n",
    "Daten am Bildschirm anzusehen. Oft wird es aber so sein, dass dieses Vorgehen aufgrund\n",
    "des Umfangs der Daten nicht mehr sinnvoll ist. So kann es bereits zu umständlich\n",
    "sein, zehn oder zwanzig Parameter immer wieder per Hand einzugeben und in manchen\n",
    "Fällen kann die Zahl der Eingabeparameter deutlich größer sein. Man denke zum Beispiel\n",
    "an Strukturdaten für quantenchemische Rechnungen. Die erzeugten Daten sind häufig sehr\n",
    "umfangreich, so dass man sie für eine weitere Analyse abspeichern möchte. Dies gilt\n",
    "besonders dann, wenn die Erzeugung der Daten sehr zeitaufwändig ist.\n",
    "\n",
    "Wir wollen uns zunächst dem Lesen von Daten aus Dateien zuwenden. Das grundsätzliche\n",
    "Vorgehen ähnelt dem beim Lesen eines Buches. So wie man das Buch zum Lesen aufschlagen\n",
    "muss, muss man eine Datei zum Lesen zunächst öffnen. Anschließend kann man im Buch lesen,\n",
    "wobei wir uns hier auf die Situation beschränken wollen, in der beginnend am Anfang\n",
    "gelesen wird. Wie in einem Buch ist es zwar im Prinzip auch in einer Datei möglich, direkt\n",
    "zu einer bestimmten Stelle zu springen, aber dies kommt in der Praxis vor allem im\n",
    "Zusammenhang mit binären Dateien vor. Hier wollen wir uns dagegen auf Textdateien\n",
    "beschränken, wobei Text nicht ausschließt, dass die Datei ausschließlich oder zum\n",
    "Teil numerische Information enthält.\n",
    "\n",
    "Genauso wie man ein Buch, nachdem man Teile oder den gesamten Inhalt gelesen hat, wieder\n",
    "zuschlägt, sollte man auch eine Datei schließen. Im Prinzip wird dies von modernen\n",
    "Betriebssystemen notfalls erledigt, aber es ist keine gute Praxis darauf zu hoffen,\n",
    "dass jemand anderes für einen die Aufräumarbeit erledigt. Problematisch würde dies vor\n",
    "allem, wenn man viele Bücher gleichzeitig aufschlägt oder viele Dateien gleichzeitig\n",
    "öffnet.\n",
    "\n",
    "````{margin}\n",
    "```{seealso}\n",
    "[Wikipedia-Eintrag zu Foobar](https://en.wikipedia.org/wiki/Foobar).\n",
    "```\n",
    "````\n",
    "\n",
    "Um eine Datei lesen zu können, muss diese Datei zunächst einmal existieren. Wir gehen\n",
    "im Folgenden davon aus, dass es eine Datei mit dem Namen `foo.dat` im aktuellen Verzeichnis\n",
    "gibt. Den Inhalt dieser Datei lassen wir uns hier mit einem sogenannten magischen Befehl\n",
    "von Jupyter ausgeben."
   ]
  },
  {
   "cell_type": "code",
   "execution_count": 1,
   "id": "ffb1179b",
   "metadata": {},
   "outputs": [
    {
     "name": "stdout",
     "output_type": "stream",
     "text": [
      " 1.37  2.59\r\n",
      "10.3  -1.3\r\n",
      " 5.8   2.0\r\n"
     ]
    }
   ],
   "source": [
    "%cat foo.dat"
   ]
  },
  {
   "cell_type": "markdown",
   "id": "ed292bcc",
   "metadata": {},
   "source": [
    "Dann können wir diese Datei zum Lesen öffnen. Dabei erhalten wir ein Dateiobjekt zurück,\n",
    "mit dem wir anschließend auf den Inhalt der Datei zugreifen können."
   ]
  },
  {
   "cell_type": "code",
   "execution_count": 2,
   "id": "77dff4df",
   "metadata": {},
   "outputs": [
    {
     "name": "stdout",
     "output_type": "stream",
     "text": [
      "<_io.TextIOWrapper name='foo.dat' mode='r' encoding='UTF-8'>\n"
     ]
    }
   ],
   "source": [
    "datei = open('foo.dat')\n",
    "print(datei)"
   ]
  },
  {
   "cell_type": "markdown",
   "id": "a089ee35",
   "metadata": {},
   "source": [
    "Die `print`-Anweisung gibt hier nicht den Inhalt der Datei aus, die ja noch überhaupt nicht\n",
    "gelesen wurde, sondern Information über das Dateiobjekt, das durch die Variable `datei`\n",
    "repräsentiert wird. Wie wir sehen, erlaubt uns das Dateiobjekt tatsächlich Zugriff auf\n",
    "unsere Datei `foo.dat`.\n",
    "\n",
    "Der Zugriffsmodus ist `r`, was als Abkürzung für *read* andeutet, dass die\n",
    "Datei zum Lesen geöffnet ist. Später werden wir noch andere Werte für den\n",
    "Zugriffsmodus kennenlernen. Möchte man an dieser Stelle betonen, dass die Datei\n",
    "nur zum Lesen geöffnet werden soll, kann man dies mit Hilfe des `mode`-Arguments\n",
    "in der `open`-Anweisung tun. Da der Default aber der Lesezugriff ist, ist dies\n",
    "nicht unbedingt erforderlich.\n",
    "\n",
    "Schließlich ist noch die Textkodierung festgelegt. Standardmäßig wird die vom\n",
    "Betriebssystem bevorzugte Kodierung verwendet, die in unserem Fall die\n",
    "UTF-8-Kodierung ist, wie es heutzutage auf den meisten Systemen der Fall sein\n",
    "dürfte. Sollte der zu lesende Text in einer anderen Kodierung vorliegen, so muss\n",
    "man das `encoding`-Argument in der `open`-Anweisung entsprechend setzen.\n",
    "\n",
    "Der Versuch, eine Datei zum Lesen zu öffnen, die überhaupt nicht existiert, führt\n",
    "zu einem `FileNotFoundError`."
   ]
  },
  {
   "cell_type": "code",
   "execution_count": 3,
   "id": "29ac52e6",
   "metadata": {
    "tags": [
     "raises-exception"
    ]
   },
   "outputs": [
    {
     "ename": "FileNotFoundError",
     "evalue": "[Errno 2] No such file or directory: 'nonexistent.dat'",
     "output_type": "error",
     "traceback": [
      "\u001b[31m---------------------------------------------------------------------------\u001b[39m",
      "\u001b[31mFileNotFoundError\u001b[39m                         Traceback (most recent call last)",
      "\u001b[36mCell\u001b[39m\u001b[36m \u001b[39m\u001b[32mIn[3]\u001b[39m\u001b[32m, line 1\u001b[39m\n\u001b[32m----> \u001b[39m\u001b[32m1\u001b[39m \u001b[38;5;28;43mopen\u001b[39;49m\u001b[43m(\u001b[49m\u001b[33;43m'\u001b[39;49m\u001b[33;43mnonexistent.dat\u001b[39;49m\u001b[33;43m'\u001b[39;49m\u001b[43m)\u001b[49m\n",
      "\u001b[36mFile \u001b[39m\u001b[32m~/work/epriprog/epriprog/.venv/lib/python3.14/site-packages/IPython/core/interactiveshell.py:343\u001b[39m, in \u001b[36m_modified_open\u001b[39m\u001b[34m(file, *args, **kwargs)\u001b[39m\n\u001b[32m    336\u001b[39m \u001b[38;5;28;01mif\u001b[39;00m file \u001b[38;5;129;01min\u001b[39;00m {\u001b[32m0\u001b[39m, \u001b[32m1\u001b[39m, \u001b[32m2\u001b[39m}:\n\u001b[32m    337\u001b[39m     \u001b[38;5;28;01mraise\u001b[39;00m \u001b[38;5;167;01mValueError\u001b[39;00m(\n\u001b[32m    338\u001b[39m         \u001b[33mf\u001b[39m\u001b[33m\"\u001b[39m\u001b[33mIPython won\u001b[39m\u001b[33m'\u001b[39m\u001b[33mt let you open fd=\u001b[39m\u001b[38;5;132;01m{\u001b[39;00mfile\u001b[38;5;132;01m}\u001b[39;00m\u001b[33m by default \u001b[39m\u001b[33m\"\u001b[39m\n\u001b[32m    339\u001b[39m         \u001b[33m\"\u001b[39m\u001b[33mas it is likely to crash IPython. If you know what you are doing, \u001b[39m\u001b[33m\"\u001b[39m\n\u001b[32m    340\u001b[39m         \u001b[33m\"\u001b[39m\u001b[33myou can use builtins\u001b[39m\u001b[33m'\u001b[39m\u001b[33m open.\u001b[39m\u001b[33m\"\u001b[39m\n\u001b[32m    341\u001b[39m     )\n\u001b[32m--> \u001b[39m\u001b[32m343\u001b[39m \u001b[38;5;28;01mreturn\u001b[39;00m \u001b[43mio_open\u001b[49m\u001b[43m(\u001b[49m\u001b[43mfile\u001b[49m\u001b[43m,\u001b[49m\u001b[43m \u001b[49m\u001b[43m*\u001b[49m\u001b[43margs\u001b[49m\u001b[43m,\u001b[49m\u001b[43m \u001b[49m\u001b[43m*\u001b[49m\u001b[43m*\u001b[49m\u001b[43mkwargs\u001b[49m\u001b[43m)\u001b[49m\n",
      "\u001b[31mFileNotFoundError\u001b[39m: [Errno 2] No such file or directory: 'nonexistent.dat'"
     ]
    }
   ],
   "source": [
    "open('nonexistent.dat')"
   ]
  },
  {
   "cell_type": "markdown",
   "id": "d24aa1b9",
   "metadata": {},
   "source": [
    "Wir wollen nun aber das bereits zuvor erzeugte Dateiobjekt `datei` nutzen, um\n",
    "die Datei `foo.dat` zu lesen. Angesichts des in modernen Rechnern zur Verfügung\n",
    "stehenden großen Hauptspeichers ist es in den meisten Fällen möglich, den\n",
    "Inhalt der gesamten Datei in diesen Speicher zu laden. Dies lässt sich in\n",
    "Python auf zwei Arten bewerkstelligen. Zunächst verwenden wir die `read`-Methode\n",
    "des Dateiobjekts."
   ]
  },
  {
   "cell_type": "code",
   "execution_count": 4,
   "id": "3ab2d895",
   "metadata": {},
   "outputs": [
    {
     "data": {
      "text/plain": [
       "' 1.37  2.59\\n10.3  -1.3\\n 5.8   2.0\\n'"
      ]
     },
     "execution_count": 4,
     "metadata": {},
     "output_type": "execute_result"
    }
   ],
   "source": [
    "inhalt = datei.read()\n",
    "inhalt"
   ]
  },
  {
   "cell_type": "markdown",
   "id": "f9c48dbf",
   "metadata": {},
   "source": [
    "Wie wir sehen, wird der gesamte Inhalt in eine Zeichenkette geladen, wobei\n",
    "die Zeilenumbrüche jeweils an dem Steuerzeichen `\\n` erkennbar sind. Um diese\n",
    "Steuerzeichen deutlich zu machen, haben wir hier nicht die {func}`print`-Funktion\n",
    "zu Ausgabe verwendet.\n",
    "\n",
    "Eine bequeme Methode, um diese Zeichenkette in einzelnen Zeilen zu zerlegen\n",
    "stellt die {func}`splitlines`-Methode bereit."
   ]
  },
  {
   "cell_type": "code",
   "execution_count": 5,
   "id": "7913095c",
   "metadata": {},
   "outputs": [
    {
     "name": "stdout",
     "output_type": "stream",
     "text": [
      "[' 1.37  2.59', '10.3  -1.3', ' 5.8   2.0']\n"
     ]
    }
   ],
   "source": [
    "print(inhalt.splitlines())"
   ]
  },
  {
   "cell_type": "markdown",
   "id": "d9163f4b",
   "metadata": {},
   "source": [
    "Wir erhalten damit eine Liste, die die einzelnen Zeilen als Einträge enthält.\n",
    "\n",
    "Was passiert nun, wenn wir versuchen, die Datei ein zweites Mal zu lesen?"
   ]
  },
  {
   "cell_type": "code",
   "execution_count": 6,
   "id": "46eb6dae",
   "metadata": {},
   "outputs": [
    {
     "data": {
      "text/plain": [
       "''"
      ]
     },
     "execution_count": 6,
     "metadata": {},
     "output_type": "execute_result"
    }
   ],
   "source": [
    "datei.read()"
   ]
  },
  {
   "cell_type": "markdown",
   "id": "6a8cb15d",
   "metadata": {},
   "source": [
    "Das Ergebnis ist nun eine leere Zeichenkette. Wie lässt es sich erklären, dass\n",
    "wir nicht unser voriges Ergebnis reproduzieren können? Man kann sich den Leseprozess\n",
    "am besten veranschaulichen, wenn man sich das Lesen der Datei von einem \n",
    "historischen Datenspeicher, einem Magnetband, vorstellt. Dort bewegt sich\n",
    "ein Lesekopf entlang des Magnetbandes. Ganz entsprechend gibt es auch heute\n",
    "noch einen Zeiger, der auf die aktuelle Position in der Datei verweist. Zu\n",
    "Beginn des Leseprozesses steht dieser Zeiger am Beginn der Datei und nach dem\n",
    "Lesen an deren Ende. Versucht man dann weiterzulesen, so erhält man keine Daten\n",
    "mehr. Im Prinzip kann man den Zeiger zwar beliebig in der Datei neu positionieren,\n",
    "aber diese Möglichkeiten werden bei Textdateien eigentlich nicht benötigt, da\n",
    "wir ja die gesamte Datei bereits eingelesen haben und damit arbeiten können.\n",
    "\n",
    "Da wir noch weitere Möglichkeiten demonstrieren wollen, Daten einzulesen, schließen\n",
    "wir zunächst die Datei wieder um sie dann erneut zu öffnen."
   ]
  },
  {
   "cell_type": "code",
   "execution_count": 7,
   "id": "7259c873",
   "metadata": {},
   "outputs": [
    {
     "name": "stdout",
     "output_type": "stream",
     "text": [
      "True\n"
     ]
    }
   ],
   "source": [
    "datei.close()\n",
    "print(datei.closed)"
   ]
  },
  {
   "cell_type": "markdown",
   "id": "37a00641",
   "metadata": {},
   "source": [
    "Mit der ersten Zeile schließen wir die Datei. In der zweiten Zeile haben wir\n",
    "dann zur Illustration abgeprüft, ob die Datei wirklich geschlossen ist.\n",
    "\n",
    "Vor allem bei größeren Dateien möchte man vielleicht nicht die gesamte Datei\n",
    "auf einmal laden, sondern diese zeilenweise lesen und verarbeiten. Iteriert\n",
    "man in einer `for`-Schleife über das Dateiobjekt, so erhält man die einzelnen\n",
    "Zeilen."
   ]
  },
  {
   "cell_type": "code",
   "execution_count": 8,
   "id": "c6e8abe1",
   "metadata": {},
   "outputs": [
    {
     "name": "stdout",
     "output_type": "stream",
     "text": [
      " 1.37  2.59\n",
      "\n",
      "10.3  -1.3\n",
      "\n",
      " 5.8   2.0\n",
      "\n"
     ]
    }
   ],
   "source": [
    "datei = open('foo.dat')\n",
    "for zeile in datei:\n",
    "    print(zeile)\n",
    "datei.close()"
   ]
  },
  {
   "cell_type": "markdown",
   "id": "65bff674",
   "metadata": {},
   "source": [
    "An den ausgegebenen Leerzeilen erkennen wir, dass das Zeilenumbruchzeichen\n",
    "am Ende der Zeile nicht entfernt wurde.\n",
    "\n",
    "Um das Schließen der Datei unter allen Umständen, also selbst im Fehlerfall,\n",
    "sicherzustellen, bedient man sich in Python normalerweise eines Kontext-Managers.\n",
    "Das vorige Beispiel lässt sich dann folgendermaßen formulieren."
   ]
  },
  {
   "cell_type": "code",
   "execution_count": 9,
   "id": "234e79c6",
   "metadata": {},
   "outputs": [
    {
     "name": "stdout",
     "output_type": "stream",
     "text": [
      " 1.37  2.59\n",
      "\n",
      "10.3  -1.3\n",
      "\n",
      " 5.8   2.0\n",
      "\n"
     ]
    }
   ],
   "source": [
    "with open('foo.dat') as datei:\n",
    "    for zeile in datei:\n",
    "        print(zeile)"
   ]
  },
  {
   "cell_type": "markdown",
   "id": "d9da06d6",
   "metadata": {},
   "source": [
    "Wir erkennen die gewohnte Struktur mit einem Schlüsselwort, das hier `with` lautet,\n",
    "und einem Doppelpunkt am Ende der Zeile. Der darauf folgende eingerückte Block\n",
    "läuft unter Kontrolle des Kontext-Managers, und es ist sichergestellt, dass am\n",
    "Ende des Blocks die Datei geschlossen wird. Neu ist in der erste Zeile die\n",
    "Konstruktion, die das Ergebnis der `open`-Anweisung mit Hilfe des Schlüsselworts\n",
    "`as` der Variablen `datei` zuweist.\n",
    "\n",
    "In unserem konkreten Beispiel möchte man sicherlich auf die einzelnen Gleitkommawerte\n",
    "separat zugreifen, so dass man in der Praxis zunächst einmal die {func}`split`-Methode\n",
    "auf jede Zeile anwendet. Dies funktioniert hier ohne Angabe eines Arguments, da\n",
    "die Trennung dann an *white space*, also insbesondere Leerzeichen oder Tabulatorzeichen\n",
    "erfolgt. Zudem werden solche Zeichen vollständig entfernt, und das schließt auch\n",
    "das Steuerzeichen für den Zeilenumbruch mit ein."
   ]
  },
  {
   "cell_type": "code",
   "execution_count": 10,
   "id": "feda4e98",
   "metadata": {},
   "outputs": [
    {
     "name": "stdout",
     "output_type": "stream",
     "text": [
      "['1.37', '2.59']\n",
      "['10.3', '-1.3']\n",
      "['5.8', '2.0']\n"
     ]
    }
   ],
   "source": [
    "with open('foo.dat') as datei:\n",
    "    for zeile in datei:\n",
    "        print(zeile.split())"
   ]
  },
  {
   "cell_type": "markdown",
   "id": "fc413a26",
   "metadata": {},
   "source": [
    "Allerdings zeigt das Ergebnis, dass beim Einlesen zunächst einmal ausschließlich\n",
    "Zeichenketten vorliegen. Es ist hier also noch erforderlich, die einzelnen\n",
    "Zeilenbestandteile in den richtigen Datentyp umzuwandeln, hier also in Gleitkommazahlen.\n",
    "Natürlich könnte man dazu über jede einzelne Liste iterieren und nach der Umwandlung\n",
    "mit der {func}`float`-Funktion neue Listen aufbauen. In Python lässt sich das leichter\n",
    "und übersichtlicher mit der {func}`map`-Funktion erledigen, wobei die folgende \n",
    "`for`-Schleife lediglich zur Ausgabe dient."
   ]
  },
  {
   "cell_type": "code",
   "execution_count": 11,
   "id": "794dba5f",
   "metadata": {},
   "outputs": [
    {
     "name": "stdout",
     "output_type": "stream",
     "text": [
      "1.37 <class 'float'>\n",
      "2.59 <class 'float'>\n"
     ]
    }
   ],
   "source": [
    "data = map(float, ['1.37', '2.59'])\n",
    "for d in data:\n",
    "    print(d, type(d))"
   ]
  },
  {
   "cell_type": "markdown",
   "id": "575f514b",
   "metadata": {},
   "source": [
    "Im Prinzip könnte man ähnlich vorgehen, wenn die einzelnen Einträge in einer\n",
    "Zeile durch Kommas oder Semikolons getrennt sind. Solche Dateien begegnen einem\n",
    "in der Praxis häufig, wenn Daten mit Excel erfasst wurden und dann im\n",
    "CSV-Format abgespeichert wurden, wobei die Abkürzung CSV für *comma separated\n",
    "values* steht. Anstatt das Einlesen selbst zu programmieren, bietet es sich\n",
    "dann an, auf Funktionen aus der Python-Standardbibliothek zurückzugreifen, in\n",
    "diesem Fall konkret auf das\n",
    "[`csv`-Modul](https://docs.python.org/3/library/csv.html). Eine\n",
    "Programmbibliothek, die diverse Eingabeformate einlesen kann und für das\n",
    "Verarbeiten von strukturierten Daten in Python besonders gut geeignet ist, ist\n",
    "[Pandas](https://pandas.pydata.org/).\n",
    "\n",
    "```{admonition} Weiterführender Hinweis\n",
    "Große Mengen strukturierter Daten werden heute häufig im HDF5-Format gespeichert.\n",
    "Dieses kann von [Pandas](https://pandas.pydata.org/) gelesen werden. Wenn man\n",
    "Pandas jedoch nicht zur Weiterverarbeitung der Daten verwenden möchte, ist es\n",
    "sinnvoll, sich das [`h5py`-Paket](https://www.h5py.org/) anzusehen.\n",
    "\n",
    "Anstatt Parameter wie in {numref}`commandline` beschrieben an ein Programm zu\n",
    "übergeben, werden auch Konfigurationsdateien verwendet, wie man sie als `INI`-Dateien\n",
    "in Windows kennt. Zum Lesen solcher Dateien stellt die Python-Standardbibliothek\n",
    "das [`configparser`-Modul](https://docs.python.org/3/library/configparser.html)\n",
    "zur Verfügung.\n",
    "\n",
    "Beliebte Formate für den Datenaustausch sind unter anderem XML (*eXtensible\n",
    "Markup Language*) und JSON (*JavaScript Object Notation*). Auch diese\n",
    "unterstützt Python in der Standardbibliothek mit einer Reihe von [XML\n",
    "verarbeitenden Modulen](https://docs.python.org/3/library/xml.html)\n",
    "beziehungsweise dem\n",
    "[`json`-Modul](https://docs.python.org/3/library/json.html).\n",
    "\n",
    "Die genannten Pakete unterstützen nicht nur das Lesen der genannten Dateitypen,\n",
    "sondern auch das Schreiben.\n",
    "```\n",
    "\n",
    "## Schreiben von Dateien\n",
    "\n",
    "Genauso wie für das Lesen aus Dateien muss man zum Schreiben in eine\n",
    "Datei diese zunächst öffnen. Hat man das Schreiben beendet, so sollte\n",
    "die Datei wieder geschlossen werden. In Python macht man dies am Einfachsten\n",
    "im Rahmen eines `with`-Kontexts, wie wir ihn schon beim Lesen aus Dateien\n",
    "kennengelernt haben.\n",
    "\n",
    "Im {numref}`readfile` hatten wir gesehen, dass eine Datei defaultmäßig\n",
    "im Modus `r`, also zum Lesen, geöffnet wird. In diesem Modus ist es nicht\n",
    "möglich, in die geöffnete Datei zu schreiben. Statt der {func}`read`-Methode zum\n",
    "Lesen müssen wir hier die {func}`write`-Methode zum Schreiben verwenden, um das\n",
    "Verhalten zu demonstrieren."
   ]
  },
  {
   "cell_type": "code",
   "execution_count": 12,
   "id": "db658aba",
   "metadata": {
    "tags": [
     "raises-exception"
    ]
   },
   "outputs": [
    {
     "ename": "FileNotFoundError",
     "evalue": "[Errno 2] No such file or directory: 'foo.txt'",
     "output_type": "error",
     "traceback": [
      "\u001b[31m---------------------------------------------------------------------------\u001b[39m",
      "\u001b[31mFileNotFoundError\u001b[39m                         Traceback (most recent call last)",
      "\u001b[36mCell\u001b[39m\u001b[36m \u001b[39m\u001b[32mIn[12]\u001b[39m\u001b[32m, line 1\u001b[39m\n\u001b[32m----> \u001b[39m\u001b[32m1\u001b[39m \u001b[38;5;28;01mwith\u001b[39;00m \u001b[38;5;28;43mopen\u001b[39;49m\u001b[43m(\u001b[49m\u001b[33;43m'\u001b[39;49m\u001b[33;43mfoo.txt\u001b[39;49m\u001b[33;43m'\u001b[39;49m\u001b[43m)\u001b[49m \u001b[38;5;28;01mas\u001b[39;00m datei:\n\u001b[32m      2\u001b[39m     datei.write(\u001b[33m'\u001b[39m\u001b[33mDies ist ein Test.\u001b[39m\u001b[33m'\u001b[39m)\n",
      "\u001b[36mFile \u001b[39m\u001b[32m~/work/epriprog/epriprog/.venv/lib/python3.14/site-packages/IPython/core/interactiveshell.py:343\u001b[39m, in \u001b[36m_modified_open\u001b[39m\u001b[34m(file, *args, **kwargs)\u001b[39m\n\u001b[32m    336\u001b[39m \u001b[38;5;28;01mif\u001b[39;00m file \u001b[38;5;129;01min\u001b[39;00m {\u001b[32m0\u001b[39m, \u001b[32m1\u001b[39m, \u001b[32m2\u001b[39m}:\n\u001b[32m    337\u001b[39m     \u001b[38;5;28;01mraise\u001b[39;00m \u001b[38;5;167;01mValueError\u001b[39;00m(\n\u001b[32m    338\u001b[39m         \u001b[33mf\u001b[39m\u001b[33m\"\u001b[39m\u001b[33mIPython won\u001b[39m\u001b[33m'\u001b[39m\u001b[33mt let you open fd=\u001b[39m\u001b[38;5;132;01m{\u001b[39;00mfile\u001b[38;5;132;01m}\u001b[39;00m\u001b[33m by default \u001b[39m\u001b[33m\"\u001b[39m\n\u001b[32m    339\u001b[39m         \u001b[33m\"\u001b[39m\u001b[33mas it is likely to crash IPython. If you know what you are doing, \u001b[39m\u001b[33m\"\u001b[39m\n\u001b[32m    340\u001b[39m         \u001b[33m\"\u001b[39m\u001b[33myou can use builtins\u001b[39m\u001b[33m'\u001b[39m\u001b[33m open.\u001b[39m\u001b[33m\"\u001b[39m\n\u001b[32m    341\u001b[39m     )\n\u001b[32m--> \u001b[39m\u001b[32m343\u001b[39m \u001b[38;5;28;01mreturn\u001b[39;00m \u001b[43mio_open\u001b[49m\u001b[43m(\u001b[49m\u001b[43mfile\u001b[49m\u001b[43m,\u001b[49m\u001b[43m \u001b[49m\u001b[43m*\u001b[49m\u001b[43margs\u001b[49m\u001b[43m,\u001b[49m\u001b[43m \u001b[49m\u001b[43m*\u001b[49m\u001b[43m*\u001b[49m\u001b[43mkwargs\u001b[49m\u001b[43m)\u001b[49m\n",
      "\u001b[31mFileNotFoundError\u001b[39m: [Errno 2] No such file or directory: 'foo.txt'"
     ]
    }
   ],
   "source": [
    "with open('foo.txt') as datei:\n",
    "    datei.write('Dies ist ein Test.')"
   ]
  },
  {
   "cell_type": "markdown",
   "id": "3a2b2a3d",
   "metadata": {},
   "source": [
    "Wenn wir dagegen die Datei im Schreibmodus `w` öffnen, können wir die\n",
    "Datei wie gewünscht schreiben."
   ]
  },
  {
   "cell_type": "code",
   "execution_count": 13,
   "id": "21cd288b",
   "metadata": {},
   "outputs": [],
   "source": [
    "with open('foo.txt', mode='w') as datei:\n",
    "    datei.write('Dies ist ein Test.')"
   ]
  },
  {
   "cell_type": "markdown",
   "id": "d3a643e0",
   "metadata": {},
   "source": [
    "Das Ergebnis können wir uns wie in {numref}`readfile` mit dem magischen\n",
    "Befehl `%cat` in einer Notebook-Zelle ansehen."
   ]
  },
  {
   "cell_type": "code",
   "execution_count": 14,
   "id": "5fe97e33",
   "metadata": {},
   "outputs": [
    {
     "name": "stdout",
     "output_type": "stream",
     "text": [
      "Dies ist ein Test."
     ]
    }
   ],
   "source": [
    "%cat foo.txt"
   ]
  },
  {
   "cell_type": "markdown",
   "id": "52ba7810",
   "metadata": {},
   "source": [
    "Im Zusammenhang mit der {func}`write`-Methode ist allerdings zu beachten, dass\n",
    "diese im Gegensatz zur {func}`print`-Funktion nicht automatisch einen\n",
    "Zeilenumbruch anhängt. Im folgenden Beispiel verzichten wir darauf, beim\n",
    "zweiten Argument das Schlüsselwort `mode` anzugeben, da dieses Argument\n",
    "an der richtigen Position steht. Es spricht aber natürlich nichts dagegen,\n",
    "das Schlüsselwort zur Verdeutlichung anzugeben."
   ]
  },
  {
   "cell_type": "code",
   "execution_count": 15,
   "id": "3d1b4c52",
   "metadata": {},
   "outputs": [],
   "source": [
    "with open('foo.txt', 'w') as datei:\n",
    "    for n in range(1, 4):\n",
    "        datei.write(f'Zeile {n}')"
   ]
  },
  {
   "cell_type": "code",
   "execution_count": 16,
   "id": "286b6387",
   "metadata": {},
   "outputs": [
    {
     "name": "stdout",
     "output_type": "stream",
     "text": [
      "Zeile 1Zeile 2Zeile 3"
     ]
    }
   ],
   "source": [
    "%cat foo.txt"
   ]
  },
  {
   "cell_type": "markdown",
   "id": "66afbc09",
   "metadata": {},
   "source": [
    "Dieses Verhalten entspricht dem, was wir von der {func}`print`-Funktion kennen,\n",
    "wenn wir `end=''` setzen. Wollen wir einen Zeilenumbruch erreichen, so müssen\n",
    "wir das entsprechende Steuerzeichen explizit angeben."
   ]
  },
  {
   "cell_type": "code",
   "execution_count": 17,
   "id": "cf2106b9",
   "metadata": {},
   "outputs": [],
   "source": [
    "with open('foo.txt', 'w') as datei:\n",
    "    for n in range(1, 4):\n",
    "        datei.write(f'Zeile {n}\\n')"
   ]
  },
  {
   "cell_type": "code",
   "execution_count": 18,
   "id": "4820d7c9",
   "metadata": {},
   "outputs": [
    {
     "name": "stdout",
     "output_type": "stream",
     "text": [
      "Zeile 1\r\n",
      "Zeile 2\r\n",
      "Zeile 3\r\n"
     ]
    }
   ],
   "source": [
    "%cat foo.txt"
   ]
  },
  {
   "cell_type": "markdown",
   "id": "a82d50d3",
   "metadata": {},
   "source": [
    "Die Möglichkeiten der Formatierung in f-Strings hatten wir in einigem\n",
    "Detail in {numref}`formatierung` besprochen, auf das wir an dieser Stelle\n",
    "verweisen wollen.\n",
    "\n",
    "Benutzt man den Modus `w` zum Öffnen einer Datei zum Schreiben, muss man sich\n",
    "bewusst sein, dass eine eventuell bereits existierende Datei mit diesem Namen\n",
    "zunächst gelöscht wird. Dies gilt zumindest, wenn man auf der Ebene des\n",
    "Betriebssystems die Rechte dazu besitzt. Je nach Situation kann dies das\n",
    "erwünschte Verhalten sein oder es stört einen zumindest nicht. Es gibt jedoch\n",
    "Anwendungen, in denen man einen alternativen Modus verwenden wird.\n",
    "\n",
    "Statt des Modus `w` kann man den Modus `x` verwenden, der die Datei nur dann\n",
    "zum Schreiben öffnen wird, wenn eine Datei mit dem betreffenden Namen noch\n",
    "nicht existiert. Dies können wir anhand der Datei `foo.txt` demonstrieren,\n",
    "die wir ja gerade geschrieben hatten."
   ]
  },
  {
   "cell_type": "code",
   "execution_count": 19,
   "id": "48566cd7",
   "metadata": {
    "tags": [
     "raises-exception"
    ]
   },
   "outputs": [
    {
     "ename": "FileExistsError",
     "evalue": "[Errno 17] File exists: 'foo.txt'",
     "output_type": "error",
     "traceback": [
      "\u001b[31m---------------------------------------------------------------------------\u001b[39m",
      "\u001b[31mFileExistsError\u001b[39m                           Traceback (most recent call last)",
      "\u001b[36mCell\u001b[39m\u001b[36m \u001b[39m\u001b[32mIn[19]\u001b[39m\u001b[32m, line 1\u001b[39m\n\u001b[32m----> \u001b[39m\u001b[32m1\u001b[39m \u001b[38;5;28;01mwith\u001b[39;00m \u001b[38;5;28;43mopen\u001b[39;49m\u001b[43m(\u001b[49m\u001b[33;43m'\u001b[39;49m\u001b[33;43mfoo.txt\u001b[39;49m\u001b[33;43m'\u001b[39;49m\u001b[43m,\u001b[49m\u001b[43m \u001b[49m\u001b[33;43m'\u001b[39;49m\u001b[33;43mx\u001b[39;49m\u001b[33;43m'\u001b[39;49m\u001b[43m)\u001b[49m \u001b[38;5;28;01mas\u001b[39;00m datei:\n\u001b[32m      2\u001b[39m     \u001b[38;5;28;01mfor\u001b[39;00m n \u001b[38;5;129;01min\u001b[39;00m \u001b[38;5;28mrange\u001b[39m(\u001b[32m1\u001b[39m, \u001b[32m4\u001b[39m):\n\u001b[32m      3\u001b[39m         datei.write(\u001b[33mf\u001b[39m\u001b[33m'\u001b[39m\u001b[33mZeile \u001b[39m\u001b[38;5;132;01m{\u001b[39;00mn\u001b[38;5;132;01m}\u001b[39;00m\u001b[38;5;130;01m\\n\u001b[39;00m\u001b[33m'\u001b[39m)\n",
      "\u001b[36mFile \u001b[39m\u001b[32m~/work/epriprog/epriprog/.venv/lib/python3.14/site-packages/IPython/core/interactiveshell.py:343\u001b[39m, in \u001b[36m_modified_open\u001b[39m\u001b[34m(file, *args, **kwargs)\u001b[39m\n\u001b[32m    336\u001b[39m \u001b[38;5;28;01mif\u001b[39;00m file \u001b[38;5;129;01min\u001b[39;00m {\u001b[32m0\u001b[39m, \u001b[32m1\u001b[39m, \u001b[32m2\u001b[39m}:\n\u001b[32m    337\u001b[39m     \u001b[38;5;28;01mraise\u001b[39;00m \u001b[38;5;167;01mValueError\u001b[39;00m(\n\u001b[32m    338\u001b[39m         \u001b[33mf\u001b[39m\u001b[33m\"\u001b[39m\u001b[33mIPython won\u001b[39m\u001b[33m'\u001b[39m\u001b[33mt let you open fd=\u001b[39m\u001b[38;5;132;01m{\u001b[39;00mfile\u001b[38;5;132;01m}\u001b[39;00m\u001b[33m by default \u001b[39m\u001b[33m\"\u001b[39m\n\u001b[32m    339\u001b[39m         \u001b[33m\"\u001b[39m\u001b[33mas it is likely to crash IPython. If you know what you are doing, \u001b[39m\u001b[33m\"\u001b[39m\n\u001b[32m    340\u001b[39m         \u001b[33m\"\u001b[39m\u001b[33myou can use builtins\u001b[39m\u001b[33m'\u001b[39m\u001b[33m open.\u001b[39m\u001b[33m\"\u001b[39m\n\u001b[32m    341\u001b[39m     )\n\u001b[32m--> \u001b[39m\u001b[32m343\u001b[39m \u001b[38;5;28;01mreturn\u001b[39;00m \u001b[43mio_open\u001b[49m\u001b[43m(\u001b[49m\u001b[43mfile\u001b[49m\u001b[43m,\u001b[49m\u001b[43m \u001b[49m\u001b[43m*\u001b[49m\u001b[43margs\u001b[49m\u001b[43m,\u001b[49m\u001b[43m \u001b[49m\u001b[43m*\u001b[49m\u001b[43m*\u001b[49m\u001b[43mkwargs\u001b[49m\u001b[43m)\u001b[49m\n",
      "\u001b[31mFileExistsError\u001b[39m: [Errno 17] File exists: 'foo.txt'"
     ]
    }
   ],
   "source": [
    "with open('foo.txt', 'x') as datei:\n",
    "    for n in range(1, 4):\n",
    "        datei.write(f'Zeile {n}\\n')"
   ]
  },
  {
   "cell_type": "markdown",
   "id": "003d8411",
   "metadata": {},
   "source": [
    "Der Versuch, in eine existierende Datei zu schreiben, wird also beim Modus\n",
    "`x` unterbunden.\n",
    "\n",
    "Es kann aber auch vorkommen, dass man in einer bereits existierenden Datei\n",
    "am Ende der Datei weiterschreiben möchte. Hierzu ist der Modus `a` für *append*\n",
    "vorgesehen. Ein Anwendungsfall kann darin bestehen, Probleme durch das Puffern\n",
    "der Ausgabe, die wir am Ende von {numref}`commandline` besprochen hatten, zu\n",
    "umgehen. So könnte man bei einem Programm mit langer Laufzeit, bei dem in\n",
    "größeren Abständen Daten geschrieben werden, die Datei nur unmittelbar zum\n",
    "Schreiben der Daten wieder öffnen und anschließend wieder schließen. Bei einem\n",
    "Programmabbruch gehen damit die bereits ausgegebenen Daten nicht verloren.\n",
    "Dieses Vorgehen ist allerdings nur dann sinnvoll, wenn die Zeiten zwischen\n",
    "den Schreibvorgängen nicht zu kurz sind, da sonst der Aufwand für das Öffnen\n",
    "und Schließen der Datei das Programm ausbremsen würde.\n",
    "\n",
    "Im folgenden Beispiel demonstrieren wir mit Hilfe einer Schleife außerhalb des\n",
    "`with`-Kontexts das wiederholte Anhängen an eine Datei. Zudem überprüfen wir,\n",
    "dass die Datei jeweils wieder geschlossen wurde."
   ]
  },
  {
   "cell_type": "code",
   "execution_count": 20,
   "id": "3e4e87e8",
   "metadata": {},
   "outputs": [
    {
     "name": "stdout",
     "output_type": "stream",
     "text": [
      "09:01:52 - Datei geschlossen\n"
     ]
    },
    {
     "name": "stdout",
     "output_type": "stream",
     "text": [
      "09:01:57 - Datei geschlossen\n"
     ]
    },
    {
     "name": "stdout",
     "output_type": "stream",
     "text": [
      "09:02:02 - Datei geschlossen\n"
     ]
    },
    {
     "name": "stdout",
     "output_type": "stream",
     "text": [
      "09:02:07 - Datei geschlossen\n"
     ]
    }
   ],
   "source": [
    "from datetime import datetime\n",
    "from time import sleep\n",
    "\n",
    "for n in range(1, 5):\n",
    "    sleep(5)\n",
    "    now = datetime.now()\n",
    "    with open('spam.dat', 'a') as datei:\n",
    "        msg = f'{now:%H:%M:%S} - Durchlauf {n}\\n'\n",
    "        datei.write(msg)\n",
    "    if datei.closed:\n",
    "        msg = f'{now:%H:%M:%S} - Datei geschlossen'\n",
    "        print(msg)"
   ]
  },
  {
   "cell_type": "code",
   "execution_count": 21,
   "id": "b75d9de3",
   "metadata": {},
   "outputs": [
    {
     "name": "stdout",
     "output_type": "stream",
     "text": [
      "09:01:52 - Durchlauf 1\r\n",
      "09:01:57 - Durchlauf 2\r\n",
      "09:02:02 - Durchlauf 3\r\n",
      "09:02:07 - Durchlauf 4\r\n"
     ]
    }
   ],
   "source": [
    "%cat spam.dat"
   ]
  },
  {
   "cell_type": "markdown",
   "id": "12f63c37",
   "metadata": {},
   "source": [
    "Möchte man mehrere Dateien schreiben, weil man beispielsweise Rechnungen für\n",
    "mehrere Parametersätze durchführen möchte, sollte man im Hinterkopf behalten,\n",
    "dass es sich bei dem Namen, der beim Öffnen der Datei angegeben werden muss, \n",
    "einfach um eine Zeichenkette handelt, die entsprechend konstruiert werden \n",
    "kann. So hat man die Möglichkeit, entweder Parameter im Dateinamen unterzubringen\n",
    "oder die Dateien durchzunummerieren. Wir wollen letzteres an einem Beispiel\n",
    "demonstrieren."
   ]
  },
  {
   "cell_type": "code",
   "execution_count": 22,
   "id": "d2d21cfb",
   "metadata": {},
   "outputs": [],
   "source": [
    "for n in range(1, 16):\n",
    "    with open(f'mydata_{n:04}.dat', 'w') as datei:\n",
    "        datei.write(f'Datei Nr. {n}\\n')"
   ]
  },
  {
   "cell_type": "code",
   "execution_count": 23,
   "id": "69c02519",
   "metadata": {},
   "outputs": [
    {
     "name": "stdout",
     "output_type": "stream",
     "text": [
      "mydata_0001.dat  mydata_0005.dat  mydata_0009.dat  mydata_0013.dat\r\n",
      "mydata_0002.dat  mydata_0006.dat  mydata_0010.dat  mydata_0014.dat\r\n",
      "mydata_0003.dat  mydata_0007.dat  mydata_0011.dat  mydata_0015.dat\r\n",
      "mydata_0004.dat  mydata_0008.dat  mydata_0012.dat\r\n"
     ]
    }
   ],
   "source": [
    "%ls mydata*.dat"
   ]
  },
  {
   "cell_type": "markdown",
   "id": "8310b6cf",
   "metadata": {},
   "source": [
    "Um eine übersichtliche Sortierung der Dateien zu erzeugen, ist es sinnvoll,\n",
    "für die Nummer der Datei ein hinreichend breites Feld vorzusehen und die\n",
    "freien Stellen mit Nullen zu füllen.\n",
    "\n",
    "Ganz unabhängig davon, wie man den Dateinamen wählt, ist es sinnvoll,\n",
    "Informationen, die erforderlich sind um die Daten zu erzeugen, zu Beginn der\n",
    "Datei abzuspeichern. Dazu gehören nicht nur die verwendeten Parameter, sondern\n",
    "auch Information über die verwendete Programmversion. Damit lässt sich im Fall\n",
    "eines Fehlers im Programm auch im Nachhinein entscheiden, ob die Daten hiervon\n",
    "betroffen sind."
   ]
  }
 ],
 "metadata": {
  "file_format": "mystnb",
  "kernelspec": {
   "display_name": "python3",
   "name": "python3"
  },
  "language_info": {
   "codemirror_mode": {
    "name": "ipython",
    "version": 3
   },
   "file_extension": ".py",
   "mimetype": "text/x-python",
   "name": "python",
   "nbconvert_exporter": "python",
   "pygments_lexer": "ipython3",
   "version": "3.14.0"
  },
  "source_map": [
   5,
   233,
   235,
   238,
   241,
   262,
   267,
   275,
   278,
   286,
   288,
   292,
   294,
   309,
   312,
   320,
   325,
   332,
   336,
   350,
   354,
   362,
   366,
   416,
   422,
   425,
   428,
   431,
   433,
   441,
   446,
   448,
   452,
   457,
   459,
   475,
   482,
   501,
   515,
   517,
   526,
   531,
   533
  ]
 },
 "nbformat": 4,
 "nbformat_minor": 5
}